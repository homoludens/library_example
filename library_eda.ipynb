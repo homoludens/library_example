{
 "cells": [
  {
   "cell_type": "code",
   "execution_count": null,
   "id": "9a057535-a189-4623-a391-6534cd1a2286",
   "metadata": {},
   "outputs": [],
   "source": [
    "# "
   ]
  },
  {
   "cell_type": "code",
   "execution_count": null,
   "id": "c419a070-cdc6-482f-91e5-964fd5b20dc1",
   "metadata": {},
   "outputs": [],
   "source": []
  },
  {
   "cell_type": "code",
   "execution_count": null,
   "id": "6eb770f6-8ff2-4718-bc06-b08011b8fb30",
   "metadata": {},
   "outputs": [],
   "source": []
  },
  {
   "cell_type": "code",
   "execution_count": 633,
   "id": "d7a2d989-f585-4bab-9a99-f2d4f97d522d",
   "metadata": {},
   "outputs": [],
   "source": [
    "import pandas as pd\n",
    "from pathlib import Path\n",
    "import sqlite3\n",
    "from datetime import datetime\n",
    "import traceback\n",
    "import dtale\n",
    "import re\n",
    "import math\n",
    "import geopandas as gpd"
   ]
  },
  {
   "cell_type": "markdown",
   "id": "40733359-5607-43f6-89f5-b12d384146b9",
   "metadata": {},
   "source": [
    "# Move data to sql database for easier querying and connectecting"
   ]
  },
  {
   "cell_type": "code",
   "execution_count": 23,
   "id": "11093964-7db7-4f92-84e9-d28253ca03cb",
   "metadata": {},
   "outputs": [
    {
     "data": {
      "text/plain": [
       "[PosixPath('data/books.csv'),\n",
       " PosixPath('data/libraries.csv'),\n",
       " PosixPath('data/checkouts.csv'),\n",
       " PosixPath('data/customers.csv')]"
      ]
     },
     "execution_count": 23,
     "metadata": {},
     "output_type": "execute_result"
    }
   ],
   "source": [
    "list(Path('data').glob('*.csv'))"
   ]
  },
  {
   "cell_type": "code",
   "execution_count": 18,
   "id": "e54aa1f8-74cc-446f-84b3-a4b2fc9fe832",
   "metadata": {},
   "outputs": [],
   "source": []
  },
  {
   "cell_type": "code",
   "execution_count": 19,
   "id": "c5c49423-7b90-4de7-ab46-5391f09407ef",
   "metadata": {},
   "outputs": [],
   "source": [
    "# str(a)"
   ]
  },
  {
   "cell_type": "code",
   "execution_count": null,
   "id": "f314599e-1be6-4e07-9ff0-f07ed7b564ca",
   "metadata": {},
   "outputs": [],
   "source": []
  },
  {
   "cell_type": "code",
   "execution_count": 22,
   "id": "d797b917-038b-4dae-bb23-b35fdcc6bf2a",
   "metadata": {},
   "outputs": [],
   "source": [
    "conn = sqlite3.connect(\"data/library_example.db\")  # This will create 'example.db' in the current directory\n",
    "\n",
    "# conn.close()"
   ]
  },
  {
   "cell_type": "code",
   "execution_count": 21,
   "id": "c3416f30-14aa-4583-b6be-24d0c9328b76",
   "metadata": {},
   "outputs": [
    {
     "name": "stdout",
     "output_type": "stream",
     "text": [
      "books\n",
      "libraries\n",
      "checkouts\n",
      "customers\n"
     ]
    }
   ],
   "source": [
    "for csv_path in Path('data').glob('*.csv'):\n",
    "    table_name = csv_path.stem\n",
    "    print(table_name)\n",
    "    temp_df = pd.read_csv(csv_path)\n",
    "    temp_df.to_sql(name=table_name, con=conn, if_exists=\"replace\", index=False)\n",
    "\n",
    "conn.close()"
   ]
  },
  {
   "cell_type": "code",
   "execution_count": 131,
   "id": "9972f935-d15e-4eba-ae06-ad443c0fec76",
   "metadata": {},
   "outputs": [],
   "source": [
    "checkouts_df = pd.read_csv('data/checkouts.csv')"
   ]
  },
  {
   "cell_type": "code",
   "execution_count": 103,
   "id": "85cdea96-b340-48d9-b879-3dd35ef8acdc",
   "metadata": {},
   "outputs": [
    {
     "data": {
      "text/html": [
       "<div>\n",
       "<style scoped>\n",
       "    .dataframe tbody tr th:only-of-type {\n",
       "        vertical-align: middle;\n",
       "    }\n",
       "\n",
       "    .dataframe tbody tr th {\n",
       "        vertical-align: top;\n",
       "    }\n",
       "\n",
       "    .dataframe thead th {\n",
       "        text-align: right;\n",
       "    }\n",
       "</style>\n",
       "<table border=\"1\" class=\"dataframe\">\n",
       "  <thead>\n",
       "    <tr style=\"text-align: right;\">\n",
       "      <th></th>\n",
       "      <th>id</th>\n",
       "      <th>patron_id</th>\n",
       "      <th>library_id</th>\n",
       "      <th>date_checkout</th>\n",
       "      <th>date_returned</th>\n",
       "    </tr>\n",
       "  </thead>\n",
       "  <tbody>\n",
       "    <tr>\n",
       "      <th>0</th>\n",
       "      <td>-xFj0vTLbRIC</td>\n",
       "      <td>b071c9c68228a2b1d00e6f53677e16da</td>\n",
       "      <td>225-222@5xc-jtz-hkf</td>\n",
       "      <td>2019-01-28</td>\n",
       "      <td>2018-11-13</td>\n",
       "    </tr>\n",
       "    <tr>\n",
       "      <th>1</th>\n",
       "      <td>HUX-y4oXl04C</td>\n",
       "      <td>8d3f63e1deed89d7ba1bf6a4eb101373</td>\n",
       "      <td>223-222@5xc-jxr-tgk</td>\n",
       "      <td>2018-05-29</td>\n",
       "      <td>2018-06-12</td>\n",
       "    </tr>\n",
       "  </tbody>\n",
       "</table>\n",
       "</div>"
      ],
      "text/plain": [
       "             id                         patron_id           library_id  \\\n",
       "0  -xFj0vTLbRIC  b071c9c68228a2b1d00e6f53677e16da  225-222@5xc-jtz-hkf   \n",
       "1  HUX-y4oXl04C  8d3f63e1deed89d7ba1bf6a4eb101373  223-222@5xc-jxr-tgk   \n",
       "\n",
       "  date_checkout date_returned  \n",
       "0    2019-01-28    2018-11-13  \n",
       "1    2018-05-29    2018-06-12  "
      ]
     },
     "execution_count": 103,
     "metadata": {},
     "output_type": "execute_result"
    }
   ],
   "source": [
    "checkouts_df.head(2)"
   ]
  },
  {
   "cell_type": "code",
   "execution_count": 104,
   "id": "759ed0e3-5b50-4d47-8b13-702e060948ee",
   "metadata": {},
   "outputs": [
    {
     "name": "stdout",
     "output_type": "stream",
     "text": [
      "<class 'pandas.core.frame.DataFrame'>\n",
      "RangeIndex: 2000 entries, 0 to 1999\n",
      "Data columns (total 5 columns):\n",
      " #   Column         Non-Null Count  Dtype \n",
      "---  ------         --------------  ----- \n",
      " 0   id             2000 non-null   object\n",
      " 1   patron_id      2000 non-null   object\n",
      " 2   library_id     2000 non-null   object\n",
      " 3   date_checkout  1935 non-null   object\n",
      " 4   date_returned  1942 non-null   object\n",
      "dtypes: object(5)\n",
      "memory usage: 78.3+ KB\n"
     ]
    }
   ],
   "source": [
    "checkouts_df.info()"
   ]
  },
  {
   "cell_type": "code",
   "execution_count": 105,
   "id": "e3ab44ac-8e9e-4742-b92b-c9a7c5577daa",
   "metadata": {},
   "outputs": [],
   "source": [
    "# checkouts_df['date_checkout'] = pd.to_datetime(checkouts_df['date_checkout'], format='mixed')\n",
    "# checkouts_df['date_returned'] = pd.to_datetime(checkouts_df['date_returned'], format='mixed')"
   ]
  },
  {
   "cell_type": "code",
   "execution_count": 106,
   "id": "94ce787c-bbfd-4606-81a8-d7673ae60c65",
   "metadata": {},
   "outputs": [],
   "source": [
    "# date_str"
   ]
  },
  {
   "cell_type": "markdown",
   "id": "21635b80-5d3b-4a33-a452-cd081e78707d",
   "metadata": {},
   "source": [
    "Since PDF with assigments has been created 2021-04-09, and dataset has not 2021 and 2017 in it, I will use those as cutoff dates."
   ]
  },
  {
   "cell_type": "code",
   "execution_count": 135,
   "id": "c348d025-9c47-470a-a3b3-41cba2a55712",
   "metadata": {},
   "outputs": [
    {
     "data": {
      "text/html": [
       "<div>\n",
       "<style scoped>\n",
       "    .dataframe tbody tr th:only-of-type {\n",
       "        vertical-align: middle;\n",
       "    }\n",
       "\n",
       "    .dataframe tbody tr th {\n",
       "        vertical-align: top;\n",
       "    }\n",
       "\n",
       "    .dataframe thead th {\n",
       "        text-align: right;\n",
       "    }\n",
       "</style>\n",
       "<table border=\"1\" class=\"dataframe\">\n",
       "  <thead>\n",
       "    <tr style=\"text-align: right;\">\n",
       "      <th></th>\n",
       "      <th>id</th>\n",
       "      <th>patron_id</th>\n",
       "      <th>library_id</th>\n",
       "      <th>date_checkout</th>\n",
       "      <th>date_returned</th>\n",
       "    </tr>\n",
       "  </thead>\n",
       "  <tbody>\n",
       "  </tbody>\n",
       "</table>\n",
       "</div>"
      ],
      "text/plain": [
       "Empty DataFrame\n",
       "Columns: [id, patron_id, library_id, date_checkout, date_returned]\n",
       "Index: []"
      ]
     },
     "execution_count": 135,
     "metadata": {},
     "output_type": "execute_result"
    }
   ],
   "source": [
    "checkouts_df[\"date_returned\"] = checkouts_df[\"date_returned\"].fillna('')\n",
    "checkouts_df[checkouts_df[\"date_returned\"].str.contains('2021')]\n"
   ]
  },
  {
   "cell_type": "code",
   "execution_count": 136,
   "id": "1c768351-e509-42f9-9248-7feaf0262d84",
   "metadata": {},
   "outputs": [
    {
     "data": {
      "text/html": [
       "<div>\n",
       "<style scoped>\n",
       "    .dataframe tbody tr th:only-of-type {\n",
       "        vertical-align: middle;\n",
       "    }\n",
       "\n",
       "    .dataframe tbody tr th {\n",
       "        vertical-align: top;\n",
       "    }\n",
       "\n",
       "    .dataframe thead th {\n",
       "        text-align: right;\n",
       "    }\n",
       "</style>\n",
       "<table border=\"1\" class=\"dataframe\">\n",
       "  <thead>\n",
       "    <tr style=\"text-align: right;\">\n",
       "      <th></th>\n",
       "      <th>id</th>\n",
       "      <th>patron_id</th>\n",
       "      <th>library_id</th>\n",
       "      <th>date_checkout</th>\n",
       "      <th>date_returned</th>\n",
       "    </tr>\n",
       "  </thead>\n",
       "  <tbody>\n",
       "  </tbody>\n",
       "</table>\n",
       "</div>"
      ],
      "text/plain": [
       "Empty DataFrame\n",
       "Columns: [id, patron_id, library_id, date_checkout, date_returned]\n",
       "Index: []"
      ]
     },
     "execution_count": 136,
     "metadata": {},
     "output_type": "execute_result"
    }
   ],
   "source": [
    "checkouts_df[\"date_checkout\"] = checkouts_df[\"date_checkout\"].fillna('')\n",
    "checkouts_df[checkouts_df[\"date_checkout\"].str.contains('2021')]"
   ]
  },
  {
   "cell_type": "code",
   "execution_count": 999,
   "id": "ddcb3122-c98c-4766-b1ff-e3c8ff6fa3f7",
   "metadata": {},
   "outputs": [],
   "source": [
    "checkouts_df = pd.read_csv('data/checkouts.csv')"
   ]
  },
  {
   "cell_type": "code",
   "execution_count": 1000,
   "id": "a0270a15-8b99-47a3-9f93-ba3b199a13b5",
   "metadata": {},
   "outputs": [],
   "source": [
    "checkouts_df[\"date_checkout\"] = checkouts_df[\"date_checkout\"].fillna('2017-12-31') # this is bad data\n",
    "checkouts_df[\"date_returned\"] = checkouts_df[\"date_returned\"].fillna('2021-04-09') # not yet returned"
   ]
  },
  {
   "cell_type": "markdown",
   "id": "099b37de-0da9-4f4e-9b25-f28661d9fe6a",
   "metadata": {},
   "source": [
    "We have many different date formats, dates in the past, dates in the future. This would prompt me to get in touch with aplicaiton developers to implement data verification on data entry form. This is not only affecting our analisys, but work of the libraries.  "
   ]
  },
  {
   "cell_type": "code",
   "execution_count": 1001,
   "id": "01ca2b27-104c-4f40-a2eb-2176534855ea",
   "metadata": {},
   "outputs": [],
   "source": [
    "date_formats = [\"%Y-%m-%d\", \"%Y/%m/%d\" , \"%Y%m%d\", \"%Y|%m|%d\", \"%Y %m %d\", \"%Y\", \"%Y-%m\"]\n",
    "\n",
    "# Function to check if a date matches any of the specified formats\n",
    "def is_valid_date(date_str, formats):\n",
    "    date_str = date_str.replace('%', '')\n",
    "    date_str = date_str.strip()\n",
    "\n",
    "    for fmt in formats:\n",
    "        try:\n",
    "            # Try to parse the date with the current format\n",
    "            return datetime.strptime(date_str, fmt)\n",
    "        except Exception as e:\n",
    "\n",
    "            continue\n",
    "    print(date_str)\n",
    "    return None \n",
    "\n",
    "\n",
    "# Apply the function to check validity of each date\n",
    "checkouts_df[\"date_checkout\"] = checkouts_df[\"date_checkout\"].apply(lambda x: is_valid_date(x, date_formats))\n",
    "checkouts_df[\"date_returned\"] = checkouts_df[\"date_returned\"].apply(lambda x: is_valid_date(x, date_formats))"
   ]
  },
  {
   "cell_type": "code",
   "execution_count": null,
   "id": "f970fc24-3763-492e-a137-2e1049a66973",
   "metadata": {},
   "outputs": [],
   "source": []
  },
  {
   "cell_type": "code",
   "execution_count": 1002,
   "id": "6afec950-b02d-43a1-81eb-14fc741ff1dd",
   "metadata": {},
   "outputs": [],
   "source": [
    "checkouts_df['length'] = checkouts_df.date_returned - checkouts_df.date_checkout\n",
    "checkouts_df['length'] = checkouts_df.length.dt.days"
   ]
  },
  {
   "cell_type": "code",
   "execution_count": null,
   "id": "6fceeb50-bee2-4990-94de-44024488fd2a",
   "metadata": {},
   "outputs": [],
   "source": []
  },
  {
   "cell_type": "code",
   "execution_count": 1003,
   "id": "3e5b2698-1d86-4109-b1f7-a7aaabc148b8",
   "metadata": {},
   "outputs": [
    {
     "data": {
      "text/plain": [
       "(155, 6)"
      ]
     },
     "execution_count": 1003,
     "metadata": {},
     "output_type": "execute_result"
    }
   ],
   "source": [
    "# date_checkout before 2018-01-01 are all 1800 and invalid, including 2017-12-31 which is NA\n",
    "checkouts_df[checkouts_df.date_checkout<='2017-12-31'].shape "
   ]
  },
  {
   "cell_type": "code",
   "execution_count": 1004,
   "id": "bdb0f09e-8d1b-478f-aa0c-e62fb7953d87",
   "metadata": {},
   "outputs": [],
   "source": [
    "checkouts_df = checkouts_df[checkouts_df.date_checkout>'2017-12-31']"
   ]
  },
  {
   "cell_type": "markdown",
   "id": "2cc6e82c-abd0-4396-8880-e919fdda8049",
   "metadata": {},
   "source": [
    "loans retruned after 2021-04-09 are illegal dates, not contributing to our analisys"
   ]
  },
  {
   "cell_type": "code",
   "execution_count": 1005,
   "id": "1dbbeb1a-cb59-4184-9786-7348825d48c8",
   "metadata": {},
   "outputs": [
    {
     "data": {
      "text/plain": [
       "(95, 6)"
      ]
     },
     "execution_count": 1005,
     "metadata": {},
     "output_type": "execute_result"
    }
   ],
   "source": [
    "checkouts_df[checkouts_df.date_returned>'2021-04-09'].shape"
   ]
  },
  {
   "cell_type": "code",
   "execution_count": 1006,
   "id": "ada8858c-24aa-4a05-b976-c53773130875",
   "metadata": {},
   "outputs": [
    {
     "data": {
      "text/plain": [
       "(58, 6)"
      ]
     },
     "execution_count": 1006,
     "metadata": {},
     "output_type": "execute_result"
    }
   ],
   "source": [
    "checkouts_df[checkouts_df.date_returned=='2021-04-09'].shape"
   ]
  },
  {
   "cell_type": "code",
   "execution_count": 1007,
   "id": "45d664ce-50e1-4646-bdf8-4d205b0c3e20",
   "metadata": {},
   "outputs": [],
   "source": [
    "checkouts_df = checkouts_df[checkouts_df.date_returned<='2021-04-09']"
   ]
  },
  {
   "cell_type": "code",
   "execution_count": 1008,
   "id": "a7437216-bc4a-49f2-9885-d394b7251745",
   "metadata": {},
   "outputs": [
    {
     "data": {
      "text/plain": [
       "(241, 6)"
      ]
     },
     "execution_count": 1008,
     "metadata": {},
     "output_type": "execute_result"
    }
   ],
   "source": [
    "checkouts_df[checkouts_df.length<0].shape"
   ]
  },
  {
   "cell_type": "code",
   "execution_count": 1009,
   "id": "389f5461-6e0e-4b05-9d4b-137167d52443",
   "metadata": {},
   "outputs": [],
   "source": [
    "checkouts_df = checkouts_df[~checkouts_df.length<0]"
   ]
  },
  {
   "cell_type": "code",
   "execution_count": 1010,
   "id": "bbfe8c30-64b2-4ee2-ae9e-912400b565bc",
   "metadata": {},
   "outputs": [
    {
     "data": {
      "text/plain": [
       "(1319, 6)"
      ]
     },
     "execution_count": 1010,
     "metadata": {},
     "output_type": "execute_result"
    }
   ],
   "source": [
    "checkouts_df[checkouts_df.length<=28].shape"
   ]
  },
  {
   "cell_type": "code",
   "execution_count": 1011,
   "id": "9f73cc92-54c0-4f99-ae71-ab5599b0247e",
   "metadata": {},
   "outputs": [
    {
     "data": {
      "text/plain": [
       "(1319, 6)"
      ]
     },
     "execution_count": 1011,
     "metadata": {},
     "output_type": "execute_result"
    }
   ],
   "source": [
    "checkouts_df[checkouts_df.length<=28].shape"
   ]
  },
  {
   "cell_type": "code",
   "execution_count": null,
   "id": "7fb5e5fc-3329-4e70-b508-21c2211b61c7",
   "metadata": {},
   "outputs": [],
   "source": []
  },
  {
   "cell_type": "code",
   "execution_count": null,
   "id": "0fa4b69e-aebd-472f-a4d5-508b81eacf19",
   "metadata": {},
   "outputs": [],
   "source": []
  },
  {
   "cell_type": "code",
   "execution_count": 1012,
   "id": "f19587d3-d836-4ac9-a395-eb17371ff79e",
   "metadata": {},
   "outputs": [
    {
     "data": {
      "text/plain": [
       "<Axes: >"
      ]
     },
     "execution_count": 1012,
     "metadata": {},
     "output_type": "execute_result"
    },
    {
     "data": {
      "image/png": "[encoded data removed]",
      "text/plain": [
       "<Figure size 640x480 with 1 Axes>"
      ]
     },
     "metadata": {},
     "output_type": "display_data"
    }
   ],
   "source": [
    "checkouts_df[checkouts_df.length<=28].length.hist()"
   ]
  },
  {
   "cell_type": "code",
   "execution_count": null,
   "id": "256e2442-18d5-4f26-a4d0-cf5df4978fbf",
   "metadata": {},
   "outputs": [],
   "source": []
  },
  {
   "cell_type": "markdown",
   "id": "ebe8b69a-04a6-4a3d-828e-1e171c451859",
   "metadata": {},
   "source": [
    "Data looks sythetic, I would expect  Poisson Probability Distribution here, while this is more uniform, let's see further. Maybe 28 day cutoff is affecting distribution."
   ]
  },
  {
   "cell_type": "code",
   "execution_count": 1013,
   "id": "d775b73c-4db4-476b-8229-f17fc639e175",
   "metadata": {},
   "outputs": [
    {
     "data": {
      "text/plain": [
       "(190, 6)"
      ]
     },
     "execution_count": 1013,
     "metadata": {},
     "output_type": "execute_result"
    }
   ],
   "source": [
    "checkouts_df[checkouts_df.length>28].shape"
   ]
  },
  {
   "cell_type": "code",
   "execution_count": 1014,
   "id": "ecc57052-4068-47e0-ba9c-5aa270c8d2a3",
   "metadata": {},
   "outputs": [
    {
     "data": {
      "text/plain": [
       "<Axes: >"
      ]
     },
     "execution_count": 1014,
     "metadata": {},
     "output_type": "execute_result"
    },
    {
     "data": {
      "image/png": "[encoded data removed]",
      "text/plain": [
       "<Figure size 640x480 with 1 Axes>"
      ]
     },
     "metadata": {},
     "output_type": "display_data"
    }
   ],
   "source": [
    "checkouts_df[checkouts_df.length>28].length.hist()"
   ]
  },
  {
   "cell_type": "code",
   "execution_count": 1015,
   "id": "d39e0a1e-571d-43ff-ae36-e86bb34870e1",
   "metadata": {},
   "outputs": [],
   "source": [
    "# dtale.show(checkouts_df.sort_values(by='date_checkout'))"
   ]
  },
  {
   "cell_type": "code",
   "execution_count": 1016,
   "id": "6b73a9dc-062d-4bd4-8884-45c70a548d0d",
   "metadata": {},
   "outputs": [],
   "source": [
    "checkouts_df.to_csv('data/checkouts_df_clean.csv')"
   ]
  },
  {
   "cell_type": "code",
   "execution_count": 1017,
   "id": "2bea724a-dc24-432b-ab62-582e18ed4c1b",
   "metadata": {},
   "outputs": [],
   "source": [
    "checkouts_df.to_pickle('data/checkouts_df.pickle')"
   ]
  },
  {
   "cell_type": "code",
   "execution_count": 1018,
   "id": "957c6c0c-d5c4-47c0-aa83-9c2fa795dd6a",
   "metadata": {},
   "outputs": [],
   "source": [
    "checkouts_df = pd.read_pickle('data/checkouts_df.pickle')"
   ]
  },
  {
   "cell_type": "code",
   "execution_count": 1019,
   "id": "9875575f-7387-49eb-b834-b2793a49d5e9",
   "metadata": {},
   "outputs": [
    {
     "data": {
      "text/html": [
       "<div>\n",
       "<style scoped>\n",
       "    .dataframe tbody tr th:only-of-type {\n",
       "        vertical-align: middle;\n",
       "    }\n",
       "\n",
       "    .dataframe tbody tr th {\n",
       "        vertical-align: top;\n",
       "    }\n",
       "\n",
       "    .dataframe thead th {\n",
       "        text-align: right;\n",
       "    }\n",
       "</style>\n",
       "<table border=\"1\" class=\"dataframe\">\n",
       "  <thead>\n",
       "    <tr style=\"text-align: right;\">\n",
       "      <th></th>\n",
       "      <th>id</th>\n",
       "      <th>patron_id</th>\n",
       "      <th>library_id</th>\n",
       "      <th>date_checkout</th>\n",
       "      <th>date_returned</th>\n",
       "      <th>length</th>\n",
       "    </tr>\n",
       "  </thead>\n",
       "  <tbody>\n",
       "    <tr>\n",
       "      <th>1</th>\n",
       "      <td>HUX-y4oXl04C</td>\n",
       "      <td>8d3f63e1deed89d7ba1bf6a4eb101373</td>\n",
       "      <td>223-222@5xc-jxr-tgk</td>\n",
       "      <td>2018-05-29</td>\n",
       "      <td>2018-06-12</td>\n",
       "      <td>14</td>\n",
       "    </tr>\n",
       "    <tr>\n",
       "      <th>2</th>\n",
       "      <td>TQpFnkku2poC</td>\n",
       "      <td>4ae202f8de762591734705e0079d76df</td>\n",
       "      <td>228-222@5xc-jtz-hwk</td>\n",
       "      <td>2018-11-23</td>\n",
       "      <td>2019-01-24</td>\n",
       "      <td>62</td>\n",
       "    </tr>\n",
       "    <tr>\n",
       "      <th>3</th>\n",
       "      <td>OQ6sDwAAQBAJ</td>\n",
       "      <td>f9372de3c8ea501601aa3fb59ec0f524</td>\n",
       "      <td>23v-222@5xc-jv7-v4v</td>\n",
       "      <td>2018-01-15</td>\n",
       "      <td>2018-04-25</td>\n",
       "      <td>100</td>\n",
       "    </tr>\n",
       "    <tr>\n",
       "      <th>6</th>\n",
       "      <td>CW-7tHAaVR0C</td>\n",
       "      <td>dd9f34e9d65126a2b02003d8ac60aaa4</td>\n",
       "      <td>22c-222@5xc-jwj-pvz</td>\n",
       "      <td>2018-01-10</td>\n",
       "      <td>2018-02-04</td>\n",
       "      <td>25</td>\n",
       "    </tr>\n",
       "    <tr>\n",
       "      <th>8</th>\n",
       "      <td>t1e3BWziAc8C</td>\n",
       "      <td>3b85b2c7b424618f533329018e9a11d5</td>\n",
       "      <td>222-222@5xc-jv5-nt9</td>\n",
       "      <td>2018-06-23</td>\n",
       "      <td>2018-07-14</td>\n",
       "      <td>21</td>\n",
       "    </tr>\n",
       "    <tr>\n",
       "      <th>...</th>\n",
       "      <td>...</td>\n",
       "      <td>...</td>\n",
       "      <td>...</td>\n",
       "      <td>...</td>\n",
       "      <td>...</td>\n",
       "      <td>...</td>\n",
       "    </tr>\n",
       "    <tr>\n",
       "      <th>1995</th>\n",
       "      <td>rNbuDwAAQBAJ</td>\n",
       "      <td>91871955f3641857832766ac3f5a0b95</td>\n",
       "      <td>222-222@5xc-jv5-nt9</td>\n",
       "      <td>2018-07-19</td>\n",
       "      <td>2018-08-12</td>\n",
       "      <td>24</td>\n",
       "    </tr>\n",
       "    <tr>\n",
       "      <th>1996</th>\n",
       "      <td>rcrCAgAAQBAJ</td>\n",
       "      <td>ad08956eb20efb746af650f906d439cf</td>\n",
       "      <td>22d-222@5xc-kcy-8sq</td>\n",
       "      <td>2018-03-07</td>\n",
       "      <td>2018-03-13</td>\n",
       "      <td>6</td>\n",
       "    </tr>\n",
       "    <tr>\n",
       "      <th>1997</th>\n",
       "      <td>F44fAQAAMAAJ</td>\n",
       "      <td>026262cc3454149303074c4113b5f118</td>\n",
       "      <td>226-222@5xc-jxj-7yv</td>\n",
       "      <td>2018-06-17</td>\n",
       "      <td>2018-06-27</td>\n",
       "      <td>10</td>\n",
       "    </tr>\n",
       "    <tr>\n",
       "      <th>1998</th>\n",
       "      <td>Ci1HAQAAMAAJ</td>\n",
       "      <td>08b29865e58e9b2aabff9684a703acf0</td>\n",
       "      <td>223-222@5xc-jxr-tgk</td>\n",
       "      <td>2018-12-10</td>\n",
       "      <td>2018-12-29</td>\n",
       "      <td>19</td>\n",
       "    </tr>\n",
       "    <tr>\n",
       "      <th>1999</th>\n",
       "      <td>TUAyAQAAMAAJ</td>\n",
       "      <td>ac0bb7b22b4df999a0b1216ded727f8e</td>\n",
       "      <td>228-222@5xc-jtz-hwk</td>\n",
       "      <td>2018-10-10</td>\n",
       "      <td>2018-11-01</td>\n",
       "      <td>22</td>\n",
       "    </tr>\n",
       "  </tbody>\n",
       "</table>\n",
       "<p>1509 rows × 6 columns</p>\n",
       "</div>"
      ],
      "text/plain": [
       "                id                         patron_id           library_id  \\\n",
       "1     HUX-y4oXl04C  8d3f63e1deed89d7ba1bf6a4eb101373  223-222@5xc-jxr-tgk   \n",
       "2     TQpFnkku2poC  4ae202f8de762591734705e0079d76df  228-222@5xc-jtz-hwk   \n",
       "3     OQ6sDwAAQBAJ  f9372de3c8ea501601aa3fb59ec0f524  23v-222@5xc-jv7-v4v   \n",
       "6     CW-7tHAaVR0C  dd9f34e9d65126a2b02003d8ac60aaa4  22c-222@5xc-jwj-pvz   \n",
       "8     t1e3BWziAc8C  3b85b2c7b424618f533329018e9a11d5  222-222@5xc-jv5-nt9   \n",
       "...            ...                               ...                  ...   \n",
       "1995  rNbuDwAAQBAJ  91871955f3641857832766ac3f5a0b95  222-222@5xc-jv5-nt9   \n",
       "1996  rcrCAgAAQBAJ  ad08956eb20efb746af650f906d439cf  22d-222@5xc-kcy-8sq   \n",
       "1997  F44fAQAAMAAJ  026262cc3454149303074c4113b5f118  226-222@5xc-jxj-7yv   \n",
       "1998  Ci1HAQAAMAAJ  08b29865e58e9b2aabff9684a703acf0  223-222@5xc-jxr-tgk   \n",
       "1999  TUAyAQAAMAAJ  ac0bb7b22b4df999a0b1216ded727f8e  228-222@5xc-jtz-hwk   \n",
       "\n",
       "     date_checkout date_returned  length  \n",
       "1       2018-05-29    2018-06-12      14  \n",
       "2       2018-11-23    2019-01-24      62  \n",
       "3       2018-01-15    2018-04-25     100  \n",
       "6       2018-01-10    2018-02-04      25  \n",
       "8       2018-06-23    2018-07-14      21  \n",
       "...            ...           ...     ...  \n",
       "1995    2018-07-19    2018-08-12      24  \n",
       "1996    2018-03-07    2018-03-13       6  \n",
       "1997    2018-06-17    2018-06-27      10  \n",
       "1998    2018-12-10    2018-12-29      19  \n",
       "1999    2018-10-10    2018-11-01      22  \n",
       "\n",
       "[1509 rows x 6 columns]"
      ]
     },
     "execution_count": 1019,
     "metadata": {},
     "output_type": "execute_result"
    }
   ],
   "source": [
    "checkouts_df"
   ]
  },
  {
   "cell_type": "markdown",
   "id": "300d23ed-6c36-48a3-a97c-4f11bbe63e68",
   "metadata": {},
   "source": [
    "# Books"
   ]
  },
  {
   "cell_type": "code",
   "execution_count": null,
   "id": "effcbac9-8f82-4ba5-af7b-f991df48ff5a",
   "metadata": {},
   "outputs": [],
   "source": []
  },
  {
   "cell_type": "code",
   "execution_count": 335,
   "id": "eb5e7aa3-a4b0-4b7a-bc3c-b2d159fa2abf",
   "metadata": {},
   "outputs": [],
   "source": [
    "books_df = pd.read_csv('data/books.csv').add_prefix('book_')"
   ]
  },
  {
   "cell_type": "code",
   "execution_count": 336,
   "id": "ed4091d9-b41e-4b44-ac0f-a8382ec83887",
   "metadata": {},
   "outputs": [
    {
     "data": {
      "text/plain": [
       "Index(['book_id', 'book_title', 'book_authors', 'book_publisher',\n",
       "       'book_publishedDate', 'book_categories', 'book_price', 'book_pages'],\n",
       "      dtype='object')"
      ]
     },
     "execution_count": 336,
     "metadata": {},
     "output_type": "execute_result"
    }
   ],
   "source": [
    "books_df.columns"
   ]
  },
  {
   "cell_type": "code",
   "execution_count": 337,
   "id": "a4135877-e628-4a26-ab25-866b220f11c7",
   "metadata": {},
   "outputs": [],
   "source": [
    "def clean_price(price):\n",
    "    # Keep only valid float characters (digits, '.', '-', optional ',' for formatting)\n",
    "    cleaned = re.sub(r\"[^\\d\\.-]\", \"\", price)\n",
    "    # Ensure valid float format by checking if it can be converted\n",
    "    try:\n",
    "        return float(cleaned)\n",
    "    except ValueError:\n",
    "        return None\n",
    "\n",
    "\n",
    "def clean_page_count(page_count):\n",
    "    # Keep only digits\n",
    "    cleaned = re.sub(r\"[^\\d]\", \"\", page_count)\n",
    "    # Ensure valid integer format by checking if it's non-empty\n",
    "    try:\n",
    "        return int(cleaned) if cleaned else None\n",
    "    except ValueError:\n",
    "        return None "
   ]
  },
  {
   "cell_type": "code",
   "execution_count": 338,
   "id": "8110a5f5-b8e9-4356-9eb0-c3416065eba7",
   "metadata": {},
   "outputs": [],
   "source": [
    "books_df['book_authors'] = books_df['book_authors'].fillna(\"['NO_AUTHOR']\")\n",
    "books_df['book_publisher'] = books_df['book_publisher'].fillna(\"['NO_PUBLISHER']\")\n",
    "books_df['book_publishedDate'] = books_df['book_publishedDate'].fillna('2021-04-09')\n",
    "\n",
    "date_formats = [\"%Y-%m-%d\", \"%Y\", \"%Y-%m\"] #\"%Y/%m/%d\" , \"%Y%m%d\", \"%Y|%m|%d\", \"%Y %m %d\", \n",
    "books_df['book_publishedDate'] = books_df['book_publishedDate'].apply(lambda x: is_valid_date(x, date_formats))\n",
    "books_df['book_published_year'] = books_df.book_publishedDate.dt.year\n",
    "\n",
    "books_df['book_categories'] = books_df['book_categories'].fillna(\"['NO_CATEGORY']\")\n",
    "\n",
    "books_df[\"book_price\"] = books_df[\"book_price\"].fillna(\"0.0\")\n",
    "books_df[\"book_price\"] = books_df.book_price.apply(lambda x: clean_price(x))\n",
    "\n",
    "books_df[\"book_pages\"] = books_df.book_pages.apply(lambda x: clean_page_count(x))"
   ]
  },
  {
   "cell_type": "code",
   "execution_count": null,
   "id": "d300871a-fc3e-480f-ac02-cbe17a7d2cc1",
   "metadata": {},
   "outputs": [],
   "source": []
  },
  {
   "cell_type": "code",
   "execution_count": 334,
   "id": "993268f1-71ec-4d0a-89ce-4d3eeb9fa45a",
   "metadata": {},
   "outputs": [],
   "source": []
  },
  {
   "cell_type": "markdown",
   "id": "a08ad75e-6699-4265-bc2d-1918b7c6b79b",
   "metadata": {},
   "source": [
    "# Customers"
   ]
  },
  {
   "cell_type": "code",
   "execution_count": null,
   "id": "42268473-2688-40eb-9f2a-1a4673c9537e",
   "metadata": {},
   "outputs": [],
   "source": []
  },
  {
   "cell_type": "code",
   "execution_count": 1099,
   "id": "fe64ba6a-bd18-4243-a24c-ef1f0c3a57f4",
   "metadata": {},
   "outputs": [],
   "source": [
    "customers_df = pd.read_csv('data/customers.csv').add_prefix('customer_')"
   ]
  },
  {
   "cell_type": "code",
   "execution_count": 1100,
   "id": "54cdd44a-0058-4dbd-bd92-cf1fcf9ac746",
   "metadata": {},
   "outputs": [],
   "source": [
    "def clean_state(state):\n",
    "    try:\n",
    "        return state.upper().strip()\n",
    "    except ValueError:\n",
    "        return None\n",
    "\n",
    "\n",
    "def clean_zipcode(zipcode):\n",
    "    cleaned = re.sub(r\"[^\\d\\.]\", \"\", zipcode)\n",
    "    try:\n",
    "        return math.floor(float(cleaned))\n",
    "    except ValueError:\n",
    "        return None\n"
   ]
  },
  {
   "cell_type": "code",
   "execution_count": null,
   "id": "cdc22cd1-2e15-4bff-9889-6f22644482bd",
   "metadata": {},
   "outputs": [],
   "source": []
  },
  {
   "cell_type": "code",
   "execution_count": 1101,
   "id": "416acc2b-fdef-46a1-969d-050f29cf9f4d",
   "metadata": {},
   "outputs": [],
   "source": [
    "from geopy.geocoders import Nominatim\n",
    "import time\n",
    "from shapely import Point\n",
    "\n",
    "geolocator = Nominatim(user_agent=\"marko@droopia\")\n",
    "\n",
    "def get_gps_coordinates(address):\n",
    "    time.sleep(1.1)\n",
    "    location = geolocator.geocode(address)\n",
    "    if location:\n",
    "        return Point(location.longitude, location.latitude)\n",
    "    else:\n",
    "        return None"
   ]
  },
  {
   "cell_type": "code",
   "execution_count": 1102,
   "id": "3da4b94e-8032-4444-a414-d9976d022a49",
   "metadata": {},
   "outputs": [],
   "source": [
    "customers_df[\"customer_state\"] = customers_df.customer_state.fillna('N/A')\n",
    "customers_df[\"customer_state\"] = customers_df.customer_state.apply(lambda x: clean_state(x))"
   ]
  },
  {
   "cell_type": "code",
   "execution_count": 1103,
   "id": "ac1a6824-175b-4eec-8a14-04863610ee2c",
   "metadata": {},
   "outputs": [],
   "source": [
    "customers_df[\"customer_city\"] = customers_df.customer_city.fillna('N/A')\n",
    "customers_df[\"customer_city\"] = customers_df.customer_city.apply(lambda x: clean_state(x))"
   ]
  },
  {
   "cell_type": "code",
   "execution_count": 1104,
   "id": "6fc14897-d1d1-4177-a4ed-a24be15f6feb",
   "metadata": {},
   "outputs": [
    {
     "data": {
      "text/html": [
       "<div>\n",
       "<style scoped>\n",
       "    .dataframe tbody tr th:only-of-type {\n",
       "        vertical-align: middle;\n",
       "    }\n",
       "\n",
       "    .dataframe tbody tr th {\n",
       "        vertical-align: top;\n",
       "    }\n",
       "\n",
       "    .dataframe thead th {\n",
       "        text-align: right;\n",
       "    }\n",
       "</style>\n",
       "<table border=\"1\" class=\"dataframe\">\n",
       "  <thead>\n",
       "    <tr style=\"text-align: right;\">\n",
       "      <th></th>\n",
       "      <th>customer_id</th>\n",
       "      <th>customer_name</th>\n",
       "      <th>customer_street_address</th>\n",
       "      <th>customer_city</th>\n",
       "      <th>customer_state</th>\n",
       "      <th>customer_zipcode</th>\n",
       "      <th>customer_birth_date</th>\n",
       "      <th>customer_gender</th>\n",
       "      <th>customer_education</th>\n",
       "      <th>customer_occupation</th>\n",
       "    </tr>\n",
       "  </thead>\n",
       "  <tbody>\n",
       "    <tr>\n",
       "      <th>1728</th>\n",
       "      <td>21d1bb3a22811b8d490076e81288dfdb</td>\n",
       "      <td>Kendrick Luciano</td>\n",
       "      <td>822 SE Main St</td>\n",
       "      <td>PORTLAND</td>\n",
       "      <td>OREGON</td>\n",
       "      <td>NaN</td>\n",
       "      <td>2109-06-22</td>\n",
       "      <td>male</td>\n",
       "      <td>Others</td>\n",
       "      <td>Admin &amp; Support</td>\n",
       "    </tr>\n",
       "  </tbody>\n",
       "</table>\n",
       "</div>"
      ],
      "text/plain": [
       "                           customer_id     customer_name  \\\n",
       "1728  21d1bb3a22811b8d490076e81288dfdb  Kendrick Luciano   \n",
       "\n",
       "     customer_street_address customer_city customer_state customer_zipcode  \\\n",
       "1728          822 SE Main St      PORTLAND         OREGON              NaN   \n",
       "\n",
       "     customer_birth_date customer_gender customer_education  \\\n",
       "1728          2109-06-22            male             Others   \n",
       "\n",
       "     customer_occupation  \n",
       "1728     Admin & Support  "
      ]
     },
     "execution_count": 1104,
     "metadata": {},
     "output_type": "execute_result"
    }
   ],
   "source": [
    "customers_df[customers_df.customer_zipcode.isna()]"
   ]
  },
  {
   "cell_type": "code",
   "execution_count": 1105,
   "id": "0f1f49f3-0817-4f6a-ac22-eea8a046ef8d",
   "metadata": {},
   "outputs": [
    {
     "data": {
      "text/html": [
       "<div>\n",
       "<style scoped>\n",
       "    .dataframe tbody tr th:only-of-type {\n",
       "        vertical-align: middle;\n",
       "    }\n",
       "\n",
       "    .dataframe tbody tr th {\n",
       "        vertical-align: top;\n",
       "    }\n",
       "\n",
       "    .dataframe thead th {\n",
       "        text-align: right;\n",
       "    }\n",
       "</style>\n",
       "<table border=\"1\" class=\"dataframe\">\n",
       "  <thead>\n",
       "    <tr style=\"text-align: right;\">\n",
       "      <th></th>\n",
       "      <th>customer_id</th>\n",
       "      <th>customer_name</th>\n",
       "      <th>customer_street_address</th>\n",
       "      <th>customer_city</th>\n",
       "      <th>customer_state</th>\n",
       "      <th>customer_zipcode</th>\n",
       "      <th>customer_birth_date</th>\n",
       "      <th>customer_gender</th>\n",
       "      <th>customer_education</th>\n",
       "      <th>customer_occupation</th>\n",
       "    </tr>\n",
       "  </thead>\n",
       "  <tbody>\n",
       "    <tr>\n",
       "      <th>432</th>\n",
       "      <td>e4dbbc3721bbb685c5164fde6d6d03b2</td>\n",
       "      <td>Steven Sims</td>\n",
       "      <td>9600 SE Main St</td>\n",
       "      <td>PORTLAND</td>\n",
       "      <td>OREGON</td>\n",
       "      <td>97222.0</td>\n",
       "      <td>1997-08-14</td>\n",
       "      <td>male</td>\n",
       "      <td>College</td>\n",
       "      <td>Education  &amp; Health</td>\n",
       "    </tr>\n",
       "    <tr>\n",
       "      <th>1425</th>\n",
       "      <td>1152955d888f69ca5e76967d975d46b6</td>\n",
       "      <td>William Crites</td>\n",
       "      <td>9316 SE Main St</td>\n",
       "      <td>N/A</td>\n",
       "      <td>OREGON</td>\n",
       "      <td>97222.0</td>\n",
       "      <td>1969-06-27</td>\n",
       "      <td>male</td>\n",
       "      <td>GRADUATE Degree</td>\n",
       "      <td>Sales</td>\n",
       "    </tr>\n",
       "    <tr>\n",
       "      <th>1446</th>\n",
       "      <td>251926625070cc0d3e1d5cdafc333f45</td>\n",
       "      <td>Brittany Jones</td>\n",
       "      <td>12802 SE Main St</td>\n",
       "      <td>PORTLAND</td>\n",
       "      <td>OREGON</td>\n",
       "      <td>97233.0</td>\n",
       "      <td>1981-11-23</td>\n",
       "      <td>female</td>\n",
       "      <td>High School</td>\n",
       "      <td>Others</td>\n",
       "    </tr>\n",
       "    <tr>\n",
       "      <th>1497</th>\n",
       "      <td>22e42e5a878a0515ad7cad82ff6ae197</td>\n",
       "      <td>Virginia Watson</td>\n",
       "      <td>833 SE Main St</td>\n",
       "      <td>PORTLAND</td>\n",
       "      <td>OREGON</td>\n",
       "      <td>97214.0</td>\n",
       "      <td>1958-01-06</td>\n",
       "      <td>female</td>\n",
       "      <td>Graduate Degree</td>\n",
       "      <td>Others</td>\n",
       "    </tr>\n",
       "    <tr>\n",
       "      <th>1586</th>\n",
       "      <td>57650bbd8b2029e1b670ef543312411c</td>\n",
       "      <td>Harry Nelson</td>\n",
       "      <td>3002 SE Main St</td>\n",
       "      <td>PORTLAND</td>\n",
       "      <td>OREGON</td>\n",
       "      <td>97214.0</td>\n",
       "      <td>1986-04-09</td>\n",
       "      <td>male</td>\n",
       "      <td>College</td>\n",
       "      <td>blue COLLAR</td>\n",
       "    </tr>\n",
       "    <tr>\n",
       "      <th>1728</th>\n",
       "      <td>21d1bb3a22811b8d490076e81288dfdb</td>\n",
       "      <td>Kendrick Luciano</td>\n",
       "      <td>822 SE Main St</td>\n",
       "      <td>PORTLAND</td>\n",
       "      <td>OREGON</td>\n",
       "      <td>NaN</td>\n",
       "      <td>2109-06-22</td>\n",
       "      <td>male</td>\n",
       "      <td>Others</td>\n",
       "      <td>Admin &amp; Support</td>\n",
       "    </tr>\n",
       "  </tbody>\n",
       "</table>\n",
       "</div>"
      ],
      "text/plain": [
       "                           customer_id     customer_name  \\\n",
       "432   e4dbbc3721bbb685c5164fde6d6d03b2       Steven Sims   \n",
       "1425  1152955d888f69ca5e76967d975d46b6    William Crites   \n",
       "1446  251926625070cc0d3e1d5cdafc333f45    Brittany Jones   \n",
       "1497  22e42e5a878a0515ad7cad82ff6ae197   Virginia Watson   \n",
       "1586  57650bbd8b2029e1b670ef543312411c      Harry Nelson   \n",
       "1728  21d1bb3a22811b8d490076e81288dfdb  Kendrick Luciano   \n",
       "\n",
       "     customer_street_address customer_city customer_state customer_zipcode  \\\n",
       "432          9600 SE Main St      PORTLAND         OREGON          97222.0   \n",
       "1425         9316 SE Main St           N/A         OREGON          97222.0   \n",
       "1446        12802 SE Main St      PORTLAND         OREGON          97233.0   \n",
       "1497          833 SE Main St      PORTLAND         OREGON          97214.0   \n",
       "1586         3002 SE Main St      PORTLAND         OREGON          97214.0   \n",
       "1728          822 SE Main St      PORTLAND         OREGON              NaN   \n",
       "\n",
       "     customer_birth_date customer_gender customer_education  \\\n",
       "432           1997-08-14            male            College   \n",
       "1425          1969-06-27            male    GRADUATE Degree   \n",
       "1446          1981-11-23          female        High School   \n",
       "1497          1958-01-06          female    Graduate Degree   \n",
       "1586          1986-04-09            male            College   \n",
       "1728          2109-06-22            male             Others   \n",
       "\n",
       "       customer_occupation  \n",
       "432   Education  & Health   \n",
       "1425                 Sales  \n",
       "1446                Others  \n",
       "1497                Others  \n",
       "1586           blue COLLAR  \n",
       "1728       Admin & Support  "
      ]
     },
     "execution_count": 1105,
     "metadata": {},
     "output_type": "execute_result"
    }
   ],
   "source": [
    "customers_df[customers_df.customer_street_address.str.contains('SE Main St')]"
   ]
  },
  {
   "cell_type": "code",
   "execution_count": 1106,
   "id": "0ac68a84-c7d6-4a4f-bd9c-05084ed10bea",
   "metadata": {},
   "outputs": [],
   "source": [
    "customers_df.loc[customers_df.customer_zipcode.isna(), 'customer_zipcode'] = '97214.0'"
   ]
  },
  {
   "cell_type": "code",
   "execution_count": null,
   "id": "70d6a1c3-0e05-4255-b187-ab7761ff7619",
   "metadata": {},
   "outputs": [],
   "source": []
  },
  {
   "cell_type": "code",
   "execution_count": 1107,
   "id": "6f10a49c-612b-4b1b-9629-534a69d2c6c0",
   "metadata": {},
   "outputs": [],
   "source": [
    "# customers_df[\"customer_zipcode\"] = customers_df.customer_zipcode.fillna('0')\n",
    "customers_df[\"customer_zipcode\"] = customers_df.customer_zipcode.apply(lambda x: clean_zipcode(x))"
   ]
  },
  {
   "cell_type": "code",
   "execution_count": null,
   "id": "12212e42-8e07-499c-8310-3c29e829b302",
   "metadata": {},
   "outputs": [],
   "source": []
  },
  {
   "cell_type": "code",
   "execution_count": null,
   "id": "91dec1b5-a477-4743-bdf4-d42e3b15def2",
   "metadata": {},
   "outputs": [],
   "source": []
  },
  {
   "cell_type": "code",
   "execution_count": 1108,
   "id": "4d192077-5c77-4cd9-aea4-5b64ee673ef0",
   "metadata": {},
   "outputs": [],
   "source": [
    "date_formats = [\"%Y-%m-%d\", \"%Y/%m/%d\" , \"%Y%m%d\", \"%Y|%m|%d\", \"%Y %m %d\", \"%Y\", \"%Y-%m\"]\n",
    "customers_df[\"customer_birth_date\"] = customers_df[\"customer_birth_date\"].fillna('2021-04-09')\n",
    "\n",
    "customers_df[\"customer_birth_date\"] = customers_df[\"customer_birth_date\"].apply(lambda x: is_valid_date(x, date_formats))\n",
    "\n",
    "# this will make mistake for leap years, but this is good enough for current needs\n",
    "customers_df[\"customer_years_old\"] = (pd.to_datetime('2021-04-09') - customers_df[\"customer_birth_date\"]).dt.days/365.2425 \n",
    "customers_df[\"customer_years_old\"] = customers_df[\"customer_years_old\"].astype(int)"
   ]
  },
  {
   "cell_type": "code",
   "execution_count": null,
   "id": "7e0d01d9-daa6-4f66-99de-c4614dc20af0",
   "metadata": {},
   "outputs": [],
   "source": []
  },
  {
   "cell_type": "code",
   "execution_count": 1109,
   "id": "0eeeea53-eae5-424e-b29e-d4d1592a8b09",
   "metadata": {},
   "outputs": [],
   "source": [
    "customers_df['customer_gender'] = customers_df.customer_gender.fillna('NA')\n",
    "customers_df['customer_gender'] = customers_df.customer_gender.apply(lambda x: clean_state(x))"
   ]
  },
  {
   "cell_type": "code",
   "execution_count": 1110,
   "id": "15e0b553-7e72-42ba-8fe1-852daf88232b",
   "metadata": {},
   "outputs": [
    {
     "data": {
      "text/plain": [
       "array(['FEMALE', 'MALE', 'NA'], dtype=object)"
      ]
     },
     "execution_count": 1110,
     "metadata": {},
     "output_type": "execute_result"
    }
   ],
   "source": [
    "customers_df.customer_gender.unique()"
   ]
  },
  {
   "cell_type": "code",
   "execution_count": 1111,
   "id": "041b3208-009b-452f-a7fe-65f19e6f047d",
   "metadata": {},
   "outputs": [
    {
     "data": {
      "text/plain": [
       "(101, 11)"
      ]
     },
     "execution_count": 1111,
     "metadata": {},
     "output_type": "execute_result"
    }
   ],
   "source": [
    "customers_df[customers_df.customer_gender=='NA'].shape"
   ]
  },
  {
   "cell_type": "code",
   "execution_count": 1112,
   "id": "93be9fbf-8e79-4b2a-83b5-5ba684099a36",
   "metadata": {},
   "outputs": [],
   "source": [
    "customers_df['customer_education'] = customers_df.customer_education.fillna('NA')\n",
    "customers_df['customer_education'] = customers_df.customer_education.apply(lambda x: clean_state(x))\n",
    "customers_df['customer_education'] = customers_df.customer_education.apply(lambda x: x.replace(' ', '').replace('   ', '').replace('  ', ''))"
   ]
  },
  {
   "cell_type": "code",
   "execution_count": 1113,
   "id": "b772beaa-f193-4839-94a9-efecbdbe1141",
   "metadata": {},
   "outputs": [
    {
     "data": {
      "text/plain": [
       "array(['HIGHSCHOOL', 'COLLEGE', 'GRADUATEDEGREE', 'OTHERS', 'NA'],\n",
       "      dtype=object)"
      ]
     },
     "execution_count": 1113,
     "metadata": {},
     "output_type": "execute_result"
    }
   ],
   "source": [
    "customers_df.customer_education.unique()"
   ]
  },
  {
   "cell_type": "code",
   "execution_count": 1114,
   "id": "aeeb285b-6f17-4e7a-a3f1-4ae3361bfaeb",
   "metadata": {},
   "outputs": [
    {
     "data": {
      "text/plain": [
       "(104, 11)"
      ]
     },
     "execution_count": 1114,
     "metadata": {},
     "output_type": "execute_result"
    }
   ],
   "source": [
    "customers_df[customers_df.customer_education=='NA'].shape"
   ]
  },
  {
   "cell_type": "code",
   "execution_count": null,
   "id": "20a85c4a-06b3-4b30-a959-08769794b688",
   "metadata": {},
   "outputs": [],
   "source": []
  },
  {
   "cell_type": "code",
   "execution_count": 1115,
   "id": "3d53fbcd-820f-47c8-9a12-fdc9da61ce51",
   "metadata": {},
   "outputs": [],
   "source": [
    "customers_df['customer_occupation'] = customers_df.customer_occupation.fillna('NA')\n",
    "customers_df['customer_occupation'] = customers_df.customer_occupation.apply(lambda x: clean_state(x))\n",
    "customers_df['customer_occupation'] = customers_df.customer_occupation.apply(lambda x: x.replace(' ', '').replace('   ', '').replace('  ', ''))"
   ]
  },
  {
   "cell_type": "code",
   "execution_count": 1116,
   "id": "21dc8d5e-7023-4669-a342-e7a43d51157b",
   "metadata": {},
   "outputs": [
    {
     "data": {
      "text/plain": [
       "array(['NA', 'BLUECOLLAR', 'EDUCATION&HEALTH', 'SALES', 'TECH', 'OTHERS',\n",
       "       'BUSINESS&FINANCE', 'ADMIN&SUPPORT'], dtype=object)"
      ]
     },
     "execution_count": 1116,
     "metadata": {},
     "output_type": "execute_result"
    }
   ],
   "source": [
    "customers_df.customer_occupation.unique()"
   ]
  },
  {
   "cell_type": "code",
   "execution_count": 1117,
   "id": "5168da41-505e-4283-bafc-9ca043a9e908",
   "metadata": {},
   "outputs": [],
   "source": [
    "customers_df['customer_street_address'] = customers_df.customer_street_address.apply(lambda x: clean_state(x))"
   ]
  },
  {
   "cell_type": "code",
   "execution_count": 1070,
   "id": "8e334cf7-826b-4a8c-8bd5-cc71ea735a20",
   "metadata": {},
   "outputs": [],
   "source": [
    "# customers_df"
   ]
  },
  {
   "cell_type": "code",
   "execution_count": 1071,
   "id": "4a4b2afc-6942-48a9-87f3-91799e8fe4c6",
   "metadata": {},
   "outputs": [],
   "source": [
    "# customers_df[\"address\"].iloc[111]"
   ]
  },
  {
   "cell_type": "code",
   "execution_count": null,
   "id": "a29ac743-7071-4754-8969-dd58829e7f25",
   "metadata": {},
   "outputs": [],
   "source": []
  },
  {
   "cell_type": "code",
   "execution_count": 623,
   "id": "4b2269a9-ddbf-400b-960a-574000a17274",
   "metadata": {},
   "outputs": [],
   "source": [
    "# get_gps_coordinates(customers_df[\"address\"].iloc[111])"
   ]
  },
  {
   "cell_type": "code",
   "execution_count": 929,
   "id": "dcc31021-3f6b-426a-b847-5ba19a55fec3",
   "metadata": {},
   "outputs": [
    {
     "data": {
      "text/plain": [
       "(2000, 12)"
      ]
     },
     "execution_count": 929,
     "metadata": {},
     "output_type": "execute_result"
    }
   ],
   "source": [
    "customers_df.shape"
   ]
  },
  {
   "cell_type": "code",
   "execution_count": 931,
   "id": "8d000659-e691-4ad7-b7e0-d2facf4d3067",
   "metadata": {},
   "outputs": [],
   "source": [
    "customers_df[\"geometry\"]  = customers_df[\"address\"].apply(get_gps_coordinates)"
   ]
  },
  {
   "cell_type": "code",
   "execution_count": null,
   "id": "010fec0f-a8a8-4113-9e66-e9db77b7b589",
   "metadata": {},
   "outputs": [],
   "source": []
  },
  {
   "cell_type": "code",
   "execution_count": 932,
   "id": "e2c6dc33-ecb0-4a2a-9493-14e5fa1482fd",
   "metadata": {},
   "outputs": [
    {
     "name": "stdout",
     "output_type": "stream",
     "text": [
      "<class 'pandas.core.frame.DataFrame'>\n",
      "RangeIndex: 2000 entries, 0 to 1999\n",
      "Data columns (total 12 columns):\n",
      " #   Column                   Non-Null Count  Dtype         \n",
      "---  ------                   --------------  -----         \n",
      " 0   customer_id              2000 non-null   object        \n",
      " 1   customer_name            2000 non-null   object        \n",
      " 2   customer_street_address  2000 non-null   object        \n",
      " 3   customer_city            2000 non-null   object        \n",
      " 4   customer_state           2000 non-null   object        \n",
      " 5   customer_zipcode         2000 non-null   int64         \n",
      " 6   customer_birth_date      2000 non-null   datetime64[ns]\n",
      " 7   customer_gender          2000 non-null   object        \n",
      " 8   customer_education       2000 non-null   object        \n",
      " 9   customer_occupation      2000 non-null   object        \n",
      " 10  customer_years_old       2000 non-null   int64         \n",
      " 11  address                  2000 non-null   object        \n",
      "dtypes: datetime64[ns](1), int64(2), object(9)\n",
      "memory usage: 187.6+ KB\n"
     ]
    }
   ],
   "source": [
    "customers_df.info()"
   ]
  },
  {
   "cell_type": "code",
   "execution_count": 933,
   "id": "a2008303-fe4c-41ea-8df9-66d8cce2e14f",
   "metadata": {},
   "outputs": [
    {
     "data": {
      "text/plain": [
       "Index(['customer_id', 'customer_name', 'customer_street_address',\n",
       "       'customer_city', 'customer_state', 'customer_zipcode',\n",
       "       'customer_birth_date', 'customer_gender', 'customer_education',\n",
       "       'customer_occupation', 'customer_years_old', 'address'],\n",
       "      dtype='object')"
      ]
     },
     "execution_count": 933,
     "metadata": {},
     "output_type": "execute_result"
    }
   ],
   "source": [
    "customers_df.columns"
   ]
  },
  {
   "cell_type": "code",
   "execution_count": 934,
   "id": "e0a656bc-5176-4597-babc-b21634ec0dc2",
   "metadata": {},
   "outputs": [
    {
     "data": {
      "text/plain": [
       "array(['OREGON', 'WASHINGTON', 'N/A'], dtype=object)"
      ]
     },
     "execution_count": 934,
     "metadata": {},
     "output_type": "execute_result"
    }
   ],
   "source": [
    "customers_df.customer_state.unique()"
   ]
  },
  {
   "cell_type": "code",
   "execution_count": 935,
   "id": "bd21d8ae-d4b7-415b-8abd-a1f197b2b3b4",
   "metadata": {},
   "outputs": [
    {
     "data": {
      "text/plain": [
       "'OREGON'"
      ]
     },
     "execution_count": 935,
     "metadata": {},
     "output_type": "execute_result"
    }
   ],
   "source": [
    "customers_df.customer_state.loc[567]"
   ]
  },
  {
   "cell_type": "code",
   "execution_count": 1118,
   "id": "7827e9fc-1e49-4641-833b-36004260e8eb",
   "metadata": {},
   "outputs": [
    {
     "data": {
      "text/html": [
       "<div>\n",
       "<style scoped>\n",
       "    .dataframe tbody tr th:only-of-type {\n",
       "        vertical-align: middle;\n",
       "    }\n",
       "\n",
       "    .dataframe tbody tr th {\n",
       "        vertical-align: top;\n",
       "    }\n",
       "\n",
       "    .dataframe thead th {\n",
       "        text-align: right;\n",
       "    }\n",
       "</style>\n",
       "<table border=\"1\" class=\"dataframe\">\n",
       "  <thead>\n",
       "    <tr style=\"text-align: right;\">\n",
       "      <th></th>\n",
       "      <th>customer_city</th>\n",
       "      <th>customer_state</th>\n",
       "    </tr>\n",
       "  </thead>\n",
       "  <tbody>\n",
       "    <tr>\n",
       "      <th>12</th>\n",
       "      <td>BEAVERTON</td>\n",
       "      <td>N/A</td>\n",
       "    </tr>\n",
       "    <tr>\n",
       "      <th>27</th>\n",
       "      <td>PORTLAND</td>\n",
       "      <td>N/A</td>\n",
       "    </tr>\n",
       "    <tr>\n",
       "      <th>203</th>\n",
       "      <td>N/A</td>\n",
       "      <td>N/A</td>\n",
       "    </tr>\n",
       "    <tr>\n",
       "      <th>512</th>\n",
       "      <td>HAPPY VALLEY</td>\n",
       "      <td>N/A</td>\n",
       "    </tr>\n",
       "    <tr>\n",
       "      <th>576</th>\n",
       "      <td>VANCOUVER</td>\n",
       "      <td>N/A</td>\n",
       "    </tr>\n",
       "    <tr>\n",
       "      <th>650</th>\n",
       "      <td>HILLSBORO</td>\n",
       "      <td>N/A</td>\n",
       "    </tr>\n",
       "    <tr>\n",
       "      <th>864</th>\n",
       "      <td>LAKE OSWEGO</td>\n",
       "      <td>N/A</td>\n",
       "    </tr>\n",
       "  </tbody>\n",
       "</table>\n",
       "</div>"
      ],
      "text/plain": [
       "    customer_city customer_state\n",
       "12      BEAVERTON            N/A\n",
       "27       PORTLAND            N/A\n",
       "203           N/A            N/A\n",
       "512  HAPPY VALLEY            N/A\n",
       "576     VANCOUVER            N/A\n",
       "650     HILLSBORO            N/A\n",
       "864   LAKE OSWEGO            N/A"
      ]
     },
     "execution_count": 1118,
     "metadata": {},
     "output_type": "execute_result"
    }
   ],
   "source": [
    "customers_df[customers_df.customer_state=='N/A'][['customer_city', 'customer_state']].drop_duplicates()"
   ]
  },
  {
   "cell_type": "markdown",
   "id": "778f236b-d23e-45d0-8ece-dfddb0b4888b",
   "metadata": {},
   "source": [
    "Just looking at our data helps with filling `customer_state` HILLSBORO is the only city we needed to use Google. "
   ]
  },
  {
   "cell_type": "code",
   "execution_count": 1119,
   "id": "58325cca-2027-41e3-be41-7c11271f3bf9",
   "metadata": {},
   "outputs": [
    {
     "data": {
      "text/html": [
       "<div>\n",
       "<style scoped>\n",
       "    .dataframe tbody tr th:only-of-type {\n",
       "        vertical-align: middle;\n",
       "    }\n",
       "\n",
       "    .dataframe tbody tr th {\n",
       "        vertical-align: top;\n",
       "    }\n",
       "\n",
       "    .dataframe thead th {\n",
       "        text-align: right;\n",
       "    }\n",
       "</style>\n",
       "<table border=\"1\" class=\"dataframe\">\n",
       "  <thead>\n",
       "    <tr style=\"text-align: right;\">\n",
       "      <th></th>\n",
       "      <th>customer_id</th>\n",
       "      <th>customer_name</th>\n",
       "      <th>customer_street_address</th>\n",
       "      <th>customer_city</th>\n",
       "      <th>customer_state</th>\n",
       "      <th>customer_zipcode</th>\n",
       "      <th>customer_birth_date</th>\n",
       "      <th>customer_gender</th>\n",
       "      <th>customer_education</th>\n",
       "      <th>customer_occupation</th>\n",
       "      <th>customer_years_old</th>\n",
       "    </tr>\n",
       "  </thead>\n",
       "  <tbody>\n",
       "    <tr>\n",
       "      <th>7</th>\n",
       "      <td>0b585fb06695db3347b6e340f7f897bf</td>\n",
       "      <td>Jeffrey Snyder</td>\n",
       "      <td>11440 SE AQUILA ST</td>\n",
       "      <td>HAPPY VALLEY</td>\n",
       "      <td>OREGON</td>\n",
       "      <td>97086</td>\n",
       "      <td>1956-10-17</td>\n",
       "      <td>MALE</td>\n",
       "      <td>HIGHSCHOOL</td>\n",
       "      <td>SALES</td>\n",
       "      <td>64</td>\n",
       "    </tr>\n",
       "    <tr>\n",
       "      <th>281</th>\n",
       "      <td>fd2f4a74e4cb366fd0c03f6d015a5405</td>\n",
       "      <td>Richard Steiner</td>\n",
       "      <td>11901 SE SOUTHERN LITES DR</td>\n",
       "      <td>HAPPY VALLEY</td>\n",
       "      <td>OREGON</td>\n",
       "      <td>97086</td>\n",
       "      <td>1979-04-25</td>\n",
       "      <td>MALE</td>\n",
       "      <td>NA</td>\n",
       "      <td>BUSINESS&amp;FINANCE</td>\n",
       "      <td>41</td>\n",
       "    </tr>\n",
       "    <tr>\n",
       "      <th>282</th>\n",
       "      <td>389feb6f1ef03b7c0687901aefa6da95</td>\n",
       "      <td>James Silva</td>\n",
       "      <td>10505 SE 92ND AVE</td>\n",
       "      <td>HAPPY VALLEY</td>\n",
       "      <td>OREGON</td>\n",
       "      <td>97086</td>\n",
       "      <td>1966-05-30</td>\n",
       "      <td>MALE</td>\n",
       "      <td>HIGHSCHOOL</td>\n",
       "      <td>ADMIN&amp;SUPPORT</td>\n",
       "      <td>54</td>\n",
       "    </tr>\n",
       "    <tr>\n",
       "      <th>394</th>\n",
       "      <td>930f6b644fc44ef16e52f8ca405a24a9</td>\n",
       "      <td>Joyce Coleman</td>\n",
       "      <td>9540 SE WESTVIEW CT</td>\n",
       "      <td>HAPPY VALLEY</td>\n",
       "      <td>OREGON</td>\n",
       "      <td>97086</td>\n",
       "      <td>1963-09-01</td>\n",
       "      <td>FEMALE</td>\n",
       "      <td>COLLEGE</td>\n",
       "      <td>SALES</td>\n",
       "      <td>57</td>\n",
       "    </tr>\n",
       "    <tr>\n",
       "      <th>512</th>\n",
       "      <td>e16ec2045318bc00b5b0d81c4c5964bb</td>\n",
       "      <td>James Wichman</td>\n",
       "      <td>11703 SE MASA LN</td>\n",
       "      <td>HAPPY VALLEY</td>\n",
       "      <td>N/A</td>\n",
       "      <td>97086</td>\n",
       "      <td>2000-04-25</td>\n",
       "      <td>MALE</td>\n",
       "      <td>HIGHSCHOOL</td>\n",
       "      <td>ADMIN&amp;SUPPORT</td>\n",
       "      <td>20</td>\n",
       "    </tr>\n",
       "  </tbody>\n",
       "</table>\n",
       "</div>"
      ],
      "text/plain": [
       "                          customer_id    customer_name  \\\n",
       "7    0b585fb06695db3347b6e340f7f897bf   Jeffrey Snyder   \n",
       "281  fd2f4a74e4cb366fd0c03f6d015a5405  Richard Steiner   \n",
       "282  389feb6f1ef03b7c0687901aefa6da95      James Silva   \n",
       "394  930f6b644fc44ef16e52f8ca405a24a9    Joyce Coleman   \n",
       "512  e16ec2045318bc00b5b0d81c4c5964bb    James Wichman   \n",
       "\n",
       "        customer_street_address customer_city customer_state  \\\n",
       "7            11440 SE AQUILA ST  HAPPY VALLEY         OREGON   \n",
       "281  11901 SE SOUTHERN LITES DR  HAPPY VALLEY         OREGON   \n",
       "282           10505 SE 92ND AVE  HAPPY VALLEY         OREGON   \n",
       "394         9540 SE WESTVIEW CT  HAPPY VALLEY         OREGON   \n",
       "512            11703 SE MASA LN  HAPPY VALLEY            N/A   \n",
       "\n",
       "     customer_zipcode customer_birth_date customer_gender customer_education  \\\n",
       "7               97086          1956-10-17            MALE         HIGHSCHOOL   \n",
       "281             97086          1979-04-25            MALE                 NA   \n",
       "282             97086          1966-05-30            MALE         HIGHSCHOOL   \n",
       "394             97086          1963-09-01          FEMALE            COLLEGE   \n",
       "512             97086          2000-04-25            MALE         HIGHSCHOOL   \n",
       "\n",
       "    customer_occupation  customer_years_old  \n",
       "7                 SALES                  64  \n",
       "281    BUSINESS&FINANCE                  41  \n",
       "282       ADMIN&SUPPORT                  54  \n",
       "394               SALES                  57  \n",
       "512       ADMIN&SUPPORT                  20  "
      ]
     },
     "execution_count": 1119,
     "metadata": {},
     "output_type": "execute_result"
    }
   ],
   "source": [
    "customers_df[customers_df.customer_city=='HAPPY VALLEY'].head(5)"
   ]
  },
  {
   "cell_type": "code",
   "execution_count": 1120,
   "id": "de0e57cc-ac57-4e90-a9c4-425cb435d1aa",
   "metadata": {},
   "outputs": [],
   "source": [
    "customers_df.loc[(customers_df.customer_city=='BEAVERTON')&(customers_df.customer_state=='N/A'), 'customer_state'] = 'OREGON'\n",
    "customers_df.loc[(customers_df.customer_city=='PORTLAND')&(customers_df.customer_state=='N/A'), 'customer_state'] = 'OREGON'\n",
    "customers_df.loc[(customers_df.customer_city=='HAPPY VALLEY')&(customers_df.customer_state=='N/A'), 'customer_state'] = 'OREGON'\n",
    "customers_df.loc[(customers_df.customer_city=='HILLSBORO')&(customers_df.customer_state=='N/A'), 'customer_state'] = 'OREGON'\n",
    "customers_df.loc[(customers_df.customer_city=='LAKE OSWEGO')&(customers_df.customer_state=='N/A'), 'customer_state'] = 'OREGON'\n",
    "customers_df.loc[(customers_df.customer_city=='VANCOUVER')&(customers_df.customer_state=='N/A'), 'customer_state'] = 'WASHINGTON'"
   ]
  },
  {
   "cell_type": "markdown",
   "id": "f4b62773-bc82-4e90-a44c-95555e998a10",
   "metadata": {},
   "source": [
    "Let's determine City and State based on Zip codes, first let's use just our data"
   ]
  },
  {
   "cell_type": "code",
   "execution_count": 1121,
   "id": "b3aa1e26-5855-4bfe-94ed-fda7072ee472",
   "metadata": {},
   "outputs": [
    {
     "data": {
      "text/plain": [
       "array([97227, 97209, 97212, 97220, 97206, 97230, 97210])"
      ]
     },
     "execution_count": 1121,
     "metadata": {},
     "output_type": "execute_result"
    }
   ],
   "source": [
    "customers_df[(customers_df['customer_state']=='N/A')][['customer_city', 'customer_state','customer_zipcode']].drop_duplicates().customer_zipcode.unique()"
   ]
  },
  {
   "cell_type": "code",
   "execution_count": 1122,
   "id": "da38254f-9d72-4566-b344-a66b2d7a27ac",
   "metadata": {},
   "outputs": [
    {
     "data": {
      "text/html": [
       "<div>\n",
       "<style scoped>\n",
       "    .dataframe tbody tr th:only-of-type {\n",
       "        vertical-align: middle;\n",
       "    }\n",
       "\n",
       "    .dataframe tbody tr th {\n",
       "        vertical-align: top;\n",
       "    }\n",
       "\n",
       "    .dataframe thead th {\n",
       "        text-align: right;\n",
       "    }\n",
       "</style>\n",
       "<table border=\"1\" class=\"dataframe\">\n",
       "  <thead>\n",
       "    <tr style=\"text-align: right;\">\n",
       "      <th></th>\n",
       "      <th>customer_city</th>\n",
       "      <th>customer_state</th>\n",
       "    </tr>\n",
       "  </thead>\n",
       "  <tbody>\n",
       "    <tr>\n",
       "      <th>6</th>\n",
       "      <td>PORTLAND</td>\n",
       "      <td>OREGON</td>\n",
       "    </tr>\n",
       "    <tr>\n",
       "      <th>67</th>\n",
       "      <td>N/A</td>\n",
       "      <td>OREGON</td>\n",
       "    </tr>\n",
       "    <tr>\n",
       "      <th>203</th>\n",
       "      <td>N/A</td>\n",
       "      <td>N/A</td>\n",
       "    </tr>\n",
       "  </tbody>\n",
       "</table>\n",
       "</div>"
      ],
      "text/plain": [
       "    customer_city customer_state\n",
       "6        PORTLAND         OREGON\n",
       "67            N/A         OREGON\n",
       "203           N/A            N/A"
      ]
     },
     "execution_count": 1122,
     "metadata": {},
     "output_type": "execute_result"
    }
   ],
   "source": [
    "customers_df[(customers_df.customer_zipcode.isin([97227, 97209, 97212, 97220, 97206, 97230, 97210]))][['customer_city', 'customer_state']].drop_duplicates()"
   ]
  },
  {
   "cell_type": "code",
   "execution_count": 1123,
   "id": "338c01c6-2305-431e-9b7b-962bf062d4a4",
   "metadata": {},
   "outputs": [],
   "source": [
    "# based on zip codes from our data: \n",
    "customers_df.loc[(customers_df.customer_city=='N/A')&(customers_df.customer_state=='N/A'), 'customer_city'] = 'PORTLAND'\n",
    "customers_df.loc[(customers_df.customer_city=='PORTLAND')&(customers_df.customer_state=='N/A'), 'customer_state'] = 'OREGON'\n",
    "customers_df.loc[(customers_df.customer_city=='N/A')&(customers_df.customer_state=='OREGON'), 'customer_city'] = 'PORTLAND'"
   ]
  },
  {
   "cell_type": "code",
   "execution_count": 1124,
   "id": "e8f90c0e-f495-4acb-9fba-07d5c09feed6",
   "metadata": {},
   "outputs": [],
   "source": [
    "customers_df.loc[(customers_df.customer_zipcode==98682), 'customer_city'] = 'VANCOUVER'\n",
    "customers_df.loc[(customers_df.customer_zipcode==98660), 'customer_city'] = 'VANCOUVER'"
   ]
  },
  {
   "cell_type": "code",
   "execution_count": null,
   "id": "baaa71dd-a78b-40e5-9527-3ce27fc4dd43",
   "metadata": {},
   "outputs": [],
   "source": []
  },
  {
   "cell_type": "code",
   "execution_count": null,
   "id": "1239e650-45fe-4f83-99c5-57f0941d0adb",
   "metadata": {},
   "outputs": [],
   "source": []
  },
  {
   "cell_type": "code",
   "execution_count": 1125,
   "id": "1be6f872-1dd5-443a-b7da-4d02d0f46d68",
   "metadata": {},
   "outputs": [],
   "source": [
    "# customers_df[customers_df.customer_city=='HAPPY VALLEY'].head(5)"
   ]
  },
  {
   "cell_type": "code",
   "execution_count": 1126,
   "id": "17555c27-0c53-4e36-81e2-98a46e0221b9",
   "metadata": {},
   "outputs": [],
   "source": [
    "customers_df.loc[(customers_df.customer_city=='LAKE OSWEGO')&(customers_df.customer_state=='N/A'), 'customer_state'] = 'OREGON'"
   ]
  },
  {
   "cell_type": "code",
   "execution_count": 1127,
   "id": "db682154-039d-4c05-a3e8-889c85f63fe1",
   "metadata": {},
   "outputs": [],
   "source": [
    "# customers_df.customer_city.unique()"
   ]
  },
  {
   "cell_type": "code",
   "execution_count": 1128,
   "id": "9c833f56-264c-479c-9d5c-e15c319923cf",
   "metadata": {},
   "outputs": [
    {
     "data": {
      "text/html": [
       "<div>\n",
       "<style scoped>\n",
       "    .dataframe tbody tr th:only-of-type {\n",
       "        vertical-align: middle;\n",
       "    }\n",
       "\n",
       "    .dataframe tbody tr th {\n",
       "        vertical-align: top;\n",
       "    }\n",
       "\n",
       "    .dataframe thead th {\n",
       "        text-align: right;\n",
       "    }\n",
       "</style>\n",
       "<table border=\"1\" class=\"dataframe\">\n",
       "  <thead>\n",
       "    <tr style=\"text-align: right;\">\n",
       "      <th></th>\n",
       "      <th>customer_id</th>\n",
       "      <th>customer_name</th>\n",
       "      <th>customer_street_address</th>\n",
       "      <th>customer_city</th>\n",
       "      <th>customer_state</th>\n",
       "      <th>customer_zipcode</th>\n",
       "      <th>customer_birth_date</th>\n",
       "      <th>customer_gender</th>\n",
       "      <th>customer_education</th>\n",
       "      <th>customer_occupation</th>\n",
       "      <th>customer_years_old</th>\n",
       "    </tr>\n",
       "  </thead>\n",
       "  <tbody>\n",
       "    <tr>\n",
       "      <th>0</th>\n",
       "      <td>df83ec2d0d409395c0d8c2690cfa8b67</td>\n",
       "      <td>Cynthia Barnfield</td>\n",
       "      <td>44 NE MEIKLE PL</td>\n",
       "      <td>PORTLAND</td>\n",
       "      <td>OREGON</td>\n",
       "      <td>97213</td>\n",
       "      <td>2009-09-10</td>\n",
       "      <td>FEMALE</td>\n",
       "      <td>HIGHSCHOOL</td>\n",
       "      <td>NA</td>\n",
       "      <td>11</td>\n",
       "    </tr>\n",
       "    <tr>\n",
       "      <th>1</th>\n",
       "      <td>6aec7ab2ea0d67161dac39e5dcabd857</td>\n",
       "      <td>Elizabeth Smith</td>\n",
       "      <td>7511 SE HARRISON ST</td>\n",
       "      <td>PORTLAND</td>\n",
       "      <td>OREGON</td>\n",
       "      <td>97215</td>\n",
       "      <td>1956-12-15</td>\n",
       "      <td>FEMALE</td>\n",
       "      <td>COLLEGE</td>\n",
       "      <td>BLUECOLLAR</td>\n",
       "      <td>64</td>\n",
       "    </tr>\n",
       "  </tbody>\n",
       "</table>\n",
       "</div>"
      ],
      "text/plain": [
       "                        customer_id      customer_name  \\\n",
       "0  df83ec2d0d409395c0d8c2690cfa8b67  Cynthia Barnfield   \n",
       "1  6aec7ab2ea0d67161dac39e5dcabd857    Elizabeth Smith   \n",
       "\n",
       "  customer_street_address customer_city customer_state  customer_zipcode  \\\n",
       "0         44 NE MEIKLE PL      PORTLAND         OREGON             97213   \n",
       "1     7511 SE HARRISON ST      PORTLAND         OREGON             97215   \n",
       "\n",
       "  customer_birth_date customer_gender customer_education customer_occupation  \\\n",
       "0          2009-09-10          FEMALE         HIGHSCHOOL                  NA   \n",
       "1          1956-12-15          FEMALE            COLLEGE          BLUECOLLAR   \n",
       "\n",
       "   customer_years_old  \n",
       "0                  11  \n",
       "1                  64  "
      ]
     },
     "execution_count": 1128,
     "metadata": {},
     "output_type": "execute_result"
    }
   ],
   "source": [
    "customers_df.head(2)"
   ]
  },
  {
   "cell_type": "code",
   "execution_count": 1129,
   "id": "f147b9c9-4782-4b1d-b963-9d8d8ae798b7",
   "metadata": {},
   "outputs": [
    {
     "data": {
      "text/plain": [
       "Series([], Name: customer_zipcode, dtype: int64)"
      ]
     },
     "execution_count": 1129,
     "metadata": {},
     "output_type": "execute_result"
    }
   ],
   "source": [
    "customers_df.loc[(customers_df.customer_city=='N/A')|(customers_df.customer_state=='N/A')].customer_zipcode"
   ]
  },
  {
   "cell_type": "code",
   "execution_count": 1130,
   "id": "0d0e270b-32f5-4a46-90a1-b5e75d8384df",
   "metadata": {},
   "outputs": [],
   "source": [
    "# customers_df[['customer_city', 'customer_state']].drop_duplicates()"
   ]
  },
  {
   "cell_type": "code",
   "execution_count": 1131,
   "id": "62cb4d4a-5443-4040-a748-df489aa9c9c1",
   "metadata": {},
   "outputs": [],
   "source": [
    "# dtale.show(customers_df[['customer_city']])"
   ]
  },
  {
   "cell_type": "code",
   "execution_count": null,
   "id": "74dc9b10-25a3-4b65-9486-0577c2758963",
   "metadata": {},
   "outputs": [],
   "source": []
  },
  {
   "cell_type": "code",
   "execution_count": 1086,
   "id": "f0f81da0-6b8a-491d-8172-c4df30f5372e",
   "metadata": {},
   "outputs": [],
   "source": [
    "# customers_df[(customers_df.customer_zipcode==97209)].head(1)"
   ]
  },
  {
   "cell_type": "code",
   "execution_count": 1087,
   "id": "6f1a9183-cc20-4cdc-ac3a-dee13ee2d62a",
   "metadata": {},
   "outputs": [],
   "source": [
    "# customers_df[(customers_df.customer_zipcode==97210)].head(1)"
   ]
  },
  {
   "cell_type": "code",
   "execution_count": 1088,
   "id": "c031afae-18b8-4fad-a371-30a6d255eeec",
   "metadata": {},
   "outputs": [],
   "source": [
    "# customers_df[(customers_df['customer_state']=='N/A')][['customer_city', 'customer_state','customer_zipcode']].drop_duplicates()"
   ]
  },
  {
   "cell_type": "code",
   "execution_count": 1132,
   "id": "2f20e5e9-8cfe-4f5a-9a48-9e65784025cb",
   "metadata": {},
   "outputs": [
    {
     "data": {
      "text/html": [
       "<div>\n",
       "<style scoped>\n",
       "    .dataframe tbody tr th:only-of-type {\n",
       "        vertical-align: middle;\n",
       "    }\n",
       "\n",
       "    .dataframe tbody tr th {\n",
       "        vertical-align: top;\n",
       "    }\n",
       "\n",
       "    .dataframe thead th {\n",
       "        text-align: right;\n",
       "    }\n",
       "</style>\n",
       "<table border=\"1\" class=\"dataframe\">\n",
       "  <thead>\n",
       "    <tr style=\"text-align: right;\">\n",
       "      <th></th>\n",
       "      <th>customer_city</th>\n",
       "      <th>customer_state</th>\n",
       "      <th>customer_zipcode</th>\n",
       "    </tr>\n",
       "  </thead>\n",
       "  <tbody>\n",
       "  </tbody>\n",
       "</table>\n",
       "</div>"
      ],
      "text/plain": [
       "Empty DataFrame\n",
       "Columns: [customer_city, customer_state, customer_zipcode]\n",
       "Index: []"
      ]
     },
     "execution_count": 1132,
     "metadata": {},
     "output_type": "execute_result"
    }
   ],
   "source": [
    "customers_df[(customers_df['customer_city']=='N/A')|(customers_df['customer_state']=='N/A')][['customer_city', 'customer_state','customer_zipcode']].drop_duplicates()"
   ]
  },
  {
   "cell_type": "code",
   "execution_count": 1133,
   "id": "cd7b83b7-ed6c-45ab-af27-e5e865ff7974",
   "metadata": {},
   "outputs": [
    {
     "data": {
      "text/plain": [
       "array(['PORTLAND', 'HAPPY VALLEY', 'LAKE OSWEGO', 'VANCOUVER',\n",
       "       'BEAVERTON', 'GRESHAM', 'WEST LINN', 'TUALATIN', 'OREGON CITY',\n",
       "       'DAMASCUS', 'CLACKAMAS', 'HILLSBORO', 'LAKE  OSWEGO',\n",
       "       'HAPPY  VALLEY', 'LAKE   OSWEGO', 'GLADSTONE'], dtype=object)"
      ]
     },
     "execution_count": 1133,
     "metadata": {},
     "output_type": "execute_result"
    }
   ],
   "source": [
    "customers_df['customer_city'].unique()"
   ]
  },
  {
   "cell_type": "code",
   "execution_count": 1134,
   "id": "4c63d214-d45c-4386-ac76-fd9a3e563240",
   "metadata": {},
   "outputs": [
    {
     "data": {
      "text/plain": [
       "array(['OREGON', 'WASHINGTON'], dtype=object)"
      ]
     },
     "execution_count": 1134,
     "metadata": {},
     "output_type": "execute_result"
    }
   ],
   "source": [
    "customers_df['customer_state'].unique()"
   ]
  },
  {
   "cell_type": "code",
   "execution_count": 1135,
   "id": "408f4414-625f-4a57-acd7-b3d4d16e3c5d",
   "metadata": {},
   "outputs": [],
   "source": [
    "# coordinates_list_df = pd.read_pickle('data/coordinates_list_df.pickle')"
   ]
  },
  {
   "cell_type": "code",
   "execution_count": 1136,
   "id": "d32b5518-2f53-48dd-b686-ab4be1597149",
   "metadata": {},
   "outputs": [],
   "source": [
    "coordinates_list_gdf = pd.read_pickle('data/coordinates_list_gdf.pickle')"
   ]
  },
  {
   "cell_type": "code",
   "execution_count": 1137,
   "id": "20855fd2-93c5-4287-af47-345380e88d32",
   "metadata": {},
   "outputs": [],
   "source": [
    "coordinates_list_gdf = coordinates_list_gdf[~coordinates_list_gdf.geometry.isna()]"
   ]
  },
  {
   "cell_type": "code",
   "execution_count": 1138,
   "id": "10c59e03-d594-4f20-81ba-a30a83a4f157",
   "metadata": {},
   "outputs": [
    {
     "data": {
      "text/html": [
       "<div>\n",
       "<style scoped>\n",
       "    .dataframe tbody tr th:only-of-type {\n",
       "        vertical-align: middle;\n",
       "    }\n",
       "\n",
       "    .dataframe tbody tr th {\n",
       "        vertical-align: top;\n",
       "    }\n",
       "\n",
       "    .dataframe thead th {\n",
       "        text-align: right;\n",
       "    }\n",
       "</style>\n",
       "<table border=\"1\" class=\"dataframe\">\n",
       "  <thead>\n",
       "    <tr style=\"text-align: right;\">\n",
       "      <th></th>\n",
       "      <th>address</th>\n",
       "      <th>geometry</th>\n",
       "      <th>longitude</th>\n",
       "      <th>latitude</th>\n",
       "    </tr>\n",
       "  </thead>\n",
       "  <tbody>\n",
       "    <tr>\n",
       "      <th>0</th>\n",
       "      <td>44 NE MEIKLE PL, PORTLAND, OREGON</td>\n",
       "      <td>POINT (-122.61875 45.52349)</td>\n",
       "      <td>-122.61875283330345</td>\n",
       "      <td>45.52348805</td>\n",
       "    </tr>\n",
       "    <tr>\n",
       "      <th>1</th>\n",
       "      <td>7511 SE HARRISON ST, PORTLAND, OREGON</td>\n",
       "      <td>POINT (-122.58601 45.50912)</td>\n",
       "      <td>-122.58601213138911</td>\n",
       "      <td>45.509121</td>\n",
       "    </tr>\n",
       "  </tbody>\n",
       "</table>\n",
       "</div>"
      ],
      "text/plain": [
       "                                 address                     geometry  \\\n",
       "0      44 NE MEIKLE PL, PORTLAND, OREGON  POINT (-122.61875 45.52349)   \n",
       "1  7511 SE HARRISON ST, PORTLAND, OREGON  POINT (-122.58601 45.50912)   \n",
       "\n",
       "             longitude     latitude  \n",
       "0  -122.61875283330345  45.52348805  \n",
       "1  -122.58601213138911    45.509121  "
      ]
     },
     "execution_count": 1138,
     "metadata": {},
     "output_type": "execute_result"
    }
   ],
   "source": [
    "coordinates_list_gdf.head(2)"
   ]
  },
  {
   "cell_type": "code",
   "execution_count": 1096,
   "id": "83b03596-2326-409d-a979-8522ab12d594",
   "metadata": {},
   "outputs": [
    {
     "data": {
      "text/html": [
       "<div>\n",
       "<style scoped>\n",
       "    .dataframe tbody tr th:only-of-type {\n",
       "        vertical-align: middle;\n",
       "    }\n",
       "\n",
       "    .dataframe tbody tr th {\n",
       "        vertical-align: top;\n",
       "    }\n",
       "\n",
       "    .dataframe thead th {\n",
       "        text-align: right;\n",
       "    }\n",
       "</style>\n",
       "<table border=\"1\" class=\"dataframe\">\n",
       "  <thead>\n",
       "    <tr style=\"text-align: right;\">\n",
       "      <th></th>\n",
       "      <th>customer_id</th>\n",
       "      <th>customer_name</th>\n",
       "      <th>customer_street_address</th>\n",
       "      <th>customer_city</th>\n",
       "      <th>customer_state</th>\n",
       "      <th>customer_zipcode</th>\n",
       "      <th>customer_birth_date</th>\n",
       "      <th>customer_gender</th>\n",
       "      <th>customer_education</th>\n",
       "      <th>customer_occupation</th>\n",
       "      <th>customer_years_old</th>\n",
       "    </tr>\n",
       "  </thead>\n",
       "  <tbody>\n",
       "    <tr>\n",
       "      <th>0</th>\n",
       "      <td>df83ec2d0d409395c0d8c2690cfa8b67</td>\n",
       "      <td>Cynthia Barnfield</td>\n",
       "      <td>44 NE MEIKLE PL</td>\n",
       "      <td>PORTLAND</td>\n",
       "      <td>OREGON</td>\n",
       "      <td>97213</td>\n",
       "      <td>2009-09-10</td>\n",
       "      <td>FEMALE</td>\n",
       "      <td>HIGHSCHOOL</td>\n",
       "      <td>NA</td>\n",
       "      <td>11</td>\n",
       "    </tr>\n",
       "    <tr>\n",
       "      <th>1</th>\n",
       "      <td>6aec7ab2ea0d67161dac39e5dcabd857</td>\n",
       "      <td>Elizabeth Smith</td>\n",
       "      <td>7511 SE HARRISON ST</td>\n",
       "      <td>PORTLAND</td>\n",
       "      <td>OREGON</td>\n",
       "      <td>97215</td>\n",
       "      <td>1956-12-15</td>\n",
       "      <td>FEMALE</td>\n",
       "      <td>COLLEGE</td>\n",
       "      <td>BLUECOLLAR</td>\n",
       "      <td>64</td>\n",
       "    </tr>\n",
       "  </tbody>\n",
       "</table>\n",
       "</div>"
      ],
      "text/plain": [
       "                        customer_id      customer_name  \\\n",
       "0  df83ec2d0d409395c0d8c2690cfa8b67  Cynthia Barnfield   \n",
       "1  6aec7ab2ea0d67161dac39e5dcabd857    Elizabeth Smith   \n",
       "\n",
       "  customer_street_address customer_city customer_state  customer_zipcode  \\\n",
       "0         44 NE MEIKLE PL      PORTLAND         OREGON             97213   \n",
       "1     7511 SE HARRISON ST      PORTLAND         OREGON             97215   \n",
       "\n",
       "  customer_birth_date customer_gender customer_education customer_occupation  \\\n",
       "0          2009-09-10          FEMALE         HIGHSCHOOL                  NA   \n",
       "1          1956-12-15          FEMALE            COLLEGE          BLUECOLLAR   \n",
       "\n",
       "   customer_years_old  \n",
       "0                  11  \n",
       "1                  64  "
      ]
     },
     "execution_count": 1096,
     "metadata": {},
     "output_type": "execute_result"
    }
   ],
   "source": [
    "customers_df.head(2)"
   ]
  },
  {
   "cell_type": "code",
   "execution_count": 1157,
   "id": "05d739f3-d647-4c0f-be6b-79005529f8be",
   "metadata": {},
   "outputs": [],
   "source": [
    "customers_df[\"address\"] = customers_df[\"customer_street_address\"] + ', ' + customers_df[\"customer_city\"] + ', ' + customers_df[\"customer_state\"]"
   ]
  },
  {
   "cell_type": "code",
   "execution_count": 1158,
   "id": "4faa5a4e-6807-4b58-a589-d8cdfbe659d2",
   "metadata": {},
   "outputs": [
    {
     "data": {
      "text/html": [
       "<div>\n",
       "<style scoped>\n",
       "    .dataframe tbody tr th:only-of-type {\n",
       "        vertical-align: middle;\n",
       "    }\n",
       "\n",
       "    .dataframe tbody tr th {\n",
       "        vertical-align: top;\n",
       "    }\n",
       "\n",
       "    .dataframe thead th {\n",
       "        text-align: right;\n",
       "    }\n",
       "</style>\n",
       "<table border=\"1\" class=\"dataframe\">\n",
       "  <thead>\n",
       "    <tr style=\"text-align: right;\">\n",
       "      <th></th>\n",
       "      <th>patron_id</th>\n",
       "      <th>customer_name</th>\n",
       "      <th>customer_street_address</th>\n",
       "      <th>customer_city</th>\n",
       "      <th>customer_state</th>\n",
       "      <th>customer_zipcode</th>\n",
       "      <th>customer_birth_date</th>\n",
       "      <th>customer_gender</th>\n",
       "      <th>customer_education</th>\n",
       "      <th>customer_occupation</th>\n",
       "      <th>customer_years_old</th>\n",
       "      <th>customer_address</th>\n",
       "      <th>address</th>\n",
       "    </tr>\n",
       "  </thead>\n",
       "  <tbody>\n",
       "    <tr>\n",
       "      <th>0</th>\n",
       "      <td>df83ec2d0d409395c0d8c2690cfa8b67</td>\n",
       "      <td>Cynthia Barnfield</td>\n",
       "      <td>44 NE MEIKLE PL</td>\n",
       "      <td>PORTLAND</td>\n",
       "      <td>OREGON</td>\n",
       "      <td>97213</td>\n",
       "      <td>2009-09-10</td>\n",
       "      <td>FEMALE</td>\n",
       "      <td>HIGHSCHOOL</td>\n",
       "      <td>NA</td>\n",
       "      <td>11</td>\n",
       "      <td>44 NE MEIKLE PL, PORTLAND, OREGON</td>\n",
       "      <td>44 NE MEIKLE PL, PORTLAND, OREGON</td>\n",
       "    </tr>\n",
       "    <tr>\n",
       "      <th>1</th>\n",
       "      <td>6aec7ab2ea0d67161dac39e5dcabd857</td>\n",
       "      <td>Elizabeth Smith</td>\n",
       "      <td>7511 SE HARRISON ST</td>\n",
       "      <td>PORTLAND</td>\n",
       "      <td>OREGON</td>\n",
       "      <td>97215</td>\n",
       "      <td>1956-12-15</td>\n",
       "      <td>FEMALE</td>\n",
       "      <td>COLLEGE</td>\n",
       "      <td>BLUECOLLAR</td>\n",
       "      <td>64</td>\n",
       "      <td>7511 SE HARRISON ST, PORTLAND, OREGON</td>\n",
       "      <td>7511 SE HARRISON ST, PORTLAND, OREGON</td>\n",
       "    </tr>\n",
       "  </tbody>\n",
       "</table>\n",
       "</div>"
      ],
      "text/plain": [
       "                          patron_id      customer_name  \\\n",
       "0  df83ec2d0d409395c0d8c2690cfa8b67  Cynthia Barnfield   \n",
       "1  6aec7ab2ea0d67161dac39e5dcabd857    Elizabeth Smith   \n",
       "\n",
       "  customer_street_address customer_city customer_state  customer_zipcode  \\\n",
       "0         44 NE MEIKLE PL      PORTLAND         OREGON             97213   \n",
       "1     7511 SE HARRISON ST      PORTLAND         OREGON             97215   \n",
       "\n",
       "  customer_birth_date customer_gender customer_education customer_occupation  \\\n",
       "0          2009-09-10          FEMALE         HIGHSCHOOL                  NA   \n",
       "1          1956-12-15          FEMALE            COLLEGE          BLUECOLLAR   \n",
       "\n",
       "   customer_years_old                       customer_address  \\\n",
       "0                  11      44 NE MEIKLE PL, PORTLAND, OREGON   \n",
       "1                  64  7511 SE HARRISON ST, PORTLAND, OREGON   \n",
       "\n",
       "                                 address  \n",
       "0      44 NE MEIKLE PL, PORTLAND, OREGON  \n",
       "1  7511 SE HARRISON ST, PORTLAND, OREGON  "
      ]
     },
     "execution_count": 1158,
     "metadata": {},
     "output_type": "execute_result"
    }
   ],
   "source": [
    "customers_df.head(2)"
   ]
  },
  {
   "cell_type": "code",
   "execution_count": 1159,
   "id": "bc03951e-2726-4cb3-a784-02a33636c069",
   "metadata": {},
   "outputs": [],
   "source": [
    "customers_df = customers_df.merge(coordinates_list_gdf, on='address', how='left')"
   ]
  },
  {
   "cell_type": "code",
   "execution_count": null,
   "id": "e24f54f4-6d9c-4dff-9e23-f93af2b53e59",
   "metadata": {},
   "outputs": [],
   "source": []
  },
  {
   "cell_type": "code",
   "execution_count": 1162,
   "id": "31a88ec6-0684-47fc-b1e1-d03ee137234a",
   "metadata": {},
   "outputs": [],
   "source": [
    "# customers_df = gpd.GeoDataFrame(customers_df)\n",
    "\n",
    "customers_gdf = gpd.GeoDataFrame(customers_df, geometry='geometry', crs='EPSG:4326')"
   ]
  },
  {
   "cell_type": "code",
   "execution_count": 1163,
   "id": "af990c6f-96e2-4af7-8f65-8f6d83991159",
   "metadata": {},
   "outputs": [
    {
     "data": {
      "text/html": [
       "<div>\n",
       "<style scoped>\n",
       "    .dataframe tbody tr th:only-of-type {\n",
       "        vertical-align: middle;\n",
       "    }\n",
       "\n",
       "    .dataframe tbody tr th {\n",
       "        vertical-align: top;\n",
       "    }\n",
       "\n",
       "    .dataframe thead th {\n",
       "        text-align: right;\n",
       "    }\n",
       "</style>\n",
       "<table border=\"1\" class=\"dataframe\">\n",
       "  <thead>\n",
       "    <tr style=\"text-align: right;\">\n",
       "      <th></th>\n",
       "      <th>patron_id</th>\n",
       "      <th>customer_name</th>\n",
       "      <th>customer_street_address</th>\n",
       "      <th>customer_city</th>\n",
       "      <th>customer_state</th>\n",
       "      <th>customer_zipcode</th>\n",
       "      <th>customer_birth_date</th>\n",
       "      <th>customer_gender</th>\n",
       "      <th>customer_education</th>\n",
       "      <th>customer_occupation</th>\n",
       "      <th>customer_years_old</th>\n",
       "      <th>customer_address</th>\n",
       "      <th>geometry</th>\n",
       "      <th>longitude</th>\n",
       "      <th>latitude</th>\n",
       "    </tr>\n",
       "  </thead>\n",
       "  <tbody>\n",
       "    <tr>\n",
       "      <th>0</th>\n",
       "      <td>df83ec2d0d409395c0d8c2690cfa8b67</td>\n",
       "      <td>Cynthia Barnfield</td>\n",
       "      <td>44 NE MEIKLE PL</td>\n",
       "      <td>PORTLAND</td>\n",
       "      <td>OREGON</td>\n",
       "      <td>97213</td>\n",
       "      <td>2009-09-10</td>\n",
       "      <td>FEMALE</td>\n",
       "      <td>HIGHSCHOOL</td>\n",
       "      <td>NA</td>\n",
       "      <td>11</td>\n",
       "      <td>44 NE MEIKLE PL, PORTLAND, OREGON</td>\n",
       "      <td>POINT (-122.61875 45.52349)</td>\n",
       "      <td>-122.61875283330345</td>\n",
       "      <td>45.52348805</td>\n",
       "    </tr>\n",
       "    <tr>\n",
       "      <th>1</th>\n",
       "      <td>6aec7ab2ea0d67161dac39e5dcabd857</td>\n",
       "      <td>Elizabeth Smith</td>\n",
       "      <td>7511 SE HARRISON ST</td>\n",
       "      <td>PORTLAND</td>\n",
       "      <td>OREGON</td>\n",
       "      <td>97215</td>\n",
       "      <td>1956-12-15</td>\n",
       "      <td>FEMALE</td>\n",
       "      <td>COLLEGE</td>\n",
       "      <td>BLUECOLLAR</td>\n",
       "      <td>64</td>\n",
       "      <td>7511 SE HARRISON ST, PORTLAND, OREGON</td>\n",
       "      <td>POINT (-122.58601 45.50912)</td>\n",
       "      <td>-122.58601213138911</td>\n",
       "      <td>45.509121</td>\n",
       "    </tr>\n",
       "  </tbody>\n",
       "</table>\n",
       "</div>"
      ],
      "text/plain": [
       "                          patron_id      customer_name  \\\n",
       "0  df83ec2d0d409395c0d8c2690cfa8b67  Cynthia Barnfield   \n",
       "1  6aec7ab2ea0d67161dac39e5dcabd857    Elizabeth Smith   \n",
       "\n",
       "  customer_street_address customer_city customer_state  customer_zipcode  \\\n",
       "0         44 NE MEIKLE PL      PORTLAND         OREGON             97213   \n",
       "1     7511 SE HARRISON ST      PORTLAND         OREGON             97215   \n",
       "\n",
       "  customer_birth_date customer_gender customer_education customer_occupation  \\\n",
       "0          2009-09-10          FEMALE         HIGHSCHOOL                  NA   \n",
       "1          1956-12-15          FEMALE            COLLEGE          BLUECOLLAR   \n",
       "\n",
       "   customer_years_old                       customer_address  \\\n",
       "0                  11      44 NE MEIKLE PL, PORTLAND, OREGON   \n",
       "1                  64  7511 SE HARRISON ST, PORTLAND, OREGON   \n",
       "\n",
       "                      geometry            longitude     latitude  \n",
       "0  POINT (-122.61875 45.52349)  -122.61875283330345  45.52348805  \n",
       "1  POINT (-122.58601 45.50912)  -122.58601213138911    45.509121  "
      ]
     },
     "execution_count": 1163,
     "metadata": {},
     "output_type": "execute_result"
    }
   ],
   "source": [
    "customers_gdf.head(2)"
   ]
  },
  {
   "cell_type": "code",
   "execution_count": 948,
   "id": "46f17c01-1659-419b-9a52-82ea5afb6550",
   "metadata": {},
   "outputs": [],
   "source": []
  },
  {
   "cell_type": "code",
   "execution_count": 651,
   "id": "4b68a5c5-f168-465b-8f8c-24e342c83062",
   "metadata": {},
   "outputs": [],
   "source": [
    "# customers_df[~customers_df.geometry.isna()]"
   ]
  },
  {
   "cell_type": "code",
   "execution_count": 1164,
   "id": "183e5813-5a5a-4673-bda3-c63354a83608",
   "metadata": {},
   "outputs": [],
   "source": [
    "customers_df = gpd.GeoDataFrame(customers_df, geometry='geometry', crs='EPSG:4326')"
   ]
  },
  {
   "cell_type": "code",
   "execution_count": 1165,
   "id": "27786334-efa2-442f-8c12-a47ea42dd586",
   "metadata": {},
   "outputs": [],
   "source": [
    "customers_df.to_pickle('data/customers_df.pickle')\n",
    "\n",
    "customers_gdf.to_pickle('data/customers_gdf.pickle')"
   ]
  },
  {
   "cell_type": "code",
   "execution_count": 1166,
   "id": "0653c5c8-ccbe-48bd-bff4-f32ded0c6581",
   "metadata": {},
   "outputs": [],
   "source": [
    "customers_df = pd.read_pickle('data/customers_df.pickle')\n",
    "customers_gdf = pd.read_pickle('data/customers_gdf.pickle')\n"
   ]
  },
  {
   "cell_type": "code",
   "execution_count": 1167,
   "id": "189c9daa-149d-4e24-926e-617611212c08",
   "metadata": {},
   "outputs": [
    {
     "data": {
      "text/html": [
       "<div>\n",
       "<style scoped>\n",
       "    .dataframe tbody tr th:only-of-type {\n",
       "        vertical-align: middle;\n",
       "    }\n",
       "\n",
       "    .dataframe tbody tr th {\n",
       "        vertical-align: top;\n",
       "    }\n",
       "\n",
       "    .dataframe thead th {\n",
       "        text-align: right;\n",
       "    }\n",
       "</style>\n",
       "<table border=\"1\" class=\"dataframe\">\n",
       "  <thead>\n",
       "    <tr style=\"text-align: right;\">\n",
       "      <th></th>\n",
       "      <th>patron_id</th>\n",
       "      <th>customer_name</th>\n",
       "      <th>customer_street_address</th>\n",
       "      <th>customer_city</th>\n",
       "      <th>customer_state</th>\n",
       "      <th>customer_zipcode</th>\n",
       "      <th>customer_birth_date</th>\n",
       "      <th>customer_gender</th>\n",
       "      <th>customer_education</th>\n",
       "      <th>customer_occupation</th>\n",
       "      <th>customer_years_old</th>\n",
       "      <th>customer_address</th>\n",
       "      <th>geometry</th>\n",
       "      <th>longitude</th>\n",
       "      <th>latitude</th>\n",
       "    </tr>\n",
       "  </thead>\n",
       "  <tbody>\n",
       "    <tr>\n",
       "      <th>0</th>\n",
       "      <td>df83ec2d0d409395c0d8c2690cfa8b67</td>\n",
       "      <td>Cynthia Barnfield</td>\n",
       "      <td>44 NE MEIKLE PL</td>\n",
       "      <td>PORTLAND</td>\n",
       "      <td>OREGON</td>\n",
       "      <td>97213</td>\n",
       "      <td>2009-09-10</td>\n",
       "      <td>FEMALE</td>\n",
       "      <td>HIGHSCHOOL</td>\n",
       "      <td>NA</td>\n",
       "      <td>11</td>\n",
       "      <td>44 NE MEIKLE PL, PORTLAND, OREGON</td>\n",
       "      <td>POINT (-122.61875 45.52349)</td>\n",
       "      <td>-122.61875283330345</td>\n",
       "      <td>45.52348805</td>\n",
       "    </tr>\n",
       "    <tr>\n",
       "      <th>1</th>\n",
       "      <td>6aec7ab2ea0d67161dac39e5dcabd857</td>\n",
       "      <td>Elizabeth Smith</td>\n",
       "      <td>7511 SE HARRISON ST</td>\n",
       "      <td>PORTLAND</td>\n",
       "      <td>OREGON</td>\n",
       "      <td>97215</td>\n",
       "      <td>1956-12-15</td>\n",
       "      <td>FEMALE</td>\n",
       "      <td>COLLEGE</td>\n",
       "      <td>BLUECOLLAR</td>\n",
       "      <td>64</td>\n",
       "      <td>7511 SE HARRISON ST, PORTLAND, OREGON</td>\n",
       "      <td>POINT (-122.58601 45.50912)</td>\n",
       "      <td>-122.58601213138911</td>\n",
       "      <td>45.509121</td>\n",
       "    </tr>\n",
       "  </tbody>\n",
       "</table>\n",
       "</div>"
      ],
      "text/plain": [
       "                          patron_id      customer_name  \\\n",
       "0  df83ec2d0d409395c0d8c2690cfa8b67  Cynthia Barnfield   \n",
       "1  6aec7ab2ea0d67161dac39e5dcabd857    Elizabeth Smith   \n",
       "\n",
       "  customer_street_address customer_city customer_state  customer_zipcode  \\\n",
       "0         44 NE MEIKLE PL      PORTLAND         OREGON             97213   \n",
       "1     7511 SE HARRISON ST      PORTLAND         OREGON             97215   \n",
       "\n",
       "  customer_birth_date customer_gender customer_education customer_occupation  \\\n",
       "0          2009-09-10          FEMALE         HIGHSCHOOL                  NA   \n",
       "1          1956-12-15          FEMALE            COLLEGE          BLUECOLLAR   \n",
       "\n",
       "   customer_years_old                       customer_address  \\\n",
       "0                  11      44 NE MEIKLE PL, PORTLAND, OREGON   \n",
       "1                  64  7511 SE HARRISON ST, PORTLAND, OREGON   \n",
       "\n",
       "                      geometry            longitude     latitude  \n",
       "0  POINT (-122.61875 45.52349)  -122.61875283330345  45.52348805  \n",
       "1  POINT (-122.58601 45.50912)  -122.58601213138911    45.509121  "
      ]
     },
     "execution_count": 1167,
     "metadata": {},
     "output_type": "execute_result"
    }
   ],
   "source": [
    "customers_df.head(2)"
   ]
  },
  {
   "cell_type": "markdown",
   "id": "2a640ee4-d882-407c-8fb9-196b8bf5fd9d",
   "metadata": {},
   "source": [
    "# Libraries"
   ]
  },
  {
   "cell_type": "code",
   "execution_count": 882,
   "id": "d990b5ae-ad39-4aa8-b82c-fb3b67ea2747",
   "metadata": {},
   "outputs": [],
   "source": [
    "from shapely import Point"
   ]
  },
  {
   "cell_type": "code",
   "execution_count": 883,
   "id": "feacb8dc-c828-4577-901c-3f22a1a6fe64",
   "metadata": {},
   "outputs": [],
   "source": [
    "geolocator = Nominatim(user_agent=\"marko@droopia\")\n",
    "\n",
    "def get_gps_coordinates(address):\n",
    "    time.sleep(2.1)\n",
    "    location = geolocator.geocode(address)\n",
    "    if location:\n",
    "        return location.longitude, location.latitude\n",
    "    else:\n",
    "        return None"
   ]
  },
  {
   "cell_type": "code",
   "execution_count": 892,
   "id": "35b75e92-1e8b-430c-b902-db26c1bfc498",
   "metadata": {},
   "outputs": [],
   "source": [
    "libraries_df = pd.read_csv('data/libraries.csv').add_prefix('library_')"
   ]
  },
  {
   "cell_type": "code",
   "execution_count": 893,
   "id": "4a5763a0-af70-4c8d-91e9-651c0aa18c93",
   "metadata": {},
   "outputs": [
    {
     "data": {
      "text/html": [
       "<div>\n",
       "<style scoped>\n",
       "    .dataframe tbody tr th:only-of-type {\n",
       "        vertical-align: middle;\n",
       "    }\n",
       "\n",
       "    .dataframe tbody tr th {\n",
       "        vertical-align: top;\n",
       "    }\n",
       "\n",
       "    .dataframe thead th {\n",
       "        text-align: right;\n",
       "    }\n",
       "</style>\n",
       "<table border=\"1\" class=\"dataframe\">\n",
       "  <thead>\n",
       "    <tr style=\"text-align: right;\">\n",
       "      <th></th>\n",
       "      <th>library_id</th>\n",
       "      <th>library_name</th>\n",
       "      <th>library_street_address</th>\n",
       "      <th>library_city</th>\n",
       "      <th>library_region</th>\n",
       "      <th>library_postal_code</th>\n",
       "    </tr>\n",
       "  </thead>\n",
       "  <tbody>\n",
       "    <tr>\n",
       "      <th>0</th>\n",
       "      <td>226-222@5xc-kc4-fpv</td>\n",
       "      <td>Multnomah   County   Library Capitol Hill</td>\n",
       "      <td>10723 SW capitol Hwy</td>\n",
       "      <td>Portland</td>\n",
       "      <td>OR</td>\n",
       "      <td>97219</td>\n",
       "    </tr>\n",
       "    <tr>\n",
       "      <th>1</th>\n",
       "      <td>23v-222@5xc-jv7-v4v</td>\n",
       "      <td>Multnomah County Library Northwest</td>\n",
       "      <td>2300 NW Thurman  St</td>\n",
       "      <td>NaN</td>\n",
       "      <td>or</td>\n",
       "      <td>NaN</td>\n",
       "    </tr>\n",
       "    <tr>\n",
       "      <th>2</th>\n",
       "      <td>222-222@5xc-jvf-skf</td>\n",
       "      <td>Multnomah County Library St Johns</td>\n",
       "      <td>7510 N Charleston Ave</td>\n",
       "      <td>portland</td>\n",
       "      <td>or</td>\n",
       "      <td>97203</td>\n",
       "    </tr>\n",
       "  </tbody>\n",
       "</table>\n",
       "</div>"
      ],
      "text/plain": [
       "            library_id                               library_name  \\\n",
       "0  226-222@5xc-kc4-fpv  Multnomah   County   Library Capitol Hill   \n",
       "1  23v-222@5xc-jv7-v4v         Multnomah County Library Northwest   \n",
       "2  222-222@5xc-jvf-skf          Multnomah County Library St Johns   \n",
       "\n",
       "  library_street_address library_city library_region library_postal_code  \n",
       "0   10723 SW capitol Hwy    Portland             OR                97219  \n",
       "1    2300 NW Thurman  St          NaN             or                 NaN  \n",
       "2  7510 N Charleston Ave     portland             or               97203  "
      ]
     },
     "execution_count": 893,
     "metadata": {},
     "output_type": "execute_result"
    }
   ],
   "source": [
    "libraries_df.head(3)"
   ]
  },
  {
   "cell_type": "code",
   "execution_count": 894,
   "id": "2231abe1-25b3-4f69-94cb-f388883bc6bf",
   "metadata": {},
   "outputs": [
    {
     "data": {
      "text/html": [
       "<div>\n",
       "<style scoped>\n",
       "    .dataframe tbody tr th:only-of-type {\n",
       "        vertical-align: middle;\n",
       "    }\n",
       "\n",
       "    .dataframe tbody tr th {\n",
       "        vertical-align: top;\n",
       "    }\n",
       "\n",
       "    .dataframe thead th {\n",
       "        text-align: right;\n",
       "    }\n",
       "</style>\n",
       "<table border=\"1\" class=\"dataframe\">\n",
       "  <thead>\n",
       "    <tr style=\"text-align: right;\">\n",
       "      <th></th>\n",
       "      <th>library_id</th>\n",
       "      <th>library_name</th>\n",
       "      <th>library_street_address</th>\n",
       "      <th>library_city</th>\n",
       "      <th>library_region</th>\n",
       "      <th>library_postal_code</th>\n",
       "    </tr>\n",
       "  </thead>\n",
       "  <tbody>\n",
       "    <tr>\n",
       "      <th>1</th>\n",
       "      <td>23v-222@5xc-jv7-v4v</td>\n",
       "      <td>Multnomah County Library Northwest</td>\n",
       "      <td>2300 NW Thurman  St</td>\n",
       "      <td>NaN</td>\n",
       "      <td>or</td>\n",
       "      <td>NaN</td>\n",
       "    </tr>\n",
       "    <tr>\n",
       "      <th>9</th>\n",
       "      <td>zzw-222@5xc-knn-c5z</td>\n",
       "      <td>Multnomah County Library Holgate</td>\n",
       "      <td>7905  SE Holgate Blvd</td>\n",
       "      <td>Portland</td>\n",
       "      <td>OR</td>\n",
       "      <td>NaN</td>\n",
       "    </tr>\n",
       "    <tr>\n",
       "      <th>12</th>\n",
       "      <td>225-222@5xc-jtz-hkf</td>\n",
       "      <td>MULTNOMAH County Library</td>\n",
       "      <td>216 ne Knott st</td>\n",
       "      <td>NaN</td>\n",
       "      <td>OR</td>\n",
       "      <td>NaN</td>\n",
       "    </tr>\n",
       "  </tbody>\n",
       "</table>\n",
       "</div>"
      ],
      "text/plain": [
       "             library_id                        library_name  \\\n",
       "1   23v-222@5xc-jv7-v4v  Multnomah County Library Northwest   \n",
       "9   zzw-222@5xc-knn-c5z    Multnomah County Library Holgate   \n",
       "12  225-222@5xc-jtz-hkf            MULTNOMAH County Library   \n",
       "\n",
       "   library_street_address library_city library_region library_postal_code  \n",
       "1     2300 NW Thurman  St          NaN             or                 NaN  \n",
       "9   7905  SE Holgate Blvd     Portland             OR                 NaN  \n",
       "12        216 ne Knott st          NaN             OR                 NaN  "
      ]
     },
     "execution_count": 894,
     "metadata": {},
     "output_type": "execute_result"
    }
   ],
   "source": [
    "libraries_df[libraries_df[\"library_postal_code\"].isna()]"
   ]
  },
  {
   "cell_type": "code",
   "execution_count": null,
   "id": "b10c1c2a-1b4d-44aa-ae3d-e2aa0ce1e636",
   "metadata": {},
   "outputs": [],
   "source": []
  },
  {
   "cell_type": "code",
   "execution_count": 895,
   "id": "18553abc-aecc-4f3a-b48e-b8b16b4bc7f5",
   "metadata": {},
   "outputs": [
    {
     "data": {
      "text/plain": [
       "array(['Portland ', nan, 'portland', 'Portland', ' Portland', 'PORTLAND'],\n",
       "      dtype=object)"
      ]
     },
     "execution_count": 895,
     "metadata": {},
     "output_type": "execute_result"
    }
   ],
   "source": [
    "libraries_df.library_city.unique()"
   ]
  },
  {
   "cell_type": "code",
   "execution_count": 896,
   "id": "7f0626ae-b797-44ad-9263-d0676f69c8ce",
   "metadata": {},
   "outputs": [],
   "source": [
    "libraries_df['library_region'] = libraries_df.library_region.fillna('OR')\n",
    "libraries_df['library_region'] = libraries_df.library_region.apply(lambda x: clean_state(x))\n",
    "\n",
    "libraries_df['library_name'] = libraries_df.library_name.fillna('N/A')\n",
    "libraries_df['library_name'] = libraries_df.library_name.apply(lambda x: clean_state(x))\n",
    "\n",
    "libraries_df['library_city'] = libraries_df.library_city.fillna('PORTLAND')\n",
    "libraries_df['library_city'] = libraries_df.library_city.apply(lambda x: clean_state(x))\n",
    "\n",
    "libraries_df['library_street_address'] = libraries_df.library_street_address.fillna('N/A')\n",
    "libraries_df['library_street_address'] = libraries_df.library_street_address.apply(lambda x: clean_state(x))"
   ]
  },
  {
   "cell_type": "code",
   "execution_count": 897,
   "id": "1efdbcb4-5d99-4edd-89ef-b7332e5f635a",
   "metadata": {},
   "outputs": [],
   "source": [
    "libraries_df[\"library_postal_code\"] = libraries_df[\"library_postal_code\"].fillna('0')\n",
    "libraries_df[\"library_postal_code\"] = libraries_df.library_postal_code.apply(lambda x: clean_zipcode(x))"
   ]
  },
  {
   "cell_type": "code",
   "execution_count": 898,
   "id": "d1fd02b4-1b71-422d-b250-d51c5a259be7",
   "metadata": {},
   "outputs": [],
   "source": [
    "libraries_df[\"address\"] = libraries_df[\"library_street_address\"] + ', ' + libraries_df[\"library_city\"] + ', ' + libraries_df[\"library_region\"]"
   ]
  },
  {
   "cell_type": "code",
   "execution_count": 899,
   "id": "f9c3f52f-20d1-48d0-b38e-e035088c108c",
   "metadata": {},
   "outputs": [],
   "source": [
    "# libraries_df[['longitude', 'latitude']] = libraries_df.address.apply(lambda x:pd.Series(get_gps_coordinates(x)))"
   ]
  },
  {
   "cell_type": "code",
   "execution_count": 854,
   "id": "3fdf0e0a-3727-45c1-9034-fb899340880c",
   "metadata": {},
   "outputs": [],
   "source": [
    "# libraries_df['geometry'] = libraries_df.apply(lambda x: Point(x.longitude, x.latitude) , axis=1)"
   ]
  },
  {
   "cell_type": "code",
   "execution_count": null,
   "id": "0fa6e744-8b7e-4337-917b-063aa5a7b692",
   "metadata": {},
   "outputs": [],
   "source": [
    " "
   ]
  },
  {
   "cell_type": "code",
   "execution_count": 744,
   "id": "dfa8fc10-54aa-4840-a689-d41d4a2c35a9",
   "metadata": {},
   "outputs": [],
   "source": [
    "# libraries_df.head(3)"
   ]
  },
  {
   "cell_type": "code",
   "execution_count": 743,
   "id": "b45933dd-11e8-4b8e-a69f-ff88da2ecc90",
   "metadata": {},
   "outputs": [],
   "source": [
    "# libraries_df.loc[i, 'geometry']"
   ]
  },
  {
   "cell_type": "code",
   "execution_count": 731,
   "id": "09b53c64-7584-4a0c-8e32-09232d1adbca",
   "metadata": {},
   "outputs": [],
   "source": [
    "# libraries_df.loc[i, 'address'] = '801  SW 10TH  AVE, PORTLAND, OR'"
   ]
  },
  {
   "cell_type": "code",
   "execution_count": null,
   "id": "b9279f66-98a9-40f1-acc0-6380f793fd0c",
   "metadata": {},
   "outputs": [],
   "source": []
  },
  {
   "cell_type": "code",
   "execution_count": 727,
   "id": "dffa0903-b058-4f91-b2be-d5bc41aba677",
   "metadata": {},
   "outputs": [],
   "source": [
    "# for i, v in libraries_df.iterrows():\n",
    "#     if libraries_df.loc[i, 'geometry']==Point():\n",
    "#         libraries_df.loc[i, 'geometry'] = coordinates_list_gdf.loc[ coordinates_list_gdf.address==libraries_df.loc[i, 'address'], 'geometry' ].iloc[0]"
   ]
  },
  {
   "cell_type": "code",
   "execution_count": 900,
   "id": "14b6f518-35a0-4120-9fc9-c49a63fd2d71",
   "metadata": {},
   "outputs": [
    {
     "data": {
      "text/html": [
       "<div>\n",
       "<style scoped>\n",
       "    .dataframe tbody tr th:only-of-type {\n",
       "        vertical-align: middle;\n",
       "    }\n",
       "\n",
       "    .dataframe tbody tr th {\n",
       "        vertical-align: top;\n",
       "    }\n",
       "\n",
       "    .dataframe thead th {\n",
       "        text-align: right;\n",
       "    }\n",
       "</style>\n",
       "<table border=\"1\" class=\"dataframe\">\n",
       "  <thead>\n",
       "    <tr style=\"text-align: right;\">\n",
       "      <th></th>\n",
       "      <th>library_id</th>\n",
       "      <th>library_name</th>\n",
       "      <th>library_street_address</th>\n",
       "      <th>library_city</th>\n",
       "      <th>library_region</th>\n",
       "      <th>library_postal_code</th>\n",
       "      <th>address</th>\n",
       "    </tr>\n",
       "  </thead>\n",
       "  <tbody>\n",
       "    <tr>\n",
       "      <th>0</th>\n",
       "      <td>226-222@5xc-kc4-fpv</td>\n",
       "      <td>MULTNOMAH   COUNTY   LIBRARY CAPITOL HILL</td>\n",
       "      <td>10723 SW CAPITOL HWY</td>\n",
       "      <td>PORTLAND</td>\n",
       "      <td>OR</td>\n",
       "      <td>97219</td>\n",
       "      <td>10723 SW CAPITOL HWY, PORTLAND, OR</td>\n",
       "    </tr>\n",
       "    <tr>\n",
       "      <th>1</th>\n",
       "      <td>23v-222@5xc-jv7-v4v</td>\n",
       "      <td>MULTNOMAH COUNTY LIBRARY NORTHWEST</td>\n",
       "      <td>2300 NW THURMAN  ST</td>\n",
       "      <td>PORTLAND</td>\n",
       "      <td>OR</td>\n",
       "      <td>0</td>\n",
       "      <td>2300 NW THURMAN  ST, PORTLAND, OR</td>\n",
       "    </tr>\n",
       "  </tbody>\n",
       "</table>\n",
       "</div>"
      ],
      "text/plain": [
       "            library_id                               library_name  \\\n",
       "0  226-222@5xc-kc4-fpv  MULTNOMAH   COUNTY   LIBRARY CAPITOL HILL   \n",
       "1  23v-222@5xc-jv7-v4v         MULTNOMAH COUNTY LIBRARY NORTHWEST   \n",
       "\n",
       "  library_street_address library_city library_region  library_postal_code  \\\n",
       "0   10723 SW CAPITOL HWY     PORTLAND             OR                97219   \n",
       "1    2300 NW THURMAN  ST     PORTLAND             OR                    0   \n",
       "\n",
       "                              address  \n",
       "0  10723 SW CAPITOL HWY, PORTLAND, OR  \n",
       "1   2300 NW THURMAN  ST, PORTLAND, OR  "
      ]
     },
     "execution_count": 900,
     "metadata": {},
     "output_type": "execute_result"
    }
   ],
   "source": [
    "libraries_df.head(2)"
   ]
  },
  {
   "cell_type": "code",
   "execution_count": 662,
   "id": "9d61e471-b3be-42c6-a9f4-61e584d88b48",
   "metadata": {},
   "outputs": [],
   "source": [
    "# libraries_df"
   ]
  },
  {
   "cell_type": "code",
   "execution_count": 703,
   "id": "d6ce9ee2-29f6-470d-a0d1-40a9936671e0",
   "metadata": {},
   "outputs": [],
   "source": [
    "# 97204, 97212\n",
    "# customers_df.loc[(customers_df.customer_zipcode==97212)].head(2)"
   ]
  },
  {
   "cell_type": "code",
   "execution_count": 856,
   "id": "403e6733-5254-4b6a-a773-6667f01e17cc",
   "metadata": {},
   "outputs": [],
   "source": [
    "# libraries_df.loc[(libraries_df.library_city=='NA'), 'library_city' ] = 'PORTLAND'"
   ]
  },
  {
   "cell_type": "code",
   "execution_count": 646,
   "id": "f6c50a83-9038-42d9-b386-427031e24f2f",
   "metadata": {},
   "outputs": [],
   "source": []
  },
  {
   "cell_type": "code",
   "execution_count": 622,
   "id": "d95a4749-12c4-4bc5-af97-de89aed84f83",
   "metadata": {},
   "outputs": [],
   "source": [
    "# checkouts_df = checkouts_df.merge(libraries_df, left_on='library_id', right_on='id', suffixes=('', '_library' ))"
   ]
  },
  {
   "cell_type": "code",
   "execution_count": 878,
   "id": "b4246da8-f19a-4b04-b007-d7bea8e06b67",
   "metadata": {},
   "outputs": [],
   "source": []
  },
  {
   "cell_type": "code",
   "execution_count": 869,
   "id": "bd5bdee5-b0aa-4d26-bfc6-fc927a991b84",
   "metadata": {},
   "outputs": [],
   "source": []
  },
  {
   "cell_type": "code",
   "execution_count": 734,
   "id": "e59c0c38-f540-4197-b9f2-7f0851f72337",
   "metadata": {},
   "outputs": [],
   "source": [
    "# libraries_gdf = libraries_gdf.drop(columns=['geometry', 'longitude', 'latitude'])"
   ]
  },
  {
   "cell_type": "code",
   "execution_count": 735,
   "id": "5caf5b4c-3d24-4a82-bf97-b9848e86f42f",
   "metadata": {},
   "outputs": [],
   "source": [
    "# libraries_gdf"
   ]
  },
  {
   "cell_type": "code",
   "execution_count": 736,
   "id": "8dd6fd20-5edf-4455-8416-db77e2532c32",
   "metadata": {},
   "outputs": [],
   "source": [
    "# libraries_df = libraries_df[['library_id' ,'library_name' ,'library_street_address' ,'library_city' ,'library_region' ,'library_postal_code' ,'address']]"
   ]
  },
  {
   "cell_type": "code",
   "execution_count": 862,
   "id": "3c150aee-5f17-4da7-b16e-c990d10cf6b8",
   "metadata": {},
   "outputs": [],
   "source": [
    "# libraries_df = libraries_df.merge(coordinates_list_gdf, on='address', how='left')"
   ]
  },
  {
   "cell_type": "code",
   "execution_count": 903,
   "id": "40d9705a-1d4d-4a8d-a1b0-62411aee96cb",
   "metadata": {},
   "outputs": [],
   "source": [
    "libraries_df = libraries_df.merge(coordinates_list_gdf, on='address', how='left')"
   ]
  },
  {
   "cell_type": "code",
   "execution_count": 904,
   "id": "36a3458b-e7f6-4860-979e-2f3320f56d60",
   "metadata": {},
   "outputs": [],
   "source": [
    "libraries_gdf = gpd.GeoDataFrame(libraries_df, geometry='geometry', crs='EPSG:4326')"
   ]
  },
  {
   "cell_type": "code",
   "execution_count": 863,
   "id": "36738218-af1a-4c4f-a2d3-54010b343879",
   "metadata": {},
   "outputs": [],
   "source": [
    "# libraries_df.merge(coordinates_list_gdf, on='address', how='left')"
   ]
  },
  {
   "cell_type": "code",
   "execution_count": 906,
   "id": "59d64de2-300d-47d9-81af-d5f4c9d137f3",
   "metadata": {},
   "outputs": [],
   "source": [
    "libraries_df.longitude = libraries_df.longitude.apply(lambda x: x.replace('(','').replace(',',''))\n",
    "libraries_gdf.longitude = libraries_gdf.longitude.apply(lambda x: x.replace('(','').replace(',',''))"
   ]
  },
  {
   "cell_type": "code",
   "execution_count": 740,
   "id": "e2cc1960-039b-4e9d-bc4f-66fc78e4184a",
   "metadata": {},
   "outputs": [],
   "source": [
    "libraries_df.to_pickle('data/libraries_df.pickle')"
   ]
  },
  {
   "cell_type": "code",
   "execution_count": 879,
   "id": "c1e79ddf-6f2c-4450-82ca-0f605ab68098",
   "metadata": {},
   "outputs": [],
   "source": [
    "libraries_gdf.to_pickle('data/libraries_gdf.pickle')"
   ]
  },
  {
   "cell_type": "code",
   "execution_count": 907,
   "id": "a249ec76-1a03-433b-ba88-9e55b13ba0d1",
   "metadata": {},
   "outputs": [
    {
     "data": {
      "text/html": [
       "<div>\n",
       "<style scoped>\n",
       "    .dataframe tbody tr th:only-of-type {\n",
       "        vertical-align: middle;\n",
       "    }\n",
       "\n",
       "    .dataframe tbody tr th {\n",
       "        vertical-align: top;\n",
       "    }\n",
       "\n",
       "    .dataframe thead th {\n",
       "        text-align: right;\n",
       "    }\n",
       "</style>\n",
       "<table border=\"1\" class=\"dataframe\">\n",
       "  <thead>\n",
       "    <tr style=\"text-align: right;\">\n",
       "      <th></th>\n",
       "      <th>library_id</th>\n",
       "      <th>library_name</th>\n",
       "      <th>library_street_address</th>\n",
       "      <th>library_city</th>\n",
       "      <th>library_region</th>\n",
       "      <th>library_postal_code</th>\n",
       "      <th>address</th>\n",
       "      <th>geometry</th>\n",
       "      <th>longitude</th>\n",
       "      <th>latitude</th>\n",
       "    </tr>\n",
       "  </thead>\n",
       "  <tbody>\n",
       "    <tr>\n",
       "      <th>0</th>\n",
       "      <td>226-222@5xc-kc4-fpv</td>\n",
       "      <td>MULTNOMAH   COUNTY   LIBRARY CAPITOL HILL</td>\n",
       "      <td>10723 SW CAPITOL HWY</td>\n",
       "      <td>PORTLAND</td>\n",
       "      <td>OR</td>\n",
       "      <td>97219</td>\n",
       "      <td>10723 SW CAPITOL HWY, PORTLAND, OR</td>\n",
       "      <td>POINT (-122.72545 45.44800)</td>\n",
       "      <td>-122.72544922493631</td>\n",
       "      <td>45.4480033</td>\n",
       "    </tr>\n",
       "    <tr>\n",
       "      <th>1</th>\n",
       "      <td>23v-222@5xc-jv7-v4v</td>\n",
       "      <td>MULTNOMAH COUNTY LIBRARY NORTHWEST</td>\n",
       "      <td>2300 NW THURMAN  ST</td>\n",
       "      <td>PORTLAND</td>\n",
       "      <td>OR</td>\n",
       "      <td>0</td>\n",
       "      <td>2300 NW THURMAN  ST, PORTLAND, OR</td>\n",
       "      <td>POINT (-122.69914 45.53534)</td>\n",
       "      <td>-122.69914461431009</td>\n",
       "      <td>45.535335950000004</td>\n",
       "    </tr>\n",
       "    <tr>\n",
       "      <th>2</th>\n",
       "      <td>222-222@5xc-jvf-skf</td>\n",
       "      <td>MULTNOMAH COUNTY LIBRARY ST JOHNS</td>\n",
       "      <td>7510 N CHARLESTON AVE</td>\n",
       "      <td>PORTLAND</td>\n",
       "      <td>OR</td>\n",
       "      <td>97203</td>\n",
       "      <td>7510 N CHARLESTON AVE, PORTLAND, OR</td>\n",
       "      <td>POINT (-122.75105 45.59004)</td>\n",
       "      <td>-122.75105275</td>\n",
       "      <td>45.5900361</td>\n",
       "    </tr>\n",
       "    <tr>\n",
       "      <th>3</th>\n",
       "      <td>227-222@5xc-jww-btv</td>\n",
       "      <td>MULTNOMAH   COUNTY LIBRARY HILLSDALE</td>\n",
       "      <td>1525 SW SUNSET BLVD</td>\n",
       "      <td>PORTLAND</td>\n",
       "      <td>OR</td>\n",
       "      <td>97239</td>\n",
       "      <td>1525 SW SUNSET BLVD, PORTLAND, OR</td>\n",
       "      <td>POINT (-122.69409 45.47983)</td>\n",
       "      <td>-122.69408653843303</td>\n",
       "      <td>45.4798337</td>\n",
       "    </tr>\n",
       "    <tr>\n",
       "      <th>4</th>\n",
       "      <td>22d-222@5xc-kcy-8sq</td>\n",
       "      <td>MULTNOMAH COUNTY  LIBRARY   SELLWOOD  MORELAND</td>\n",
       "      <td>7860 SE 13TH AVE</td>\n",
       "      <td>PORTLAND</td>\n",
       "      <td>OR</td>\n",
       "      <td>97202</td>\n",
       "      <td>7860 SE 13TH AVE, PORTLAND, OR</td>\n",
       "      <td>POINT (-122.65275 45.46763)</td>\n",
       "      <td>-122.65274600603117</td>\n",
       "      <td>45.467631600000004</td>\n",
       "    </tr>\n",
       "    <tr>\n",
       "      <th>5</th>\n",
       "      <td>223-222@5xc-jxr-tgk</td>\n",
       "      <td>MULTNOMAH COUNTY LIBRARY WOODSTOCK</td>\n",
       "      <td>6008 SE 49TH AVE</td>\n",
       "      <td>PORTLAND</td>\n",
       "      <td>OR</td>\n",
       "      <td>97206</td>\n",
       "      <td>6008 SE 49TH AVE, PORTLAND, OR</td>\n",
       "      <td>POINT (-122.61211 45.47901)</td>\n",
       "      <td>-122.61210650846269</td>\n",
       "      <td>45.47900505</td>\n",
       "    </tr>\n",
       "    <tr>\n",
       "      <th>6</th>\n",
       "      <td>zzw-224@5xc-jwv-2rk</td>\n",
       "      <td>MULTNOMAH  COUNTY LIBRARY CENTRAL</td>\n",
       "      <td>801  SW 10TH  AVE</td>\n",
       "      <td>PORTLAND</td>\n",
       "      <td>OR</td>\n",
       "      <td>97205</td>\n",
       "      <td>801  SW 10TH  AVE, PORTLAND, OR</td>\n",
       "      <td>POINT (-122.68566 45.51913)</td>\n",
       "      <td>-122.6856644</td>\n",
       "      <td>45.5191283</td>\n",
       "    </tr>\n",
       "    <tr>\n",
       "      <th>7</th>\n",
       "      <td>zzw-223@5xc-jv7-ct9</td>\n",
       "      <td>FRIENDS OF THE MULTNOMAH COUNTY LIBRARY</td>\n",
       "      <td>522  SW 5TH  AVE</td>\n",
       "      <td>PORTLAND</td>\n",
       "      <td>OR</td>\n",
       "      <td>97204</td>\n",
       "      <td>522  SW 5TH  AVE, PORTLAND, OR</td>\n",
       "      <td>POINT (-122.68568 45.51914)</td>\n",
       "      <td>-122.685675</td>\n",
       "      <td>45.5191358</td>\n",
       "    </tr>\n",
       "    <tr>\n",
       "      <th>8</th>\n",
       "      <td>226-222@5xc-jxj-7yv</td>\n",
       "      <td>MULTNOMAH COUNTY LIBRARY BELMONT</td>\n",
       "      <td>1038 SE CESAR E CHAVEZ BLVD</td>\n",
       "      <td>PORTLAND</td>\n",
       "      <td>OR</td>\n",
       "      <td>97214</td>\n",
       "      <td>1038 SE CESAR E CHAVEZ BLVD, PORTLAND, OR</td>\n",
       "      <td>POINT (-122.62268 45.51527)</td>\n",
       "      <td>-122.62267551801278</td>\n",
       "      <td>45.51526685</td>\n",
       "    </tr>\n",
       "    <tr>\n",
       "      <th>9</th>\n",
       "      <td>zzw-222@5xc-knn-c5z</td>\n",
       "      <td>MULTNOMAH COUNTY LIBRARY HOLGATE</td>\n",
       "      <td>7905  SE HOLGATE BLVD</td>\n",
       "      <td>PORTLAND</td>\n",
       "      <td>OR</td>\n",
       "      <td>0</td>\n",
       "      <td>7905  SE HOLGATE BLVD, PORTLAND, OR</td>\n",
       "      <td>POINT (-122.58215 45.49054)</td>\n",
       "      <td>-122.58215040061705</td>\n",
       "      <td>45.490544650000004</td>\n",
       "    </tr>\n",
       "    <tr>\n",
       "      <th>10</th>\n",
       "      <td>222-222@5xc-kkw-bzf</td>\n",
       "      <td>MULTNOMAH COUNTY LIBRARY MIDLAND</td>\n",
       "      <td>805 SE 122ND AVE</td>\n",
       "      <td>PORTLAND</td>\n",
       "      <td>OR</td>\n",
       "      <td>97233</td>\n",
       "      <td>805 SE 122ND AVE, PORTLAND, OR</td>\n",
       "      <td>POINT (-122.53847 45.51673)</td>\n",
       "      <td>-122.53847050319162</td>\n",
       "      <td>45.5167299</td>\n",
       "    </tr>\n",
       "    <tr>\n",
       "      <th>11</th>\n",
       "      <td>228-222@5xc-jtz-hwk</td>\n",
       "      <td>MULTNOMAH  COUNTY LIBRARY</td>\n",
       "      <td>205 NE   RUSSELL  ST</td>\n",
       "      <td>PORTLAND</td>\n",
       "      <td>OR</td>\n",
       "      <td>97212</td>\n",
       "      <td>205 NE   RUSSELL  ST, PORTLAND, OR</td>\n",
       "      <td>POINT (-122.66352 45.54118)</td>\n",
       "      <td>-122.6635232</td>\n",
       "      <td>45.5411809</td>\n",
       "    </tr>\n",
       "    <tr>\n",
       "      <th>12</th>\n",
       "      <td>225-222@5xc-jtz-hkf</td>\n",
       "      <td>MULTNOMAH COUNTY LIBRARY</td>\n",
       "      <td>216 NE KNOTT ST</td>\n",
       "      <td>PORTLAND</td>\n",
       "      <td>OR</td>\n",
       "      <td>0</td>\n",
       "      <td>216 NE KNOTT ST, PORTLAND, OR</td>\n",
       "      <td>POINT (-122.66566 45.54165)</td>\n",
       "      <td>-122.6656558</td>\n",
       "      <td>45.5416506</td>\n",
       "    </tr>\n",
       "    <tr>\n",
       "      <th>13</th>\n",
       "      <td>222-222@5xc-jv5-nt9</td>\n",
       "      <td>MULTNOMAH  COUNTY  LIBRARY  NORTH PORTLAND</td>\n",
       "      <td>512    N KILLINGSWORTH ST</td>\n",
       "      <td>PORTLAND</td>\n",
       "      <td>OR</td>\n",
       "      <td>97217</td>\n",
       "      <td>512    N KILLINGSWORTH ST, PORTLAND, OR</td>\n",
       "      <td>POINT (-122.67154 45.56246)</td>\n",
       "      <td>-122.6715374934238</td>\n",
       "      <td>45.562458750000005</td>\n",
       "    </tr>\n",
       "    <tr>\n",
       "      <th>14</th>\n",
       "      <td>zzw-222@5xc-jv4-789</td>\n",
       "      <td>MULTNOMAH  COUNTY LIBRARY ALBINA</td>\n",
       "      <td>3605 NE 15TH AVE</td>\n",
       "      <td>PORTLAND</td>\n",
       "      <td>OR</td>\n",
       "      <td>97212</td>\n",
       "      <td>3605 NE 15TH AVE, PORTLAND, OR</td>\n",
       "      <td>POINT (-122.65145 45.54932)</td>\n",
       "      <td>-122.65144959842345</td>\n",
       "      <td>45.5493187</td>\n",
       "    </tr>\n",
       "    <tr>\n",
       "      <th>15</th>\n",
       "      <td>222-222@5xc-jxp-rp9</td>\n",
       "      <td>MULTNOMAH  COUNTY  LIBRARY HOLLYWOOD LIBRARY</td>\n",
       "      <td>4040 NE   TILLAMOOK   ST</td>\n",
       "      <td>PORTLAND</td>\n",
       "      <td>OR</td>\n",
       "      <td>97212</td>\n",
       "      <td>4040 NE   TILLAMOOK   ST, PORTLAND, OR</td>\n",
       "      <td>POINT (-122.62117 45.53763)</td>\n",
       "      <td>-122.6211734</td>\n",
       "      <td>45.537627</td>\n",
       "    </tr>\n",
       "    <tr>\n",
       "      <th>16</th>\n",
       "      <td>22c-222@5xc-jwj-pvz</td>\n",
       "      <td>MULTNOMAH COUNTY LIBRARY KENTON</td>\n",
       "      <td>8226 N DENVER AVE</td>\n",
       "      <td>PORTLAND</td>\n",
       "      <td>OR</td>\n",
       "      <td>97217</td>\n",
       "      <td>8226 N DENVER AVE, PORTLAND, OR</td>\n",
       "      <td>POINT (-122.68646 45.58281)</td>\n",
       "      <td>-122.6864628364672</td>\n",
       "      <td>45.5828074</td>\n",
       "    </tr>\n",
       "    <tr>\n",
       "      <th>17</th>\n",
       "      <td>224-222@5xc-jw2-t9z</td>\n",
       "      <td>MULTNOMAH COUNTY LIBRARY GREGORY HEIGHTS</td>\n",
       "      <td>7921 NE SANDY BLVD</td>\n",
       "      <td>PORTLAND</td>\n",
       "      <td>OR</td>\n",
       "      <td>97213</td>\n",
       "      <td>7921 NE SANDY BLVD, PORTLAND, OR</td>\n",
       "      <td>POINT (-122.58132 45.55165)</td>\n",
       "      <td>-122.58132371570372</td>\n",
       "      <td>45.55164885000001</td>\n",
       "    </tr>\n",
       "  </tbody>\n",
       "</table>\n",
       "</div>"
      ],
      "text/plain": [
       "             library_id                                    library_name  \\\n",
       "0   226-222@5xc-kc4-fpv       MULTNOMAH   COUNTY   LIBRARY CAPITOL HILL   \n",
       "1   23v-222@5xc-jv7-v4v              MULTNOMAH COUNTY LIBRARY NORTHWEST   \n",
       "2   222-222@5xc-jvf-skf               MULTNOMAH COUNTY LIBRARY ST JOHNS   \n",
       "3   227-222@5xc-jww-btv            MULTNOMAH   COUNTY LIBRARY HILLSDALE   \n",
       "4   22d-222@5xc-kcy-8sq  MULTNOMAH COUNTY  LIBRARY   SELLWOOD  MORELAND   \n",
       "5   223-222@5xc-jxr-tgk              MULTNOMAH COUNTY LIBRARY WOODSTOCK   \n",
       "6   zzw-224@5xc-jwv-2rk               MULTNOMAH  COUNTY LIBRARY CENTRAL   \n",
       "7   zzw-223@5xc-jv7-ct9         FRIENDS OF THE MULTNOMAH COUNTY LIBRARY   \n",
       "8   226-222@5xc-jxj-7yv                MULTNOMAH COUNTY LIBRARY BELMONT   \n",
       "9   zzw-222@5xc-knn-c5z                MULTNOMAH COUNTY LIBRARY HOLGATE   \n",
       "10  222-222@5xc-kkw-bzf                MULTNOMAH COUNTY LIBRARY MIDLAND   \n",
       "11  228-222@5xc-jtz-hwk                       MULTNOMAH  COUNTY LIBRARY   \n",
       "12  225-222@5xc-jtz-hkf                        MULTNOMAH COUNTY LIBRARY   \n",
       "13  222-222@5xc-jv5-nt9      MULTNOMAH  COUNTY  LIBRARY  NORTH PORTLAND   \n",
       "14  zzw-222@5xc-jv4-789                MULTNOMAH  COUNTY LIBRARY ALBINA   \n",
       "15  222-222@5xc-jxp-rp9    MULTNOMAH  COUNTY  LIBRARY HOLLYWOOD LIBRARY   \n",
       "16  22c-222@5xc-jwj-pvz                 MULTNOMAH COUNTY LIBRARY KENTON   \n",
       "17  224-222@5xc-jw2-t9z        MULTNOMAH COUNTY LIBRARY GREGORY HEIGHTS   \n",
       "\n",
       "         library_street_address library_city library_region  \\\n",
       "0          10723 SW CAPITOL HWY     PORTLAND             OR   \n",
       "1           2300 NW THURMAN  ST     PORTLAND             OR   \n",
       "2         7510 N CHARLESTON AVE     PORTLAND             OR   \n",
       "3           1525 SW SUNSET BLVD     PORTLAND             OR   \n",
       "4              7860 SE 13TH AVE     PORTLAND             OR   \n",
       "5              6008 SE 49TH AVE     PORTLAND             OR   \n",
       "6             801  SW 10TH  AVE     PORTLAND             OR   \n",
       "7              522  SW 5TH  AVE     PORTLAND             OR   \n",
       "8   1038 SE CESAR E CHAVEZ BLVD     PORTLAND             OR   \n",
       "9         7905  SE HOLGATE BLVD     PORTLAND             OR   \n",
       "10             805 SE 122ND AVE     PORTLAND             OR   \n",
       "11         205 NE   RUSSELL  ST     PORTLAND             OR   \n",
       "12              216 NE KNOTT ST     PORTLAND             OR   \n",
       "13    512    N KILLINGSWORTH ST     PORTLAND             OR   \n",
       "14             3605 NE 15TH AVE     PORTLAND             OR   \n",
       "15     4040 NE   TILLAMOOK   ST     PORTLAND             OR   \n",
       "16            8226 N DENVER AVE     PORTLAND             OR   \n",
       "17           7921 NE SANDY BLVD     PORTLAND             OR   \n",
       "\n",
       "    library_postal_code                                    address  \\\n",
       "0                 97219         10723 SW CAPITOL HWY, PORTLAND, OR   \n",
       "1                     0          2300 NW THURMAN  ST, PORTLAND, OR   \n",
       "2                 97203        7510 N CHARLESTON AVE, PORTLAND, OR   \n",
       "3                 97239          1525 SW SUNSET BLVD, PORTLAND, OR   \n",
       "4                 97202             7860 SE 13TH AVE, PORTLAND, OR   \n",
       "5                 97206             6008 SE 49TH AVE, PORTLAND, OR   \n",
       "6                 97205            801  SW 10TH  AVE, PORTLAND, OR   \n",
       "7                 97204             522  SW 5TH  AVE, PORTLAND, OR   \n",
       "8                 97214  1038 SE CESAR E CHAVEZ BLVD, PORTLAND, OR   \n",
       "9                     0        7905  SE HOLGATE BLVD, PORTLAND, OR   \n",
       "10                97233             805 SE 122ND AVE, PORTLAND, OR   \n",
       "11                97212         205 NE   RUSSELL  ST, PORTLAND, OR   \n",
       "12                    0              216 NE KNOTT ST, PORTLAND, OR   \n",
       "13                97217    512    N KILLINGSWORTH ST, PORTLAND, OR   \n",
       "14                97212             3605 NE 15TH AVE, PORTLAND, OR   \n",
       "15                97212     4040 NE   TILLAMOOK   ST, PORTLAND, OR   \n",
       "16                97217            8226 N DENVER AVE, PORTLAND, OR   \n",
       "17                97213           7921 NE SANDY BLVD, PORTLAND, OR   \n",
       "\n",
       "                       geometry            longitude            latitude  \n",
       "0   POINT (-122.72545 45.44800)  -122.72544922493631          45.4480033  \n",
       "1   POINT (-122.69914 45.53534)  -122.69914461431009  45.535335950000004  \n",
       "2   POINT (-122.75105 45.59004)        -122.75105275          45.5900361  \n",
       "3   POINT (-122.69409 45.47983)  -122.69408653843303          45.4798337  \n",
       "4   POINT (-122.65275 45.46763)  -122.65274600603117  45.467631600000004  \n",
       "5   POINT (-122.61211 45.47901)  -122.61210650846269         45.47900505  \n",
       "6   POINT (-122.68566 45.51913)         -122.6856644          45.5191283  \n",
       "7   POINT (-122.68568 45.51914)          -122.685675          45.5191358  \n",
       "8   POINT (-122.62268 45.51527)  -122.62267551801278         45.51526685  \n",
       "9   POINT (-122.58215 45.49054)  -122.58215040061705  45.490544650000004  \n",
       "10  POINT (-122.53847 45.51673)  -122.53847050319162          45.5167299  \n",
       "11  POINT (-122.66352 45.54118)         -122.6635232          45.5411809  \n",
       "12  POINT (-122.66566 45.54165)         -122.6656558          45.5416506  \n",
       "13  POINT (-122.67154 45.56246)   -122.6715374934238  45.562458750000005  \n",
       "14  POINT (-122.65145 45.54932)  -122.65144959842345          45.5493187  \n",
       "15  POINT (-122.62117 45.53763)         -122.6211734           45.537627  \n",
       "16  POINT (-122.68646 45.58281)   -122.6864628364672          45.5828074  \n",
       "17  POINT (-122.58132 45.55165)  -122.58132371570372   45.55164885000001  "
      ]
     },
     "execution_count": 907,
     "metadata": {},
     "output_type": "execute_result"
    }
   ],
   "source": [
    "libraries_gdf"
   ]
  },
  {
   "cell_type": "code",
   "execution_count": 873,
   "id": "45a4386f-3046-4456-88d2-cef831fb8f73",
   "metadata": {},
   "outputs": [
    {
     "data": {
      "text/html": [
       "<div style=\"width:100%;\"><div style=\"position:relative;width:100%;height:0;padding-bottom:60%;\"><span style=\"color:#565656\">Make this Notebook Trusted to load map: File -> Trust Notebook</span><iframe srcdoc=\"&lt;!DOCTYPE html&gt;\n",
       "&lt;html&gt;\n",
       "&lt;head&gt;\n",
       "    \n",
       "    &lt;meta http-equiv=&quot;content-type&quot; content=&quot;text/html; charset=UTF-8&quot; /&gt;\n",
       "    \n",
       "        &lt;script&gt;\n",
       "            L_NO_TOUCH = false;\n",
       "            L_DISABLE_3D = false;\n",
       "        &lt;/script&gt;\n",
       "    \n",
       "    &lt;style&gt;html, body {width: 100%;height: 100%;margin: 0;padding: 0;}&lt;/style&gt;\n",
       "    &lt;style&gt;#map {position:absolute;top:0;bottom:0;right:0;left:0;}&lt;/style&gt;\n",
       "    &lt;script src=&quot;https://cdn.jsdelivr.net/npm/leaflet@1.9.3/dist/leaflet.js&quot;&gt;&lt;/script&gt;\n",
       "    &lt;script src=&quot;https://code.jquery.com/jquery-3.7.1.min.js&quot;&gt;&lt;/script&gt;\n",
       "    &lt;script src=&quot;https://cdn.jsdelivr.net/npm/bootstrap@5.2.2/dist/js/bootstrap.bundle.min.js&quot;&gt;&lt;/script&gt;\n",
       "    &lt;script src=&quot;https://cdnjs.cloudflare.com/ajax/libs/Leaflet.awesome-markers/2.0.2/leaflet.awesome-markers.js&quot;&gt;&lt;/script&gt;\n",
       "    &lt;link rel=&quot;stylesheet&quot; href=&quot;https://cdn.jsdelivr.net/npm/leaflet@1.9.3/dist/leaflet.css&quot;/&gt;\n",
       "    &lt;link rel=&quot;stylesheet&quot; href=&quot;https://cdn.jsdelivr.net/npm/bootstrap@5.2.2/dist/css/bootstrap.min.css&quot;/&gt;\n",
       "    &lt;link rel=&quot;stylesheet&quot; href=&quot;https://netdna.bootstrapcdn.com/bootstrap/3.0.0/css/bootstrap-glyphicons.css&quot;/&gt;\n",
       "    &lt;link rel=&quot;stylesheet&quot; href=&quot;https://cdn.jsdelivr.net/npm/@fortawesome/fontawesome-free@6.2.0/css/all.min.css&quot;/&gt;\n",
       "    &lt;link rel=&quot;stylesheet&quot; href=&quot;https://cdnjs.cloudflare.com/ajax/libs/Leaflet.awesome-markers/2.0.2/leaflet.awesome-markers.css&quot;/&gt;\n",
       "    &lt;link rel=&quot;stylesheet&quot; href=&quot;https://cdn.jsdelivr.net/gh/python-visualization/folium/folium/templates/leaflet.awesome.rotate.min.css&quot;/&gt;\n",
       "    \n",
       "            &lt;meta name=&quot;viewport&quot; content=&quot;width=device-width,\n",
       "                initial-scale=1.0, maximum-scale=1.0, user-scalable=no&quot; /&gt;\n",
       "            &lt;style&gt;\n",
       "                #map_2862246ee1307dbf0dfa73da652301c4 {\n",
       "                    position: relative;\n",
       "                    width: 100.0%;\n",
       "                    height: 100.0%;\n",
       "                    left: 0.0%;\n",
       "                    top: 0.0%;\n",
       "                }\n",
       "                .leaflet-container { font-size: 1rem; }\n",
       "            &lt;/style&gt;\n",
       "        \n",
       "    \n",
       "                    &lt;style&gt;\n",
       "                        .foliumtooltip {\n",
       "                            \n",
       "                        }\n",
       "                       .foliumtooltip table{\n",
       "                            margin: auto;\n",
       "                        }\n",
       "                        .foliumtooltip tr{\n",
       "                            text-align: left;\n",
       "                        }\n",
       "                        .foliumtooltip th{\n",
       "                            padding: 2px; padding-right: 8px;\n",
       "                        }\n",
       "                    &lt;/style&gt;\n",
       "            \n",
       "&lt;/head&gt;\n",
       "&lt;body&gt;\n",
       "    \n",
       "    \n",
       "            &lt;div class=&quot;folium-map&quot; id=&quot;map_2862246ee1307dbf0dfa73da652301c4&quot; &gt;&lt;/div&gt;\n",
       "        \n",
       "&lt;/body&gt;\n",
       "&lt;script&gt;\n",
       "    \n",
       "    \n",
       "            var map_2862246ee1307dbf0dfa73da652301c4 = L.map(\n",
       "                &quot;map_2862246ee1307dbf0dfa73da652301c4&quot;,\n",
       "                {\n",
       "                    center: [45.5190197, -122.64476162659581],\n",
       "                    crs: L.CRS.EPSG3857,\n",
       "                    zoom: 10,\n",
       "                    zoomControl: true,\n",
       "                    preferCanvas: false,\n",
       "                }\n",
       "            );\n",
       "            L.control.scale().addTo(map_2862246ee1307dbf0dfa73da652301c4);\n",
       "\n",
       "            \n",
       "\n",
       "        \n",
       "    \n",
       "            var tile_layer_25ad732f1b5f4801e7bdb185af6847a6 = L.tileLayer(\n",
       "                &quot;https://tile.openstreetmap.org/{z}/{x}/{y}.png&quot;,\n",
       "                {&quot;attribution&quot;: &quot;\\u0026copy; \\u003ca href=\\&quot;https://www.openstreetmap.org/copyright\\&quot;\\u003eOpenStreetMap\\u003c/a\\u003e contributors&quot;, &quot;detectRetina&quot;: false, &quot;maxNativeZoom&quot;: 19, &quot;maxZoom&quot;: 19, &quot;minZoom&quot;: 0, &quot;noWrap&quot;: false, &quot;opacity&quot;: 1, &quot;subdomains&quot;: &quot;abc&quot;, &quot;tms&quot;: false}\n",
       "            );\n",
       "        \n",
       "    \n",
       "            tile_layer_25ad732f1b5f4801e7bdb185af6847a6.addTo(map_2862246ee1307dbf0dfa73da652301c4);\n",
       "        \n",
       "    \n",
       "            map_2862246ee1307dbf0dfa73da652301c4.fitBounds(\n",
       "                [[45.4480033, -122.75105275], [45.5900361, -122.53847050319162]],\n",
       "                {}\n",
       "            );\n",
       "        \n",
       "    \n",
       "        function geo_json_01e9226d67a79ea8d1b6f30bbb77329f_styler(feature) {\n",
       "            switch(feature.id) {\n",
       "                default:\n",
       "                    return {&quot;fillOpacity&quot;: 0.5, &quot;weight&quot;: 2};\n",
       "            }\n",
       "        }\n",
       "        function geo_json_01e9226d67a79ea8d1b6f30bbb77329f_highlighter(feature) {\n",
       "            switch(feature.id) {\n",
       "                default:\n",
       "                    return {&quot;fillOpacity&quot;: 0.75};\n",
       "            }\n",
       "        }\n",
       "        function geo_json_01e9226d67a79ea8d1b6f30bbb77329f_pointToLayer(feature, latlng) {\n",
       "            var opts = {&quot;bubblingMouseEvents&quot;: true, &quot;color&quot;: &quot;#3388ff&quot;, &quot;dashArray&quot;: null, &quot;dashOffset&quot;: null, &quot;fill&quot;: true, &quot;fillColor&quot;: &quot;#3388ff&quot;, &quot;fillOpacity&quot;: 0.2, &quot;fillRule&quot;: &quot;evenodd&quot;, &quot;lineCap&quot;: &quot;round&quot;, &quot;lineJoin&quot;: &quot;round&quot;, &quot;opacity&quot;: 1.0, &quot;radius&quot;: 2, &quot;stroke&quot;: true, &quot;weight&quot;: 3};\n",
       "            \n",
       "            let style = geo_json_01e9226d67a79ea8d1b6f30bbb77329f_styler(feature)\n",
       "            Object.assign(opts, style)\n",
       "            \n",
       "            return new L.CircleMarker(latlng, opts)\n",
       "        }\n",
       "\n",
       "        function geo_json_01e9226d67a79ea8d1b6f30bbb77329f_onEachFeature(feature, layer) {\n",
       "            layer.on({\n",
       "                mouseout: function(e) {\n",
       "                    if(typeof e.target.setStyle === &quot;function&quot;){\n",
       "                            geo_json_01e9226d67a79ea8d1b6f30bbb77329f.resetStyle(e.target);\n",
       "                    }\n",
       "                },\n",
       "                mouseover: function(e) {\n",
       "                    if(typeof e.target.setStyle === &quot;function&quot;){\n",
       "                        const highlightStyle = geo_json_01e9226d67a79ea8d1b6f30bbb77329f_highlighter(e.target.feature)\n",
       "                        e.target.setStyle(highlightStyle);\n",
       "                    }\n",
       "                },\n",
       "            });\n",
       "        };\n",
       "        var geo_json_01e9226d67a79ea8d1b6f30bbb77329f = L.geoJson(null, {\n",
       "                onEachFeature: geo_json_01e9226d67a79ea8d1b6f30bbb77329f_onEachFeature,\n",
       "            \n",
       "                style: geo_json_01e9226d67a79ea8d1b6f30bbb77329f_styler,\n",
       "                pointToLayer: geo_json_01e9226d67a79ea8d1b6f30bbb77329f_pointToLayer,\n",
       "        });\n",
       "\n",
       "        function geo_json_01e9226d67a79ea8d1b6f30bbb77329f_add (data) {\n",
       "            geo_json_01e9226d67a79ea8d1b6f30bbb77329f\n",
       "                .addData(data);\n",
       "        }\n",
       "            geo_json_01e9226d67a79ea8d1b6f30bbb77329f_add({&quot;bbox&quot;: [-122.75105275, 45.4480033, -122.53847050319162, 45.5900361], &quot;features&quot;: [{&quot;bbox&quot;: [-122.72544922493631, 45.4480033, -122.72544922493631, 45.4480033], &quot;geometry&quot;: {&quot;coordinates&quot;: [-122.72544922493631, 45.4480033], &quot;type&quot;: &quot;Point&quot;}, &quot;id&quot;: &quot;0&quot;, &quot;properties&quot;: {&quot;address&quot;: &quot;10723 SW CAPITOL HWY, PORTLAND, OR&quot;, &quot;latitude&quot;: &quot;45.4480033&quot;, &quot;library_city&quot;: &quot;PORTLAND&quot;, &quot;library_id&quot;: &quot;226-222@5xc-kc4-fpv&quot;, &quot;library_name&quot;: &quot;MULTNOMAH   COUNTY   LIBRARY CAPITOL HILL&quot;, &quot;library_postal_code&quot;: 97219, &quot;library_region&quot;: &quot;OR&quot;, &quot;library_street_address&quot;: &quot;10723 SW CAPITOL HWY&quot;, &quot;longitude&quot;: &quot;(-122.72544922493631,&quot;}, &quot;type&quot;: &quot;Feature&quot;}, {&quot;bbox&quot;: [-122.69914461431009, 45.535335950000004, -122.69914461431009, 45.535335950000004], &quot;geometry&quot;: {&quot;coordinates&quot;: [-122.69914461431009, 45.535335950000004], &quot;type&quot;: &quot;Point&quot;}, &quot;id&quot;: &quot;1&quot;, &quot;properties&quot;: {&quot;address&quot;: &quot;2300 NW THURMAN  ST, PORTLAND, OR&quot;, &quot;latitude&quot;: &quot;45.535335950000004&quot;, &quot;library_city&quot;: &quot;PORTLAND&quot;, &quot;library_id&quot;: &quot;23v-222@5xc-jv7-v4v&quot;, &quot;library_name&quot;: &quot;MULTNOMAH COUNTY LIBRARY NORTHWEST&quot;, &quot;library_postal_code&quot;: 0, &quot;library_region&quot;: &quot;OR&quot;, &quot;library_street_address&quot;: &quot;2300 NW THURMAN  ST&quot;, &quot;longitude&quot;: &quot;(-122.69914461431009,&quot;}, &quot;type&quot;: &quot;Feature&quot;}, {&quot;bbox&quot;: [-122.75105275, 45.5900361, -122.75105275, 45.5900361], &quot;geometry&quot;: {&quot;coordinates&quot;: [-122.75105275, 45.5900361], &quot;type&quot;: &quot;Point&quot;}, &quot;id&quot;: &quot;2&quot;, &quot;properties&quot;: {&quot;address&quot;: &quot;7510 N CHARLESTON AVE, PORTLAND, OR&quot;, &quot;latitude&quot;: &quot;45.5900361&quot;, &quot;library_city&quot;: &quot;PORTLAND&quot;, &quot;library_id&quot;: &quot;222-222@5xc-jvf-skf&quot;, &quot;library_name&quot;: &quot;MULTNOMAH COUNTY LIBRARY ST JOHNS&quot;, &quot;library_postal_code&quot;: 97203, &quot;library_region&quot;: &quot;OR&quot;, &quot;library_street_address&quot;: &quot;7510 N CHARLESTON AVE&quot;, &quot;longitude&quot;: &quot;(-122.75105275,&quot;}, &quot;type&quot;: &quot;Feature&quot;}, {&quot;bbox&quot;: [-122.69408653843303, 45.4798337, -122.69408653843303, 45.4798337], &quot;geometry&quot;: {&quot;coordinates&quot;: [-122.69408653843303, 45.4798337], &quot;type&quot;: &quot;Point&quot;}, &quot;id&quot;: &quot;3&quot;, &quot;properties&quot;: {&quot;address&quot;: &quot;1525 SW SUNSET BLVD, PORTLAND, OR&quot;, &quot;latitude&quot;: &quot;45.4798337&quot;, &quot;library_city&quot;: &quot;PORTLAND&quot;, &quot;library_id&quot;: &quot;227-222@5xc-jww-btv&quot;, &quot;library_name&quot;: &quot;MULTNOMAH   COUNTY LIBRARY HILLSDALE&quot;, &quot;library_postal_code&quot;: 97239, &quot;library_region&quot;: &quot;OR&quot;, &quot;library_street_address&quot;: &quot;1525 SW SUNSET BLVD&quot;, &quot;longitude&quot;: &quot;(-122.69408653843303,&quot;}, &quot;type&quot;: &quot;Feature&quot;}, {&quot;bbox&quot;: [-122.65274600603117, 45.467631600000004, -122.65274600603117, 45.467631600000004], &quot;geometry&quot;: {&quot;coordinates&quot;: [-122.65274600603117, 45.467631600000004], &quot;type&quot;: &quot;Point&quot;}, &quot;id&quot;: &quot;4&quot;, &quot;properties&quot;: {&quot;address&quot;: &quot;7860 SE 13TH AVE, PORTLAND, OR&quot;, &quot;latitude&quot;: &quot;45.467631600000004&quot;, &quot;library_city&quot;: &quot;PORTLAND&quot;, &quot;library_id&quot;: &quot;22d-222@5xc-kcy-8sq&quot;, &quot;library_name&quot;: &quot;MULTNOMAH COUNTY  LIBRARY   SELLWOOD  MORELAND&quot;, &quot;library_postal_code&quot;: 97202, &quot;library_region&quot;: &quot;OR&quot;, &quot;library_street_address&quot;: &quot;7860 SE 13TH AVE&quot;, &quot;longitude&quot;: &quot;(-122.65274600603117,&quot;}, &quot;type&quot;: &quot;Feature&quot;}, {&quot;bbox&quot;: [-122.61210650846269, 45.47900505, -122.61210650846269, 45.47900505], &quot;geometry&quot;: {&quot;coordinates&quot;: [-122.61210650846269, 45.47900505], &quot;type&quot;: &quot;Point&quot;}, &quot;id&quot;: &quot;5&quot;, &quot;properties&quot;: {&quot;address&quot;: &quot;6008 SE 49TH AVE, PORTLAND, OR&quot;, &quot;latitude&quot;: &quot;45.47900505&quot;, &quot;library_city&quot;: &quot;PORTLAND&quot;, &quot;library_id&quot;: &quot;223-222@5xc-jxr-tgk&quot;, &quot;library_name&quot;: &quot;MULTNOMAH COUNTY LIBRARY WOODSTOCK&quot;, &quot;library_postal_code&quot;: 97206, &quot;library_region&quot;: &quot;OR&quot;, &quot;library_street_address&quot;: &quot;6008 SE 49TH AVE&quot;, &quot;longitude&quot;: &quot;(-122.61210650846269,&quot;}, &quot;type&quot;: &quot;Feature&quot;}, {&quot;bbox&quot;: [-122.6856644, 45.5191283, -122.6856644, 45.5191283], &quot;geometry&quot;: {&quot;coordinates&quot;: [-122.6856644, 45.5191283], &quot;type&quot;: &quot;Point&quot;}, &quot;id&quot;: &quot;6&quot;, &quot;properties&quot;: {&quot;address&quot;: &quot;801  SW 10TH  AVE, PORTLAND, OR&quot;, &quot;latitude&quot;: &quot;45.5191283&quot;, &quot;library_city&quot;: &quot;PORTLAND&quot;, &quot;library_id&quot;: &quot;zzw-224@5xc-jwv-2rk&quot;, &quot;library_name&quot;: &quot;MULTNOMAH  COUNTY LIBRARY CENTRAL&quot;, &quot;library_postal_code&quot;: 97205, &quot;library_region&quot;: &quot;OR&quot;, &quot;library_street_address&quot;: &quot;801  SW 10TH  AVE&quot;, &quot;longitude&quot;: &quot;-122.6856644&quot;}, &quot;type&quot;: &quot;Feature&quot;}, {&quot;bbox&quot;: [-122.685675, 45.5191358, -122.685675, 45.5191358], &quot;geometry&quot;: {&quot;coordinates&quot;: [-122.685675, 45.5191358], &quot;type&quot;: &quot;Point&quot;}, &quot;id&quot;: &quot;7&quot;, &quot;properties&quot;: {&quot;address&quot;: &quot;522  SW 5TH  AVE, PORTLAND, OR&quot;, &quot;latitude&quot;: &quot;45.5191358&quot;, &quot;library_city&quot;: &quot;PORTLAND&quot;, &quot;library_id&quot;: &quot;zzw-223@5xc-jv7-ct9&quot;, &quot;library_name&quot;: &quot;FRIENDS OF THE MULTNOMAH COUNTY LIBRARY&quot;, &quot;library_postal_code&quot;: 97204, &quot;library_region&quot;: &quot;OR&quot;, &quot;library_street_address&quot;: &quot;522  SW 5TH  AVE&quot;, &quot;longitude&quot;: &quot;-122.685675&quot;}, &quot;type&quot;: &quot;Feature&quot;}, {&quot;bbox&quot;: [-122.62267551801278, 45.51526685, -122.62267551801278, 45.51526685], &quot;geometry&quot;: {&quot;coordinates&quot;: [-122.62267551801278, 45.51526685], &quot;type&quot;: &quot;Point&quot;}, &quot;id&quot;: &quot;8&quot;, &quot;properties&quot;: {&quot;address&quot;: &quot;1038 SE CESAR E CHAVEZ BLVD, PORTLAND, OR&quot;, &quot;latitude&quot;: &quot;45.51526685&quot;, &quot;library_city&quot;: &quot;PORTLAND&quot;, &quot;library_id&quot;: &quot;226-222@5xc-jxj-7yv&quot;, &quot;library_name&quot;: &quot;MULTNOMAH COUNTY LIBRARY BELMONT&quot;, &quot;library_postal_code&quot;: 97214, &quot;library_region&quot;: &quot;OR&quot;, &quot;library_street_address&quot;: &quot;1038 SE CESAR E CHAVEZ BLVD&quot;, &quot;longitude&quot;: &quot;(-122.62267551801278,&quot;}, &quot;type&quot;: &quot;Feature&quot;}, {&quot;bbox&quot;: [-122.58215040061705, 45.490544650000004, -122.58215040061705, 45.490544650000004], &quot;geometry&quot;: {&quot;coordinates&quot;: [-122.58215040061705, 45.490544650000004], &quot;type&quot;: &quot;Point&quot;}, &quot;id&quot;: &quot;9&quot;, &quot;properties&quot;: {&quot;address&quot;: &quot;7905  SE HOLGATE BLVD, PORTLAND, OR&quot;, &quot;latitude&quot;: &quot;45.490544650000004&quot;, &quot;library_city&quot;: &quot;PORTLAND&quot;, &quot;library_id&quot;: &quot;zzw-222@5xc-knn-c5z&quot;, &quot;library_name&quot;: &quot;MULTNOMAH COUNTY LIBRARY HOLGATE&quot;, &quot;library_postal_code&quot;: 0, &quot;library_region&quot;: &quot;OR&quot;, &quot;library_street_address&quot;: &quot;7905  SE HOLGATE BLVD&quot;, &quot;longitude&quot;: &quot;(-122.58215040061705,&quot;}, &quot;type&quot;: &quot;Feature&quot;}, {&quot;bbox&quot;: [-122.53847050319162, 45.5167299, -122.53847050319162, 45.5167299], &quot;geometry&quot;: {&quot;coordinates&quot;: [-122.53847050319162, 45.5167299], &quot;type&quot;: &quot;Point&quot;}, &quot;id&quot;: &quot;10&quot;, &quot;properties&quot;: {&quot;address&quot;: &quot;805 SE 122ND AVE, PORTLAND, OR&quot;, &quot;latitude&quot;: &quot;45.5167299&quot;, &quot;library_city&quot;: &quot;PORTLAND&quot;, &quot;library_id&quot;: &quot;222-222@5xc-kkw-bzf&quot;, &quot;library_name&quot;: &quot;MULTNOMAH COUNTY LIBRARY MIDLAND&quot;, &quot;library_postal_code&quot;: 97233, &quot;library_region&quot;: &quot;OR&quot;, &quot;library_street_address&quot;: &quot;805 SE 122ND AVE&quot;, &quot;longitude&quot;: &quot;(-122.53847050319162,&quot;}, &quot;type&quot;: &quot;Feature&quot;}, {&quot;bbox&quot;: [-122.6635232, 45.5411809, -122.6635232, 45.5411809], &quot;geometry&quot;: {&quot;coordinates&quot;: [-122.6635232, 45.5411809], &quot;type&quot;: &quot;Point&quot;}, &quot;id&quot;: &quot;11&quot;, &quot;properties&quot;: {&quot;address&quot;: &quot;205 NE   RUSSELL  ST, PORTLAND, OR&quot;, &quot;latitude&quot;: &quot;45.5411809&quot;, &quot;library_city&quot;: &quot;PORTLAND&quot;, &quot;library_id&quot;: &quot;228-222@5xc-jtz-hwk&quot;, &quot;library_name&quot;: &quot;MULTNOMAH  COUNTY LIBRARY&quot;, &quot;library_postal_code&quot;: 97212, &quot;library_region&quot;: &quot;OR&quot;, &quot;library_street_address&quot;: &quot;205 NE   RUSSELL  ST&quot;, &quot;longitude&quot;: &quot;(-122.6635232,&quot;}, &quot;type&quot;: &quot;Feature&quot;}, {&quot;bbox&quot;: [-122.6656558, 45.5416506, -122.6656558, 45.5416506], &quot;geometry&quot;: {&quot;coordinates&quot;: [-122.6656558, 45.5416506], &quot;type&quot;: &quot;Point&quot;}, &quot;id&quot;: &quot;12&quot;, &quot;properties&quot;: {&quot;address&quot;: &quot;216 NE KNOTT ST, PORTLAND, OR&quot;, &quot;latitude&quot;: &quot;45.5416506&quot;, &quot;library_city&quot;: &quot;PORTLAND&quot;, &quot;library_id&quot;: &quot;225-222@5xc-jtz-hkf&quot;, &quot;library_name&quot;: &quot;MULTNOMAH COUNTY LIBRARY&quot;, &quot;library_postal_code&quot;: 0, &quot;library_region&quot;: &quot;OR&quot;, &quot;library_street_address&quot;: &quot;216 NE KNOTT ST&quot;, &quot;longitude&quot;: &quot;-122.6656558&quot;}, &quot;type&quot;: &quot;Feature&quot;}, {&quot;bbox&quot;: [-122.6715374934238, 45.562458750000005, -122.6715374934238, 45.562458750000005], &quot;geometry&quot;: {&quot;coordinates&quot;: [-122.6715374934238, 45.562458750000005], &quot;type&quot;: &quot;Point&quot;}, &quot;id&quot;: &quot;13&quot;, &quot;properties&quot;: {&quot;address&quot;: &quot;512    N KILLINGSWORTH ST, PORTLAND, OR&quot;, &quot;latitude&quot;: &quot;45.562458750000005&quot;, &quot;library_city&quot;: &quot;PORTLAND&quot;, &quot;library_id&quot;: &quot;222-222@5xc-jv5-nt9&quot;, &quot;library_name&quot;: &quot;MULTNOMAH  COUNTY  LIBRARY  NORTH PORTLAND&quot;, &quot;library_postal_code&quot;: 97217, &quot;library_region&quot;: &quot;OR&quot;, &quot;library_street_address&quot;: &quot;512    N KILLINGSWORTH ST&quot;, &quot;longitude&quot;: &quot;(-122.6715374934238,&quot;}, &quot;type&quot;: &quot;Feature&quot;}, {&quot;bbox&quot;: [-122.65144959842345, 45.5493187, -122.65144959842345, 45.5493187], &quot;geometry&quot;: {&quot;coordinates&quot;: [-122.65144959842345, 45.5493187], &quot;type&quot;: &quot;Point&quot;}, &quot;id&quot;: &quot;14&quot;, &quot;properties&quot;: {&quot;address&quot;: &quot;3605 NE 15TH AVE, PORTLAND, OR&quot;, &quot;latitude&quot;: &quot;45.5493187&quot;, &quot;library_city&quot;: &quot;PORTLAND&quot;, &quot;library_id&quot;: &quot;zzw-222@5xc-jv4-789&quot;, &quot;library_name&quot;: &quot;MULTNOMAH  COUNTY LIBRARY ALBINA&quot;, &quot;library_postal_code&quot;: 97212, &quot;library_region&quot;: &quot;OR&quot;, &quot;library_street_address&quot;: &quot;3605 NE 15TH AVE&quot;, &quot;longitude&quot;: &quot;(-122.65144959842345,&quot;}, &quot;type&quot;: &quot;Feature&quot;}, {&quot;bbox&quot;: [-122.6211734, 45.537627, -122.6211734, 45.537627], &quot;geometry&quot;: {&quot;coordinates&quot;: [-122.6211734, 45.537627], &quot;type&quot;: &quot;Point&quot;}, &quot;id&quot;: &quot;15&quot;, &quot;properties&quot;: {&quot;address&quot;: &quot;4040 NE   TILLAMOOK   ST, PORTLAND, OR&quot;, &quot;latitude&quot;: &quot;45.537627&quot;, &quot;library_city&quot;: &quot;PORTLAND&quot;, &quot;library_id&quot;: &quot;222-222@5xc-jxp-rp9&quot;, &quot;library_name&quot;: &quot;MULTNOMAH  COUNTY  LIBRARY HOLLYWOOD LIBRARY&quot;, &quot;library_postal_code&quot;: 97212, &quot;library_region&quot;: &quot;OR&quot;, &quot;library_street_address&quot;: &quot;4040 NE   TILLAMOOK   ST&quot;, &quot;longitude&quot;: &quot;(-122.6211734,&quot;}, &quot;type&quot;: &quot;Feature&quot;}, {&quot;bbox&quot;: [-122.6864628364672, 45.5828074, -122.6864628364672, 45.5828074], &quot;geometry&quot;: {&quot;coordinates&quot;: [-122.6864628364672, 45.5828074], &quot;type&quot;: &quot;Point&quot;}, &quot;id&quot;: &quot;16&quot;, &quot;properties&quot;: {&quot;address&quot;: &quot;8226 N DENVER AVE, PORTLAND, OR&quot;, &quot;latitude&quot;: &quot;45.5828074&quot;, &quot;library_city&quot;: &quot;PORTLAND&quot;, &quot;library_id&quot;: &quot;22c-222@5xc-jwj-pvz&quot;, &quot;library_name&quot;: &quot;MULTNOMAH COUNTY LIBRARY KENTON&quot;, &quot;library_postal_code&quot;: 97217, &quot;library_region&quot;: &quot;OR&quot;, &quot;library_street_address&quot;: &quot;8226 N DENVER AVE&quot;, &quot;longitude&quot;: &quot;(-122.6864628364672,&quot;}, &quot;type&quot;: &quot;Feature&quot;}, {&quot;bbox&quot;: [-122.58132371570372, 45.55164885000001, -122.58132371570372, 45.55164885000001], &quot;geometry&quot;: {&quot;coordinates&quot;: [-122.58132371570372, 45.55164885000001], &quot;type&quot;: &quot;Point&quot;}, &quot;id&quot;: &quot;17&quot;, &quot;properties&quot;: {&quot;address&quot;: &quot;7921 NE SANDY BLVD, PORTLAND, OR&quot;, &quot;latitude&quot;: &quot;45.55164885000001&quot;, &quot;library_city&quot;: &quot;PORTLAND&quot;, &quot;library_id&quot;: &quot;224-222@5xc-jw2-t9z&quot;, &quot;library_name&quot;: &quot;MULTNOMAH COUNTY LIBRARY GREGORY HEIGHTS&quot;, &quot;library_postal_code&quot;: 97213, &quot;library_region&quot;: &quot;OR&quot;, &quot;library_street_address&quot;: &quot;7921 NE SANDY BLVD&quot;, &quot;longitude&quot;: &quot;(-122.58132371570372,&quot;}, &quot;type&quot;: &quot;Feature&quot;}], &quot;type&quot;: &quot;FeatureCollection&quot;});\n",
       "\n",
       "        \n",
       "    \n",
       "    geo_json_01e9226d67a79ea8d1b6f30bbb77329f.bindTooltip(\n",
       "    function(layer){\n",
       "    let div = L.DomUtil.create(&#x27;div&#x27;);\n",
       "    \n",
       "    let handleObject = feature=&gt;typeof(feature)==&#x27;object&#x27; ? JSON.stringify(feature) : feature;\n",
       "    let fields = [&quot;library_id&quot;, &quot;library_name&quot;, &quot;library_street_address&quot;, &quot;library_city&quot;, &quot;library_region&quot;, &quot;library_postal_code&quot;, &quot;address&quot;, &quot;longitude&quot;, &quot;latitude&quot;];\n",
       "    let aliases = [&quot;library_id&quot;, &quot;library_name&quot;, &quot;library_street_address&quot;, &quot;library_city&quot;, &quot;library_region&quot;, &quot;library_postal_code&quot;, &quot;address&quot;, &quot;longitude&quot;, &quot;latitude&quot;];\n",
       "    let table = &#x27;&lt;table&gt;&#x27; +\n",
       "        String(\n",
       "        fields.map(\n",
       "        (v,i)=&gt;\n",
       "        `&lt;tr&gt;\n",
       "            &lt;th&gt;${aliases[i]}&lt;/th&gt;\n",
       "            \n",
       "            &lt;td&gt;${handleObject(layer.feature.properties[v])}&lt;/td&gt;\n",
       "        &lt;/tr&gt;`).join(&#x27;&#x27;))\n",
       "    +&#x27;&lt;/table&gt;&#x27;;\n",
       "    div.innerHTML=table;\n",
       "    \n",
       "    return div\n",
       "    }\n",
       "    ,{&quot;className&quot;: &quot;foliumtooltip&quot;, &quot;sticky&quot;: true});\n",
       "                     \n",
       "    \n",
       "            geo_json_01e9226d67a79ea8d1b6f30bbb77329f.addTo(map_2862246ee1307dbf0dfa73da652301c4);\n",
       "        \n",
       "&lt;/script&gt;\n",
       "&lt;/html&gt;\" style=\"position:absolute;width:100%;height:100%;left:0;top:0;border:none !important;\" allowfullscreen webkitallowfullscreen mozallowfullscreen></iframe></div></div>"
      ],
      "text/plain": [
       "<folium.folium.Map at 0x7fc82eeddb90>"
      ]
     },
     "execution_count": 873,
     "metadata": {},
     "output_type": "execute_result"
    }
   ],
   "source": [
    "libraries_gdf.explore()"
   ]
  },
  {
   "cell_type": "code",
   "execution_count": null,
   "id": "0d0df953-581d-460f-b1cd-a420ec58d8df",
   "metadata": {},
   "outputs": [],
   "source": []
  },
  {
   "cell_type": "markdown",
   "id": "467c48f4-e43c-41ea-a083-b9e07105ccd4",
   "metadata": {},
   "source": [
    "# Merge"
   ]
  },
  {
   "cell_type": "code",
   "execution_count": 901,
   "id": "a4f4bfc4-4ab9-46f3-ae82-e2414fabc235",
   "metadata": {},
   "outputs": [
    {
     "data": {
      "text/html": [
       "<div>\n",
       "<style scoped>\n",
       "    .dataframe tbody tr th:only-of-type {\n",
       "        vertical-align: middle;\n",
       "    }\n",
       "\n",
       "    .dataframe tbody tr th {\n",
       "        vertical-align: top;\n",
       "    }\n",
       "\n",
       "    .dataframe thead th {\n",
       "        text-align: right;\n",
       "    }\n",
       "</style>\n",
       "<table border=\"1\" class=\"dataframe\">\n",
       "  <thead>\n",
       "    <tr style=\"text-align: right;\">\n",
       "      <th></th>\n",
       "      <th>library_id</th>\n",
       "      <th>library_name</th>\n",
       "      <th>library_street_address</th>\n",
       "      <th>library_city</th>\n",
       "      <th>library_region</th>\n",
       "      <th>library_postal_code</th>\n",
       "      <th>address</th>\n",
       "      <th>geometry</th>\n",
       "      <th>longitude</th>\n",
       "      <th>latitude</th>\n",
       "    </tr>\n",
       "  </thead>\n",
       "  <tbody>\n",
       "    <tr>\n",
       "      <th>0</th>\n",
       "      <td>226-222@5xc-kc4-fpv</td>\n",
       "      <td>MULTNOMAH   COUNTY   LIBRARY CAPITOL HILL</td>\n",
       "      <td>10723 SW CAPITOL HWY</td>\n",
       "      <td>PORTLAND</td>\n",
       "      <td>OR</td>\n",
       "      <td>97219</td>\n",
       "      <td>10723 SW CAPITOL HWY, PORTLAND, OR</td>\n",
       "      <td>POINT (-122.72545 45.44800)</td>\n",
       "      <td>-122.72544922493631</td>\n",
       "      <td>45.4480033</td>\n",
       "    </tr>\n",
       "    <tr>\n",
       "      <th>1</th>\n",
       "      <td>23v-222@5xc-jv7-v4v</td>\n",
       "      <td>MULTNOMAH COUNTY LIBRARY NORTHWEST</td>\n",
       "      <td>2300 NW THURMAN  ST</td>\n",
       "      <td>PORTLAND</td>\n",
       "      <td>OR</td>\n",
       "      <td>0</td>\n",
       "      <td>2300 NW THURMAN  ST, PORTLAND, OR</td>\n",
       "      <td>POINT (-122.69914 45.53534)</td>\n",
       "      <td>-122.69914461431009</td>\n",
       "      <td>45.535335950000004</td>\n",
       "    </tr>\n",
       "  </tbody>\n",
       "</table>\n",
       "</div>"
      ],
      "text/plain": [
       "            library_id                               library_name  \\\n",
       "0  226-222@5xc-kc4-fpv  MULTNOMAH   COUNTY   LIBRARY CAPITOL HILL   \n",
       "1  23v-222@5xc-jv7-v4v         MULTNOMAH COUNTY LIBRARY NORTHWEST   \n",
       "\n",
       "  library_street_address library_city library_region  library_postal_code  \\\n",
       "0   10723 SW CAPITOL HWY     PORTLAND             OR                97219   \n",
       "1    2300 NW THURMAN  ST     PORTLAND             OR                    0   \n",
       "\n",
       "                              address                     geometry  \\\n",
       "0  10723 SW CAPITOL HWY, PORTLAND, OR  POINT (-122.72545 45.44800)   \n",
       "1   2300 NW THURMAN  ST, PORTLAND, OR  POINT (-122.69914 45.53534)   \n",
       "\n",
       "             longitude            latitude  \n",
       "0  -122.72544922493631          45.4480033  \n",
       "1  -122.69914461431009  45.535335950000004  "
      ]
     },
     "execution_count": 901,
     "metadata": {},
     "output_type": "execute_result"
    }
   ],
   "source": [
    "libraries_gdf.head(2)"
   ]
  },
  {
   "cell_type": "code",
   "execution_count": 902,
   "id": "3c9237b4-b86d-4f76-b4a4-d5cac2fbcabc",
   "metadata": {},
   "outputs": [
    {
     "data": {
      "text/html": [
       "<div>\n",
       "<style scoped>\n",
       "    .dataframe tbody tr th:only-of-type {\n",
       "        vertical-align: middle;\n",
       "    }\n",
       "\n",
       "    .dataframe tbody tr th {\n",
       "        vertical-align: top;\n",
       "    }\n",
       "\n",
       "    .dataframe thead th {\n",
       "        text-align: right;\n",
       "    }\n",
       "</style>\n",
       "<table border=\"1\" class=\"dataframe\">\n",
       "  <thead>\n",
       "    <tr style=\"text-align: right;\">\n",
       "      <th></th>\n",
       "      <th>id</th>\n",
       "      <th>patron_id</th>\n",
       "      <th>library_id</th>\n",
       "      <th>date_checkout</th>\n",
       "      <th>date_returned</th>\n",
       "      <th>length</th>\n",
       "      <th>customer_name</th>\n",
       "      <th>customer_street_address</th>\n",
       "      <th>customer_city</th>\n",
       "      <th>customer_state</th>\n",
       "      <th>...</th>\n",
       "      <th>library_name</th>\n",
       "      <th>library_street_address</th>\n",
       "      <th>library_city</th>\n",
       "      <th>library_region</th>\n",
       "      <th>library_postal_code</th>\n",
       "      <th>library_address</th>\n",
       "      <th>library_longitude</th>\n",
       "      <th>library_latitude</th>\n",
       "      <th>library_geometry</th>\n",
       "      <th>distance</th>\n",
       "    </tr>\n",
       "  </thead>\n",
       "  <tbody>\n",
       "    <tr>\n",
       "      <th>0</th>\n",
       "      <td>HUX-y4oXl04C</td>\n",
       "      <td>8d3f63e1deed89d7ba1bf6a4eb101373</td>\n",
       "      <td>223-222@5xc-jxr-tgk</td>\n",
       "      <td>2018-05-29</td>\n",
       "      <td>2018-06-12</td>\n",
       "      <td>14</td>\n",
       "      <td>Jeanette Nelms</td>\n",
       "      <td>4942 SE 28TH AVE</td>\n",
       "      <td>PORTLAND</td>\n",
       "      <td>OREGON</td>\n",
       "      <td>...</td>\n",
       "      <td>MULTNOMAH COUNTY LIBRARY WOODSTOCK</td>\n",
       "      <td>6008 SE 49TH AVE</td>\n",
       "      <td>PORTLAND</td>\n",
       "      <td>OR</td>\n",
       "      <td>97206</td>\n",
       "      <td>6008 SE 49TH AVE, PORTLAND, OR</td>\n",
       "      <td>-122.612107</td>\n",
       "      <td>45.479005</td>\n",
       "      <td>POINT (-13649117.262 5697248.904)</td>\n",
       "      <td>3.066752e+03</td>\n",
       "    </tr>\n",
       "    <tr>\n",
       "      <th>1</th>\n",
       "      <td>TQpFnkku2poC</td>\n",
       "      <td>4ae202f8de762591734705e0079d76df</td>\n",
       "      <td>228-222@5xc-jtz-hwk</td>\n",
       "      <td>2018-11-23</td>\n",
       "      <td>2019-01-24</td>\n",
       "      <td>62</td>\n",
       "      <td>Melvin Jackson</td>\n",
       "      <td>2821 NE KLICKITAT ST</td>\n",
       "      <td>PORTLAND</td>\n",
       "      <td>OREGON</td>\n",
       "      <td>...</td>\n",
       "      <td>MULTNOMAH  COUNTY LIBRARY</td>\n",
       "      <td>205 NE   RUSSELL  ST</td>\n",
       "      <td>PORTLAND</td>\n",
       "      <td>NA</td>\n",
       "      <td>97212</td>\n",
       "      <td>205 NE   RUSSELL  ST, NA, NA</td>\n",
       "      <td>-122.419487</td>\n",
       "      <td>37.798667</td>\n",
       "      <td>POINT (-13627674.995 4551023.169)</td>\n",
       "      <td>1.157263e+06</td>\n",
       "    </tr>\n",
       "  </tbody>\n",
       "</table>\n",
       "<p>2 rows × 30 columns</p>\n",
       "</div>"
      ],
      "text/plain": [
       "             id                         patron_id           library_id  \\\n",
       "0  HUX-y4oXl04C  8d3f63e1deed89d7ba1bf6a4eb101373  223-222@5xc-jxr-tgk   \n",
       "1  TQpFnkku2poC  4ae202f8de762591734705e0079d76df  228-222@5xc-jtz-hwk   \n",
       "\n",
       "  date_checkout date_returned  length   customer_name customer_street_address  \\\n",
       "0    2018-05-29    2018-06-12      14  Jeanette Nelms        4942 SE 28TH AVE   \n",
       "1    2018-11-23    2019-01-24      62  Melvin Jackson    2821 NE KLICKITAT ST   \n",
       "\n",
       "  customer_city customer_state  ...                        library_name  \\\n",
       "0      PORTLAND         OREGON  ...  MULTNOMAH COUNTY LIBRARY WOODSTOCK   \n",
       "1      PORTLAND         OREGON  ...           MULTNOMAH  COUNTY LIBRARY   \n",
       "\n",
       "  library_street_address library_city library_region library_postal_code  \\\n",
       "0       6008 SE 49TH AVE     PORTLAND             OR               97206   \n",
       "1   205 NE   RUSSELL  ST     PORTLAND             NA               97212   \n",
       "\n",
       "                  library_address library_longitude library_latitude  \\\n",
       "0  6008 SE 49TH AVE, PORTLAND, OR       -122.612107        45.479005   \n",
       "1    205 NE   RUSSELL  ST, NA, NA       -122.419487        37.798667   \n",
       "\n",
       "                    library_geometry      distance  \n",
       "0  POINT (-13649117.262 5697248.904)  3.066752e+03  \n",
       "1  POINT (-13627674.995 4551023.169)  1.157263e+06  \n",
       "\n",
       "[2 rows x 30 columns]"
      ]
     },
     "execution_count": 902,
     "metadata": {},
     "output_type": "execute_result"
    }
   ],
   "source": [
    "checkouts_df.head(2)"
   ]
  },
  {
   "cell_type": "code",
   "execution_count": 1144,
   "id": "a3106069-7021-4a16-9d44-9fef6e38b969",
   "metadata": {},
   "outputs": [
    {
     "data": {
      "text/plain": [
       "Index(['id', 'patron_id', 'library_id', 'date_checkout', 'date_returned',\n",
       "       'length'],\n",
       "      dtype='object')"
      ]
     },
     "execution_count": 1144,
     "metadata": {},
     "output_type": "execute_result"
    }
   ],
   "source": [
    "checkouts_df.columns"
   ]
  },
  {
   "cell_type": "code",
   "execution_count": 1020,
   "id": "91bfd2f2-9515-4fff-8ae5-50313dc13ac0",
   "metadata": {},
   "outputs": [
    {
     "data": {
      "text/html": [
       "<div>\n",
       "<style scoped>\n",
       "    .dataframe tbody tr th:only-of-type {\n",
       "        vertical-align: middle;\n",
       "    }\n",
       "\n",
       "    .dataframe tbody tr th {\n",
       "        vertical-align: top;\n",
       "    }\n",
       "\n",
       "    .dataframe thead th {\n",
       "        text-align: right;\n",
       "    }\n",
       "</style>\n",
       "<table border=\"1\" class=\"dataframe\">\n",
       "  <thead>\n",
       "    <tr style=\"text-align: right;\">\n",
       "      <th></th>\n",
       "      <th>patron_id</th>\n",
       "      <th>customer_name</th>\n",
       "      <th>customer_street_address</th>\n",
       "      <th>customer_city</th>\n",
       "      <th>customer_state</th>\n",
       "      <th>customer_zipcode</th>\n",
       "      <th>customer_birth_date</th>\n",
       "      <th>customer_gender</th>\n",
       "      <th>customer_education</th>\n",
       "      <th>customer_occupation</th>\n",
       "      <th>customer_years_old</th>\n",
       "      <th>customer_address</th>\n",
       "      <th>customer_geometry</th>\n",
       "      <th>customer_longitude</th>\n",
       "      <th>customer_latitude</th>\n",
       "    </tr>\n",
       "  </thead>\n",
       "  <tbody>\n",
       "    <tr>\n",
       "      <th>0</th>\n",
       "      <td>df83ec2d0d409395c0d8c2690cfa8b67</td>\n",
       "      <td>Cynthia Barnfield</td>\n",
       "      <td>44 NE MEIKLE PL</td>\n",
       "      <td>PORTLAND</td>\n",
       "      <td>OREGON</td>\n",
       "      <td>97213</td>\n",
       "      <td>2009-09-10</td>\n",
       "      <td>FEMALE</td>\n",
       "      <td>HIGHSCHOOL</td>\n",
       "      <td>NA</td>\n",
       "      <td>11</td>\n",
       "      <td>44 NE MEIKLE PL, PORTLAND, OREGON</td>\n",
       "      <td>POINT (-122.61875 45.52349)</td>\n",
       "      <td>-122.61875283330345</td>\n",
       "      <td>45.52348805</td>\n",
       "    </tr>\n",
       "    <tr>\n",
       "      <th>1</th>\n",
       "      <td>6aec7ab2ea0d67161dac39e5dcabd857</td>\n",
       "      <td>Elizabeth Smith</td>\n",
       "      <td>7511 SE HARRISON ST</td>\n",
       "      <td>PORTLAND</td>\n",
       "      <td>OREGON</td>\n",
       "      <td>97215</td>\n",
       "      <td>1956-12-15</td>\n",
       "      <td>FEMALE</td>\n",
       "      <td>COLLEGE</td>\n",
       "      <td>BLUECOLLAR</td>\n",
       "      <td>64</td>\n",
       "      <td>7511 SE HARRISON ST, PORTLAND, OREGON</td>\n",
       "      <td>POINT (-122.58601 45.50912)</td>\n",
       "      <td>-122.58601213138911</td>\n",
       "      <td>45.509121</td>\n",
       "    </tr>\n",
       "  </tbody>\n",
       "</table>\n",
       "</div>"
      ],
      "text/plain": [
       "                          patron_id      customer_name  \\\n",
       "0  df83ec2d0d409395c0d8c2690cfa8b67  Cynthia Barnfield   \n",
       "1  6aec7ab2ea0d67161dac39e5dcabd857    Elizabeth Smith   \n",
       "\n",
       "  customer_street_address customer_city customer_state  customer_zipcode  \\\n",
       "0         44 NE MEIKLE PL      PORTLAND         OREGON             97213   \n",
       "1     7511 SE HARRISON ST      PORTLAND         OREGON             97215   \n",
       "\n",
       "  customer_birth_date customer_gender customer_education customer_occupation  \\\n",
       "0          2009-09-10          FEMALE         HIGHSCHOOL                  NA   \n",
       "1          1956-12-15          FEMALE            COLLEGE          BLUECOLLAR   \n",
       "\n",
       "   customer_years_old                       customer_address  \\\n",
       "0                  11      44 NE MEIKLE PL, PORTLAND, OREGON   \n",
       "1                  64  7511 SE HARRISON ST, PORTLAND, OREGON   \n",
       "\n",
       "             customer_geometry   customer_longitude customer_latitude  \n",
       "0  POINT (-122.61875 45.52349)  -122.61875283330345       45.52348805  \n",
       "1  POINT (-122.58601 45.50912)  -122.58601213138911         45.509121  "
      ]
     },
     "execution_count": 1020,
     "metadata": {},
     "output_type": "execute_result"
    }
   ],
   "source": [
    "customers_df.head(2)"
   ]
  },
  {
   "cell_type": "code",
   "execution_count": 1168,
   "id": "77198e8c-2247-40b9-b293-b61a8929f777",
   "metadata": {},
   "outputs": [],
   "source": [
    "customers_df = customers_df.rename(columns={\n",
    "    'customer_id': 'patron_id',\n",
    "    'address':'customer_address',\n",
    "    'geometry':'customer_geometry',\n",
    "    'longitude':'customer_longitude',\n",
    "    'latitude':'customer_latitude'\n",
    "})"
   ]
  },
  {
   "cell_type": "code",
   "execution_count": 1152,
   "id": "2dba0bf5-8261-4b66-bcd0-2db57621e926",
   "metadata": {},
   "outputs": [],
   "source": [
    "# customers_df"
   ]
  },
  {
   "cell_type": "code",
   "execution_count": 1169,
   "id": "7611242a-1bbd-472d-be3b-e15e2b65fe41",
   "metadata": {},
   "outputs": [],
   "source": [
    "merged_df = checkouts_df.merge(customers_df, on='patron_id', how='left')"
   ]
  },
  {
   "cell_type": "code",
   "execution_count": 958,
   "id": "f495201d-44be-4854-8cf7-c1c483c4a309",
   "metadata": {},
   "outputs": [],
   "source": [
    "# checkouts_df"
   ]
  },
  {
   "cell_type": "code",
   "execution_count": 790,
   "id": "0145cb14-84a7-46a4-89e7-b26b1a58a7b0",
   "metadata": {},
   "outputs": [],
   "source": [
    "# checkouts_df = \n",
    "# checkouts_df.merge(coordinates_list_gdf, on='address', how='left')"
   ]
  },
  {
   "cell_type": "code",
   "execution_count": 974,
   "id": "f7858a00-2e45-406a-b3af-cd0479d7772e",
   "metadata": {},
   "outputs": [],
   "source": [
    "# libraries_gdf.library_name.unique()"
   ]
  },
  {
   "cell_type": "code",
   "execution_count": 1170,
   "id": "805c8954-7407-419e-9aba-d2f6ae3192c0",
   "metadata": {},
   "outputs": [],
   "source": [
    "libraries_gdf = libraries_gdf.rename(columns={\n",
    "    # 'customer_id': 'patron_id',\n",
    "    'address':'library_address',\n",
    "    'geometry':'library_geometry',\n",
    "    'longitude':'library_longitude',\n",
    "    'latitude':'library_latitude'\n",
    "})"
   ]
  },
  {
   "cell_type": "code",
   "execution_count": 1171,
   "id": "d97bce48-711d-489b-8099-473015ef531b",
   "metadata": {},
   "outputs": [],
   "source": [
    "merged_df = merged_df.merge(libraries_gdf, on='library_id', how='left')"
   ]
  },
  {
   "cell_type": "code",
   "execution_count": 1172,
   "id": "fd17fe1b-eb82-4efc-adf9-b66f4c9e6452",
   "metadata": {},
   "outputs": [
    {
     "data": {
      "text/plain": [
       "Index(['id', 'patron_id', 'library_id', 'date_checkout', 'date_returned',\n",
       "       'length', 'customer_name', 'customer_street_address', 'customer_city',\n",
       "       'customer_state', 'customer_zipcode', 'customer_birth_date',\n",
       "       'customer_gender', 'customer_education', 'customer_occupation',\n",
       "       'customer_years_old', 'customer_address', 'customer_geometry',\n",
       "       'customer_longitude', 'customer_latitude', 'library_name',\n",
       "       'library_street_address', 'library_city', 'library_region',\n",
       "       'library_postal_code', 'library_address', 'library_geometry',\n",
       "       'library_longitude', 'library_latitude'],\n",
       "      dtype='object')"
      ]
     },
     "execution_count": 1172,
     "metadata": {},
     "output_type": "execute_result"
    }
   ],
   "source": [
    "merged_df.columns"
   ]
  },
  {
   "cell_type": "code",
   "execution_count": 1173,
   "id": "b9a2fa57-68fd-4836-a7b9-27ba8672f84a",
   "metadata": {},
   "outputs": [
    {
     "data": {
      "text/html": [
       "<div>\n",
       "<style scoped>\n",
       "    .dataframe tbody tr th:only-of-type {\n",
       "        vertical-align: middle;\n",
       "    }\n",
       "\n",
       "    .dataframe tbody tr th {\n",
       "        vertical-align: top;\n",
       "    }\n",
       "\n",
       "    .dataframe thead th {\n",
       "        text-align: right;\n",
       "    }\n",
       "</style>\n",
       "<table border=\"1\" class=\"dataframe\">\n",
       "  <thead>\n",
       "    <tr style=\"text-align: right;\">\n",
       "      <th></th>\n",
       "      <th>customer_city</th>\n",
       "      <th>customer_state</th>\n",
       "      <th>customer_address</th>\n",
       "      <th>customer_geometry</th>\n",
       "    </tr>\n",
       "  </thead>\n",
       "  <tbody>\n",
       "  </tbody>\n",
       "</table>\n",
       "</div>"
      ],
      "text/plain": [
       "Empty DataFrame\n",
       "Columns: [customer_city, customer_state, customer_address, customer_geometry]\n",
       "Index: []"
      ]
     },
     "execution_count": 1173,
     "metadata": {},
     "output_type": "execute_result"
    }
   ],
   "source": [
    "merged_df[merged_df.customer_address.str.contains('N/A')][['customer_city', 'customer_state','customer_address', 'customer_geometry']]"
   ]
  },
  {
   "cell_type": "code",
   "execution_count": 1174,
   "id": "978c7590-8983-47f0-9f83-a776bd8448d0",
   "metadata": {},
   "outputs": [],
   "source": [
    "# merged_df[merged_df.customer_geometry.isna()][['customer_address', 'customer_geometry']].to_csv('data/customer_new5.csv')"
   ]
  },
  {
   "cell_type": "code",
   "execution_count": 1177,
   "id": "09afd4e0-bdf6-4f90-b2de-5141ccd38e01",
   "metadata": {},
   "outputs": [
    {
     "data": {
      "text/plain": [
       "(80, 29)"
      ]
     },
     "execution_count": 1177,
     "metadata": {},
     "output_type": "execute_result"
    }
   ],
   "source": [
    "merged_df[merged_df.customer_geometry.isna()].shape"
   ]
  },
  {
   "cell_type": "code",
   "execution_count": 1178,
   "id": "093b7311-57d8-46f5-9c98-2a1c100bc719",
   "metadata": {},
   "outputs": [],
   "source": [
    "merged_df = merged_df[~merged_df.customer_geometry.isna()]"
   ]
  },
  {
   "cell_type": "code",
   "execution_count": 1179,
   "id": "3ace96e7-abd9-4d0e-8f67-b94f7250ff30",
   "metadata": {},
   "outputs": [],
   "source": [
    "merged_df = gpd.GeoDataFrame(merged_df, geometry='customer_geometry', crs='EPSG:4326')"
   ]
  },
  {
   "cell_type": "code",
   "execution_count": 1180,
   "id": "b37830a4-1a1d-49ed-a7f5-1e2b314de63a",
   "metadata": {},
   "outputs": [],
   "source": [
    "merged_df = merged_df.to_crs(\"EPSG:3857\")\n",
    "# checkouts_df[\"customer_geometry\"] = checkouts_df[\"customer_geometry\"].to_crs(\"EPSG:3857\")\n",
    "merged_df[\"library_geometry\"] = merged_df[\"library_geometry\"].to_crs(\"EPSG:3857\")\n",
    "\n",
    "# Calculate distance in meters\n",
    "# gdf[\"distance_meters\"] = gdf.apply(lambda row: row[\"geometry_1\"].distance(row[\"geometry_2\"]), axis=1)\n"
   ]
  },
  {
   "cell_type": "code",
   "execution_count": null,
   "id": "551ff7fa-9341-461c-a3df-79259bedae57",
   "metadata": {},
   "outputs": [],
   "source": []
  },
  {
   "cell_type": "code",
   "execution_count": 1181,
   "id": "b6bf8e38-48f4-4eef-a487-fd380df1cd21",
   "metadata": {},
   "outputs": [],
   "source": [
    "merged_df[\"distance\"] = merged_df.apply(lambda x: x[\"customer_geometry\"].distance(x[\"library_geometry\"]), axis=1)"
   ]
  },
  {
   "cell_type": "code",
   "execution_count": null,
   "id": "cfe3c14c-3b0e-410f-ae40-021ae5c2904f",
   "metadata": {},
   "outputs": [],
   "source": []
  },
  {
   "cell_type": "code",
   "execution_count": 1182,
   "id": "640b55db-2a23-4176-8474-8e55d42eb9a7",
   "metadata": {},
   "outputs": [
    {
     "data": {
      "text/html": [
       "<div>\n",
       "<style scoped>\n",
       "    .dataframe tbody tr th:only-of-type {\n",
       "        vertical-align: middle;\n",
       "    }\n",
       "\n",
       "    .dataframe tbody tr th {\n",
       "        vertical-align: top;\n",
       "    }\n",
       "\n",
       "    .dataframe thead th {\n",
       "        text-align: right;\n",
       "    }\n",
       "</style>\n",
       "<table border=\"1\" class=\"dataframe\">\n",
       "  <thead>\n",
       "    <tr style=\"text-align: right;\">\n",
       "      <th></th>\n",
       "      <th>customer_geometry</th>\n",
       "      <th>library_geometry</th>\n",
       "      <th>distance</th>\n",
       "    </tr>\n",
       "  </thead>\n",
       "  <tbody>\n",
       "    <tr>\n",
       "      <th>0</th>\n",
       "      <td>POINT (-13651918.354 5698497.442)</td>\n",
       "      <td>POINT (-13649117.262 5697248.904)</td>\n",
       "      <td>3066.751994</td>\n",
       "    </tr>\n",
       "    <tr>\n",
       "      <th>1</th>\n",
       "      <td>POINT (-13651844.638 5708033.344)</td>\n",
       "      <td>POINT (-13654840.942 5707125.540)</td>\n",
       "      <td>3130.805100</td>\n",
       "    </tr>\n",
       "    <tr>\n",
       "      <th>2</th>\n",
       "      <td>POINT (-13657320.287 5708842.138)</td>\n",
       "      <td>POINT (-13658806.299 5706196.605)</td>\n",
       "      <td>3034.316866</td>\n",
       "    </tr>\n",
       "    <tr>\n",
       "      <th>3</th>\n",
       "      <td>POINT (-13658147.977 5711828.015)</td>\n",
       "      <td>POINT (-13657394.570 5713744.017)</td>\n",
       "      <td>2058.806092</td>\n",
       "    </tr>\n",
       "    <tr>\n",
       "      <th>4</th>\n",
       "      <td>POINT (-13651216.735 5707166.363)</td>\n",
       "      <td>POINT (-13655733.089 5710508.036)</td>\n",
       "      <td>5618.204499</td>\n",
       "    </tr>\n",
       "    <tr>\n",
       "      <th>...</th>\n",
       "      <td>...</td>\n",
       "      <td>...</td>\n",
       "      <td>...</td>\n",
       "    </tr>\n",
       "    <tr>\n",
       "      <th>1503</th>\n",
       "      <td>POINT (-13647827.940 5709406.624)</td>\n",
       "      <td>POINT (-13645690.537 5708789.448)</td>\n",
       "      <td>2224.724185</td>\n",
       "    </tr>\n",
       "    <tr>\n",
       "      <th>1504</th>\n",
       "      <td>POINT (-13651333.180 5704124.519)</td>\n",
       "      <td>POINT (-13655733.089 5710508.036)</td>\n",
       "      <td>7752.965621</td>\n",
       "    </tr>\n",
       "    <tr>\n",
       "      <th>1505</th>\n",
       "      <td>POINT (-13647133.186 5687196.179)</td>\n",
       "      <td>POINT (-13653641.230 5695443.410)</td>\n",
       "      <td>10505.781620</td>\n",
       "    </tr>\n",
       "    <tr>\n",
       "      <th>1506</th>\n",
       "      <td>POINT (-13649682.740 5710777.986)</td>\n",
       "      <td>POINT (-13650293.798 5703007.766)</td>\n",
       "      <td>7794.210644</td>\n",
       "    </tr>\n",
       "    <tr>\n",
       "      <th>1507</th>\n",
       "      <td>POINT (-13641889.773 5700365.848)</td>\n",
       "      <td>POINT (-13649117.262 5697248.904)</td>\n",
       "      <td>7870.955159</td>\n",
       "    </tr>\n",
       "  </tbody>\n",
       "</table>\n",
       "<p>1429 rows × 3 columns</p>\n",
       "</div>"
      ],
      "text/plain": [
       "                      customer_geometry                   library_geometry  \\\n",
       "0     POINT (-13651918.354 5698497.442)  POINT (-13649117.262 5697248.904)   \n",
       "1     POINT (-13651844.638 5708033.344)  POINT (-13654840.942 5707125.540)   \n",
       "2     POINT (-13657320.287 5708842.138)  POINT (-13658806.299 5706196.605)   \n",
       "3     POINT (-13658147.977 5711828.015)  POINT (-13657394.570 5713744.017)   \n",
       "4     POINT (-13651216.735 5707166.363)  POINT (-13655733.089 5710508.036)   \n",
       "...                                 ...                                ...   \n",
       "1503  POINT (-13647827.940 5709406.624)  POINT (-13645690.537 5708789.448)   \n",
       "1504  POINT (-13651333.180 5704124.519)  POINT (-13655733.089 5710508.036)   \n",
       "1505  POINT (-13647133.186 5687196.179)  POINT (-13653641.230 5695443.410)   \n",
       "1506  POINT (-13649682.740 5710777.986)  POINT (-13650293.798 5703007.766)   \n",
       "1507  POINT (-13641889.773 5700365.848)  POINT (-13649117.262 5697248.904)   \n",
       "\n",
       "          distance  \n",
       "0      3066.751994  \n",
       "1      3130.805100  \n",
       "2      3034.316866  \n",
       "3      2058.806092  \n",
       "4      5618.204499  \n",
       "...            ...  \n",
       "1503   2224.724185  \n",
       "1504   7752.965621  \n",
       "1505  10505.781620  \n",
       "1506   7794.210644  \n",
       "1507   7870.955159  \n",
       "\n",
       "[1429 rows x 3 columns]"
      ]
     },
     "execution_count": 1182,
     "metadata": {},
     "output_type": "execute_result"
    }
   ],
   "source": [
    "merged_df[['customer_geometry', 'library_geometry', \"distance\"]]"
   ]
  },
  {
   "cell_type": "code",
   "execution_count": 1183,
   "id": "0adf90d3-ef11-4c9e-b7e0-168cc433ae32",
   "metadata": {},
   "outputs": [
    {
     "data": {
      "text/plain": [
       "<Axes: >"
      ]
     },
     "execution_count": 1183,
     "metadata": {},
     "output_type": "execute_result"
    },
    {
     "data": {
      "image/png": "[encoded data removed]",
      "text/plain": [
       "<Figure size 640x480 with 1 Axes>"
      ]
     },
     "metadata": {},
     "output_type": "display_data"
    }
   ],
   "source": [
    "merged_df['distance'].hist(bins=100)"
   ]
  },
  {
   "cell_type": "code",
   "execution_count": 1185,
   "id": "7b37e14b-2397-4df5-aa40-64bdd841b9cd",
   "metadata": {},
   "outputs": [
    {
     "data": {
      "text/html": [
       "\n",
       "        <iframe\n",
       "            width=\"100%\"\n",
       "            height=\"475\"\n",
       "            src=\"http://hlu:40000/dtale/iframe/1\"\n",
       "            frameborder=\"0\"\n",
       "            allowfullscreen\n",
       "            \n",
       "        ></iframe>\n",
       "        "
      ],
      "text/plain": [
       "<IPython.lib.display.IFrame at 0x7fc816fd06d0>"
      ]
     },
     "metadata": {},
     "output_type": "display_data"
    },
    {
     "data": {
      "text/plain": []
     },
     "execution_count": 1185,
     "metadata": {},
     "output_type": "execute_result"
    }
   ],
   "source": [
    "dtale.show(merged_df[['customer_geometry', \"distance\"]])"
   ]
  },
  {
   "cell_type": "code",
   "execution_count": 1186,
   "id": "47791d21-1aae-4684-8374-5eb55f8a9e7b",
   "metadata": {},
   "outputs": [],
   "source": [
    "# checkouts_df[checkouts_df['distance']>30000.0]"
   ]
  },
  {
   "cell_type": "code",
   "execution_count": 1187,
   "id": "d89a0638-c6f6-40ad-8080-463c9d321277",
   "metadata": {},
   "outputs": [
    {
     "data": {
      "text/html": [
       "<div style=\"width:100%;\"><div style=\"position:relative;width:100%;height:0;padding-bottom:60%;\"><span style=\"color:#565656\">Make this Notebook Trusted to load map: File -> Trust Notebook</span><iframe srcdoc=\"&lt;!DOCTYPE html&gt;\n",
       "&lt;html&gt;\n",
       "&lt;head&gt;\n",
       "    \n",
       "    &lt;meta http-equiv=&quot;content-type&quot; content=&quot;text/html; charset=UTF-8&quot; /&gt;\n",
       "    \n",
       "        &lt;script&gt;\n",
       "            L_NO_TOUCH = false;\n",
       "            L_DISABLE_3D = false;\n",
       "        &lt;/script&gt;\n",
       "    \n",
       "    &lt;style&gt;html, body {width: 100%;height: 100%;margin: 0;padding: 0;}&lt;/style&gt;\n",
       "    &lt;style&gt;#map {position:absolute;top:0;bottom:0;right:0;left:0;}&lt;/style&gt;\n",
       "    &lt;script src=&quot;https://cdn.jsdelivr.net/npm/leaflet@1.9.3/dist/leaflet.js&quot;&gt;&lt;/script&gt;\n",
       "    &lt;script src=&quot;https://code.jquery.com/jquery-3.7.1.min.js&quot;&gt;&lt;/script&gt;\n",
       "    &lt;script src=&quot;https://cdn.jsdelivr.net/npm/bootstrap@5.2.2/dist/js/bootstrap.bundle.min.js&quot;&gt;&lt;/script&gt;\n",
       "    &lt;script src=&quot;https://cdnjs.cloudflare.com/ajax/libs/Leaflet.awesome-markers/2.0.2/leaflet.awesome-markers.js&quot;&gt;&lt;/script&gt;\n",
       "    &lt;link rel=&quot;stylesheet&quot; href=&quot;https://cdn.jsdelivr.net/npm/leaflet@1.9.3/dist/leaflet.css&quot;/&gt;\n",
       "    &lt;link rel=&quot;stylesheet&quot; href=&quot;https://cdn.jsdelivr.net/npm/bootstrap@5.2.2/dist/css/bootstrap.min.css&quot;/&gt;\n",
       "    &lt;link rel=&quot;stylesheet&quot; href=&quot;https://netdna.bootstrapcdn.com/bootstrap/3.0.0/css/bootstrap-glyphicons.css&quot;/&gt;\n",
       "    &lt;link rel=&quot;stylesheet&quot; href=&quot;https://cdn.jsdelivr.net/npm/@fortawesome/fontawesome-free@6.2.0/css/all.min.css&quot;/&gt;\n",
       "    &lt;link rel=&quot;stylesheet&quot; href=&quot;https://cdnjs.cloudflare.com/ajax/libs/Leaflet.awesome-markers/2.0.2/leaflet.awesome-markers.css&quot;/&gt;\n",
       "    &lt;link rel=&quot;stylesheet&quot; href=&quot;https://cdn.jsdelivr.net/gh/python-visualization/folium/folium/templates/leaflet.awesome.rotate.min.css&quot;/&gt;\n",
       "    \n",
       "            &lt;meta name=&quot;viewport&quot; content=&quot;width=device-width,\n",
       "                initial-scale=1.0, maximum-scale=1.0, user-scalable=no&quot; /&gt;\n",
       "            &lt;style&gt;\n",
       "                #map_091474cff4df3420104e75ff6f17445b {\n",
       "                    position: relative;\n",
       "                    width: 100.0%;\n",
       "                    height: 100.0%;\n",
       "                    left: 0.0%;\n",
       "                    top: 0.0%;\n",
       "                }\n",
       "                .leaflet-container { font-size: 1rem; }\n",
       "            &lt;/style&gt;\n",
       "        \n",
       "    \n",
       "                    &lt;style&gt;\n",
       "                        .foliumtooltip {\n",
       "                            \n",
       "                        }\n",
       "                       .foliumtooltip table{\n",
       "                            margin: auto;\n",
       "                        }\n",
       "                        .foliumtooltip tr{\n",
       "                            text-align: left;\n",
       "                        }\n",
       "                        .foliumtooltip th{\n",
       "                            padding: 2px; padding-right: 8px;\n",
       "                        }\n",
       "                    &lt;/style&gt;\n",
       "            \n",
       "    &lt;script src=&quot;https://cdnjs.cloudflare.com/ajax/libs/d3/3.5.5/d3.min.js&quot;&gt;&lt;/script&gt;\n",
       "&lt;/head&gt;\n",
       "&lt;body&gt;\n",
       "    \n",
       "    \n",
       "            &lt;div class=&quot;folium-map&quot; id=&quot;map_091474cff4df3420104e75ff6f17445b&quot; &gt;&lt;/div&gt;\n",
       "        \n",
       "&lt;/body&gt;\n",
       "&lt;script&gt;\n",
       "    \n",
       "    \n",
       "            var map_091474cff4df3420104e75ff6f17445b = L.map(\n",
       "                &quot;map_091474cff4df3420104e75ff6f17445b&quot;,\n",
       "                {\n",
       "                    center: [45.53423975, -122.64944746295254],\n",
       "                    crs: L.CRS.EPSG3857,\n",
       "                    zoom: 10,\n",
       "                    zoomControl: true,\n",
       "                    preferCanvas: false,\n",
       "                }\n",
       "            );\n",
       "            L.control.scale().addTo(map_091474cff4df3420104e75ff6f17445b);\n",
       "\n",
       "            \n",
       "\n",
       "        \n",
       "    \n",
       "            var tile_layer_659b64f879e64aee9142209ab24c74de = L.tileLayer(\n",
       "                &quot;https://tile.openstreetmap.org/{z}/{x}/{y}.png&quot;,\n",
       "                {&quot;attribution&quot;: &quot;\\u0026copy; \\u003ca href=\\&quot;https://www.openstreetmap.org/copyright\\&quot;\\u003eOpenStreetMap\\u003c/a\\u003e contributors&quot;, &quot;detectRetina&quot;: false, &quot;maxNativeZoom&quot;: 19, &quot;maxZoom&quot;: 19, &quot;minZoom&quot;: 0, &quot;noWrap&quot;: false, &quot;opacity&quot;: 1, &quot;subdomains&quot;: &quot;abc&quot;, &quot;tms&quot;: false}\n",
       "            );\n",
       "        \n",
       "    \n",
       "            tile_layer_659b64f879e64aee9142209ab24c74de.addTo(map_091474cff4df3420104e75ff6f17445b);\n",
       "        \n",
       "    \n",
       "            map_091474cff4df3420104e75ff6f17445b.fitBounds(\n",
       "                [[45.33640869999999, -122.84924507422858], [45.732070799999995, -122.4496498516765]],\n",
       "                {}\n",
       "            );\n",
       "        \n",
       "    \n",
       "        function geo_json_dc34b5064fa02539a4e30dfd5b07438d_styler(feature) {\n",
       "            switch(feature.id) {\n",
       "                case &quot;0&quot;: case &quot;2&quot;: case &quot;8&quot;: case &quot;62&quot;: case &quot;69&quot;: case &quot;440&quot;: case &quot;553&quot;: case &quot;641&quot;: case &quot;694&quot;: case &quot;699&quot;: case &quot;780&quot;: case &quot;808&quot;: case &quot;971&quot;: case &quot;1053&quot;: case &quot;1147&quot;: case &quot;1229&quot;: case &quot;1264&quot;: case &quot;1299&quot;: case &quot;1346&quot;: case &quot;1386&quot;: \n",
       "                    return {&quot;color&quot;: &quot;#482576&quot;, &quot;fillColor&quot;: &quot;#482576&quot;, &quot;fillOpacity&quot;: 0.5, &quot;weight&quot;: 2};\n",
       "                case &quot;1&quot;: case &quot;60&quot;: case &quot;73&quot;: case &quot;224&quot;: case &quot;275&quot;: case &quot;286&quot;: case &quot;341&quot;: case &quot;398&quot;: case &quot;489&quot;: case &quot;632&quot;: case &quot;654&quot;: case &quot;686&quot;: case &quot;779&quot;: case &quot;918&quot;: case &quot;922&quot;: case &quot;963&quot;: case &quot;1012&quot;: case &quot;1036&quot;: case &quot;1113&quot;: case &quot;1123&quot;: case &quot;1201&quot;: case &quot;1382&quot;: case &quot;1421&quot;: case &quot;1444&quot;: case &quot;1451&quot;: \n",
       "                    return {&quot;color&quot;: &quot;#482677&quot;, &quot;fillColor&quot;: &quot;#482677&quot;, &quot;fillOpacity&quot;: 0.5, &quot;weight&quot;: 2};\n",
       "                case &quot;3&quot;: case &quot;6&quot;: case &quot;34&quot;: case &quot;133&quot;: case &quot;241&quot;: case &quot;347&quot;: case &quot;613&quot;: case &quot;615&quot;: case &quot;629&quot;: case &quot;681&quot;: case &quot;792&quot;: case &quot;819&quot;: case &quot;836&quot;: case &quot;868&quot;: case &quot;947&quot;: case &quot;979&quot;: case &quot;983&quot;: case &quot;1081&quot;: case &quot;1145&quot;: case &quot;1176&quot;: case &quot;1187&quot;: case &quot;1244&quot;: case &quot;1372&quot;: case &quot;1424&quot;: case &quot;1464&quot;: \n",
       "                    return {&quot;color&quot;: &quot;#481a6c&quot;, &quot;fillColor&quot;: &quot;#481a6c&quot;, &quot;fillOpacity&quot;: 0.5, &quot;weight&quot;: 2};\n",
       "                case &quot;4&quot;: case &quot;54&quot;: case &quot;194&quot;: case &quot;227&quot;: case &quot;530&quot;: case &quot;590&quot;: case &quot;611&quot;: case &quot;636&quot;: case &quot;723&quot;: case &quot;745&quot;: case &quot;750&quot;: case &quot;771&quot;: case &quot;798&quot;: case &quot;887&quot;: case &quot;888&quot;: case &quot;1128&quot;: case &quot;1353&quot;: case &quot;1397&quot;: case &quot;1422&quot;: case &quot;1447&quot;: case &quot;1453&quot;: case &quot;1456&quot;: case &quot;1459&quot;: case &quot;1493&quot;: \n",
       "                    return {&quot;color&quot;: &quot;#414487&quot;, &quot;fillColor&quot;: &quot;#414487&quot;, &quot;fillOpacity&quot;: 0.5, &quot;weight&quot;: 2};\n",
       "                case &quot;5&quot;: case &quot;70&quot;: case &quot;82&quot;: case &quot;105&quot;: case &quot;142&quot;: case &quot;170&quot;: case &quot;192&quot;: case &quot;257&quot;: case &quot;415&quot;: case &quot;554&quot;: case &quot;777&quot;: case &quot;970&quot;: \n",
       "                    return {&quot;color&quot;: &quot;#306a8e&quot;, &quot;fillColor&quot;: &quot;#306a8e&quot;, &quot;fillOpacity&quot;: 0.5, &quot;weight&quot;: 2};\n",
       "                case &quot;7&quot;: \n",
       "                    return {&quot;color&quot;: &quot;#228d8d&quot;, &quot;fillColor&quot;: &quot;#228d8d&quot;, &quot;fillOpacity&quot;: 0.5, &quot;weight&quot;: 2};\n",
       "                case &quot;9&quot;: case &quot;20&quot;: case &quot;80&quot;: case &quot;254&quot;: case &quot;330&quot;: case &quot;605&quot;: case &quot;801&quot;: case &quot;806&quot;: case &quot;973&quot;: case &quot;1100&quot;: case &quot;1191&quot;: case &quot;1224&quot;: case &quot;1307&quot;: case &quot;1503&quot;: \n",
       "                    return {&quot;color&quot;: &quot;#481c6e&quot;, &quot;fillColor&quot;: &quot;#481c6e&quot;, &quot;fillOpacity&quot;: 0.5, &quot;weight&quot;: 2};\n",
       "                case &quot;10&quot;: case &quot;115&quot;: case &quot;348&quot;: \n",
       "                    return {&quot;color&quot;: &quot;#24878e&quot;, &quot;fillColor&quot;: &quot;#24878e&quot;, &quot;fillOpacity&quot;: 0.5, &quot;weight&quot;: 2};\n",
       "                case &quot;11&quot;: case &quot;63&quot;: case &quot;294&quot;: case &quot;344&quot;: case &quot;362&quot;: case &quot;634&quot;: case &quot;847&quot;: case &quot;855&quot;: case &quot;934&quot;: case &quot;1051&quot;: case &quot;1333&quot;: case &quot;1423&quot;: case &quot;1438&quot;: case &quot;1469&quot;: \n",
       "                    return {&quot;color&quot;: &quot;#482071&quot;, &quot;fillColor&quot;: &quot;#482071&quot;, &quot;fillOpacity&quot;: 0.5, &quot;weight&quot;: 2};\n",
       "                case &quot;13&quot;: case &quot;21&quot;: case &quot;31&quot;: case &quot;67&quot;: case &quot;150&quot;: case &quot;357&quot;: case &quot;387&quot;: case &quot;486&quot;: case &quot;561&quot;: case &quot;1093&quot;: case &quot;1174&quot;: case &quot;1270&quot;: case &quot;1366&quot;: case &quot;1375&quot;: \n",
       "                    return {&quot;color&quot;: &quot;#472f7d&quot;, &quot;fillColor&quot;: &quot;#472f7d&quot;, &quot;fillOpacity&quot;: 0.5, &quot;weight&quot;: 2};\n",
       "                case &quot;14&quot;: case &quot;78&quot;: case &quot;91&quot;: case &quot;99&quot;: case &quot;148&quot;: case &quot;153&quot;: case &quot;168&quot;: case &quot;196&quot;: case &quot;234&quot;: case &quot;252&quot;: case &quot;386&quot;: case &quot;388&quot;: case &quot;469&quot;: case &quot;585&quot;: case &quot;683&quot;: case &quot;747&quot;: case &quot;762&quot;: case &quot;772&quot;: case &quot;773&quot;: case &quot;824&quot;: case &quot;874&quot;: case &quot;998&quot;: case &quot;1000&quot;: case &quot;1055&quot;: case &quot;1064&quot;: case &quot;1095&quot;: case &quot;1242&quot;: case &quot;1315&quot;: case &quot;1329&quot;: case &quot;1403&quot;: case &quot;1405&quot;: case &quot;1467&quot;: case &quot;1472&quot;: \n",
       "                    return {&quot;color&quot;: &quot;#470d60&quot;, &quot;fillColor&quot;: &quot;#470d60&quot;, &quot;fillOpacity&quot;: 0.5, &quot;weight&quot;: 2};\n",
       "                case &quot;15&quot;: case &quot;208&quot;: case &quot;213&quot;: case &quot;219&quot;: case &quot;226&quot;: case &quot;232&quot;: case &quot;233&quot;: case &quot;260&quot;: case &quot;410&quot;: case &quot;443&quot;: case &quot;476&quot;: case &quot;633&quot;: case &quot;695&quot;: case &quot;832&quot;: case &quot;858&quot;: case &quot;900&quot;: case &quot;915&quot;: case &quot;961&quot;: case &quot;962&quot;: case &quot;996&quot;: case &quot;1146&quot;: case &quot;1157&quot;: case &quot;1199&quot;: case &quot;1440&quot;: case &quot;1460&quot;: case &quot;1471&quot;: \n",
       "                    return {&quot;color&quot;: &quot;#3f4889&quot;, &quot;fillColor&quot;: &quot;#3f4889&quot;, &quot;fillOpacity&quot;: 0.5, &quot;weight&quot;: 2};\n",
       "                case &quot;16&quot;: case &quot;124&quot;: case &quot;236&quot;: case &quot;722&quot;: case &quot;757&quot;: case &quot;795&quot;: case &quot;825&quot;: case &quot;985&quot;: case &quot;1120&quot;: case &quot;1212&quot;: case &quot;1255&quot;: case &quot;1266&quot;: case &quot;1293&quot;: case &quot;1304&quot;: \n",
       "                    return {&quot;color&quot;: &quot;#482475&quot;, &quot;fillColor&quot;: &quot;#482475&quot;, &quot;fillOpacity&quot;: 0.5, &quot;weight&quot;: 2};\n",
       "                case &quot;17&quot;: case &quot;92&quot;: case &quot;581&quot;: case &quot;1416&quot;: case &quot;1470&quot;: \n",
       "                    return {&quot;color&quot;: &quot;#471365&quot;, &quot;fillColor&quot;: &quot;#471365&quot;, &quot;fillOpacity&quot;: 0.5, &quot;weight&quot;: 2};\n",
       "                case &quot;18&quot;: case &quot;45&quot;: case &quot;113&quot;: case &quot;253&quot;: case &quot;277&quot;: case &quot;379&quot;: case &quot;394&quot;: case &quot;482&quot;: case &quot;526&quot;: case &quot;529&quot;: case &quot;729&quot;: case &quot;871&quot;: case &quot;899&quot;: case &quot;1332&quot;: case &quot;1358&quot;: \n",
       "                    return {&quot;color&quot;: &quot;#472c7a&quot;, &quot;fillColor&quot;: &quot;#472c7a&quot;, &quot;fillOpacity&quot;: 0.5, &quot;weight&quot;: 2};\n",
       "                case &quot;19&quot;: case &quot;98&quot;: case &quot;118&quot;: case &quot;175&quot;: case &quot;597&quot;: case &quot;733&quot;: case &quot;781&quot;: case &quot;813&quot;: case &quot;1226&quot;: case &quot;1241&quot;: case &quot;1417&quot;: case &quot;1468&quot;: \n",
       "                    return {&quot;color&quot;: &quot;#2d708e&quot;, &quot;fillColor&quot;: &quot;#2d708e&quot;, &quot;fillOpacity&quot;: 0.5, &quot;weight&quot;: 2};\n",
       "                case &quot;22&quot;: case &quot;418&quot;: case &quot;538&quot;: case &quot;557&quot;: case &quot;604&quot;: case &quot;664&quot;: case &quot;782&quot;: case &quot;953&quot;: case &quot;1252&quot;: case &quot;1287&quot;: case &quot;1309&quot;: case &quot;1384&quot;: case &quot;1388&quot;: case &quot;1482&quot;: \n",
       "                    return {&quot;color&quot;: &quot;#453781&quot;, &quot;fillColor&quot;: &quot;#453781&quot;, &quot;fillOpacity&quot;: 0.5, &quot;weight&quot;: 2};\n",
       "                case &quot;23&quot;: case &quot;72&quot;: case &quot;245&quot;: case &quot;437&quot;: case &quot;456&quot;: case &quot;578&quot;: case &quot;742&quot;: case &quot;826&quot;: case &quot;841&quot;: case &quot;843&quot;: case &quot;980&quot;: case &quot;1116&quot;: case &quot;1124&quot;: case &quot;1300&quot;: case &quot;1357&quot;: case &quot;1392&quot;: case &quot;1432&quot;: \n",
       "                    return {&quot;color&quot;: &quot;#46307e&quot;, &quot;fillColor&quot;: &quot;#46307e&quot;, &quot;fillOpacity&quot;: 0.5, &quot;weight&quot;: 2};\n",
       "                case &quot;24&quot;: case &quot;397&quot;: case &quot;419&quot;: case &quot;493&quot;: case &quot;541&quot;: case &quot;628&quot;: case &quot;701&quot;: case &quot;805&quot;: case &quot;959&quot;: case &quot;1308&quot;: case &quot;1435&quot;: case &quot;1458&quot;: case &quot;1466&quot;: \n",
       "                    return {&quot;color&quot;: &quot;#404688&quot;, &quot;fillColor&quot;: &quot;#404688&quot;, &quot;fillOpacity&quot;: 0.5, &quot;weight&quot;: 2};\n",
       "                case &quot;25&quot;: case &quot;75&quot;: case &quot;110&quot;: case &quot;256&quot;: case &quot;370&quot;: case &quot;444&quot;: case &quot;511&quot;: case &quot;751&quot;: case &quot;765&quot;: case &quot;853&quot;: case &quot;1052&quot;: case &quot;1082&quot;: case &quot;1197&quot;: case &quot;1260&quot;: case &quot;1296&quot;: case &quot;1379&quot;: case &quot;1402&quot;: \n",
       "                    return {&quot;color&quot;: &quot;#433d84&quot;, &quot;fillColor&quot;: &quot;#433d84&quot;, &quot;fillOpacity&quot;: 0.5, &quot;weight&quot;: 2};\n",
       "                case &quot;26&quot;: case &quot;27&quot;: case &quot;301&quot;: case &quot;407&quot;: case &quot;500&quot;: case &quot;912&quot;: case &quot;944&quot;: case &quot;1253&quot;: case &quot;1446&quot;: case &quot;1452&quot;: case &quot;1496&quot;: \n",
       "                    return {&quot;color&quot;: &quot;#32658e&quot;, &quot;fillColor&quot;: &quot;#32658e&quot;, &quot;fillOpacity&quot;: 0.5, &quot;weight&quot;: 2};\n",
       "                case &quot;28&quot;: case &quot;49&quot;: case &quot;68&quot;: case &quot;107&quot;: case &quot;116&quot;: case &quot;128&quot;: case &quot;203&quot;: case &quot;220&quot;: case &quot;242&quot;: case &quot;279&quot;: case &quot;313&quot;: case &quot;335&quot;: case &quot;345&quot;: case &quot;412&quot;: case &quot;536&quot;: case &quot;609&quot;: case &quot;619&quot;: case &quot;624&quot;: case &quot;715&quot;: case &quot;741&quot;: case &quot;788&quot;: case &quot;842&quot;: case &quot;849&quot;: case &quot;854&quot;: case &quot;1011&quot;: case &quot;1021&quot;: case &quot;1028&quot;: case &quot;1033&quot;: case &quot;1063&quot;: case &quot;1091&quot;: case &quot;1102&quot;: case &quot;1112&quot;: case &quot;1179&quot;: case &quot;1181&quot;: case &quot;1222&quot;: case &quot;1257&quot;: case &quot;1284&quot;: case &quot;1356&quot;: case &quot;1406&quot;: case &quot;1462&quot;: case &quot;1499&quot;: \n",
       "                    return {&quot;color&quot;: &quot;#460b5e&quot;, &quot;fillColor&quot;: &quot;#460b5e&quot;, &quot;fillOpacity&quot;: 0.5, &quot;weight&quot;: 2};\n",
       "                case &quot;29&quot;: case &quot;83&quot;: case &quot;137&quot;: case &quot;231&quot;: case &quot;311&quot;: case &quot;459&quot;: case &quot;481&quot;: case &quot;487&quot;: case &quot;592&quot;: case &quot;767&quot;: case &quot;914&quot;: case &quot;941&quot;: case &quot;950&quot;: case &quot;1094&quot;: case &quot;1202&quot;: case &quot;1364&quot;: case &quot;1477&quot;: \n",
       "                    return {&quot;color&quot;: &quot;#414287&quot;, &quot;fillColor&quot;: &quot;#414287&quot;, &quot;fillOpacity&quot;: 0.5, &quot;weight&quot;: 2};\n",
       "                case &quot;30&quot;: case &quot;123&quot;: case &quot;366&quot;: case &quot;378&quot;: case &quot;380&quot;: case &quot;522&quot;: case &quot;1206&quot;: case &quot;1343&quot;: case &quot;1361&quot;: \n",
       "                    return {&quot;color&quot;: &quot;#443a83&quot;, &quot;fillColor&quot;: &quot;#443a83&quot;, &quot;fillOpacity&quot;: 0.5, &quot;weight&quot;: 2};\n",
       "                case &quot;32&quot;: case &quot;66&quot;: case &quot;354&quot;: case &quot;485&quot;: case &quot;562&quot;: case &quot;1325&quot;: case &quot;1330&quot;: case &quot;1377&quot;: case &quot;1430&quot;: case &quot;1502&quot;: \n",
       "                    return {&quot;color&quot;: &quot;#472d7b&quot;, &quot;fillColor&quot;: &quot;#472d7b&quot;, &quot;fillOpacity&quot;: 0.5, &quot;weight&quot;: 2};\n",
       "                case &quot;33&quot;: case &quot;100&quot;: case &quot;184&quot;: case &quot;228&quot;: case &quot;238&quot;: case &quot;283&quot;: case &quot;450&quot;: case &quot;461&quot;: case &quot;492&quot;: case &quot;558&quot;: case &quot;622&quot;: case &quot;631&quot;: case &quot;693&quot;: case &quot;784&quot;: case &quot;859&quot;: case &quot;884&quot;: case &quot;1080&quot;: case &quot;1108&quot;: case &quot;1114&quot;: case &quot;1132&quot;: case &quot;1232&quot;: case &quot;1238&quot;: case &quot;1324&quot;: \n",
       "                    return {&quot;color&quot;: &quot;#482979&quot;, &quot;fillColor&quot;: &quot;#482979&quot;, &quot;fillOpacity&quot;: 0.5, &quot;weight&quot;: 2};\n",
       "                case &quot;36&quot;: case &quot;179&quot;: case &quot;201&quot;: case &quot;300&quot;: case &quot;331&quot;: case &quot;498&quot;: case &quot;659&quot;: case &quot;816&quot;: case &quot;1089&quot;: case &quot;1133&quot;: case &quot;1237&quot;: case &quot;1271&quot;: case &quot;1483&quot;: case &quot;1498&quot;: \n",
       "                    return {&quot;color&quot;: &quot;#404588&quot;, &quot;fillColor&quot;: &quot;#404588&quot;, &quot;fillOpacity&quot;: 0.5, &quot;weight&quot;: 2};\n",
       "                case &quot;37&quot;: case &quot;43&quot;: case &quot;272&quot;: case &quot;281&quot;: case &quot;474&quot;: case &quot;997&quot;: case &quot;1141&quot;: case &quot;1281&quot;: case &quot;1461&quot;: case &quot;1489&quot;: \n",
       "                    return {&quot;color&quot;: &quot;#2e6e8e&quot;, &quot;fillColor&quot;: &quot;#2e6e8e&quot;, &quot;fillOpacity&quot;: 0.5, &quot;weight&quot;: 2};\n",
       "                case &quot;38&quot;: case &quot;167&quot;: case &quot;251&quot;: case &quot;831&quot;: case &quot;848&quot;: case &quot;906&quot;: case &quot;1003&quot;: \n",
       "                    return {&quot;color&quot;: &quot;#297a8e&quot;, &quot;fillColor&quot;: &quot;#297a8e&quot;, &quot;fillOpacity&quot;: 0.5, &quot;weight&quot;: 2};\n",
       "                case &quot;39&quot;: case &quot;299&quot;: case &quot;639&quot;: case &quot;1233&quot;: case &quot;1334&quot;: \n",
       "                    return {&quot;color&quot;: &quot;#287c8e&quot;, &quot;fillColor&quot;: &quot;#287c8e&quot;, &quot;fillOpacity&quot;: 0.5, &quot;weight&quot;: 2};\n",
       "                case &quot;40&quot;: case &quot;48&quot;: case &quot;724&quot;: case &quot;1001&quot;: case &quot;1129&quot;: \n",
       "                    return {&quot;color&quot;: &quot;#2b748e&quot;, &quot;fillColor&quot;: &quot;#2b748e&quot;, &quot;fillOpacity&quot;: 0.5, &quot;weight&quot;: 2};\n",
       "                case &quot;41&quot;: case &quot;138&quot;: case &quot;149&quot;: case &quot;243&quot;: case &quot;246&quot;: case &quot;393&quot;: case &quot;497&quot;: case &quot;515&quot;: case &quot;528&quot;: case &quot;546&quot;: case &quot;573&quot;: case &quot;598&quot;: case &quot;730&quot;: case &quot;783&quot;: case &quot;901&quot;: case &quot;1025&quot;: case &quot;1130&quot;: case &quot;1352&quot;: case &quot;1411&quot;: \n",
       "                    return {&quot;color&quot;: &quot;#3f4788&quot;, &quot;fillColor&quot;: &quot;#3f4788&quot;, &quot;fillOpacity&quot;: 0.5, &quot;weight&quot;: 2};\n",
       "                case &quot;42&quot;: case &quot;104&quot;: case &quot;108&quot;: case &quot;316&quot;: case &quot;502&quot;: case &quot;702&quot;: case &quot;1006&quot;: case &quot;1160&quot;: case &quot;1371&quot;: \n",
       "                    return {&quot;color&quot;: &quot;#3e4989&quot;, &quot;fillColor&quot;: &quot;#3e4989&quot;, &quot;fillOpacity&quot;: 0.5, &quot;weight&quot;: 2};\n",
       "                case &quot;44&quot;: case &quot;338&quot;: case &quot;359&quot;: case &quot;404&quot;: case &quot;416&quot;: case &quot;436&quot;: case &quot;510&quot;: case &quot;661&quot;: case &quot;860&quot;: case &quot;1002&quot;: case &quot;1018&quot;: case &quot;1310&quot;: case &quot;1350&quot;: case &quot;1465&quot;: \n",
       "                    return {&quot;color&quot;: &quot;#481769&quot;, &quot;fillColor&quot;: &quot;#481769&quot;, &quot;fillOpacity&quot;: 0.5, &quot;weight&quot;: 2};\n",
       "                case &quot;46&quot;: case &quot;47&quot;: case &quot;88&quot;: case &quot;508&quot;: case &quot;658&quot;: case &quot;1236&quot;: case &quot;1248&quot;: case &quot;1273&quot;: case &quot;1349&quot;: \n",
       "                    return {&quot;color&quot;: &quot;#471063&quot;, &quot;fillColor&quot;: &quot;#471063&quot;, &quot;fillOpacity&quot;: 0.5, &quot;weight&quot;: 2};\n",
       "                case &quot;50&quot;: case &quot;191&quot;: case &quot;199&quot;: case &quot;438&quot;: case &quot;448&quot;: case &quot;533&quot;: case &quot;886&quot;: case &quot;1039&quot;: case &quot;1158&quot;: \n",
       "                    return {&quot;color&quot;: &quot;#39568c&quot;, &quot;fillColor&quot;: &quot;#39568c&quot;, &quot;fillOpacity&quot;: 0.5, &quot;weight&quot;: 2};\n",
       "                case &quot;51&quot;: case &quot;117&quot;: case &quot;189&quot;: case &quot;263&quot;: case &quot;460&quot;: case &quot;550&quot;: case &quot;612&quot;: case &quot;638&quot;: case &quot;728&quot;: case &quot;791&quot;: case &quot;968&quot;: case &quot;1152&quot;: case &quot;1294&quot;: case &quot;1298&quot;: case &quot;1497&quot;: case &quot;1504&quot;: case &quot;1506&quot;: \n",
       "                    return {&quot;color&quot;: &quot;#375a8c&quot;, &quot;fillColor&quot;: &quot;#375a8c&quot;, &quot;fillOpacity&quot;: 0.5, &quot;weight&quot;: 2};\n",
       "                case &quot;53&quot;: case &quot;81&quot;: case &quot;193&quot;: case &quot;364&quot;: case &quot;432&quot;: case &quot;463&quot;: case &quot;480&quot;: case &quot;655&quot;: case &quot;821&quot;: case &quot;834&quot;: case &quot;861&quot;: case &quot;872&quot;: case &quot;1014&quot;: case &quot;1027&quot;: case &quot;1046&quot;: case &quot;1256&quot;: \n",
       "                    return {&quot;color&quot;: &quot;#46327e&quot;, &quot;fillColor&quot;: &quot;#46327e&quot;, &quot;fillOpacity&quot;: 0.5, &quot;weight&quot;: 2};\n",
       "                case &quot;55&quot;: case &quot;112&quot;: case &quot;129&quot;: case &quot;183&quot;: case &quot;262&quot;: case &quot;445&quot;: case &quot;625&quot;: case &quot;898&quot;: case &quot;981&quot;: case &quot;1026&quot;: case &quot;1159&quot;: case &quot;1178&quot;: case &quot;1204&quot;: case &quot;1240&quot;: case &quot;1428&quot;: \n",
       "                    return {&quot;color&quot;: &quot;#2b758e&quot;, &quot;fillColor&quot;: &quot;#2b758e&quot;, &quot;fillOpacity&quot;: 0.5, &quot;weight&quot;: 2};\n",
       "                case &quot;56&quot;: case &quot;274&quot;: case &quot;361&quot;: case &quot;399&quot;: case &quot;464&quot;: case &quot;539&quot;: case &quot;725&quot;: case &quot;955&quot;: case &quot;975&quot;: case &quot;1017&quot;: case &quot;1029&quot;: case &quot;1050&quot;: case &quot;1061&quot;: case &quot;1074&quot;: case &quot;1150&quot;: case &quot;1162&quot;: case &quot;1280&quot;: case &quot;1391&quot;: \n",
       "                    return {&quot;color&quot;: &quot;#481b6d&quot;, &quot;fillColor&quot;: &quot;#481b6d&quot;, &quot;fillOpacity&quot;: 0.5, &quot;weight&quot;: 2};\n",
       "                case &quot;57&quot;: case &quot;188&quot;: case &quot;306&quot;: case &quot;739&quot;: case &quot;756&quot;: case &quot;1180&quot;: case &quot;1395&quot;: \n",
       "                    return {&quot;color&quot;: &quot;#29798e&quot;, &quot;fillColor&quot;: &quot;#29798e&quot;, &quot;fillOpacity&quot;: 0.5, &quot;weight&quot;: 2};\n",
       "                case &quot;58&quot;: case &quot;571&quot;: case &quot;675&quot;: case &quot;956&quot;: case &quot;1040&quot;: case &quot;1073&quot;: case &quot;1088&quot;: case &quot;1235&quot;: case &quot;1243&quot;: \n",
       "                    return {&quot;color&quot;: &quot;#297b8e&quot;, &quot;fillColor&quot;: &quot;#297b8e&quot;, &quot;fillOpacity&quot;: 0.5, &quot;weight&quot;: 2};\n",
       "                case &quot;61&quot;: case &quot;650&quot;: case &quot;876&quot;: case &quot;1137&quot;: \n",
       "                    return {&quot;color&quot;: &quot;#46075a&quot;, &quot;fillColor&quot;: &quot;#46075a&quot;, &quot;fillOpacity&quot;: 0.5, &quot;weight&quot;: 2};\n",
       "                case &quot;64&quot;: case &quot;308&quot;: case &quot;372&quot;: case &quot;748&quot;: case &quot;769&quot;: case &quot;804&quot;: case &quot;839&quot;: case &quot;911&quot;: case &quot;927&quot;: case &quot;1024&quot;: case &quot;1122&quot;: case &quot;1355&quot;: case &quot;1409&quot;: case &quot;1442&quot;: \n",
       "                    return {&quot;color&quot;: &quot;#34608d&quot;, &quot;fillColor&quot;: &quot;#34608d&quot;, &quot;fillOpacity&quot;: 0.5, &quot;weight&quot;: 2};\n",
       "                case &quot;65&quot;: case &quot;140&quot;: case &quot;152&quot;: case &quot;165&quot;: case &quot;195&quot;: case &quot;312&quot;: case &quot;405&quot;: case &quot;844&quot;: case &quot;984&quot;: case &quot;1076&quot;: case &quot;1096&quot;: case &quot;1259&quot;: case &quot;1311&quot;: case &quot;1326&quot;: case &quot;1414&quot;: case &quot;1434&quot;: \n",
       "                    return {&quot;color&quot;: &quot;#3a538b&quot;, &quot;fillColor&quot;: &quot;#3a538b&quot;, &quot;fillOpacity&quot;: 0.5, &quot;weight&quot;: 2};\n",
       "                case &quot;71&quot;: case &quot;425&quot;: case &quot;534&quot;: case &quot;620&quot;: case &quot;626&quot;: case &quot;866&quot;: case &quot;1110&quot;: case &quot;1275&quot;: case &quot;1286&quot;: case &quot;1376&quot;: \n",
       "                    return {&quot;color&quot;: &quot;#481668&quot;, &quot;fillColor&quot;: &quot;#481668&quot;, &quot;fillOpacity&quot;: 0.5, &quot;weight&quot;: 2};\n",
       "                case &quot;74&quot;: case &quot;103&quot;: case &quot;221&quot;: case &quot;651&quot;: case &quot;714&quot;: case &quot;738&quot;: case &quot;787&quot;: case &quot;838&quot;: case &quot;891&quot;: case &quot;969&quot;: case &quot;999&quot;: case &quot;1010&quot;: case &quot;1020&quot;: case &quot;1041&quot;: case &quot;1090&quot;: case &quot;1106&quot;: case &quot;1234&quot;: case &quot;1360&quot;: case &quot;1441&quot;: \n",
       "                    return {&quot;color&quot;: &quot;#48186a&quot;, &quot;fillColor&quot;: &quot;#48186a&quot;, &quot;fillOpacity&quot;: 0.5, &quot;weight&quot;: 2};\n",
       "                case &quot;76&quot;: case &quot;315&quot;: case &quot;458&quot;: case &quot;475&quot;: case &quot;552&quot;: case &quot;712&quot;: case &quot;989&quot;: case &quot;1111&quot;: case &quot;1192&quot;: case &quot;1209&quot;: case &quot;1265&quot;: case &quot;1313&quot;: case &quot;1478&quot;: case &quot;1495&quot;: \n",
       "                    return {&quot;color&quot;: &quot;#355e8d&quot;, &quot;fillColor&quot;: &quot;#355e8d&quot;, &quot;fillOpacity&quot;: 0.5, &quot;weight&quot;: 2};\n",
       "                case &quot;77&quot;: case &quot;101&quot;: case &quot;494&quot;: case &quot;506&quot;: case &quot;643&quot;: case &quot;960&quot;: case &quot;965&quot;: case &quot;967&quot;: case &quot;1220&quot;: case &quot;1327&quot;: \n",
       "                    return {&quot;color&quot;: &quot;#3d4e8a&quot;, &quot;fillColor&quot;: &quot;#3d4e8a&quot;, &quot;fillOpacity&quot;: 0.5, &quot;weight&quot;: 2};\n",
       "                case &quot;84&quot;: case &quot;818&quot;: case &quot;993&quot;: \n",
       "                    return {&quot;color&quot;: &quot;#2c728e&quot;, &quot;fillColor&quot;: &quot;#2c728e&quot;, &quot;fillOpacity&quot;: 0.5, &quot;weight&quot;: 2};\n",
       "                case &quot;85&quot;: case &quot;127&quot;: case &quot;214&quot;: case &quot;270&quot;: case &quot;288&quot;: case &quot;327&quot;: case &quot;352&quot;: case &quot;385&quot;: case &quot;417&quot;: case &quot;535&quot;: case &quot;542&quot;: case &quot;555&quot;: case &quot;569&quot;: case &quot;977&quot;: case &quot;1059&quot;: case &quot;1104&quot;: case &quot;1135&quot;: case &quot;1194&quot;: case &quot;1217&quot;: case &quot;1429&quot;: \n",
       "                    return {&quot;color&quot;: &quot;#3c508b&quot;, &quot;fillColor&quot;: &quot;#3c508b&quot;, &quot;fillOpacity&quot;: 0.5, &quot;weight&quot;: 2};\n",
       "                case &quot;86&quot;: case &quot;1412&quot;: \n",
       "                    return {&quot;color&quot;: &quot;#84d44b&quot;, &quot;fillColor&quot;: &quot;#84d44b&quot;, &quot;fillOpacity&quot;: 0.5, &quot;weight&quot;: 2};\n",
       "                case &quot;87&quot;: case &quot;111&quot;: case &quot;141&quot;: case &quot;159&quot;: case &quot;164&quot;: case &quot;172&quot;: case &quot;320&quot;: case &quot;332&quot;: case &quot;455&quot;: case &quot;525&quot;: case &quot;531&quot;: case &quot;840&quot;: case &quot;892&quot;: case &quot;908&quot;: case &quot;954&quot;: case &quot;1092&quot;: case &quot;1203&quot;: case &quot;1290&quot;: case &quot;1365&quot;: case &quot;1448&quot;: \n",
       "                    return {&quot;color&quot;: &quot;#453581&quot;, &quot;fillColor&quot;: &quot;#453581&quot;, &quot;fillOpacity&quot;: 0.5, &quot;weight&quot;: 2};\n",
       "                case &quot;89&quot;: case &quot;126&quot;: case &quot;351&quot;: case &quot;414&quot;: case &quot;457&quot;: case &quot;692&quot;: case &quot;775&quot;: case &quot;920&quot;: case &quot;976&quot;: case &quot;1136&quot;: case &quot;1175&quot;: case &quot;1228&quot;: \n",
       "                    return {&quot;color&quot;: &quot;#3b518b&quot;, &quot;fillColor&quot;: &quot;#3b518b&quot;, &quot;fillOpacity&quot;: 0.5, &quot;weight&quot;: 2};\n",
       "                case &quot;90&quot;: case &quot;446&quot;: case &quot;608&quot;: case &quot;933&quot;: case &quot;1245&quot;: case &quot;1305&quot;: case &quot;1322&quot;: case &quot;1354&quot;: case &quot;1455&quot;: \n",
       "                    return {&quot;color&quot;: &quot;#443983&quot;, &quot;fillColor&quot;: &quot;#443983&quot;, &quot;fillOpacity&quot;: 0.5, &quot;weight&quot;: 2};\n",
       "                case &quot;93&quot;: case &quot;122&quot;: case &quot;125&quot;: case &quot;249&quot;: case &quot;303&quot;: case &quot;517&quot;: case &quot;540&quot;: case &quot;556&quot;: case &quot;637&quot;: case &quot;671&quot;: case &quot;711&quot;: case &quot;760&quot;: case &quot;852&quot;: case &quot;897&quot;: case &quot;1008&quot;: case &quot;1087&quot;: case &quot;1328&quot;: case &quot;1380&quot;: case &quot;1385&quot;: \n",
       "                    return {&quot;color&quot;: &quot;#2e6d8e&quot;, &quot;fillColor&quot;: &quot;#2e6d8e&quot;, &quot;fillOpacity&quot;: 0.5, &quot;weight&quot;: 2};\n",
       "                case &quot;94&quot;: case &quot;134&quot;: case &quot;343&quot;: case &quot;478&quot;: case &quot;483&quot;: case &quot;501&quot;: case &quot;786&quot;: case &quot;862&quot;: case &quot;919&quot;: case &quot;936&quot;: case &quot;940&quot;: case &quot;1144&quot;: case &quot;1312&quot;: case &quot;1457&quot;: \n",
       "                    return {&quot;color&quot;: &quot;#463480&quot;, &quot;fillColor&quot;: &quot;#463480&quot;, &quot;fillOpacity&quot;: 0.5, &quot;weight&quot;: 2};\n",
       "                case &quot;96&quot;: case &quot;707&quot;: case &quot;904&quot;: case &quot;1231&quot;: case &quot;1302&quot;: \n",
       "                    return {&quot;color&quot;: &quot;#26818e&quot;, &quot;fillColor&quot;: &quot;#26818e&quot;, &quot;fillOpacity&quot;: 0.5, &quot;weight&quot;: 2};\n",
       "                case &quot;102&quot;: case &quot;532&quot;: case &quot;828&quot;: \n",
       "                    return {&quot;color&quot;: &quot;#38b977&quot;, &quot;fillColor&quot;: &quot;#38b977&quot;, &quot;fillOpacity&quot;: 0.5, &quot;weight&quot;: 2};\n",
       "                case &quot;106&quot;: case &quot;186&quot;: case &quot;259&quot;: case &quot;462&quot;: case &quot;499&quot;: case &quot;563&quot;: case &quot;690&quot;: case &quot;815&quot;: case &quot;837&quot;: case &quot;851&quot;: case &quot;942&quot;: \n",
       "                    return {&quot;color&quot;: &quot;#34618d&quot;, &quot;fillColor&quot;: &quot;#34618d&quot;, &quot;fillOpacity&quot;: 0.5, &quot;weight&quot;: 2};\n",
       "                case &quot;114&quot;: case &quot;145&quot;: case &quot;426&quot;: case &quot;572&quot;: case &quot;653&quot;: case &quot;817&quot;: case &quot;820&quot;: case &quot;879&quot;: case &quot;945&quot;: case &quot;1066&quot;: case &quot;1317&quot;: case &quot;1348&quot;: case &quot;1410&quot;: \n",
       "                    return {&quot;color&quot;: &quot;#3b528b&quot;, &quot;fillColor&quot;: &quot;#3b528b&quot;, &quot;fillOpacity&quot;: 0.5, &quot;weight&quot;: 2};\n",
       "                case &quot;119&quot;: case &quot;339&quot;: case &quot;367&quot;: case &quot;400&quot;: case &quot;543&quot;: case &quot;646&quot;: case &quot;708&quot;: case &quot;764&quot;: case &quot;1007&quot;: case &quot;1189&quot;: case &quot;1292&quot;: \n",
       "                    return {&quot;color&quot;: &quot;#46085c&quot;, &quot;fillColor&quot;: &quot;#46085c&quot;, &quot;fillOpacity&quot;: 0.5, &quot;weight&quot;: 2};\n",
       "                case &quot;120&quot;: case &quot;928&quot;: \n",
       "                    return {&quot;color&quot;: &quot;#218e8d&quot;, &quot;fillColor&quot;: &quot;#218e8d&quot;, &quot;fillOpacity&quot;: 0.5, &quot;weight&quot;: 2};\n",
       "                case &quot;130&quot;: case &quot;151&quot;: case &quot;180&quot;: case &quot;223&quot;: case &quot;278&quot;: case &quot;396&quot;: case &quot;630&quot;: case &quot;726&quot;: case &quot;1161&quot;: case &quot;1163&quot;: case &quot;1177&quot;: case &quot;1182&quot;: case &quot;1297&quot;: case &quot;1303&quot;: \n",
       "                    return {&quot;color&quot;: &quot;#355f8d&quot;, &quot;fillColor&quot;: &quot;#355f8d&quot;, &quot;fillOpacity&quot;: 0.5, &quot;weight&quot;: 2};\n",
       "                case &quot;131&quot;: case &quot;229&quot;: case &quot;266&quot;: case &quot;290&quot;: case &quot;439&quot;: case &quot;565&quot;: case &quot;587&quot;: case &quot;635&quot;: case &quot;921&quot;: case &quot;1077&quot;: case &quot;1399&quot;: case &quot;1436&quot;: \n",
       "                    return {&quot;color&quot;: &quot;#443b84&quot;, &quot;fillColor&quot;: &quot;#443b84&quot;, &quot;fillOpacity&quot;: 0.5, &quot;weight&quot;: 2};\n",
       "                case &quot;132&quot;: case &quot;1250&quot;: \n",
       "                    return {&quot;color&quot;: &quot;#31b57b&quot;, &quot;fillColor&quot;: &quot;#31b57b&quot;, &quot;fillOpacity&quot;: 0.5, &quot;weight&quot;: 2};\n",
       "                case &quot;135&quot;: case &quot;505&quot;: case &quot;1125&quot;: \n",
       "                    return {&quot;color&quot;: &quot;#2a788e&quot;, &quot;fillColor&quot;: &quot;#2a788e&quot;, &quot;fillOpacity&quot;: 0.5, &quot;weight&quot;: 2};\n",
       "                case &quot;136&quot;: case &quot;258&quot;: case &quot;295&quot;: case &quot;549&quot;: case &quot;688&quot;: case &quot;717&quot;: case &quot;986&quot;: case &quot;1067&quot;: case &quot;1277&quot;: \n",
       "                    return {&quot;color&quot;: &quot;#482173&quot;, &quot;fillColor&quot;: &quot;#482173&quot;, &quot;fillOpacity&quot;: 0.5, &quot;weight&quot;: 2};\n",
       "                case &quot;139&quot;: case &quot;389&quot;: \n",
       "                    return {&quot;color&quot;: &quot;#287d8e&quot;, &quot;fillColor&quot;: &quot;#287d8e&quot;, &quot;fillOpacity&quot;: 0.5, &quot;weight&quot;: 2};\n",
       "                case &quot;143&quot;: case &quot;667&quot;: case &quot;1121&quot;: \n",
       "                    return {&quot;color&quot;: &quot;#2a778e&quot;, &quot;fillColor&quot;: &quot;#2a778e&quot;, &quot;fillOpacity&quot;: 0.5, &quot;weight&quot;: 2};\n",
       "                case &quot;146&quot;: case &quot;190&quot;: case &quot;217&quot;: case &quot;421&quot;: case &quot;719&quot;: case &quot;1263&quot;: case &quot;1283&quot;: \n",
       "                    return {&quot;color&quot;: &quot;#31688e&quot;, &quot;fillColor&quot;: &quot;#31688e&quot;, &quot;fillOpacity&quot;: 0.5, &quot;weight&quot;: 2};\n",
       "                case &quot;147&quot;: case &quot;333&quot;: case &quot;595&quot;: case &quot;679&quot;: case &quot;680&quot;: case &quot;1119&quot;: case &quot;1205&quot;: case &quot;1369&quot;: \n",
       "                    return {&quot;color&quot;: &quot;#472e7c&quot;, &quot;fillColor&quot;: &quot;#472e7c&quot;, &quot;fillOpacity&quot;: 0.5, &quot;weight&quot;: 2};\n",
       "                case &quot;154&quot;: case &quot;267&quot;: case &quot;588&quot;: case &quot;907&quot;: case &quot;937&quot;: case &quot;992&quot;: case &quot;1009&quot;: case &quot;1186&quot;: \n",
       "                    return {&quot;color&quot;: &quot;#424086&quot;, &quot;fillColor&quot;: &quot;#424086&quot;, &quot;fillOpacity&quot;: 0.5, &quot;weight&quot;: 2};\n",
       "                case &quot;155&quot;: case &quot;265&quot;: case &quot;519&quot;: case &quot;647&quot;: case &quot;685&quot;: case &quot;687&quot;: case &quot;706&quot;: case &quot;789&quot;: case &quot;885&quot;: case &quot;913&quot;: case &quot;1105&quot;: case &quot;1219&quot;: case &quot;1225&quot;: case &quot;1339&quot;: case &quot;1426&quot;: case &quot;1501&quot;: \n",
       "                    return {&quot;color&quot;: &quot;#33628d&quot;, &quot;fillColor&quot;: &quot;#33628d&quot;, &quot;fillOpacity&quot;: 0.5, &quot;weight&quot;: 2};\n",
       "                case &quot;156&quot;: case &quot;465&quot;: case &quot;472&quot;: case &quot;752&quot;: case &quot;1151&quot;: case &quot;1183&quot;: case &quot;1211&quot;: case &quot;1420&quot;: case &quot;1507&quot;: \n",
       "                    return {&quot;color&quot;: &quot;#375b8d&quot;, &quot;fillColor&quot;: &quot;#375b8d&quot;, &quot;fillOpacity&quot;: 0.5, &quot;weight&quot;: 2};\n",
       "                case &quot;157&quot;: case &quot;187&quot;: case &quot;329&quot;: case &quot;453&quot;: case &quot;468&quot;: case &quot;703&quot;: case &quot;704&quot;: case &quot;929&quot;: case &quot;991&quot;: case &quot;1054&quot;: case &quot;1069&quot;: case &quot;1126&quot;: case &quot;1193&quot;: case &quot;1251&quot;: case &quot;1415&quot;: case &quot;1479&quot;: \n",
       "                    return {&quot;color&quot;: &quot;#424186&quot;, &quot;fillColor&quot;: &quot;#424186&quot;, &quot;fillOpacity&quot;: 0.5, &quot;weight&quot;: 2};\n",
       "                case &quot;158&quot;: case &quot;326&quot;: case &quot;383&quot;: case &quot;406&quot;: case &quot;574&quot;: case &quot;697&quot;: \n",
       "                    return {&quot;color&quot;: &quot;#2a768e&quot;, &quot;fillColor&quot;: &quot;#2a768e&quot;, &quot;fillOpacity&quot;: 0.5, &quot;weight&quot;: 2};\n",
       "                case &quot;160&quot;: case &quot;206&quot;: case &quot;282&quot;: case &quot;318&quot;: case &quot;564&quot;: case &quot;796&quot;: case &quot;905&quot;: case &quot;943&quot;: case &quot;1045&quot;: case &quot;1086&quot;: case &quot;1103&quot;: case &quot;1139&quot;: case &quot;1378&quot;: \n",
       "                    return {&quot;color&quot;: &quot;#3c4f8a&quot;, &quot;fillColor&quot;: &quot;#3c4f8a&quot;, &quot;fillOpacity&quot;: 0.5, &quot;weight&quot;: 2};\n",
       "                case &quot;161&quot;: case &quot;395&quot;: case &quot;537&quot;: case &quot;1344&quot;: case &quot;1373&quot;: case &quot;1473&quot;: \n",
       "                    return {&quot;color&quot;: &quot;#365d8d&quot;, &quot;fillColor&quot;: &quot;#365d8d&quot;, &quot;fillOpacity&quot;: 0.5, &quot;weight&quot;: 2};\n",
       "                case &quot;162&quot;: case &quot;568&quot;: case &quot;614&quot;: case &quot;648&quot;: case &quot;755&quot;: case &quot;850&quot;: case &quot;882&quot;: case &quot;1034&quot;: case &quot;1047&quot;: case &quot;1291&quot;: \n",
       "                    return {&quot;color&quot;: &quot;#2f6c8e&quot;, &quot;fillColor&quot;: &quot;#2f6c8e&quot;, &quot;fillOpacity&quot;: 0.5, &quot;weight&quot;: 2};\n",
       "                case &quot;163&quot;: case &quot;321&quot;: case &quot;353&quot;: case &quot;677&quot;: case &quot;713&quot;: case &quot;1048&quot;: case &quot;1057&quot;: case &quot;1214&quot;: \n",
       "                    return {&quot;color&quot;: &quot;#38598c&quot;, &quot;fillColor&quot;: &quot;#38598c&quot;, &quot;fillOpacity&quot;: 0.5, &quot;weight&quot;: 2};\n",
       "                case &quot;166&quot;: \n",
       "                    return {&quot;color&quot;: &quot;#1e9d89&quot;, &quot;fillColor&quot;: &quot;#1e9d89&quot;, &quot;fillOpacity&quot;: 0.5, &quot;weight&quot;: 2};\n",
       "                case &quot;169&quot;: case &quot;235&quot;: case &quot;877&quot;: case &quot;1044&quot;: case &quot;1445&quot;: \n",
       "                    return {&quot;color&quot;: &quot;#25838e&quot;, &quot;fillColor&quot;: &quot;#25838e&quot;, &quot;fillOpacity&quot;: 0.5, &quot;weight&quot;: 2};\n",
       "                case &quot;173&quot;: case &quot;222&quot;: case &quot;589&quot;: case &quot;939&quot;: case &quot;951&quot;: case &quot;1168&quot;: case &quot;1195&quot;: case &quot;1374&quot;: case &quot;1389&quot;: case &quot;1390&quot;: case &quot;1398&quot;: \n",
       "                    return {&quot;color&quot;: &quot;#32648e&quot;, &quot;fillColor&quot;: &quot;#32648e&quot;, &quot;fillOpacity&quot;: 0.5, &quot;weight&quot;: 2};\n",
       "                case &quot;177&quot;: case &quot;185&quot;: case &quot;269&quot;: case &quot;336&quot;: case &quot;423&quot;: case &quot;471&quot;: case &quot;576&quot;: case &quot;584&quot;: case &quot;593&quot;: case &quot;740&quot;: case &quot;809&quot;: case &quot;881&quot;: case &quot;1185&quot;: \n",
       "                    return {&quot;color&quot;: &quot;#460a5d&quot;, &quot;fillColor&quot;: &quot;#460a5d&quot;, &quot;fillOpacity&quot;: 0.5, &quot;weight&quot;: 2};\n",
       "                case &quot;178&quot;: case &quot;309&quot;: case &quot;317&quot;: case &quot;449&quot;: case &quot;516&quot;: case &quot;544&quot;: case &quot;560&quot;: case &quot;718&quot;: case &quot;835&quot;: case &quot;995&quot;: case &quot;1078&quot;: case &quot;1085&quot;: case &quot;1272&quot;: case &quot;1368&quot;: case &quot;1490&quot;: \n",
       "                    return {&quot;color&quot;: &quot;#30698e&quot;, &quot;fillColor&quot;: &quot;#30698e&quot;, &quot;fillOpacity&quot;: 0.5, &quot;weight&quot;: 2};\n",
       "                case &quot;181&quot;: case &quot;672&quot;: case &quot;833&quot;: case &quot;1138&quot;: case &quot;1153&quot;: case &quot;1262&quot;: \n",
       "                    return {&quot;color&quot;: &quot;#39558c&quot;, &quot;fillColor&quot;: &quot;#39558c&quot;, &quot;fillOpacity&quot;: 0.5, &quot;weight&quot;: 2};\n",
       "                case &quot;182&quot;: case &quot;291&quot;: case &quot;323&quot;: case &quot;381&quot;: case &quot;391&quot;: case &quot;420&quot;: case &quot;433&quot;: case &quot;674&quot;: case &quot;710&quot;: case &quot;807&quot;: case &quot;845&quot;: case &quot;923&quot;: case &quot;974&quot;: case &quot;1038&quot;: case &quot;1071&quot;: case &quot;1075&quot;: case &quot;1196&quot;: case &quot;1198&quot;: case &quot;1338&quot;: case &quot;1396&quot;: case &quot;1413&quot;: case &quot;1476&quot;: \n",
       "                    return {&quot;color&quot;: &quot;#3d4d8a&quot;, &quot;fillColor&quot;: &quot;#3d4d8a&quot;, &quot;fillOpacity&quot;: 0.5, &quot;weight&quot;: 2};\n",
       "                case &quot;202&quot;: case &quot;218&quot;: case &quot;454&quot;: case &quot;607&quot;: case &quot;621&quot;: case &quot;930&quot;: case &quot;1115&quot;: case &quot;1165&quot;: case &quot;1221&quot;: case &quot;1336&quot;: case &quot;1475&quot;: \n",
       "                    return {&quot;color&quot;: &quot;#470e61&quot;, &quot;fillColor&quot;: &quot;#470e61&quot;, &quot;fillOpacity&quot;: 0.5, &quot;weight&quot;: 2};\n",
       "                case &quot;204&quot;: case &quot;591&quot;: case &quot;1381&quot;: \n",
       "                    return {&quot;color&quot;: &quot;#25858e&quot;, &quot;fillColor&quot;: &quot;#25858e&quot;, &quot;fillOpacity&quot;: 0.5, &quot;weight&quot;: 2};\n",
       "                case &quot;205&quot;: case &quot;477&quot;: case &quot;623&quot;: case &quot;731&quot;: case &quot;794&quot;: case &quot;910&quot;: case &quot;924&quot;: case &quot;978&quot;: case &quot;1013&quot;: \n",
       "                    return {&quot;color&quot;: &quot;#33638d&quot;, &quot;fillColor&quot;: &quot;#33638d&quot;, &quot;fillOpacity&quot;: 0.5, &quot;weight&quot;: 2};\n",
       "                case &quot;207&quot;: case &quot;285&quot;: case &quot;293&quot;: case &quot;666&quot;: case &quot;800&quot;: case &quot;926&quot;: case &quot;1079&quot;: case &quot;1083&quot;: case &quot;1362&quot;: \n",
       "                    return {&quot;color&quot;: &quot;#2c718e&quot;, &quot;fillColor&quot;: &quot;#2c718e&quot;, &quot;fillOpacity&quot;: 0.5, &quot;weight&quot;: 2};\n",
       "                case &quot;209&quot;: case &quot;325&quot;: case &quot;350&quot;: case &quot;570&quot;: case &quot;743&quot;: case &quot;754&quot;: case &quot;1118&quot;: case &quot;1140&quot;: case &quot;1172&quot;: \n",
       "                    return {&quot;color&quot;: &quot;#423f85&quot;, &quot;fillColor&quot;: &quot;#423f85&quot;, &quot;fillOpacity&quot;: 0.5, &quot;weight&quot;: 2};\n",
       "                case &quot;210&quot;: case &quot;307&quot;: \n",
       "                    return {&quot;color&quot;: &quot;#2fb47c&quot;, &quot;fillColor&quot;: &quot;#2fb47c&quot;, &quot;fillOpacity&quot;: 0.5, &quot;weight&quot;: 2};\n",
       "                case &quot;211&quot;: case &quot;240&quot;: case &quot;287&quot;: case &quot;768&quot;: case &quot;863&quot;: case &quot;903&quot;: case &quot;1107&quot;: case &quot;1318&quot;: case &quot;1481&quot;: case &quot;1488&quot;: \n",
       "                    return {&quot;color&quot;: &quot;#3e4c8a&quot;, &quot;fillColor&quot;: &quot;#3e4c8a&quot;, &quot;fillOpacity&quot;: 0.5, &quot;weight&quot;: 2};\n",
       "                case &quot;212&quot;: case &quot;334&quot;: case &quot;358&quot;: case &quot;435&quot;: case &quot;580&quot;: case &quot;676&quot;: case &quot;822&quot;: case &quot;864&quot;: case &quot;987&quot;: case &quot;1154&quot;: case &quot;1155&quot;: case &quot;1401&quot;: case &quot;1408&quot;: \n",
       "                    return {&quot;color&quot;: &quot;#481f70&quot;, &quot;fillColor&quot;: &quot;#481f70&quot;, &quot;fillOpacity&quot;: 0.5, &quot;weight&quot;: 2};\n",
       "                case &quot;215&quot;: case &quot;247&quot;: case &quot;452&quot;: case &quot;479&quot;: case &quot;696&quot;: case &quot;761&quot;: case &quot;1184&quot;: case &quot;1427&quot;: \n",
       "                    return {&quot;color&quot;: &quot;#38588c&quot;, &quot;fillColor&quot;: &quot;#38588c&quot;, &quot;fillOpacity&quot;: 0.5, &quot;weight&quot;: 2};\n",
       "                case &quot;225&quot;: case &quot;434&quot;: case &quot;1450&quot;: \n",
       "                    return {&quot;color&quot;: &quot;#450457&quot;, &quot;fillColor&quot;: &quot;#450457&quot;, &quot;fillOpacity&quot;: 0.5, &quot;weight&quot;: 2};\n",
       "                case &quot;230&quot;: case &quot;271&quot;: case &quot;427&quot;: case &quot;618&quot;: case &quot;700&quot;: case &quot;827&quot;: case &quot;865&quot;: case &quot;1065&quot;: case &quot;1230&quot;: case &quot;1404&quot;: case &quot;1484&quot;: \n",
       "                    return {&quot;color&quot;: &quot;#365c8d&quot;, &quot;fillColor&quot;: &quot;#365c8d&quot;, &quot;fillOpacity&quot;: 0.5, &quot;weight&quot;: 2};\n",
       "                case &quot;244&quot;: case &quot;735&quot;: case &quot;917&quot;: case &quot;1060&quot;: case &quot;1213&quot;: case &quot;1394&quot;: \n",
       "                    return {&quot;color&quot;: &quot;#2d718e&quot;, &quot;fillColor&quot;: &quot;#2d718e&quot;, &quot;fillOpacity&quot;: 0.5, &quot;weight&quot;: 2};\n",
       "                case &quot;248&quot;: case &quot;1268&quot;: \n",
       "                    return {&quot;color&quot;: &quot;#50c46a&quot;, &quot;fillColor&quot;: &quot;#50c46a&quot;, &quot;fillOpacity&quot;: 0.5, &quot;weight&quot;: 2};\n",
       "                case &quot;250&quot;: case &quot;1098&quot;: case &quot;1383&quot;: \n",
       "                    return {&quot;color&quot;: &quot;#450559&quot;, &quot;fillColor&quot;: &quot;#450559&quot;, &quot;fillOpacity&quot;: 0.5, &quot;weight&quot;: 2};\n",
       "                case &quot;255&quot;: case &quot;292&quot;: case &quot;356&quot;: case &quot;403&quot;: case &quot;428&quot;: case &quot;520&quot;: case &quot;547&quot;: case &quot;640&quot;: case &quot;721&quot;: case &quot;1166&quot;: case &quot;1200&quot;: case &quot;1347&quot;: \n",
       "                    return {&quot;color&quot;: &quot;#46337f&quot;, &quot;fillColor&quot;: &quot;#46337f&quot;, &quot;fillOpacity&quot;: 0.5, &quot;weight&quot;: 2};\n",
       "                case &quot;261&quot;: case &quot;273&quot;: case &quot;284&quot;: case &quot;495&quot;: case &quot;551&quot;: case &quot;749&quot;: case &quot;902&quot;: case &quot;1164&quot;: case &quot;1170&quot;: case &quot;1316&quot;: case &quot;1340&quot;: case &quot;1342&quot;: case &quot;1393&quot;: case &quot;1439&quot;: \n",
       "                    return {&quot;color&quot;: &quot;#472a7a&quot;, &quot;fillColor&quot;: &quot;#472a7a&quot;, &quot;fillOpacity&quot;: 0.5, &quot;weight&quot;: 2};\n",
       "                case &quot;264&quot;: \n",
       "                    return {&quot;color&quot;: &quot;#81d34d&quot;, &quot;fillColor&quot;: &quot;#81d34d&quot;, &quot;fillOpacity&quot;: 0.5, &quot;weight&quot;: 2};\n",
       "                case &quot;268&quot;: case &quot;1261&quot;: \n",
       "                    return {&quot;color&quot;: &quot;#25848e&quot;, &quot;fillColor&quot;: &quot;#25848e&quot;, &quot;fillOpacity&quot;: 0.5, &quot;weight&quot;: 2};\n",
       "                case &quot;276&quot;: case &quot;314&quot;: case &quot;390&quot;: case &quot;523&quot;: case &quot;575&quot;: case &quot;649&quot;: case &quot;709&quot;: case &quot;894&quot;: case &quot;909&quot;: case &quot;935&quot;: case &quot;1004&quot;: case &quot;1246&quot;: case &quot;1345&quot;: case &quot;1351&quot;: case &quot;1492&quot;: \n",
       "                    return {&quot;color&quot;: &quot;#482878&quot;, &quot;fillColor&quot;: &quot;#482878&quot;, &quot;fillOpacity&quot;: 0.5, &quot;weight&quot;: 2};\n",
       "                case &quot;289&quot;: case &quot;377&quot;: case &quot;577&quot;: case &quot;705&quot;: case &quot;746&quot;: case &quot;814&quot;: case &quot;982&quot;: case &quot;1031&quot;: case &quot;1285&quot;: \n",
       "                    return {&quot;color&quot;: &quot;#482374&quot;, &quot;fillColor&quot;: &quot;#482374&quot;, &quot;fillOpacity&quot;: 0.5, &quot;weight&quot;: 2};\n",
       "                case &quot;298&quot;: case &quot;337&quot;: case &quot;371&quot;: case &quot;392&quot;: case &quot;424&quot;: case &quot;488&quot;: case &quot;509&quot;: case &quot;682&quot;: case &quot;778&quot;: case &quot;857&quot;: case &quot;878&quot;: case &quot;932&quot;: case &quot;958&quot;: case &quot;990&quot;: case &quot;1062&quot;: case &quot;1117&quot;: case &quot;1227&quot;: case &quot;1249&quot;: case &quot;1314&quot;: case &quot;1367&quot;: case &quot;1400&quot;: case &quot;1433&quot;: \n",
       "                    return {&quot;color&quot;: &quot;#3e4a89&quot;, &quot;fillColor&quot;: &quot;#3e4a89&quot;, &quot;fillOpacity&quot;: 0.5, &quot;weight&quot;: 2};\n",
       "                case &quot;302&quot;: case &quot;346&quot;: case &quot;759&quot;: case &quot;763&quot;: case &quot;774&quot;: case &quot;799&quot;: case &quot;966&quot;: case &quot;1169&quot;: case &quot;1218&quot;: case &quot;1295&quot;: case &quot;1319&quot;: case &quot;1494&quot;: \n",
       "                    return {&quot;color&quot;: &quot;#31668e&quot;, &quot;fillColor&quot;: &quot;#31668e&quot;, &quot;fillOpacity&quot;: 0.5, &quot;weight&quot;: 2};\n",
       "                case &quot;304&quot;: case &quot;567&quot;: case &quot;606&quot;: case &quot;720&quot;: case &quot;1149&quot;: \n",
       "                    return {&quot;color&quot;: &quot;#481d6f&quot;, &quot;fillColor&quot;: &quot;#481d6f&quot;, &quot;fillOpacity&quot;: 0.5, &quot;weight&quot;: 2};\n",
       "                case &quot;319&quot;: case &quot;802&quot;: \n",
       "                    return {&quot;color&quot;: &quot;#26828e&quot;, &quot;fillColor&quot;: &quot;#26828e&quot;, &quot;fillOpacity&quot;: 0.5, &quot;weight&quot;: 2};\n",
       "                case &quot;324&quot;: case &quot;355&quot;: case &quot;545&quot;: case &quot;737&quot;: case &quot;867&quot;: case &quot;1049&quot;: case &quot;1207&quot;: \n",
       "                    return {&quot;color&quot;: &quot;#2f6b8e&quot;, &quot;fillColor&quot;: &quot;#2f6b8e&quot;, &quot;fillOpacity&quot;: 0.5, &quot;weight&quot;: 2};\n",
       "                case &quot;328&quot;: case &quot;375&quot;: case &quot;422&quot;: case &quot;490&quot;: case &quot;507&quot;: case &quot;514&quot;: case &quot;579&quot;: case &quot;583&quot;: case &quot;1208&quot;: case &quot;1289&quot;: case &quot;1321&quot;: case &quot;1359&quot;: case &quot;1449&quot;: \n",
       "                    return {&quot;color&quot;: &quot;#31678e&quot;, &quot;fillColor&quot;: &quot;#31678e&quot;, &quot;fillOpacity&quot;: 0.5, &quot;weight&quot;: 2};\n",
       "                case &quot;342&quot;: case &quot;873&quot;: case &quot;1023&quot;: \n",
       "                    return {&quot;color&quot;: &quot;#20a486&quot;, &quot;fillColor&quot;: &quot;#20a486&quot;, &quot;fillOpacity&quot;: 0.5, &quot;weight&quot;: 2};\n",
       "                case &quot;349&quot;: case &quot;668&quot;: case &quot;689&quot;: \n",
       "                    return {&quot;color&quot;: &quot;#2ab07f&quot;, &quot;fillColor&quot;: &quot;#2ab07f&quot;, &quot;fillOpacity&quot;: 0.5, &quot;weight&quot;: 2};\n",
       "                case &quot;365&quot;: \n",
       "                    return {&quot;color&quot;: &quot;#42be71&quot;, &quot;fillColor&quot;: &quot;#42be71&quot;, &quot;fillOpacity&quot;: 0.5, &quot;weight&quot;: 2};\n",
       "                case &quot;368&quot;: \n",
       "                    return {&quot;color&quot;: &quot;#1f9f88&quot;, &quot;fillColor&quot;: &quot;#1f9f88&quot;, &quot;fillOpacity&quot;: 0.5, &quot;weight&quot;: 2};\n",
       "                case &quot;369&quot;: \n",
       "                    return {&quot;color&quot;: &quot;#37b878&quot;, &quot;fillColor&quot;: &quot;#37b878&quot;, &quot;fillOpacity&quot;: 0.5, &quot;weight&quot;: 2};\n",
       "                case &quot;373&quot;: \n",
       "                    return {&quot;color&quot;: &quot;#26ad81&quot;, &quot;fillColor&quot;: &quot;#26ad81&quot;, &quot;fillOpacity&quot;: 0.5, &quot;weight&quot;: 2};\n",
       "                case &quot;374&quot;: case &quot;466&quot;: case &quot;669&quot;: case &quot;691&quot;: \n",
       "                    return {&quot;color&quot;: &quot;#433e85&quot;, &quot;fillColor&quot;: &quot;#433e85&quot;, &quot;fillOpacity&quot;: 0.5, &quot;weight&quot;: 2};\n",
       "                case &quot;376&quot;: case &quot;521&quot;: case &quot;616&quot;: case &quot;627&quot;: case &quot;846&quot;: case &quot;1419&quot;: case &quot;1505&quot;: \n",
       "                    return {&quot;color&quot;: &quot;#2c738e&quot;, &quot;fillColor&quot;: &quot;#2c738e&quot;, &quot;fillOpacity&quot;: 0.5, &quot;weight&quot;: 2};\n",
       "                case &quot;382&quot;: case &quot;1267&quot;: \n",
       "                    return {&quot;color&quot;: &quot;#58c765&quot;, &quot;fillColor&quot;: &quot;#58c765&quot;, &quot;fillOpacity&quot;: 0.5, &quot;weight&quot;: 2};\n",
       "                case &quot;409&quot;: case &quot;889&quot;: \n",
       "                    return {&quot;color&quot;: &quot;#440154&quot;, &quot;fillColor&quot;: &quot;#440154&quot;, &quot;fillOpacity&quot;: 0.5, &quot;weight&quot;: 2};\n",
       "                case &quot;411&quot;: case &quot;870&quot;: case &quot;896&quot;: case &quot;1016&quot;: case &quot;1223&quot;: case &quot;1239&quot;: case &quot;1363&quot;: \n",
       "                    return {&quot;color&quot;: &quot;#3a548c&quot;, &quot;fillColor&quot;: &quot;#3a548c&quot;, &quot;fillOpacity&quot;: 0.5, &quot;weight&quot;: 2};\n",
       "                case &quot;413&quot;: case &quot;484&quot;: \n",
       "                    return {&quot;color&quot;: &quot;#1fa287&quot;, &quot;fillColor&quot;: &quot;#1fa287&quot;, &quot;fillOpacity&quot;: 0.5, &quot;weight&quot;: 2};\n",
       "                case &quot;429&quot;: case &quot;1500&quot;: \n",
       "                    return {&quot;color&quot;: &quot;#20a386&quot;, &quot;fillColor&quot;: &quot;#20a386&quot;, &quot;fillOpacity&quot;: 0.5, &quot;weight&quot;: 2};\n",
       "                case &quot;430&quot;: case &quot;496&quot;: case &quot;665&quot;: case &quot;803&quot;: case &quot;810&quot;: case &quot;1015&quot;: case &quot;1431&quot;: \n",
       "                    return {&quot;color&quot;: &quot;#2e6f8e&quot;, &quot;fillColor&quot;: &quot;#2e6f8e&quot;, &quot;fillOpacity&quot;: 0.5, &quot;weight&quot;: 2};\n",
       "                case &quot;431&quot;: \n",
       "                    return {&quot;color&quot;: &quot;#29af7f&quot;, &quot;fillColor&quot;: &quot;#29af7f&quot;, &quot;fillOpacity&quot;: 0.5, &quot;weight&quot;: 2};\n",
       "                case &quot;441&quot;: \n",
       "                    return {&quot;color&quot;: &quot;#23888e&quot;, &quot;fillColor&quot;: &quot;#23888e&quot;, &quot;fillOpacity&quot;: 0.5, &quot;weight&quot;: 2};\n",
       "                case &quot;447&quot;: case &quot;512&quot;: case &quot;527&quot;: case &quot;776&quot;: case &quot;1022&quot;: case &quot;1084&quot;: case &quot;1099&quot;: case &quot;1323&quot;: case &quot;1463&quot;: \n",
       "                    return {&quot;color&quot;: &quot;#481467&quot;, &quot;fillColor&quot;: &quot;#481467&quot;, &quot;fillOpacity&quot;: 0.5, &quot;weight&quot;: 2};\n",
       "                case &quot;467&quot;: case &quot;663&quot;: case &quot;797&quot;: case &quot;1032&quot;: case &quot;1056&quot;: case &quot;1070&quot;: case &quot;1171&quot;: case &quot;1188&quot;: case &quot;1341&quot;: \n",
       "                    return {&quot;color&quot;: &quot;#453882&quot;, &quot;fillColor&quot;: &quot;#453882&quot;, &quot;fillOpacity&quot;: 0.5, &quot;weight&quot;: 2};\n",
       "                case &quot;470&quot;: \n",
       "                    return {&quot;color&quot;: &quot;#28ae80&quot;, &quot;fillColor&quot;: &quot;#28ae80&quot;, &quot;fillOpacity&quot;: 0.5, &quot;weight&quot;: 2};\n",
       "                case &quot;473&quot;: case &quot;957&quot;: \n",
       "                    return {&quot;color&quot;: &quot;#63cb5f&quot;, &quot;fillColor&quot;: &quot;#63cb5f&quot;, &quot;fillOpacity&quot;: 0.5, &quot;weight&quot;: 2};\n",
       "                case &quot;504&quot;: case &quot;652&quot;: \n",
       "                    return {&quot;color&quot;: &quot;#23a983&quot;, &quot;fillColor&quot;: &quot;#23a983&quot;, &quot;fillOpacity&quot;: 0.5, &quot;weight&quot;: 2};\n",
       "                case &quot;513&quot;: \n",
       "                    return {&quot;color&quot;: &quot;#3fbc73&quot;, &quot;fillColor&quot;: &quot;#3fbc73&quot;, &quot;fillOpacity&quot;: 0.5, &quot;weight&quot;: 2};\n",
       "                case &quot;518&quot;: case &quot;602&quot;: case &quot;988&quot;: \n",
       "                    return {&quot;color&quot;: &quot;#20928c&quot;, &quot;fillColor&quot;: &quot;#20928c&quot;, &quot;fillOpacity&quot;: 0.5, &quot;weight&quot;: 2};\n",
       "                case &quot;559&quot;: \n",
       "                    return {&quot;color&quot;: &quot;#fde725&quot;, &quot;fillColor&quot;: &quot;#fde725&quot;, &quot;fillOpacity&quot;: 0.5, &quot;weight&quot;: 2};\n",
       "                case &quot;566&quot;: case &quot;823&quot;: case &quot;916&quot;: case &quot;952&quot;: case &quot;1216&quot;: \n",
       "                    return {&quot;color&quot;: &quot;#277e8e&quot;, &quot;fillColor&quot;: &quot;#277e8e&quot;, &quot;fillOpacity&quot;: 0.5, &quot;weight&quot;: 2};\n",
       "                case &quot;582&quot;: case &quot;1043&quot;: \n",
       "                    return {&quot;color&quot;: &quot;#25ac82&quot;, &quot;fillColor&quot;: &quot;#25ac82&quot;, &quot;fillOpacity&quot;: 0.5, &quot;weight&quot;: 2};\n",
       "                case &quot;594&quot;: case &quot;716&quot;: case &quot;949&quot;: \n",
       "                    return {&quot;color&quot;: &quot;#20938c&quot;, &quot;fillColor&quot;: &quot;#20938c&quot;, &quot;fillOpacity&quot;: 0.5, &quot;weight&quot;: 2};\n",
       "                case &quot;596&quot;: case &quot;1282&quot;: \n",
       "                    return {&quot;color&quot;: &quot;#1f988b&quot;, &quot;fillColor&quot;: &quot;#1f988b&quot;, &quot;fillOpacity&quot;: 0.5, &quot;weight&quot;: 2};\n",
       "                case &quot;599&quot;: case &quot;600&quot;: \n",
       "                    return {&quot;color&quot;: &quot;#b2dd2d&quot;, &quot;fillColor&quot;: &quot;#b2dd2d&quot;, &quot;fillOpacity&quot;: 0.5, &quot;weight&quot;: 2};\n",
       "                case &quot;601&quot;: \n",
       "                    return {&quot;color&quot;: &quot;#218f8d&quot;, &quot;fillColor&quot;: &quot;#218f8d&quot;, &quot;fillOpacity&quot;: 0.5, &quot;weight&quot;: 2};\n",
       "                case &quot;603&quot;: \n",
       "                    return {&quot;color&quot;: &quot;#228b8d&quot;, &quot;fillColor&quot;: &quot;#228b8d&quot;, &quot;fillOpacity&quot;: 0.5, &quot;weight&quot;: 2};\n",
       "                case &quot;617&quot;: \n",
       "                    return {&quot;color&quot;: &quot;#e7e419&quot;, &quot;fillColor&quot;: &quot;#e7e419&quot;, &quot;fillOpacity&quot;: 0.5, &quot;weight&quot;: 2};\n",
       "                case &quot;656&quot;: \n",
       "                    return {&quot;color&quot;: &quot;#1f948c&quot;, &quot;fillColor&quot;: &quot;#1f948c&quot;, &quot;fillOpacity&quot;: 0.5, &quot;weight&quot;: 2};\n",
       "                case &quot;657&quot;: \n",
       "                    return {&quot;color&quot;: &quot;#2cb17e&quot;, &quot;fillColor&quot;: &quot;#2cb17e&quot;, &quot;fillOpacity&quot;: 0.5, &quot;weight&quot;: 2};\n",
       "                case &quot;670&quot;: \n",
       "                    return {&quot;color&quot;: &quot;#4ac16d&quot;, &quot;fillColor&quot;: &quot;#4ac16d&quot;, &quot;fillOpacity&quot;: 0.5, &quot;weight&quot;: 2};\n",
       "                case &quot;673&quot;: case &quot;829&quot;: \n",
       "                    return {&quot;color&quot;: &quot;#7cd250&quot;, &quot;fillColor&quot;: &quot;#7cd250&quot;, &quot;fillOpacity&quot;: 0.5, &quot;weight&quot;: 2};\n",
       "                case &quot;678&quot;: \n",
       "                    return {&quot;color&quot;: &quot;#52c569&quot;, &quot;fillColor&quot;: &quot;#52c569&quot;, &quot;fillOpacity&quot;: 0.5, &quot;weight&quot;: 2};\n",
       "                case &quot;727&quot;: case &quot;1254&quot;: \n",
       "                    return {&quot;color&quot;: &quot;#86d549&quot;, &quot;fillColor&quot;: &quot;#86d549&quot;, &quot;fillOpacity&quot;: 0.5, &quot;weight&quot;: 2};\n",
       "                case &quot;732&quot;: \n",
       "                    return {&quot;color&quot;: &quot;#5ac864&quot;, &quot;fillColor&quot;: &quot;#5ac864&quot;, &quot;fillOpacity&quot;: 0.5, &quot;weight&quot;: 2};\n",
       "                case &quot;736&quot;: \n",
       "                    return {&quot;color&quot;: &quot;#1e9b8a&quot;, &quot;fillColor&quot;: &quot;#1e9b8a&quot;, &quot;fillOpacity&quot;: 0.5, &quot;weight&quot;: 2};\n",
       "                case &quot;753&quot;: case &quot;1269&quot;: \n",
       "                    return {&quot;color&quot;: &quot;#277f8e&quot;, &quot;fillColor&quot;: &quot;#277f8e&quot;, &quot;fillOpacity&quot;: 0.5, &quot;weight&quot;: 2};\n",
       "                case &quot;766&quot;: \n",
       "                    return {&quot;color&quot;: &quot;#21918c&quot;, &quot;fillColor&quot;: &quot;#21918c&quot;, &quot;fillOpacity&quot;: 0.5, &quot;weight&quot;: 2};\n",
       "                case &quot;785&quot;: case &quot;1485&quot;: \n",
       "                    return {&quot;color&quot;: &quot;#54c568&quot;, &quot;fillColor&quot;: &quot;#54c568&quot;, &quot;fillOpacity&quot;: 0.5, &quot;weight&quot;: 2};\n",
       "                case &quot;793&quot;: case &quot;1210&quot;: \n",
       "                    return {&quot;color&quot;: &quot;#23898e&quot;, &quot;fillColor&quot;: &quot;#23898e&quot;, &quot;fillOpacity&quot;: 0.5, &quot;weight&quot;: 2};\n",
       "                case &quot;812&quot;: case &quot;1058&quot;: \n",
       "                    return {&quot;color&quot;: &quot;#5cc863&quot;, &quot;fillColor&quot;: &quot;#5cc863&quot;, &quot;fillOpacity&quot;: 0.5, &quot;weight&quot;: 2};\n",
       "                case &quot;856&quot;: \n",
       "                    return {&quot;color&quot;: &quot;#2db27d&quot;, &quot;fillColor&quot;: &quot;#2db27d&quot;, &quot;fillOpacity&quot;: 0.5, &quot;weight&quot;: 2};\n",
       "                case &quot;875&quot;: \n",
       "                    return {&quot;color&quot;: &quot;#7ad151&quot;, &quot;fillColor&quot;: &quot;#7ad151&quot;, &quot;fillOpacity&quot;: 0.5, &quot;weight&quot;: 2};\n",
       "                case &quot;880&quot;: case &quot;1274&quot;: \n",
       "                    return {&quot;color&quot;: &quot;#22a785&quot;, &quot;fillColor&quot;: &quot;#22a785&quot;, &quot;fillOpacity&quot;: 0.5, &quot;weight&quot;: 2};\n",
       "                case &quot;883&quot;: case &quot;1156&quot;: case &quot;1337&quot;: \n",
       "                    return {&quot;color&quot;: &quot;#1f968b&quot;, &quot;fillColor&quot;: &quot;#1f968b&quot;, &quot;fillOpacity&quot;: 0.5, &quot;weight&quot;: 2};\n",
       "                case &quot;893&quot;: \n",
       "                    return {&quot;color&quot;: &quot;#27ad81&quot;, &quot;fillColor&quot;: &quot;#27ad81&quot;, &quot;fillOpacity&quot;: 0.5, &quot;weight&quot;: 2};\n",
       "                case &quot;895&quot;: \n",
       "                    return {&quot;color&quot;: &quot;#aadc32&quot;, &quot;fillColor&quot;: &quot;#aadc32&quot;, &quot;fillOpacity&quot;: 0.5, &quot;weight&quot;: 2};\n",
       "                case &quot;931&quot;: \n",
       "                    return {&quot;color&quot;: &quot;#1fa187&quot;, &quot;fillColor&quot;: &quot;#1fa187&quot;, &quot;fillOpacity&quot;: 0.5, &quot;weight&quot;: 2};\n",
       "                case &quot;938&quot;: \n",
       "                    return {&quot;color&quot;: &quot;#1fa188&quot;, &quot;fillColor&quot;: &quot;#1fa188&quot;, &quot;fillOpacity&quot;: 0.5, &quot;weight&quot;: 2};\n",
       "                case &quot;946&quot;: case &quot;994&quot;: case &quot;1037&quot;: case &quot;1437&quot;: \n",
       "                    return {&quot;color&quot;: &quot;#238a8d&quot;, &quot;fillColor&quot;: &quot;#238a8d&quot;, &quot;fillOpacity&quot;: 0.5, &quot;weight&quot;: 2};\n",
       "                case &quot;1030&quot;: case &quot;1173&quot;: \n",
       "                    return {&quot;color&quot;: &quot;#48c16e&quot;, &quot;fillColor&quot;: &quot;#48c16e&quot;, &quot;fillOpacity&quot;: 0.5, &quot;weight&quot;: 2};\n",
       "                case &quot;1109&quot;: case &quot;1320&quot;: \n",
       "                    return {&quot;color&quot;: &quot;#1e9c89&quot;, &quot;fillColor&quot;: &quot;#1e9c89&quot;, &quot;fillOpacity&quot;: 0.5, &quot;weight&quot;: 2};\n",
       "                case &quot;1131&quot;: case &quot;1134&quot;: \n",
       "                    return {&quot;color&quot;: &quot;#34b679&quot;, &quot;fillColor&quot;: &quot;#34b679&quot;, &quot;fillOpacity&quot;: 0.5, &quot;weight&quot;: 2};\n",
       "                case &quot;1167&quot;: \n",
       "                    return {&quot;color&quot;: &quot;#67cc5c&quot;, &quot;fillColor&quot;: &quot;#67cc5c&quot;, &quot;fillOpacity&quot;: 0.5, &quot;weight&quot;: 2};\n",
       "                case &quot;1190&quot;: \n",
       "                    return {&quot;color&quot;: &quot;#24aa83&quot;, &quot;fillColor&quot;: &quot;#24aa83&quot;, &quot;fillOpacity&quot;: 0.5, &quot;weight&quot;: 2};\n",
       "                case &quot;1215&quot;: \n",
       "                    return {&quot;color&quot;: &quot;#471164&quot;, &quot;fillColor&quot;: &quot;#471164&quot;, &quot;fillOpacity&quot;: 0.5, &quot;weight&quot;: 2};\n",
       "                case &quot;1258&quot;: \n",
       "                    return {&quot;color&quot;: &quot;#4ec36b&quot;, &quot;fillColor&quot;: &quot;#4ec36b&quot;, &quot;fillOpacity&quot;: 0.5, &quot;weight&quot;: 2};\n",
       "                case &quot;1276&quot;: \n",
       "                    return {&quot;color&quot;: &quot;#70cf57&quot;, &quot;fillColor&quot;: &quot;#70cf57&quot;, &quot;fillOpacity&quot;: 0.5, &quot;weight&quot;: 2};\n",
       "                case &quot;1301&quot;: \n",
       "                    return {&quot;color&quot;: &quot;#ece51b&quot;, &quot;fillColor&quot;: &quot;#ece51b&quot;, &quot;fillOpacity&quot;: 0.5, &quot;weight&quot;: 2};\n",
       "                case &quot;1331&quot;: case &quot;1487&quot;: \n",
       "                    return {&quot;color&quot;: &quot;#32b67a&quot;, &quot;fillColor&quot;: &quot;#32b67a&quot;, &quot;fillOpacity&quot;: 0.5, &quot;weight&quot;: 2};\n",
       "                case &quot;1370&quot;: \n",
       "                    return {&quot;color&quot;: &quot;#22a884&quot;, &quot;fillColor&quot;: &quot;#22a884&quot;, &quot;fillOpacity&quot;: 0.5, &quot;weight&quot;: 2};\n",
       "                case &quot;1387&quot;: \n",
       "                    return {&quot;color&quot;: &quot;#21a685&quot;, &quot;fillColor&quot;: &quot;#21a685&quot;, &quot;fillOpacity&quot;: 0.5, &quot;weight&quot;: 2};\n",
       "                case &quot;1407&quot;: \n",
       "                    return {&quot;color&quot;: &quot;#1f9a8a&quot;, &quot;fillColor&quot;: &quot;#1f9a8a&quot;, &quot;fillOpacity&quot;: 0.5, &quot;weight&quot;: 2};\n",
       "                case &quot;1418&quot;: \n",
       "                    return {&quot;color&quot;: &quot;#60ca60&quot;, &quot;fillColor&quot;: &quot;#60ca60&quot;, &quot;fillOpacity&quot;: 0.5, &quot;weight&quot;: 2};\n",
       "                case &quot;1425&quot;: \n",
       "                    return {&quot;color&quot;: &quot;#56c667&quot;, &quot;fillColor&quot;: &quot;#56c667&quot;, &quot;fillOpacity&quot;: 0.5, &quot;weight&quot;: 2};\n",
       "                case &quot;1454&quot;: \n",
       "                    return {&quot;color&quot;: &quot;#1f9e89&quot;, &quot;fillColor&quot;: &quot;#1f9e89&quot;, &quot;fillOpacity&quot;: 0.5, &quot;weight&quot;: 2};\n",
       "                case &quot;1486&quot;: \n",
       "                    return {&quot;color&quot;: &quot;#1fa088&quot;, &quot;fillColor&quot;: &quot;#1fa088&quot;, &quot;fillOpacity&quot;: 0.5, &quot;weight&quot;: 2};\n",
       "                default:\n",
       "                    return {&quot;color&quot;: &quot;#2eb37c&quot;, &quot;fillColor&quot;: &quot;#2eb37c&quot;, &quot;fillOpacity&quot;: 0.5, &quot;weight&quot;: 2};\n",
       "            }\n",
       "        }\n",
       "        function geo_json_dc34b5064fa02539a4e30dfd5b07438d_highlighter(feature) {\n",
       "            switch(feature.id) {\n",
       "                default:\n",
       "                    return {&quot;fillOpacity&quot;: 0.75};\n",
       "            }\n",
       "        }\n",
       "        function geo_json_dc34b5064fa02539a4e30dfd5b07438d_pointToLayer(feature, latlng) {\n",
       "            var opts = {&quot;bubblingMouseEvents&quot;: true, &quot;color&quot;: &quot;#3388ff&quot;, &quot;dashArray&quot;: null, &quot;dashOffset&quot;: null, &quot;fill&quot;: true, &quot;fillColor&quot;: &quot;#3388ff&quot;, &quot;fillOpacity&quot;: 0.2, &quot;fillRule&quot;: &quot;evenodd&quot;, &quot;lineCap&quot;: &quot;round&quot;, &quot;lineJoin&quot;: &quot;round&quot;, &quot;opacity&quot;: 1.0, &quot;radius&quot;: 2, &quot;stroke&quot;: true, &quot;weight&quot;: 3};\n",
       "            \n",
       "            let style = geo_json_dc34b5064fa02539a4e30dfd5b07438d_styler(feature)\n",
       "            Object.assign(opts, style)\n",
       "            \n",
       "            return new L.CircleMarker(latlng, opts)\n",
       "        }\n",
       "\n",
       "        function geo_json_dc34b5064fa02539a4e30dfd5b07438d_onEachFeature(feature, layer) {\n",
       "            layer.on({\n",
       "                mouseout: function(e) {\n",
       "                    if(typeof e.target.setStyle === &quot;function&quot;){\n",
       "                            geo_json_dc34b5064fa02539a4e30dfd5b07438d.resetStyle(e.target);\n",
       "                    }\n",
       "                },\n",
       "                mouseover: function(e) {\n",
       "                    if(typeof e.target.setStyle === &quot;function&quot;){\n",
       "                        const highlightStyle = geo_json_dc34b5064fa02539a4e30dfd5b07438d_highlighter(e.target.feature)\n",
       "                        e.target.setStyle(highlightStyle);\n",
       "                    }\n",
       "                },\n",
       "            });\n",
       "        };\n",
       "        var geo_json_dc34b5064fa02539a4e30dfd5b07438d = L.geoJson(null, {\n",
       "                onEachFeature: geo_json_dc34b5064fa02539a4e30dfd5b07438d_onEachFeature,\n",
       "            \n",
       "                style: geo_json_dc34b5064fa02539a4e30dfd5b07438d_styler,\n",
       "                pointToLayer: geo_json_dc34b5064fa02539a4e30dfd5b07438d_pointToLayer,\n",
       "        });\n",
       "\n",
       "        function geo_json_dc34b5064fa02539a4e30dfd5b07438d_add (data) {\n",
       "            geo_json_dc34b5064fa02539a4e30dfd5b07438d\n",
       "                .addData(data);\n",
       "        }\n",
       "            geo_json_dc34b5064fa02539a4e30dfd5b07438d_add({&quot;bbox&quot;: [-122.84924507422858, 45.33640869999999, -122.4496498516765, 45.732070799999995], &quot;features&quot;: [{&quot;bbox&quot;: [-122.63726915000002, 45.486868699999995, -122.63726915000002, 45.486868699999995], &quot;geometry&quot;: {&quot;coordinates&quot;: [-122.63726915000002, 45.486868699999995], &quot;type&quot;: &quot;Point&quot;}, &quot;id&quot;: &quot;0&quot;, &quot;properties&quot;: {&quot;__folium_color&quot;: &quot;#482576&quot;, &quot;distance&quot;: 3066.7519938272626}, &quot;type&quot;: &quot;Feature&quot;}, {&quot;bbox&quot;: [-122.63660695, 45.546892299999996, -122.63660695, 45.546892299999996], &quot;geometry&quot;: {&quot;coordinates&quot;: [-122.63660695, 45.546892299999996], &quot;type&quot;: &quot;Point&quot;}, &quot;id&quot;: &quot;1&quot;, &quot;properties&quot;: {&quot;__folium_color&quot;: &quot;#482677&quot;, &quot;distance&quot;: 3130.805100073897}, &quot;type&quot;: &quot;Feature&quot;}, {&quot;bbox&quot;: [-122.68579554197582, 45.55198029999999, -122.68579554197582, 45.55198029999999], &quot;geometry&quot;: {&quot;coordinates&quot;: [-122.68579554197582, 45.55198029999999], &quot;type&quot;: &quot;Point&quot;}, &quot;id&quot;: &quot;2&quot;, &quot;properties&quot;: {&quot;__folium_color&quot;: &quot;#482576&quot;, &quot;distance&quot;: 3034.316866064382}, &quot;type&quot;: &quot;Feature&quot;}, {&quot;bbox&quot;: [-122.69323080369291, 45.57075999999999, -122.69323080369291, 45.57075999999999], &quot;geometry&quot;: {&quot;coordinates&quot;: [-122.69323080369291, 45.57075999999999], &quot;type&quot;: &quot;Point&quot;}, &quot;id&quot;: &quot;3&quot;, &quot;properties&quot;: {&quot;__folium_color&quot;: &quot;#481a6c&quot;, &quot;distance&quot;: 2058.8060923262647}, &quot;type&quot;: &quot;Feature&quot;}, {&quot;bbox&quot;: [-122.6309664, 45.54143775, -122.6309664, 45.54143775], &quot;geometry&quot;: {&quot;coordinates&quot;: [-122.6309664, 45.54143775], &quot;type&quot;: &quot;Point&quot;}, &quot;id&quot;: &quot;4&quot;, &quot;properties&quot;: {&quot;__folium_color&quot;: &quot;#414487&quot;, &quot;distance&quot;: 5618.2044993578975}, &quot;type&quot;: &quot;Feature&quot;}, {&quot;bbox&quot;: [-122.60656305, 45.4970403, -122.60656305, 45.4970403], &quot;geometry&quot;: {&quot;coordinates&quot;: [-122.60656305, 45.4970403], &quot;type&quot;: &quot;Point&quot;}, &quot;id&quot;: &quot;5&quot;, &quot;properties&quot;: {&quot;__folium_color&quot;: &quot;#306a8e&quot;, &quot;distance&quot;: 9454.397026572393}, &quot;type&quot;: &quot;Feature&quot;}, {&quot;bbox&quot;: [-122.70938299999997, 45.48696624999999, -122.70938299999997, 45.48696624999999], &quot;geometry&quot;: {&quot;coordinates&quot;: [-122.70938299999997, 45.48696624999999], &quot;type&quot;: &quot;Point&quot;}, &quot;id&quot;: &quot;6&quot;, &quot;properties&quot;: {&quot;__folium_color&quot;: &quot;#481a6c&quot;, &quot;distance&quot;: 2044.9924137402625}, &quot;type&quot;: &quot;Feature&quot;}, {&quot;bbox&quot;: [-122.50510519074626, 45.51770714999999, -122.50510519074626, 45.51770714999999], &quot;geometry&quot;: {&quot;coordinates&quot;: [-122.50510519074626, 45.51770714999999], &quot;type&quot;: &quot;Point&quot;}, &quot;id&quot;: &quot;7&quot;, &quot;properties&quot;: {&quot;__folium_color&quot;: &quot;#228d8d&quot;, &quot;distance&quot;: 13403.726677851388}, &quot;type&quot;: &quot;Feature&quot;}, {&quot;bbox&quot;: [-122.71407120912284, 45.51985094999999, -122.71407120912284, 45.51985094999999], &quot;geometry&quot;: {&quot;coordinates&quot;: [-122.71407120912284, 45.51985094999999], &quot;type&quot;: &quot;Point&quot;}, &quot;id&quot;: &quot;8&quot;, &quot;properties&quot;: {&quot;__folium_color&quot;: &quot;#482576&quot;, &quot;distance&quot;: 2969.061909630627}, &quot;type&quot;: &quot;Feature&quot;}, {&quot;bbox&quot;: [-122.57793929688387, 45.50447835, -122.57793929688387, 45.50447835], &quot;geometry&quot;: {&quot;coordinates&quot;: [-122.57793929688387, 45.50447835], &quot;type&quot;: &quot;Point&quot;}, &quot;id&quot;: &quot;9&quot;, &quot;properties&quot;: {&quot;__folium_color&quot;: &quot;#481c6e&quot;, &quot;distance&quot;: 2261.9822838136993}, &quot;type&quot;: &quot;Feature&quot;}, {&quot;bbox&quot;: [-122.63763815503505, 45.48178085, -122.63763815503505, 45.48178085], &quot;geometry&quot;: {&quot;coordinates&quot;: [-122.63763815503505, 45.48178085], &quot;type&quot;: &quot;Point&quot;}, &quot;id&quot;: &quot;10&quot;, &quot;properties&quot;: {&quot;__folium_color&quot;: &quot;#24878e&quot;, &quot;distance&quot;: 12747.765214125819}, &quot;type&quot;: &quot;Feature&quot;}, {&quot;bbox&quot;: [-122.5683254038071, 45.50343209999999, -122.5683254038071, 45.50343209999999], &quot;geometry&quot;: {&quot;coordinates&quot;: [-122.5683254038071, 45.50343209999999], &quot;type&quot;: &quot;Point&quot;}, &quot;id&quot;: &quot;11&quot;, &quot;properties&quot;: {&quot;__folium_color&quot;: &quot;#482071&quot;, &quot;distance&quot;: 2560.7531207891125}, &quot;type&quot;: &quot;Feature&quot;}, {&quot;bbox&quot;: [-122.7051396122449, 45.569292469387754, -122.7051396122449, 45.569292469387754], &quot;geometry&quot;: {&quot;coordinates&quot;: [-122.7051396122449, 45.569292469387754], &quot;type&quot;: &quot;Point&quot;}, &quot;id&quot;: &quot;13&quot;, &quot;properties&quot;: {&quot;__folium_color&quot;: &quot;#472f7d&quot;, &quot;distance&quot;: 3895.202095382638}, &quot;type&quot;: &quot;Feature&quot;}, {&quot;bbox&quot;: [-122.68961548979591, 45.53659271428571, -122.68961548979591, 45.53659271428571], &quot;geometry&quot;: {&quot;coordinates&quot;: [-122.68961548979591, 45.53659271428571], &quot;type&quot;: &quot;Point&quot;}, &quot;id&quot;: &quot;14&quot;, &quot;properties&quot;: {&quot;__folium_color&quot;: &quot;#470d60&quot;, &quot;distance&quot;: 1079.4165428868469}, &quot;type&quot;: &quot;Feature&quot;}, {&quot;bbox&quot;: [-122.67040109999998, 45.55578775, -122.67040109999998, 45.55578775], &quot;geometry&quot;: {&quot;coordinates&quot;: [-122.67040109999998, 45.55578775], &quot;type&quot;: &quot;Point&quot;}, &quot;id&quot;: &quot;15&quot;, &quot;properties&quot;: {&quot;__folium_color&quot;: &quot;#3f4889&quot;, &quot;distance&quot;: 6068.075875847743}, &quot;type&quot;: &quot;Feature&quot;}, {&quot;bbox&quot;: [-122.64554283329659, 45.54420845, -122.64554283329659, 45.54420845], &quot;geometry&quot;: {&quot;coordinates&quot;: [-122.64554283329659, 45.54420845], &quot;type&quot;: &quot;Point&quot;}, &quot;id&quot;: &quot;16&quot;, &quot;properties&quot;: {&quot;__folium_color&quot;: &quot;#482475&quot;, &quot;distance&quot;: 2907.4796110866905}, &quot;type&quot;: &quot;Feature&quot;}, {&quot;bbox&quot;: [-122.69061106516128, 45.510240017543424, -122.69061106516128, 45.510240017543424], &quot;geometry&quot;: {&quot;coordinates&quot;: [-122.69061106516128, 45.510240017543424], &quot;type&quot;: &quot;Point&quot;}, &quot;id&quot;: &quot;17&quot;, &quot;properties&quot;: {&quot;__folium_color&quot;: &quot;#471365&quot;, &quot;distance&quot;: 1516.2759542260578}, &quot;type&quot;: &quot;Feature&quot;}, {&quot;bbox&quot;: [-122.7023640292253, 45.568392849999995, -122.7023640292253, 45.568392849999995], &quot;geometry&quot;: {&quot;coordinates&quot;: [-122.7023640292253, 45.568392849999995], &quot;type&quot;: &quot;Point&quot;}, &quot;id&quot;: &quot;18&quot;, &quot;properties&quot;: {&quot;__folium_color&quot;: &quot;#472c7a&quot;, &quot;distance&quot;: 3558.9527399972912}, &quot;type&quot;: &quot;Feature&quot;}, {&quot;bbox&quot;: [-122.6466398, 45.47859905, -122.6466398, 45.47859905], &quot;geometry&quot;: {&quot;coordinates&quot;: [-122.6466398, 45.47859905], &quot;type&quot;: &quot;Point&quot;}, &quot;id&quot;: &quot;19&quot;, &quot;properties&quot;: {&quot;__folium_color&quot;: &quot;#2d708e&quot;, &quot;distance&quot;: 10117.197443162979}, &quot;type&quot;: &quot;Feature&quot;}, {&quot;bbox&quot;: [-122.6308454319976, 45.524866200000005, -122.6308454319976, 45.524866200000005], &quot;geometry&quot;: {&quot;coordinates&quot;: [-122.6308454319976, 45.524866200000005], &quot;type&quot;: &quot;Point&quot;}, &quot;id&quot;: &quot;20&quot;, &quot;properties&quot;: {&quot;__folium_color&quot;: &quot;#481c6e&quot;, &quot;distance&quot;: 2295.9286148156443}, &quot;type&quot;: &quot;Feature&quot;}, {&quot;bbox&quot;: [-122.51383105, 45.53393724999999, -122.51383105, 45.53393724999999], &quot;geometry&quot;: {&quot;coordinates&quot;: [-122.51383105, 45.53393724999999], &quot;type&quot;: &quot;Point&quot;}, &quot;id&quot;: &quot;21&quot;, &quot;properties&quot;: {&quot;__folium_color&quot;: &quot;#472f7d&quot;, &quot;distance&quot;: 3872.8144336131663}, &quot;type&quot;: &quot;Feature&quot;}, {&quot;bbox&quot;: [-122.62251908163265, 45.4931726122449, -122.62251908163265, 45.4931726122449], &quot;geometry&quot;: {&quot;coordinates&quot;: [-122.62251908163265, 45.4931726122449], &quot;type&quot;: &quot;Point&quot;}, &quot;id&quot;: &quot;22&quot;, &quot;properties&quot;: {&quot;__folium_color&quot;: &quot;#453781&quot;, &quot;distance&quot;: 4513.15638147412}, &quot;type&quot;: &quot;Feature&quot;}, {&quot;bbox&quot;: [-122.65402109090911, 45.50285397979798, -122.65402109090911, 45.50285397979798], &quot;geometry&quot;: {&quot;coordinates&quot;: [-122.65402109090911, 45.50285397979798], &quot;type&quot;: &quot;Point&quot;}, &quot;id&quot;: &quot;23&quot;, &quot;properties&quot;: {&quot;__folium_color&quot;: &quot;#46307e&quot;, &quot;distance&quot;: 4007.931844047412}, &quot;type&quot;: &quot;Feature&quot;}, {&quot;bbox&quot;: [-122.4862538904599, 45.51471809999999, -122.4862538904599, 45.51471809999999], &quot;geometry&quot;: {&quot;coordinates&quot;: [-122.4862538904599, 45.51471809999999], &quot;type&quot;: &quot;Point&quot;}, &quot;id&quot;: &quot;24&quot;, &quot;properties&quot;: {&quot;__folium_color&quot;: &quot;#404688&quot;, &quot;distance&quot;: 5821.506715468403}, &quot;type&quot;: &quot;Feature&quot;}, {&quot;bbox&quot;: [-122.65010684986385, 45.5385733, -122.65010684986385, 45.5385733], &quot;geometry&quot;: {&quot;coordinates&quot;: [-122.65010684986385, 45.5385733], &quot;type&quot;: &quot;Point&quot;}, &quot;id&quot;: &quot;25&quot;, &quot;properties&quot;: {&quot;__folium_color&quot;: &quot;#433d84&quot;, &quot;distance&quot;: 5021.455788010761}, &quot;type&quot;: &quot;Feature&quot;}, {&quot;bbox&quot;: [-122.64605367505438, 45.5344978, -122.64605367505438, 45.5344978], &quot;geometry&quot;: {&quot;coordinates&quot;: [-122.64605367505438, 45.5344978], &quot;type&quot;: &quot;Point&quot;}, &quot;id&quot;: &quot;26&quot;, &quot;properties&quot;: {&quot;__folium_color&quot;: &quot;#32658e&quot;, &quot;distance&quot;: 8900.939922838183}, &quot;type&quot;: &quot;Feature&quot;}, {&quot;bbox&quot;: [-122.67962699918155, 45.49912425, -122.67962699918155, 45.49912425], &quot;geometry&quot;: {&quot;coordinates&quot;: [-122.67962699918155, 45.49912425], &quot;type&quot;: &quot;Point&quot;}, &quot;id&quot;: &quot;27&quot;, &quot;properties&quot;: {&quot;__folium_color&quot;: &quot;#32658e&quot;, &quot;distance&quot;: 8930.836202461618}, &quot;type&quot;: &quot;Feature&quot;}, {&quot;bbox&quot;: [-122.70002101850972, 45.48498495, -122.70002101850972, 45.48498495], &quot;geometry&quot;: {&quot;coordinates&quot;: [-122.70002101850972, 45.48498495], &quot;type&quot;: &quot;Point&quot;}, &quot;id&quot;: &quot;28&quot;, &quot;properties&quot;: {&quot;__folium_color&quot;: &quot;#460b5e&quot;, &quot;distance&quot;: 1051.3519917464357}, &quot;type&quot;: &quot;Feature&quot;}, {&quot;bbox&quot;: [-122.6582805752204, 45.5401429, -122.6582805752204, 45.5401429], &quot;geometry&quot;: {&quot;coordinates&quot;: [-122.6582805752204, 45.5401429], &quot;type&quot;: &quot;Point&quot;}, &quot;id&quot;: &quot;29&quot;, &quot;properties&quot;: {&quot;__folium_color&quot;: &quot;#414287&quot;, &quot;distance&quot;: 5597.699334061284}, &quot;type&quot;: &quot;Feature&quot;}, {&quot;bbox&quot;: [-122.61577145000001, 45.48383315, -122.61577145000001, 45.48383315], &quot;geometry&quot;: {&quot;coordinates&quot;: [-122.61577145000001, 45.48383315], &quot;type&quot;: &quot;Point&quot;}, &quot;id&quot;: &quot;30&quot;, &quot;properties&quot;: {&quot;__folium_color&quot;: &quot;#443a83&quot;, &quot;distance&quot;: 4853.533599964281}, &quot;type&quot;: &quot;Feature&quot;}, {&quot;bbox&quot;: [-122.62562401992501, 45.533176850000004, -122.62562401992501, 45.533176850000004], &quot;geometry&quot;: {&quot;coordinates&quot;: [-122.62562401992501, 45.533176850000004], &quot;type&quot;: &quot;Point&quot;}, &quot;id&quot;: &quot;31&quot;, &quot;properties&quot;: {&quot;__folium_color&quot;: &quot;#472f7d&quot;, &quot;distance&quot;: 3853.1882544193577}, &quot;type&quot;: &quot;Feature&quot;}, {&quot;bbox&quot;: [-122.68870069313175, 45.50261058705057, -122.68870069313175, 45.50261058705057], &quot;geometry&quot;: {&quot;coordinates&quot;: [-122.68870069313175, 45.50261058705057], &quot;type&quot;: &quot;Point&quot;}, &quot;id&quot;: &quot;32&quot;, &quot;properties&quot;: {&quot;__folium_color&quot;: &quot;#472d7b&quot;, &quot;distance&quot;: 3666.2515707456046}, &quot;type&quot;: &quot;Feature&quot;}, {&quot;bbox&quot;: [-122.67931691836732, 45.56257444897959, -122.67931691836732, 45.56257444897959], &quot;geometry&quot;: {&quot;coordinates&quot;: [-122.67931691836732, 45.56257444897959], &quot;type&quot;: &quot;Point&quot;}, &quot;id&quot;: &quot;33&quot;, &quot;properties&quot;: {&quot;__folium_color&quot;: &quot;#482979&quot;, &quot;distance&quot;: 3314.459621230903}, &quot;type&quot;: &quot;Feature&quot;}, {&quot;bbox&quot;: [-122.62754830015129, 45.472211949999995, -122.62754830015129, 45.472211949999995], &quot;geometry&quot;: {&quot;coordinates&quot;: [-122.62754830015129, 45.472211949999995], &quot;type&quot;: &quot;Point&quot;}, &quot;id&quot;: &quot;34&quot;, &quot;properties&quot;: {&quot;__folium_color&quot;: &quot;#481a6c&quot;, &quot;distance&quot;: 2029.2519322314924}, &quot;type&quot;: &quot;Feature&quot;}, {&quot;bbox&quot;: [-122.60222048421363, 45.51464365, -122.60222048421363, 45.51464365], &quot;geometry&quot;: {&quot;coordinates&quot;: [-122.60222048421363, 45.51464365], &quot;type&quot;: &quot;Point&quot;}, &quot;id&quot;: &quot;36&quot;, &quot;properties&quot;: {&quot;__folium_color&quot;: &quot;#404588&quot;, &quot;distance&quot;: 5765.857641899442}, &quot;type&quot;: &quot;Feature&quot;}, {&quot;bbox&quot;: [-122.57914832885905, 45.527877167785235, -122.57914832885905, 45.527877167785235], &quot;geometry&quot;: {&quot;coordinates&quot;: [-122.57914832885905, 45.527877167785235], &quot;type&quot;: &quot;Point&quot;}, &quot;id&quot;: &quot;37&quot;, &quot;properties&quot;: {&quot;__folium_color&quot;: &quot;#2e6e8e&quot;, &quot;distance&quot;: 9875.597551860805}, &quot;type&quot;: &quot;Feature&quot;}, {&quot;bbox&quot;: [-122.59055419999999, 45.5895038, -122.59055419999999, 45.5895038], &quot;geometry&quot;: {&quot;coordinates&quot;: [-122.59055419999999, 45.5895038], &quot;type&quot;: &quot;Point&quot;}, &quot;id&quot;: &quot;38&quot;, &quot;properties&quot;: {&quot;__folium_color&quot;: &quot;#297a8e&quot;, &quot;distance&quot;: 11304.460463141102}, &quot;type&quot;: &quot;Feature&quot;}, {&quot;bbox&quot;: [-122.71876152338945, 45.45043664999999, -122.71876152338945, 45.45043664999999], &quot;geometry&quot;: {&quot;coordinates&quot;: [-122.71876152338945, 45.45043664999999], &quot;type&quot;: &quot;Point&quot;}, &quot;id&quot;: &quot;39&quot;, &quot;properties&quot;: {&quot;__folium_color&quot;: &quot;#287c8e&quot;, &quot;distance&quot;: 11513.008680734436}, &quot;type&quot;: &quot;Feature&quot;}, {&quot;bbox&quot;: [-122.67985890000001, 45.5159845, -122.67985890000001, 45.5159845], &quot;geometry&quot;: {&quot;coordinates&quot;: [-122.67985890000001, 45.5159845], &quot;type&quot;: &quot;Point&quot;}, &quot;id&quot;: &quot;40&quot;, &quot;properties&quot;: {&quot;__folium_color&quot;: &quot;#2b748e&quot;, &quot;distance&quot;: 10647.649516293213}, &quot;type&quot;: &quot;Feature&quot;}, {&quot;bbox&quot;: [-122.67342083673469, 45.52699206122448, -122.67342083673469, 45.52699206122448], &quot;geometry&quot;: {&quot;coordinates&quot;: [-122.67342083673469, 45.52699206122448], &quot;type&quot;: &quot;Point&quot;}, &quot;id&quot;: &quot;41&quot;, &quot;properties&quot;: {&quot;__folium_color&quot;: &quot;#3f4788&quot;, &quot;distance&quot;: 5948.193941204977}, &quot;type&quot;: &quot;Feature&quot;}, {&quot;bbox&quot;: [-122.57009521655962, 45.52865425, -122.57009521655962, 45.52865425], &quot;geometry&quot;: {&quot;coordinates&quot;: [-122.57009521655962, 45.52865425], &quot;type&quot;: &quot;Point&quot;}, &quot;id&quot;: &quot;42&quot;, &quot;properties&quot;: {&quot;__folium_color&quot;: &quot;#3e4989&quot;, &quot;distance&quot;: 6200.619107053511}, &quot;type&quot;: &quot;Feature&quot;}, {&quot;bbox&quot;: [-122.65738679999998, 45.5194565, -122.65738679999998, 45.5194565], &quot;geometry&quot;: {&quot;coordinates&quot;: [-122.65738679999998, 45.5194565], &quot;type&quot;: &quot;Point&quot;}, &quot;id&quot;: &quot;43&quot;, &quot;properties&quot;: {&quot;__folium_color&quot;: &quot;#2e6e8e&quot;, &quot;distance&quot;: 9892.896937216372}, &quot;type&quot;: &quot;Feature&quot;}, {&quot;bbox&quot;: [-122.5680049265546, 45.49712465, -122.5680049265546, 45.49712465], &quot;geometry&quot;: {&quot;coordinates&quot;: [-122.5680049265546, 45.49712465], &quot;type&quot;: &quot;Point&quot;}, &quot;id&quot;: &quot;44&quot;, &quot;properties&quot;: {&quot;__folium_color&quot;: &quot;#481769&quot;, &quot;distance&quot;: 1889.8300374106655}, &quot;type&quot;: &quot;Feature&quot;}, {&quot;bbox&quot;: [-122.7481993142901, 45.46354129965492, -122.7481993142901, 45.46354129965492], &quot;geometry&quot;: {&quot;coordinates&quot;: [-122.7481993142901, 45.46354129965492], &quot;type&quot;: &quot;Point&quot;}, &quot;id&quot;: &quot;45&quot;, &quot;properties&quot;: {&quot;__folium_color&quot;: &quot;#472c7a&quot;, &quot;distance&quot;: 3534.6897733116134}, &quot;type&quot;: &quot;Feature&quot;}, {&quot;bbox&quot;: [-122.68740842934513, 45.53594409999999, -122.68740842934513, 45.53594409999999], &quot;geometry&quot;: {&quot;coordinates&quot;: [-122.68740842934513, 45.53594409999999], &quot;type&quot;: &quot;Point&quot;}, &quot;id&quot;: &quot;46&quot;, &quot;properties&quot;: {&quot;__folium_color&quot;: &quot;#471063&quot;, &quot;distance&quot;: 1310.0361428627589}, &quot;type&quot;: &quot;Feature&quot;}, {&quot;bbox&quot;: [-122.62375775000001, 45.4794335, -122.62375775000001, 45.4794335], &quot;geometry&quot;: {&quot;coordinates&quot;: [-122.62375775000001, 45.4794335], &quot;type&quot;: &quot;Point&quot;}, &quot;id&quot;: &quot;47&quot;, &quot;properties&quot;: {&quot;__folium_color&quot;: &quot;#471063&quot;, &quot;distance&quot;: 1298.7927642893517}, &quot;type&quot;: &quot;Feature&quot;}, {&quot;bbox&quot;: [-122.63230967359968, 45.502696900000004, -122.63230967359968, 45.502696900000004], &quot;geometry&quot;: {&quot;coordinates&quot;: [-122.63230967359968, 45.502696900000004], &quot;type&quot;: &quot;Point&quot;}, &quot;id&quot;: &quot;48&quot;, &quot;properties&quot;: {&quot;__folium_color&quot;: &quot;#2b748e&quot;, &quot;distance&quot;: 10681.320738719172}, &quot;type&quot;: &quot;Feature&quot;}, {&quot;bbox&quot;: [-122.6701161946442, 45.54507589999999, -122.6701161946442, 45.54507589999999], &quot;geometry&quot;: {&quot;coordinates&quot;: [-122.6701161946442, 45.54507589999999], &quot;type&quot;: &quot;Point&quot;}, &quot;id&quot;: &quot;49&quot;, &quot;properties&quot;: {&quot;__folium_color&quot;: &quot;#460b5e&quot;, &quot;distance&quot;: 960.1650159921386}, &quot;type&quot;: &quot;Feature&quot;}, {&quot;bbox&quot;: [-122.70568872267097, 45.4965781, -122.70568872267097, 45.4965781], &quot;geometry&quot;: {&quot;coordinates&quot;: [-122.70568872267097, 45.4965781], &quot;type&quot;: &quot;Point&quot;}, &quot;id&quot;: &quot;50&quot;, &quot;properties&quot;: {&quot;__folium_color&quot;: &quot;#39568c&quot;, &quot;distance&quot;: 7473.687385960899}, &quot;type&quot;: &quot;Feature&quot;}, {&quot;bbox&quot;: [-122.72338455163187, 45.54494560000001, -122.72338455163187, 45.54494560000001], &quot;geometry&quot;: {&quot;coordinates&quot;: [-122.72338455163187, 45.54494560000001], &quot;type&quot;: &quot;Point&quot;}, &quot;id&quot;: &quot;51&quot;, &quot;properties&quot;: {&quot;__folium_color&quot;: &quot;#375a8c&quot;, &quot;distance&quot;: 7803.49533669635}, &quot;type&quot;: &quot;Feature&quot;}, {&quot;bbox&quot;: [-122.55867376666669, 45.571547733333325, -122.55867376666669, 45.571547733333325], &quot;geometry&quot;: {&quot;coordinates&quot;: [-122.55867376666669, 45.571547733333325], &quot;type&quot;: &quot;Point&quot;}, &quot;id&quot;: &quot;53&quot;, &quot;properties&quot;: {&quot;__folium_color&quot;: &quot;#46327e&quot;, &quot;distance&quot;: 4045.640873511846}, &quot;type&quot;: &quot;Feature&quot;}, {&quot;bbox&quot;: [-122.67077879999998, 45.5535027, -122.67077879999998, 45.5535027], &quot;geometry&quot;: {&quot;coordinates&quot;: [-122.67077879999998, 45.5535027], &quot;type&quot;: &quot;Point&quot;}, &quot;id&quot;: &quot;54&quot;, &quot;properties&quot;: {&quot;__folium_color&quot;: &quot;#414487&quot;, &quot;distance&quot;: 5708.706966909429}, &quot;type&quot;: &quot;Feature&quot;}, {&quot;bbox&quot;: [-122.62328765551736, 45.48087325, -122.62328765551736, 45.48087325], &quot;geometry&quot;: {&quot;coordinates&quot;: [-122.62328765551736, 45.48087325], &quot;type&quot;: &quot;Point&quot;}, &quot;id&quot;: &quot;55&quot;, &quot;properties&quot;: {&quot;__folium_color&quot;: &quot;#2b758e&quot;, &quot;distance&quot;: 10745.10947808016}, &quot;type&quot;: &quot;Feature&quot;}, {&quot;bbox&quot;: [-122.64638769649814, 45.534121649999996, -122.64638769649814, 45.534121649999996], &quot;geometry&quot;: {&quot;coordinates&quot;: [-122.64638769649814, 45.534121649999996], &quot;type&quot;: &quot;Point&quot;}, &quot;id&quot;: &quot;56&quot;, &quot;properties&quot;: {&quot;__folium_color&quot;: &quot;#481b6d&quot;, &quot;distance&quot;: 2212.9845876878353}, &quot;type&quot;: &quot;Feature&quot;}, {&quot;bbox&quot;: [-122.66279197114326, 45.59303525000001, -122.66279197114326, 45.59303525000001], &quot;geometry&quot;: {&quot;coordinates&quot;: [-122.66279197114326, 45.59303525000001], &quot;type&quot;: &quot;Point&quot;}, &quot;id&quot;: &quot;57&quot;, &quot;properties&quot;: {&quot;__folium_color&quot;: &quot;#29798e&quot;, &quot;distance&quot;: 11205.49730836712}, &quot;type&quot;: &quot;Feature&quot;}, {&quot;bbox&quot;: [-122.57088160330609, 45.515295550000005, -122.57088160330609, 45.515295550000005], &quot;geometry&quot;: {&quot;coordinates&quot;: [-122.57088160330609, 45.515295550000005], &quot;type&quot;: &quot;Point&quot;}, &quot;id&quot;: &quot;58&quot;, &quot;properties&quot;: {&quot;__folium_color&quot;: &quot;#297b8e&quot;, &quot;distance&quot;: 11351.003600451093}, &quot;type&quot;: &quot;Feature&quot;}, {&quot;bbox&quot;: [-122.6959435918835, 45.46030175, -122.6959435918835, 45.46030175], &quot;geometry&quot;: {&quot;coordinates&quot;: [-122.6959435918835, 45.46030175], &quot;type&quot;: &quot;Point&quot;}, &quot;id&quot;: &quot;60&quot;, &quot;properties&quot;: {&quot;__folium_color&quot;: &quot;#482677&quot;, &quot;distance&quot;: 3107.330885227413}, &quot;type&quot;: &quot;Feature&quot;}, {&quot;bbox&quot;: [-122.6816673, 45.5162039, -122.6816673, 45.5162039], &quot;geometry&quot;: {&quot;coordinates&quot;: [-122.6816673, 45.5162039], &quot;type&quot;: &quot;Point&quot;}, &quot;id&quot;: &quot;61&quot;, &quot;properties&quot;: {&quot;__folium_color&quot;: &quot;#46075a&quot;, &quot;distance&quot;: 644.9818661212241}, &quot;type&quot;: &quot;Feature&quot;}, {&quot;bbox&quot;: [-122.73024718906862, 45.4664963, -122.73024718906862, 45.4664963], &quot;geometry&quot;: {&quot;coordinates&quot;: [-122.73024718906862, 45.4664963], &quot;type&quot;: &quot;Point&quot;}, &quot;id&quot;: &quot;62&quot;, &quot;properties&quot;: {&quot;__folium_color&quot;: &quot;#482576&quot;, &quot;distance&quot;: 2983.0637476873735}, &quot;type&quot;: &quot;Feature&quot;}, {&quot;bbox&quot;: [-122.60274144387756, 45.5446764, -122.60274144387756, 45.5446764], &quot;geometry&quot;: {&quot;coordinates&quot;: [-122.60274144387756, 45.5446764], &quot;type&quot;: &quot;Point&quot;}, &quot;id&quot;: &quot;63&quot;, &quot;properties&quot;: {&quot;__folium_color&quot;: &quot;#482071&quot;, &quot;distance&quot;: 2629.2283316741955}, &quot;type&quot;: &quot;Feature&quot;}, {&quot;bbox&quot;: [-122.63768593071224, 45.514824950000005, -122.63768593071224, 45.514824950000005], &quot;geometry&quot;: {&quot;coordinates&quot;: [-122.63768593071224, 45.514824950000005], &quot;type&quot;: &quot;Point&quot;}, &quot;id&quot;: &quot;64&quot;, &quot;properties&quot;: {&quot;__folium_color&quot;: &quot;#34608d&quot;, &quot;distance&quot;: 8456.501493777614}, &quot;type&quot;: &quot;Feature&quot;}, {&quot;bbox&quot;: [-122.66083345, 45.55179635, -122.66083345, 45.55179635], &quot;geometry&quot;: {&quot;coordinates&quot;: [-122.66083345, 45.55179635], &quot;type&quot;: &quot;Point&quot;}, &quot;id&quot;: &quot;65&quot;, &quot;properties&quot;: {&quot;__folium_color&quot;: &quot;#3a538b&quot;, &quot;distance&quot;: 7193.2380226151745}, &quot;type&quot;: &quot;Feature&quot;}, {&quot;bbox&quot;: [-122.67903504081632, 45.541948, -122.67903504081632, 45.541948], &quot;geometry&quot;: {&quot;coordinates&quot;: [-122.67903504081632, 45.541948], &quot;type&quot;: &quot;Point&quot;}, &quot;id&quot;: &quot;66&quot;, &quot;properties&quot;: {&quot;__folium_color&quot;: &quot;#472d7b&quot;, &quot;distance&quot;: 3699.626625557919}, &quot;type&quot;: &quot;Feature&quot;}, {&quot;bbox&quot;: [-122.55669050268293, 45.50693635, -122.55669050268293, 45.50693635], &quot;geometry&quot;: {&quot;coordinates&quot;: [-122.55669050268293, 45.50693635], &quot;type&quot;: &quot;Point&quot;}, &quot;id&quot;: &quot;67&quot;, &quot;properties&quot;: {&quot;__folium_color&quot;: &quot;#472f7d&quot;, &quot;distance&quot;: 3848.343435599395}, &quot;type&quot;: &quot;Feature&quot;}, {&quot;bbox&quot;: [-122.68596920522114, 45.47749684999999, -122.68596920522114, 45.47749684999999], &quot;geometry&quot;: {&quot;coordinates&quot;: [-122.68596920522114, 45.47749684999999], &quot;type&quot;: &quot;Point&quot;}, &quot;id&quot;: &quot;68&quot;, &quot;properties&quot;: {&quot;__folium_color&quot;: &quot;#460b5e&quot;, &quot;distance&quot;: 976.8145011149885}, &quot;type&quot;: &quot;Feature&quot;}, {&quot;bbox&quot;: [-122.58601213138908, 45.50912100000001, -122.58601213138908, 45.50912100000001], &quot;geometry&quot;: {&quot;coordinates&quot;: [-122.58601213138908, 45.50912100000001], &quot;type&quot;: &quot;Point&quot;}, &quot;id&quot;: &quot;69&quot;, &quot;properties&quot;: {&quot;__folium_color&quot;: &quot;#482576&quot;, &quot;distance&quot;: 2981.4703578926787}, &quot;type&quot;: &quot;Feature&quot;}, {&quot;bbox&quot;: [-122.78084006095371, 45.51832794999999, -122.78084006095371, 45.51832794999999], &quot;geometry&quot;: {&quot;coordinates&quot;: [-122.78084006095371, 45.51832794999999], &quot;type&quot;: &quot;Point&quot;}, &quot;id&quot;: &quot;70&quot;, &quot;properties&quot;: {&quot;__folium_color&quot;: &quot;#306a8e&quot;, &quot;distance&quot;: 9487.35223879528}, &quot;type&quot;: &quot;Feature&quot;}, {&quot;bbox&quot;: [-122.6355777108228, 45.50884075, -122.6355777108228, 45.50884075], &quot;geometry&quot;: {&quot;coordinates&quot;: [-122.6355777108228, 45.50884075], &quot;type&quot;: &quot;Point&quot;}, &quot;id&quot;: &quot;71&quot;, &quot;properties&quot;: {&quot;__folium_color&quot;: &quot;#481668&quot;, &quot;distance&quot;: 1762.0827416863056}, &quot;type&quot;: &quot;Feature&quot;}, {&quot;bbox&quot;: [-122.6998029090909, 45.5781829090909, -122.6998029090909, 45.5781829090909], &quot;geometry&quot;: {&quot;coordinates&quot;: [-122.6998029090909, 45.5781829090909], &quot;type&quot;: &quot;Point&quot;}, &quot;id&quot;: &quot;72&quot;, &quot;properties&quot;: {&quot;__folium_color&quot;: &quot;#46307e&quot;, &quot;distance&quot;: 4019.0434551163453}, &quot;type&quot;: &quot;Feature&quot;}, {&quot;bbox&quot;: [-122.70240836684417, 45.502978850000005, -122.70240836684417, 45.502978850000005], &quot;geometry&quot;: {&quot;coordinates&quot;: [-122.70240836684417, 45.502978850000005], &quot;type&quot;: &quot;Point&quot;}, &quot;id&quot;: &quot;73&quot;, &quot;properties&quot;: {&quot;__folium_color&quot;: &quot;#482677&quot;, &quot;distance&quot;: 3171.0299578462946}, &quot;type&quot;: &quot;Feature&quot;}, {&quot;bbox&quot;: [-122.61262917497233, 45.50552595, -122.61262917497233, 45.50552595], &quot;geometry&quot;: {&quot;coordinates&quot;: [-122.61262917497233, 45.50552595], &quot;type&quot;: &quot;Point&quot;}, &quot;id&quot;: &quot;74&quot;, &quot;properties&quot;: {&quot;__folium_color&quot;: &quot;#48186a&quot;, &quot;distance&quot;: 1909.190615725317}, &quot;type&quot;: &quot;Feature&quot;}, {&quot;bbox&quot;: [-122.69274620024552, 45.44816425, -122.69274620024552, 45.44816425], &quot;geometry&quot;: {&quot;coordinates&quot;: [-122.69274620024552, 45.44816425], &quot;type&quot;: &quot;Point&quot;}, &quot;id&quot;: &quot;75&quot;, &quot;properties&quot;: {&quot;__folium_color&quot;: &quot;#433d84&quot;, &quot;distance&quot;: 5028.792084977092}, &quot;type&quot;: &quot;Feature&quot;}, {&quot;bbox&quot;: [-122.64663899999996, 45.51485334999999, -122.64663899999996, 45.51485334999999], &quot;geometry&quot;: {&quot;coordinates&quot;: [-122.64663899999996, 45.51485334999999], &quot;type&quot;: &quot;Point&quot;}, &quot;id&quot;: &quot;76&quot;, &quot;properties&quot;: {&quot;__folium_color&quot;: &quot;#355e8d&quot;, &quot;distance&quot;: 8151.226859395157}, &quot;type&quot;: &quot;Feature&quot;}, {&quot;bbox&quot;: [-122.6064688898559, 45.5294581, -122.6064688898559, 45.5294581], &quot;geometry&quot;: {&quot;coordinates&quot;: [-122.6064688898559, 45.5294581], &quot;type&quot;: &quot;Point&quot;}, &quot;id&quot;: &quot;77&quot;, &quot;properties&quot;: {&quot;__folium_color&quot;: &quot;#3d4e8a&quot;, &quot;distance&quot;: 6618.854850883328}, &quot;type&quot;: &quot;Feature&quot;}, {&quot;bbox&quot;: [-122.70227783788637, 45.4757158, -122.70227783788637, 45.4757158], &quot;geometry&quot;: {&quot;coordinates&quot;: [-122.70227783788637, 45.4757158], &quot;type&quot;: &quot;Point&quot;}, &quot;id&quot;: &quot;78&quot;, &quot;properties&quot;: {&quot;__folium_color&quot;: &quot;#470d60&quot;, &quot;distance&quot;: 1121.9919966087034}, &quot;type&quot;: &quot;Feature&quot;}, {&quot;bbox&quot;: [-122.643423675001, 45.54445595, -122.643423675001, 45.54445595], &quot;geometry&quot;: {&quot;coordinates&quot;: [-122.643423675001, 45.54445595], &quot;type&quot;: &quot;Point&quot;}, &quot;id&quot;: &quot;80&quot;, &quot;properties&quot;: {&quot;__folium_color&quot;: &quot;#481c6e&quot;, &quot;distance&quot;: 2297.2230204163}, &quot;type&quot;: &quot;Feature&quot;}, {&quot;bbox&quot;: [-122.61858670689216, 45.56009701007016, -122.61858670689216, 45.56009701007016], &quot;geometry&quot;: {&quot;coordinates&quot;: [-122.61858670689216, 45.56009701007016], &quot;type&quot;: &quot;Point&quot;}, &quot;id&quot;: &quot;81&quot;, &quot;properties&quot;: {&quot;__folium_color&quot;: &quot;#46327e&quot;, &quot;distance&quot;: 4039.6875134260476}, &quot;type&quot;: &quot;Feature&quot;}, {&quot;bbox&quot;: [-122.70080515106129, 45.5420658, -122.70080515106129, 45.5420658], &quot;geometry&quot;: {&quot;coordinates&quot;: [-122.70080515106129, 45.5420658], &quot;type&quot;: &quot;Point&quot;}, &quot;id&quot;: &quot;82&quot;, &quot;properties&quot;: {&quot;__folium_color&quot;: &quot;#306a8e&quot;, &quot;distance&quot;: 9458.806502010186}, &quot;type&quot;: &quot;Feature&quot;}, {&quot;bbox&quot;: [-122.57015342018563, 45.51740074999999, -122.57015342018563, 45.51740074999999], &quot;geometry&quot;: {&quot;coordinates&quot;: [-122.57015342018563, 45.51740074999999], &quot;type&quot;: &quot;Point&quot;}, &quot;id&quot;: &quot;83&quot;, &quot;properties&quot;: {&quot;__folium_color&quot;: &quot;#414287&quot;, &quot;distance&quot;: 5582.91403868332}, &quot;type&quot;: &quot;Feature&quot;}, {&quot;bbox&quot;: [-122.709626023646, 45.53162414999999, -122.709626023646, 45.53162414999999], &quot;geometry&quot;: {&quot;coordinates&quot;: [-122.709626023646, 45.53162414999999], &quot;type&quot;: &quot;Point&quot;}, &quot;id&quot;: &quot;84&quot;, &quot;properties&quot;: {&quot;__folium_color&quot;: &quot;#2c728e&quot;, &quot;distance&quot;: 10369.059710123938}, &quot;type&quot;: &quot;Feature&quot;}, {&quot;bbox&quot;: [-122.75016054484934, 45.511135450000005, -122.75016054484934, 45.511135450000005], &quot;geometry&quot;: {&quot;coordinates&quot;: [-122.75016054484934, 45.511135450000005], &quot;type&quot;: &quot;Point&quot;}, &quot;id&quot;: &quot;85&quot;, &quot;properties&quot;: {&quot;__folium_color&quot;: &quot;#3c508b&quot;, &quot;distance&quot;: 6858.350351760939}, &quot;type&quot;: &quot;Feature&quot;}, {&quot;bbox&quot;: [-122.81754703800375, 45.509460399999995, -122.81754703800375, 45.509460399999995], &quot;geometry&quot;: {&quot;coordinates&quot;: [-122.81754703800375, 45.509460399999995], &quot;type&quot;: &quot;Point&quot;}, &quot;id&quot;: &quot;86&quot;, &quot;properties&quot;: {&quot;__folium_color&quot;: &quot;#84d44b&quot;, &quot;distance&quot;: 22313.618049862696}, &quot;type&quot;: &quot;Feature&quot;}, {&quot;bbox&quot;: [-122.64797892929293, 45.527838, -122.64797892929293, 45.527838], &quot;geometry&quot;: {&quot;coordinates&quot;: [-122.64797892929293, 45.527838], &quot;type&quot;: &quot;Point&quot;}, &quot;id&quot;: &quot;87&quot;, &quot;properties&quot;: {&quot;__folium_color&quot;: &quot;#453581&quot;, &quot;distance&quot;: 4417.485383831467}, &quot;type&quot;: &quot;Feature&quot;}, {&quot;bbox&quot;: [-122.71929510000001, 45.455103699999995, -122.71929510000001, 45.455103699999995], &quot;geometry&quot;: {&quot;coordinates&quot;: [-122.71929510000001, 45.455103699999995], &quot;type&quot;: &quot;Point&quot;}, &quot;id&quot;: &quot;88&quot;, &quot;properties&quot;: {&quot;__folium_color&quot;: &quot;#471063&quot;, &quot;distance&quot;: 1318.6512474115339}, &quot;type&quot;: &quot;Feature&quot;}, {&quot;bbox&quot;: [-122.62432434559052, 45.52527986949207, -122.62432434559052, 45.52527986949207], &quot;geometry&quot;: {&quot;coordinates&quot;: [-122.62432434559052, 45.52527986949207], &quot;type&quot;: &quot;Point&quot;}, &quot;id&quot;: &quot;89&quot;, &quot;properties&quot;: {&quot;__folium_color&quot;: &quot;#3b518b&quot;, &quot;distance&quot;: 6897.93900402179}, &quot;type&quot;: &quot;Feature&quot;}, {&quot;bbox&quot;: [-122.526536018528, 45.48818217680451, -122.526536018528, 45.48818217680451], &quot;geometry&quot;: {&quot;coordinates&quot;: [-122.526536018528, 45.48818217680451], &quot;type&quot;: &quot;Point&quot;}, &quot;id&quot;: &quot;90&quot;, &quot;properties&quot;: {&quot;__folium_color&quot;: &quot;#443983&quot;, &quot;distance&quot;: 4724.818725077569}, &quot;type&quot;: &quot;Feature&quot;}, {&quot;bbox&quot;: [-122.62216326530613, 45.477106020408165, -122.62216326530613, 45.477106020408165], &quot;geometry&quot;: {&quot;coordinates&quot;: [-122.62216326530613, 45.477106020408165], &quot;type&quot;: &quot;Point&quot;}, &quot;id&quot;: &quot;91&quot;, &quot;properties&quot;: {&quot;__folium_color&quot;: &quot;#470d60&quot;, &quot;distance&quot;: 1159.3986741275312}, &quot;type&quot;: &quot;Feature&quot;}, {&quot;bbox&quot;: [-122.6771088877551, 45.542172540816324, -122.6771088877551, 45.542172540816324], &quot;geometry&quot;: {&quot;coordinates&quot;: [-122.6771088877551, 45.542172540816324], &quot;type&quot;: &quot;Point&quot;}, &quot;id&quot;: &quot;92&quot;, &quot;properties&quot;: {&quot;__folium_color&quot;: &quot;#471365&quot;, &quot;distance&quot;: 1520.5424057416442}, &quot;type&quot;: &quot;Feature&quot;}, {&quot;bbox&quot;: [-122.73396218192461, 45.44446760506347, -122.73396218192461, 45.44446760506347], &quot;geometry&quot;: {&quot;coordinates&quot;: [-122.73396218192461, 45.44446760506347], &quot;type&quot;: &quot;Point&quot;}, &quot;id&quot;: &quot;93&quot;, &quot;properties&quot;: {&quot;__folium_color&quot;: &quot;#2e6d8e&quot;, &quot;distance&quot;: 9759.72181412778}, &quot;type&quot;: &quot;Feature&quot;}, {&quot;bbox&quot;: [-122.60183482500915, 45.504981900000004, -122.60183482500915, 45.504981900000004], &quot;geometry&quot;: {&quot;coordinates&quot;: [-122.60183482500915, 45.504981900000004], &quot;type&quot;: &quot;Point&quot;}, &quot;id&quot;: &quot;94&quot;, &quot;properties&quot;: {&quot;__folium_color&quot;: &quot;#463480&quot;, &quot;distance&quot;: 4280.639747387077}, &quot;type&quot;: &quot;Feature&quot;}, {&quot;bbox&quot;: [-122.7813813, 45.486840099999995, -122.7813813, 45.486840099999995], &quot;geometry&quot;: {&quot;coordinates&quot;: [-122.7813813, 45.486840099999995], &quot;type&quot;: &quot;Point&quot;}, &quot;id&quot;: &quot;96&quot;, &quot;properties&quot;: {&quot;__folium_color&quot;: &quot;#26818e&quot;, &quot;distance&quot;: 11964.646343950195}, &quot;type&quot;: &quot;Feature&quot;}, {&quot;bbox&quot;: [-122.7102110733639, 45.42375005, -122.7102110733639, 45.42375005], &quot;geometry&quot;: {&quot;coordinates&quot;: [-122.7102110733639, 45.42375005], &quot;type&quot;: &quot;Point&quot;}, &quot;id&quot;: &quot;97&quot;, &quot;properties&quot;: {&quot;__folium_color&quot;: &quot;#2eb37c&quot;, &quot;distance&quot;: 17758.598233282017}, &quot;type&quot;: &quot;Feature&quot;}, {&quot;bbox&quot;: [-122.53711172458642, 45.53553755, -122.53711172458642, 45.53553755], &quot;geometry&quot;: {&quot;coordinates&quot;: [-122.53711172458642, 45.53553755], &quot;type&quot;: &quot;Point&quot;}, &quot;id&quot;: &quot;98&quot;, &quot;properties&quot;: {&quot;__folium_color&quot;: &quot;#2d708e&quot;, &quot;distance&quot;: 10054.755697718869}, &quot;type&quot;: &quot;Feature&quot;}, {&quot;bbox&quot;: [-122.67828061224492, 45.514302510204075, -122.67828061224492, 45.514302510204075], &quot;geometry&quot;: {&quot;coordinates&quot;: [-122.67828061224492, 45.514302510204075], &quot;type&quot;: &quot;Point&quot;}, &quot;id&quot;: &quot;99&quot;, &quot;properties&quot;: {&quot;__folium_color&quot;: &quot;#470d60&quot;, &quot;distance&quot;: 1125.684418733003}, &quot;type&quot;: &quot;Feature&quot;}, {&quot;bbox&quot;: [-122.6990406184146, 45.602099900000006, -122.6990406184146, 45.602099900000006], &quot;geometry&quot;: {&quot;coordinates&quot;: [-122.6990406184146, 45.602099900000006], &quot;type&quot;: &quot;Point&quot;}, &quot;id&quot;: &quot;100&quot;, &quot;properties&quot;: {&quot;__folium_color&quot;: &quot;#482979&quot;, &quot;distance&quot;: 3373.4035831865654}, &quot;type&quot;: &quot;Feature&quot;}, {&quot;bbox&quot;: [-122.67191215022353, 45.5821754, -122.67191215022353, 45.5821754], &quot;geometry&quot;: {&quot;coordinates&quot;: [-122.67191215022353, 45.5821754], &quot;type&quot;: &quot;Point&quot;}, &quot;id&quot;: &quot;101&quot;, &quot;properties&quot;: {&quot;__folium_color&quot;: &quot;#3d4e8a&quot;, &quot;distance&quot;: 6584.512640988658}, &quot;type&quot;: &quot;Feature&quot;}, {&quot;bbox&quot;: [-122.643558, 45.644619999999996, -122.643558, 45.644619999999996], &quot;geometry&quot;: {&quot;coordinates&quot;: [-122.643558, 45.644619999999996], &quot;type&quot;: &quot;Point&quot;}, &quot;id&quot;: &quot;102&quot;, &quot;properties&quot;: {&quot;__folium_color&quot;: &quot;#38b977&quot;, &quot;distance&quot;: 18452.903895935946}, &quot;type&quot;: &quot;Feature&quot;}, {&quot;bbox&quot;: [-122.57754400000002, 45.50239940000001, -122.57754400000002, 45.50239940000001], &quot;geometry&quot;: {&quot;coordinates&quot;: [-122.57754400000002, 45.50239940000001], &quot;type&quot;: &quot;Point&quot;}, &quot;id&quot;: &quot;103&quot;, &quot;properties&quot;: {&quot;__folium_color&quot;: &quot;#48186a&quot;, &quot;distance&quot;: 1951.2555985212143}, &quot;type&quot;: &quot;Feature&quot;}, {&quot;bbox&quot;: [-122.70124969524315, 45.529523299999994, -122.70124969524315, 45.529523299999994], &quot;geometry&quot;: {&quot;coordinates&quot;: [-122.70124969524315, 45.529523299999994], &quot;type&quot;: &quot;Point&quot;}, &quot;id&quot;: &quot;104&quot;, &quot;properties&quot;: {&quot;__folium_color&quot;: &quot;#3e4989&quot;, &quot;distance&quot;: 6192.457411132675}, &quot;type&quot;: &quot;Feature&quot;}, {&quot;bbox&quot;: [-122.54240468421051, 45.49457884210526, -122.54240468421051, 45.49457884210526], &quot;geometry&quot;: {&quot;coordinates&quot;: [-122.54240468421051, 45.49457884210526], &quot;type&quot;: &quot;Point&quot;}, &quot;id&quot;: &quot;105&quot;, &quot;properties&quot;: {&quot;__folium_color&quot;: &quot;#306a8e&quot;, &quot;distance&quot;: 9520.746051376665}, &quot;type&quot;: &quot;Feature&quot;}, {&quot;bbox&quot;: [-122.69217944730745, 45.4819817, -122.69217944730745, 45.4819817], &quot;geometry&quot;: {&quot;coordinates&quot;: [-122.69217944730745, 45.4819817], &quot;type&quot;: &quot;Point&quot;}, &quot;id&quot;: &quot;106&quot;, &quot;properties&quot;: {&quot;__folium_color&quot;: &quot;#34618d&quot;, &quot;distance&quot;: 8510.502261107713}, &quot;type&quot;: &quot;Feature&quot;}, {&quot;bbox&quot;: [-122.66716479583724, 45.568283949999994, -122.66716479583724, 45.568283949999994], &quot;geometry&quot;: {&quot;coordinates&quot;: [-122.66716479583724, 45.568283949999994], &quot;type&quot;: &quot;Point&quot;}, &quot;id&quot;: &quot;107&quot;, &quot;properties&quot;: {&quot;__folium_color&quot;: &quot;#460b5e&quot;, &quot;distance&quot;: 1046.3594812924186}, &quot;type&quot;: &quot;Feature&quot;}, {&quot;bbox&quot;: [-122.65953266704345, 45.51063639999999, -122.65953266704345, 45.51063639999999], &quot;geometry&quot;: {&quot;coordinates&quot;: [-122.65953266704345, 45.51063639999999], &quot;type&quot;: &quot;Point&quot;}, &quot;id&quot;: &quot;108&quot;, &quot;properties&quot;: {&quot;__folium_color&quot;: &quot;#3e4989&quot;, &quot;distance&quot;: 6212.365901907049}, &quot;type&quot;: &quot;Feature&quot;}, {&quot;bbox&quot;: [-122.71026493521646, 45.418070050000004, -122.71026493521646, 45.418070050000004], &quot;geometry&quot;: {&quot;coordinates&quot;: [-122.71026493521646, 45.418070050000004], &quot;type&quot;: &quot;Point&quot;}, &quot;id&quot;: &quot;110&quot;, &quot;properties&quot;: {&quot;__folium_color&quot;: &quot;#433d84&quot;, &quot;distance&quot;: 5040.282886770655}, &quot;type&quot;: &quot;Feature&quot;}, {&quot;bbox&quot;: [-122.57433819603358, 45.50514970869168, -122.57433819603358, 45.50514970869168], &quot;geometry&quot;: {&quot;coordinates&quot;: [-122.57433819603358, 45.50514970869168], &quot;type&quot;: &quot;Point&quot;}, &quot;id&quot;: &quot;111&quot;, &quot;properties&quot;: {&quot;__folium_color&quot;: &quot;#453581&quot;, &quot;distance&quot;: 4396.1518273311685}, &quot;type&quot;: &quot;Feature&quot;}, {&quot;bbox&quot;: [-122.55078954999999, 45.6154195, -122.55078954999999, 45.6154195], &quot;geometry&quot;: {&quot;coordinates&quot;: [-122.55078954999999, 45.6154195], &quot;type&quot;: &quot;Point&quot;}, &quot;id&quot;: &quot;112&quot;, &quot;properties&quot;: {&quot;__folium_color&quot;: &quot;#2b758e&quot;, &quot;distance&quot;: 10697.584643331094}, &quot;type&quot;: &quot;Feature&quot;}, {&quot;bbox&quot;: [-122.715099823073, 45.496639699999996, -122.715099823073, 45.496639699999996], &quot;geometry&quot;: {&quot;coordinates&quot;: [-122.715099823073, 45.496639699999996], &quot;type&quot;: &quot;Point&quot;}, &quot;id&quot;: &quot;113&quot;, &quot;properties&quot;: {&quot;__folium_color&quot;: &quot;#472c7a&quot;, &quot;distance&quot;: 3548.6917709358686}, &quot;type&quot;: &quot;Feature&quot;}, {&quot;bbox&quot;: [-122.60515942541751, 45.52411879999999, -122.60515942541751, 45.52411879999999], &quot;geometry&quot;: {&quot;coordinates&quot;: [-122.60515942541751, 45.52411879999999], &quot;type&quot;: &quot;Point&quot;}, &quot;id&quot;: &quot;114&quot;, &quot;properties&quot;: {&quot;__folium_color&quot;: &quot;#3b528b&quot;, &quot;distance&quot;: 7040.102434456114}, &quot;type&quot;: &quot;Feature&quot;}, {&quot;bbox&quot;: [-122.66737097986159, 45.44164575, -122.66737097986159, 45.44164575], &quot;geometry&quot;: {&quot;coordinates&quot;: [-122.66737097986159, 45.44164575], &quot;type&quot;: &quot;Point&quot;}, &quot;id&quot;: &quot;115&quot;, &quot;properties&quot;: {&quot;__folium_color&quot;: &quot;#24878e&quot;, &quot;distance&quot;: 12703.076795300189}, &quot;type&quot;: &quot;Feature&quot;}, {&quot;bbox&quot;: [-122.64512495, 45.471001, -122.64512495, 45.471001], &quot;geometry&quot;: {&quot;coordinates&quot;: [-122.64512495, 45.471001], &quot;type&quot;: &quot;Point&quot;}, &quot;id&quot;: &quot;116&quot;, &quot;properties&quot;: {&quot;__folium_color&quot;: &quot;#460b5e&quot;, &quot;distance&quot;: 1002.8913476975665}, &quot;type&quot;: &quot;Feature&quot;}, {&quot;bbox&quot;: [-122.75749372931804, 45.50100975, -122.75749372931804, 45.50100975], &quot;geometry&quot;: {&quot;coordinates&quot;: [-122.75749372931804, 45.50100975], &quot;type&quot;: &quot;Point&quot;}, &quot;id&quot;: &quot;117&quot;, &quot;properties&quot;: {&quot;__folium_color&quot;: &quot;#375a8c&quot;, &quot;distance&quot;: 7818.513826449609}, &quot;type&quot;: &quot;Feature&quot;}, {&quot;bbox&quot;: [-122.78352342687477, 45.53100109999999, -122.78352342687477, 45.53100109999999], &quot;geometry&quot;: {&quot;coordinates&quot;: [-122.78352342687477, 45.53100109999999], &quot;type&quot;: &quot;Point&quot;}, &quot;id&quot;: &quot;118&quot;, &quot;properties&quot;: {&quot;__folium_color&quot;: &quot;#2d708e&quot;, &quot;distance&quot;: 10058.072056248147}, &quot;type&quot;: &quot;Feature&quot;}, {&quot;bbox&quot;: [-122.62841436656193, 45.53726465, -122.62841436656193, 45.53726465], &quot;geometry&quot;: {&quot;coordinates&quot;: [-122.62841436656193, 45.53726465], &quot;type&quot;: &quot;Point&quot;}, &quot;id&quot;: &quot;119&quot;, &quot;properties&quot;: {&quot;__folium_color&quot;: &quot;#46085c&quot;, &quot;distance&quot;: 808.115193443009}, &quot;type&quot;: &quot;Feature&quot;}, {&quot;bbox&quot;: [-122.57241756321127, 45.549756099999996, -122.57241756321127, 45.549756099999996], &quot;geometry&quot;: {&quot;coordinates&quot;: [-122.57241756321127, 45.549756099999996], &quot;type&quot;: &quot;Point&quot;}, &quot;id&quot;: &quot;120&quot;, &quot;properties&quot;: {&quot;__folium_color&quot;: &quot;#218e8d&quot;, &quot;distance&quot;: 13514.249841599893}, &quot;type&quot;: &quot;Feature&quot;}, {&quot;bbox&quot;: [-122.70400231395183, 45.64334355, -122.70400231395183, 45.64334355], &quot;geometry&quot;: {&quot;coordinates&quot;: [-122.70400231395183, 45.64334355], &quot;type&quot;: &quot;Point&quot;}, &quot;id&quot;: &quot;122&quot;, &quot;properties&quot;: {&quot;__folium_color&quot;: &quot;#2e6d8e&quot;, &quot;distance&quot;: 9829.676532409083}, &quot;type&quot;: &quot;Feature&quot;}, {&quot;bbox&quot;: [-122.65178158145218, 45.50019969999999, -122.65178158145218, 45.50019969999999], &quot;geometry&quot;: {&quot;coordinates&quot;: [-122.65178158145218, 45.50019969999999], &quot;type&quot;: &quot;Point&quot;}, &quot;id&quot;: &quot;123&quot;, &quot;properties&quot;: {&quot;__folium_color&quot;: &quot;#443a83&quot;, &quot;distance&quot;: 4825.291844304582}, &quot;type&quot;: &quot;Feature&quot;}, {&quot;bbox&quot;: [-122.67989932650634, 45.501282198864146, -122.67989932650634, 45.501282198864146], &quot;geometry&quot;: {&quot;coordinates&quot;: [-122.67989932650634, 45.501282198864146], &quot;type&quot;: &quot;Point&quot;}, &quot;id&quot;: &quot;124&quot;, &quot;properties&quot;: {&quot;__folium_color&quot;: &quot;#482475&quot;, &quot;distance&quot;: 2908.016914558507}, &quot;type&quot;: &quot;Feature&quot;}, {&quot;bbox&quot;: [-122.54213631260154, 45.53970055, -122.54213631260154, 45.53970055], &quot;geometry&quot;: {&quot;coordinates&quot;: [-122.54213631260154, 45.53970055], &quot;type&quot;: &quot;Point&quot;}, &quot;id&quot;: &quot;125&quot;, &quot;properties&quot;: {&quot;__folium_color&quot;: &quot;#2e6d8e&quot;, &quot;distance&quot;: 9770.130052863198}, &quot;type&quot;: &quot;Feature&quot;}, {&quot;bbox&quot;: [-122.702251825, 45.52489484999999, -122.702251825, 45.52489484999999], &quot;geometry&quot;: {&quot;coordinates&quot;: [-122.702251825, 45.52489484999999], &quot;type&quot;: &quot;Point&quot;}, &quot;id&quot;: &quot;126&quot;, &quot;properties&quot;: {&quot;__folium_color&quot;: &quot;#3b518b&quot;, &quot;distance&quot;: 6880.27741731579}, &quot;type&quot;: &quot;Feature&quot;}, {&quot;bbox&quot;: [-122.62939150016824, 45.51998235000001, -122.62939150016824, 45.51998235000001], &quot;geometry&quot;: {&quot;coordinates&quot;: [-122.62939150016824, 45.51998235000001], &quot;type&quot;: &quot;Point&quot;}, &quot;id&quot;: &quot;127&quot;, &quot;properties&quot;: {&quot;__folium_color&quot;: &quot;#3c508b&quot;, &quot;distance&quot;: 6786.508775066537}, &quot;type&quot;: &quot;Feature&quot;}, {&quot;bbox&quot;: [-122.71897264007323, 45.4524725, -122.71897264007323, 45.4524725], &quot;geometry&quot;: {&quot;coordinates&quot;: [-122.71897264007323, 45.4524725], &quot;type&quot;: &quot;Point&quot;}, &quot;id&quot;: &quot;128&quot;, &quot;properties&quot;: {&quot;__folium_color&quot;: &quot;#460b5e&quot;, &quot;distance&quot;: 1011.3023292209489}, &quot;type&quot;: &quot;Feature&quot;}, {&quot;bbox&quot;: [-122.51795195000001, 45.49304865, -122.51795195000001, 45.49304865], &quot;geometry&quot;: {&quot;coordinates&quot;: [-122.51795195000001, 45.49304865], &quot;type&quot;: &quot;Point&quot;}, &quot;id&quot;: &quot;129&quot;, &quot;properties&quot;: {&quot;__folium_color&quot;: &quot;#2b758e&quot;, &quot;distance&quot;: 10715.814146368843}, &quot;type&quot;: &quot;Feature&quot;}, {&quot;bbox&quot;: [-122.5738601805092, 45.562764756988614, -122.5738601805092, 45.562764756988614], &quot;geometry&quot;: {&quot;coordinates&quot;: [-122.5738601805092, 45.562764756988614], &quot;type&quot;: &quot;Point&quot;}, &quot;id&quot;: &quot;130&quot;, &quot;properties&quot;: {&quot;__folium_color&quot;: &quot;#355f8d&quot;, &quot;distance&quot;: 8309.70694212548}, &quot;type&quot;: &quot;Feature&quot;}, {&quot;bbox&quot;: [-122.63798343434344, 45.54219372727272, -122.63798343434344, 45.54219372727272], &quot;geometry&quot;: {&quot;coordinates&quot;: [-122.63798343434344, 45.54219372727272], &quot;type&quot;: &quot;Point&quot;}, &quot;id&quot;: &quot;131&quot;, &quot;properties&quot;: {&quot;__folium_color&quot;: &quot;#443b84&quot;, &quot;distance&quot;: 4932.549953108166}, &quot;type&quot;: &quot;Feature&quot;}, {&quot;bbox&quot;: [-122.5337223, 45.61768949999999, -122.5337223, 45.61768949999999], &quot;geometry&quot;: {&quot;coordinates&quot;: [-122.5337223, 45.61768949999999], &quot;type&quot;: &quot;Point&quot;}, &quot;id&quot;: &quot;132&quot;, &quot;properties&quot;: {&quot;__folium_color&quot;: &quot;#31b57b&quot;, &quot;distance&quot;: 17885.84829133693}, &quot;type&quot;: &quot;Feature&quot;}, {&quot;bbox&quot;: [-122.63816269999998, 45.50792035, -122.63816269999998, 45.50792035], &quot;geometry&quot;: {&quot;coordinates&quot;: [-122.63816269999998, 45.50792035], &quot;type&quot;: &quot;Point&quot;}, &quot;id&quot;: &quot;133&quot;, &quot;properties&quot;: {&quot;__folium_color&quot;: &quot;#481a6c&quot;, &quot;distance&quot;: 2081.8753880041368}, &quot;type&quot;: &quot;Feature&quot;}, {&quot;bbox&quot;: [-122.72250448595751, 45.46157695, -122.72250448595751, 45.46157695], &quot;geometry&quot;: {&quot;coordinates&quot;: [-122.72250448595751, 45.46157695], &quot;type&quot;: &quot;Point&quot;}, &quot;id&quot;: &quot;134&quot;, &quot;properties&quot;: {&quot;__folium_color&quot;: &quot;#463480&quot;, &quot;distance&quot;: 4290.2552995713895}, &quot;type&quot;: &quot;Feature&quot;}, {&quot;bbox&quot;: [-122.66350767346941, 45.513067408163266, -122.66350767346941, 45.513067408163266], &quot;geometry&quot;: {&quot;coordinates&quot;: [-122.66350767346941, 45.513067408163266], &quot;type&quot;: &quot;Point&quot;}, &quot;id&quot;: &quot;135&quot;, &quot;properties&quot;: {&quot;__folium_color&quot;: &quot;#2a788e&quot;, &quot;distance&quot;: 11013.107226436585}, &quot;type&quot;: &quot;Feature&quot;}, {&quot;bbox&quot;: [-122.60592261872215, 45.493723800000005, -122.60592261872215, 45.493723800000005], &quot;geometry&quot;: {&quot;coordinates&quot;: [-122.60592261872215, 45.493723800000005], &quot;type&quot;: &quot;Point&quot;}, &quot;id&quot;: &quot;136&quot;, &quot;properties&quot;: {&quot;__folium_color&quot;: &quot;#482173&quot;, &quot;distance&quot;: 2694.036659494764}, &quot;type&quot;: &quot;Feature&quot;}, {&quot;bbox&quot;: [-122.63036402954543, 45.48092534999999, -122.63036402954543, 45.48092534999999], &quot;geometry&quot;: {&quot;coordinates&quot;: [-122.63036402954543, 45.48092534999999], &quot;type&quot;: &quot;Point&quot;}, &quot;id&quot;: &quot;137&quot;, &quot;properties&quot;: {&quot;__folium_color&quot;: &quot;#414287&quot;, &quot;distance&quot;: 5520.733123340348}, &quot;type&quot;: &quot;Feature&quot;}, {&quot;bbox&quot;: [-122.53638808721666, 45.51022224999999, -122.53638808721666, 45.51022224999999], &quot;geometry&quot;: {&quot;coordinates&quot;: [-122.53638808721666, 45.51022224999999], &quot;type&quot;: &quot;Point&quot;}, &quot;id&quot;: &quot;138&quot;, &quot;properties&quot;: {&quot;__folium_color&quot;: &quot;#3f4788&quot;, &quot;distance&quot;: 5976.48983770809}, &quot;type&quot;: &quot;Feature&quot;}, {&quot;bbox&quot;: [-122.62563998616666, 45.642222, -122.62563998616666, 45.642222], &quot;geometry&quot;: {&quot;coordinates&quot;: [-122.62563998616666, 45.642222], &quot;type&quot;: &quot;Point&quot;}, &quot;id&quot;: &quot;139&quot;, &quot;properties&quot;: {&quot;__folium_color&quot;: &quot;#287d8e&quot;, &quot;distance&quot;: 11629.476908951687}, &quot;type&quot;: &quot;Feature&quot;}, {&quot;bbox&quot;: [-122.64898016326529, 45.496826653061234, -122.64898016326529, 45.496826653061234], &quot;geometry&quot;: {&quot;coordinates&quot;: [-122.64898016326529, 45.496826653061234], &quot;type&quot;: &quot;Point&quot;}, &quot;id&quot;: &quot;140&quot;, &quot;properties&quot;: {&quot;__folium_color&quot;: &quot;#3a538b&quot;, &quot;distance&quot;: 7183.139659904917}, &quot;type&quot;: &quot;Feature&quot;}, {&quot;bbox&quot;: [-122.64337359999998, 45.4617536, -122.64337359999998, 45.4617536], &quot;geometry&quot;: {&quot;coordinates&quot;: [-122.64337359999998, 45.4617536], &quot;type&quot;: &quot;Point&quot;}, &quot;id&quot;: &quot;141&quot;, &quot;properties&quot;: {&quot;__folium_color&quot;: &quot;#453581&quot;, &quot;distance&quot;: 4428.770045296195}, &quot;type&quot;: &quot;Feature&quot;}, {&quot;bbox&quot;: [-122.65729079473556, 45.50352289999999, -122.65729079473556, 45.50352289999999], &quot;geometry&quot;: {&quot;coordinates&quot;: [-122.65729079473556, 45.50352289999999], &quot;type&quot;: &quot;Point&quot;}, &quot;id&quot;: &quot;142&quot;, &quot;properties&quot;: {&quot;__folium_color&quot;: &quot;#306a8e&quot;, &quot;distance&quot;: 9499.099866669}, &quot;type&quot;: &quot;Feature&quot;}, {&quot;bbox&quot;: [-122.59643399056604, 45.572704249999994, -122.59643399056604, 45.572704249999994], &quot;geometry&quot;: {&quot;coordinates&quot;: [-122.59643399056604, 45.572704249999994], &quot;type&quot;: &quot;Point&quot;}, &quot;id&quot;: &quot;143&quot;, &quot;properties&quot;: {&quot;__folium_color&quot;: &quot;#2a778e&quot;, &quot;distance&quot;: 10990.49446937858}, &quot;type&quot;: &quot;Feature&quot;}, {&quot;bbox&quot;: [-122.5682170891446, 45.447170650000004, -122.5682170891446, 45.447170650000004], &quot;geometry&quot;: {&quot;coordinates&quot;: [-122.5682170891446, 45.447170650000004], &quot;type&quot;: &quot;Point&quot;}, &quot;id&quot;: &quot;145&quot;, &quot;properties&quot;: {&quot;__folium_color&quot;: &quot;#3b528b&quot;, &quot;distance&quot;: 7057.468629184671}, &quot;type&quot;: &quot;Feature&quot;}, {&quot;bbox&quot;: [-122.69411542646654, 45.48693869999999, -122.69411542646654, 45.48693869999999], &quot;geometry&quot;: {&quot;coordinates&quot;: [-122.69411542646654, 45.48693869999999], &quot;type&quot;: &quot;Point&quot;}, &quot;id&quot;: &quot;146&quot;, &quot;properties&quot;: {&quot;__folium_color&quot;: &quot;#31688e&quot;, &quot;distance&quot;: 9265.522103652796}, &quot;type&quot;: &quot;Feature&quot;}, {&quot;bbox&quot;: [-122.63639575011051, 45.51686840000001, -122.63639575011051, 45.51686840000001], &quot;geometry&quot;: {&quot;coordinates&quot;: [-122.63639575011051, 45.51686840000001], &quot;type&quot;: &quot;Point&quot;}, &quot;id&quot;: &quot;147&quot;, &quot;properties&quot;: {&quot;__folium_color&quot;: &quot;#472e7c&quot;, &quot;distance&quot;: 3708.321139570615}, &quot;type&quot;: &quot;Feature&quot;}, {&quot;bbox&quot;: [-122.63268575, 45.5141075, -122.63268575, 45.5141075], &quot;geometry&quot;: {&quot;coordinates&quot;: [-122.63268575, 45.5141075], &quot;type&quot;: &quot;Point&quot;}, &quot;id&quot;: &quot;148&quot;, &quot;properties&quot;: {&quot;__folium_color&quot;: &quot;#470d60&quot;, &quot;distance&quot;: 1129.4518874142757}, &quot;type&quot;: &quot;Feature&quot;}, {&quot;bbox&quot;: [-122.6152969768773, 45.5217368, -122.6152969768773, 45.5217368], &quot;geometry&quot;: {&quot;coordinates&quot;: [-122.6152969768773, 45.5217368], &quot;type&quot;: &quot;Point&quot;}, &quot;id&quot;: &quot;149&quot;, &quot;properties&quot;: {&quot;__folium_color&quot;: &quot;#3f4788&quot;, &quot;distance&quot;: 5950.666803208636}, &quot;type&quot;: &quot;Feature&quot;}, {&quot;bbox&quot;: [-122.61819514937194, 45.53948189999999, -122.61819514937194, 45.53948189999999], &quot;geometry&quot;: {&quot;coordinates&quot;: [-122.61819514937194, 45.53948189999999], &quot;type&quot;: &quot;Point&quot;}, &quot;id&quot;: &quot;150&quot;, &quot;properties&quot;: {&quot;__folium_color&quot;: &quot;#472f7d&quot;, &quot;distance&quot;: 3879.93284979377}, &quot;type&quot;: &quot;Feature&quot;}, {&quot;bbox&quot;: [-122.59144392491132, 45.55323665, -122.59144392491132, 45.55323665], &quot;geometry&quot;: {&quot;coordinates&quot;: [-122.59144392491132, 45.55323665], &quot;type&quot;: &quot;Point&quot;}, &quot;id&quot;: &quot;151&quot;, &quot;properties&quot;: {&quot;__folium_color&quot;: &quot;#355f8d&quot;, &quot;distance&quot;: 8272.461347236653}, &quot;type&quot;: &quot;Feature&quot;}, {&quot;bbox&quot;: [-122.71816229993813, 45.4804354, -122.71816229993813, 45.4804354], &quot;geometry&quot;: {&quot;coordinates&quot;: [-122.71816229993813, 45.4804354], &quot;type&quot;: &quot;Point&quot;}, &quot;id&quot;: &quot;152&quot;, &quot;properties&quot;: {&quot;__folium_color&quot;: &quot;#3a538b&quot;, &quot;distance&quot;: 7131.016484055691}, &quot;type&quot;: &quot;Feature&quot;}, {&quot;bbox&quot;: [-122.61415845, 45.485987550000004, -122.61415845, 45.485987550000004], &quot;geometry&quot;: {&quot;coordinates&quot;: [-122.61415845, 45.485987550000004], &quot;type&quot;: &quot;Point&quot;}, &quot;id&quot;: &quot;153&quot;, &quot;properties&quot;: {&quot;__folium_color&quot;: &quot;#470d60&quot;, &quot;distance&quot;: 1131.9141506789342}, &quot;type&quot;: &quot;Feature&quot;}, {&quot;bbox&quot;: [-122.62262905970564, 45.52405605, -122.62262905970564, 45.52405605], &quot;geometry&quot;: {&quot;coordinates&quot;: [-122.62262905970564, 45.52405605], &quot;type&quot;: &quot;Point&quot;}, &quot;id&quot;: &quot;154&quot;, &quot;properties&quot;: {&quot;__folium_color&quot;: &quot;#424086&quot;, &quot;distance&quot;: 5303.719163214458}, &quot;type&quot;: &quot;Feature&quot;}, {&quot;bbox&quot;: [-122.57630842857141, 45.53602985714286, -122.57630842857141, 45.53602985714286], &quot;geometry&quot;: {&quot;coordinates&quot;: [-122.57630842857141, 45.53602985714286], &quot;type&quot;: &quot;Point&quot;}, &quot;id&quot;: &quot;155&quot;, &quot;properties&quot;: {&quot;__folium_color&quot;: &quot;#33628d&quot;, &quot;distance&quot;: 8627.225524282712}, &quot;type&quot;: &quot;Feature&quot;}, {&quot;bbox&quot;: [-122.51520340150944, 45.53417164999999, -122.51520340150944, 45.53417164999999], &quot;geometry&quot;: {&quot;coordinates&quot;: [-122.51520340150944, 45.53417164999999], &quot;type&quot;: &quot;Point&quot;}, &quot;id&quot;: &quot;156&quot;, &quot;properties&quot;: {&quot;__folium_color&quot;: &quot;#375b8d&quot;, &quot;distance&quot;: 7867.225939962711}, &quot;type&quot;: &quot;Feature&quot;}, {&quot;bbox&quot;: [-122.73595269747307, 45.46183504999999, -122.73595269747307, 45.46183504999999], &quot;geometry&quot;: {&quot;coordinates&quot;: [-122.73595269747307, 45.46183504999999], &quot;type&quot;: &quot;Point&quot;}, &quot;id&quot;: &quot;157&quot;, &quot;properties&quot;: {&quot;__folium_color&quot;: &quot;#424186&quot;, &quot;distance&quot;: 5466.573609997448}, &quot;type&quot;: &quot;Feature&quot;}, {&quot;bbox&quot;: [-122.55726890548323, 45.453683399999996, -122.55726890548323, 45.453683399999996], &quot;geometry&quot;: {&quot;coordinates&quot;: [-122.55726890548323, 45.453683399999996], &quot;type&quot;: &quot;Point&quot;}, &quot;id&quot;: &quot;158&quot;, &quot;properties&quot;: {&quot;__folium_color&quot;: &quot;#2a768e&quot;, &quot;distance&quot;: 10856.555727622133}, &quot;type&quot;: &quot;Feature&quot;}, {&quot;bbox&quot;: [-122.76849297455607, 45.61447895, -122.76849297455607, 45.61447895], &quot;geometry&quot;: {&quot;coordinates&quot;: [-122.76849297455607, 45.61447895], &quot;type&quot;: &quot;Point&quot;}, &quot;id&quot;: &quot;159&quot;, &quot;properties&quot;: {&quot;__folium_color&quot;: &quot;#453581&quot;, &quot;distance&quot;: 4346.773164209111}, &quot;type&quot;: &quot;Feature&quot;}, {&quot;bbox&quot;: [-122.5318984, 45.51385319999999, -122.5318984, 45.51385319999999], &quot;geometry&quot;: {&quot;coordinates&quot;: [-122.5318984, 45.51385319999999], &quot;type&quot;: &quot;Point&quot;}, &quot;id&quot;: &quot;160&quot;, &quot;properties&quot;: {&quot;__folium_color&quot;: &quot;#3c4f8a&quot;, &quot;distance&quot;: 6708.075220405428}, &quot;type&quot;: &quot;Feature&quot;}, {&quot;bbox&quot;: [-122.53972079999998, 45.4727685, -122.53972079999998, 45.4727685], &quot;geometry&quot;: {&quot;coordinates&quot;: [-122.53972079999998, 45.4727685], &quot;type&quot;: &quot;Point&quot;}, &quot;id&quot;: &quot;161&quot;, &quot;properties&quot;: {&quot;__folium_color&quot;: &quot;#365d8d&quot;, &quot;distance&quot;: 8118.5373082949955}, &quot;type&quot;: &quot;Feature&quot;}, {&quot;bbox&quot;: [-122.5478923925926, 45.50541717037037, -122.5478923925926, 45.50541717037037], &quot;geometry&quot;: {&quot;coordinates&quot;: [-122.5478923925926, 45.50541717037037], &quot;type&quot;: &quot;Point&quot;}, &quot;id&quot;: &quot;162&quot;, &quot;properties&quot;: {&quot;__folium_color&quot;: &quot;#2f6c8e&quot;, &quot;distance&quot;: 9629.955806543132}, &quot;type&quot;: &quot;Feature&quot;}, {&quot;bbox&quot;: [-122.72483692929293, 45.592840080808074, -122.72483692929293, 45.592840080808074], &quot;geometry&quot;: {&quot;coordinates&quot;: [-122.72483692929293, 45.592840080808074], &quot;type&quot;: &quot;Point&quot;}, &quot;id&quot;: &quot;163&quot;, &quot;properties&quot;: {&quot;__folium_color&quot;: &quot;#38598c&quot;, &quot;distance&quot;: 7651.842392569899}, &quot;type&quot;: &quot;Feature&quot;}, {&quot;bbox&quot;: [-122.647674, 45.51707024489796, -122.647674, 45.51707024489796], &quot;geometry&quot;: {&quot;coordinates&quot;: [-122.647674, 45.51707024489796], &quot;type&quot;: &quot;Point&quot;}, &quot;id&quot;: &quot;164&quot;, &quot;properties&quot;: {&quot;__folium_color&quot;: &quot;#453581&quot;, &quot;distance&quot;: 4388.982841323184}, &quot;type&quot;: &quot;Feature&quot;}, {&quot;bbox&quot;: [-122.59806316032429, 45.5739471, -122.59806316032429, 45.5739471], &quot;geometry&quot;: {&quot;coordinates&quot;: [-122.59806316032429, 45.5739471], &quot;type&quot;: &quot;Point&quot;}, &quot;id&quot;: &quot;165&quot;, &quot;properties&quot;: {&quot;__folium_color&quot;: &quot;#3a538b&quot;, &quot;distance&quot;: 7117.037993321057}, &quot;type&quot;: &quot;Feature&quot;}, {&quot;bbox&quot;: [-122.82190178735728, 45.517230850000004, -122.82190178735728, 45.517230850000004], &quot;geometry&quot;: {&quot;coordinates&quot;: [-122.82190178735728, 45.517230850000004], &quot;type&quot;: &quot;Point&quot;}, &quot;id&quot;: &quot;166&quot;, &quot;properties&quot;: {&quot;__folium_color&quot;: &quot;#1e9d89&quot;, &quot;distance&quot;: 15167.71627197341}, &quot;type&quot;: &quot;Feature&quot;}, {&quot;bbox&quot;: [-122.67231477510146, 45.47675099999999, -122.67231477510146, 45.47675099999999], &quot;geometry&quot;: {&quot;coordinates&quot;: [-122.67231477510146, 45.47675099999999], &quot;type&quot;: &quot;Point&quot;}, &quot;id&quot;: &quot;167&quot;, &quot;properties&quot;: {&quot;__folium_color&quot;: &quot;#297a8e&quot;, &quot;distance&quot;: 11221.090205498456}, &quot;type&quot;: &quot;Feature&quot;}, {&quot;bbox&quot;: [-122.58010438378841, 45.5449804, -122.58010438378841, 45.5449804], &quot;geometry&quot;: {&quot;coordinates&quot;: [-122.58010438378841, 45.5449804], &quot;type&quot;: &quot;Point&quot;}, &quot;id&quot;: &quot;168&quot;, &quot;properties&quot;: {&quot;__folium_color&quot;: &quot;#470d60&quot;, &quot;distance&quot;: 1068.658730642525}, &quot;type&quot;: &quot;Feature&quot;}, {&quot;bbox&quot;: [-122.68274012677671, 45.47341944999999, -122.68274012677671, 45.47341944999999], &quot;geometry&quot;: {&quot;coordinates&quot;: [-122.68274012677671, 45.47341944999999], &quot;type&quot;: &quot;Point&quot;}, &quot;id&quot;: &quot;169&quot;, &quot;properties&quot;: {&quot;__folium_color&quot;: &quot;#25838e&quot;, &quot;distance&quot;: 12287.465915473893}, &quot;type&quot;: &quot;Feature&quot;}, {&quot;bbox&quot;: [-122.66747617012471, 45.601188349999994, -122.66747617012471, 45.601188349999994], &quot;geometry&quot;: {&quot;coordinates&quot;: [-122.66747617012471, 45.601188349999994], &quot;type&quot;: &quot;Point&quot;}, &quot;id&quot;: &quot;170&quot;, &quot;properties&quot;: {&quot;__folium_color&quot;: &quot;#306a8e&quot;, &quot;distance&quot;: 9470.063903346005}, &quot;type&quot;: &quot;Feature&quot;}, {&quot;bbox&quot;: [-122.57106007550205, 45.4642408, -122.57106007550205, 45.4642408], &quot;geometry&quot;: {&quot;coordinates&quot;: [-122.57106007550205, 45.4642408], &quot;type&quot;: &quot;Point&quot;}, &quot;id&quot;: &quot;172&quot;, &quot;properties&quot;: {&quot;__folium_color&quot;: &quot;#453581&quot;, &quot;distance&quot;: 4354.612617683497}, &quot;type&quot;: &quot;Feature&quot;}, {&quot;bbox&quot;: [-122.61870565071628, 45.5493059, -122.61870565071628, 45.5493059], &quot;geometry&quot;: {&quot;coordinates&quot;: [-122.61870565071628, 45.5493059], &quot;type&quot;: &quot;Point&quot;}, &quot;id&quot;: &quot;173&quot;, &quot;properties&quot;: {&quot;__folium_color&quot;: &quot;#32648e&quot;, &quot;distance&quot;: 8863.68440852493}, &quot;type&quot;: &quot;Feature&quot;}, {&quot;bbox&quot;: [-122.573858699819, 45.4884127, -122.573858699819, 45.4884127], &quot;geometry&quot;: {&quot;coordinates&quot;: [-122.573858699819, 45.4884127], &quot;type&quot;: &quot;Point&quot;}, &quot;id&quot;: &quot;175&quot;, &quot;properties&quot;: {&quot;__folium_color&quot;: &quot;#2d708e&quot;, &quot;distance&quot;: 10081.147983750676}, &quot;type&quot;: &quot;Feature&quot;}, {&quot;bbox&quot;: [-122.61426517709184, 45.53417815, -122.61426517709184, 45.53417815], &quot;geometry&quot;: {&quot;coordinates&quot;: [-122.61426517709184, 45.53417815], &quot;type&quot;: &quot;Point&quot;}, &quot;id&quot;: &quot;177&quot;, &quot;properties&quot;: {&quot;__folium_color&quot;: &quot;#460a5d&quot;, &quot;distance&quot;: 944.3551009079565}, &quot;type&quot;: &quot;Feature&quot;}, {&quot;bbox&quot;: [-122.59055419999999, 45.5895038, -122.59055419999999, 45.5895038], &quot;geometry&quot;: {&quot;coordinates&quot;: [-122.59055419999999, 45.5895038], &quot;type&quot;: &quot;Point&quot;}, &quot;id&quot;: &quot;178&quot;, &quot;properties&quot;: {&quot;__folium_color&quot;: &quot;#30698e&quot;, &quot;distance&quot;: 9315.93555677196}, &quot;type&quot;: &quot;Feature&quot;}, {&quot;bbox&quot;: [-122.67826762571217, 45.499218400000004, -122.67826762571217, 45.499218400000004], &quot;geometry&quot;: {&quot;coordinates&quot;: [-122.67826762571217, 45.499218400000004], &quot;type&quot;: &quot;Point&quot;}, &quot;id&quot;: &quot;179&quot;, &quot;properties&quot;: {&quot;__folium_color&quot;: &quot;#404588&quot;, &quot;distance&quot;: 5764.000364899428}, &quot;type&quot;: &quot;Feature&quot;}, {&quot;bbox&quot;: [-122.569211825, 45.50008304999999, -122.569211825, 45.50008304999999], &quot;geometry&quot;: {&quot;coordinates&quot;: [-122.569211825, 45.50008304999999], &quot;type&quot;: &quot;Point&quot;}, &quot;id&quot;: &quot;180&quot;, &quot;properties&quot;: {&quot;__folium_color&quot;: &quot;#355f8d&quot;, &quot;distance&quot;: 8303.718890381997}, &quot;type&quot;: &quot;Feature&quot;}, {&quot;bbox&quot;: [-122.70497519999999, 45.556663900000004, -122.70497519999999, 45.556663900000004], &quot;geometry&quot;: {&quot;coordinates&quot;: [-122.70497519999999, 45.556663900000004], &quot;type&quot;: &quot;Point&quot;}, &quot;id&quot;: &quot;181&quot;, &quot;properties&quot;: {&quot;__folium_color&quot;: &quot;#39558c&quot;, &quot;distance&quot;: 7380.771216665302}, &quot;type&quot;: &quot;Feature&quot;}, {&quot;bbox&quot;: [-122.68656299999998, 45.5035993, -122.68656299999998, 45.5035993], &quot;geometry&quot;: {&quot;coordinates&quot;: [-122.68656299999998, 45.5035993], &quot;type&quot;: &quot;Point&quot;}, &quot;id&quot;: &quot;182&quot;, &quot;properties&quot;: {&quot;__folium_color&quot;: &quot;#3d4d8a&quot;, &quot;distance&quot;: 6478.298102092474}, &quot;type&quot;: &quot;Feature&quot;}, {&quot;bbox&quot;: [-122.7533714, 45.4707188, -122.7533714, 45.4707188], &quot;geometry&quot;: {&quot;coordinates&quot;: [-122.7533714, 45.4707188], &quot;type&quot;: &quot;Point&quot;}, &quot;id&quot;: &quot;183&quot;, &quot;properties&quot;: {&quot;__folium_color&quot;: &quot;#2b758e&quot;, &quot;distance&quot;: 10766.173511867724}, &quot;type&quot;: &quot;Feature&quot;}, {&quot;bbox&quot;: [-122.72167702459718, 45.585196049999986, -122.72167702459718, 45.585196049999986], &quot;geometry&quot;: {&quot;coordinates&quot;: [-122.72167702459718, 45.585196049999986], &quot;type&quot;: &quot;Point&quot;}, &quot;id&quot;: &quot;184&quot;, &quot;properties&quot;: {&quot;__folium_color&quot;: &quot;#482979&quot;, &quot;distance&quot;: 3359.5006598169057}, &quot;type&quot;: &quot;Feature&quot;}, {&quot;bbox&quot;: [-122.5861069251565, 45.55653165, -122.5861069251565, 45.55653165], &quot;geometry&quot;: {&quot;coordinates&quot;: [-122.5861069251565, 45.55653165], &quot;type&quot;: &quot;Point&quot;}, &quot;id&quot;: &quot;185&quot;, &quot;properties&quot;: {&quot;__folium_color&quot;: &quot;#460a5d&quot;, &quot;distance&quot;: 941.3111857586612}, &quot;type&quot;: &quot;Feature&quot;}, {&quot;bbox&quot;: [-122.68622297182459, 45.561733950000004, -122.68622297182459, 45.561733950000004], &quot;geometry&quot;: {&quot;coordinates&quot;: [-122.68622297182459, 45.561733950000004], &quot;type&quot;: &quot;Point&quot;}, &quot;id&quot;: &quot;186&quot;, &quot;properties&quot;: {&quot;__folium_color&quot;: &quot;#34618d&quot;, &quot;distance&quot;: 8505.410978276097}, &quot;type&quot;: &quot;Feature&quot;}, {&quot;bbox&quot;: [-122.59796311376721, 45.5071503, -122.59796311376721, 45.5071503], &quot;geometry&quot;: {&quot;coordinates&quot;: [-122.59796311376721, 45.5071503], &quot;type&quot;: &quot;Point&quot;}, &quot;id&quot;: &quot;187&quot;, &quot;properties&quot;: {&quot;__folium_color&quot;: &quot;#424186&quot;, &quot;distance&quot;: 5488.488094998298}, &quot;type&quot;: &quot;Feature&quot;}, {&quot;bbox&quot;: [-122.73693101893242, 45.377883849999996, -122.73693101893242, 45.377883849999996], &quot;geometry&quot;: {&quot;coordinates&quot;: [-122.73693101893242, 45.377883849999996], &quot;type&quot;: &quot;Point&quot;}, &quot;id&quot;: &quot;188&quot;, &quot;properties&quot;: {&quot;__folium_color&quot;: &quot;#29798e&quot;, &quot;distance&quot;: 11192.521343188659}, &quot;type&quot;: &quot;Feature&quot;}, {&quot;bbox&quot;: [-122.65373640843072, 45.50070909999999, -122.65373640843072, 45.50070909999999], &quot;geometry&quot;: {&quot;coordinates&quot;: [-122.65373640843072, 45.50070909999999], &quot;type&quot;: &quot;Point&quot;}, &quot;id&quot;: &quot;189&quot;, &quot;properties&quot;: {&quot;__folium_color&quot;: &quot;#375a8c&quot;, &quot;distance&quot;: 7727.878475207872}, &quot;type&quot;: &quot;Feature&quot;}, {&quot;bbox&quot;: [-122.5257720079988, 45.447484349999996, -122.5257720079988, 45.447484349999996], &quot;geometry&quot;: {&quot;coordinates&quot;: [-122.5257720079988, 45.447484349999996], &quot;type&quot;: &quot;Point&quot;}, &quot;id&quot;: &quot;190&quot;, &quot;properties&quot;: {&quot;__folium_color&quot;: &quot;#31688e&quot;, &quot;distance&quot;: 9279.414556094005}, &quot;type&quot;: &quot;Feature&quot;}, {&quot;bbox&quot;: [-122.54888374292823, 45.44973085, -122.54888374292823, 45.44973085], &quot;geometry&quot;: {&quot;coordinates&quot;: [-122.54888374292823, 45.44973085], &quot;type&quot;: &quot;Point&quot;}, &quot;id&quot;: &quot;191&quot;, &quot;properties&quot;: {&quot;__folium_color&quot;: &quot;#39568c&quot;, &quot;distance&quot;: 7462.381277903402}, &quot;type&quot;: &quot;Feature&quot;}, {&quot;bbox&quot;: [-122.5931502, 45.48112045, -122.5931502, 45.48112045], &quot;geometry&quot;: {&quot;coordinates&quot;: [-122.5931502, 45.48112045], &quot;type&quot;: &quot;Point&quot;}, &quot;id&quot;: &quot;192&quot;, &quot;properties&quot;: {&quot;__folium_color&quot;: &quot;#306a8e&quot;, &quot;distance&quot;: 9502.588597989501}, &quot;type&quot;: &quot;Feature&quot;}, {&quot;bbox&quot;: [-122.51145624997729, 45.53365791354899, -122.51145624997729, 45.53365791354899], &quot;geometry&quot;: {&quot;coordinates&quot;: [-122.51145624997729, 45.53365791354899], &quot;type&quot;: &quot;Point&quot;}, &quot;id&quot;: &quot;193&quot;, &quot;properties&quot;: {&quot;__folium_color&quot;: &quot;#46327e&quot;, &quot;distance&quot;: 4034.60220933606}, &quot;type&quot;: &quot;Feature&quot;}, {&quot;bbox&quot;: [-122.7161962, 45.6157785, -122.7161962, 45.6157785], &quot;geometry&quot;: {&quot;coordinates&quot;: [-122.7161962, 45.6157785], &quot;type&quot;: &quot;Point&quot;}, &quot;id&quot;: &quot;194&quot;, &quot;properties&quot;: {&quot;__folium_color&quot;: &quot;#414487&quot;, &quot;distance&quot;: 5642.055015520639}, &quot;type&quot;: &quot;Feature&quot;}, {&quot;bbox&quot;: [-122.51778166971393, 45.4940357, -122.51778166971393, 45.4940357], &quot;geometry&quot;: {&quot;coordinates&quot;: [-122.51778166971393, 45.4940357], &quot;type&quot;: &quot;Point&quot;}, &quot;id&quot;: &quot;195&quot;, &quot;properties&quot;: {&quot;__folium_color&quot;: &quot;#3a538b&quot;, &quot;distance&quot;: 7186.907836571072}, &quot;type&quot;: &quot;Feature&quot;}, {&quot;bbox&quot;: [-122.69247155506262, 45.5139101051686, -122.69247155506262, 45.5139101051686], &quot;geometry&quot;: {&quot;coordinates&quot;: [-122.69247155506262, 45.5139101051686], &quot;type&quot;: &quot;Point&quot;}, &quot;id&quot;: &quot;196&quot;, &quot;properties&quot;: {&quot;__folium_color&quot;: &quot;#470d60&quot;, &quot;distance&quot;: 1123.233434319557}, &quot;type&quot;: &quot;Feature&quot;}, {&quot;bbox&quot;: [-122.61843205909874, 45.52255920000001, -122.61843205909874, 45.52255920000001], &quot;geometry&quot;: {&quot;coordinates&quot;: [-122.61843205909874, 45.52255920000001], &quot;type&quot;: &quot;Point&quot;}, &quot;id&quot;: &quot;199&quot;, &quot;properties&quot;: {&quot;__folium_color&quot;: &quot;#39568c&quot;, &quot;distance&quot;: 7505.184880747499}, &quot;type&quot;: &quot;Feature&quot;}, {&quot;bbox&quot;: [-122.62229614285714, 45.51295257142857, -122.62229614285714, 45.51295257142857], &quot;geometry&quot;: {&quot;coordinates&quot;: [-122.62229614285714, 45.51295257142857], &quot;type&quot;: &quot;Point&quot;}, &quot;id&quot;: &quot;201&quot;, &quot;properties&quot;: {&quot;__folium_color&quot;: &quot;#404588&quot;, &quot;distance&quot;: 5712.991285003867}, &quot;type&quot;: &quot;Feature&quot;}, {&quot;bbox&quot;: [-122.57205095148876, 45.555945300000005, -122.57205095148876, 45.555945300000005], &quot;geometry&quot;: {&quot;coordinates&quot;: [-122.57205095148876, 45.555945300000005], &quot;type&quot;: &quot;Point&quot;}, &quot;id&quot;: &quot;202&quot;, &quot;properties&quot;: {&quot;__folium_color&quot;: &quot;#470e61&quot;, &quot;distance&quot;: 1237.7547562342631}, &quot;type&quot;: &quot;Feature&quot;}, {&quot;bbox&quot;: [-122.75326173469385, 45.58360926530613, -122.75326173469385, 45.58360926530613], &quot;geometry&quot;: {&quot;coordinates&quot;: [-122.75326173469385, 45.58360926530613], &quot;type&quot;: &quot;Point&quot;}, &quot;id&quot;: &quot;203&quot;, &quot;properties&quot;: {&quot;__folium_color&quot;: &quot;#460b5e&quot;, &quot;distance&quot;: 1051.4562518599857}, &quot;type&quot;: &quot;Feature&quot;}, {&quot;bbox&quot;: [-122.66509775000002, 45.5458771, -122.66509775000002, 45.5458771], &quot;geometry&quot;: {&quot;coordinates&quot;: [-122.66509775000002, 45.5458771], &quot;type&quot;: &quot;Point&quot;}, &quot;id&quot;: &quot;204&quot;, &quot;properties&quot;: {&quot;__folium_color&quot;: &quot;#25858e&quot;, &quot;distance&quot;: 12504.39226516307}, &quot;type&quot;: &quot;Feature&quot;}, {&quot;bbox&quot;: [-122.74708660000002, 45.4848509, -122.74708660000002, 45.4848509], &quot;geometry&quot;: {&quot;coordinates&quot;: [-122.74708660000002, 45.4848509], &quot;type&quot;: &quot;Point&quot;}, &quot;id&quot;: &quot;205&quot;, &quot;properties&quot;: {&quot;__folium_color&quot;: &quot;#33638d&quot;, &quot;distance&quot;: 8740.158018949043}, &quot;type&quot;: &quot;Feature&quot;}, {&quot;bbox&quot;: [-122.62166845401836, 45.53820485, -122.62166845401836, 45.53820485], &quot;geometry&quot;: {&quot;coordinates&quot;: [-122.62166845401836, 45.53820485], &quot;type&quot;: &quot;Point&quot;}, &quot;id&quot;: &quot;206&quot;, &quot;properties&quot;: {&quot;__folium_color&quot;: &quot;#3c4f8a&quot;, &quot;distance&quot;: 6758.905294109369}, &quot;type&quot;: &quot;Feature&quot;}, {&quot;bbox&quot;: [-122.5581934466348, 45.552983999999995, -122.5581934466348, 45.552983999999995], &quot;geometry&quot;: {&quot;coordinates&quot;: [-122.5581934466348, 45.552983999999995], &quot;type&quot;: &quot;Point&quot;}, &quot;id&quot;: &quot;207&quot;, &quot;properties&quot;: {&quot;__folium_color&quot;: &quot;#2c718e&quot;, &quot;distance&quot;: 10272.758012521712}, &quot;type&quot;: &quot;Feature&quot;}, {&quot;bbox&quot;: [-122.59055419999999, 45.5895038, -122.59055419999999, 45.5895038], &quot;geometry&quot;: {&quot;coordinates&quot;: [-122.59055419999999, 45.5895038], &quot;type&quot;: &quot;Point&quot;}, &quot;id&quot;: &quot;208&quot;, &quot;properties&quot;: {&quot;__folium_color&quot;: &quot;#3f4889&quot;, &quot;distance&quot;: 6106.799313327476}, &quot;type&quot;: &quot;Feature&quot;}, {&quot;bbox&quot;: [-122.61225610570568, 45.53142295, -122.61225610570568, 45.53142295], &quot;geometry&quot;: {&quot;coordinates&quot;: [-122.61225610570568, 45.53142295], &quot;type&quot;: &quot;Point&quot;}, &quot;id&quot;: &quot;209&quot;, &quot;properties&quot;: {&quot;__folium_color&quot;: &quot;#423f85&quot;, &quot;distance&quot;: 5208.228297189636}, &quot;type&quot;: &quot;Feature&quot;}, {&quot;bbox&quot;: [-122.52895752244336, 45.5390138, -122.52895752244336, 45.5390138], &quot;geometry&quot;: {&quot;coordinates&quot;: [-122.52895752244336, 45.5390138], &quot;type&quot;: &quot;Point&quot;}, &quot;id&quot;: &quot;210&quot;, &quot;properties&quot;: {&quot;__folium_color&quot;: &quot;#2fb47c&quot;, &quot;distance&quot;: 17844.71499538322}, &quot;type&quot;: &quot;Feature&quot;}, {&quot;bbox&quot;: [-122.6103938, 45.5294793, -122.6103938, 45.5294793], &quot;geometry&quot;: {&quot;coordinates&quot;: [-122.6103938, 45.5294793], &quot;type&quot;: &quot;Point&quot;}, &quot;id&quot;: &quot;211&quot;, &quot;properties&quot;: {&quot;__folium_color&quot;: &quot;#3e4c8a&quot;, &quot;distance&quot;: 6448.669806641315}, &quot;type&quot;: &quot;Feature&quot;}, {&quot;bbox&quot;: [-122.67575096773925, 45.4705458, -122.67575096773925, 45.4705458], &quot;geometry&quot;: {&quot;coordinates&quot;: [-122.67575096773925, 45.4705458], &quot;type&quot;: &quot;Point&quot;}, &quot;id&quot;: &quot;212&quot;, &quot;properties&quot;: {&quot;__folium_color&quot;: &quot;#481f70&quot;, &quot;distance&quot;: 2517.970262087543}, &quot;type&quot;: &quot;Feature&quot;}, {&quot;bbox&quot;: [-122.67076994279061, 45.546443643730335, -122.67076994279061, 45.546443643730335], &quot;geometry&quot;: {&quot;coordinates&quot;: [-122.67076994279061, 45.546443643730335], &quot;type&quot;: &quot;Point&quot;}, &quot;id&quot;: &quot;213&quot;, &quot;properties&quot;: {&quot;__folium_color&quot;: &quot;#3f4889&quot;, &quot;distance&quot;: 6040.127149850549}, &quot;type&quot;: &quot;Feature&quot;}, {&quot;bbox&quot;: [-122.75288513859412, 45.49257289999999, -122.75288513859412, 45.49257289999999], &quot;geometry&quot;: {&quot;coordinates&quot;: [-122.75288513859412, 45.49257289999999], &quot;type&quot;: &quot;Point&quot;}, &quot;id&quot;: &quot;214&quot;, &quot;properties&quot;: {&quot;__folium_color&quot;: &quot;#3c508b&quot;, &quot;distance&quot;: 6850.856176272232}, &quot;type&quot;: &quot;Feature&quot;}, {&quot;bbox&quot;: [-122.69507222500013, 45.58349085, -122.69507222500013, 45.58349085], &quot;geometry&quot;: {&quot;coordinates&quot;: [-122.69507222500013, 45.58349085], &quot;type&quot;: &quot;Point&quot;}, &quot;id&quot;: &quot;215&quot;, &quot;properties&quot;: {&quot;__folium_color&quot;: &quot;#38588c&quot;, &quot;distance&quot;: 7588.761180924201}, &quot;type&quot;: &quot;Feature&quot;}, {&quot;bbox&quot;: [-122.72180239852582, 45.49948675, -122.72180239852582, 45.49948675], &quot;geometry&quot;: {&quot;coordinates&quot;: [-122.72180239852582, 45.49948675], &quot;type&quot;: &quot;Point&quot;}, &quot;id&quot;: &quot;217&quot;, &quot;properties&quot;: {&quot;__folium_color&quot;: &quot;#31688e&quot;, &quot;distance&quot;: 9272.040772058344}, &quot;type&quot;: &quot;Feature&quot;}, {&quot;bbox&quot;: [-122.6819599, 45.5605363, -122.6819599, 45.5605363], &quot;geometry&quot;: {&quot;coordinates&quot;: [-122.6819599, 45.5605363], &quot;type&quot;: &quot;Point&quot;}, &quot;id&quot;: &quot;218&quot;, &quot;properties&quot;: {&quot;__folium_color&quot;: &quot;#470e61&quot;, &quot;distance&quot;: 1199.804906691625}, &quot;type&quot;: &quot;Feature&quot;}, {&quot;bbox&quot;: [-122.71243177368198, 45.562987463375336, -122.71243177368198, 45.562987463375336], &quot;geometry&quot;: {&quot;coordinates&quot;: [-122.71243177368198, 45.562987463375336], &quot;type&quot;: &quot;Point&quot;}, &quot;id&quot;: &quot;219&quot;, &quot;properties&quot;: {&quot;__folium_color&quot;: &quot;#3f4889&quot;, &quot;distance&quot;: 6081.842092576486}, &quot;type&quot;: &quot;Feature&quot;}, {&quot;bbox&quot;: [-122.61651612499999, 45.51948525, -122.61651612499999, 45.51948525], &quot;geometry&quot;: {&quot;coordinates&quot;: [-122.61651612499999, 45.51948525], &quot;type&quot;: &quot;Point&quot;}, &quot;id&quot;: &quot;220&quot;, &quot;properties&quot;: {&quot;__folium_color&quot;: &quot;#460b5e&quot;, &quot;distance&quot;: 958.7862524391043}, &quot;type&quot;: &quot;Feature&quot;}, {&quot;bbox&quot;: [-122.64457868137367, 45.47831404999999, -122.64457868137367, 45.47831404999999], &quot;geometry&quot;: {&quot;coordinates&quot;: [-122.64457868137367, 45.47831404999999], &quot;type&quot;: &quot;Point&quot;}, &quot;id&quot;: &quot;221&quot;, &quot;properties&quot;: {&quot;__folium_color&quot;: &quot;#48186a&quot;, &quot;distance&quot;: 1924.1398820421948}, &quot;type&quot;: &quot;Feature&quot;}, {&quot;bbox&quot;: [-122.62385387411274, 45.5535081, -122.62385387411274, 45.5535081], &quot;geometry&quot;: {&quot;coordinates&quot;: [-122.62385387411274, 45.5535081], &quot;type&quot;: &quot;Point&quot;}, &quot;id&quot;: &quot;222&quot;, &quot;properties&quot;: {&quot;__folium_color&quot;: &quot;#32648e&quot;, &quot;distance&quot;: 8786.373118547965}, &quot;type&quot;: &quot;Feature&quot;}, {&quot;bbox&quot;: [-122.59838733821219, 45.51894780000001, -122.59838733821219, 45.51894780000001], &quot;geometry&quot;: {&quot;coordinates&quot;: [-122.59838733821219, 45.51894780000001], &quot;type&quot;: &quot;Point&quot;}, &quot;id&quot;: &quot;223&quot;, &quot;properties&quot;: {&quot;__folium_color&quot;: &quot;#355f8d&quot;, &quot;distance&quot;: 8312.011551366504}, &quot;type&quot;: &quot;Feature&quot;}, {&quot;bbox&quot;: [-122.69170587733026, 45.5340221, -122.69170587733026, 45.5340221], &quot;geometry&quot;: {&quot;coordinates&quot;: [-122.69170587733026, 45.5340221], &quot;type&quot;: &quot;Point&quot;}, &quot;id&quot;: &quot;224&quot;, &quot;properties&quot;: {&quot;__folium_color&quot;: &quot;#482677&quot;, &quot;distance&quot;: 3143.1177990624374}, &quot;type&quot;: &quot;Feature&quot;}, {&quot;bbox&quot;: [-122.68928100239212, 45.51792555, -122.68928100239212, 45.51792555], &quot;geometry&quot;: {&quot;coordinates&quot;: [-122.68928100239212, 45.51792555], &quot;type&quot;: &quot;Point&quot;}, &quot;id&quot;: &quot;225&quot;, &quot;properties&quot;: {&quot;__folium_color&quot;: &quot;#450457&quot;, &quot;distance&quot;: 445.6445758411575}, &quot;type&quot;: &quot;Feature&quot;}, {&quot;bbox&quot;: [-122.60955740816327, 45.52499002040816, -122.60955740816327, 45.52499002040816], &quot;geometry&quot;: {&quot;coordinates&quot;: [-122.60955740816327, 45.52499002040816], &quot;type&quot;: &quot;Point&quot;}, &quot;id&quot;: &quot;226&quot;, &quot;properties&quot;: {&quot;__folium_color&quot;: &quot;#3f4889&quot;, &quot;distance&quot;: 6057.809578048887}, &quot;type&quot;: &quot;Feature&quot;}, {&quot;bbox&quot;: [-122.68925128617836, 45.57282945, -122.68925128617836, 45.57282945], &quot;geometry&quot;: {&quot;coordinates&quot;: [-122.68925128617836, 45.57282945], &quot;type&quot;: &quot;Point&quot;}, &quot;id&quot;: &quot;227&quot;, &quot;properties&quot;: {&quot;__folium_color&quot;: &quot;#414487&quot;, &quot;distance&quot;: 5609.8334195269645}, &quot;type&quot;: &quot;Feature&quot;}, {&quot;bbox&quot;: [-122.6082242269436, 45.56034069999999, -122.6082242269436, 45.56034069999999], &quot;geometry&quot;: {&quot;coordinates&quot;: [-122.6082242269436, 45.56034069999999], &quot;type&quot;: &quot;Point&quot;}, &quot;id&quot;: &quot;228&quot;, &quot;properties&quot;: {&quot;__folium_color&quot;: &quot;#482979&quot;, &quot;distance&quot;: 3297.9971756614173}, &quot;type&quot;: &quot;Feature&quot;}, {&quot;bbox&quot;: [-122.58888043339735, 45.516895649999995, -122.58888043339735, 45.516895649999995], &quot;geometry&quot;: {&quot;coordinates&quot;: [-122.58888043339735, 45.516895649999995], &quot;type&quot;: &quot;Point&quot;}, &quot;id&quot;: &quot;229&quot;, &quot;properties&quot;: {&quot;__folium_color&quot;: &quot;#443b84&quot;, &quot;distance&quot;: 4875.90756761793}, &quot;type&quot;: &quot;Feature&quot;}, {&quot;bbox&quot;: [-122.68287480352068, 45.488526223167646, -122.68287480352068, 45.488526223167646], &quot;geometry&quot;: {&quot;coordinates&quot;: [-122.68287480352068, 45.488526223167646], &quot;type&quot;: &quot;Point&quot;}, &quot;id&quot;: &quot;230&quot;, &quot;properties&quot;: {&quot;__folium_color&quot;: &quot;#365c8d&quot;, &quot;distance&quot;: 8021.62653458165}, &quot;type&quot;: &quot;Feature&quot;}, {&quot;bbox&quot;: [-122.61520740955896, 45.550725150000005, -122.61520740955896, 45.550725150000005], &quot;geometry&quot;: {&quot;coordinates&quot;: [-122.61520740955896, 45.550725150000005], &quot;type&quot;: &quot;Point&quot;}, &quot;id&quot;: &quot;231&quot;, &quot;properties&quot;: {&quot;__folium_color&quot;: &quot;#414287&quot;, &quot;distance&quot;: 5588.349566982587}, &quot;type&quot;: &quot;Feature&quot;}, {&quot;bbox&quot;: [-122.5911689, 45.54666139999999, -122.5911689, 45.54666139999999], &quot;geometry&quot;: {&quot;coordinates&quot;: [-122.5911689, 45.54666139999999], &quot;type&quot;: &quot;Point&quot;}, &quot;id&quot;: &quot;232&quot;, &quot;properties&quot;: {&quot;__folium_color&quot;: &quot;#3f4889&quot;, &quot;distance&quot;: 6098.363351474181}, &quot;type&quot;: &quot;Feature&quot;}, {&quot;bbox&quot;: [-122.59280956336401, 45.51676455, -122.59280956336401, 45.51676455], &quot;geometry&quot;: {&quot;coordinates&quot;: [-122.59280956336401, 45.51676455], &quot;type&quot;: &quot;Point&quot;}, &quot;id&quot;: &quot;233&quot;, &quot;properties&quot;: {&quot;__folium_color&quot;: &quot;#3f4889&quot;, &quot;distance&quot;: 6048.999013360141}, &quot;type&quot;: &quot;Feature&quot;}, {&quot;bbox&quot;: [-122.63097576774419, 45.53749925, -122.63097576774419, 45.53749925], &quot;geometry&quot;: {&quot;coordinates&quot;: [-122.63097576774419, 45.53749925], &quot;type&quot;: &quot;Point&quot;}, &quot;id&quot;: &quot;234&quot;, &quot;properties&quot;: {&quot;__folium_color&quot;: &quot;#470d60&quot;, &quot;distance&quot;: 1091.3834505172017}, &quot;type&quot;: &quot;Feature&quot;}, {&quot;bbox&quot;: [-122.73183073989537, 45.5138763, -122.73183073989537, 45.5138763], &quot;geometry&quot;: {&quot;coordinates&quot;: [-122.73183073989537, 45.5138763], &quot;type&quot;: &quot;Point&quot;}, &quot;id&quot;: &quot;235&quot;, &quot;properties&quot;: {&quot;__folium_color&quot;: &quot;#25838e&quot;, &quot;distance&quot;: 12294.634831563377}, &quot;type&quot;: &quot;Feature&quot;}, {&quot;bbox&quot;: [-122.62693285232844, 45.55566675, -122.62693285232844, 45.55566675], &quot;geometry&quot;: {&quot;coordinates&quot;: [-122.62693285232844, 45.55566675], &quot;type&quot;: &quot;Point&quot;}, &quot;id&quot;: &quot;236&quot;, &quot;properties&quot;: {&quot;__folium_color&quot;: &quot;#482475&quot;, &quot;distance&quot;: 2938.279618810414}, &quot;type&quot;: &quot;Feature&quot;}, {&quot;bbox&quot;: [-122.66976812943987, 45.5621937, -122.66976812943987, 45.5621937], &quot;geometry&quot;: {&quot;coordinates&quot;: [-122.66976812943987, 45.5621937], &quot;type&quot;: &quot;Point&quot;}, &quot;id&quot;: &quot;238&quot;, &quot;properties&quot;: {&quot;__folium_color&quot;: &quot;#482979&quot;, &quot;distance&quot;: 3297.6293988204393}, &quot;type&quot;: &quot;Feature&quot;}, {&quot;bbox&quot;: [-122.65560709999998, 45.5050248, -122.65560709999998, 45.5050248], &quot;geometry&quot;: {&quot;coordinates&quot;: [-122.65560709999998, 45.5050248], &quot;type&quot;: &quot;Point&quot;}, &quot;id&quot;: &quot;240&quot;, &quot;properties&quot;: {&quot;__folium_color&quot;: &quot;#3e4c8a&quot;, &quot;distance&quot;: 6365.700528623465}, &quot;type&quot;: &quot;Feature&quot;}, {&quot;bbox&quot;: [-122.62638514750955, 45.487425699999996, -122.62638514750955, 45.487425699999996], &quot;geometry&quot;: {&quot;coordinates&quot;: [-122.62638514750955, 45.487425699999996], &quot;type&quot;: &quot;Point&quot;}, &quot;id&quot;: &quot;241&quot;, &quot;properties&quot;: {&quot;__folium_color&quot;: &quot;#481a6c&quot;, &quot;distance&quot;: 2077.017644450429}, &quot;type&quot;: &quot;Feature&quot;}, {&quot;bbox&quot;: [-122.60442667525675, 45.48239605, -122.60442667525675, 45.48239605], &quot;geometry&quot;: {&quot;coordinates&quot;: [-122.60442667525675, 45.48239605], &quot;type&quot;: &quot;Point&quot;}, &quot;id&quot;: &quot;242&quot;, &quot;properties&quot;: {&quot;__folium_color&quot;: &quot;#460b5e&quot;, &quot;distance&quot;: 1010.3129129772718}, &quot;type&quot;: &quot;Feature&quot;}, {&quot;bbox&quot;: [-122.66453594301503, 45.513072248380396, -122.66453594301503, 45.513072248380396], &quot;geometry&quot;: {&quot;coordinates&quot;: [-122.66453594301503, 45.513072248380396], &quot;type&quot;: &quot;Point&quot;}, &quot;id&quot;: &quot;243&quot;, &quot;properties&quot;: {&quot;__folium_color&quot;: &quot;#3f4788&quot;, &quot;distance&quot;: 5941.273078826813}, &quot;type&quot;: &quot;Feature&quot;}, {&quot;bbox&quot;: [-122.62264855108697, 45.54227565, -122.62264855108697, 45.54227565], &quot;geometry&quot;: {&quot;coordinates&quot;: [-122.62264855108697, 45.54227565], &quot;type&quot;: &quot;Point&quot;}, &quot;id&quot;: &quot;244&quot;, &quot;properties&quot;: {&quot;__folium_color&quot;: &quot;#2d718e&quot;, &quot;distance&quot;: 10212.124516679422}, &quot;type&quot;: &quot;Feature&quot;}, {&quot;bbox&quot;: [-122.66453714277381, 45.52622035000001, -122.66453714277381, 45.52622035000001], &quot;geometry&quot;: {&quot;coordinates&quot;: [-122.66453714277381, 45.52622035000001], &quot;type&quot;: &quot;Point&quot;}, &quot;id&quot;: &quot;245&quot;, &quot;properties&quot;: {&quot;__folium_color&quot;: &quot;#46307e&quot;, &quot;distance&quot;: 3949.5114577466616}, &quot;type&quot;: &quot;Feature&quot;}, {&quot;bbox&quot;: [-122.56806320000001, 45.5402082, -122.56806320000001, 45.5402082], &quot;geometry&quot;: {&quot;coordinates&quot;: [-122.56806320000001, 45.5402082], &quot;type&quot;: &quot;Point&quot;}, &quot;id&quot;: &quot;246&quot;, &quot;properties&quot;: {&quot;__folium_color&quot;: &quot;#3f4788&quot;, &quot;distance&quot;: 5926.415914213906}, &quot;type&quot;: &quot;Feature&quot;}, {&quot;bbox&quot;: [-122.63006170016537, 45.468005000000005, -122.63006170016537, 45.468005000000005], &quot;geometry&quot;: {&quot;coordinates&quot;: [-122.63006170016537, 45.468005000000005], &quot;type&quot;: &quot;Point&quot;}, &quot;id&quot;: &quot;247&quot;, &quot;properties&quot;: {&quot;__folium_color&quot;: &quot;#38588c&quot;, &quot;distance&quot;: 7549.991275757317}, &quot;type&quot;: &quot;Feature&quot;}, {&quot;bbox&quot;: [-122.80946159303905, 45.38462870395709, -122.80946159303905, 45.38462870395709], &quot;geometry&quot;: {&quot;coordinates&quot;: [-122.80946159303905, 45.38462870395709], &quot;type&quot;: &quot;Point&quot;}, &quot;id&quot;: &quot;248&quot;, &quot;properties&quot;: {&quot;__folium_color&quot;: &quot;#50c46a&quot;, &quot;distance&quot;: 19825.213034880053}, &quot;type&quot;: &quot;Feature&quot;}, {&quot;bbox&quot;: [-122.69831146395798, 45.566801600000005, -122.69831146395798, 45.566801600000005], &quot;geometry&quot;: {&quot;coordinates&quot;: [-122.69831146395798, 45.566801600000005], &quot;type&quot;: &quot;Point&quot;}, &quot;id&quot;: &quot;249&quot;, &quot;properties&quot;: {&quot;__folium_color&quot;: &quot;#2e6d8e&quot;, &quot;distance&quot;: 9759.39448792503}, &quot;type&quot;: &quot;Feature&quot;}, {&quot;bbox&quot;: [-122.5330928088485, 45.51595715, -122.5330928088485, 45.51595715], &quot;geometry&quot;: {&quot;coordinates&quot;: [-122.5330928088485, 45.51595715], &quot;type&quot;: &quot;Point&quot;}, &quot;id&quot;: &quot;250&quot;, &quot;properties&quot;: {&quot;__folium_color&quot;: &quot;#450559&quot;, &quot;distance&quot;: 611.1004179812452}, &quot;type&quot;: &quot;Feature&quot;}, {&quot;bbox&quot;: [-122.59656283918602, 45.55038075, -122.59656283918602, 45.55038075], &quot;geometry&quot;: {&quot;coordinates&quot;: [-122.59656283918602, 45.55038075], &quot;type&quot;: &quot;Point&quot;}, &quot;id&quot;: &quot;251&quot;, &quot;properties&quot;: {&quot;__folium_color&quot;: &quot;#297a8e&quot;, &quot;distance&quot;: 11257.815390430887}, &quot;type&quot;: &quot;Feature&quot;}, {&quot;bbox&quot;: [-122.73270229411622, 45.443460849999994, -122.73270229411622, 45.443460849999994], &quot;geometry&quot;: {&quot;coordinates&quot;: [-122.73270229411622, 45.443460849999994], &quot;type&quot;: &quot;Point&quot;}, &quot;id&quot;: &quot;252&quot;, &quot;properties&quot;: {&quot;__folium_color&quot;: &quot;#470d60&quot;, &quot;distance&quot;: 1082.3032640681022}, &quot;type&quot;: &quot;Feature&quot;}, {&quot;bbox&quot;: [-122.57575811937132, 45.52962309999999, -122.57575811937132, 45.52962309999999], &quot;geometry&quot;: {&quot;coordinates&quot;: [-122.57575811937132, 45.52962309999999], &quot;type&quot;: &quot;Point&quot;}, &quot;id&quot;: &quot;253&quot;, &quot;properties&quot;: {&quot;__folium_color&quot;: &quot;#472c7a&quot;, &quot;distance&quot;: 3555.0937674144543}, &quot;type&quot;: &quot;Feature&quot;}, {&quot;bbox&quot;: [-122.70615810849053, 45.452291450000004, -122.70615810849053, 45.452291450000004], &quot;geometry&quot;: {&quot;coordinates&quot;: [-122.70615810849053, 45.452291450000004], &quot;type&quot;: &quot;Point&quot;}, &quot;id&quot;: &quot;254&quot;, &quot;properties&quot;: {&quot;__folium_color&quot;: &quot;#481c6e&quot;, &quot;distance&quot;: 2252.7025054441892}, &quot;type&quot;: &quot;Feature&quot;}, {&quot;bbox&quot;: [-122.58808613027503, 45.549805549999995, -122.58808613027503, 45.549805549999995], &quot;geometry&quot;: {&quot;coordinates&quot;: [-122.58808613027503, 45.549805549999995], &quot;type&quot;: &quot;Point&quot;}, &quot;id&quot;: &quot;255&quot;, &quot;properties&quot;: {&quot;__folium_color&quot;: &quot;#46337f&quot;, &quot;distance&quot;: 4160.93740352538}, &quot;type&quot;: &quot;Feature&quot;}, {&quot;bbox&quot;: [-122.5871217894737, 45.50546478947368, -122.5871217894737, 45.50546478947368], &quot;geometry&quot;: {&quot;coordinates&quot;: [-122.5871217894737, 45.50546478947368], &quot;type&quot;: &quot;Point&quot;}, &quot;id&quot;: &quot;256&quot;, &quot;properties&quot;: {&quot;__folium_color&quot;: &quot;#433d84&quot;, &quot;distance&quot;: 5038.913933400516}, &quot;type&quot;: &quot;Feature&quot;}, {&quot;bbox&quot;: [-122.49923548054652, 45.53534854999999, -122.49923548054652, 45.53534854999999], &quot;geometry&quot;: {&quot;coordinates&quot;: [-122.49923548054652, 45.53534854999999], &quot;type&quot;: &quot;Point&quot;}, &quot;id&quot;: &quot;257&quot;, &quot;properties&quot;: {&quot;__folium_color&quot;: &quot;#306a8e&quot;, &quot;distance&quot;: 9498.203896063444}, &quot;type&quot;: &quot;Feature&quot;}, {&quot;bbox&quot;: [-122.56002179450869, 45.525115549999995, -122.56002179450869, 45.525115549999995], &quot;geometry&quot;: {&quot;coordinates&quot;: [-122.56002179450869, 45.525115549999995], &quot;type&quot;: &quot;Point&quot;}, &quot;id&quot;: &quot;258&quot;, &quot;properties&quot;: {&quot;__folium_color&quot;: &quot;#482173&quot;, &quot;distance&quot;: 2744.202561750525}, &quot;type&quot;: &quot;Feature&quot;}, {&quot;bbox&quot;: [-122.66082692929292, 45.414359161616154, -122.66082692929292, 45.414359161616154], &quot;geometry&quot;: {&quot;coordinates&quot;: [-122.66082692929292, 45.414359161616154], &quot;type&quot;: &quot;Point&quot;}, &quot;id&quot;: &quot;259&quot;, &quot;properties&quot;: {&quot;__folium_color&quot;: &quot;#34618d&quot;, &quot;distance&quot;: 8499.695670961366}, &quot;type&quot;: &quot;Feature&quot;}, {&quot;bbox&quot;: [-122.59055419999999, 45.5895038, -122.59055419999999, 45.5895038], &quot;geometry&quot;: {&quot;coordinates&quot;: [-122.59055419999999, 45.5895038], &quot;type&quot;: &quot;Point&quot;}, &quot;id&quot;: &quot;260&quot;, &quot;properties&quot;: {&quot;__folium_color&quot;: &quot;#3f4889&quot;, &quot;distance&quot;: 6106.799313327476}, &quot;type&quot;: &quot;Feature&quot;}, {&quot;bbox&quot;: [-122.64211451602672, 45.4742885, -122.64211451602672, 45.4742885], &quot;geometry&quot;: {&quot;coordinates&quot;: [-122.64211451602672, 45.4742885], &quot;type&quot;: &quot;Point&quot;}, &quot;id&quot;: &quot;261&quot;, &quot;properties&quot;: {&quot;__folium_color&quot;: &quot;#472a7a&quot;, &quot;distance&quot;: 3423.3683811562}, &quot;type&quot;: &quot;Feature&quot;}, {&quot;bbox&quot;: [-122.6045506122449, 45.55577724489796, -122.6045506122449, 45.55577724489796], &quot;geometry&quot;: {&quot;coordinates&quot;: [-122.6045506122449, 45.55577724489796], &quot;type&quot;: &quot;Point&quot;}, &quot;id&quot;: &quot;262&quot;, &quot;properties&quot;: {&quot;__folium_color&quot;: &quot;#2b758e&quot;, &quot;distance&quot;: 10745.124548954775}, &quot;type&quot;: &quot;Feature&quot;}, {&quot;bbox&quot;: [-122.60531964852161, 45.54651440000001, -122.60531964852161, 45.54651440000001], &quot;geometry&quot;: {&quot;coordinates&quot;: [-122.60531964852161, 45.54651440000001], &quot;type&quot;: &quot;Point&quot;}, &quot;id&quot;: &quot;263&quot;, &quot;properties&quot;: {&quot;__folium_color&quot;: &quot;#375a8c&quot;, &quot;distance&quot;: 7794.973762520096}, &quot;type&quot;: &quot;Feature&quot;}, {&quot;bbox&quot;: [-122.76526739108654, 45.498650999999995, -122.76526739108654, 45.498650999999995], &quot;geometry&quot;: {&quot;coordinates&quot;: [-122.76526739108654, 45.498650999999995], &quot;type&quot;: &quot;Point&quot;}, &quot;id&quot;: &quot;264&quot;, &quot;properties&quot;: {&quot;__folium_color&quot;: &quot;#81d34d&quot;, &quot;distance&quot;: 22140.46849405739}, &quot;type&quot;: &quot;Feature&quot;}, {&quot;bbox&quot;: [-122.6580617943666, 45.5697796, -122.6580617943666, 45.5697796], &quot;geometry&quot;: {&quot;coordinates&quot;: [-122.6580617943666, 45.5697796], &quot;type&quot;: &quot;Point&quot;}, &quot;id&quot;: &quot;265&quot;, &quot;properties&quot;: {&quot;__folium_color&quot;: &quot;#33628d&quot;, &quot;distance&quot;: 8617.317383037916}, &quot;type&quot;: &quot;Feature&quot;}, {&quot;bbox&quot;: [-122.67619521198348, 45.44128205, -122.67619521198348, 45.44128205], &quot;geometry&quot;: {&quot;coordinates&quot;: [-122.67619521198348, 45.44128205], &quot;type&quot;: &quot;Point&quot;}, &quot;id&quot;: &quot;266&quot;, &quot;properties&quot;: {&quot;__folium_color&quot;: &quot;#443b84&quot;, &quot;distance&quot;: 4929.386305468548}, &quot;type&quot;: &quot;Feature&quot;}, {&quot;bbox&quot;: [-122.61780245000001, 45.49112999999999, -122.61780245000001, 45.49112999999999], &quot;geometry&quot;: {&quot;coordinates&quot;: [-122.61780245000001, 45.49112999999999], &quot;type&quot;: &quot;Point&quot;}, &quot;id&quot;: &quot;267&quot;, &quot;properties&quot;: {&quot;__folium_color&quot;: &quot;#424086&quot;, &quot;distance&quot;: 5389.74332350121}, &quot;type&quot;: &quot;Feature&quot;}, {&quot;bbox&quot;: [-122.52052213896992, 45.5471484, -122.52052213896992, 45.5471484], &quot;geometry&quot;: {&quot;coordinates&quot;: [-122.52052213896992, 45.5471484], &quot;type&quot;: &quot;Point&quot;}, &quot;id&quot;: &quot;268&quot;, &quot;properties&quot;: {&quot;__folium_color&quot;: &quot;#25848e&quot;, &quot;distance&quot;: 12449.174810073719}, &quot;type&quot;: &quot;Feature&quot;}, {&quot;bbox&quot;: [-122.64547247572636, 45.4652143, -122.64547247572636, 45.4652143], &quot;geometry&quot;: {&quot;coordinates&quot;: [-122.64547247572636, 45.4652143], &quot;type&quot;: &quot;Point&quot;}, &quot;id&quot;: &quot;269&quot;, &quot;properties&quot;: {&quot;__folium_color&quot;: &quot;#460a5d&quot;, &quot;distance&quot;: 895.996299377559}, &quot;type&quot;: &quot;Feature&quot;}, {&quot;bbox&quot;: [-122.6972093998568, 45.56127779999999, -122.6972093998568, 45.56127779999999], &quot;geometry&quot;: {&quot;coordinates&quot;: [-122.6972093998568, 45.56127779999999], &quot;type&quot;: &quot;Point&quot;}, &quot;id&quot;: &quot;270&quot;, &quot;properties&quot;: {&quot;__folium_color&quot;: &quot;#3c508b&quot;, &quot;distance&quot;: 6819.806372317622}, &quot;type&quot;: &quot;Feature&quot;}, {&quot;bbox&quot;: [-122.79437629024255, 45.46295075000001, -122.79437629024255, 45.46295075000001], &quot;geometry&quot;: {&quot;coordinates&quot;: [-122.79437629024255, 45.46295075000001], &quot;type&quot;: &quot;Point&quot;}, &quot;id&quot;: &quot;271&quot;, &quot;properties&quot;: {&quot;__folium_color&quot;: &quot;#365c8d&quot;, &quot;distance&quot;: 8031.2302099069275}, &quot;type&quot;: &quot;Feature&quot;}, {&quot;bbox&quot;: [-122.7261235106069, 45.515441849999995, -122.7261235106069, 45.515441849999995], &quot;geometry&quot;: {&quot;coordinates&quot;: [-122.7261235106069, 45.515441849999995], &quot;type&quot;: &quot;Point&quot;}, &quot;id&quot;: &quot;272&quot;, &quot;properties&quot;: {&quot;__folium_color&quot;: &quot;#2e6e8e&quot;, &quot;distance&quot;: 9903.640952949252}, &quot;type&quot;: &quot;Feature&quot;}, {&quot;bbox&quot;: [-122.68523130451854, 45.55617255, -122.68523130451854, 45.55617255], &quot;geometry&quot;: {&quot;coordinates&quot;: [-122.68523130451854, 45.55617255], &quot;type&quot;: &quot;Point&quot;}, &quot;id&quot;: &quot;273&quot;, &quot;properties&quot;: {&quot;__folium_color&quot;: &quot;#472a7a&quot;, &quot;distance&quot;: 3393.9074709913416}, &quot;type&quot;: &quot;Feature&quot;}, {&quot;bbox&quot;: [-122.73197873773002, 45.58666205, -122.73197873773002, 45.58666205], &quot;geometry&quot;: {&quot;coordinates&quot;: [-122.73197873773002, 45.58666205], &quot;type&quot;: &quot;Point&quot;}, &quot;id&quot;: &quot;274&quot;, &quot;properties&quot;: {&quot;__folium_color&quot;: &quot;#481b6d&quot;, &quot;distance&quot;: 2190.0924936850815}, &quot;type&quot;: &quot;Feature&quot;}, {&quot;bbox&quot;: [-122.64917929115825, 45.5380397, -122.64917929115825, 45.5380397], &quot;geometry&quot;: {&quot;coordinates&quot;: [-122.64917929115825, 45.5380397], &quot;type&quot;: &quot;Point&quot;}, &quot;id&quot;: &quot;275&quot;, &quot;properties&quot;: {&quot;__folium_color&quot;: &quot;#482677&quot;, &quot;distance&quot;: 3118.2914222828504}, &quot;type&quot;: &quot;Feature&quot;}, {&quot;bbox&quot;: [-122.744060271544, 45.463573100000005, -122.744060271544, 45.463573100000005], &quot;geometry&quot;: {&quot;coordinates&quot;: [-122.744060271544, 45.463573100000005], &quot;type&quot;: &quot;Point&quot;}, &quot;id&quot;: &quot;276&quot;, &quot;properties&quot;: {&quot;__folium_color&quot;: &quot;#482878&quot;, &quot;distance&quot;: 3224.513794043526}, &quot;type&quot;: &quot;Feature&quot;}, {&quot;bbox&quot;: [-122.6532469, 45.52102584999999, -122.6532469, 45.52102584999999], &quot;geometry&quot;: {&quot;coordinates&quot;: [-122.6532469, 45.52102584999999], &quot;type&quot;: &quot;Point&quot;}, &quot;id&quot;: &quot;277&quot;, &quot;properties&quot;: {&quot;__folium_color&quot;: &quot;#472c7a&quot;, &quot;distance&quot;: 3524.0370270187614}, &quot;type&quot;: &quot;Feature&quot;}, {&quot;bbox&quot;: [-122.72805757312837, 45.432998850000004, -122.72805757312837, 45.432998850000004], &quot;geometry&quot;: {&quot;coordinates&quot;: [-122.72805757312837, 45.432998850000004], &quot;type&quot;: &quot;Point&quot;}, &quot;id&quot;: &quot;278&quot;, &quot;properties&quot;: {&quot;__folium_color&quot;: &quot;#355f8d&quot;, &quot;distance&quot;: 8339.353352756949}, &quot;type&quot;: &quot;Feature&quot;}, {&quot;bbox&quot;: [-122.64344574984496, 45.5460066, -122.64344574984496, 45.5460066], &quot;geometry&quot;: {&quot;coordinates&quot;: [-122.64344574984496, 45.5460066], &quot;type&quot;: &quot;Point&quot;}, &quot;id&quot;: &quot;279&quot;, &quot;properties&quot;: {&quot;__folium_color&quot;: &quot;#460b5e&quot;, &quot;distance&quot;: 1034.907202327034}, &quot;type&quot;: &quot;Feature&quot;}, {&quot;bbox&quot;: [-122.6338384, 45.4069981, -122.6338384, 45.4069981], &quot;geometry&quot;: {&quot;coordinates&quot;: [-122.6338384, 45.4069981], &quot;type&quot;: &quot;Point&quot;}, &quot;id&quot;: &quot;281&quot;, &quot;properties&quot;: {&quot;__folium_color&quot;: &quot;#2e6e8e&quot;, &quot;distance&quot;: 9846.786424751455}, &quot;type&quot;: &quot;Feature&quot;}, {&quot;bbox&quot;: [-122.5882876978779, 45.493319650000004, -122.5882876978779, 45.493319650000004], &quot;geometry&quot;: {&quot;coordinates&quot;: [-122.5882876978779, 45.493319650000004], &quot;type&quot;: &quot;Point&quot;}, &quot;id&quot;: &quot;282&quot;, &quot;properties&quot;: {&quot;__folium_color&quot;: &quot;#3c4f8a&quot;, &quot;distance&quot;: 6676.8505357442855}, &quot;type&quot;: &quot;Feature&quot;}, {&quot;bbox&quot;: [-122.54504254912442, 45.49603845, -122.54504254912442, 45.49603845], &quot;geometry&quot;: {&quot;coordinates&quot;: [-122.54504254912442, 45.49603845], &quot;type&quot;: &quot;Point&quot;}, &quot;id&quot;: &quot;283&quot;, &quot;properties&quot;: {&quot;__folium_color&quot;: &quot;#482979&quot;, &quot;distance&quot;: 3367.062493095577}, &quot;type&quot;: &quot;Feature&quot;}, {&quot;bbox&quot;: [-122.78142216736279, 45.59295226353513, -122.78142216736279, 45.59295226353513], &quot;geometry&quot;: {&quot;coordinates&quot;: [-122.78142216736279, 45.59295226353513], &quot;type&quot;: &quot;Point&quot;}, &quot;id&quot;: &quot;284&quot;, &quot;properties&quot;: {&quot;__folium_color&quot;: &quot;#472a7a&quot;, &quot;distance&quot;: 3412.3883192830003}, &quot;type&quot;: &quot;Feature&quot;}, {&quot;bbox&quot;: [-122.57000590000001, 45.55484165, -122.57000590000001, 45.55484165], &quot;geometry&quot;: {&quot;coordinates&quot;: [-122.57000590000001, 45.55484165], &quot;type&quot;: &quot;Point&quot;}, &quot;id&quot;: &quot;285&quot;, &quot;properties&quot;: {&quot;__folium_color&quot;: &quot;#2c718e&quot;, &quot;distance&quot;: 10304.933705512367}, &quot;type&quot;: &quot;Feature&quot;}, {&quot;bbox&quot;: [-122.56984589247266, 45.5084854, -122.56984589247266, 45.5084854], &quot;geometry&quot;: {&quot;coordinates&quot;: [-122.56984589247266, 45.5084854], &quot;type&quot;: &quot;Point&quot;}, &quot;id&quot;: &quot;286&quot;, &quot;properties&quot;: {&quot;__folium_color&quot;: &quot;#482677&quot;, &quot;distance&quot;: 3161.4834540112165}, &quot;type&quot;: &quot;Feature&quot;}, {&quot;bbox&quot;: [-122.6609789, 45.5098267, -122.6609789, 45.5098267], &quot;geometry&quot;: {&quot;coordinates&quot;: [-122.6609789, 45.5098267], &quot;type&quot;: &quot;Point&quot;}, &quot;id&quot;: &quot;287&quot;, &quot;properties&quot;: {&quot;__folium_color&quot;: &quot;#3e4c8a&quot;, &quot;distance&quot;: 6364.503911208323}, &quot;type&quot;: &quot;Feature&quot;}, {&quot;bbox&quot;: [-122.64906690000001, 45.553941449999996, -122.64906690000001, 45.553941449999996], &quot;geometry&quot;: {&quot;coordinates&quot;: [-122.64906690000001, 45.553941449999996], &quot;type&quot;: &quot;Point&quot;}, &quot;id&quot;: &quot;288&quot;, &quot;properties&quot;: {&quot;__folium_color&quot;: &quot;#3c508b&quot;, &quot;distance&quot;: 6870.810138628961}, &quot;type&quot;: &quot;Feature&quot;}, {&quot;bbox&quot;: [-122.6762235246523, 45.55763509999999, -122.6762235246523, 45.55763509999999], &quot;geometry&quot;: {&quot;coordinates&quot;: [-122.6762235246523, 45.55763509999999], &quot;type&quot;: &quot;Point&quot;}, &quot;id&quot;: &quot;289&quot;, &quot;properties&quot;: {&quot;__folium_color&quot;: &quot;#482374&quot;, &quot;distance&quot;: 2800.0353832233695}, &quot;type&quot;: &quot;Feature&quot;}, {&quot;bbox&quot;: [-122.67619521198348, 45.44128205, -122.67619521198348, 45.44128205], &quot;geometry&quot;: {&quot;coordinates&quot;: [-122.67619521198348, 45.44128205], &quot;type&quot;: &quot;Point&quot;}, &quot;id&quot;: &quot;290&quot;, &quot;properties&quot;: {&quot;__folium_color&quot;: &quot;#443b84&quot;, &quot;distance&quot;: 4929.386305468548}, &quot;type&quot;: &quot;Feature&quot;}, {&quot;bbox&quot;: [-122.67806823981743, 45.57358345, -122.67806823981743, 45.57358345], &quot;geometry&quot;: {&quot;coordinates&quot;: [-122.67806823981743, 45.57358345], &quot;type&quot;: &quot;Point&quot;}, &quot;id&quot;: &quot;291&quot;, &quot;properties&quot;: {&quot;__folium_color&quot;: &quot;#3d4d8a&quot;, &quot;distance&quot;: 6517.369742934653}, &quot;type&quot;: &quot;Feature&quot;}, {&quot;bbox&quot;: [-122.72584133019757, 45.4216147, -122.72584133019757, 45.4216147], &quot;geometry&quot;: {&quot;coordinates&quot;: [-122.72584133019757, 45.4216147], &quot;type&quot;: &quot;Point&quot;}, &quot;id&quot;: &quot;292&quot;, &quot;properties&quot;: {&quot;__folium_color&quot;: &quot;#46337f&quot;, &quot;distance&quot;: 4186.461591690474}, &quot;type&quot;: &quot;Feature&quot;}, {&quot;bbox&quot;: [-122.66084020408164, 45.520321897959185, -122.66084020408164, 45.520321897959185], &quot;geometry&quot;: {&quot;coordinates&quot;: [-122.66084020408164, 45.520321897959185], &quot;type&quot;: &quot;Point&quot;}, &quot;id&quot;: &quot;293&quot;, &quot;properties&quot;: {&quot;__folium_color&quot;: &quot;#2c718e&quot;, &quot;distance&quot;: 10334.55380713468}, &quot;type&quot;: &quot;Feature&quot;}, {&quot;bbox&quot;: [-122.67494415142833, 45.473502399999994, -122.67494415142833, 45.473502399999994], &quot;geometry&quot;: {&quot;coordinates&quot;: [-122.67494415142833, 45.473502399999994], &quot;type&quot;: &quot;Point&quot;}, &quot;id&quot;: &quot;294&quot;, &quot;properties&quot;: {&quot;__folium_color&quot;: &quot;#482071&quot;, &quot;distance&quot;: 2640.974577911994}, &quot;type&quot;: &quot;Feature&quot;}, {&quot;bbox&quot;: [-122.69087290073132, 45.49676365, -122.69087290073132, 45.49676365], &quot;geometry&quot;: {&quot;coordinates&quot;: [-122.69087290073132, 45.49676365], &quot;type&quot;: &quot;Point&quot;}, &quot;id&quot;: &quot;295&quot;, &quot;properties&quot;: {&quot;__folium_color&quot;: &quot;#482173&quot;, &quot;distance&quot;: 2711.980707477259}, &quot;type&quot;: &quot;Feature&quot;}, {&quot;bbox&quot;: [-122.60097924185457, 45.527640149999996, -122.60097924185457, 45.527640149999996], &quot;geometry&quot;: {&quot;coordinates&quot;: [-122.60097924185457, 45.527640149999996], &quot;type&quot;: &quot;Point&quot;}, &quot;id&quot;: &quot;298&quot;, &quot;properties&quot;: {&quot;__folium_color&quot;: &quot;#3e4a89&quot;, &quot;distance&quot;: 6254.201628475721}, &quot;type&quot;: &quot;Feature&quot;}, {&quot;bbox&quot;: [-122.58613067162104, 45.50032104999999, -122.58613067162104, 45.50032104999999], &quot;geometry&quot;: {&quot;coordinates&quot;: [-122.58613067162104, 45.50032104999999], &quot;type&quot;: &quot;Point&quot;}, &quot;id&quot;: &quot;299&quot;, &quot;properties&quot;: {&quot;__folium_color&quot;: &quot;#287c8e&quot;, &quot;distance&quot;: 11477.189393731967}, &quot;type&quot;: &quot;Feature&quot;}, {&quot;bbox&quot;: [-122.64912160158825, 45.49335355, -122.64912160158825, 45.49335355], &quot;geometry&quot;: {&quot;coordinates&quot;: [-122.64912160158825, 45.49335355], &quot;type&quot;: &quot;Point&quot;}, &quot;id&quot;: &quot;300&quot;, &quot;properties&quot;: {&quot;__folium_color&quot;: &quot;#404588&quot;, &quot;distance&quot;: 5771.410478890614}, &quot;type&quot;: &quot;Feature&quot;}, {&quot;bbox&quot;: [-122.68617209622718, 45.59593049999999, -122.68617209622718, 45.59593049999999], &quot;geometry&quot;: {&quot;coordinates&quot;: [-122.68617209622718, 45.59593049999999], &quot;type&quot;: &quot;Point&quot;}, &quot;id&quot;: &quot;301&quot;, &quot;properties&quot;: {&quot;__folium_color&quot;: &quot;#32658e&quot;, &quot;distance&quot;: 8928.414410955867}, &quot;type&quot;: &quot;Feature&quot;}, {&quot;bbox&quot;: [-122.69170999553785, 45.52595424999999, -122.69170999553785, 45.52595424999999], &quot;geometry&quot;: {&quot;coordinates&quot;: [-122.69170999553785, 45.52595424999999], &quot;type&quot;: &quot;Point&quot;}, &quot;id&quot;: &quot;302&quot;, &quot;properties&quot;: {&quot;__folium_color&quot;: &quot;#31668e&quot;, &quot;distance&quot;: 9057.094571771177}, &quot;type&quot;: &quot;Feature&quot;}, {&quot;bbox&quot;: [-122.73581343862612, 45.38657379999999, -122.73581343862612, 45.38657379999999], &quot;geometry&quot;: {&quot;coordinates&quot;: [-122.73581343862612, 45.38657379999999], &quot;type&quot;: &quot;Point&quot;}, &quot;id&quot;: &quot;303&quot;, &quot;properties&quot;: {&quot;__folium_color&quot;: &quot;#2e6d8e&quot;, &quot;distance&quot;: 9810.108680225423}, &quot;type&quot;: &quot;Feature&quot;}, {&quot;bbox&quot;: [-122.64463765456942, 45.53798799999999, -122.64463765456942, 45.53798799999999], &quot;geometry&quot;: {&quot;coordinates&quot;: [-122.64463765456942, 45.53798799999999], &quot;type&quot;: &quot;Point&quot;}, &quot;id&quot;: &quot;304&quot;, &quot;properties&quot;: {&quot;__folium_color&quot;: &quot;#481d6f&quot;, &quot;distance&quot;: 2411.0551352020816}, &quot;type&quot;: &quot;Feature&quot;}, {&quot;bbox&quot;: [-122.53478649269663, 45.433863, -122.53478649269663, 45.433863], &quot;geometry&quot;: {&quot;coordinates&quot;: [-122.53478649269663, 45.433863], &quot;type&quot;: &quot;Point&quot;}, &quot;id&quot;: &quot;306&quot;, &quot;properties&quot;: {&quot;__folium_color&quot;: &quot;#29798e&quot;, &quot;distance&quot;: 11198.529533226838}, &quot;type&quot;: &quot;Feature&quot;}, {&quot;bbox&quot;: [-122.70604139436043, 45.33640869999999, -122.70604139436043, 45.33640869999999], &quot;geometry&quot;: {&quot;coordinates&quot;: [-122.70604139436043, 45.33640869999999], &quot;type&quot;: &quot;Point&quot;}, &quot;id&quot;: &quot;307&quot;, &quot;properties&quot;: {&quot;__folium_color&quot;: &quot;#2fb47c&quot;, &quot;distance&quot;: 17821.241214854646}, &quot;type&quot;: &quot;Feature&quot;}, {&quot;bbox&quot;: [-122.58474195312373, 45.4746648, -122.58474195312373, 45.4746648], &quot;geometry&quot;: {&quot;coordinates&quot;: [-122.58474195312373, 45.4746648], &quot;type&quot;: &quot;Point&quot;}, &quot;id&quot;: &quot;308&quot;, &quot;properties&quot;: {&quot;__folium_color&quot;: &quot;#34608d&quot;, &quot;distance&quot;: 8435.56641993165}, &quot;type&quot;: &quot;Feature&quot;}, {&quot;bbox&quot;: [-122.59055419999999, 45.5895038, -122.59055419999999, 45.5895038], &quot;geometry&quot;: {&quot;coordinates&quot;: [-122.59055419999999, 45.5895038], &quot;type&quot;: &quot;Point&quot;}, &quot;id&quot;: &quot;309&quot;, &quot;properties&quot;: {&quot;__folium_color&quot;: &quot;#30698e&quot;, &quot;distance&quot;: 9315.93555677196}, &quot;type&quot;: &quot;Feature&quot;}, {&quot;bbox&quot;: [-122.71603455555557, 45.564719999999994, -122.71603455555557, 45.564719999999994], &quot;geometry&quot;: {&quot;coordinates&quot;: [-122.71603455555557, 45.564719999999994], &quot;type&quot;: &quot;Point&quot;}, &quot;id&quot;: &quot;311&quot;, &quot;properties&quot;: {&quot;__folium_color&quot;: &quot;#414287&quot;, &quot;distance&quot;: 5604.1899897847325}, &quot;type&quot;: &quot;Feature&quot;}, {&quot;bbox&quot;: [-122.61297585714286, 45.54364942857143, -122.61297585714286, 45.54364942857143], &quot;geometry&quot;: {&quot;coordinates&quot;: [-122.61297585714286, 45.54364942857143], &quot;type&quot;: &quot;Point&quot;}, &quot;id&quot;: &quot;312&quot;, &quot;properties&quot;: {&quot;__folium_color&quot;: &quot;#3a538b&quot;, &quot;distance&quot;: 7172.098425011379}, &quot;type&quot;: &quot;Feature&quot;}, {&quot;bbox&quot;: [-122.71822852753111, 45.45229589999999, -122.71822852753111, 45.45229589999999], &quot;geometry&quot;: {&quot;coordinates&quot;: [-122.71822852753111, 45.45229589999999], &quot;type&quot;: &quot;Point&quot;}, &quot;id&quot;: &quot;313&quot;, &quot;properties&quot;: {&quot;__folium_color&quot;: &quot;#460b5e&quot;, &quot;distance&quot;: 1053.5999955320917}, &quot;type&quot;: &quot;Feature&quot;}, {&quot;bbox&quot;: [-122.64970215229192, 45.5413761, -122.64970215229192, 45.5413761], &quot;geometry&quot;: {&quot;coordinates&quot;: [-122.64970215229192, 45.5413761], &quot;type&quot;: &quot;Point&quot;}, &quot;id&quot;: &quot;314&quot;, &quot;properties&quot;: {&quot;__folium_color&quot;: &quot;#482878&quot;, &quot;distance&quot;: 3231.2210203011423}, &quot;type&quot;: &quot;Feature&quot;}, {&quot;bbox&quot;: [-122.68115599999999, 45.61374099999999, -122.68115599999999, 45.61374099999999], &quot;geometry&quot;: {&quot;coordinates&quot;: [-122.68115599999999, 45.61374099999999], &quot;type&quot;: &quot;Point&quot;}, &quot;id&quot;: &quot;315&quot;, &quot;properties&quot;: {&quot;__folium_color&quot;: &quot;#355e8d&quot;, &quot;distance&quot;: 8227.470665624118}, &quot;type&quot;: &quot;Feature&quot;}, {&quot;bbox&quot;: [-122.62280719999998, 45.516673399999995, -122.62280719999998, 45.516673399999995], &quot;geometry&quot;: {&quot;coordinates&quot;: [-122.62280719999998, 45.516673399999995], &quot;type&quot;: &quot;Point&quot;}, &quot;id&quot;: &quot;316&quot;, &quot;properties&quot;: {&quot;__folium_color&quot;: &quot;#3e4989&quot;, &quot;distance&quot;: 6205.203376950704}, &quot;type&quot;: &quot;Feature&quot;}, {&quot;bbox&quot;: [-122.58158908944445, 45.54495115, -122.58158908944445, 45.54495115], &quot;geometry&quot;: {&quot;coordinates&quot;: [-122.58158908944445, 45.54495115], &quot;type&quot;: &quot;Point&quot;}, &quot;id&quot;: &quot;317&quot;, &quot;properties&quot;: {&quot;__folium_color&quot;: &quot;#30698e&quot;, &quot;distance&quot;: 9372.955850828506}, &quot;type&quot;: &quot;Feature&quot;}, {&quot;bbox&quot;: [-122.69519824415619, 45.523487499999995, -122.69519824415619, 45.523487499999995], &quot;geometry&quot;: {&quot;coordinates&quot;: [-122.69519824415619, 45.523487499999995], &quot;type&quot;: &quot;Point&quot;}, &quot;id&quot;: &quot;318&quot;, &quot;properties&quot;: {&quot;__folium_color&quot;: &quot;#3c4f8a&quot;, &quot;distance&quot;: 6730.943746671993}, &quot;type&quot;: &quot;Feature&quot;}, {&quot;bbox&quot;: [-122.67753805089235, 45.48594695, -122.67753805089235, 45.48594695], &quot;geometry&quot;: {&quot;coordinates&quot;: [-122.67753805089235, 45.48594695], &quot;type&quot;: &quot;Point&quot;}, &quot;id&quot;: &quot;319&quot;, &quot;properties&quot;: {&quot;__folium_color&quot;: &quot;#26828e&quot;, &quot;distance&quot;: 12175.289382165645}, &quot;type&quot;: &quot;Feature&quot;}, {&quot;bbox&quot;: [-122.659471, 45.529963, -122.659471, 45.529963], &quot;geometry&quot;: {&quot;coordinates&quot;: [-122.659471, 45.529963], &quot;type&quot;: &quot;Point&quot;}, &quot;id&quot;: &quot;320&quot;, &quot;properties&quot;: {&quot;__folium_color&quot;: &quot;#453581&quot;, &quot;distance&quot;: 4433.829285600764}, &quot;type&quot;: &quot;Feature&quot;}, {&quot;bbox&quot;: [-122.62075884009923, 45.53067850000001, -122.62075884009923, 45.53067850000001], &quot;geometry&quot;: {&quot;coordinates&quot;: [-122.62075884009923, 45.53067850000001], &quot;type&quot;: &quot;Point&quot;}, &quot;id&quot;: &quot;321&quot;, &quot;properties&quot;: {&quot;__folium_color&quot;: &quot;#38598c&quot;, &quot;distance&quot;: 7688.721170576587}, &quot;type&quot;: &quot;Feature&quot;}, {&quot;bbox&quot;: [-122.53187818177308, 45.529829750000005, -122.53187818177308, 45.529829750000005], &quot;geometry&quot;: {&quot;coordinates&quot;: [-122.53187818177308, 45.529829750000005], &quot;type&quot;: &quot;Point&quot;}, &quot;id&quot;: &quot;323&quot;, &quot;properties&quot;: {&quot;__folium_color&quot;: &quot;#3d4d8a&quot;, &quot;distance&quot;: 6505.5970116332355}, &quot;type&quot;: &quot;Feature&quot;}, {&quot;bbox&quot;: [-122.5943021401978, 45.50445625, -122.5943021401978, 45.50445625], &quot;geometry&quot;: {&quot;coordinates&quot;: [-122.5943021401978, 45.50445625], &quot;type&quot;: &quot;Point&quot;}, &quot;id&quot;: &quot;324&quot;, &quot;properties&quot;: {&quot;__folium_color&quot;: &quot;#2f6b8e&quot;, &quot;distance&quot;: 9554.381749604994}, &quot;type&quot;: &quot;Feature&quot;}, {&quot;bbox&quot;: [-122.63197264870973, 45.5649002, -122.63197264870973, 45.5649002], &quot;geometry&quot;: {&quot;coordinates&quot;: [-122.63197264870973, 45.5649002], &quot;type&quot;: &quot;Point&quot;}, &quot;id&quot;: &quot;325&quot;, &quot;properties&quot;: {&quot;__folium_color&quot;: &quot;#423f85&quot;, &quot;distance&quot;: 5264.989865203069}, &quot;type&quot;: &quot;Feature&quot;}, {&quot;bbox&quot;: [-122.52831354395865, 45.533220299999996, -122.52831354395865, 45.533220299999996], &quot;geometry&quot;: {&quot;coordinates&quot;: [-122.52831354395865, 45.533220299999996], &quot;type&quot;: &quot;Point&quot;}, &quot;id&quot;: &quot;326&quot;, &quot;properties&quot;: {&quot;__folium_color&quot;: &quot;#2a768e&quot;, &quot;distance&quot;: 10884.775735374636}, &quot;type&quot;: &quot;Feature&quot;}, {&quot;bbox&quot;: [-122.6381227, 45.55665585, -122.6381227, 45.55665585], &quot;geometry&quot;: {&quot;coordinates&quot;: [-122.6381227, 45.55665585], &quot;type&quot;: &quot;Point&quot;}, &quot;id&quot;: &quot;327&quot;, &quot;properties&quot;: {&quot;__folium_color&quot;: &quot;#3c508b&quot;, &quot;distance&quot;: 6800.817554185416}, &quot;type&quot;: &quot;Feature&quot;}, {&quot;bbox&quot;: [-122.63304666236114, 45.563137850000004, -122.63304666236114, 45.563137850000004], &quot;geometry&quot;: {&quot;coordinates&quot;: [-122.63304666236114, 45.563137850000004], &quot;type&quot;: &quot;Point&quot;}, &quot;id&quot;: &quot;328&quot;, &quot;properties&quot;: {&quot;__folium_color&quot;: &quot;#31678e&quot;, &quot;distance&quot;: 9123.209924195624}, &quot;type&quot;: &quot;Feature&quot;}, {&quot;bbox&quot;: [-122.62605112507406, 45.518763299999996, -122.62605112507406, 45.518763299999996], &quot;geometry&quot;: {&quot;coordinates&quot;: [-122.62605112507406, 45.518763299999996], &quot;type&quot;: &quot;Point&quot;}, &quot;id&quot;: &quot;329&quot;, &quot;properties&quot;: {&quot;__folium_color&quot;: &quot;#424186&quot;, &quot;distance&quot;: 5485.461708610544}, &quot;type&quot;: &quot;Feature&quot;}, {&quot;bbox&quot;: [-122.6170259839851, 45.52393515, -122.6170259839851, 45.52393515], &quot;geometry&quot;: {&quot;coordinates&quot;: [-122.6170259839851, 45.52393515], &quot;type&quot;: &quot;Point&quot;}, &quot;id&quot;: &quot;330&quot;, &quot;properties&quot;: {&quot;__folium_color&quot;: &quot;#481c6e&quot;, &quot;distance&quot;: 2224.1956783581863}, &quot;type&quot;: &quot;Feature&quot;}, {&quot;bbox&quot;: [-122.5711436919069, 45.4572898, -122.5711436919069, 45.4572898], &quot;geometry&quot;: {&quot;coordinates&quot;: [-122.5711436919069, 45.4572898], &quot;type&quot;: &quot;Point&quot;}, &quot;id&quot;: &quot;331&quot;, &quot;properties&quot;: {&quot;__folium_color&quot;: &quot;#404588&quot;, &quot;distance&quot;: 5716.148577971089}, &quot;type&quot;: &quot;Feature&quot;}, {&quot;bbox&quot;: [-122.64797892929293, 45.527838, -122.64797892929293, 45.527838], &quot;geometry&quot;: {&quot;coordinates&quot;: [-122.64797892929293, 45.527838], &quot;type&quot;: &quot;Point&quot;}, &quot;id&quot;: &quot;332&quot;, &quot;properties&quot;: {&quot;__folium_color&quot;: &quot;#453581&quot;, &quot;distance&quot;: 4418.232947878894}, &quot;type&quot;: &quot;Feature&quot;}, {&quot;bbox&quot;: [-122.60559296931936, 45.53538775, -122.60559296931936, 45.53538775], &quot;geometry&quot;: {&quot;coordinates&quot;: [-122.60559296931936, 45.53538775], &quot;type&quot;: &quot;Point&quot;}, &quot;id&quot;: &quot;333&quot;, &quot;properties&quot;: {&quot;__folium_color&quot;: &quot;#472e7c&quot;, &quot;distance&quot;: 3738.86080688001}, &quot;type&quot;: &quot;Feature&quot;}, {&quot;bbox&quot;: [-122.6879478634676, 45.57279695, -122.6879478634676, 45.57279695], &quot;geometry&quot;: {&quot;coordinates&quot;: [-122.6879478634676, 45.57279695], &quot;type&quot;: &quot;Point&quot;}, &quot;id&quot;: &quot;334&quot;, &quot;properties&quot;: {&quot;__folium_color&quot;: &quot;#481f70&quot;, &quot;distance&quot;: 2457.559477466001}, &quot;type&quot;: &quot;Feature&quot;}, {&quot;bbox&quot;: [-122.66033330046092, 45.4646069, -122.66033330046092, 45.4646069], &quot;geometry&quot;: {&quot;coordinates&quot;: [-122.66033330046092, 45.4646069], &quot;type&quot;: &quot;Point&quot;}, &quot;id&quot;: &quot;335&quot;, &quot;properties&quot;: {&quot;__folium_color&quot;: &quot;#460b5e&quot;, &quot;distance&quot;: 971.528260701499}, &quot;type&quot;: &quot;Feature&quot;}, {&quot;bbox&quot;: [-122.5785489, 45.546098799999996, -122.5785489, 45.546098799999996], &quot;geometry&quot;: {&quot;coordinates&quot;: [-122.5785489, 45.546098799999996], &quot;type&quot;: &quot;Point&quot;}, &quot;id&quot;: &quot;336&quot;, &quot;properties&quot;: {&quot;__folium_color&quot;: &quot;#460a5d&quot;, &quot;distance&quot;: 934.7458862113017}, &quot;type&quot;: &quot;Feature&quot;}, {&quot;bbox&quot;: [-122.51770371436714, 45.47992385, -122.51770371436714, 45.47992385], &quot;geometry&quot;: {&quot;coordinates&quot;: [-122.51770371436714, 45.47992385], &quot;type&quot;: &quot;Point&quot;}, &quot;id&quot;: &quot;337&quot;, &quot;properties&quot;: {&quot;__folium_color&quot;: &quot;#3e4a89&quot;, &quot;distance&quot;: 6285.94610854959}, &quot;type&quot;: &quot;Feature&quot;}, {&quot;bbox&quot;: [-122.60369951306276, 45.469146249999994, -122.60369951306276, 45.469146249999994], &quot;geometry&quot;: {&quot;coordinates&quot;: [-122.60369951306276, 45.469146249999994], &quot;type&quot;: &quot;Point&quot;}, &quot;id&quot;: &quot;338&quot;, &quot;properties&quot;: {&quot;__folium_color&quot;: &quot;#481769&quot;, &quot;distance&quot;: 1823.5352205679212}, &quot;type&quot;: &quot;Feature&quot;}, {&quot;bbox&quot;: [-122.68077709164827, 45.5855892, -122.68077709164827, 45.5855892], &quot;geometry&quot;: {&quot;coordinates&quot;: [-122.68077709164827, 45.5855892], &quot;type&quot;: &quot;Point&quot;}, &quot;id&quot;: &quot;339&quot;, &quot;properties&quot;: {&quot;__folium_color&quot;: &quot;#46085c&quot;, &quot;distance&quot;: 772.2610488561527}, &quot;type&quot;: &quot;Feature&quot;}, {&quot;bbox&quot;: [-122.6419001896268, 45.4860075, -122.6419001896268, 45.4860075], &quot;geometry&quot;: {&quot;coordinates&quot;: [-122.6419001896268, 45.4860075], &quot;type&quot;: &quot;Point&quot;}, &quot;id&quot;: &quot;341&quot;, &quot;properties&quot;: {&quot;__folium_color&quot;: &quot;#482677&quot;, &quot;distance&quot;: 3157.2559715529874}, &quot;type&quot;: &quot;Feature&quot;}, {&quot;bbox&quot;: [-122.67081975952229, 45.541587699999994, -122.67081975952229, 45.541587699999994], &quot;geometry&quot;: {&quot;coordinates&quot;: [-122.67081975952229, 45.541587699999994], &quot;type&quot;: &quot;Point&quot;}, &quot;id&quot;: &quot;342&quot;, &quot;properties&quot;: {&quot;__folium_color&quot;: &quot;#20a486&quot;, &quot;distance&quot;: 16057.929369183494}, &quot;type&quot;: &quot;Feature&quot;}, {&quot;bbox&quot;: [-122.60293949279962, 45.52953404999998, -122.60293949279962, 45.52953404999998], &quot;geometry&quot;: {&quot;coordinates&quot;: [-122.60293949279962, 45.52953404999998], &quot;type&quot;: &quot;Point&quot;}, &quot;id&quot;: &quot;343&quot;, &quot;properties&quot;: {&quot;__folium_color&quot;: &quot;#463480&quot;, &quot;distance&quot;: 4259.599200694484}, &quot;type&quot;: &quot;Feature&quot;}, {&quot;bbox&quot;: [-122.63559877950304, 45.48070221616185, -122.63559877950304, 45.48070221616185], &quot;geometry&quot;: {&quot;coordinates&quot;: [-122.63559877950304, 45.48070221616185], &quot;type&quot;: &quot;Point&quot;}, &quot;id&quot;: &quot;344&quot;, &quot;properties&quot;: {&quot;__folium_color&quot;: &quot;#482071&quot;, &quot;distance&quot;: 2628.992319310025}, &quot;type&quot;: &quot;Feature&quot;}, {&quot;bbox&quot;: [-122.76010351628408, 45.59016395000001, -122.76010351628408, 45.59016395000001], &quot;geometry&quot;: {&quot;coordinates&quot;: [-122.76010351628408, 45.59016395000001], &quot;type&quot;: &quot;Point&quot;}, &quot;id&quot;: &quot;345&quot;, &quot;properties&quot;: {&quot;__folium_color&quot;: &quot;#460b5e&quot;, &quot;distance&quot;: 1007.7319433055908}, &quot;type&quot;: &quot;Feature&quot;}, {&quot;bbox&quot;: [-122.58342557142856, 45.549682857142855, -122.58342557142856, 45.549682857142855], &quot;geometry&quot;: {&quot;coordinates&quot;: [-122.58342557142856, 45.549682857142855], &quot;type&quot;: &quot;Point&quot;}, &quot;id&quot;: &quot;346&quot;, &quot;properties&quot;: {&quot;__folium_color&quot;: &quot;#31668e&quot;, &quot;distance&quot;: 9018.254564112944}, &quot;type&quot;: &quot;Feature&quot;}, {&quot;bbox&quot;: [-122.70896450625568, 45.442094899999994, -122.70896450625568, 45.442094899999994], &quot;geometry&quot;: {&quot;coordinates&quot;: [-122.70896450625568, 45.442094899999994], &quot;type&quot;: &quot;Point&quot;}, &quot;id&quot;: &quot;347&quot;, &quot;properties&quot;: {&quot;__folium_color&quot;: &quot;#481a6c&quot;, &quot;distance&quot;: 2060.661914419773}, &quot;type&quot;: &quot;Feature&quot;}, {&quot;bbox&quot;: [-122.55986694414793, 45.50112335, -122.55986694414793, 45.50112335], &quot;geometry&quot;: {&quot;coordinates&quot;: [-122.55986694414793, 45.50112335], &quot;type&quot;: &quot;Point&quot;}, &quot;id&quot;: &quot;348&quot;, &quot;properties&quot;: {&quot;__folium_color&quot;: &quot;#24878e&quot;, &quot;distance&quot;: 12750.685919722246}, &quot;type&quot;: &quot;Feature&quot;}, {&quot;bbox&quot;: [-122.55099291681408, 45.41777904999999, -122.55099291681408, 45.41777904999999], &quot;geometry&quot;: {&quot;coordinates&quot;: [-122.55099291681408, 45.41777904999999], &quot;type&quot;: &quot;Point&quot;}, &quot;id&quot;: &quot;349&quot;, &quot;properties&quot;: {&quot;__folium_color&quot;: &quot;#2ab07f&quot;, &quot;distance&quot;: 17410.3106138065}, &quot;type&quot;: &quot;Feature&quot;}, {&quot;bbox&quot;: [-122.65579434984625, 45.54450419999999, -122.65579434984625, 45.54450419999999], &quot;geometry&quot;: {&quot;coordinates&quot;: [-122.65579434984625, 45.54450419999999], &quot;type&quot;: &quot;Point&quot;}, &quot;id&quot;: &quot;350&quot;, &quot;properties&quot;: {&quot;__folium_color&quot;: &quot;#423f85&quot;, &quot;distance&quot;: 5226.4580979417115}, &quot;type&quot;: &quot;Feature&quot;}, {&quot;bbox&quot;: [-122.74385255133825, 45.50441345, -122.74385255133825, 45.50441345], &quot;geometry&quot;: {&quot;coordinates&quot;: [-122.74385255133825, 45.50441345], &quot;type&quot;: &quot;Point&quot;}, &quot;id&quot;: &quot;351&quot;, &quot;properties&quot;: {&quot;__folium_color&quot;: &quot;#3b518b&quot;, &quot;distance&quot;: 6885.636655169538}, &quot;type&quot;: &quot;Feature&quot;}, {&quot;bbox&quot;: [-122.6166380374955, 45.49507445, -122.6166380374955, 45.49507445], &quot;geometry&quot;: {&quot;coordinates&quot;: [-122.6166380374955, 45.49507445], &quot;type&quot;: &quot;Point&quot;}, &quot;id&quot;: &quot;352&quot;, &quot;properties&quot;: {&quot;__folium_color&quot;: &quot;#3c508b&quot;, &quot;distance&quot;: 6779.052117236306}, &quot;type&quot;: &quot;Feature&quot;}, {&quot;bbox&quot;: [-122.58436470959148, 45.53697974999999, -122.58436470959148, 45.53697974999999], &quot;geometry&quot;: {&quot;coordinates&quot;: [-122.58436470959148, 45.53697974999999], &quot;type&quot;: &quot;Point&quot;}, &quot;id&quot;: &quot;353&quot;, &quot;properties&quot;: {&quot;__folium_color&quot;: &quot;#38598c&quot;, &quot;distance&quot;: 7721.084934017689}, &quot;type&quot;: &quot;Feature&quot;}, {&quot;bbox&quot;: [-122.70445546787154, 45.55797504999998, -122.70445546787154, 45.55797504999998], &quot;geometry&quot;: {&quot;coordinates&quot;: [-122.70445546787154, 45.55797504999998], &quot;type&quot;: &quot;Point&quot;}, &quot;id&quot;: &quot;354&quot;, &quot;properties&quot;: {&quot;__folium_color&quot;: &quot;#472d7b&quot;, &quot;distance&quot;: 3646.8003511768707}, &quot;type&quot;: &quot;Feature&quot;}, {&quot;bbox&quot;: [-122.68406497370846, 45.4827916, -122.68406497370846, 45.4827916], &quot;geometry&quot;: {&quot;coordinates&quot;: [-122.68406497370846, 45.4827916], &quot;type&quot;: &quot;Point&quot;}, &quot;id&quot;: &quot;355&quot;, &quot;properties&quot;: {&quot;__folium_color&quot;: &quot;#2f6b8e&quot;, &quot;distance&quot;: 9553.16997218668}, &quot;type&quot;: &quot;Feature&quot;}, {&quot;bbox&quot;: [-122.66455447392201, 45.5737565, -122.66455447392201, 45.5737565], &quot;geometry&quot;: {&quot;coordinates&quot;: [-122.66455447392201, 45.5737565], &quot;type&quot;: &quot;Point&quot;}, &quot;id&quot;: &quot;356&quot;, &quot;properties&quot;: {&quot;__folium_color&quot;: &quot;#46337f&quot;, &quot;distance&quot;: 4150.334270253447}, &quot;type&quot;: &quot;Feature&quot;}, {&quot;bbox&quot;: [-122.61819514937194, 45.53948189999999, -122.61819514937194, 45.53948189999999], &quot;geometry&quot;: {&quot;coordinates&quot;: [-122.61819514937194, 45.53948189999999], &quot;type&quot;: &quot;Point&quot;}, &quot;id&quot;: &quot;357&quot;, &quot;properties&quot;: {&quot;__folium_color&quot;: &quot;#472f7d&quot;, &quot;distance&quot;: 3879.93284979377}, &quot;type&quot;: &quot;Feature&quot;}, {&quot;bbox&quot;: [-122.65120418367347, 45.533528734693874, -122.65120418367347, 45.533528734693874], &quot;geometry&quot;: {&quot;coordinates&quot;: [-122.65120418367347, 45.533528734693874], &quot;type&quot;: &quot;Point&quot;}, &quot;id&quot;: &quot;358&quot;, &quot;properties&quot;: {&quot;__folium_color&quot;: &quot;#481f70&quot;, &quot;distance&quot;: 2509.78238825265}, &quot;type&quot;: &quot;Feature&quot;}, {&quot;bbox&quot;: [-122.61293463901214, 45.54763269999999, -122.61293463901214, 45.54763269999999], &quot;geometry&quot;: {&quot;coordinates&quot;: [-122.61293463901214, 45.54763269999999], &quot;type&quot;: &quot;Point&quot;}, &quot;id&quot;: &quot;359&quot;, &quot;properties&quot;: {&quot;__folium_color&quot;: &quot;#481769&quot;, &quot;distance&quot;: 1835.8296213157985}, &quot;type&quot;: &quot;Feature&quot;}, {&quot;bbox&quot;: [-122.7131269773098, 45.478162149999996, -122.7131269773098, 45.478162149999996], &quot;geometry&quot;: {&quot;coordinates&quot;: [-122.7131269773098, 45.478162149999996], &quot;type&quot;: &quot;Point&quot;}, &quot;id&quot;: &quot;361&quot;, &quot;properties&quot;: {&quot;__folium_color&quot;: &quot;#481b6d&quot;, &quot;distance&quot;: 2136.1206434287287}, &quot;type&quot;: &quot;Feature&quot;}, {&quot;bbox&quot;: [-122.75458130319149, 45.605872813829784, -122.75458130319149, 45.605872813829784], &quot;geometry&quot;: {&quot;coordinates&quot;: [-122.75458130319149, 45.605872813829784], &quot;type&quot;: &quot;Point&quot;}, &quot;id&quot;: &quot;362&quot;, &quot;properties&quot;: {&quot;__folium_color&quot;: &quot;#482071&quot;, &quot;distance&quot;: 2550.0324770572033}, &quot;type&quot;: &quot;Feature&quot;}, {&quot;bbox&quot;: [-122.59062932497672, 45.527688399999995, -122.59062932497672, 45.527688399999995], &quot;geometry&quot;: {&quot;coordinates&quot;: [-122.59062932497672, 45.527688399999995], &quot;type&quot;: &quot;Point&quot;}, &quot;id&quot;: &quot;364&quot;, &quot;properties&quot;: {&quot;__folium_color&quot;: &quot;#46327e&quot;, &quot;distance&quot;: 4076.892098206049}, &quot;type&quot;: &quot;Feature&quot;}, {&quot;bbox&quot;: [-122.69779728790904, 45.638799896809545, -122.69779728790904, 45.638799896809545], &quot;geometry&quot;: {&quot;coordinates&quot;: [-122.69779728790904, 45.638799896809545], &quot;type&quot;: &quot;Point&quot;}, &quot;id&quot;: &quot;365&quot;, &quot;properties&quot;: {&quot;__folium_color&quot;: &quot;#42be71&quot;, &quot;distance&quot;: 19081.010693552147}, &quot;type&quot;: &quot;Feature&quot;}, {&quot;bbox&quot;: [-122.6763518, 45.49264509999999, -122.6763518, 45.49264509999999], &quot;geometry&quot;: {&quot;coordinates&quot;: [-122.6763518, 45.49264509999999], &quot;type&quot;: &quot;Point&quot;}, &quot;id&quot;: &quot;366&quot;, &quot;properties&quot;: {&quot;__folium_color&quot;: &quot;#443a83&quot;, &quot;distance&quot;: 4761.967599278902}, &quot;type&quot;: &quot;Feature&quot;}, {&quot;bbox&quot;: [-122.71871110011996, 45.446261799999995, -122.71871110011996, 45.446261799999995], &quot;geometry&quot;: {&quot;coordinates&quot;: [-122.71871110011996, 45.446261799999995], &quot;type&quot;: &quot;Point&quot;}, &quot;id&quot;: &quot;367&quot;, &quot;properties&quot;: {&quot;__folium_color&quot;: &quot;#46085c&quot;, &quot;distance&quot;: 799.3649433472435}, &quot;type&quot;: &quot;Feature&quot;}, {&quot;bbox&quot;: [-122.69370959755436, 45.576616699999995, -122.69370959755436, 45.576616699999995], &quot;geometry&quot;: {&quot;coordinates&quot;: [-122.69370959755436, 45.576616699999995], &quot;type&quot;: &quot;Point&quot;}, &quot;id&quot;: &quot;368&quot;, &quot;properties&quot;: {&quot;__folium_color&quot;: &quot;#1f9f88&quot;, &quot;distance&quot;: 15378.999526289526}, &quot;type&quot;: &quot;Feature&quot;}, {&quot;bbox&quot;: [-122.52825804413602, 45.472758480669484, -122.52825804413602, 45.472758480669484], &quot;geometry&quot;: {&quot;coordinates&quot;: [-122.52825804413602, 45.472758480669484], &quot;type&quot;: &quot;Point&quot;}, &quot;id&quot;: &quot;369&quot;, &quot;properties&quot;: {&quot;__folium_color&quot;: &quot;#37b878&quot;, &quot;distance&quot;: 18329.56002742286}, &quot;type&quot;: &quot;Feature&quot;}, {&quot;bbox&quot;: [-122.56274706060606, 45.48981166666667, -122.56274706060606, 45.48981166666667], &quot;geometry&quot;: {&quot;coordinates&quot;: [-122.56274706060606, 45.48981166666667], &quot;type&quot;: &quot;Point&quot;}, &quot;id&quot;: &quot;370&quot;, &quot;properties&quot;: {&quot;__folium_color&quot;: &quot;#433d84&quot;, &quot;distance&quot;: 5057.93215948375}, &quot;type&quot;: &quot;Feature&quot;}, {&quot;bbox&quot;: [-122.69187984999998, 45.479838349999994, -122.69187984999998, 45.479838349999994], &quot;geometry&quot;: {&quot;coordinates&quot;: [-122.69187984999998, 45.479838349999994], &quot;type&quot;: &quot;Point&quot;}, &quot;id&quot;: &quot;371&quot;, &quot;properties&quot;: {&quot;__folium_color&quot;: &quot;#3e4a89&quot;, &quot;distance&quot;: 6279.330111462669}, &quot;type&quot;: &quot;Feature&quot;}, {&quot;bbox&quot;: [-122.58897129999998, 45.53103795, -122.58897129999998, 45.53103795], &quot;geometry&quot;: {&quot;coordinates&quot;: [-122.58897129999998, 45.53103795], &quot;type&quot;: &quot;Point&quot;}, &quot;id&quot;: &quot;372&quot;, &quot;properties&quot;: {&quot;__folium_color&quot;: &quot;#34608d&quot;, &quot;distance&quot;: 8454.177313068021}, &quot;type&quot;: &quot;Feature&quot;}, {&quot;bbox&quot;: [-122.53335713567625, 45.5155835, -122.53335713567625, 45.5155835], &quot;geometry&quot;: {&quot;coordinates&quot;: [-122.53335713567625, 45.5155835], &quot;type&quot;: &quot;Point&quot;}, &quot;id&quot;: &quot;373&quot;, &quot;properties&quot;: {&quot;__folium_color&quot;: &quot;#26ad81&quot;, &quot;distance&quot;: 16964.117473513346}, &quot;type&quot;: &quot;Feature&quot;}, {&quot;bbox&quot;: [-122.65296749999999, 45.49070715, -122.65296749999999, 45.49070715], &quot;geometry&quot;: {&quot;coordinates&quot;: [-122.65296749999999, 45.49070715], &quot;type&quot;: &quot;Point&quot;}, &quot;id&quot;: &quot;374&quot;, &quot;properties&quot;: {&quot;__folium_color&quot;: &quot;#433e85&quot;, &quot;distance&quot;: 5156.2919628119125}, &quot;type&quot;: &quot;Feature&quot;}, {&quot;bbox&quot;: [-122.76634879087959, 45.50679025000001, -122.76634879087959, 45.50679025000001], &quot;geometry&quot;: {&quot;coordinates&quot;: [-122.76634879087959, 45.50679025000001], &quot;type&quot;: &quot;Point&quot;}, &quot;id&quot;: &quot;375&quot;, &quot;properties&quot;: {&quot;__folium_color&quot;: &quot;#31678e&quot;, &quot;distance&quot;: 9112.30602878895}, &quot;type&quot;: &quot;Feature&quot;}, {&quot;bbox&quot;: [-122.51387524123855, 45.45244435, -122.51387524123855, 45.45244435], &quot;geometry&quot;: {&quot;coordinates&quot;: [-122.51387524123855, 45.45244435], &quot;type&quot;: &quot;Point&quot;}, &quot;id&quot;: &quot;376&quot;, &quot;properties&quot;: {&quot;__folium_color&quot;: &quot;#2c738e&quot;, &quot;distance&quot;: 10567.967667504332}, &quot;type&quot;: &quot;Feature&quot;}, {&quot;bbox&quot;: [-122.72808024009825, 45.46579224999999, -122.72808024009825, 45.46579224999999], &quot;geometry&quot;: {&quot;coordinates&quot;: [-122.72808024009825, 45.46579224999999], &quot;type&quot;: &quot;Point&quot;}, &quot;id&quot;: &quot;377&quot;, &quot;properties&quot;: {&quot;__folium_color&quot;: &quot;#482374&quot;, &quot;distance&quot;: 2838.2600916125643}, &quot;type&quot;: &quot;Feature&quot;}, {&quot;bbox&quot;: [-122.65578129999999, 45.538039600000005, -122.65578129999999, 45.538039600000005], &quot;geometry&quot;: {&quot;coordinates&quot;: [-122.65578129999999, 45.538039600000005], &quot;type&quot;: &quot;Point&quot;}, &quot;id&quot;: &quot;378&quot;, &quot;properties&quot;: {&quot;__folium_color&quot;: &quot;#443a83&quot;, &quot;distance&quot;: 4846.267619697652}, &quot;type&quot;: &quot;Feature&quot;}, {&quot;bbox&quot;: [-122.7076141836049, 45.53555015, -122.7076141836049, 45.53555015], &quot;geometry&quot;: {&quot;coordinates&quot;: [-122.7076141836049, 45.53555015], &quot;type&quot;: &quot;Point&quot;}, &quot;id&quot;: &quot;379&quot;, &quot;properties&quot;: {&quot;__folium_color&quot;: &quot;#472c7a&quot;, &quot;distance&quot;: 3573.1548968984275}, &quot;type&quot;: &quot;Feature&quot;}, {&quot;bbox&quot;: [-122.66443240000001, 45.53361255, -122.66443240000001, 45.53361255], &quot;geometry&quot;: {&quot;coordinates&quot;: [-122.66443240000001, 45.53361255], &quot;type&quot;: &quot;Point&quot;}, &quot;id&quot;: &quot;380&quot;, &quot;properties&quot;: {&quot;__folium_color&quot;: &quot;#443a83&quot;, &quot;distance&quot;: 4857.647342199336}, &quot;type&quot;: &quot;Feature&quot;}, {&quot;bbox&quot;: [-122.69518194387574, 45.57553144999999, -122.69518194387574, 45.57553144999999], &quot;geometry&quot;: {&quot;coordinates&quot;: [-122.69518194387574, 45.57553144999999], &quot;type&quot;: &quot;Point&quot;}, &quot;id&quot;: &quot;381&quot;, &quot;properties&quot;: {&quot;__folium_color&quot;: &quot;#3d4d8a&quot;, &quot;distance&quot;: 6499.67013952943}, &quot;type&quot;: &quot;Feature&quot;}, {&quot;bbox&quot;: [-122.52581878231904, 45.52278575, -122.52581878231904, 45.52278575], &quot;geometry&quot;: {&quot;coordinates&quot;: [-122.52581878231904, 45.52278575], &quot;type&quot;: &quot;Point&quot;}, &quot;id&quot;: &quot;382&quot;, &quot;properties&quot;: {&quot;__folium_color&quot;: &quot;#58c765&quot;, &quot;distance&quot;: 20269.15821984063}, &quot;type&quot;: &quot;Feature&quot;}, {&quot;bbox&quot;: [-122.73495037950781, 45.51433135, -122.73495037950781, 45.51433135], &quot;geometry&quot;: {&quot;coordinates&quot;: [-122.73495037950781, 45.51433135], &quot;type&quot;: &quot;Point&quot;}, &quot;id&quot;: &quot;383&quot;, &quot;properties&quot;: {&quot;__folium_color&quot;: &quot;#2a768e&quot;, &quot;distance&quot;: 10831.172730536522}, &quot;type&quot;: &quot;Feature&quot;}, {&quot;bbox&quot;: [-122.66125075869247, 45.453307249999995, -122.66125075869247, 45.453307249999995], &quot;geometry&quot;: {&quot;coordinates&quot;: [-122.66125075869247, 45.453307249999995], &quot;type&quot;: &quot;Point&quot;}, &quot;id&quot;: &quot;385&quot;, &quot;properties&quot;: {&quot;__folium_color&quot;: &quot;#3c508b&quot;, &quot;distance&quot;: 6823.94558151615}, &quot;type&quot;: &quot;Feature&quot;}, {&quot;bbox&quot;: [-122.7544991880077, 45.59627724999999, -122.7544991880077, 45.59627724999999], &quot;geometry&quot;: {&quot;coordinates&quot;: [-122.7544991880077, 45.59627724999999], &quot;type&quot;: &quot;Point&quot;}, &quot;id&quot;: &quot;386&quot;, &quot;properties&quot;: {&quot;__folium_color&quot;: &quot;#470d60&quot;, &quot;distance&quot;: 1064.4194342772078}, &quot;type&quot;: &quot;Feature&quot;}, {&quot;bbox&quot;: [-122.65343917235066, 45.59102945, -122.65343917235066, 45.59102945], &quot;geometry&quot;: {&quot;coordinates&quot;: [-122.65343917235066, 45.59102945], &quot;type&quot;: &quot;Point&quot;}, &quot;id&quot;: &quot;387&quot;, &quot;properties&quot;: {&quot;__folium_color&quot;: &quot;#472f7d&quot;, &quot;distance&quot;: 3901.89394602001}, &quot;type&quot;: &quot;Feature&quot;}, {&quot;bbox&quot;: [-122.64213335000001, 45.55137944999999, -122.64213335000001, 45.55137944999999], &quot;geometry&quot;: {&quot;coordinates&quot;: [-122.64213335000001, 45.55137944999999], &quot;type&quot;: &quot;Point&quot;}, &quot;id&quot;: &quot;388&quot;, &quot;properties&quot;: {&quot;__folium_color&quot;: &quot;#470d60&quot;, &quot;distance&quot;: 1087.5875283364167}, &quot;type&quot;: &quot;Feature&quot;}, {&quot;bbox&quot;: [-122.57245166914609, 45.546232200000006, -122.57245166914609, 45.546232200000006], &quot;geometry&quot;: {&quot;coordinates&quot;: [-122.57245166914609, 45.546232200000006], &quot;type&quot;: &quot;Point&quot;}, &quot;id&quot;: &quot;389&quot;, &quot;properties&quot;: {&quot;__folium_color&quot;: &quot;#287d8e&quot;, &quot;distance&quot;: 11555.889827883033}, &quot;type&quot;: &quot;Feature&quot;}, {&quot;bbox&quot;: [-122.70729995456952, 45.532555349975, -122.70729995456952, 45.532555349975], &quot;geometry&quot;: {&quot;coordinates&quot;: [-122.70729995456952, 45.532555349975], &quot;type&quot;: &quot;Point&quot;}, &quot;id&quot;: &quot;390&quot;, &quot;properties&quot;: {&quot;__folium_color&quot;: &quot;#482878&quot;, &quot;distance&quot;: 3217.519120111018}, &quot;type&quot;: &quot;Feature&quot;}, {&quot;bbox&quot;: [-122.77699516599368, 45.46727942644725, -122.77699516599368, 45.46727942644725], &quot;geometry&quot;: {&quot;coordinates&quot;: [-122.77699516599368, 45.46727942644725], &quot;type&quot;: &quot;Point&quot;}, &quot;id&quot;: &quot;391&quot;, &quot;properties&quot;: {&quot;__folium_color&quot;: &quot;#3d4d8a&quot;, &quot;distance&quot;: 6502.607561546085}, &quot;type&quot;: &quot;Feature&quot;}, {&quot;bbox&quot;: [-122.63041249999999, 45.52667865, -122.63041249999999, 45.52667865], &quot;geometry&quot;: {&quot;coordinates&quot;: [-122.63041249999999, 45.52667865], &quot;type&quot;: &quot;Point&quot;}, &quot;id&quot;: &quot;392&quot;, &quot;properties&quot;: {&quot;__folium_color&quot;: &quot;#3e4a89&quot;, &quot;distance&quot;: 6267.44408473434}, &quot;type&quot;: &quot;Feature&quot;}, {&quot;bbox&quot;: [-122.62623533857128, 45.5001591076148, -122.62623533857128, 45.5001591076148], &quot;geometry&quot;: {&quot;coordinates&quot;: [-122.62623533857128, 45.5001591076148], &quot;type&quot;: &quot;Point&quot;}, &quot;id&quot;: &quot;393&quot;, &quot;properties&quot;: {&quot;__folium_color&quot;: &quot;#3f4788&quot;, &quot;distance&quot;: 5948.304124906863}, &quot;type&quot;: &quot;Feature&quot;}, {&quot;bbox&quot;: [-122.60481032834008, 45.500546549999996, -122.60481032834008, 45.500546549999996], &quot;geometry&quot;: {&quot;coordinates&quot;: [-122.60481032834008, 45.500546549999996], &quot;type&quot;: &quot;Point&quot;}, &quot;id&quot;: &quot;394&quot;, &quot;properties&quot;: {&quot;__folium_color&quot;: &quot;#472c7a&quot;, &quot;distance&quot;: 3515.7377667983174}, &quot;type&quot;: &quot;Feature&quot;}, {&quot;bbox&quot;: [-122.75415217125467, 45.501392800000005, -122.75415217125467, 45.501392800000005], &quot;geometry&quot;: {&quot;coordinates&quot;: [-122.75415217125467, 45.501392800000005], &quot;type&quot;: &quot;Point&quot;}, &quot;id&quot;: &quot;395&quot;, &quot;properties&quot;: {&quot;__folium_color&quot;: &quot;#365d8d&quot;, &quot;distance&quot;: 8127.907409077597}, &quot;type&quot;: &quot;Feature&quot;}, {&quot;bbox&quot;: [-122.62551219191982, 45.52730890000001, -122.62551219191982, 45.52730890000001], &quot;geometry&quot;: {&quot;coordinates&quot;: [-122.62551219191982, 45.52730890000001], &quot;type&quot;: &quot;Point&quot;}, &quot;id&quot;: &quot;396&quot;, &quot;properties&quot;: {&quot;__folium_color&quot;: &quot;#355f8d&quot;, &quot;distance&quot;: 8295.383078909279}, &quot;type&quot;: &quot;Feature&quot;}, {&quot;bbox&quot;: [-122.61920894387596, 45.5688088, -122.61920894387596, 45.5688088], &quot;geometry&quot;: {&quot;coordinates&quot;: [-122.61920894387596, 45.5688088], &quot;type&quot;: &quot;Point&quot;}, &quot;id&quot;: &quot;397&quot;, &quot;properties&quot;: {&quot;__folium_color&quot;: &quot;#404688&quot;, &quot;distance&quot;: 5912.047719788625}, &quot;type&quot;: &quot;Feature&quot;}, {&quot;bbox&quot;: [-122.58679479348542, 45.48735055, -122.58679479348542, 45.48735055], &quot;geometry&quot;: {&quot;coordinates&quot;: [-122.58679479348542, 45.48735055], &quot;type&quot;: &quot;Point&quot;}, &quot;id&quot;: &quot;398&quot;, &quot;properties&quot;: {&quot;__folium_color&quot;: &quot;#482677&quot;, &quot;distance&quot;: 3113.6982973139166}, &quot;type&quot;: &quot;Feature&quot;}, {&quot;bbox&quot;: [-122.60865971676715, 45.465462200000005, -122.60865971676715, 45.465462200000005], &quot;geometry&quot;: {&quot;coordinates&quot;: [-122.60865971676715, 45.465462200000005], &quot;type&quot;: &quot;Point&quot;}, &quot;id&quot;: &quot;399&quot;, &quot;properties&quot;: {&quot;__folium_color&quot;: &quot;#481b6d&quot;, &quot;distance&quot;: 2183.8082638260585}, &quot;type&quot;: &quot;Feature&quot;}, {&quot;bbox&quot;: [-122.66605628571425, 45.53659257142857, -122.66605628571425, 45.53659257142857], &quot;geometry&quot;: {&quot;coordinates&quot;: [-122.66605628571425, 45.53659257142857], &quot;type&quot;: &quot;Point&quot;}, &quot;id&quot;: &quot;400&quot;, &quot;properties&quot;: {&quot;__folium_color&quot;: &quot;#46085c&quot;, &quot;distance&quot;: 805.1179113557064}, &quot;type&quot;: &quot;Feature&quot;}, {&quot;bbox&quot;: [-122.63662572484209, 45.52250465, -122.63662572484209, 45.52250465], &quot;geometry&quot;: {&quot;coordinates&quot;: [-122.63662572484209, 45.52250465], &quot;type&quot;: &quot;Point&quot;}, &quot;id&quot;: &quot;403&quot;, &quot;properties&quot;: {&quot;__folium_color&quot;: &quot;#46337f&quot;, &quot;distance&quot;: 4215.870505161216}, &quot;type&quot;: &quot;Feature&quot;}, {&quot;bbox&quot;: [-122.67235399999997, 45.52610700000001, -122.67235399999997, 45.52610700000001], &quot;geometry&quot;: {&quot;coordinates&quot;: [-122.67235399999997, 45.52610700000001], &quot;type&quot;: &quot;Point&quot;}, &quot;id&quot;: &quot;404&quot;, &quot;properties&quot;: {&quot;__folium_color&quot;: &quot;#481769&quot;, &quot;distance&quot;: 1850.8862205998112}, &quot;type&quot;: &quot;Feature&quot;}, {&quot;bbox&quot;: [-122.5609970203077, 45.527376849999996, -122.5609970203077, 45.527376849999996], &quot;geometry&quot;: {&quot;coordinates&quot;: [-122.5609970203077, 45.527376849999996], &quot;type&quot;: &quot;Point&quot;}, &quot;id&quot;: &quot;405&quot;, &quot;properties&quot;: {&quot;__folium_color&quot;: &quot;#3a538b&quot;, &quot;distance&quot;: 7130.512895744441}, &quot;type&quot;: &quot;Feature&quot;}, {&quot;bbox&quot;: [-122.76276334664948, 45.47729135, -122.76276334664948, 45.47729135], &quot;geometry&quot;: {&quot;coordinates&quot;: [-122.76276334664948, 45.47729135], &quot;type&quot;: &quot;Point&quot;}, &quot;id&quot;: &quot;406&quot;, &quot;properties&quot;: {&quot;__folium_color&quot;: &quot;#2a768e&quot;, &quot;distance&quot;: 10853.999967061813}, &quot;type&quot;: &quot;Feature&quot;}, {&quot;bbox&quot;: [-122.60735150413247, 45.5070923, -122.60735150413247, 45.5070923], &quot;geometry&quot;: {&quot;coordinates&quot;: [-122.60735150413247, 45.5070923], &quot;type&quot;: &quot;Point&quot;}, &quot;id&quot;: &quot;407&quot;, &quot;properties&quot;: {&quot;__folium_color&quot;: &quot;#32658e&quot;, &quot;distance&quot;: 8924.966118480239}, &quot;type&quot;: &quot;Feature&quot;}, {&quot;bbox&quot;: [-122.68420465, 45.519971, -122.68420465, 45.519971], &quot;geometry&quot;: {&quot;coordinates&quot;: [-122.68420465, 45.519971], &quot;type&quot;: &quot;Point&quot;}, &quot;id&quot;: &quot;409&quot;, &quot;properties&quot;: {&quot;__folium_color&quot;: &quot;#440154&quot;, &quot;distance&quot;: 210.70914605598537}, &quot;type&quot;: &quot;Feature&quot;}, {&quot;bbox&quot;: [-122.59055419999999, 45.5895038, -122.59055419999999, 45.5895038], &quot;geometry&quot;: {&quot;coordinates&quot;: [-122.59055419999999, 45.5895038], &quot;type&quot;: &quot;Point&quot;}, &quot;id&quot;: &quot;410&quot;, &quot;properties&quot;: {&quot;__folium_color&quot;: &quot;#3f4889&quot;, &quot;distance&quot;: 6106.799313327476}, &quot;type&quot;: &quot;Feature&quot;}, {&quot;bbox&quot;: [-122.69252399999996, 45.58426755, -122.69252399999996, 45.58426755], &quot;geometry&quot;: {&quot;coordinates&quot;: [-122.69252399999996, 45.58426755], &quot;type&quot;: &quot;Point&quot;}, &quot;id&quot;: &quot;411&quot;, &quot;properties&quot;: {&quot;__folium_color&quot;: &quot;#3a548c&quot;, &quot;distance&quot;: 7196.488155293945}, &quot;type&quot;: &quot;Feature&quot;}, {&quot;bbox&quot;: [-122.58709374434503, 45.5566024, -122.58709374434503, 45.5566024], &quot;geometry&quot;: {&quot;coordinates&quot;: [-122.58709374434503, 45.5566024], &quot;type&quot;: &quot;Point&quot;}, &quot;id&quot;: &quot;412&quot;, &quot;properties&quot;: {&quot;__folium_color&quot;: &quot;#460b5e&quot;, &quot;distance&quot;: 1016.2222920787209}, &quot;type&quot;: &quot;Feature&quot;}, {&quot;bbox&quot;: [-122.50972207699903, 45.55395385, -122.50972207699903, 45.55395385], &quot;geometry&quot;: {&quot;coordinates&quot;: [-122.50972207699903, 45.55395385], &quot;type&quot;: &quot;Point&quot;}, &quot;id&quot;: &quot;413&quot;, &quot;properties&quot;: {&quot;__folium_color&quot;: &quot;#1fa287&quot;, &quot;distance&quot;: 15794.23247621428}, &quot;type&quot;: &quot;Feature&quot;}, {&quot;bbox&quot;: [-122.47925507882083, 45.503793349999995, -122.47925507882083, 45.503793349999995], &quot;geometry&quot;: {&quot;coordinates&quot;: [-122.47925507882083, 45.503793349999995], &quot;type&quot;: &quot;Point&quot;}, &quot;id&quot;: &quot;414&quot;, &quot;properties&quot;: {&quot;__folium_color&quot;: &quot;#3b518b&quot;, &quot;distance&quot;: 6904.72060119642}, &quot;type&quot;: &quot;Feature&quot;}, {&quot;bbox&quot;: [-122.69486377518221, 45.56802484999999, -122.69486377518221, 45.56802484999999], &quot;geometry&quot;: {&quot;coordinates&quot;: [-122.69486377518221, 45.56802484999999], &quot;type&quot;: &quot;Point&quot;}, &quot;id&quot;: &quot;415&quot;, &quot;properties&quot;: {&quot;__folium_color&quot;: &quot;#306a8e&quot;, &quot;distance&quot;: 9520.707729418593}, &quot;type&quot;: &quot;Feature&quot;}, {&quot;bbox&quot;: [-122.73744063478613, 45.597216599999996, -122.73744063478613, 45.597216599999996], &quot;geometry&quot;: {&quot;coordinates&quot;: [-122.73744063478613, 45.597216599999996], &quot;type&quot;: &quot;Point&quot;}, &quot;id&quot;: &quot;416&quot;, &quot;properties&quot;: {&quot;__folium_color&quot;: &quot;#481769&quot;, &quot;distance&quot;: 1897.63223547031}, &quot;type&quot;: &quot;Feature&quot;}, {&quot;bbox&quot;: [-122.6371847, 45.557445249999994, -122.6371847, 45.557445249999994], &quot;geometry&quot;: {&quot;coordinates&quot;: [-122.6371847, 45.557445249999994], &quot;type&quot;: &quot;Point&quot;}, &quot;id&quot;: &quot;417&quot;, &quot;properties&quot;: {&quot;__folium_color&quot;: &quot;#3c508b&quot;, &quot;distance&quot;: 6808.652247311909}, &quot;type&quot;: &quot;Feature&quot;}, {&quot;bbox&quot;: [-122.50984906363634, 45.536717200000005, -122.50984906363634, 45.536717200000005], &quot;geometry&quot;: {&quot;coordinates&quot;: [-122.50984906363634, 45.536717200000005], &quot;type&quot;: &quot;Point&quot;}, &quot;id&quot;: &quot;418&quot;, &quot;properties&quot;: {&quot;__folium_color&quot;: &quot;#453781&quot;, &quot;distance&quot;: 4498.651421648438}, &quot;type&quot;: &quot;Feature&quot;}, {&quot;bbox&quot;: [-122.57928120000001, 45.51505709999999, -122.57928120000001, 45.51505709999999], &quot;geometry&quot;: {&quot;coordinates&quot;: [-122.57928120000001, 45.51505709999999], &quot;type&quot;: &quot;Point&quot;}, &quot;id&quot;: &quot;419&quot;, &quot;properties&quot;: {&quot;__folium_color&quot;: &quot;#404688&quot;, &quot;distance&quot;: 5882.921459009174}, &quot;type&quot;: &quot;Feature&quot;}, {&quot;bbox&quot;: [-122.59859554636084, 45.53173089999999, -122.59859554636084, 45.53173089999999], &quot;geometry&quot;: {&quot;coordinates&quot;: [-122.59859554636084, 45.53173089999999], &quot;type&quot;: &quot;Point&quot;}, &quot;id&quot;: &quot;420&quot;, &quot;properties&quot;: {&quot;__folium_color&quot;: &quot;#3d4d8a&quot;, &quot;distance&quot;: 6513.958558248066}, &quot;type&quot;: &quot;Feature&quot;}, {&quot;bbox&quot;: [-122.58053987878787, 45.48646903030302, -122.58053987878787, 45.48646903030302], &quot;geometry&quot;: {&quot;coordinates&quot;: [-122.58053987878787, 45.48646903030302], &quot;type&quot;: &quot;Point&quot;}, &quot;id&quot;: &quot;421&quot;, &quot;properties&quot;: {&quot;__folium_color&quot;: &quot;#31688e&quot;, &quot;distance&quot;: 9300.75111254195}, &quot;type&quot;: &quot;Feature&quot;}, {&quot;bbox&quot;: [-122.60687585360405, 45.56926285, -122.60687585360405, 45.56926285], &quot;geometry&quot;: {&quot;coordinates&quot;: [-122.60687585360405, 45.56926285], &quot;type&quot;: &quot;Point&quot;}, &quot;id&quot;: &quot;422&quot;, &quot;properties&quot;: {&quot;__folium_color&quot;: &quot;#31678e&quot;, &quot;distance&quot;: 9117.688789517691}, &quot;type&quot;: &quot;Feature&quot;}, {&quot;bbox&quot;: [-122.72013672070395, 45.4526961, -122.72013672070395, 45.4526961], &quot;geometry&quot;: {&quot;coordinates&quot;: [-122.72013672070395, 45.4526961], &quot;type&quot;: &quot;Point&quot;}, &quot;id&quot;: &quot;423&quot;, &quot;properties&quot;: {&quot;__folium_color&quot;: &quot;#460a5d&quot;, &quot;distance&quot;: 950.924326266294}, &quot;type&quot;: &quot;Feature&quot;}, {&quot;bbox&quot;: [-122.70218137048923, 45.44796039999999, -122.70218137048923, 45.44796039999999], &quot;geometry&quot;: {&quot;coordinates&quot;: [-122.70218137048923, 45.44796039999999], &quot;type&quot;: &quot;Point&quot;}, &quot;id&quot;: &quot;424&quot;, &quot;properties&quot;: {&quot;__folium_color&quot;: &quot;#3e4a89&quot;, &quot;distance&quot;: 6326.958585215891}, &quot;type&quot;: &quot;Feature&quot;}, {&quot;bbox&quot;: [-122.70974045000001, 45.479401200000005, -122.70974045000001, 45.479401200000005], &quot;geometry&quot;: {&quot;coordinates&quot;: [-122.70974045000001, 45.479401200000005], &quot;type&quot;: &quot;Point&quot;}, &quot;id&quot;: &quot;425&quot;, &quot;properties&quot;: {&quot;__folium_color&quot;: &quot;#481668&quot;, &quot;distance&quot;: 1743.9377991443594}, &quot;type&quot;: &quot;Feature&quot;}, {&quot;bbox&quot;: [-122.57251209768991, 45.5090772, -122.57251209768991, 45.5090772], &quot;geometry&quot;: {&quot;coordinates&quot;: [-122.57251209768991, 45.5090772], &quot;type&quot;: &quot;Point&quot;}, &quot;id&quot;: &quot;426&quot;, &quot;properties&quot;: {&quot;__folium_color&quot;: &quot;#3b528b&quot;, &quot;distance&quot;: 7065.445484513115}, &quot;type&quot;: &quot;Feature&quot;}, {&quot;bbox&quot;: [-122.60649243358289, 45.5331877, -122.60649243358289, 45.5331877], &quot;geometry&quot;: {&quot;coordinates&quot;: [-122.60649243358289, 45.5331877], &quot;type&quot;: &quot;Point&quot;}, &quot;id&quot;: &quot;427&quot;, &quot;properties&quot;: {&quot;__folium_color&quot;: &quot;#365c8d&quot;, &quot;distance&quot;: 8010.992387037927}, &quot;type&quot;: &quot;Feature&quot;}, {&quot;bbox&quot;: [-122.70893940214185, 45.559581099999996, -122.70893940214185, 45.559581099999996], &quot;geometry&quot;: {&quot;coordinates&quot;: [-122.70893940214185, 45.559581099999996], &quot;type&quot;: &quot;Point&quot;}, &quot;id&quot;: &quot;428&quot;, &quot;properties&quot;: {&quot;__folium_color&quot;: &quot;#46337f&quot;, &quot;distance&quot;: 4188.6246573635135}, &quot;type&quot;: &quot;Feature&quot;}, {&quot;bbox&quot;: [-122.56864899999997, 45.493615, -122.56864899999997, 45.493615], &quot;geometry&quot;: {&quot;coordinates&quot;: [-122.56864899999997, 45.493615], &quot;type&quot;: &quot;Point&quot;}, &quot;id&quot;: &quot;429&quot;, &quot;properties&quot;: {&quot;__folium_color&quot;: &quot;#20a386&quot;, &quot;distance&quot;: 15967.282101192075}, &quot;type&quot;: &quot;Feature&quot;}, {&quot;bbox&quot;: [-122.59055419999999, 45.5895038, -122.59055419999999, 45.5895038], &quot;geometry&quot;: {&quot;coordinates&quot;: [-122.59055419999999, 45.5895038], &quot;type&quot;: &quot;Point&quot;}, &quot;id&quot;: &quot;430&quot;, &quot;properties&quot;: {&quot;__folium_color&quot;: &quot;#2e6f8e&quot;, &quot;distance&quot;: 9988.514078602602}, &quot;type&quot;: &quot;Feature&quot;}, {&quot;bbox&quot;: [-122.75062645291308, 45.63817715, -122.75062645291308, 45.63817715], &quot;geometry&quot;: {&quot;coordinates&quot;: [-122.75062645291308, 45.63817715], &quot;type&quot;: &quot;Point&quot;}, &quot;id&quot;: &quot;431&quot;, &quot;properties&quot;: {&quot;__folium_color&quot;: &quot;#29af7f&quot;, &quot;distance&quot;: 17333.445961953348}, &quot;type&quot;: &quot;Feature&quot;}, {&quot;bbox&quot;: [-122.62185753061223, 45.48935804081632, -122.62185753061223, 45.48935804081632], &quot;geometry&quot;: {&quot;coordinates&quot;: [-122.62185753061223, 45.48935804081632], &quot;type&quot;: &quot;Point&quot;}, &quot;id&quot;: &quot;432&quot;, &quot;properties&quot;: {&quot;__folium_color&quot;: &quot;#46327e&quot;, &quot;distance&quot;: 4116.053511069534}, &quot;type&quot;: &quot;Feature&quot;}, {&quot;bbox&quot;: [-122.5642956556276, 45.553173199999996, -122.5642956556276, 45.553173199999996], &quot;geometry&quot;: {&quot;coordinates&quot;: [-122.5642956556276, 45.553173199999996], &quot;type&quot;: &quot;Point&quot;}, &quot;id&quot;: &quot;433&quot;, &quot;properties&quot;: {&quot;__folium_color&quot;: &quot;#3d4d8a&quot;, &quot;distance&quot;: 6465.840504227739}, &quot;type&quot;: &quot;Feature&quot;}, {&quot;bbox&quot;: [-122.66802802228194, 45.53889859999998, -122.66802802228194, 45.53889859999998], &quot;geometry&quot;: {&quot;coordinates&quot;: [-122.66802802228194, 45.53889859999998], &quot;type&quot;: &quot;Point&quot;}, &quot;id&quot;: &quot;434&quot;, &quot;properties&quot;: {&quot;__folium_color&quot;: &quot;#450457&quot;, &quot;distance&quot;: 510.92589607004425}, &quot;type&quot;: &quot;Feature&quot;}, {&quot;bbox&quot;: [-122.53723677475227, 45.50089935, -122.53723677475227, 45.50089935], &quot;geometry&quot;: {&quot;coordinates&quot;: [-122.53723677475227, 45.50089935], &quot;type&quot;: &quot;Point&quot;}, &quot;id&quot;: &quot;435&quot;, &quot;properties&quot;: {&quot;__folium_color&quot;: &quot;#481f70&quot;, &quot;distance&quot;: 2518.3737150339334}, &quot;type&quot;: &quot;Feature&quot;}, {&quot;bbox&quot;: [-122.65754357492926, 45.560466950000006, -122.65754357492926, 45.560466950000006], &quot;geometry&quot;: {&quot;coordinates&quot;: [-122.65754357492926, 45.560466950000006], &quot;type&quot;: &quot;Point&quot;}, &quot;id&quot;: &quot;436&quot;, &quot;properties&quot;: {&quot;__folium_color&quot;: &quot;#481769&quot;, &quot;distance&quot;: 1897.704761098316}, &quot;type&quot;: &quot;Feature&quot;}, {&quot;bbox&quot;: [-122.58154554981225, 45.49149195, -122.58154554981225, 45.49149195], &quot;geometry&quot;: {&quot;coordinates&quot;: [-122.58154554981225, 45.49149195], &quot;type&quot;: &quot;Point&quot;}, &quot;id&quot;: &quot;437&quot;, &quot;properties&quot;: {&quot;__folium_color&quot;: &quot;#46307e&quot;, &quot;distance&quot;: 3937.6120040444894}, &quot;type&quot;: &quot;Feature&quot;}, {&quot;bbox&quot;: [-122.70582582530906, 45.492681950000005, -122.70582582530906, 45.492681950000005], &quot;geometry&quot;: {&quot;coordinates&quot;: [-122.70582582530906, 45.492681950000005], &quot;type&quot;: &quot;Point&quot;}, &quot;id&quot;: &quot;438&quot;, &quot;properties&quot;: {&quot;__folium_color&quot;: &quot;#39568c&quot;, &quot;distance&quot;: 7420.995014736108}, &quot;type&quot;: &quot;Feature&quot;}, {&quot;bbox&quot;: [-122.6464868429586, 45.59543205, -122.6464868429586, 45.59543205], &quot;geometry&quot;: {&quot;coordinates&quot;: [-122.6464868429586, 45.59543205], &quot;type&quot;: &quot;Point&quot;}, &quot;id&quot;: &quot;439&quot;, &quot;properties&quot;: {&quot;__folium_color&quot;: &quot;#443b84&quot;, &quot;distance&quot;: 4882.265108050886}, &quot;type&quot;: &quot;Feature&quot;}, {&quot;bbox&quot;: [-122.64777753537737, 45.53923089999999, -122.64777753537737, 45.53923089999999], &quot;geometry&quot;: {&quot;coordinates&quot;: [-122.64777753537737, 45.53923089999999], &quot;type&quot;: &quot;Point&quot;}, &quot;id&quot;: &quot;440&quot;, &quot;properties&quot;: {&quot;__folium_color&quot;: &quot;#482576&quot;, &quot;distance&quot;: 2972.508803595266}, &quot;type&quot;: &quot;Feature&quot;}, {&quot;bbox&quot;: [-122.79878031317045, 45.50283555, -122.79878031317045, 45.50283555], &quot;geometry&quot;: {&quot;coordinates&quot;: [-122.79878031317045, 45.50283555], &quot;type&quot;: &quot;Point&quot;}, &quot;id&quot;: &quot;441&quot;, &quot;properties&quot;: {&quot;__folium_color&quot;: &quot;#23888e&quot;, &quot;distance&quot;: 12855.236434238022}, &quot;type&quot;: &quot;Feature&quot;}, {&quot;bbox&quot;: [-122.68255177347392, 45.5804229, -122.68255177347392, 45.5804229], &quot;geometry&quot;: {&quot;coordinates&quot;: [-122.68255177347392, 45.5804229], &quot;type&quot;: &quot;Point&quot;}, &quot;id&quot;: &quot;443&quot;, &quot;properties&quot;: {&quot;__folium_color&quot;: &quot;#3f4889&quot;, &quot;distance&quot;: 6037.17675277697}, &quot;type&quot;: &quot;Feature&quot;}, {&quot;bbox&quot;: [-122.60803381422382, 45.4728571, -122.60803381422382, 45.4728571], &quot;geometry&quot;: {&quot;coordinates&quot;: [-122.60803381422382, 45.4728571], &quot;type&quot;: &quot;Point&quot;}, &quot;id&quot;: &quot;444&quot;, &quot;properties&quot;: {&quot;__folium_color&quot;: &quot;#433d84&quot;, &quot;distance&quot;: 5045.98266278685}, &quot;type&quot;: &quot;Feature&quot;}, {&quot;bbox&quot;: [-122.69167690909092, 45.536415272727275, -122.69167690909092, 45.536415272727275], &quot;geometry&quot;: {&quot;coordinates&quot;: [-122.69167690909092, 45.536415272727275], &quot;type&quot;: &quot;Point&quot;}, &quot;id&quot;: &quot;445&quot;, &quot;properties&quot;: {&quot;__folium_color&quot;: &quot;#2b758e&quot;, &quot;distance&quot;: 10787.767296020358}, &quot;type&quot;: &quot;Feature&quot;}, {&quot;bbox&quot;: [-122.52844269899667, 45.48801949832775, -122.52844269899667, 45.48801949832775], &quot;geometry&quot;: {&quot;coordinates&quot;: [-122.52844269899667, 45.48801949832775], &quot;type&quot;: &quot;Point&quot;}, &quot;id&quot;: &quot;446&quot;, &quot;properties&quot;: {&quot;__folium_color&quot;: &quot;#443983&quot;, &quot;distance&quot;: 4694.668370768313}, &quot;type&quot;: &quot;Feature&quot;}, {&quot;bbox&quot;: [-122.73969524242426, 45.444910181818194, -122.73969524242426, 45.444910181818194], &quot;geometry&quot;: {&quot;coordinates&quot;: [-122.73969524242426, 45.444910181818194], &quot;type&quot;: &quot;Point&quot;}, &quot;id&quot;: &quot;447&quot;, &quot;properties&quot;: {&quot;__folium_color&quot;: &quot;#481467&quot;, &quot;distance&quot;: 1660.0669407256432}, &quot;type&quot;: &quot;Feature&quot;}, {&quot;bbox&quot;: [-122.65753864999998, 45.44475245, -122.65753864999998, 45.44475245], &quot;geometry&quot;: {&quot;coordinates&quot;: [-122.65753864999998, 45.44475245], &quot;type&quot;: &quot;Point&quot;}, &quot;id&quot;: &quot;448&quot;, &quot;properties&quot;: {&quot;__folium_color&quot;: &quot;#39568c&quot;, &quot;distance&quot;: 7425.110639919529}, &quot;type&quot;: &quot;Feature&quot;}, {&quot;bbox&quot;: [-122.83047240401093, 45.6094619, -122.83047240401093, 45.6094619], &quot;geometry&quot;: {&quot;coordinates&quot;: [-122.83047240401093, 45.6094619], &quot;type&quot;: &quot;Point&quot;}, &quot;id&quot;: &quot;449&quot;, &quot;properties&quot;: {&quot;__folium_color&quot;: &quot;#30698e&quot;, &quot;distance&quot;: 9365.629564760038}, &quot;type&quot;: &quot;Feature&quot;}, {&quot;bbox&quot;: [-122.7126350254888, 45.46335644999999, -122.7126350254888, 45.46335644999999], &quot;geometry&quot;: {&quot;coordinates&quot;: [-122.7126350254888, 45.46335644999999], &quot;type&quot;: &quot;Point&quot;}, &quot;id&quot;: &quot;450&quot;, &quot;properties&quot;: {&quot;__folium_color&quot;: &quot;#482979&quot;, &quot;distance&quot;: 3332.4040345995672}, &quot;type&quot;: &quot;Feature&quot;}, {&quot;bbox&quot;: [-122.59055419999999, 45.5895038, -122.59055419999999, 45.5895038], &quot;geometry&quot;: {&quot;coordinates&quot;: [-122.59055419999999, 45.5895038], &quot;type&quot;: &quot;Point&quot;}, &quot;id&quot;: &quot;451&quot;, &quot;properties&quot;: {&quot;__folium_color&quot;: &quot;#2eb37c&quot;, &quot;distance&quot;: 17723.41509507258}, &quot;type&quot;: &quot;Feature&quot;}, {&quot;bbox&quot;: [-122.73409158533943, 45.441594550000005, -122.73409158533943, 45.441594550000005], &quot;geometry&quot;: {&quot;coordinates&quot;: [-122.73409158533943, 45.441594550000005], &quot;type&quot;: &quot;Point&quot;}, &quot;id&quot;: &quot;452&quot;, &quot;properties&quot;: {&quot;__folium_color&quot;: &quot;#38588c&quot;, &quot;distance&quot;: 7527.590768033079}, &quot;type&quot;: &quot;Feature&quot;}, {&quot;bbox&quot;: [-122.71593077917261, 45.492214950000005, -122.71593077917261, 45.492214950000005], &quot;geometry&quot;: {&quot;coordinates&quot;: [-122.71593077917261, 45.492214950000005], &quot;type&quot;: &quot;Point&quot;}, &quot;id&quot;: &quot;453&quot;, &quot;properties&quot;: {&quot;__folium_color&quot;: &quot;#424186&quot;, &quot;distance&quot;: 5443.1930149989785}, &quot;type&quot;: &quot;Feature&quot;}, {&quot;bbox&quot;: [-122.67903099999998, 45.525026, -122.67903099999998, 45.525026], &quot;geometry&quot;: {&quot;coordinates&quot;: [-122.67903099999998, 45.525026], &quot;type&quot;: &quot;Point&quot;}, &quot;id&quot;: &quot;454&quot;, &quot;properties&quot;: {&quot;__folium_color&quot;: &quot;#470e61&quot;, &quot;distance&quot;: 1193.0362130880549}, &quot;type&quot;: &quot;Feature&quot;}, {&quot;bbox&quot;: [-122.6020946, 45.4524392, -122.6020946, 45.4524392], &quot;geometry&quot;: {&quot;coordinates&quot;: [-122.6020946, 45.4524392], &quot;type&quot;: &quot;Point&quot;}, &quot;id&quot;: &quot;455&quot;, &quot;properties&quot;: {&quot;__folium_color&quot;: &quot;#453581&quot;, &quot;distance&quot;: 4361.468045167804}, &quot;type&quot;: &quot;Feature&quot;}, {&quot;bbox&quot;: [-122.58766472540985, 45.5468375, -122.58766472540985, 45.5468375], &quot;geometry&quot;: {&quot;coordinates&quot;: [-122.58766472540985, 45.5468375], &quot;type&quot;: &quot;Point&quot;}, &quot;id&quot;: &quot;456&quot;, &quot;properties&quot;: {&quot;__folium_color&quot;: &quot;#46307e&quot;, &quot;distance&quot;: 4007.1476132699327}, &quot;type&quot;: &quot;Feature&quot;}, {&quot;bbox&quot;: [-122.56075787485597, 45.504137400000005, -122.56075787485597, 45.504137400000005], &quot;geometry&quot;: {&quot;coordinates&quot;: [-122.56075787485597, 45.504137400000005], &quot;type&quot;: &quot;Point&quot;}, &quot;id&quot;: &quot;457&quot;, &quot;properties&quot;: {&quot;__folium_color&quot;: &quot;#3b518b&quot;, &quot;distance&quot;: 6971.485789801666}, &quot;type&quot;: &quot;Feature&quot;}, {&quot;bbox&quot;: [-122.73896001014819, 45.43921874999999, -122.73896001014819, 45.43921874999999], &quot;geometry&quot;: {&quot;coordinates&quot;: [-122.73896001014819, 45.43921874999999], &quot;type&quot;: &quot;Point&quot;}, &quot;id&quot;: &quot;458&quot;, &quot;properties&quot;: {&quot;__folium_color&quot;: &quot;#355e8d&quot;, &quot;distance&quot;: 8154.908754664647}, &quot;type&quot;: &quot;Feature&quot;}, {&quot;bbox&quot;: [-122.73545830612247, 45.460205775510204, -122.73545830612247, 45.460205775510204], &quot;geometry&quot;: {&quot;coordinates&quot;: [-122.73545830612247, 45.460205775510204], &quot;type&quot;: &quot;Point&quot;}, &quot;id&quot;: &quot;459&quot;, &quot;properties&quot;: {&quot;__folium_color&quot;: &quot;#414287&quot;, &quot;distance&quot;: 5560.390080030883}, &quot;type&quot;: &quot;Feature&quot;}, {&quot;bbox&quot;: [-122.65048877909231, 45.4703183, -122.65048877909231, 45.4703183], &quot;geometry&quot;: {&quot;coordinates&quot;: [-122.65048877909231, 45.4703183], &quot;type&quot;: &quot;Point&quot;}, &quot;id&quot;: &quot;460&quot;, &quot;properties&quot;: {&quot;__folium_color&quot;: &quot;#375a8c&quot;, &quot;distance&quot;: 7780.4624943854105}, &quot;type&quot;: &quot;Feature&quot;}, {&quot;bbox&quot;: [-122.6990406184146, 45.602099900000006, -122.6990406184146, 45.602099900000006], &quot;geometry&quot;: {&quot;coordinates&quot;: [-122.6990406184146, 45.602099900000006], &quot;type&quot;: &quot;Point&quot;}, &quot;id&quot;: &quot;461&quot;, &quot;properties&quot;: {&quot;__folium_color&quot;: &quot;#482979&quot;, &quot;distance&quot;: 3373.4035831865654}, &quot;type&quot;: &quot;Feature&quot;}, {&quot;bbox&quot;: [-122.62307406141524, 45.41795355, -122.62307406141524, 45.41795355], &quot;geometry&quot;: {&quot;coordinates&quot;: [-122.62307406141524, 45.41795355], &quot;type&quot;: &quot;Point&quot;}, &quot;id&quot;: &quot;462&quot;, &quot;properties&quot;: {&quot;__folium_color&quot;: &quot;#34618d&quot;, &quot;distance&quot;: 8546.065501084051}, &quot;type&quot;: &quot;Feature&quot;}, {&quot;bbox&quot;: [-122.65169467785235, 45.527846167785235, -122.65169467785235, 45.527846167785235], &quot;geometry&quot;: {&quot;coordinates&quot;: [-122.65169467785235, 45.527846167785235], &quot;type&quot;: &quot;Point&quot;}, &quot;id&quot;: &quot;463&quot;, &quot;properties&quot;: {&quot;__folium_color&quot;: &quot;#46327e&quot;, &quot;distance&quot;: 4027.900942506205}, &quot;type&quot;: &quot;Feature&quot;}, {&quot;bbox&quot;: [-122.52832934837689, 45.5280924, -122.52832934837689, 45.5280924], &quot;geometry&quot;: {&quot;coordinates&quot;: [-122.52832934837689, 45.5280924], &quot;type&quot;: &quot;Point&quot;}, &quot;id&quot;: &quot;464&quot;, &quot;properties&quot;: {&quot;__folium_color&quot;: &quot;#481b6d&quot;, &quot;distance&quot;: 2129.2357178426914}, &quot;type&quot;: &quot;Feature&quot;}, {&quot;bbox&quot;: [-122.7613740956367, 45.51216229999999, -122.7613740956367, 45.51216229999999], &quot;geometry&quot;: {&quot;coordinates&quot;: [-122.7613740956367, 45.51216229999999], &quot;type&quot;: &quot;Point&quot;}, &quot;id&quot;: &quot;465&quot;, &quot;properties&quot;: {&quot;__folium_color&quot;: &quot;#375b8d&quot;, &quot;distance&quot;: 7845.098365586552}, &quot;type&quot;: &quot;Feature&quot;}, {&quot;bbox&quot;: [-122.625055247591, 45.556331150000005, -122.625055247591, 45.556331150000005], &quot;geometry&quot;: {&quot;coordinates&quot;: [-122.625055247591, 45.556331150000005], &quot;type&quot;: &quot;Point&quot;}, &quot;id&quot;: &quot;466&quot;, &quot;properties&quot;: {&quot;__folium_color&quot;: &quot;#433e85&quot;, &quot;distance&quot;: 5086.536969300828}, &quot;type&quot;: &quot;Feature&quot;}, {&quot;bbox&quot;: [-122.67828061224492, 45.514302510204075, -122.67828061224492, 45.514302510204075], &quot;geometry&quot;: {&quot;coordinates&quot;: [-122.67828061224492, 45.514302510204075], &quot;type&quot;: &quot;Point&quot;}, &quot;id&quot;: &quot;467&quot;, &quot;properties&quot;: {&quot;__folium_color&quot;: &quot;#453882&quot;, &quot;distance&quot;: 4567.228632786822}, &quot;type&quot;: &quot;Feature&quot;}, {&quot;bbox&quot;: [-122.63844115000002, 45.51089830000001, -122.63844115000002, 45.51089830000001], &quot;geometry&quot;: {&quot;coordinates&quot;: [-122.63844115000002, 45.51089830000001], &quot;type&quot;: &quot;Point&quot;}, &quot;id&quot;: &quot;468&quot;, &quot;properties&quot;: {&quot;__folium_color&quot;: &quot;#424186&quot;, &quot;distance&quot;: 5417.018378016194}, &quot;type&quot;: &quot;Feature&quot;}, {&quot;bbox&quot;: [-122.60292697326342, 45.481123100000005, -122.60292697326342, 45.481123100000005], &quot;geometry&quot;: {&quot;coordinates&quot;: [-122.60292697326342, 45.481123100000005], &quot;type&quot;: &quot;Point&quot;}, &quot;id&quot;: &quot;469&quot;, &quot;properties&quot;: {&quot;__folium_color&quot;: &quot;#470d60&quot;, &quot;distance&quot;: 1075.7693799821361}, &quot;type&quot;: &quot;Feature&quot;}, {&quot;bbox&quot;: [-122.83332984398739, 45.55047910000001, -122.83332984398739, 45.55047910000001], &quot;geometry&quot;: {&quot;coordinates&quot;: [-122.83332984398739, 45.55047910000001], &quot;type&quot;: &quot;Point&quot;}, &quot;id&quot;: &quot;470&quot;, &quot;properties&quot;: {&quot;__folium_color&quot;: &quot;#28ae80&quot;, &quot;distance&quot;: 17176.500601650856}, &quot;type&quot;: &quot;Feature&quot;}, {&quot;bbox&quot;: [-122.70264399999998, 45.540580999999996, -122.70264399999998, 45.540580999999996], &quot;geometry&quot;: {&quot;coordinates&quot;: [-122.70264399999998, 45.540580999999996], &quot;type&quot;: &quot;Point&quot;}, &quot;id&quot;: &quot;471&quot;, &quot;properties&quot;: {&quot;__folium_color&quot;: &quot;#460a5d&quot;, &quot;distance&quot;: 920.1194761937934}, &quot;type&quot;: &quot;Feature&quot;}, {&quot;bbox&quot;: [-122.65703575000002, 45.51375995, -122.65703575000002, 45.51375995], &quot;geometry&quot;: {&quot;coordinates&quot;: [-122.65703575000002, 45.51375995], &quot;type&quot;: &quot;Point&quot;}, &quot;id&quot;: &quot;472&quot;, &quot;properties&quot;: {&quot;__folium_color&quot;: &quot;#375b8d&quot;, &quot;distance&quot;: 7906.224150903761}, &quot;type&quot;: &quot;Feature&quot;}, {&quot;bbox&quot;: [-122.69410799999999, 45.71323549999999, -122.69410799999999, 45.71323549999999], &quot;geometry&quot;: {&quot;coordinates&quot;: [-122.69410799999999, 45.71323549999999], &quot;type&quot;: &quot;Point&quot;}, &quot;id&quot;: &quot;473&quot;, &quot;properties&quot;: {&quot;__folium_color&quot;: &quot;#63cb5f&quot;, &quot;distance&quot;: 20786.906303936365}, &quot;type&quot;: &quot;Feature&quot;}, {&quot;bbox&quot;: [-122.6990406184146, 45.602099900000006, -122.6990406184146, 45.602099900000006], &quot;geometry&quot;: {&quot;coordinates&quot;: [-122.6990406184146, 45.602099900000006], &quot;type&quot;: &quot;Point&quot;}, &quot;id&quot;: &quot;474&quot;, &quot;properties&quot;: {&quot;__folium_color&quot;: &quot;#2e6e8e&quot;, &quot;distance&quot;: 9926.100229366066}, &quot;type&quot;: &quot;Feature&quot;}, {&quot;bbox&quot;: [-122.618139439485, 45.49824454999999, -122.618139439485, 45.49824454999999], &quot;geometry&quot;: {&quot;coordinates&quot;: [-122.618139439485, 45.49824454999999], &quot;type&quot;: &quot;Point&quot;}, &quot;id&quot;: &quot;475&quot;, &quot;properties&quot;: {&quot;__folium_color&quot;: &quot;#355e8d&quot;, &quot;distance&quot;: 8217.851464521207}, &quot;type&quot;: &quot;Feature&quot;}, {&quot;bbox&quot;: [-122.69332171814874, 45.44121054999999, -122.69332171814874, 45.44121054999999], &quot;geometry&quot;: {&quot;coordinates&quot;: [-122.69332171814874, 45.44121054999999], &quot;type&quot;: &quot;Point&quot;}, &quot;id&quot;: &quot;476&quot;, &quot;properties&quot;: {&quot;__folium_color&quot;: &quot;#3f4889&quot;, &quot;distance&quot;: 6130.48333936306}, &quot;type&quot;: &quot;Feature&quot;}, {&quot;bbox&quot;: [-122.56179450000002, 45.4639215, -122.56179450000002, 45.4639215], &quot;geometry&quot;: {&quot;coordinates&quot;: [-122.56179450000002, 45.4639215], &quot;type&quot;: &quot;Point&quot;}, &quot;id&quot;: &quot;477&quot;, &quot;properties&quot;: {&quot;__folium_color&quot;: &quot;#33638d&quot;, &quot;distance&quot;: 8778.431752812872}, &quot;type&quot;: &quot;Feature&quot;}, {&quot;bbox&quot;: [-122.6335048, 45.56244950000001, -122.6335048, 45.56244950000001], &quot;geometry&quot;: {&quot;coordinates&quot;: [-122.6335048, 45.56244950000001], &quot;type&quot;: &quot;Point&quot;}, &quot;id&quot;: &quot;478&quot;, &quot;properties&quot;: {&quot;__folium_color&quot;: &quot;#463480&quot;, &quot;distance&quot;: 4233.780320885576}, &quot;type&quot;: &quot;Feature&quot;}, {&quot;bbox&quot;: [-122.6203268, 45.46758815, -122.6203268, 45.46758815], &quot;geometry&quot;: {&quot;coordinates&quot;: [-122.6203268, 45.46758815], &quot;type&quot;: &quot;Point&quot;}, &quot;id&quot;: &quot;479&quot;, &quot;properties&quot;: {&quot;__folium_color&quot;: &quot;#38588c&quot;, &quot;distance&quot;: 7575.765830721234}, &quot;type&quot;: &quot;Feature&quot;}, {&quot;bbox&quot;: [-122.57578044444445, 45.4802686060606, -122.57578044444445, 45.4802686060606], &quot;geometry&quot;: {&quot;coordinates&quot;: [-122.57578044444445, 45.4802686060606], &quot;type&quot;: &quot;Point&quot;}, &quot;id&quot;: &quot;480&quot;, &quot;properties&quot;: {&quot;__folium_color&quot;: &quot;#46327e&quot;, &quot;distance&quot;: 4048.771821503749}, &quot;type&quot;: &quot;Feature&quot;}, {&quot;bbox&quot;: [-122.54566919980041, 45.4662164, -122.54566919980041, 45.4662164], &quot;geometry&quot;: {&quot;coordinates&quot;: [-122.54566919980041, 45.4662164], &quot;type&quot;: &quot;Point&quot;}, &quot;id&quot;: &quot;481&quot;, &quot;properties&quot;: {&quot;__folium_color&quot;: &quot;#414287&quot;, &quot;distance&quot;: 5604.476940920021}, &quot;type&quot;: &quot;Feature&quot;}, {&quot;bbox&quot;: [-122.6345706985638, 45.4628786, -122.6345706985638, 45.4628786], &quot;geometry&quot;: {&quot;coordinates&quot;: [-122.6345706985638, 45.4628786], &quot;type&quot;: &quot;Point&quot;}, &quot;id&quot;: &quot;482&quot;, &quot;properties&quot;: {&quot;__folium_color&quot;: &quot;#472c7a&quot;, &quot;distance&quot;: 3578.635878767664}, &quot;type&quot;: &quot;Feature&quot;}, {&quot;bbox&quot;: [-122.61475074040133, 45.4698193, -122.61475074040133, 45.4698193], &quot;geometry&quot;: {&quot;coordinates&quot;: [-122.61475074040133, 45.4698193], &quot;type&quot;: &quot;Point&quot;}, &quot;id&quot;: &quot;483&quot;, &quot;properties&quot;: {&quot;__folium_color&quot;: &quot;#463480&quot;, &quot;distance&quot;: 4243.845147338369}, &quot;type&quot;: &quot;Feature&quot;}, {&quot;bbox&quot;: [-122.5737585, 45.63449249999999, -122.5737585, 45.63449249999999], &quot;geometry&quot;: {&quot;coordinates&quot;: [-122.5737585, 45.63449249999999], &quot;type&quot;: &quot;Point&quot;}, &quot;id&quot;: &quot;484&quot;, &quot;properties&quot;: {&quot;__folium_color&quot;: &quot;#1fa287&quot;, &quot;distance&quot;: 15805.747089435949}, &quot;type&quot;: &quot;Feature&quot;}, {&quot;bbox&quot;: [-122.68693700909621, 45.496456650000006, -122.68693700909621, 45.496456650000006], &quot;geometry&quot;: {&quot;coordinates&quot;: [-122.68693700909621, 45.496456650000006], &quot;type&quot;: &quot;Point&quot;}, &quot;id&quot;: &quot;485&quot;, &quot;properties&quot;: {&quot;__folium_color&quot;: &quot;#472d7b&quot;, &quot;distance&quot;: 3605.1747825565926}, &quot;type&quot;: &quot;Feature&quot;}, {&quot;bbox&quot;: [-122.69390733914996, 45.5114731, -122.69390733914996, 45.5114731], &quot;geometry&quot;: {&quot;coordinates&quot;: [-122.69390733914996, 45.5114731], &quot;type&quot;: &quot;Point&quot;}, &quot;id&quot;: &quot;486&quot;, &quot;properties&quot;: {&quot;__folium_color&quot;: &quot;#472f7d&quot;, &quot;distance&quot;: 3836.0732599915627}, &quot;type&quot;: &quot;Feature&quot;}, {&quot;bbox&quot;: [-122.6308579, 45.51106155, -122.6308579, 45.51106155], &quot;geometry&quot;: {&quot;coordinates&quot;: [-122.6308579, 45.51106155], &quot;type&quot;: &quot;Point&quot;}, &quot;id&quot;: &quot;487&quot;, &quot;properties&quot;: {&quot;__folium_color&quot;: &quot;#414287&quot;, &quot;distance&quot;: 5502.145581169923}, &quot;type&quot;: &quot;Feature&quot;}, {&quot;bbox&quot;: [-122.57022332512982, 45.505518949999995, -122.57022332512982, 45.505518949999995], &quot;geometry&quot;: {&quot;coordinates&quot;: [-122.57022332512982, 45.505518949999995], &quot;type&quot;: &quot;Point&quot;}, &quot;id&quot;: &quot;488&quot;, &quot;properties&quot;: {&quot;__folium_color&quot;: &quot;#3e4a89&quot;, &quot;distance&quot;: 6282.163528956884}, &quot;type&quot;: &quot;Feature&quot;}, {&quot;bbox&quot;: [-122.63983598927165, 45.55112364999999, -122.63983598927165, 45.55112364999999], &quot;geometry&quot;: {&quot;coordinates&quot;: [-122.63983598927165, 45.55112364999999], &quot;type&quot;: &quot;Point&quot;}, &quot;id&quot;: &quot;489&quot;, &quot;properties&quot;: {&quot;__folium_color&quot;: &quot;#482677&quot;, &quot;distance&quot;: 3074.1978516954796}, &quot;type&quot;: &quot;Feature&quot;}, {&quot;bbox&quot;: [-122.583123707418, 45.543962099999995, -122.583123707418, 45.543962099999995], &quot;geometry&quot;: {&quot;coordinates&quot;: [-122.583123707418, 45.543962099999995], &quot;type&quot;: &quot;Point&quot;}, &quot;id&quot;: &quot;490&quot;, &quot;properties&quot;: {&quot;__folium_color&quot;: &quot;#31678e&quot;, &quot;distance&quot;: 9194.77345880034}, &quot;type&quot;: &quot;Feature&quot;}, {&quot;bbox&quot;: [-122.69299171409882, 45.514696, -122.69299171409882, 45.514696], &quot;geometry&quot;: {&quot;coordinates&quot;: [-122.69299171409882, 45.514696], &quot;type&quot;: &quot;Point&quot;}, &quot;id&quot;: &quot;492&quot;, &quot;properties&quot;: {&quot;__folium_color&quot;: &quot;#482979&quot;, &quot;distance&quot;: 3350.2882737857217}, &quot;type&quot;: &quot;Feature&quot;}, {&quot;bbox&quot;: [-122.71421753693062, 45.52726285, -122.71421753693062, 45.52726285], &quot;geometry&quot;: {&quot;coordinates&quot;: [-122.71421753693062, 45.52726285], &quot;type&quot;: &quot;Point&quot;}, &quot;id&quot;: &quot;493&quot;, &quot;properties&quot;: {&quot;__folium_color&quot;: &quot;#404688&quot;, &quot;distance&quot;: 5869.533000956487}, &quot;type&quot;: &quot;Feature&quot;}, {&quot;bbox&quot;: [-122.62797629999999, 45.5735018, -122.62797629999999, 45.5735018], &quot;geometry&quot;: {&quot;coordinates&quot;: [-122.62797629999999, 45.5735018], &quot;type&quot;: &quot;Point&quot;}, &quot;id&quot;: &quot;494&quot;, &quot;properties&quot;: {&quot;__folium_color&quot;: &quot;#3d4e8a&quot;, &quot;distance&quot;: 6575.406456514646}, &quot;type&quot;: &quot;Feature&quot;}, {&quot;bbox&quot;: [-122.70144519999998, 45.5663326, -122.70144519999998, 45.5663326], &quot;geometry&quot;: {&quot;coordinates&quot;: [-122.70144519999998, 45.5663326], &quot;type&quot;: &quot;Point&quot;}, &quot;id&quot;: &quot;495&quot;, &quot;properties&quot;: {&quot;__folium_color&quot;: &quot;#472a7a&quot;, &quot;distance&quot;: 3385.8102331712244}, &quot;type&quot;: &quot;Feature&quot;}, {&quot;bbox&quot;: [-122.70877710176411, 45.486598099999995, -122.70877710176411, 45.486598099999995], &quot;geometry&quot;: {&quot;coordinates&quot;: [-122.70877710176411, 45.486598099999995], &quot;type&quot;: &quot;Point&quot;}, &quot;id&quot;: &quot;496&quot;, &quot;properties&quot;: {&quot;__folium_color&quot;: &quot;#2e6f8e&quot;, &quot;distance&quot;: 9976.467518350488}, &quot;type&quot;: &quot;Feature&quot;}, {&quot;bbox&quot;: [-122.6301852, 45.50689625, -122.6301852, 45.50689625], &quot;geometry&quot;: {&quot;coordinates&quot;: [-122.6301852, 45.50689625], &quot;type&quot;: &quot;Point&quot;}, &quot;id&quot;: &quot;497&quot;, &quot;properties&quot;: {&quot;__folium_color&quot;: &quot;#3f4788&quot;, &quot;distance&quot;: 5944.466344520806}, &quot;type&quot;: &quot;Feature&quot;}, {&quot;bbox&quot;: [-122.74191419999998, 45.4135829, -122.74191419999998, 45.4135829], &quot;geometry&quot;: {&quot;coordinates&quot;: [-122.74191419999998, 45.4135829], &quot;type&quot;: &quot;Point&quot;}, &quot;id&quot;: &quot;498&quot;, &quot;properties&quot;: {&quot;__folium_color&quot;: &quot;#404588&quot;, &quot;distance&quot;: 5759.42336918538}, &quot;type&quot;: &quot;Feature&quot;}, {&quot;bbox&quot;: [-122.69478142857142, 45.53289757142857, -122.69478142857142, 45.53289757142857], &quot;geometry&quot;: {&quot;coordinates&quot;: [-122.69478142857142, 45.53289757142857], &quot;type&quot;: &quot;Point&quot;}, &quot;id&quot;: &quot;499&quot;, &quot;properties&quot;: {&quot;__folium_color&quot;: &quot;#34618d&quot;, &quot;distance&quot;: 8501.582080911141}, &quot;type&quot;: &quot;Feature&quot;}, {&quot;bbox&quot;: [-122.61809520979962, 45.52470615, -122.61809520979962, 45.52470615], &quot;geometry&quot;: {&quot;coordinates&quot;: [-122.61809520979962, 45.52470615], &quot;type&quot;: &quot;Point&quot;}, &quot;id&quot;: &quot;500&quot;, &quot;properties&quot;: {&quot;__folium_color&quot;: &quot;#32658e&quot;, &quot;distance&quot;: 8953.914934346227}, &quot;type&quot;: &quot;Feature&quot;}, {&quot;bbox&quot;: [-122.68784525, 45.557097199999994, -122.68784525, 45.557097199999994], &quot;geometry&quot;: {&quot;coordinates&quot;: [-122.68784525, 45.557097199999994], &quot;type&quot;: &quot;Point&quot;}, &quot;id&quot;: &quot;501&quot;, &quot;properties&quot;: {&quot;__folium_color&quot;: &quot;#463480&quot;, &quot;distance&quot;: 4236.048496366685}, &quot;type&quot;: &quot;Feature&quot;}, {&quot;bbox&quot;: [-122.70456011812983, 45.56777458854181, -122.70456011812983, 45.56777458854181], &quot;geometry&quot;: {&quot;coordinates&quot;: [-122.70456011812983, 45.56777458854181], &quot;type&quot;: &quot;Point&quot;}, &quot;id&quot;: &quot;502&quot;, &quot;properties&quot;: {&quot;__folium_color&quot;: &quot;#3e4989&quot;, &quot;distance&quot;: 6224.334901235449}, &quot;type&quot;: &quot;Feature&quot;}, {&quot;bbox&quot;: [-122.62245416842136, 45.66101294999999, -122.62245416842136, 45.66101294999999], &quot;geometry&quot;: {&quot;coordinates&quot;: [-122.62245416842136, 45.66101294999999], &quot;type&quot;: &quot;Point&quot;}, &quot;id&quot;: &quot;504&quot;, &quot;properties&quot;: {&quot;__folium_color&quot;: &quot;#23a983&quot;, &quot;distance&quot;: 16608.211033263186}, &quot;type&quot;: &quot;Feature&quot;}, {&quot;bbox&quot;: [-122.49461786902329, 45.45697615, -122.49461786902329, 45.45697615], &quot;geometry&quot;: {&quot;coordinates&quot;: [-122.49461786902329, 45.45697615], &quot;type&quot;: &quot;Point&quot;}, &quot;id&quot;: &quot;505&quot;, &quot;properties&quot;: {&quot;__folium_color&quot;: &quot;#2a788e&quot;, &quot;distance&quot;: 11106.052582350138}, &quot;type&quot;: &quot;Feature&quot;}, {&quot;bbox&quot;: [-122.68102048979593, 45.52184587755102, -122.68102048979593, 45.52184587755102], &quot;geometry&quot;: {&quot;coordinates&quot;: [-122.68102048979593, 45.52184587755102], &quot;type&quot;: &quot;Point&quot;}, &quot;id&quot;: &quot;506&quot;, &quot;properties&quot;: {&quot;__folium_color&quot;: &quot;#3d4e8a&quot;, &quot;distance&quot;: 6578.500344922418}, &quot;type&quot;: &quot;Feature&quot;}, {&quot;bbox&quot;: [-122.70037822975341, 45.50888095, -122.70037822975341, 45.50888095], &quot;geometry&quot;: {&quot;coordinates&quot;: [-122.70037822975341, 45.50888095], &quot;type&quot;: &quot;Point&quot;}, &quot;id&quot;: &quot;507&quot;, &quot;properties&quot;: {&quot;__folium_color&quot;: &quot;#31678e&quot;, &quot;distance&quot;: 9099.876637284186}, &quot;type&quot;: &quot;Feature&quot;}, {&quot;bbox&quot;: [-122.68046959999998, 45.5266906, -122.68046959999998, 45.5266906], &quot;geometry&quot;: {&quot;coordinates&quot;: [-122.68046959999998, 45.5266906], &quot;type&quot;: &quot;Point&quot;}, &quot;id&quot;: &quot;508&quot;, &quot;properties&quot;: {&quot;__folium_color&quot;: &quot;#471063&quot;, &quot;distance&quot;: 1332.9011492473214}, &quot;type&quot;: &quot;Feature&quot;}, {&quot;bbox&quot;: [-122.68924464910454, 45.57734999999999, -122.68924464910454, 45.57734999999999], &quot;geometry&quot;: {&quot;coordinates&quot;: [-122.68924464910454, 45.57734999999999], &quot;type&quot;: &quot;Point&quot;}, &quot;id&quot;: &quot;509&quot;, &quot;properties&quot;: {&quot;__folium_color&quot;: &quot;#3e4a89&quot;, &quot;distance&quot;: 6253.834685481458}, &quot;type&quot;: &quot;Feature&quot;}, {&quot;bbox&quot;: [-122.52509656184424, 45.52405765, -122.52509656184424, 45.52405765], &quot;geometry&quot;: {&quot;coordinates&quot;: [-122.52509656184424, 45.52405765], &quot;type&quot;: &quot;Point&quot;}, &quot;id&quot;: &quot;510&quot;, &quot;properties&quot;: {&quot;__folium_color&quot;: &quot;#481769&quot;, &quot;distance&quot;: 1889.944401917916}, &quot;type&quot;: &quot;Feature&quot;}, {&quot;bbox&quot;: [-122.5078332082105, 45.5398619, -122.5078332082105, 45.5398619], &quot;geometry&quot;: {&quot;coordinates&quot;: [-122.5078332082105, 45.5398619], &quot;type&quot;: &quot;Point&quot;}, &quot;id&quot;: &quot;511&quot;, &quot;properties&quot;: {&quot;__folium_color&quot;: &quot;#433d84&quot;, &quot;distance&quot;: 5014.232621735705}, &quot;type&quot;: &quot;Feature&quot;}, {&quot;bbox&quot;: [-122.56662076731114, 45.55074619999999, -122.56662076731114, 45.55074619999999], &quot;geometry&quot;: {&quot;coordinates&quot;: [-122.56662076731114, 45.55074619999999], &quot;type&quot;: &quot;Point&quot;}, &quot;id&quot;: &quot;512&quot;, &quot;properties&quot;: {&quot;__folium_color&quot;: &quot;#481467&quot;, &quot;distance&quot;: 1643.0025701040854}, &quot;type&quot;: &quot;Feature&quot;}, {&quot;bbox&quot;: [-122.6734335, 45.63755050000001, -122.6734335, 45.63755050000001], &quot;geometry&quot;: {&quot;coordinates&quot;: [-122.6734335, 45.63755050000001], &quot;type&quot;: &quot;Point&quot;}, &quot;id&quot;: &quot;513&quot;, &quot;properties&quot;: {&quot;__folium_color&quot;: &quot;#3fbc73&quot;, &quot;distance&quot;: 18882.27523298172}, &quot;type&quot;: &quot;Feature&quot;}, {&quot;bbox&quot;: [-122.54881275039526, 45.539971449999996, -122.54881275039526, 45.539971449999996], &quot;geometry&quot;: {&quot;coordinates&quot;: [-122.54881275039526, 45.539971449999996], &quot;type&quot;: &quot;Point&quot;}, &quot;id&quot;: &quot;514&quot;, &quot;properties&quot;: {&quot;__folium_color&quot;: &quot;#31678e&quot;, &quot;distance&quot;: 9111.379211292106}, &quot;type&quot;: &quot;Feature&quot;}, {&quot;bbox&quot;: [-122.71483371228649, 45.529204799999995, -122.71483371228649, 45.529204799999995], &quot;geometry&quot;: {&quot;coordinates&quot;: [-122.71483371228649, 45.529204799999995], &quot;type&quot;: &quot;Point&quot;}, &quot;id&quot;: &quot;515&quot;, &quot;properties&quot;: {&quot;__folium_color&quot;: &quot;#3f4788&quot;, &quot;distance&quot;: 6020.607654529584}, &quot;type&quot;: &quot;Feature&quot;}, {&quot;bbox&quot;: [-122.66976229986321, 45.5756361, -122.66976229986321, 45.5756361], &quot;geometry&quot;: {&quot;coordinates&quot;: [-122.66976229986321, 45.5756361], &quot;type&quot;: &quot;Point&quot;}, &quot;id&quot;: &quot;516&quot;, &quot;properties&quot;: {&quot;__folium_color&quot;: &quot;#30698e&quot;, &quot;distance&quot;: 9334.568645851221}, &quot;type&quot;: &quot;Feature&quot;}, {&quot;bbox&quot;: [-122.7190065014269, 45.57594664999999, -122.7190065014269, 45.57594664999999], &quot;geometry&quot;: {&quot;coordinates&quot;: [-122.7190065014269, 45.57594664999999], &quot;type&quot;: &quot;Point&quot;}, &quot;id&quot;: &quot;517&quot;, &quot;properties&quot;: {&quot;__folium_color&quot;: &quot;#2e6d8e&quot;, &quot;distance&quot;: 9762.9821957717}, &quot;type&quot;: &quot;Feature&quot;}, {&quot;bbox&quot;: [-122.79979973464766, 45.37649742547244, -122.79979973464766, 45.37649742547244], &quot;geometry&quot;: {&quot;coordinates&quot;: [-122.79979973464766, 45.37649742547244], &quot;type&quot;: &quot;Point&quot;}, &quot;id&quot;: &quot;518&quot;, &quot;properties&quot;: {&quot;__folium_color&quot;: &quot;#20928c&quot;, &quot;distance&quot;: 14038.391143070647}, &quot;type&quot;: &quot;Feature&quot;}, {&quot;bbox&quot;: [-122.63051544999999, 45.4921978, -122.63051544999999, 45.4921978], &quot;geometry&quot;: {&quot;coordinates&quot;: [-122.63051544999999, 45.4921978], &quot;type&quot;: &quot;Point&quot;}, &quot;id&quot;: &quot;519&quot;, &quot;properties&quot;: {&quot;__folium_color&quot;: &quot;#33628d&quot;, &quot;distance&quot;: 8605.748262881893}, &quot;type&quot;: &quot;Feature&quot;}, {&quot;bbox&quot;: [-122.57289385019547, 45.525793300000004, -122.57289385019547, 45.525793300000004], &quot;geometry&quot;: {&quot;coordinates&quot;: [-122.57289385019547, 45.525793300000004], &quot;type&quot;: &quot;Point&quot;}, &quot;id&quot;: &quot;520&quot;, &quot;properties&quot;: {&quot;__folium_color&quot;: &quot;#46337f&quot;, &quot;distance&quot;: 4215.033523209249}, &quot;type&quot;: &quot;Feature&quot;}, {&quot;bbox&quot;: [-122.57361820396825, 45.557852499999996, -122.57361820396825, 45.557852499999996], &quot;geometry&quot;: {&quot;coordinates&quot;: [-122.57361820396825, 45.557852499999996], &quot;type&quot;: &quot;Point&quot;}, &quot;id&quot;: &quot;521&quot;, &quot;properties&quot;: {&quot;__folium_color&quot;: &quot;#2c738e&quot;, &quot;distance&quot;: 10564.327288099812}, &quot;type&quot;: &quot;Feature&quot;}, {&quot;bbox&quot;: [-122.70656120124228, 45.53661554999999, -122.70656120124228, 45.53661554999999], &quot;geometry&quot;: {&quot;coordinates&quot;: [-122.70656120124228, 45.53661554999999], &quot;type&quot;: &quot;Point&quot;}, &quot;id&quot;: &quot;522&quot;, &quot;properties&quot;: {&quot;__folium_color&quot;: &quot;#443a83&quot;, &quot;distance&quot;: 4845.600124271166}, &quot;type&quot;: &quot;Feature&quot;}, {&quot;bbox&quot;: [-122.54727716175395, 45.5364181, -122.54727716175395, 45.5364181], &quot;geometry&quot;: {&quot;coordinates&quot;: [-122.54727716175395, 45.5364181], &quot;type&quot;: &quot;Point&quot;}, &quot;id&quot;: &quot;523&quot;, &quot;properties&quot;: {&quot;__folium_color&quot;: &quot;#482878&quot;, &quot;distance&quot;: 3278.3986822749835}, &quot;type&quot;: &quot;Feature&quot;}, {&quot;bbox&quot;: [-122.5898655, 45.52441414999999, -122.5898655, 45.52441414999999], &quot;geometry&quot;: {&quot;coordinates&quot;: [-122.5898655, 45.52441414999999], &quot;type&quot;: &quot;Point&quot;}, &quot;id&quot;: &quot;525&quot;, &quot;properties&quot;: {&quot;__folium_color&quot;: &quot;#453581&quot;, &quot;distance&quot;: 4431.595345716581}, &quot;type&quot;: &quot;Feature&quot;}, {&quot;bbox&quot;: [-122.54463425272058, 45.538486649999996, -122.54463425272058, 45.538486649999996], &quot;geometry&quot;: {&quot;coordinates&quot;: [-122.54463425272058, 45.538486649999996], &quot;type&quot;: &quot;Point&quot;}, &quot;id&quot;: &quot;526&quot;, &quot;properties&quot;: {&quot;__folium_color&quot;: &quot;#472c7a&quot;, &quot;distance&quot;: 3524.5689903236653}, &quot;type&quot;: &quot;Feature&quot;}, {&quot;bbox&quot;: [-122.567755115858, 45.54833169999999, -122.567755115858, 45.54833169999999], &quot;geometry&quot;: {&quot;coordinates&quot;: [-122.567755115858, 45.54833169999999], &quot;type&quot;: &quot;Point&quot;}, &quot;id&quot;: &quot;527&quot;, &quot;properties&quot;: {&quot;__folium_color&quot;: &quot;#481467&quot;, &quot;distance&quot;: 1599.8458647593254}, &quot;type&quot;: &quot;Feature&quot;}, {&quot;bbox&quot;: [-122.69345005117381, 45.482061349999995, -122.69345005117381, 45.482061349999995], &quot;geometry&quot;: {&quot;coordinates&quot;: [-122.69345005117381, 45.482061349999995], &quot;type&quot;: &quot;Point&quot;}, &quot;id&quot;: &quot;528&quot;, &quot;properties&quot;: {&quot;__folium_color&quot;: &quot;#3f4788&quot;, &quot;distance&quot;: 5950.5478903448275}, &quot;type&quot;: &quot;Feature&quot;}, {&quot;bbox&quot;: [-122.64017644999998, 45.55866255, -122.64017644999998, 45.55866255], &quot;geometry&quot;: {&quot;coordinates&quot;: [-122.64017644999998, 45.55866255], &quot;type&quot;: &quot;Point&quot;}, &quot;id&quot;: &quot;529&quot;, &quot;properties&quot;: {&quot;__folium_color&quot;: &quot;#472c7a&quot;, &quot;distance&quot;: 3542.885993271182}, &quot;type&quot;: &quot;Feature&quot;}, {&quot;bbox&quot;: [-122.7161962, 45.6157785, -122.7161962, 45.6157785], &quot;geometry&quot;: {&quot;coordinates&quot;: [-122.7161962, 45.6157785], &quot;type&quot;: &quot;Point&quot;}, &quot;id&quot;: &quot;530&quot;, &quot;properties&quot;: {&quot;__folium_color&quot;: &quot;#414487&quot;, &quot;distance&quot;: 5642.055015520639}, &quot;type&quot;: &quot;Feature&quot;}, {&quot;bbox&quot;: [-122.64611144546869, 45.57636445, -122.64611144546869, 45.57636445], &quot;geometry&quot;: {&quot;coordinates&quot;: [-122.64611144546869, 45.57636445], &quot;type&quot;: &quot;Point&quot;}, &quot;id&quot;: &quot;531&quot;, &quot;properties&quot;: {&quot;__folium_color&quot;: &quot;#453581&quot;, &quot;distance&quot;: 4341.114098363997}, &quot;type&quot;: &quot;Feature&quot;}, {&quot;bbox&quot;: [-122.53215652026316, 45.47015629999999, -122.53215652026316, 45.47015629999999], &quot;geometry&quot;: {&quot;coordinates&quot;: [-122.53215652026316, 45.47015629999999], &quot;type&quot;: &quot;Point&quot;}, &quot;id&quot;: &quot;532&quot;, &quot;properties&quot;: {&quot;__folium_color&quot;: &quot;#38b977&quot;, &quot;distance&quot;: 18469.466502156512}, &quot;type&quot;: &quot;Feature&quot;}, {&quot;bbox&quot;: [-122.70613386245046, 45.57676325, -122.70613386245046, 45.57676325], &quot;geometry&quot;: {&quot;coordinates&quot;: [-122.70613386245046, 45.57676325], &quot;type&quot;: &quot;Point&quot;}, &quot;id&quot;: &quot;533&quot;, &quot;properties&quot;: {&quot;__folium_color&quot;: &quot;#39568c&quot;, &quot;distance&quot;: 7489.885823274769}, &quot;type&quot;: &quot;Feature&quot;}, {&quot;bbox&quot;: [-122.6694466734694, 45.552562183673466, -122.6694466734694, 45.552562183673466], &quot;geometry&quot;: {&quot;coordinates&quot;: [-122.6694466734694, 45.552562183673466], &quot;type&quot;: &quot;Point&quot;}, &quot;id&quot;: &quot;534&quot;, &quot;properties&quot;: {&quot;__folium_color&quot;: &quot;#481668&quot;, &quot;distance&quot;: 1785.0451536903233}, &quot;type&quot;: &quot;Feature&quot;}, {&quot;bbox&quot;: [-122.6423774982779, 45.552876749999996, -122.6423774982779, 45.552876749999996], &quot;geometry&quot;: {&quot;coordinates&quot;: [-122.6423774982779, 45.552876749999996], &quot;type&quot;: &quot;Point&quot;}, &quot;id&quot;: &quot;535&quot;, &quot;properties&quot;: {&quot;__folium_color&quot;: &quot;#3c508b&quot;, &quot;distance&quot;: 6836.353114011721}, &quot;type&quot;: &quot;Feature&quot;}, {&quot;bbox&quot;: [-122.68552667541623, 45.5762799, -122.68552667541623, 45.5762799], &quot;geometry&quot;: {&quot;coordinates&quot;: [-122.68552667541623, 45.5762799], &quot;type&quot;: &quot;Point&quot;}, &quot;id&quot;: &quot;536&quot;, &quot;properties&quot;: {&quot;__folium_color&quot;: &quot;#460b5e&quot;, &quot;distance&quot;: 1043.3926837387423}, &quot;type&quot;: &quot;Feature&quot;}, {&quot;bbox&quot;: [-122.60863919603644, 45.5381903, -122.60863919603644, 45.5381903], &quot;geometry&quot;: {&quot;coordinates&quot;: [-122.60863919603644, 45.5381903], &quot;type&quot;: &quot;Point&quot;}, &quot;id&quot;: &quot;537&quot;, &quot;properties&quot;: {&quot;__folium_color&quot;: &quot;#365d8d&quot;, &quot;distance&quot;: 8123.1790642562055}, &quot;type&quot;: &quot;Feature&quot;}, {&quot;bbox&quot;: [-122.63684417492274, 45.48909969999999, -122.63684417492274, 45.48909969999999], &quot;geometry&quot;: {&quot;coordinates&quot;: [-122.63684417492274, 45.48909969999999], &quot;type&quot;: &quot;Point&quot;}, &quot;id&quot;: &quot;538&quot;, &quot;properties&quot;: {&quot;__folium_color&quot;: &quot;#453781&quot;, &quot;distance&quot;: 4445.291309457905}, &quot;type&quot;: &quot;Feature&quot;}, {&quot;bbox&quot;: [-122.7137417, 45.458901800000014, -122.7137417, 45.458901800000014], &quot;geometry&quot;: {&quot;coordinates&quot;: [-122.7137417, 45.458901800000014], &quot;type&quot;: &quot;Point&quot;}, &quot;id&quot;: &quot;539&quot;, &quot;properties&quot;: {&quot;__folium_color&quot;: &quot;#481b6d&quot;, &quot;distance&quot;: 2165.5609390257396}, &quot;type&quot;: &quot;Feature&quot;}, {&quot;bbox&quot;: [-122.7161962, 45.6157785, -122.7161962, 45.6157785], &quot;geometry&quot;: {&quot;coordinates&quot;: [-122.7161962, 45.6157785], &quot;type&quot;: &quot;Point&quot;}, &quot;id&quot;: &quot;540&quot;, &quot;properties&quot;: {&quot;__folium_color&quot;: &quot;#2e6d8e&quot;, &quot;distance&quot;: 9831.324164876973}, &quot;type&quot;: &quot;Feature&quot;}, {&quot;bbox&quot;: [-122.65907995515958, 45.43118775000001, -122.65907995515958, 45.43118775000001], &quot;geometry&quot;: {&quot;coordinates&quot;: [-122.65907995515958, 45.43118775000001], &quot;type&quot;: &quot;Point&quot;}, &quot;id&quot;: &quot;541&quot;, &quot;properties&quot;: {&quot;__folium_color&quot;: &quot;#404688&quot;, &quot;distance&quot;: 5825.701544214783}, &quot;type&quot;: &quot;Feature&quot;}, {&quot;bbox&quot;: [-122.68053282515969, 45.500706099999995, -122.68053282515969, 45.500706099999995], &quot;geometry&quot;: {&quot;coordinates&quot;: [-122.68053282515969, 45.500706099999995], &quot;type&quot;: &quot;Point&quot;}, &quot;id&quot;: &quot;542&quot;, &quot;properties&quot;: {&quot;__folium_color&quot;: &quot;#3c508b&quot;, &quot;distance&quot;: 6843.3453476087625}, &quot;type&quot;: &quot;Feature&quot;}, {&quot;bbox&quot;: [-122.68320570000002, 45.514492800000006, -122.68320570000002, 45.514492800000006], &quot;geometry&quot;: {&quot;coordinates&quot;: [-122.68320570000002, 45.514492800000006], &quot;type&quot;: &quot;Point&quot;}, &quot;id&quot;: &quot;543&quot;, &quot;properties&quot;: {&quot;__folium_color&quot;: &quot;#46085c&quot;, &quot;distance&quot;: 785.6539114032219}, &quot;type&quot;: &quot;Feature&quot;}, {&quot;bbox&quot;: [-122.67184039999997, 45.52020900000001, -122.67184039999997, 45.52020900000001], &quot;geometry&quot;: {&quot;coordinates&quot;: [-122.67184039999997, 45.52020900000001], &quot;type&quot;: &quot;Point&quot;}, &quot;id&quot;: &quot;544&quot;, &quot;properties&quot;: {&quot;__folium_color&quot;: &quot;#30698e&quot;, &quot;distance&quot;: 9329.565452374774}, &quot;type&quot;: &quot;Feature&quot;}, {&quot;bbox&quot;: [-122.70919707324296, 45.52446775000001, -122.70919707324296, 45.52446775000001], &quot;geometry&quot;: {&quot;coordinates&quot;: [-122.70919707324296, 45.52446775000001], &quot;type&quot;: &quot;Point&quot;}, &quot;id&quot;: &quot;545&quot;, &quot;properties&quot;: {&quot;__folium_color&quot;: &quot;#2f6b8e&quot;, &quot;distance&quot;: 9613.526132848478}, &quot;type&quot;: &quot;Feature&quot;}, {&quot;bbox&quot;: [-122.67031935330674, 45.5788077, -122.67031935330674, 45.5788077], &quot;geometry&quot;: {&quot;coordinates&quot;: [-122.67031935330674, 45.5788077], &quot;type&quot;: &quot;Point&quot;}, &quot;id&quot;: &quot;546&quot;, &quot;properties&quot;: {&quot;__folium_color&quot;: &quot;#3f4788&quot;, &quot;distance&quot;: 5930.437384346477}, &quot;type&quot;: &quot;Feature&quot;}, {&quot;bbox&quot;: [-122.71333350134239, 45.58946716979889, -122.71333350134239, 45.58946716979889], &quot;geometry&quot;: {&quot;coordinates&quot;: [-122.71333350134239, 45.58946716979889], &quot;type&quot;: &quot;Point&quot;}, &quot;id&quot;: &quot;547&quot;, &quot;properties&quot;: {&quot;__folium_color&quot;: &quot;#46337f&quot;, &quot;distance&quot;: 4199.862787742266}, &quot;type&quot;: &quot;Feature&quot;}, {&quot;bbox&quot;: [-122.70887509099947, 45.460222599999994, -122.70887509099947, 45.460222599999994], &quot;geometry&quot;: {&quot;coordinates&quot;: [-122.70887509099947, 45.460222599999994], &quot;type&quot;: &quot;Point&quot;}, &quot;id&quot;: &quot;549&quot;, &quot;properties&quot;: {&quot;__folium_color&quot;: &quot;#482173&quot;, &quot;distance&quot;: 2676.612673704443}, &quot;type&quot;: &quot;Feature&quot;}, {&quot;bbox&quot;: [-122.67935653061224, 45.51022491836735, -122.67935653061224, 45.51022491836735], &quot;geometry&quot;: {&quot;coordinates&quot;: [-122.67935653061224, 45.51022491836735], &quot;type&quot;: &quot;Point&quot;}, &quot;id&quot;: &quot;550&quot;, &quot;properties&quot;: {&quot;__folium_color&quot;: &quot;#375a8c&quot;, &quot;distance&quot;: 7804.282058824877}, &quot;type&quot;: &quot;Feature&quot;}, {&quot;bbox&quot;: [-122.62266267877028, 45.541833149999995, -122.62266267877028, 45.541833149999995], &quot;geometry&quot;: {&quot;coordinates&quot;: [-122.62266267877028, 45.541833149999995], &quot;type&quot;: &quot;Point&quot;}, &quot;id&quot;: &quot;551&quot;, &quot;properties&quot;: {&quot;__folium_color&quot;: &quot;#472a7a&quot;, &quot;distance&quot;: 3418.3045257912186}, &quot;type&quot;: &quot;Feature&quot;}, {&quot;bbox&quot;: [-122.63259559425816, 45.46414247387268, -122.63259559425816, 45.46414247387268], &quot;geometry&quot;: {&quot;coordinates&quot;: [-122.63259559425816, 45.46414247387268], &quot;type&quot;: &quot;Point&quot;}, &quot;id&quot;: &quot;552&quot;, &quot;properties&quot;: {&quot;__folium_color&quot;: &quot;#355e8d&quot;, &quot;distance&quot;: 8192.9322567843}, &quot;type&quot;: &quot;Feature&quot;}, {&quot;bbox&quot;: [-122.68878661014426, 45.577424549999996, -122.68878661014426, 45.577424549999996], &quot;geometry&quot;: {&quot;coordinates&quot;: [-122.68878661014426, 45.577424549999996], &quot;type&quot;: &quot;Point&quot;}, &quot;id&quot;: &quot;553&quot;, &quot;properties&quot;: {&quot;__folium_color&quot;: &quot;#482576&quot;, &quot;distance&quot;: 3057.892931189282}, &quot;type&quot;: &quot;Feature&quot;}, {&quot;bbox&quot;: [-122.5115192653061, 45.523538775510204, -122.5115192653061, 45.523538775510204], &quot;geometry&quot;: {&quot;coordinates&quot;: [-122.5115192653061, 45.523538775510204], &quot;type&quot;: &quot;Point&quot;}, &quot;id&quot;: &quot;554&quot;, &quot;properties&quot;: {&quot;__folium_color&quot;: &quot;#306a8e&quot;, &quot;distance&quot;: 9449.188435637749}, &quot;type&quot;: &quot;Feature&quot;}, {&quot;bbox&quot;: [-122.81116918989589, 45.583460349999996, -122.81116918989589, 45.583460349999996], &quot;geometry&quot;: {&quot;coordinates&quot;: [-122.81116918989589, 45.583460349999996], &quot;type&quot;: &quot;Point&quot;}, &quot;id&quot;: &quot;555&quot;, &quot;properties&quot;: {&quot;__folium_color&quot;: &quot;#3c508b&quot;, &quot;distance&quot;: 6773.382110255735}, &quot;type&quot;: &quot;Feature&quot;}, {&quot;bbox&quot;: [-122.66932859247413, 45.49992089999999, -122.66932859247413, 45.49992089999999], &quot;geometry&quot;: {&quot;coordinates&quot;: [-122.66932859247413, 45.49992089999999], &quot;type&quot;: &quot;Point&quot;}, &quot;id&quot;: &quot;556&quot;, &quot;properties&quot;: {&quot;__folium_color&quot;: &quot;#2e6d8e&quot;, &quot;distance&quot;: 9818.20118773105}, &quot;type&quot;: &quot;Feature&quot;}, {&quot;bbox&quot;: [-122.6715146713537, 45.5686837, -122.6715146713537, 45.5686837], &quot;geometry&quot;: {&quot;coordinates&quot;: [-122.6715146713537, 45.5686837], &quot;type&quot;: &quot;Point&quot;}, &quot;id&quot;: &quot;557&quot;, &quot;properties&quot;: {&quot;__folium_color&quot;: &quot;#453781&quot;, &quot;distance&quot;: 4461.888722854714}, &quot;type&quot;: &quot;Feature&quot;}, {&quot;bbox&quot;: [-122.6990406184146, 45.602099900000006, -122.6990406184146, 45.602099900000006], &quot;geometry&quot;: {&quot;coordinates&quot;: [-122.6990406184146, 45.602099900000006], &quot;type&quot;: &quot;Point&quot;}, &quot;id&quot;: &quot;558&quot;, &quot;properties&quot;: {&quot;__folium_color&quot;: &quot;#482979&quot;, &quot;distance&quot;: 3373.4035831865654}, &quot;type&quot;: &quot;Feature&quot;}, {&quot;bbox&quot;: [-122.70714079999999, 45.732070799999995, -122.70714079999999, 45.732070799999995], &quot;geometry&quot;: {&quot;coordinates&quot;: [-122.70714079999999, 45.732070799999995], &quot;type&quot;: &quot;Point&quot;}, &quot;id&quot;: &quot;559&quot;, &quot;properties&quot;: {&quot;__folium_color&quot;: &quot;#fde725&quot;, &quot;distance&quot;: 27298.055523967312}, &quot;type&quot;: &quot;Feature&quot;}, {&quot;bbox&quot;: [-122.63503654983185, 45.50934075, -122.63503654983185, 45.50934075], &quot;geometry&quot;: {&quot;coordinates&quot;: [-122.63503654983185, 45.50934075], &quot;type&quot;: &quot;Point&quot;}, &quot;id&quot;: &quot;560&quot;, &quot;properties&quot;: {&quot;__folium_color&quot;: &quot;#30698e&quot;, &quot;distance&quot;: 9368.665227732545}, &quot;type&quot;: &quot;Feature&quot;}, {&quot;bbox&quot;: [-122.6451466347755, 45.53402195, -122.6451466347755, 45.53402195], &quot;geometry&quot;: {&quot;coordinates&quot;: [-122.6451466347755, 45.53402195], &quot;type&quot;: &quot;Point&quot;}, &quot;id&quot;: &quot;561&quot;, &quot;properties&quot;: {&quot;__folium_color&quot;: &quot;#472f7d&quot;, &quot;distance&quot;: 3890.742773960176}, &quot;type&quot;: &quot;Feature&quot;}, {&quot;bbox&quot;: [-122.65348537500002, 45.52327841666667, -122.65348537500002, 45.52327841666667], &quot;geometry&quot;: {&quot;coordinates&quot;: [-122.65348537500002, 45.52327841666667], &quot;type&quot;: &quot;Point&quot;}, &quot;id&quot;: &quot;562&quot;, &quot;properties&quot;: {&quot;__folium_color&quot;: &quot;#472d7b&quot;, &quot;distance&quot;: 3643.2787579368446}, &quot;type&quot;: &quot;Feature&quot;}, {&quot;bbox&quot;: [-122.72914128654044, 45.514005350000005, -122.72914128654044, 45.514005350000005], &quot;geometry&quot;: {&quot;coordinates&quot;: [-122.72914128654044, 45.514005350000005], &quot;type&quot;: &quot;Point&quot;}, &quot;id&quot;: &quot;563&quot;, &quot;properties&quot;: {&quot;__folium_color&quot;: &quot;#34618d&quot;, &quot;distance&quot;: 8485.484489894701}, &quot;type&quot;: &quot;Feature&quot;}, {&quot;bbox&quot;: [-122.60622491087332, 45.55576379999999, -122.60622491087332, 45.55576379999999], &quot;geometry&quot;: {&quot;coordinates&quot;: [-122.60622491087332, 45.55576379999999], &quot;type&quot;: &quot;Point&quot;}, &quot;id&quot;: &quot;564&quot;, &quot;properties&quot;: {&quot;__folium_color&quot;: &quot;#3c4f8a&quot;, &quot;distance&quot;: 6691.3165887594505}, &quot;type&quot;: &quot;Feature&quot;}, {&quot;bbox&quot;: [-122.72006114999998, 45.56256734999999, -122.72006114999998, 45.56256734999999], &quot;geometry&quot;: {&quot;coordinates&quot;: [-122.72006114999998, 45.56256734999999], &quot;type&quot;: &quot;Point&quot;}, &quot;id&quot;: &quot;565&quot;, &quot;properties&quot;: {&quot;__folium_color&quot;: &quot;#443b84&quot;, &quot;distance&quot;: 4934.452326082998}, &quot;type&quot;: &quot;Feature&quot;}, {&quot;bbox&quot;: [-122.57665600443549, 45.416696300000005, -122.57665600443549, 45.416696300000005], &quot;geometry&quot;: {&quot;coordinates&quot;: [-122.57665600443549, 45.416696300000005], &quot;type&quot;: &quot;Point&quot;}, &quot;id&quot;: &quot;566&quot;, &quot;properties&quot;: {&quot;__folium_color&quot;: &quot;#277e8e&quot;, &quot;distance&quot;: 11735.012019436323}, &quot;type&quot;: &quot;Feature&quot;}, {&quot;bbox&quot;: [-122.71198671179197, 45.488267099999995, -122.71198671179197, 45.488267099999995], &quot;geometry&quot;: {&quot;coordinates&quot;: [-122.71198671179197, 45.488267099999995], &quot;type&quot;: &quot;Point&quot;}, &quot;id&quot;: &quot;567&quot;, &quot;properties&quot;: {&quot;__folium_color&quot;: &quot;#481d6f&quot;, &quot;distance&quot;: 2400.7495660443615}, &quot;type&quot;: &quot;Feature&quot;}, {&quot;bbox&quot;: [-122.58874709392263, 45.5099257, -122.58874709392263, 45.5099257], &quot;geometry&quot;: {&quot;coordinates&quot;: [-122.58874709392263, 45.5099257], &quot;type&quot;: &quot;Point&quot;}, &quot;id&quot;: &quot;568&quot;, &quot;properties&quot;: {&quot;__folium_color&quot;: &quot;#2f6c8e&quot;, &quot;distance&quot;: 9692.950271069063}, &quot;type&quot;: &quot;Feature&quot;}, {&quot;bbox&quot;: [-122.7677154419811, 45.479164049999994, -122.7677154419811, 45.479164049999994], &quot;geometry&quot;: {&quot;coordinates&quot;: [-122.7677154419811, 45.479164049999994], &quot;type&quot;: &quot;Point&quot;}, &quot;id&quot;: &quot;569&quot;, &quot;properties&quot;: {&quot;__folium_color&quot;: &quot;#3c508b&quot;, &quot;distance&quot;: 6826.307639362124}, &quot;type&quot;: &quot;Feature&quot;}, {&quot;bbox&quot;: [-122.55644688283888, 45.48592965, -122.55644688283888, 45.48592965], &quot;geometry&quot;: {&quot;coordinates&quot;: [-122.55644688283888, 45.48592965], &quot;type&quot;: &quot;Point&quot;}, &quot;id&quot;: &quot;570&quot;, &quot;properties&quot;: {&quot;__folium_color&quot;: &quot;#423f85&quot;, &quot;distance&quot;: 5285.335456823335}, &quot;type&quot;: &quot;Feature&quot;}, {&quot;bbox&quot;: [-122.75062645291308, 45.63817715, -122.75062645291308, 45.63817715], &quot;geometry&quot;: {&quot;coordinates&quot;: [-122.75062645291308, 45.63817715], &quot;type&quot;: &quot;Point&quot;}, &quot;id&quot;: &quot;571&quot;, &quot;properties&quot;: {&quot;__folium_color&quot;: &quot;#297b8e&quot;, &quot;distance&quot;: 11342.626076039214}, &quot;type&quot;: &quot;Feature&quot;}, {&quot;bbox&quot;: [-122.6798791625874, 45.4750575, -122.6798791625874, 45.4750575], &quot;geometry&quot;: {&quot;coordinates&quot;: [-122.6798791625874, 45.4750575], &quot;type&quot;: &quot;Point&quot;}, &quot;id&quot;: &quot;572&quot;, &quot;properties&quot;: {&quot;__folium_color&quot;: &quot;#3b528b&quot;, &quot;distance&quot;: 7028.598158693074}, &quot;type&quot;: &quot;Feature&quot;}, {&quot;bbox&quot;: [-122.61676437158623, 45.46168524745601, -122.61676437158623, 45.46168524745601], &quot;geometry&quot;: {&quot;coordinates&quot;: [-122.61676437158623, 45.46168524745601], &quot;type&quot;: &quot;Point&quot;}, &quot;id&quot;: &quot;573&quot;, &quot;properties&quot;: {&quot;__folium_color&quot;: &quot;#3f4788&quot;, &quot;distance&quot;: 5986.471548023157}, &quot;type&quot;: &quot;Feature&quot;}, {&quot;bbox&quot;: [-122.69427243570826, 45.487925, -122.69427243570826, 45.487925], &quot;geometry&quot;: {&quot;coordinates&quot;: [-122.69427243570826, 45.487925], &quot;type&quot;: &quot;Point&quot;}, &quot;id&quot;: &quot;574&quot;, &quot;properties&quot;: {&quot;__folium_color&quot;: &quot;#2a768e&quot;, &quot;distance&quot;: 10856.446325416708}, &quot;type&quot;: &quot;Feature&quot;}, {&quot;bbox&quot;: [-122.69133571146892, 45.539328049999995, -122.69133571146892, 45.539328049999995], &quot;geometry&quot;: {&quot;coordinates&quot;: [-122.69133571146892, 45.539328049999995], &quot;type&quot;: &quot;Point&quot;}, &quot;id&quot;: &quot;575&quot;, &quot;properties&quot;: {&quot;__folium_color&quot;: &quot;#482878&quot;, &quot;distance&quot;: 3269.9229825197767}, &quot;type&quot;: &quot;Feature&quot;}, {&quot;bbox&quot;: [-122.69388875180161, 45.585689349999996, -122.69388875180161, 45.585689349999996], &quot;geometry&quot;: {&quot;coordinates&quot;: [-122.69388875180161, 45.585689349999996], &quot;type&quot;: &quot;Point&quot;}, &quot;id&quot;: &quot;576&quot;, &quot;properties&quot;: {&quot;__folium_color&quot;: &quot;#460a5d&quot;, &quot;distance&quot;: 945.2413910325804}, &quot;type&quot;: &quot;Feature&quot;}, {&quot;bbox&quot;: [-122.72051396630108, 45.52591635, -122.72051396630108, 45.52591635], &quot;geometry&quot;: {&quot;coordinates&quot;: [-122.72051396630108, 45.52591635], &quot;type&quot;: &quot;Point&quot;}, &quot;id&quot;: &quot;577&quot;, &quot;properties&quot;: {&quot;__folium_color&quot;: &quot;#482374&quot;, &quot;distance&quot;: 2810.5817156554754}, &quot;type&quot;: &quot;Feature&quot;}, {&quot;bbox&quot;: [-122.62265020000002, 45.534111849999995, -122.62265020000002, 45.534111849999995], &quot;geometry&quot;: {&quot;coordinates&quot;: [-122.62265020000002, 45.534111849999995], &quot;type&quot;: &quot;Point&quot;}, &quot;id&quot;: &quot;578&quot;, &quot;properties&quot;: {&quot;__folium_color&quot;: &quot;#46307e&quot;, &quot;distance&quot;: 4014.9400260783223}, &quot;type&quot;: &quot;Feature&quot;}, {&quot;bbox&quot;: [-122.60751674983064, 45.48560754999999, -122.60751674983064, 45.48560754999999], &quot;geometry&quot;: {&quot;coordinates&quot;: [-122.60751674983064, 45.48560754999999], &quot;type&quot;: &quot;Point&quot;}, &quot;id&quot;: &quot;579&quot;, &quot;properties&quot;: {&quot;__folium_color&quot;: &quot;#31678e&quot;, &quot;distance&quot;: 9138.426351640956}, &quot;type&quot;: &quot;Feature&quot;}, {&quot;bbox&quot;: [-122.6156494024691, 45.49467604999999, -122.6156494024691, 45.49467604999999], &quot;geometry&quot;: {&quot;coordinates&quot;: [-122.6156494024691, 45.49467604999999], &quot;type&quot;: &quot;Point&quot;}, &quot;id&quot;: &quot;580&quot;, &quot;properties&quot;: {&quot;__folium_color&quot;: &quot;#481f70&quot;, &quot;distance&quot;: 2519.37238247999}, &quot;type&quot;: &quot;Feature&quot;}, {&quot;bbox&quot;: [-122.67563955102042, 45.52620083673469, -122.67563955102042, 45.52620083673469], &quot;geometry&quot;: {&quot;coordinates&quot;: [-122.67563955102042, 45.52620083673469], &quot;type&quot;: &quot;Point&quot;}, &quot;id&quot;: &quot;581&quot;, &quot;properties&quot;: {&quot;__folium_color&quot;: &quot;#471365&quot;, &quot;distance&quot;: 1583.69264561515}, &quot;type&quot;: &quot;Feature&quot;}, {&quot;bbox&quot;: [-122.60172240237833, 45.4199827, -122.60172240237833, 45.4199827], &quot;geometry&quot;: {&quot;coordinates&quot;: [-122.60172240237833, 45.4199827], &quot;type&quot;: &quot;Point&quot;}, &quot;id&quot;: &quot;582&quot;, &quot;properties&quot;: {&quot;__folium_color&quot;: &quot;#25ac82&quot;, &quot;distance&quot;: 16894.169294882202}, &quot;type&quot;: &quot;Feature&quot;}, {&quot;bbox&quot;: [-122.77738520566015, 45.51856825, -122.77738520566015, 45.51856825], &quot;geometry&quot;: {&quot;coordinates&quot;: [-122.77738520566015, 45.51856825], &quot;type&quot;: &quot;Point&quot;}, &quot;id&quot;: &quot;583&quot;, &quot;properties&quot;: {&quot;__folium_color&quot;: &quot;#31678e&quot;, &quot;distance&quot;: 9108.110193377666}, &quot;type&quot;: &quot;Feature&quot;}, {&quot;bbox&quot;: [-122.69326264663725, 45.57967375, -122.69326264663725, 45.57967375], &quot;geometry&quot;: {&quot;coordinates&quot;: [-122.69326264663725, 45.57967375], &quot;type&quot;: &quot;Point&quot;}, &quot;id&quot;: &quot;584&quot;, &quot;properties&quot;: {&quot;__folium_color&quot;: &quot;#460a5d&quot;, &quot;distance&quot;: 906.3049887324869}, &quot;type&quot;: &quot;Feature&quot;}, {&quot;bbox&quot;: [-122.64869153956606, 45.54291229999999, -122.64869153956606, 45.54291229999999], &quot;geometry&quot;: {&quot;coordinates&quot;: [-122.64869153956606, 45.54291229999999], &quot;type&quot;: &quot;Point&quot;}, &quot;id&quot;: &quot;585&quot;, &quot;properties&quot;: {&quot;__folium_color&quot;: &quot;#470d60&quot;, &quot;distance&quot;: 1063.5870393051657}, &quot;type&quot;: &quot;Feature&quot;}, {&quot;bbox&quot;: [-122.58586593433907, 45.52157235461784, -122.58586593433907, 45.52157235461784], &quot;geometry&quot;: {&quot;coordinates&quot;: [-122.58586593433907, 45.52157235461784], &quot;type&quot;: &quot;Point&quot;}, &quot;id&quot;: &quot;587&quot;, &quot;properties&quot;: {&quot;__folium_color&quot;: &quot;#443b84&quot;, &quot;distance&quot;: 4945.723963484107}, &quot;type&quot;: &quot;Feature&quot;}, {&quot;bbox&quot;: [-122.65893400000002, 45.516079250000004, -122.65893400000002, 45.516079250000004], &quot;geometry&quot;: {&quot;coordinates&quot;: [-122.65893400000002, 45.516079250000004], &quot;type&quot;: &quot;Point&quot;}, &quot;id&quot;: &quot;588&quot;, &quot;properties&quot;: {&quot;__folium_color&quot;: &quot;#424086&quot;, &quot;distance&quot;: 5347.512714423267}, &quot;type&quot;: &quot;Feature&quot;}, {&quot;bbox&quot;: [-122.7335430612245, 45.58567718367347, -122.7335430612245, 45.58567718367347], &quot;geometry&quot;: {&quot;coordinates&quot;: [-122.7335430612245, 45.58567718367347], &quot;type&quot;: &quot;Point&quot;}, &quot;id&quot;: &quot;589&quot;, &quot;properties&quot;: {&quot;__folium_color&quot;: &quot;#32648e&quot;, &quot;distance&quot;: 8872.710107663515}, &quot;type&quot;: &quot;Feature&quot;}, {&quot;bbox&quot;: [-122.7161962, 45.6157785, -122.7161962, 45.6157785], &quot;geometry&quot;: {&quot;coordinates&quot;: [-122.7161962, 45.6157785], &quot;type&quot;: &quot;Point&quot;}, &quot;id&quot;: &quot;590&quot;, &quot;properties&quot;: {&quot;__folium_color&quot;: &quot;#414487&quot;, &quot;distance&quot;: 5642.055015520639}, &quot;type&quot;: &quot;Feature&quot;}, {&quot;bbox&quot;: [-122.66022816158501, 45.38339754999999, -122.66022816158501, 45.38339754999999], &quot;geometry&quot;: {&quot;coordinates&quot;: [-122.66022816158501, 45.38339754999999], &quot;type&quot;: &quot;Point&quot;}, &quot;id&quot;: &quot;591&quot;, &quot;properties&quot;: {&quot;__folium_color&quot;: &quot;#25858e&quot;, &quot;distance&quot;: 12557.167823935557}, &quot;type&quot;: &quot;Feature&quot;}, {&quot;bbox&quot;: [-122.57675997627072, 45.45447525, -122.57675997627072, 45.45447525], &quot;geometry&quot;: {&quot;coordinates&quot;: [-122.57675997627072, 45.45447525], &quot;type&quot;: &quot;Point&quot;}, &quot;id&quot;: &quot;592&quot;, &quot;properties&quot;: {&quot;__folium_color&quot;: &quot;#414287&quot;, &quot;distance&quot;: 5535.534389321959}, &quot;type&quot;: &quot;Feature&quot;}, {&quot;bbox&quot;: [-122.54309344819198, 45.5120775, -122.54309344819198, 45.5120775], &quot;geometry&quot;: {&quot;coordinates&quot;: [-122.54309344819198, 45.5120775], &quot;type&quot;: &quot;Point&quot;}, &quot;id&quot;: &quot;593&quot;, &quot;properties&quot;: {&quot;__folium_color&quot;: &quot;#460a5d&quot;, &quot;distance&quot;: 900.606697975588}, &quot;type&quot;: &quot;Feature&quot;}, {&quot;bbox&quot;: [-122.76939781702931, 45.50231469999999, -122.76939781702931, 45.50231469999999], &quot;geometry&quot;: {&quot;coordinates&quot;: [-122.76939781702931, 45.50231469999999], &quot;type&quot;: &quot;Point&quot;}, &quot;id&quot;: &quot;594&quot;, &quot;properties&quot;: {&quot;__folium_color&quot;: &quot;#20938c&quot;, &quot;distance&quot;: 14105.065624267803}, &quot;type&quot;: &quot;Feature&quot;}, {&quot;bbox&quot;: [-122.54887845002892, 45.48664355, -122.54887845002892, 45.48664355], &quot;geometry&quot;: {&quot;coordinates&quot;: [-122.54887845002892, 45.48664355], &quot;type&quot;: &quot;Point&quot;}, &quot;id&quot;: &quot;595&quot;, &quot;properties&quot;: {&quot;__folium_color&quot;: &quot;#472e7c&quot;, &quot;distance&quot;: 3755.2602721202134}, &quot;type&quot;: &quot;Feature&quot;}, {&quot;bbox&quot;: [-122.66291403948597, 45.52136144999999, -122.66291403948597, 45.52136144999999], &quot;geometry&quot;: {&quot;coordinates&quot;: [-122.66291403948597, 45.52136144999999], &quot;type&quot;: &quot;Point&quot;}, &quot;id&quot;: &quot;596&quot;, &quot;properties&quot;: {&quot;__folium_color&quot;: &quot;#1f988b&quot;, &quot;distance&quot;: 14678.741878193832}, &quot;type&quot;: &quot;Feature&quot;}, {&quot;bbox&quot;: [-122.6600272, 45.5730545, -122.6600272, 45.5730545], &quot;geometry&quot;: {&quot;coordinates&quot;: [-122.6600272, 45.5730545], &quot;type&quot;: &quot;Point&quot;}, &quot;id&quot;: &quot;597&quot;, &quot;properties&quot;: {&quot;__folium_color&quot;: &quot;#2d708e&quot;, &quot;distance&quot;: 10082.42835109527}, &quot;type&quot;: &quot;Feature&quot;}, {&quot;bbox&quot;: [-122.53225264224919, 45.47730903660651, -122.53225264224919, 45.47730903660651], &quot;geometry&quot;: {&quot;coordinates&quot;: [-122.53225264224919, 45.47730903660651], &quot;type&quot;: &quot;Point&quot;}, &quot;id&quot;: &quot;598&quot;, &quot;properties&quot;: {&quot;__folium_color&quot;: &quot;#3f4788&quot;, &quot;distance&quot;: 5938.839051678636}, &quot;type&quot;: &quot;Feature&quot;}, {&quot;bbox&quot;: [-122.68920682051282, 45.617765256410244, -122.68920682051282, 45.617765256410244], &quot;geometry&quot;: {&quot;coordinates&quot;: [-122.68920682051282, 45.617765256410244], &quot;type&quot;: &quot;Point&quot;}, &quot;id&quot;: &quot;599&quot;, &quot;properties&quot;: {&quot;__folium_color&quot;: &quot;#b2dd2d&quot;, &quot;distance&quot;: 24205.303289737374}, &quot;type&quot;: &quot;Feature&quot;}, {&quot;bbox&quot;: [-122.67662502995735, 45.38947295, -122.67662502995735, 45.38947295], &quot;geometry&quot;: {&quot;coordinates&quot;: [-122.67662502995735, 45.38947295], &quot;type&quot;: &quot;Point&quot;}, &quot;id&quot;: &quot;600&quot;, &quot;properties&quot;: {&quot;__folium_color&quot;: &quot;#b2dd2d&quot;, &quot;distance&quot;: 24185.187002058523}, &quot;type&quot;: &quot;Feature&quot;}, {&quot;bbox&quot;: [-122.5455552501868, 45.50640435, -122.5455552501868, 45.50640435], &quot;geometry&quot;: {&quot;coordinates&quot;: [-122.5455552501868, 45.50640435], &quot;type&quot;: &quot;Point&quot;}, &quot;id&quot;: &quot;601&quot;, &quot;properties&quot;: {&quot;__folium_color&quot;: &quot;#218f8d&quot;, &quot;distance&quot;: 13618.352608992178}, &quot;type&quot;: &quot;Feature&quot;}, {&quot;bbox&quot;: [-122.82258352593736, 45.518460399999995, -122.82258352593736, 45.518460399999995], &quot;geometry&quot;: {&quot;coordinates&quot;: [-122.82258352593736, 45.518460399999995], &quot;type&quot;: &quot;Point&quot;}, &quot;id&quot;: &quot;602&quot;, &quot;properties&quot;: {&quot;__folium_color&quot;: &quot;#20928c&quot;, &quot;distance&quot;: 13888.170475674075}, &quot;type&quot;: &quot;Feature&quot;}, {&quot;bbox&quot;: [-122.58483796969695, 45.5625716060606, -122.58483796969695, 45.5625716060606], &quot;geometry&quot;: {&quot;coordinates&quot;: [-122.58483796969695, 45.5625716060606], &quot;type&quot;: &quot;Point&quot;}, &quot;id&quot;: &quot;603&quot;, &quot;properties&quot;: {&quot;__folium_color&quot;: &quot;#228b8d&quot;, &quot;distance&quot;: 13178.107560491413}, &quot;type&quot;: &quot;Feature&quot;}, {&quot;bbox&quot;: [-122.5436963057437, 45.542250100000004, -122.5436963057437, 45.542250100000004], &quot;geometry&quot;: {&quot;coordinates&quot;: [-122.5436963057437, 45.542250100000004], &quot;type&quot;: &quot;Point&quot;}, &quot;id&quot;: &quot;604&quot;, &quot;properties&quot;: {&quot;__folium_color&quot;: &quot;#453781&quot;, &quot;distance&quot;: 4447.117508430994}, &quot;type&quot;: &quot;Feature&quot;}, {&quot;bbox&quot;: [-122.61875283330345, 45.52348805, -122.61875283330345, 45.52348805], &quot;geometry&quot;: {&quot;coordinates&quot;: [-122.61875283330345, 45.52348805], &quot;type&quot;: &quot;Point&quot;}, &quot;id&quot;: &quot;605&quot;, &quot;properties&quot;: {&quot;__folium_color&quot;: &quot;#481c6e&quot;, &quot;distance&quot;: 2262.8897537200833}, &quot;type&quot;: &quot;Feature&quot;}, {&quot;bbox&quot;: [-122.70646681080457, 45.492185049999996, -122.70646681080457, 45.492185049999996], &quot;geometry&quot;: {&quot;coordinates&quot;: [-122.70646681080457, 45.492185049999996], &quot;type&quot;: &quot;Point&quot;}, &quot;id&quot;: &quot;606&quot;, &quot;properties&quot;: {&quot;__folium_color&quot;: &quot;#481d6f&quot;, &quot;distance&quot;: 2396.985785777396}, &quot;type&quot;: &quot;Feature&quot;}, {&quot;bbox&quot;: [-122.74201386403395, 45.586078699999995, -122.74201386403395, 45.586078699999995], &quot;geometry&quot;: {&quot;coordinates&quot;: [-122.74201386403395, 45.586078699999995], &quot;type&quot;: &quot;Point&quot;}, &quot;id&quot;: &quot;607&quot;, &quot;properties&quot;: {&quot;__folium_color&quot;: &quot;#470e61&quot;, &quot;distance&quot;: 1186.8968790017625}, &quot;type&quot;: &quot;Feature&quot;}, {&quot;bbox&quot;: [-122.65237409534234, 45.50126854423359, -122.65237409534234, 45.50126854423359], &quot;geometry&quot;: {&quot;coordinates&quot;: [-122.65237409534234, 45.50126854423359], &quot;type&quot;: &quot;Point&quot;}, &quot;id&quot;: &quot;608&quot;, &quot;properties&quot;: {&quot;__folium_color&quot;: &quot;#443983&quot;, &quot;distance&quot;: 4667.132309021013}, &quot;type&quot;: &quot;Feature&quot;}, {&quot;bbox&quot;: [-122.65380199999997, 45.54310984999999, -122.65380199999997, 45.54310984999999], &quot;geometry&quot;: {&quot;coordinates&quot;: [-122.65380199999997, 45.54310984999999], &quot;type&quot;: &quot;Point&quot;}, &quot;id&quot;: &quot;609&quot;, &quot;properties&quot;: {&quot;__folium_color&quot;: &quot;#460b5e&quot;, &quot;distance&quot;: 1021.0608709495775}, &quot;type&quot;: &quot;Feature&quot;}, {&quot;bbox&quot;: [-122.7161962, 45.6157785, -122.7161962, 45.6157785], &quot;geometry&quot;: {&quot;coordinates&quot;: [-122.7161962, 45.6157785], &quot;type&quot;: &quot;Point&quot;}, &quot;id&quot;: &quot;611&quot;, &quot;properties&quot;: {&quot;__folium_color&quot;: &quot;#414487&quot;, &quot;distance&quot;: 5642.055015520639}, &quot;type&quot;: &quot;Feature&quot;}, {&quot;bbox&quot;: [-122.69353848979593, 45.53407475510204, -122.69353848979593, 45.53407475510204], &quot;geometry&quot;: {&quot;coordinates&quot;: [-122.69353848979593, 45.53407475510204], &quot;type&quot;: &quot;Point&quot;}, &quot;id&quot;: &quot;612&quot;, &quot;properties&quot;: {&quot;__folium_color&quot;: &quot;#375a8c&quot;, &quot;distance&quot;: 7787.774850067019}, &quot;type&quot;: &quot;Feature&quot;}, {&quot;bbox&quot;: [-122.52180219603643, 45.5230222, -122.52180219603643, 45.5230222], &quot;geometry&quot;: {&quot;coordinates&quot;: [-122.52180219603643, 45.5230222], &quot;type&quot;: &quot;Point&quot;}, &quot;id&quot;: &quot;613&quot;, &quot;properties&quot;: {&quot;__folium_color&quot;: &quot;#481a6c&quot;, &quot;distance&quot;: 2107.6810870025397}, &quot;type&quot;: &quot;Feature&quot;}, {&quot;bbox&quot;: [-122.69397029232985, 45.418570349999996, -122.69397029232985, 45.418570349999996], &quot;geometry&quot;: {&quot;coordinates&quot;: [-122.69397029232985, 45.418570349999996], &quot;type&quot;: &quot;Point&quot;}, &quot;id&quot;: &quot;614&quot;, &quot;properties&quot;: {&quot;__folium_color&quot;: &quot;#2f6c8e&quot;, &quot;distance&quot;: 9721.183157480333}, &quot;type&quot;: &quot;Feature&quot;}, {&quot;bbox&quot;: [-122.53178929023011, 45.5285212, -122.53178929023011, 45.5285212], &quot;geometry&quot;: {&quot;coordinates&quot;: [-122.53178929023011, 45.5285212], &quot;type&quot;: &quot;Point&quot;}, &quot;id&quot;: &quot;615&quot;, &quot;properties&quot;: {&quot;__folium_color&quot;: &quot;#481a6c&quot;, &quot;distance&quot;: 2015.6973282740187}, &quot;type&quot;: &quot;Feature&quot;}, {&quot;bbox&quot;: [-122.604988, 45.5405663125, -122.604988, 45.5405663125], &quot;geometry&quot;: {&quot;coordinates&quot;: [-122.604988, 45.5405663125], &quot;type&quot;: &quot;Point&quot;}, &quot;id&quot;: &quot;616&quot;, &quot;properties&quot;: {&quot;__folium_color&quot;: &quot;#2c738e&quot;, &quot;distance&quot;: 10514.376893642673}, &quot;type&quot;: &quot;Feature&quot;}, {&quot;bbox&quot;: [-122.6941426, 45.6306013, -122.6941426, 45.6306013], &quot;geometry&quot;: {&quot;coordinates&quot;: [-122.6941426, 45.6306013], &quot;type&quot;: &quot;Point&quot;}, &quot;id&quot;: &quot;617&quot;, &quot;properties&quot;: {&quot;__folium_color&quot;: &quot;#e7e419&quot;, &quot;distance&quot;: 26312.411667028977}, &quot;type&quot;: &quot;Feature&quot;}, {&quot;bbox&quot;: [-122.62828267952737, 45.5491681, -122.62828267952737, 45.5491681], &quot;geometry&quot;: {&quot;coordinates&quot;: [-122.62828267952737, 45.5491681], &quot;type&quot;: &quot;Point&quot;}, &quot;id&quot;: &quot;618&quot;, &quot;properties&quot;: {&quot;__folium_color&quot;: &quot;#365c8d&quot;, &quot;distance&quot;: 7974.492831082288}, &quot;type&quot;: &quot;Feature&quot;}, {&quot;bbox&quot;: [-122.62836414779147, 45.51051855, -122.62836414779147, 45.51051855], &quot;geometry&quot;: {&quot;coordinates&quot;: [-122.62836414779147, 45.51051855], &quot;type&quot;: &quot;Point&quot;}, &quot;id&quot;: &quot;619&quot;, &quot;properties&quot;: {&quot;__folium_color&quot;: &quot;#460b5e&quot;, &quot;distance&quot;: 984.8799465286497}, &quot;type&quot;: &quot;Feature&quot;}, {&quot;bbox&quot;: [-122.665262897283, 45.53047929999999, -122.665262897283, 45.53047929999999], &quot;geometry&quot;: {&quot;coordinates&quot;: [-122.665262897283, 45.53047929999999], &quot;type&quot;: &quot;Point&quot;}, &quot;id&quot;: &quot;620&quot;, &quot;properties&quot;: {&quot;__folium_color&quot;: &quot;#481668&quot;, &quot;distance&quot;: 1775.9193291333045}, &quot;type&quot;: &quot;Feature&quot;}, {&quot;bbox&quot;: [-122.65867451020408, 45.547398775510196, -122.65867451020408, 45.547398775510196], &quot;geometry&quot;: {&quot;coordinates&quot;: [-122.65867451020408, 45.547398775510196], &quot;type&quot;: &quot;Point&quot;}, &quot;id&quot;: &quot;621&quot;, &quot;properties&quot;: {&quot;__folium_color&quot;: &quot;#470e61&quot;, &quot;distance&quot;: 1199.4734943792039}, &quot;type&quot;: &quot;Feature&quot;}, {&quot;bbox&quot;: [-122.66093527585365, 45.53036285, -122.66093527585365, 45.53036285], &quot;geometry&quot;: {&quot;coordinates&quot;: [-122.66093527585365, 45.53036285], &quot;type&quot;: &quot;Point&quot;}, &quot;id&quot;: &quot;622&quot;, &quot;properties&quot;: {&quot;__folium_color&quot;: &quot;#482979&quot;, &quot;distance&quot;: 3280.941772066283}, &quot;type&quot;: &quot;Feature&quot;}, {&quot;bbox&quot;: [-122.69381232985613, 45.464691099999996, -122.69381232985613, 45.464691099999996], &quot;geometry&quot;: {&quot;coordinates&quot;: [-122.69381232985613, 45.464691099999996], &quot;type&quot;: &quot;Point&quot;}, &quot;id&quot;: &quot;623&quot;, &quot;properties&quot;: {&quot;__folium_color&quot;: &quot;#33638d&quot;, &quot;distance&quot;: 8692.013156810372}, &quot;type&quot;: &quot;Feature&quot;}, {&quot;bbox&quot;: [-122.67781715, 45.56731490000001, -122.67781715, 45.56731490000001], &quot;geometry&quot;: {&quot;coordinates&quot;: [-122.67781715, 45.56731490000001], &quot;type&quot;: &quot;Point&quot;}, &quot;id&quot;: &quot;624&quot;, &quot;properties&quot;: {&quot;__folium_color&quot;: &quot;#460b5e&quot;, &quot;distance&quot;: 1041.5788071482705}, &quot;type&quot;: &quot;Feature&quot;}, {&quot;bbox&quot;: [-122.57475508227134, 45.422980949999996, -122.57475508227134, 45.422980949999996], &quot;geometry&quot;: {&quot;coordinates&quot;: [-122.57475508227134, 45.422980949999996], &quot;type&quot;: &quot;Point&quot;}, &quot;id&quot;: &quot;625&quot;, &quot;properties&quot;: {&quot;__folium_color&quot;: &quot;#2b758e&quot;, &quot;distance&quot;: 10753.899310324821}, &quot;type&quot;: &quot;Feature&quot;}, {&quot;bbox&quot;: [-122.665262897283, 45.53047929999999, -122.665262897283, 45.53047929999999], &quot;geometry&quot;: {&quot;coordinates&quot;: [-122.665262897283, 45.53047929999999], &quot;type&quot;: &quot;Point&quot;}, &quot;id&quot;: &quot;626&quot;, &quot;properties&quot;: {&quot;__folium_color&quot;: &quot;#481668&quot;, &quot;distance&quot;: 1775.9193291333045}, &quot;type&quot;: &quot;Feature&quot;}, {&quot;bbox&quot;: [-122.59955779999997, 45.55613395, -122.59955779999997, 45.55613395], &quot;geometry&quot;: {&quot;coordinates&quot;: [-122.59955779999997, 45.55613395], &quot;type&quot;: &quot;Point&quot;}, &quot;id&quot;: &quot;627&quot;, &quot;properties&quot;: {&quot;__folium_color&quot;: &quot;#2c738e&quot;, &quot;distance&quot;: 10563.210105254519}, &quot;type&quot;: &quot;Feature&quot;}, {&quot;bbox&quot;: [-122.65529678964441, 45.50452135, -122.65529678964441, 45.50452135], &quot;geometry&quot;: {&quot;coordinates&quot;: [-122.65529678964441, 45.50452135], &quot;type&quot;: &quot;Point&quot;}, &quot;id&quot;: &quot;628&quot;, &quot;properties&quot;: {&quot;__folium_color&quot;: &quot;#404688&quot;, &quot;distance&quot;: 5832.240314415427}, &quot;type&quot;: &quot;Feature&quot;}, {&quot;bbox&quot;: [-122.64691685000001, 45.536132550000005, -122.64691685000001, 45.536132550000005], &quot;geometry&quot;: {&quot;coordinates&quot;: [-122.64691685000001, 45.536132550000005], &quot;type&quot;: &quot;Point&quot;}, &quot;id&quot;: &quot;629&quot;, &quot;properties&quot;: {&quot;__folium_color&quot;: &quot;#481a6c&quot;, &quot;distance&quot;: 2015.2187019302032}, &quot;type&quot;: &quot;Feature&quot;}, {&quot;bbox&quot;: [-122.63257375, 45.51781904999999, -122.63257375, 45.51781904999999], &quot;geometry&quot;: {&quot;coordinates&quot;: [-122.63257375, 45.51781904999999], &quot;type&quot;: &quot;Point&quot;}, &quot;id&quot;: &quot;630&quot;, &quot;properties&quot;: {&quot;__folium_color&quot;: &quot;#355f8d&quot;, &quot;distance&quot;: 8315.619150070526}, &quot;type&quot;: &quot;Feature&quot;}, {&quot;bbox&quot;: [-122.65848226573894, 45.51032475, -122.65848226573894, 45.51032475], &quot;geometry&quot;: {&quot;coordinates&quot;: [-122.65848226573894, 45.51032475], &quot;type&quot;: &quot;Point&quot;}, &quot;id&quot;: &quot;631&quot;, &quot;properties&quot;: {&quot;__folium_color&quot;: &quot;#482979&quot;, &quot;distance&quot;: 3333.473698113468}, &quot;type&quot;: &quot;Feature&quot;}, {&quot;bbox&quot;: [-122.6259382618283, 45.473251649999995, -122.6259382618283, 45.473251649999995], &quot;geometry&quot;: {&quot;coordinates&quot;: [-122.6259382618283, 45.473251649999995], &quot;type&quot;: &quot;Point&quot;}, &quot;id&quot;: &quot;632&quot;, &quot;properties&quot;: {&quot;__folium_color&quot;: &quot;#482677&quot;, &quot;distance&quot;: 3114.7179399759593}, &quot;type&quot;: &quot;Feature&quot;}, {&quot;bbox&quot;: [-122.59055419999999, 45.5895038, -122.59055419999999, 45.5895038], &quot;geometry&quot;: {&quot;coordinates&quot;: [-122.59055419999999, 45.5895038], &quot;type&quot;: &quot;Point&quot;}, &quot;id&quot;: &quot;633&quot;, &quot;properties&quot;: {&quot;__folium_color&quot;: &quot;#3f4889&quot;, &quot;distance&quot;: 6106.799313327476}, &quot;type&quot;: &quot;Feature&quot;}, {&quot;bbox&quot;: [-122.64584891836735, 45.51706704081632, -122.64584891836735, 45.51706704081632], &quot;geometry&quot;: {&quot;coordinates&quot;: [-122.64584891836735, 45.51706704081632], &quot;type&quot;: &quot;Point&quot;}, &quot;id&quot;: &quot;634&quot;, &quot;properties&quot;: {&quot;__folium_color&quot;: &quot;#482071&quot;, &quot;distance&quot;: 2595.455819841505}, &quot;type&quot;: &quot;Feature&quot;}, {&quot;bbox&quot;: [-122.69058606532343, 45.567547700000006, -122.69058606532343, 45.567547700000006], &quot;geometry&quot;: {&quot;coordinates&quot;: [-122.69058606532343, 45.567547700000006], &quot;type&quot;: &quot;Point&quot;}, &quot;id&quot;: &quot;635&quot;, &quot;properties&quot;: {&quot;__folium_color&quot;: &quot;#443b84&quot;, &quot;distance&quot;: 4965.043388798259}, &quot;type&quot;: &quot;Feature&quot;}, {&quot;bbox&quot;: [-122.7161962, 45.6157785, -122.7161962, 45.6157785], &quot;geometry&quot;: {&quot;coordinates&quot;: [-122.7161962, 45.6157785], &quot;type&quot;: &quot;Point&quot;}, &quot;id&quot;: &quot;636&quot;, &quot;properties&quot;: {&quot;__folium_color&quot;: &quot;#414487&quot;, &quot;distance&quot;: 5642.055015520639}, &quot;type&quot;: &quot;Feature&quot;}, {&quot;bbox&quot;: [-122.7161962, 45.6157785, -122.7161962, 45.6157785], &quot;geometry&quot;: {&quot;coordinates&quot;: [-122.7161962, 45.6157785], &quot;type&quot;: &quot;Point&quot;}, &quot;id&quot;: &quot;637&quot;, &quot;properties&quot;: {&quot;__folium_color&quot;: &quot;#2e6d8e&quot;, &quot;distance&quot;: 9831.324164876973}, &quot;type&quot;: &quot;Feature&quot;}, {&quot;bbox&quot;: [-122.67102375000002, 45.47846925, -122.67102375000002, 45.47846925], &quot;geometry&quot;: {&quot;coordinates&quot;: [-122.67102375000002, 45.47846925], &quot;type&quot;: &quot;Point&quot;}, &quot;id&quot;: &quot;638&quot;, &quot;properties&quot;: {&quot;__folium_color&quot;: &quot;#375a8c&quot;, &quot;distance&quot;: 7751.698050937479}, &quot;type&quot;: &quot;Feature&quot;}, {&quot;bbox&quot;: [-122.53445641085062, 45.4315723, -122.53445641085062, 45.4315723], &quot;geometry&quot;: {&quot;coordinates&quot;: [-122.53445641085062, 45.4315723], &quot;type&quot;: &quot;Point&quot;}, &quot;id&quot;: &quot;639&quot;, &quot;properties&quot;: {&quot;__folium_color&quot;: &quot;#287c8e&quot;, &quot;distance&quot;: 11462.088590220632}, &quot;type&quot;: &quot;Feature&quot;}, {&quot;bbox&quot;: [-122.64316617533927, 45.52051855, -122.64316617533927, 45.52051855], &quot;geometry&quot;: {&quot;coordinates&quot;: [-122.64316617533927, 45.52051855], &quot;type&quot;: &quot;Point&quot;}, &quot;id&quot;: &quot;640&quot;, &quot;properties&quot;: {&quot;__folium_color&quot;: &quot;#46337f&quot;, &quot;distance&quot;: 4188.600803422641}, &quot;type&quot;: &quot;Feature&quot;}, {&quot;bbox&quot;: [-122.67195547214317, 45.48080830000001, -122.67195547214317, 45.48080830000001], &quot;geometry&quot;: {&quot;coordinates&quot;: [-122.67195547214317, 45.48080830000001], &quot;type&quot;: &quot;Point&quot;}, &quot;id&quot;: &quot;641&quot;, &quot;properties&quot;: {&quot;__folium_color&quot;: &quot;#482576&quot;, &quot;distance&quot;: 2991.3664176601724}, &quot;type&quot;: &quot;Feature&quot;}, {&quot;bbox&quot;: [-122.67763755009331, 45.581856599999995, -122.67763755009331, 45.581856599999995], &quot;geometry&quot;: {&quot;coordinates&quot;: [-122.67763755009331, 45.581856599999995], &quot;type&quot;: &quot;Point&quot;}, &quot;id&quot;: &quot;643&quot;, &quot;properties&quot;: {&quot;__folium_color&quot;: &quot;#3d4e8a&quot;, &quot;distance&quot;: 6655.371521919475}, &quot;type&quot;: &quot;Feature&quot;}, {&quot;bbox&quot;: [-122.66682495918369, 45.53664793877551, -122.66682495918369, 45.53664793877551], &quot;geometry&quot;: {&quot;coordinates&quot;: [-122.66682495918369, 45.53664793877551], &quot;type&quot;: &quot;Point&quot;}, &quot;id&quot;: &quot;646&quot;, &quot;properties&quot;: {&quot;__folium_color&quot;: &quot;#46085c&quot;, &quot;distance&quot;: 805.6653639819385}, &quot;type&quot;: &quot;Feature&quot;}, {&quot;bbox&quot;: [-122.60980341331977, 45.50992089999999, -122.60980341331977, 45.50992089999999], &quot;geometry&quot;: {&quot;coordinates&quot;: [-122.60980341331977, 45.50992089999999], &quot;type&quot;: &quot;Point&quot;}, &quot;id&quot;: &quot;647&quot;, &quot;properties&quot;: {&quot;__folium_color&quot;: &quot;#33628d&quot;, &quot;distance&quot;: 8570.547142365922}, &quot;type&quot;: &quot;Feature&quot;}, {&quot;bbox&quot;: [-122.5712068, 45.56442599999999, -122.5712068, 45.56442599999999], &quot;geometry&quot;: {&quot;coordinates&quot;: [-122.5712068, 45.56442599999999], &quot;type&quot;: &quot;Point&quot;}, &quot;id&quot;: &quot;648&quot;, &quot;properties&quot;: {&quot;__folium_color&quot;: &quot;#2f6c8e&quot;, &quot;distance&quot;: 9688.695051428816}, &quot;type&quot;: &quot;Feature&quot;}, {&quot;bbox&quot;: [-122.64102672092378, 45.48645304999999, -122.64102672092378, 45.48645304999999], &quot;geometry&quot;: {&quot;coordinates&quot;: [-122.64102672092378, 45.48645304999999], &quot;type&quot;: &quot;Point&quot;}, &quot;id&quot;: &quot;649&quot;, &quot;properties&quot;: {&quot;__folium_color&quot;: &quot;#482878&quot;, &quot;distance&quot;: 3260.4120602482003}, &quot;type&quot;: &quot;Feature&quot;}, {&quot;bbox&quot;: [-122.6638427001475, 45.536676, -122.6638427001475, 45.536676], &quot;geometry&quot;: {&quot;coordinates&quot;: [-122.6638427001475, 45.536676], &quot;type&quot;: &quot;Point&quot;}, &quot;id&quot;: &quot;650&quot;, &quot;properties&quot;: {&quot;__folium_color&quot;: &quot;#46075a&quot;, &quot;distance&quot;: 716.8532110156216}, &quot;type&quot;: &quot;Feature&quot;}, {&quot;bbox&quot;: [-122.67657837516875, 45.48147215, -122.67657837516875, 45.48147215], &quot;geometry&quot;: {&quot;coordinates&quot;: [-122.67657837516875, 45.48147215], &quot;type&quot;: &quot;Point&quot;}, &quot;id&quot;: &quot;651&quot;, &quot;properties&quot;: {&quot;__folium_color&quot;: &quot;#48186a&quot;, &quot;distance&quot;: 1966.2830014982342}, &quot;type&quot;: &quot;Feature&quot;}, {&quot;bbox&quot;: [-122.70625710427701, 45.583354, -122.70625710427701, 45.583354], &quot;geometry&quot;: {&quot;coordinates&quot;: [-122.70625710427701, 45.583354], &quot;type&quot;: &quot;Point&quot;}, &quot;id&quot;: &quot;652&quot;, &quot;properties&quot;: {&quot;__folium_color&quot;: &quot;#23a983&quot;, &quot;distance&quot;: 16506.189487378084}, &quot;type&quot;: &quot;Feature&quot;}, {&quot;bbox&quot;: [-122.54839869999999, 45.4728652, -122.54839869999999, 45.4728652], &quot;geometry&quot;: {&quot;coordinates&quot;: [-122.54839869999999, 45.4728652], &quot;type&quot;: &quot;Point&quot;}, &quot;id&quot;: &quot;653&quot;, &quot;properties&quot;: {&quot;__folium_color&quot;: &quot;#3b528b&quot;, &quot;distance&quot;: 7053.144916843389}, &quot;type&quot;: &quot;Feature&quot;}, {&quot;bbox&quot;: [-122.67073014285936, 45.52192354999999, -122.67073014285936, 45.52192354999999], &quot;geometry&quot;: {&quot;coordinates&quot;: [-122.67073014285936, 45.52192354999999], &quot;type&quot;: &quot;Point&quot;}, &quot;id&quot;: &quot;654&quot;, &quot;properties&quot;: {&quot;__folium_color&quot;: &quot;#482677&quot;, &quot;distance&quot;: 3163.6135474917924}, &quot;type&quot;: &quot;Feature&quot;}, {&quot;bbox&quot;: [-122.57010154778104, 45.527215850000005, -122.57010154778104, 45.527215850000005], &quot;geometry&quot;: {&quot;coordinates&quot;: [-122.57010154778104, 45.527215850000005], &quot;type&quot;: &quot;Point&quot;}, &quot;id&quot;: &quot;655&quot;, &quot;properties&quot;: {&quot;__folium_color&quot;: &quot;#46327e&quot;, &quot;distance&quot;: 4079.205176650807}, &quot;type&quot;: &quot;Feature&quot;}, {&quot;bbox&quot;: [-122.67826858870968, 45.66348399999999, -122.67826858870968, 45.66348399999999], &quot;geometry&quot;: {&quot;coordinates&quot;: [-122.67826858870968, 45.66348399999999], &quot;type&quot;: &quot;Point&quot;}, &quot;id&quot;: &quot;656&quot;, &quot;properties&quot;: {&quot;__folium_color&quot;: &quot;#1f948c&quot;, &quot;distance&quot;: 14224.537354299253}, &quot;type&quot;: &quot;Feature&quot;}, {&quot;bbox&quot;: [-122.76120377861876, 45.5150758, -122.76120377861876, 45.5150758], &quot;geometry&quot;: {&quot;coordinates&quot;: [-122.76120377861876, 45.5150758], &quot;type&quot;: &quot;Point&quot;}, &quot;id&quot;: &quot;657&quot;, &quot;properties&quot;: {&quot;__folium_color&quot;: &quot;#2cb17e&quot;, &quot;distance&quot;: 17558.205993801377}, &quot;type&quot;: &quot;Feature&quot;}, {&quot;bbox&quot;: [-122.73296186069868, 45.454398350000005, -122.73296186069868, 45.454398350000005], &quot;geometry&quot;: {&quot;coordinates&quot;: [-122.73296186069868, 45.454398350000005], &quot;type&quot;: &quot;Point&quot;}, &quot;id&quot;: &quot;658&quot;, &quot;properties&quot;: {&quot;__folium_color&quot;: &quot;#471063&quot;, &quot;distance&quot;: 1314.992882485576}, &quot;type&quot;: &quot;Feature&quot;}, {&quot;bbox&quot;: [-122.71189424399608, 45.487939850000004, -122.71189424399608, 45.487939850000004], &quot;geometry&quot;: {&quot;coordinates&quot;: [-122.71189424399608, 45.487939850000004], &quot;type&quot;: &quot;Point&quot;}, &quot;id&quot;: &quot;659&quot;, &quot;properties&quot;: {&quot;__folium_color&quot;: &quot;#404588&quot;, &quot;distance&quot;: 5750.645472735883}, &quot;type&quot;: &quot;Feature&quot;}, {&quot;bbox&quot;: [-122.57329323898195, 45.54181404999999, -122.57329323898195, 45.54181404999999], &quot;geometry&quot;: {&quot;coordinates&quot;: [-122.57329323898195, 45.54181404999999], &quot;type&quot;: &quot;Point&quot;}, &quot;id&quot;: &quot;661&quot;, &quot;properties&quot;: {&quot;__folium_color&quot;: &quot;#481769&quot;, &quot;distance&quot;: 1800.8265588562203}, &quot;type&quot;: &quot;Feature&quot;}, {&quot;bbox&quot;: [-122.79231007000537, 45.589601367671875, -122.79231007000537, 45.589601367671875], &quot;geometry&quot;: {&quot;coordinates&quot;: [-122.79231007000537, 45.589601367671875], &quot;type&quot;: &quot;Point&quot;}, &quot;id&quot;: &quot;663&quot;, &quot;properties&quot;: {&quot;__folium_color&quot;: &quot;#453882&quot;, &quot;distance&quot;: 4593.264477841767}, &quot;type&quot;: &quot;Feature&quot;}, {&quot;bbox&quot;: [-122.62934902909646, 45.5289317, -122.62934902909646, 45.5289317], &quot;geometry&quot;: {&quot;coordinates&quot;: [-122.62934902909646, 45.5289317], &quot;type&quot;: &quot;Point&quot;}, &quot;id&quot;: &quot;664&quot;, &quot;properties&quot;: {&quot;__folium_color&quot;: &quot;#453781&quot;, &quot;distance&quot;: 4518.916821781071}, &quot;type&quot;: &quot;Feature&quot;}, {&quot;bbox&quot;: [-122.68164243976966, 45.60367091491362, -122.68164243976966, 45.60367091491362], &quot;geometry&quot;: {&quot;coordinates&quot;: [-122.68164243976966, 45.60367091491362], &quot;type&quot;: &quot;Point&quot;}, &quot;id&quot;: &quot;665&quot;, &quot;properties&quot;: {&quot;__folium_color&quot;: &quot;#2e6f8e&quot;, &quot;distance&quot;: 10022.16801476952}, &quot;type&quot;: &quot;Feature&quot;}, {&quot;bbox&quot;: [-122.67146699985449, 45.556261799999994, -122.67146699985449, 45.556261799999994], &quot;geometry&quot;: {&quot;coordinates&quot;: [-122.67146699985449, 45.556261799999994], &quot;type&quot;: &quot;Point&quot;}, &quot;id&quot;: &quot;666&quot;, &quot;properties&quot;: {&quot;__folium_color&quot;: &quot;#2c718e&quot;, &quot;distance&quot;: 10360.412679121153}, &quot;type&quot;: &quot;Feature&quot;}, {&quot;bbox&quot;: [-122.55812950273506, 45.48636395, -122.55812950273506, 45.48636395], &quot;geometry&quot;: {&quot;coordinates&quot;: [-122.55812950273506, 45.48636395], &quot;type&quot;: &quot;Point&quot;}, &quot;id&quot;: &quot;667&quot;, &quot;properties&quot;: {&quot;__folium_color&quot;: &quot;#2a778e&quot;, &quot;distance&quot;: 10944.44815708095}, &quot;type&quot;: &quot;Feature&quot;}, {&quot;bbox&quot;: [-122.57734890000002, 45.4512134, -122.57734890000002, 45.4512134], &quot;geometry&quot;: {&quot;coordinates&quot;: [-122.57734890000002, 45.4512134], &quot;type&quot;: &quot;Point&quot;}, &quot;id&quot;: &quot;668&quot;, &quot;properties&quot;: {&quot;__folium_color&quot;: &quot;#2ab07f&quot;, &quot;distance&quot;: 17404.45159578068}, &quot;type&quot;: &quot;Feature&quot;}, {&quot;bbox&quot;: [-122.61345122070705, 45.530882299999995, -122.61345122070705, 45.530882299999995], &quot;geometry&quot;: {&quot;coordinates&quot;: [-122.61345122070705, 45.530882299999995], &quot;type&quot;: &quot;Point&quot;}, &quot;id&quot;: &quot;669&quot;, &quot;properties&quot;: {&quot;__folium_color&quot;: &quot;#433e85&quot;, &quot;distance&quot;: 5145.730961877377}, &quot;type&quot;: &quot;Feature&quot;}, {&quot;bbox&quot;: [-122.56095775139345, 45.44288149999999, -122.56095775139345, 45.44288149999999], &quot;geometry&quot;: {&quot;coordinates&quot;: [-122.56095775139345, 45.44288149999999], &quot;type&quot;: &quot;Point&quot;}, &quot;id&quot;: &quot;670&quot;, &quot;properties&quot;: {&quot;__folium_color&quot;: &quot;#4ac16d&quot;, &quot;distance&quot;: 19540.76271679015}, &quot;type&quot;: &quot;Feature&quot;}, {&quot;bbox&quot;: [-122.61248178884318, 45.616089599999995, -122.61248178884318, 45.616089599999995], &quot;geometry&quot;: {&quot;coordinates&quot;: [-122.61248178884318, 45.616089599999995], &quot;type&quot;: &quot;Point&quot;}, &quot;id&quot;: &quot;671&quot;, &quot;properties&quot;: {&quot;__folium_color&quot;: &quot;#2e6d8e&quot;, &quot;distance&quot;: 9791.02179851919}, &quot;type&quot;: &quot;Feature&quot;}, {&quot;bbox&quot;: [-122.7265167, 45.40137095, -122.7265167, 45.40137095], &quot;geometry&quot;: {&quot;coordinates&quot;: [-122.7265167, 45.40137095], &quot;type&quot;: &quot;Point&quot;}, &quot;id&quot;: &quot;672&quot;, &quot;properties&quot;: {&quot;__folium_color&quot;: &quot;#39558c&quot;, &quot;distance&quot;: 7397.289958902267}, &quot;type&quot;: &quot;Feature&quot;}, {&quot;bbox&quot;: [-122.8251207, 45.4842816, -122.8251207, 45.4842816], &quot;geometry&quot;: {&quot;coordinates&quot;: [-122.8251207, 45.4842816], &quot;type&quot;: &quot;Point&quot;}, &quot;id&quot;: &quot;673&quot;, &quot;properties&quot;: {&quot;__folium_color&quot;: &quot;#7cd250&quot;, &quot;distance&quot;: 21920.814086038383}, &quot;type&quot;: &quot;Feature&quot;}, {&quot;bbox&quot;: [-122.5288121, 45.50664305, -122.5288121, 45.50664305], &quot;geometry&quot;: {&quot;coordinates&quot;: [-122.5288121, 45.50664305], &quot;type&quot;: &quot;Point&quot;}, &quot;id&quot;: &quot;674&quot;, &quot;properties&quot;: {&quot;__folium_color&quot;: &quot;#3d4d8a&quot;, &quot;distance&quot;: 6464.655031872211}, &quot;type&quot;: &quot;Feature&quot;}, {&quot;bbox&quot;: [-122.65637827427913, 45.46950694999999, -122.65637827427913, 45.46950694999999], &quot;geometry&quot;: {&quot;coordinates&quot;: [-122.65637827427913, 45.46950694999999], &quot;type&quot;: &quot;Point&quot;}, &quot;id&quot;: &quot;675&quot;, &quot;properties&quot;: {&quot;__folium_color&quot;: &quot;#297b8e&quot;, &quot;distance&quot;: 11412.200412413213}, &quot;type&quot;: &quot;Feature&quot;}, {&quot;bbox&quot;: [-122.67476249999999, 45.471240599999994, -122.67476249999999, 45.471240599999994], &quot;geometry&quot;: {&quot;coordinates&quot;: [-122.67476249999999, 45.471240599999994], &quot;type&quot;: &quot;Point&quot;}, &quot;id&quot;: &quot;676&quot;, &quot;properties&quot;: {&quot;__folium_color&quot;: &quot;#481f70&quot;, &quot;distance&quot;: 2516.927833664136}, &quot;type&quot;: &quot;Feature&quot;}, {&quot;bbox&quot;: [-122.71046248970855, 45.48784383146625, -122.71046248970855, 45.48784383146625], &quot;geometry&quot;: {&quot;coordinates&quot;: [-122.71046248970855, 45.48784383146625], &quot;type&quot;: &quot;Point&quot;}, &quot;id&quot;: &quot;677&quot;, &quot;properties&quot;: {&quot;__folium_color&quot;: &quot;#38598c&quot;, &quot;distance&quot;: 7648.803350475264}, &quot;type&quot;: &quot;Feature&quot;}, {&quot;bbox&quot;: [-122.69726969987293, 45.574124999999995, -122.69726969987293, 45.574124999999995], &quot;geometry&quot;: {&quot;coordinates&quot;: [-122.69726969987293, 45.574124999999995], &quot;type&quot;: &quot;Point&quot;}, &quot;id&quot;: &quot;678&quot;, &quot;properties&quot;: {&quot;__folium_color&quot;: &quot;#52c569&quot;, &quot;distance&quot;: 19892.716626684192}, &quot;type&quot;: &quot;Feature&quot;}, {&quot;bbox&quot;: [-122.6723782074932, 45.53875983952753, -122.6723782074932, 45.53875983952753], &quot;geometry&quot;: {&quot;coordinates&quot;: [-122.6723782074932, 45.53875983952753], &quot;type&quot;: &quot;Point&quot;}, &quot;id&quot;: &quot;679&quot;, &quot;properties&quot;: {&quot;__folium_color&quot;: &quot;#472e7c&quot;, &quot;distance&quot;: 3768.4475954375066}, &quot;type&quot;: &quot;Feature&quot;}, {&quot;bbox&quot;: [-122.6771088877551, 45.542172540816324, -122.6771088877551, 45.542172540816324], &quot;geometry&quot;: {&quot;coordinates&quot;: [-122.6771088877551, 45.542172540816324], &quot;type&quot;: &quot;Point&quot;}, &quot;id&quot;: &quot;680&quot;, &quot;properties&quot;: {&quot;__folium_color&quot;: &quot;#472e7c&quot;, &quot;distance&quot;: 3782.883627610182}, &quot;type&quot;: &quot;Feature&quot;}, {&quot;bbox&quot;: [-122.70428481326806, 45.58652565, -122.70428481326806, 45.58652565], &quot;geometry&quot;: {&quot;coordinates&quot;: [-122.70428481326806, 45.58652565], &quot;type&quot;: &quot;Point&quot;}, &quot;id&quot;: &quot;681&quot;, &quot;properties&quot;: {&quot;__folium_color&quot;: &quot;#481a6c&quot;, &quot;distance&quot;: 2070.2123020451295}, &quot;type&quot;: &quot;Feature&quot;}, {&quot;bbox&quot;: [-122.68474168655031, 45.440817550000006, -122.68474168655031, 45.440817550000006], &quot;geometry&quot;: {&quot;coordinates&quot;: [-122.68474168655031, 45.440817550000006], &quot;type&quot;: &quot;Point&quot;}, &quot;id&quot;: &quot;682&quot;, &quot;properties&quot;: {&quot;__folium_color&quot;: &quot;#3e4a89&quot;, &quot;distance&quot;: 6279.015159955688}, &quot;type&quot;: &quot;Feature&quot;}, {&quot;bbox&quot;: [-122.64278220000001, 45.4678013, -122.64278220000001, 45.4678013], &quot;geometry&quot;: {&quot;coordinates&quot;: [-122.64278220000001, 45.4678013], &quot;type&quot;: &quot;Point&quot;}, &quot;id&quot;: &quot;683&quot;, &quot;properties&quot;: {&quot;__folium_color&quot;: &quot;#470d60&quot;, &quot;distance&quot;: 1109.4928487765358}, &quot;type&quot;: &quot;Feature&quot;}, {&quot;bbox&quot;: [-122.52132694502599, 45.51716204999999, -122.52132694502599, 45.51716204999999], &quot;geometry&quot;: {&quot;coordinates&quot;: [-122.52132694502599, 45.51716204999999], &quot;type&quot;: &quot;Point&quot;}, &quot;id&quot;: &quot;685&quot;, &quot;properties&quot;: {&quot;__folium_color&quot;: &quot;#33628d&quot;, &quot;distance&quot;: 8639.643862861705}, &quot;type&quot;: &quot;Feature&quot;}, {&quot;bbox&quot;: [-122.69899134458201, 45.567363199999996, -122.69899134458201, 45.567363199999996], &quot;geometry&quot;: {&quot;coordinates&quot;: [-122.69899134458201, 45.567363199999996], &quot;type&quot;: &quot;Point&quot;}, &quot;id&quot;: &quot;686&quot;, &quot;properties&quot;: {&quot;__folium_color&quot;: &quot;#482677&quot;, &quot;distance&quot;: 3154.0739980950075}, &quot;type&quot;: &quot;Feature&quot;}, {&quot;bbox&quot;: [-122.50379302245861, 45.54920515, -122.50379302245861, 45.54920515], &quot;geometry&quot;: {&quot;coordinates&quot;: [-122.50379302245861, 45.54920515], &quot;type&quot;: &quot;Point&quot;}, &quot;id&quot;: &quot;687&quot;, &quot;properties&quot;: {&quot;__folium_color&quot;: &quot;#33628d&quot;, &quot;distance&quot;: 8639.415021388837}, &quot;type&quot;: &quot;Feature&quot;}, {&quot;bbox&quot;: [-122.62896285063911, 45.470200150000004, -122.62896285063911, 45.470200150000004], &quot;geometry&quot;: {&quot;coordinates&quot;: [-122.62896285063911, 45.470200150000004], &quot;type&quot;: &quot;Point&quot;}, &quot;id&quot;: &quot;688&quot;, &quot;properties&quot;: {&quot;__folium_color&quot;: &quot;#482173&quot;, &quot;distance&quot;: 2678.7386665098034}, &quot;type&quot;: &quot;Feature&quot;}, {&quot;bbox&quot;: [-122.64999190701977, 45.357822199999994, -122.64999190701977, 45.357822199999994], &quot;geometry&quot;: {&quot;coordinates&quot;: [-122.64999190701977, 45.357822199999994], &quot;type&quot;: &quot;Point&quot;}, &quot;id&quot;: &quot;689&quot;, &quot;properties&quot;: {&quot;__folium_color&quot;: &quot;#2ab07f&quot;, &quot;distance&quot;: 17415.834693159035}, &quot;type&quot;: &quot;Feature&quot;}, {&quot;bbox&quot;: [-122.72755132122977, 45.456249549999995, -122.72755132122977, 45.456249549999995], &quot;geometry&quot;: {&quot;coordinates&quot;: [-122.72755132122977, 45.456249549999995], &quot;type&quot;: &quot;Point&quot;}, &quot;id&quot;: &quot;690&quot;, &quot;properties&quot;: {&quot;__folium_color&quot;: &quot;#34618d&quot;, &quot;distance&quot;: 8520.984258038401}, &quot;type&quot;: &quot;Feature&quot;}, {&quot;bbox&quot;: [-122.70870195035829, 45.57662845000001, -122.70870195035829, 45.57662845000001], &quot;geometry&quot;: {&quot;coordinates&quot;: [-122.70870195035829, 45.57662845000001], &quot;type&quot;: &quot;Point&quot;}, &quot;id&quot;: &quot;691&quot;, &quot;properties&quot;: {&quot;__folium_color&quot;: &quot;#433e85&quot;, &quot;distance&quot;: 5174.372340310904}, &quot;type&quot;: &quot;Feature&quot;}, {&quot;bbox&quot;: [-122.5700673103062, 45.562351199999995, -122.5700673103062, 45.562351199999995], &quot;geometry&quot;: {&quot;coordinates&quot;: [-122.5700673103062, 45.562351199999995], &quot;type&quot;: &quot;Point&quot;}, &quot;id&quot;: &quot;692&quot;, &quot;properties&quot;: {&quot;__folium_color&quot;: &quot;#3b518b&quot;, &quot;distance&quot;: 6914.664411863771}, &quot;type&quot;: &quot;Feature&quot;}, {&quot;bbox&quot;: [-122.60896817301462, 45.4816174, -122.60896817301462, 45.4816174], &quot;geometry&quot;: {&quot;coordinates&quot;: [-122.60896817301462, 45.4816174], &quot;type&quot;: &quot;Point&quot;}, &quot;id&quot;: &quot;693&quot;, &quot;properties&quot;: {&quot;__folium_color&quot;: &quot;#482979&quot;, &quot;distance&quot;: 3304.7746168111094}, &quot;type&quot;: &quot;Feature&quot;}, {&quot;bbox&quot;: [-122.7090957275586, 45.4328528, -122.7090957275586, 45.4328528], &quot;geometry&quot;: {&quot;coordinates&quot;: [-122.7090957275586, 45.4328528], &quot;type&quot;: &quot;Point&quot;}, &quot;id&quot;: &quot;694&quot;, &quot;properties&quot;: {&quot;__folium_color&quot;: &quot;#482576&quot;, &quot;distance&quot;: 3015.2581923279495}, &quot;type&quot;: &quot;Feature&quot;}, {&quot;bbox&quot;: [-122.59055419999999, 45.5895038, -122.59055419999999, 45.5895038], &quot;geometry&quot;: {&quot;coordinates&quot;: [-122.59055419999999, 45.5895038], &quot;type&quot;: &quot;Point&quot;}, &quot;id&quot;: &quot;695&quot;, &quot;properties&quot;: {&quot;__folium_color&quot;: &quot;#3f4889&quot;, &quot;distance&quot;: 6106.799313327476}, &quot;type&quot;: &quot;Feature&quot;}, {&quot;bbox&quot;: [-122.63229741579848, 45.523388299999986, -122.63229741579848, 45.523388299999986], &quot;geometry&quot;: {&quot;coordinates&quot;: [-122.63229741579848, 45.523388299999986], &quot;type&quot;: &quot;Point&quot;}, &quot;id&quot;: &quot;696&quot;, &quot;properties&quot;: {&quot;__folium_color&quot;: &quot;#38588c&quot;, &quot;distance&quot;: 7592.411650342002}, &quot;type&quot;: &quot;Feature&quot;}, {&quot;bbox&quot;: [-122.52356524663146, 45.535087, -122.52356524663146, 45.535087], &quot;geometry&quot;: {&quot;coordinates&quot;: [-122.52356524663146, 45.535087], &quot;type&quot;: &quot;Point&quot;}, &quot;id&quot;: &quot;697&quot;, &quot;properties&quot;: {&quot;__folium_color&quot;: &quot;#2a768e&quot;, &quot;distance&quot;: 10873.185599289296}, &quot;type&quot;: &quot;Feature&quot;}, {&quot;bbox&quot;: [-122.60137784862464, 45.50389635, -122.60137784862464, 45.50389635], &quot;geometry&quot;: {&quot;coordinates&quot;: [-122.60137784862464, 45.50389635], &quot;type&quot;: &quot;Point&quot;}, &quot;id&quot;: &quot;699&quot;, &quot;properties&quot;: {&quot;__folium_color&quot;: &quot;#482576&quot;, &quot;distance&quot;: 3012.8896416132284}, &quot;type&quot;: &quot;Feature&quot;}, {&quot;bbox&quot;: [-122.50962930099861, 45.547888150000006, -122.50962930099861, 45.547888150000006], &quot;geometry&quot;: {&quot;coordinates&quot;: [-122.50962930099861, 45.547888150000006], &quot;type&quot;: &quot;Point&quot;}, &quot;id&quot;: &quot;700&quot;, &quot;properties&quot;: {&quot;__folium_color&quot;: &quot;#365c8d&quot;, &quot;distance&quot;: 8003.34359666542}, &quot;type&quot;: &quot;Feature&quot;}, {&quot;bbox&quot;: [-122.5898655, 45.52441414999999, -122.5898655, 45.52441414999999], &quot;geometry&quot;: {&quot;coordinates&quot;: [-122.5898655, 45.52441414999999], &quot;type&quot;: &quot;Point&quot;}, &quot;id&quot;: &quot;701&quot;, &quot;properties&quot;: {&quot;__folium_color&quot;: &quot;#404688&quot;, &quot;distance&quot;: 5850.076646150077}, &quot;type&quot;: &quot;Feature&quot;}, {&quot;bbox&quot;: [-122.77864889999998, 45.4603564, -122.77864889999998, 45.4603564], &quot;geometry&quot;: {&quot;coordinates&quot;: [-122.77864889999998, 45.4603564], &quot;type&quot;: &quot;Point&quot;}, &quot;id&quot;: &quot;702&quot;, &quot;properties&quot;: {&quot;__folium_color&quot;: &quot;#3e4989&quot;, &quot;distance&quot;: 6238.183656719422}, &quot;type&quot;: &quot;Feature&quot;}, {&quot;bbox&quot;: [-122.73530050995826, 45.46140225, -122.73530050995826, 45.46140225], &quot;geometry&quot;: {&quot;coordinates&quot;: [-122.73530050995826, 45.46140225], &quot;type&quot;: &quot;Point&quot;}, &quot;id&quot;: &quot;703&quot;, &quot;properties&quot;: {&quot;__folium_color&quot;: &quot;#424186&quot;, &quot;distance&quot;: 5441.43474924212}, &quot;type&quot;: &quot;Feature&quot;}, {&quot;bbox&quot;: [-122.69359930387358, 45.51412595, -122.69359930387358, 45.51412595], &quot;geometry&quot;: {&quot;coordinates&quot;: [-122.69359930387358, 45.51412595], &quot;type&quot;: &quot;Point&quot;}, &quot;id&quot;: &quot;704&quot;, &quot;properties&quot;: {&quot;__folium_color&quot;: &quot;#424186&quot;, &quot;distance&quot;: 5446.32626684364}, &quot;type&quot;: &quot;Feature&quot;}, {&quot;bbox&quot;: [-122.51589889065814, 45.50832975, -122.51589889065814, 45.50832975], &quot;geometry&quot;: {&quot;coordinates&quot;: [-122.51589889065814, 45.50832975], &quot;type&quot;: &quot;Point&quot;}, &quot;id&quot;: &quot;705&quot;, &quot;properties&quot;: {&quot;__folium_color&quot;: &quot;#482374&quot;, &quot;distance&quot;: 2845.020884801865}, &quot;type&quot;: &quot;Feature&quot;}, {&quot;bbox&quot;: [-122.5163521399665, 45.46499724999999, -122.5163521399665, 45.46499724999999], &quot;geometry&quot;: {&quot;coordinates&quot;: [-122.5163521399665, 45.46499724999999], &quot;type&quot;: &quot;Point&quot;}, &quot;id&quot;: &quot;706&quot;, &quot;properties&quot;: {&quot;__folium_color&quot;: &quot;#33628d&quot;, &quot;distance&quot;: 8575.982889186374}, &quot;type&quot;: &quot;Feature&quot;}, {&quot;bbox&quot;: [-122.59695380200102, 45.55879830000001, -122.59695380200102, 45.55879830000001], &quot;geometry&quot;: {&quot;coordinates&quot;: [-122.59695380200102, 45.55879830000001], &quot;type&quot;: &quot;Point&quot;}, &quot;id&quot;: &quot;707&quot;, &quot;properties&quot;: {&quot;__folium_color&quot;: &quot;#26818e&quot;, &quot;distance&quot;: 11971.560213288887}, &quot;type&quot;: &quot;Feature&quot;}, {&quot;bbox&quot;: [-122.67985890000001, 45.5159845, -122.67985890000001, 45.5159845], &quot;geometry&quot;: {&quot;coordinates&quot;: [-122.67985890000001, 45.5159845], &quot;type&quot;: &quot;Point&quot;}, &quot;id&quot;: &quot;708&quot;, &quot;properties&quot;: {&quot;__folium_color&quot;: &quot;#46085c&quot;, &quot;distance&quot;: 816.77295698445}, &quot;type&quot;: &quot;Feature&quot;}, {&quot;bbox&quot;: [-122.67307947596659, 45.48249845, -122.67307947596659, 45.48249845], &quot;geometry&quot;: {&quot;coordinates&quot;: [-122.67307947596659, 45.48249845], &quot;type&quot;: &quot;Point&quot;}, &quot;id&quot;: &quot;709&quot;, &quot;properties&quot;: {&quot;__folium_color&quot;: &quot;#482878&quot;, &quot;distance&quot;: 3270.122805808267}, &quot;type&quot;: &quot;Feature&quot;}, {&quot;bbox&quot;: [-122.70076511486599, 45.52686680000001, -122.70076511486599, 45.52686680000001], &quot;geometry&quot;: {&quot;coordinates&quot;: [-122.70076511486599, 45.52686680000001], &quot;type&quot;: &quot;Point&quot;}, &quot;id&quot;: &quot;710&quot;, &quot;properties&quot;: {&quot;__folium_color&quot;: &quot;#3d4d8a&quot;, &quot;distance&quot;: 6547.529799845736}, &quot;type&quot;: &quot;Feature&quot;}, {&quot;bbox&quot;: [-122.61289679999996, 45.494016349999995, -122.61289679999996, 45.494016349999995], &quot;geometry&quot;: {&quot;coordinates&quot;: [-122.61289679999996, 45.494016349999995], &quot;type&quot;: &quot;Point&quot;}, &quot;id&quot;: &quot;711&quot;, &quot;properties&quot;: {&quot;__folium_color&quot;: &quot;#2e6d8e&quot;, &quot;distance&quot;: 9808.349663842764}, &quot;type&quot;: &quot;Feature&quot;}, {&quot;bbox&quot;: [-122.72592636253142, 45.514032650000004, -122.72592636253142, 45.514032650000004], &quot;geometry&quot;: {&quot;coordinates&quot;: [-122.72592636253142, 45.514032650000004], &quot;type&quot;: &quot;Point&quot;}, &quot;id&quot;: &quot;712&quot;, &quot;properties&quot;: {&quot;__folium_color&quot;: &quot;#355e8d&quot;, &quot;distance&quot;: 8177.146014271127}, &quot;type&quot;: &quot;Feature&quot;}, {&quot;bbox&quot;: [-122.641401, 45.501743399999995, -122.641401, 45.501743399999995], &quot;geometry&quot;: {&quot;coordinates&quot;: [-122.641401, 45.501743399999995], &quot;type&quot;: &quot;Point&quot;}, &quot;id&quot;: &quot;713&quot;, &quot;properties&quot;: {&quot;__folium_color&quot;: &quot;#38598c&quot;, &quot;distance&quot;: 7641.726439136047}, &quot;type&quot;: &quot;Feature&quot;}, {&quot;bbox&quot;: [-122.70691129969255, 45.47134895, -122.70691129969255, 45.47134895], &quot;geometry&quot;: {&quot;coordinates&quot;: [-122.70691129969255, 45.47134895], &quot;type&quot;: &quot;Point&quot;}, &quot;id&quot;: &quot;714&quot;, &quot;properties&quot;: {&quot;__folium_color&quot;: &quot;#48186a&quot;, &quot;distance&quot;: 1962.7838876678761}, &quot;type&quot;: &quot;Feature&quot;}, {&quot;bbox&quot;: [-122.66437412509879, 45.55828499999999, -122.66437412509879, 45.55828499999999], &quot;geometry&quot;: {&quot;coordinates&quot;: [-122.66437412509879, 45.55828499999999], &quot;type&quot;: &quot;Point&quot;}, &quot;id&quot;: &quot;715&quot;, &quot;properties&quot;: {&quot;__folium_color&quot;: &quot;#460b5e&quot;, &quot;distance&quot;: 1037.4192760133922}, &quot;type&quot;: &quot;Feature&quot;}, {&quot;bbox&quot;: [-122.5971040501675, 45.46642719999999, -122.5971040501675, 45.46642719999999], &quot;geometry&quot;: {&quot;coordinates&quot;: [-122.5971040501675, 45.46642719999999], &quot;type&quot;: &quot;Point&quot;}, &quot;id&quot;: &quot;716&quot;, &quot;properties&quot;: {&quot;__folium_color&quot;: &quot;#20938c&quot;, &quot;distance&quot;: 14177.025232296735}, &quot;type&quot;: &quot;Feature&quot;}, {&quot;bbox&quot;: [-122.6771088877551, 45.542172540816324, -122.6771088877551, 45.542172540816324], &quot;geometry&quot;: {&quot;coordinates&quot;: [-122.6771088877551, 45.542172540816324], &quot;type&quot;: &quot;Point&quot;}, &quot;id&quot;: &quot;717&quot;, &quot;properties&quot;: {&quot;__folium_color&quot;: &quot;#482173&quot;, &quot;distance&quot;: 2682.875323276426}, &quot;type&quot;: &quot;Feature&quot;}, {&quot;bbox&quot;: [-122.6223440823816, 45.560063400000004, -122.6223440823816, 45.560063400000004], &quot;geometry&quot;: {&quot;coordinates&quot;: [-122.6223440823816, 45.560063400000004], &quot;type&quot;: &quot;Point&quot;}, &quot;id&quot;: &quot;718&quot;, &quot;properties&quot;: {&quot;__folium_color&quot;: &quot;#30698e&quot;, &quot;distance&quot;: 9409.657664331206}, &quot;type&quot;: &quot;Feature&quot;}, {&quot;bbox&quot;: [-122.54976573121183, 45.50719585, -122.54976573121183, 45.50719585], &quot;geometry&quot;: {&quot;coordinates&quot;: [-122.54976573121183, 45.50719585], &quot;type&quot;: &quot;Point&quot;}, &quot;id&quot;: &quot;719&quot;, &quot;properties&quot;: {&quot;__folium_color&quot;: &quot;#31688e&quot;, &quot;distance&quot;: 9304.048679407033}, &quot;type&quot;: &quot;Feature&quot;}, {&quot;bbox&quot;: [-122.67315995, 45.5500222, -122.67315995, 45.5500222], &quot;geometry&quot;: {&quot;coordinates&quot;: [-122.67315995, 45.5500222], &quot;type&quot;: &quot;Point&quot;}, &quot;id&quot;: &quot;720&quot;, &quot;properties&quot;: {&quot;__folium_color&quot;: &quot;#481d6f&quot;, &quot;distance&quot;: 2419.371193570639}, &quot;type&quot;: &quot;Feature&quot;}, {&quot;bbox&quot;: [-122.61774287487277, 45.477446400000005, -122.61774287487277, 45.477446400000005], &quot;geometry&quot;: {&quot;coordinates&quot;: [-122.61774287487277, 45.477446400000005], &quot;type&quot;: &quot;Point&quot;}, &quot;id&quot;: &quot;721&quot;, &quot;properties&quot;: {&quot;__folium_color&quot;: &quot;#46337f&quot;, &quot;distance&quot;: 4196.480258783991}, &quot;type&quot;: &quot;Feature&quot;}, {&quot;bbox&quot;: [-122.6773551, 45.56536930000001, -122.6773551, 45.56536930000001], &quot;geometry&quot;: {&quot;coordinates&quot;: [-122.6773551, 45.56536930000001], &quot;type&quot;: &quot;Point&quot;}, &quot;id&quot;: &quot;722&quot;, &quot;properties&quot;: {&quot;__folium_color&quot;: &quot;#482475&quot;, &quot;distance&quot;: 2952.7196676733097}, &quot;type&quot;: &quot;Feature&quot;}, {&quot;bbox&quot;: [-122.7161962, 45.6157785, -122.7161962, 45.6157785], &quot;geometry&quot;: {&quot;coordinates&quot;: [-122.7161962, 45.6157785], &quot;type&quot;: &quot;Point&quot;}, &quot;id&quot;: &quot;723&quot;, &quot;properties&quot;: {&quot;__folium_color&quot;: &quot;#414487&quot;, &quot;distance&quot;: 5642.055015520639}, &quot;type&quot;: &quot;Feature&quot;}, {&quot;bbox&quot;: [-122.65597469017094, 45.59071738034187, -122.65597469017094, 45.59071738034187], &quot;geometry&quot;: {&quot;coordinates&quot;: [-122.65597469017094, 45.59071738034187], &quot;type&quot;: &quot;Point&quot;}, &quot;id&quot;: &quot;724&quot;, &quot;properties&quot;: {&quot;__folium_color&quot;: &quot;#2b748e&quot;, &quot;distance&quot;: 10584.596053813302}, &quot;type&quot;: &quot;Feature&quot;}, {&quot;bbox&quot;: [-122.56707884555408, 45.560845400000005, -122.56707884555408, 45.560845400000005], &quot;geometry&quot;: {&quot;coordinates&quot;: [-122.56707884555408, 45.560845400000005], &quot;type&quot;: &quot;Point&quot;}, &quot;id&quot;: &quot;725&quot;, &quot;properties&quot;: {&quot;__folium_color&quot;: &quot;#481b6d&quot;, &quot;distance&quot;: 2156.8955063610565}, &quot;type&quot;: &quot;Feature&quot;}, {&quot;bbox&quot;: [-122.6205769286068, 45.53067905, -122.6205769286068, 45.53067905], &quot;geometry&quot;: {&quot;coordinates&quot;: [-122.6205769286068, 45.53067905], &quot;type&quot;: &quot;Point&quot;}, &quot;id&quot;: &quot;726&quot;, &quot;properties&quot;: {&quot;__folium_color&quot;: &quot;#355f8d&quot;, &quot;distance&quot;: 8261.636678255507}, &quot;type&quot;: &quot;Feature&quot;}, {&quot;bbox&quot;: [-122.54139994633753, 45.352375800000004, -122.54139994633753, 45.352375800000004], &quot;geometry&quot;: {&quot;coordinates&quot;: [-122.54139994633753, 45.352375800000004], &quot;type&quot;: &quot;Point&quot;}, &quot;id&quot;: &quot;727&quot;, &quot;properties&quot;: {&quot;__folium_color&quot;: &quot;#86d549&quot;, &quot;distance&quot;: 22378.26299587264}, &quot;type&quot;: &quot;Feature&quot;}, {&quot;bbox&quot;: [-122.63950145015481, 45.560451, -122.63950145015481, 45.560451], &quot;geometry&quot;: {&quot;coordinates&quot;: [-122.63950145015481, 45.560451], &quot;type&quot;: &quot;Point&quot;}, &quot;id&quot;: &quot;728&quot;, &quot;properties&quot;: {&quot;__folium_color&quot;: &quot;#375a8c&quot;, &quot;distance&quot;: 7747.2562426242785}, &quot;type&quot;: &quot;Feature&quot;}, {&quot;bbox&quot;: [-122.67212115000001, 45.49890494999999, -122.67212115000001, 45.49890494999999], &quot;geometry&quot;: {&quot;coordinates&quot;: [-122.67212115000001, 45.49890494999999], &quot;type&quot;: &quot;Point&quot;}, &quot;id&quot;: &quot;729&quot;, &quot;properties&quot;: {&quot;__folium_color&quot;: &quot;#472c7a&quot;, &quot;distance&quot;: 3548.6013896822124}, &quot;type&quot;: &quot;Feature&quot;}, {&quot;bbox&quot;: [-122.56806320000001, 45.5402082, -122.56806320000001, 45.5402082], &quot;geometry&quot;: {&quot;coordinates&quot;: [-122.56806320000001, 45.5402082], &quot;type&quot;: &quot;Point&quot;}, &quot;id&quot;: &quot;730&quot;, &quot;properties&quot;: {&quot;__folium_color&quot;: &quot;#3f4788&quot;, &quot;distance&quot;: 5926.415914213906}, &quot;type&quot;: &quot;Feature&quot;}, {&quot;bbox&quot;: [-122.71293825928919, 45.515216450000004, -122.71293825928919, 45.515216450000004], &quot;geometry&quot;: {&quot;coordinates&quot;: [-122.71293825928919, 45.515216450000004], &quot;type&quot;: &quot;Point&quot;}, &quot;id&quot;: &quot;731&quot;, &quot;properties&quot;: {&quot;__folium_color&quot;: &quot;#33638d&quot;, &quot;distance&quot;: 8730.466933406047}, &quot;type&quot;: &quot;Feature&quot;}, {&quot;bbox&quot;: [-122.6181213253451, 45.42012729999999, -122.6181213253451, 45.42012729999999], &quot;geometry&quot;: {&quot;coordinates&quot;: [-122.6181213253451, 45.42012729999999], &quot;type&quot;: &quot;Point&quot;}, &quot;id&quot;: &quot;732&quot;, &quot;properties&quot;: {&quot;__folium_color&quot;: &quot;#5ac864&quot;, &quot;distance&quot;: 20393.36464053743}, &quot;type&quot;: &quot;Feature&quot;}, {&quot;bbox&quot;: [-122.53241343684765, 45.509710250000005, -122.53241343684765, 45.509710250000005], &quot;geometry&quot;: {&quot;coordinates&quot;: [-122.53241343684765, 45.509710250000005], &quot;type&quot;: &quot;Point&quot;}, &quot;id&quot;: &quot;733&quot;, &quot;properties&quot;: {&quot;__folium_color&quot;: &quot;#2d708e&quot;, &quot;distance&quot;: 10086.626843578264}, &quot;type&quot;: &quot;Feature&quot;}, {&quot;bbox&quot;: [-122.57027281832974, 45.55457164999999, -122.57027281832974, 45.55457164999999], &quot;geometry&quot;: {&quot;coordinates&quot;: [-122.57027281832974, 45.55457164999999], &quot;type&quot;: &quot;Point&quot;}, &quot;id&quot;: &quot;735&quot;, &quot;properties&quot;: {&quot;__folium_color&quot;: &quot;#2d718e&quot;, &quot;distance&quot;: 10258.510696219477}, &quot;type&quot;: &quot;Feature&quot;}, {&quot;bbox&quot;: [-122.74042538319014, 45.541780548939094, -122.74042538319014, 45.541780548939094], &quot;geometry&quot;: {&quot;coordinates&quot;: [-122.74042538319014, 45.541780548939094], &quot;type&quot;: &quot;Point&quot;}, &quot;id&quot;: &quot;736&quot;, &quot;properties&quot;: {&quot;__folium_color&quot;: &quot;#1e9b8a&quot;, &quot;distance&quot;: 14985.524663051323}, &quot;type&quot;: &quot;Feature&quot;}, {&quot;bbox&quot;: [-122.57749141187648, 45.5471714, -122.57749141187648, 45.5471714], &quot;geometry&quot;: {&quot;coordinates&quot;: [-122.57749141187648, 45.5471714], &quot;type&quot;: &quot;Point&quot;}, &quot;id&quot;: &quot;737&quot;, &quot;properties&quot;: {&quot;__folium_color&quot;: &quot;#2f6b8e&quot;, &quot;distance&quot;: 9624.231755557465}, &quot;type&quot;: &quot;Feature&quot;}, {&quot;bbox&quot;: [-122.57101321739381, 45.5613874, -122.57101321739381, 45.5613874], &quot;geometry&quot;: {&quot;coordinates&quot;: [-122.57101321739381, 45.5613874], &quot;type&quot;: &quot;Point&quot;}, &quot;id&quot;: &quot;738&quot;, &quot;properties&quot;: {&quot;__folium_color&quot;: &quot;#48186a&quot;, &quot;distance&quot;: 1927.2827148233077}, &quot;type&quot;: &quot;Feature&quot;}, {&quot;bbox&quot;: [-122.71715568094729, 45.60216806545584, -122.71715568094729, 45.60216806545584], &quot;geometry&quot;: {&quot;coordinates&quot;: [-122.71715568094729, 45.60216806545584], &quot;type&quot;: &quot;Point&quot;}, &quot;id&quot;: &quot;739&quot;, &quot;properties&quot;: {&quot;__folium_color&quot;: &quot;#29798e&quot;, &quot;distance&quot;: 11141.94186179566}, &quot;type&quot;: &quot;Feature&quot;}, {&quot;bbox&quot;: [-122.69575771095353, 45.47400035, -122.69575771095353, 45.47400035], &quot;geometry&quot;: {&quot;coordinates&quot;: [-122.69575771095353, 45.47400035], &quot;type&quot;: &quot;Point&quot;}, &quot;id&quot;: &quot;740&quot;, &quot;properties&quot;: {&quot;__folium_color&quot;: &quot;#460a5d&quot;, &quot;distance&quot;: 944.5827962022348}, &quot;type&quot;: &quot;Feature&quot;}, {&quot;bbox&quot;: [-122.75326173469385, 45.58360926530613, -122.75326173469385, 45.58360926530613], &quot;geometry&quot;: {&quot;coordinates&quot;: [-122.75326173469385, 45.58360926530613], &quot;type&quot;: &quot;Point&quot;}, &quot;id&quot;: &quot;741&quot;, &quot;properties&quot;: {&quot;__folium_color&quot;: &quot;#460b5e&quot;, &quot;distance&quot;: 1051.4562518599857}, &quot;type&quot;: &quot;Feature&quot;}, {&quot;bbox&quot;: [-122.6258033162422, 45.567010499999995, -122.6258033162422, 45.567010499999995], &quot;geometry&quot;: {&quot;coordinates&quot;: [-122.6258033162422, 45.567010499999995], &quot;type&quot;: &quot;Point&quot;}, &quot;id&quot;: &quot;742&quot;, &quot;properties&quot;: {&quot;__folium_color&quot;: &quot;#46307e&quot;, &quot;distance&quot;: 4007.7639931695653}, &quot;type&quot;: &quot;Feature&quot;}, {&quot;bbox&quot;: [-122.69221674985252, 45.56897015, -122.69221674985252, 45.56897015], &quot;geometry&quot;: {&quot;coordinates&quot;: [-122.69221674985252, 45.56897015], &quot;type&quot;: &quot;Point&quot;}, &quot;id&quot;: &quot;743&quot;, &quot;properties&quot;: {&quot;__folium_color&quot;: &quot;#423f85&quot;, &quot;distance&quot;: 5254.120327226629}, &quot;type&quot;: &quot;Feature&quot;}, {&quot;bbox&quot;: [-122.73664467503117, 45.58764375, -122.73664467503117, 45.58764375], &quot;geometry&quot;: {&quot;coordinates&quot;: [-122.73664467503117, 45.58764375], &quot;type&quot;: &quot;Point&quot;}, &quot;id&quot;: &quot;745&quot;, &quot;properties&quot;: {&quot;__folium_color&quot;: &quot;#414487&quot;, &quot;distance&quot;: 5638.937112801223}, &quot;type&quot;: &quot;Feature&quot;}, {&quot;bbox&quot;: [-122.68381353778624, 45.55368719999999, -122.68381353778624, 45.55368719999999], &quot;geometry&quot;: {&quot;coordinates&quot;: [-122.68381353778624, 45.55368719999999], &quot;type&quot;: &quot;Point&quot;}, &quot;id&quot;: &quot;746&quot;, &quot;properties&quot;: {&quot;__folium_color&quot;: &quot;#482374&quot;, &quot;distance&quot;: 2783.2320286360937}, &quot;type&quot;: &quot;Feature&quot;}, {&quot;bbox&quot;: [-122.64526267557467, 45.463346200000004, -122.64526267557467, 45.463346200000004], &quot;geometry&quot;: {&quot;coordinates&quot;: [-122.64526267557467, 45.463346200000004], &quot;type&quot;: &quot;Point&quot;}, &quot;id&quot;: &quot;747&quot;, &quot;properties&quot;: {&quot;__folium_color&quot;: &quot;#470d60&quot;, &quot;distance&quot;: 1075.4648087728538}, &quot;type&quot;: &quot;Feature&quot;}, {&quot;bbox&quot;: [-122.55907129122818, 45.44005095, -122.55907129122818, 45.44005095], &quot;geometry&quot;: {&quot;coordinates&quot;: [-122.55907129122818, 45.44005095], &quot;type&quot;: &quot;Point&quot;}, &quot;id&quot;: &quot;748&quot;, &quot;properties&quot;: {&quot;__folium_color&quot;: &quot;#34608d&quot;, &quot;distance&quot;: 8416.268018033163}, &quot;type&quot;: &quot;Feature&quot;}, {&quot;bbox&quot;: [-122.72083339996753, 45.58457485, -122.72083339996753, 45.58457485], &quot;geometry&quot;: {&quot;coordinates&quot;: [-122.72083339996753, 45.58457485], &quot;type&quot;: &quot;Point&quot;}, &quot;id&quot;: &quot;749&quot;, &quot;properties&quot;: {&quot;__folium_color&quot;: &quot;#472a7a&quot;, &quot;distance&quot;: 3474.3596155817363}, &quot;type&quot;: &quot;Feature&quot;}, {&quot;bbox&quot;: [-122.6241976074468, 45.56363375, -122.6241976074468, 45.56363375], &quot;geometry&quot;: {&quot;coordinates&quot;: [-122.6241976074468, 45.56363375], &quot;type&quot;: &quot;Point&quot;}, &quot;id&quot;: &quot;750&quot;, &quot;properties&quot;: {&quot;__folium_color&quot;: &quot;#414487&quot;, &quot;distance&quot;: 5648.393276122708}, &quot;type&quot;: &quot;Feature&quot;}, {&quot;bbox&quot;: [-122.62577918033006, 45.48382395, -122.62577918033006, 45.48382395], &quot;geometry&quot;: {&quot;coordinates&quot;: [-122.62577918033006, 45.48382395], &quot;type&quot;: &quot;Point&quot;}, &quot;id&quot;: &quot;751&quot;, &quot;properties&quot;: {&quot;__folium_color&quot;: &quot;#433d84&quot;, &quot;distance&quot;: 4972.591662174732}, &quot;type&quot;: &quot;Feature&quot;}, {&quot;bbox&quot;: [-122.62457079999997, 45.4716616, -122.62457079999997, 45.4716616], &quot;geometry&quot;: {&quot;coordinates&quot;: [-122.62457079999997, 45.4716616], &quot;type&quot;: &quot;Point&quot;}, &quot;id&quot;: &quot;752&quot;, &quot;properties&quot;: {&quot;__folium_color&quot;: &quot;#375b8d&quot;, &quot;distance&quot;: 7846.452665536548}, &quot;type&quot;: &quot;Feature&quot;}, {&quot;bbox&quot;: [-122.61895219616686, 45.46317505, -122.61895219616686, 45.46317505], &quot;geometry&quot;: {&quot;coordinates&quot;: [-122.61895219616686, 45.46317505], &quot;type&quot;: &quot;Point&quot;}, &quot;id&quot;: &quot;753&quot;, &quot;properties&quot;: {&quot;__folium_color&quot;: &quot;#277f8e&quot;, &quot;distance&quot;: 11827.245302805697}, &quot;type&quot;: &quot;Feature&quot;}, {&quot;bbox&quot;: [-122.63921733854093, 45.5856432, -122.63921733854093, 45.5856432], &quot;geometry&quot;: {&quot;coordinates&quot;: [-122.63921733854093, 45.5856432], &quot;type&quot;: &quot;Point&quot;}, &quot;id&quot;: &quot;754&quot;, &quot;properties&quot;: {&quot;__folium_color&quot;: &quot;#423f85&quot;, &quot;distance&quot;: 5278.6517003006775}, &quot;type&quot;: &quot;Feature&quot;}, {&quot;bbox&quot;: [-122.69948446231153, 45.54450766834171, -122.69948446231153, 45.54450766834171], &quot;geometry&quot;: {&quot;coordinates&quot;: [-122.69948446231153, 45.54450766834171], &quot;type&quot;: &quot;Point&quot;}, &quot;id&quot;: &quot;755&quot;, &quot;properties&quot;: {&quot;__folium_color&quot;: &quot;#2f6c8e&quot;, &quot;distance&quot;: 9731.316091991728}, &quot;type&quot;: &quot;Feature&quot;}, {&quot;bbox&quot;: [-122.59055419999999, 45.5895038, -122.59055419999999, 45.5895038], &quot;geometry&quot;: {&quot;coordinates&quot;: [-122.59055419999999, 45.5895038], &quot;type&quot;: &quot;Point&quot;}, &quot;id&quot;: &quot;756&quot;, &quot;properties&quot;: {&quot;__folium_color&quot;: &quot;#29798e&quot;, &quot;distance&quot;: 11181.206361039747}, &quot;type&quot;: &quot;Feature&quot;}, {&quot;bbox&quot;: [-122.63163269659762, 45.53756559999999, -122.63163269659762, 45.53756559999999], &quot;geometry&quot;: {&quot;coordinates&quot;: [-122.63163269659762, 45.53756559999999], &quot;type&quot;: &quot;Point&quot;}, &quot;id&quot;: &quot;757&quot;, &quot;properties&quot;: {&quot;__folium_color&quot;: &quot;#482475&quot;, &quot;distance&quot;: 2890.712564363196}, &quot;type&quot;: &quot;Feature&quot;}, {&quot;bbox&quot;: [-122.65461346085955, 45.429791849999994, -122.65461346085955, 45.429791849999994], &quot;geometry&quot;: {&quot;coordinates&quot;: [-122.65461346085955, 45.429791849999994], &quot;type&quot;: &quot;Point&quot;}, &quot;id&quot;: &quot;759&quot;, &quot;properties&quot;: {&quot;__folium_color&quot;: &quot;#31668e&quot;, &quot;distance&quot;: 9075.980108751113}, &quot;type&quot;: &quot;Feature&quot;}, {&quot;bbox&quot;: [-122.60610159999997, 45.477310349999996, -122.60610159999997, 45.477310349999996], &quot;geometry&quot;: {&quot;coordinates&quot;: [-122.60610159999997, 45.477310349999996], &quot;type&quot;: &quot;Point&quot;}, &quot;id&quot;: &quot;760&quot;, &quot;properties&quot;: {&quot;__folium_color&quot;: &quot;#2e6d8e&quot;, &quot;distance&quot;: 9791.455580605087}, &quot;type&quot;: &quot;Feature&quot;}, {&quot;bbox&quot;: [-122.70828959025009, 45.40158365, -122.70828959025009, 45.40158365], &quot;geometry&quot;: {&quot;coordinates&quot;: [-122.70828959025009, 45.40158365], &quot;type&quot;: &quot;Point&quot;}, &quot;id&quot;: &quot;761&quot;, &quot;properties&quot;: {&quot;__folium_color&quot;: &quot;#38588c&quot;, &quot;distance&quot;: 7606.375086332987}, &quot;type&quot;: &quot;Feature&quot;}, {&quot;bbox&quot;: [-122.68043761793992, 45.56566605000001, -122.68043761793992, 45.56566605000001], &quot;geometry&quot;: {&quot;coordinates&quot;: [-122.68043761793992, 45.56566605000001], &quot;type&quot;: &quot;Point&quot;}, &quot;id&quot;: &quot;762&quot;, &quot;properties&quot;: {&quot;__folium_color&quot;: &quot;#470d60&quot;, &quot;distance&quot;: 1114.3017334532665}, &quot;type&quot;: &quot;Feature&quot;}, {&quot;bbox&quot;: [-122.71393358970779, 45.5726422, -122.71393358970779, 45.5726422], &quot;geometry&quot;: {&quot;coordinates&quot;: [-122.71393358970779, 45.5726422], &quot;type&quot;: &quot;Point&quot;}, &quot;id&quot;: &quot;763&quot;, &quot;properties&quot;: {&quot;__folium_color&quot;: &quot;#31668e&quot;, &quot;distance&quot;: 9069.549109344918}, &quot;type&quot;: &quot;Feature&quot;}, {&quot;bbox&quot;: [-122.6647059252117, 45.54659455, -122.6647059252117, 45.54659455], &quot;geometry&quot;: {&quot;coordinates&quot;: [-122.6647059252117, 45.54659455], &quot;type&quot;: &quot;Point&quot;}, &quot;id&quot;: &quot;764&quot;, &quot;properties&quot;: {&quot;__folium_color&quot;: &quot;#46085c&quot;, &quot;distance&quot;: 792.9040088258987}, &quot;type&quot;: &quot;Feature&quot;}, {&quot;bbox&quot;: [-122.51713535315238, 45.54493204999999, -122.51713535315238, 45.54493204999999], &quot;geometry&quot;: {&quot;coordinates&quot;: [-122.51713535315238, 45.54493204999999], &quot;type&quot;: &quot;Point&quot;}, &quot;id&quot;: &quot;765&quot;, &quot;properties&quot;: {&quot;__folium_color&quot;: &quot;#433d84&quot;, &quot;distance&quot;: 5071.99412940873}, &quot;type&quot;: &quot;Feature&quot;}, {&quot;bbox&quot;: [-122.77316692940416, 45.5203763, -122.77316692940416, 45.5203763], &quot;geometry&quot;: {&quot;coordinates&quot;: [-122.77316692940416, 45.5203763], &quot;type&quot;: &quot;Point&quot;}, &quot;id&quot;: &quot;766&quot;, &quot;properties&quot;: {&quot;__folium_color&quot;: &quot;#21918c&quot;, &quot;distance&quot;: 13843.918303096438}, &quot;type&quot;: &quot;Feature&quot;}, {&quot;bbox&quot;: [-122.63726685000002, 45.51099745, -122.63726685000002, 45.51099745], &quot;geometry&quot;: {&quot;coordinates&quot;: [-122.63726685000002, 45.51099745], &quot;type&quot;: &quot;Point&quot;}, &quot;id&quot;: &quot;767&quot;, &quot;properties&quot;: {&quot;__folium_color&quot;: &quot;#414287&quot;, &quot;distance&quot;: 5541.6979917971785}, &quot;type&quot;: &quot;Feature&quot;}, {&quot;bbox&quot;: [-122.65441615, 45.5604709, -122.65441615, 45.5604709], &quot;geometry&quot;: {&quot;coordinates&quot;: [-122.65441615, 45.5604709], &quot;type&quot;: &quot;Point&quot;}, &quot;id&quot;: &quot;768&quot;, &quot;properties&quot;: {&quot;__folium_color&quot;: &quot;#3e4c8a&quot;, &quot;distance&quot;: 6383.959039987087}, &quot;type&quot;: &quot;Feature&quot;}, {&quot;bbox&quot;: [-122.7265844, 45.5724155, -122.7265844, 45.5724155], &quot;geometry&quot;: {&quot;coordinates&quot;: [-122.7265844, 45.5724155], &quot;type&quot;: &quot;Point&quot;}, &quot;id&quot;: &quot;769&quot;, &quot;properties&quot;: {&quot;__folium_color&quot;: &quot;#34608d&quot;, &quot;distance&quot;: 8362.151619288205}, &quot;type&quot;: &quot;Feature&quot;}, {&quot;bbox&quot;: [-122.5817867942508, 45.49367005, -122.5817867942508, 45.49367005], &quot;geometry&quot;: {&quot;coordinates&quot;: [-122.5817867942508, 45.49367005], &quot;type&quot;: &quot;Point&quot;}, &quot;id&quot;: &quot;771&quot;, &quot;properties&quot;: {&quot;__folium_color&quot;: &quot;#414487&quot;, &quot;distance&quot;: 5699.570504152683}, &quot;type&quot;: &quot;Feature&quot;}, {&quot;bbox&quot;: [-122.61165263986051, 45.535281499999996, -122.61165263986051, 45.535281499999996], &quot;geometry&quot;: {&quot;coordinates&quot;: [-122.61165263986051, 45.535281499999996], &quot;type&quot;: &quot;Point&quot;}, &quot;id&quot;: &quot;772&quot;, &quot;properties&quot;: {&quot;__folium_color&quot;: &quot;#470d60&quot;, &quot;distance&quot;: 1123.4865128020972}, &quot;type&quot;: &quot;Feature&quot;}, {&quot;bbox&quot;: [-122.52904653061225, 45.51916099999999, -122.52904653061225, 45.51916099999999], &quot;geometry&quot;: {&quot;coordinates&quot;: [-122.52904653061225, 45.51916099999999], &quot;type&quot;: &quot;Point&quot;}, &quot;id&quot;: &quot;773&quot;, &quot;properties&quot;: {&quot;__folium_color&quot;: &quot;#470d60&quot;, &quot;distance&quot;: 1117.9125809186048}, &quot;type&quot;: &quot;Feature&quot;}, {&quot;bbox&quot;: [-122.61787116808064, 45.530018299999995, -122.61787116808064, 45.530018299999995], &quot;geometry&quot;: {&quot;coordinates&quot;: [-122.61787116808064, 45.530018299999995], &quot;type&quot;: &quot;Point&quot;}, &quot;id&quot;: &quot;774&quot;, &quot;properties&quot;: {&quot;__folium_color&quot;: &quot;#31668e&quot;, &quot;distance&quot;: 9087.517006561375}, &quot;type&quot;: &quot;Feature&quot;}, {&quot;bbox&quot;: [-122.72839563355689, 45.5511502, -122.72839563355689, 45.5511502], &quot;geometry&quot;: {&quot;coordinates&quot;: [-122.72839563355689, 45.5511502], &quot;type&quot;: &quot;Point&quot;}, &quot;id&quot;: &quot;775&quot;, &quot;properties&quot;: {&quot;__folium_color&quot;: &quot;#3b518b&quot;, &quot;distance&quot;: 6965.9663181156875}, &quot;type&quot;: &quot;Feature&quot;}, {&quot;bbox&quot;: [-122.69224518902438, 45.50952883488446, -122.69224518902438, 45.50952883488446], &quot;geometry&quot;: {&quot;coordinates&quot;: [-122.69224518902438, 45.50952883488446], &quot;type&quot;: &quot;Point&quot;}, &quot;id&quot;: &quot;776&quot;, &quot;properties&quot;: {&quot;__folium_color&quot;: &quot;#481467&quot;, &quot;distance&quot;: 1691.8195604043126}, &quot;type&quot;: &quot;Feature&quot;}, {&quot;bbox&quot;: [-122.68864825294406, 45.52338895, -122.68864825294406, 45.52338895], &quot;geometry&quot;: {&quot;coordinates&quot;: [-122.68864825294406, 45.52338895], &quot;type&quot;: &quot;Point&quot;}, &quot;id&quot;: &quot;777&quot;, &quot;properties&quot;: {&quot;__folium_color&quot;: &quot;#306a8e&quot;, &quot;distance&quot;: 9448.975551029607}, &quot;type&quot;: &quot;Feature&quot;}, {&quot;bbox&quot;: [-122.65240180000002, 45.507217, -122.65240180000002, 45.507217], &quot;geometry&quot;: {&quot;coordinates&quot;: [-122.65240180000002, 45.507217], &quot;type&quot;: &quot;Point&quot;}, &quot;id&quot;: &quot;778&quot;, &quot;properties&quot;: {&quot;__folium_color&quot;: &quot;#3e4a89&quot;, &quot;distance&quot;: 6285.727724061598}, &quot;type&quot;: &quot;Feature&quot;}, {&quot;bbox&quot;: [-122.6771088877551, 45.542172540816324, -122.6771088877551, 45.542172540816324], &quot;geometry&quot;: {&quot;coordinates&quot;: [-122.6771088877551, 45.542172540816324], &quot;type&quot;: &quot;Point&quot;}, &quot;id&quot;: &quot;779&quot;, &quot;properties&quot;: {&quot;__folium_color&quot;: &quot;#482677&quot;, &quot;distance&quot;: 3073.9455102943816}, &quot;type&quot;: &quot;Feature&quot;}, {&quot;bbox&quot;: [-122.60338313275416, 45.50202805, -122.60338313275416, 45.50202805], &quot;geometry&quot;: {&quot;coordinates&quot;: [-122.60338313275416, 45.50202805], &quot;type&quot;: &quot;Point&quot;}, &quot;id&quot;: &quot;780&quot;, &quot;properties&quot;: {&quot;__folium_color&quot;: &quot;#482576&quot;, &quot;distance&quot;: 2985.386738651317}, &quot;type&quot;: &quot;Feature&quot;}, {&quot;bbox&quot;: [-122.50077311625911, 45.46281349999999, -122.50077311625911, 45.46281349999999], &quot;geometry&quot;: {&quot;coordinates&quot;: [-122.50077311625911, 45.46281349999999], &quot;type&quot;: &quot;Point&quot;}, &quot;id&quot;: &quot;781&quot;, &quot;properties&quot;: {&quot;__folium_color&quot;: &quot;#2d708e&quot;, &quot;distance&quot;: 10071.996196970664}, &quot;type&quot;: &quot;Feature&quot;}, {&quot;bbox&quot;: [-122.7040106275094, 45.540755000000004, -122.7040106275094, 45.540755000000004], &quot;geometry&quot;: {&quot;coordinates&quot;: [-122.7040106275094, 45.540755000000004], &quot;type&quot;: &quot;Point&quot;}, &quot;id&quot;: &quot;782&quot;, &quot;properties&quot;: {&quot;__folium_color&quot;: &quot;#453781&quot;, &quot;distance&quot;: 4507.548114535788}, &quot;type&quot;: &quot;Feature&quot;}, {&quot;bbox&quot;: [-122.7367014377499, 45.508041903426005, -122.7367014377499, 45.508041903426005], &quot;geometry&quot;: {&quot;coordinates&quot;: [-122.7367014377499, 45.508041903426005], &quot;type&quot;: &quot;Point&quot;}, &quot;id&quot;: &quot;783&quot;, &quot;properties&quot;: {&quot;__folium_color&quot;: &quot;#3f4788&quot;, &quot;distance&quot;: 6023.689811369712}, &quot;type&quot;: &quot;Feature&quot;}, {&quot;bbox&quot;: [-122.62526655033196, 45.55882935, -122.62526655033196, 45.55882935], &quot;geometry&quot;: {&quot;coordinates&quot;: [-122.62526655033196, 45.55882935], &quot;type&quot;: &quot;Point&quot;}, &quot;id&quot;: &quot;784&quot;, &quot;properties&quot;: {&quot;__folium_color&quot;: &quot;#482979&quot;, &quot;distance&quot;: 3283.4996081895156}, &quot;type&quot;: &quot;Feature&quot;}, {&quot;bbox&quot;: [-122.80592411484281, 45.46393915, -122.80592411484281, 45.46393915], &quot;geometry&quot;: {&quot;coordinates&quot;: [-122.80592411484281, 45.46393915], &quot;type&quot;: &quot;Point&quot;}, &quot;id&quot;: &quot;785&quot;, &quot;properties&quot;: {&quot;__folium_color&quot;: &quot;#54c568&quot;, &quot;distance&quot;: 20044.82248299724}, &quot;type&quot;: &quot;Feature&quot;}, {&quot;bbox&quot;: [-122.63081695000001, 45.502353799999995, -122.63081695000001, 45.502353799999995], &quot;geometry&quot;: {&quot;coordinates&quot;: [-122.63081695000001, 45.502353799999995], &quot;type&quot;: &quot;Point&quot;}, &quot;id&quot;: &quot;786&quot;, &quot;properties&quot;: {&quot;__folium_color&quot;: &quot;#463480&quot;, &quot;distance&quot;: 4252.65005264875}, &quot;type&quot;: &quot;Feature&quot;}, {&quot;bbox&quot;: [-122.59493405364431, 45.4753282, -122.59493405364431, 45.4753282], &quot;geometry&quot;: {&quot;coordinates&quot;: [-122.59493405364431, 45.4753282], &quot;type&quot;: &quot;Point&quot;}, &quot;id&quot;: &quot;787&quot;, &quot;properties&quot;: {&quot;__folium_color&quot;: &quot;#48186a&quot;, &quot;distance&quot;: 1998.7650093065322}, &quot;type&quot;: &quot;Feature&quot;}, {&quot;bbox&quot;: [-122.68764229999998, 45.5254132, -122.68764229999998, 45.5254132], &quot;geometry&quot;: {&quot;coordinates&quot;: [-122.68764229999998, 45.5254132], &quot;type&quot;: &quot;Point&quot;}, &quot;id&quot;: &quot;788&quot;, &quot;properties&quot;: {&quot;__folium_color&quot;: &quot;#460b5e&quot;, &quot;distance&quot;: 1022.5585015919936}, &quot;type&quot;: &quot;Feature&quot;}, {&quot;bbox&quot;: [-122.60829532499997, 45.5011193, -122.60829532499997, 45.5011193], &quot;geometry&quot;: {&quot;coordinates&quot;: [-122.60829532499997, 45.5011193], &quot;type&quot;: &quot;Point&quot;}, &quot;id&quot;: &quot;789&quot;, &quot;properties&quot;: {&quot;__folium_color&quot;: &quot;#33628d&quot;, &quot;distance&quot;: 8571.97527487616}, &quot;type&quot;: &quot;Feature&quot;}, {&quot;bbox&quot;: [-122.65590485709073, 45.563133799999996, -122.65590485709073, 45.563133799999996], &quot;geometry&quot;: {&quot;coordinates&quot;: [-122.65590485709073, 45.563133799999996], &quot;type&quot;: &quot;Point&quot;}, &quot;id&quot;: &quot;791&quot;, &quot;properties&quot;: {&quot;__folium_color&quot;: &quot;#375a8c&quot;, &quot;distance&quot;: 7739.034466478357}, &quot;type&quot;: &quot;Feature&quot;}, {&quot;bbox&quot;: [-122.70255114518872, 45.58982439999999, -122.70255114518872, 45.58982439999999], &quot;geometry&quot;: {&quot;coordinates&quot;: [-122.70255114518872, 45.58982439999999], &quot;type&quot;: &quot;Point&quot;}, &quot;id&quot;: &quot;792&quot;, &quot;properties&quot;: {&quot;__folium_color&quot;: &quot;#481a6c&quot;, &quot;distance&quot;: 2110.283060461025}, &quot;type&quot;: &quot;Feature&quot;}, {&quot;bbox&quot;: [-122.7161962, 45.6157785, -122.7161962, 45.6157785], &quot;geometry&quot;: {&quot;coordinates&quot;: [-122.7161962, 45.6157785], &quot;type&quot;: &quot;Point&quot;}, &quot;id&quot;: &quot;793&quot;, &quot;properties&quot;: {&quot;__folium_color&quot;: &quot;#23898e&quot;, &quot;distance&quot;: 12933.244946428937}, &quot;type&quot;: &quot;Feature&quot;}, {&quot;bbox&quot;: [-122.64104509142335, 45.5721577, -122.64104509142335, 45.5721577], &quot;geometry&quot;: {&quot;coordinates&quot;: [-122.64104509142335, 45.5721577], &quot;type&quot;: &quot;Point&quot;}, &quot;id&quot;: &quot;794&quot;, &quot;properties&quot;: {&quot;__folium_color&quot;: &quot;#33638d&quot;, &quot;distance&quot;: 8723.274271562595}, &quot;type&quot;: &quot;Feature&quot;}, {&quot;bbox&quot;: [-122.67502911592136, 45.50254375, -122.67502911592136, 45.50254375], &quot;geometry&quot;: {&quot;coordinates&quot;: [-122.67502911592136, 45.50254375], &quot;type&quot;: &quot;Point&quot;}, &quot;id&quot;: &quot;795&quot;, &quot;properties&quot;: {&quot;__folium_color&quot;: &quot;#482475&quot;, &quot;distance&quot;: 2888.285945146964}, &quot;type&quot;: &quot;Feature&quot;}, {&quot;bbox&quot;: [-122.70726914046855, 45.488328599999996, -122.70726914046855, 45.488328599999996], &quot;geometry&quot;: {&quot;coordinates&quot;: [-122.70726914046855, 45.488328599999996], &quot;type&quot;: &quot;Point&quot;}, &quot;id&quot;: &quot;796&quot;, &quot;properties&quot;: {&quot;__folium_color&quot;: &quot;#3c4f8a&quot;, &quot;distance&quot;: 6713.22500478797}, &quot;type&quot;: &quot;Feature&quot;}, {&quot;bbox&quot;: [-122.62287499982487, 45.4862925, -122.62287499982487, 45.4862925], &quot;geometry&quot;: {&quot;coordinates&quot;: [-122.62287499982487, 45.4862925], &quot;type&quot;: &quot;Point&quot;}, &quot;id&quot;: &quot;797&quot;, &quot;properties&quot;: {&quot;__folium_color&quot;: &quot;#453882&quot;, &quot;distance&quot;: 4583.446335466373}, &quot;type&quot;: &quot;Feature&quot;}, {&quot;bbox&quot;: [-122.61225200000001, 45.5233333, -122.61225200000001, 45.5233333], &quot;geometry&quot;: {&quot;coordinates&quot;: [-122.61225200000001, 45.5233333], &quot;type&quot;: &quot;Point&quot;}, &quot;id&quot;: &quot;798&quot;, &quot;properties&quot;: {&quot;__folium_color&quot;: &quot;#414487&quot;, &quot;distance&quot;: 5666.105914560297}, &quot;type&quot;: &quot;Feature&quot;}, {&quot;bbox&quot;: [-122.83171332302011, 45.58174215139179, -122.83171332302011, 45.58174215139179], &quot;geometry&quot;: {&quot;coordinates&quot;: [-122.83171332302011, 45.58174215139179], &quot;type&quot;: &quot;Point&quot;}, &quot;id&quot;: &quot;799&quot;, &quot;properties&quot;: {&quot;__folium_color&quot;: &quot;#31668e&quot;, &quot;distance&quot;: 9075.49476851261}, &quot;type&quot;: &quot;Feature&quot;}, {&quot;bbox&quot;: [-122.58247488033128, 45.57361764821072, -122.58247488033128, 45.57361764821072], &quot;geometry&quot;: {&quot;coordinates&quot;: [-122.58247488033128, 45.57361764821072], &quot;type&quot;: &quot;Point&quot;}, &quot;id&quot;: &quot;800&quot;, &quot;properties&quot;: {&quot;__folium_color&quot;: &quot;#2c718e&quot;, &quot;distance&quot;: 10283.879746854858}, &quot;type&quot;: &quot;Feature&quot;}, {&quot;bbox&quot;: [-122.70496990000001, 45.49173705, -122.70496990000001, 45.49173705], &quot;geometry&quot;: {&quot;coordinates&quot;: [-122.70496990000001, 45.49173705], &quot;type&quot;: &quot;Point&quot;}, &quot;id&quot;: &quot;801&quot;, &quot;properties&quot;: {&quot;__folium_color&quot;: &quot;#481c6e&quot;, &quot;distance&quot;: 2244.9997758793197}, &quot;type&quot;: &quot;Feature&quot;}, {&quot;bbox&quot;: [-122.74658690068699, 45.58329065448138, -122.74658690068699, 45.58329065448138], &quot;geometry&quot;: {&quot;coordinates&quot;: [-122.74658690068699, 45.58329065448138], &quot;type&quot;: &quot;Point&quot;}, &quot;id&quot;: &quot;802&quot;, &quot;properties&quot;: {&quot;__folium_color&quot;: &quot;#26828e&quot;, &quot;distance&quot;: 12246.8824212329}, &quot;type&quot;: &quot;Feature&quot;}, {&quot;bbox&quot;: [-122.59055419999999, 45.5895038, -122.59055419999999, 45.5895038], &quot;geometry&quot;: {&quot;coordinates&quot;: [-122.59055419999999, 45.5895038], &quot;type&quot;: &quot;Point&quot;}, &quot;id&quot;: &quot;803&quot;, &quot;properties&quot;: {&quot;__folium_color&quot;: &quot;#2e6f8e&quot;, &quot;distance&quot;: 9988.514078602602}, &quot;type&quot;: &quot;Feature&quot;}, {&quot;bbox&quot;: [-122.74370325729049, 45.49920495, -122.74370325729049, 45.49920495], &quot;geometry&quot;: {&quot;coordinates&quot;: [-122.74370325729049, 45.49920495], &quot;type&quot;: &quot;Point&quot;}, &quot;id&quot;: &quot;804&quot;, &quot;properties&quot;: {&quot;__folium_color&quot;: &quot;#34608d&quot;, &quot;distance&quot;: 8378.270567431076}, &quot;type&quot;: &quot;Feature&quot;}, {&quot;bbox&quot;: [-122.63182950105337, 45.570176, -122.63182950105337, 45.570176], &quot;geometry&quot;: {&quot;coordinates&quot;: [-122.63182950105337, 45.570176], &quot;type&quot;: &quot;Point&quot;}, &quot;id&quot;: &quot;805&quot;, &quot;properties&quot;: {&quot;__folium_color&quot;: &quot;#404688&quot;, &quot;distance&quot;: 5894.488510632589}, &quot;type&quot;: &quot;Feature&quot;}, {&quot;bbox&quot;: [-122.7311405, 45.592337099999995, -122.7311405, 45.592337099999995], &quot;geometry&quot;: {&quot;coordinates&quot;: [-122.7311405, 45.592337099999995], &quot;type&quot;: &quot;Point&quot;}, &quot;id&quot;: &quot;806&quot;, &quot;properties&quot;: {&quot;__folium_color&quot;: &quot;#481c6e&quot;, &quot;distance&quot;: 2246.64138174515}, &quot;type&quot;: &quot;Feature&quot;}, {&quot;bbox&quot;: [-122.68193826530613, 45.581142244897954, -122.68193826530613, 45.581142244897954], &quot;geometry&quot;: {&quot;coordinates&quot;: [-122.68193826530613, 45.581142244897954], &quot;type&quot;: &quot;Point&quot;}, &quot;id&quot;: &quot;807&quot;, &quot;properties&quot;: {&quot;__folium_color&quot;: &quot;#3d4d8a&quot;, &quot;distance&quot;: 6535.356358522387}, &quot;type&quot;: &quot;Feature&quot;}, {&quot;bbox&quot;: [-122.54996216355573, 45.49980409999999, -122.54996216355573, 45.49980409999999], &quot;geometry&quot;: {&quot;coordinates&quot;: [-122.54996216355573, 45.49980409999999], &quot;type&quot;: &quot;Point&quot;}, &quot;id&quot;: &quot;808&quot;, &quot;properties&quot;: {&quot;__folium_color&quot;: &quot;#482576&quot;, &quot;distance&quot;: 2977.4004227551322}, &quot;type&quot;: &quot;Feature&quot;}, {&quot;bbox&quot;: [-122.65608804985698, 45.544119849999994, -122.65608804985698, 45.544119849999994], &quot;geometry&quot;: {&quot;coordinates&quot;: [-122.65608804985698, 45.544119849999994], &quot;type&quot;: &quot;Point&quot;}, &quot;id&quot;: &quot;809&quot;, &quot;properties&quot;: {&quot;__folium_color&quot;: &quot;#460a5d&quot;, &quot;distance&quot;: 950.3961813970965}, &quot;type&quot;: &quot;Feature&quot;}, {&quot;bbox&quot;: [-122.83977450007087, 45.58255955, -122.83977450007087, 45.58255955], &quot;geometry&quot;: {&quot;coordinates&quot;: [-122.83977450007087, 45.58255955], &quot;type&quot;: &quot;Point&quot;}, &quot;id&quot;: &quot;810&quot;, &quot;properties&quot;: {&quot;__folium_color&quot;: &quot;#2e6f8e&quot;, &quot;distance&quot;: 9947.804052113917}, &quot;type&quot;: &quot;Feature&quot;}, {&quot;bbox&quot;: [-122.79281155176054, 45.47747219999999, -122.79281155176054, 45.47747219999999], &quot;geometry&quot;: {&quot;coordinates&quot;: [-122.79281155176054, 45.47747219999999], &quot;type&quot;: &quot;Point&quot;}, &quot;id&quot;: &quot;812&quot;, &quot;properties&quot;: {&quot;__folium_color&quot;: &quot;#5cc863&quot;, &quot;distance&quot;: 20501.970437658547}, &quot;type&quot;: &quot;Feature&quot;}, {&quot;bbox&quot;: [-122.6607607979798, 45.53117183838384, -122.6607607979798, 45.53117183838384], &quot;geometry&quot;: {&quot;coordinates&quot;: [-122.6607607979798, 45.53117183838384], &quot;type&quot;: &quot;Point&quot;}, &quot;id&quot;: &quot;813&quot;, &quot;properties&quot;: {&quot;__folium_color&quot;: &quot;#2d708e&quot;, &quot;distance&quot;: 10130.816856202908}, &quot;type&quot;: &quot;Feature&quot;}, {&quot;bbox&quot;: [-122.6604069749246, 45.520540700000005, -122.6604069749246, 45.520540700000005], &quot;geometry&quot;: {&quot;coordinates&quot;: [-122.6604069749246, 45.520540700000005], &quot;type&quot;: &quot;Point&quot;}, &quot;id&quot;: &quot;814&quot;, &quot;properties&quot;: {&quot;__folium_color&quot;: &quot;#482374&quot;, &quot;distance&quot;: 2821.6659025815584}, &quot;type&quot;: &quot;Feature&quot;}, {&quot;bbox&quot;: [-122.67283540635593, 45.48661679999999, -122.67283540635593, 45.48661679999999], &quot;geometry&quot;: {&quot;coordinates&quot;: [-122.67283540635593, 45.48661679999999], &quot;type&quot;: &quot;Point&quot;}, &quot;id&quot;: &quot;815&quot;, &quot;properties&quot;: {&quot;__folium_color&quot;: &quot;#34618d&quot;, &quot;distance&quot;: 8477.596083805614}, &quot;type&quot;: &quot;Feature&quot;}, {&quot;bbox&quot;: [-122.67235399999997, 45.52610700000001, -122.67235399999997, 45.52610700000001], &quot;geometry&quot;: {&quot;coordinates&quot;: [-122.67235399999997, 45.52610700000001], &quot;type&quot;: &quot;Point&quot;}, &quot;id&quot;: &quot;816&quot;, &quot;properties&quot;: {&quot;__folium_color&quot;: &quot;#404588&quot;, &quot;distance&quot;: 5792.165717768693}, &quot;type&quot;: &quot;Feature&quot;}, {&quot;bbox&quot;: [-122.67081117650046, 45.5624447, -122.67081117650046, 45.5624447], &quot;geometry&quot;: {&quot;coordinates&quot;: [-122.67081117650046, 45.5624447], &quot;type&quot;: &quot;Point&quot;}, &quot;id&quot;: &quot;817&quot;, &quot;properties&quot;: {&quot;__folium_color&quot;: &quot;#3b528b&quot;, &quot;distance&quot;: 7080.336755789437}, &quot;type&quot;: &quot;Feature&quot;}, {&quot;bbox&quot;: [-122.54154671507492, 45.43581449999999, -122.54154671507492, 45.43581449999999], &quot;geometry&quot;: {&quot;coordinates&quot;: [-122.54154671507492, 45.43581449999999], &quot;type&quot;: &quot;Point&quot;}, &quot;id&quot;: &quot;818&quot;, &quot;properties&quot;: {&quot;__folium_color&quot;: &quot;#2c728e&quot;, &quot;distance&quot;: 10424.917352904899}, &quot;type&quot;: &quot;Feature&quot;}, {&quot;bbox&quot;: [-122.68617209622718, 45.59593049999999, -122.68617209622718, 45.59593049999999], &quot;geometry&quot;: {&quot;coordinates&quot;: [-122.68617209622718, 45.59593049999999], &quot;type&quot;: &quot;Point&quot;}, &quot;id&quot;: &quot;819&quot;, &quot;properties&quot;: {&quot;__folium_color&quot;: &quot;#481a6c&quot;, &quot;distance&quot;: 2087.7978694353756}, &quot;type&quot;: &quot;Feature&quot;}, {&quot;bbox&quot;: [-122.66330986010362, 45.50595651813471, -122.66330986010362, 45.50595651813471], &quot;geometry&quot;: {&quot;coordinates&quot;: [-122.66330986010362, 45.50595651813471], &quot;type&quot;: &quot;Point&quot;}, &quot;id&quot;: &quot;820&quot;, &quot;properties&quot;: {&quot;__folium_color&quot;: &quot;#3b528b&quot;, &quot;distance&quot;: 7015.584996595796}, &quot;type&quot;: &quot;Feature&quot;}, {&quot;bbox&quot;: [-122.63519698825019, 45.563346800000005, -122.63519698825019, 45.563346800000005], &quot;geometry&quot;: {&quot;coordinates&quot;: [-122.63519698825019, 45.563346800000005], &quot;type&quot;: &quot;Point&quot;}, &quot;id&quot;: &quot;821&quot;, &quot;properties&quot;: {&quot;__folium_color&quot;: &quot;#46327e&quot;, &quot;distance&quot;: 4047.869963939789}, &quot;type&quot;: &quot;Feature&quot;}, {&quot;bbox&quot;: [-122.72985493441624, 45.5861171, -122.72985493441624, 45.5861171], &quot;geometry&quot;: {&quot;coordinates&quot;: [-122.72985493441624, 45.5861171], &quot;type&quot;: &quot;Point&quot;}, &quot;id&quot;: &quot;822&quot;, &quot;properties&quot;: {&quot;__folium_color&quot;: &quot;#481f70&quot;, &quot;distance&quot;: 2440.686448262068}, &quot;type&quot;: &quot;Feature&quot;}, {&quot;bbox&quot;: [-122.68723930069226, 45.49172184462457, -122.68723930069226, 45.49172184462457], &quot;geometry&quot;: {&quot;coordinates&quot;: [-122.68723930069226, 45.49172184462457], &quot;type&quot;: &quot;Point&quot;}, &quot;id&quot;: &quot;823&quot;, &quot;properties&quot;: {&quot;__folium_color&quot;: &quot;#277e8e&quot;, &quot;distance&quot;: 11699.936301749673}, &quot;type&quot;: &quot;Feature&quot;}, {&quot;bbox&quot;: [-122.68851836451739, 45.57581715000001, -122.68851836451739, 45.57581715000001], &quot;geometry&quot;: {&quot;coordinates&quot;: [-122.68851836451739, 45.57581715000001], &quot;type&quot;: &quot;Point&quot;}, &quot;id&quot;: &quot;824&quot;, &quot;properties&quot;: {&quot;__folium_color&quot;: &quot;#470d60&quot;, &quot;distance&quot;: 1135.0726927613186}, &quot;type&quot;: &quot;Feature&quot;}, {&quot;bbox&quot;: [-122.6111757, 45.4984799, -122.6111757, 45.4984799], &quot;geometry&quot;: {&quot;coordinates&quot;: [-122.6111757, 45.4984799], &quot;type&quot;: &quot;Point&quot;}, &quot;id&quot;: &quot;825&quot;, &quot;properties&quot;: {&quot;__folium_color&quot;: &quot;#482475&quot;, &quot;distance&quot;: 2957.832901163121}, &quot;type&quot;: &quot;Feature&quot;}, {&quot;bbox&quot;: [-122.69940965008274, 45.464883549999996, -122.69940965008274, 45.464883549999996], &quot;geometry&quot;: {&quot;coordinates&quot;: [-122.69940965008274, 45.464883549999996], &quot;type&quot;: &quot;Point&quot;}, &quot;id&quot;: &quot;826&quot;, &quot;properties&quot;: {&quot;__folium_color&quot;: &quot;#46307e&quot;, &quot;distance&quot;: 3947.0125468787533}, &quot;type&quot;: &quot;Feature&quot;}, {&quot;bbox&quot;: [-122.60507003548041, 45.56402369999999, -122.60507003548041, 45.56402369999999], &quot;geometry&quot;: {&quot;coordinates&quot;: [-122.60507003548041, 45.56402369999999], &quot;type&quot;: &quot;Point&quot;}, &quot;id&quot;: &quot;827&quot;, &quot;properties&quot;: {&quot;__folium_color&quot;: &quot;#365c8d&quot;, &quot;distance&quot;: 7993.087746652313}, &quot;type&quot;: &quot;Feature&quot;}, {&quot;bbox&quot;: [-122.7995866, 45.4747686, -122.7995866, 45.4747686], &quot;geometry&quot;: {&quot;coordinates&quot;: [-122.7995866, 45.4747686], &quot;type&quot;: &quot;Point&quot;}, &quot;id&quot;: &quot;828&quot;, &quot;properties&quot;: {&quot;__folium_color&quot;: &quot;#38b977&quot;, &quot;distance&quot;: 18458.123899456885}, &quot;type&quot;: &quot;Feature&quot;}, {&quot;bbox&quot;: [-122.6990406184146, 45.602099900000006, -122.6990406184146, 45.602099900000006], &quot;geometry&quot;: {&quot;coordinates&quot;: [-122.6990406184146, 45.602099900000006], &quot;type&quot;: &quot;Point&quot;}, &quot;id&quot;: &quot;829&quot;, &quot;properties&quot;: {&quot;__folium_color&quot;: &quot;#7cd250&quot;, &quot;distance&quot;: 21982.338326254165}, &quot;type&quot;: &quot;Feature&quot;}, {&quot;bbox&quot;: [-122.59055419999999, 45.5895038, -122.59055419999999, 45.5895038], &quot;geometry&quot;: {&quot;coordinates&quot;: [-122.59055419999999, 45.5895038], &quot;type&quot;: &quot;Point&quot;}, &quot;id&quot;: &quot;831&quot;, &quot;properties&quot;: {&quot;__folium_color&quot;: &quot;#297a8e&quot;, &quot;distance&quot;: 11304.460463141102}, &quot;type&quot;: &quot;Feature&quot;}, {&quot;bbox&quot;: [-122.56027874087364, 45.48139765000001, -122.56027874087364, 45.48139765000001], &quot;geometry&quot;: {&quot;coordinates&quot;: [-122.56027874087364, 45.48139765000001], &quot;type&quot;: &quot;Point&quot;}, &quot;id&quot;: &quot;832&quot;, &quot;properties&quot;: {&quot;__folium_color&quot;: &quot;#3f4889&quot;, &quot;distance&quot;: 6114.064089155614}, &quot;type&quot;: &quot;Feature&quot;}, {&quot;bbox&quot;: [-122.62035109754056, 45.5145008, -122.62035109754056, 45.5145008], &quot;geometry&quot;: {&quot;coordinates&quot;: [-122.62035109754056, 45.5145008], &quot;type&quot;: &quot;Point&quot;}, &quot;id&quot;: &quot;833&quot;, &quot;properties&quot;: {&quot;__folium_color&quot;: &quot;#39558c&quot;, &quot;distance&quot;: 7309.01092675481}, &quot;type&quot;: &quot;Feature&quot;}, {&quot;bbox&quot;: [-122.62772394949494, 45.5691627070707, -122.62772394949494, 45.5691627070707], &quot;geometry&quot;: {&quot;coordinates&quot;: [-122.62772394949494, 45.5691627070707], &quot;type&quot;: &quot;Point&quot;}, &quot;id&quot;: &quot;834&quot;, &quot;properties&quot;: {&quot;__folium_color&quot;: &quot;#46327e&quot;, &quot;distance&quot;: 4114.539213990646}, &quot;type&quot;: &quot;Feature&quot;}, {&quot;bbox&quot;: [-122.61502141491233, 45.61447403363247, -122.61502141491233, 45.61447403363247], &quot;geometry&quot;: {&quot;coordinates&quot;: [-122.61502141491233, 45.61447403363247], &quot;type&quot;: &quot;Point&quot;}, &quot;id&quot;: &quot;835&quot;, &quot;properties&quot;: {&quot;__folium_color&quot;: &quot;#30698e&quot;, &quot;distance&quot;: 9414.383857613448}, &quot;type&quot;: &quot;Feature&quot;}, {&quot;bbox&quot;: [-122.68617209622718, 45.59593049999999, -122.68617209622718, 45.59593049999999], &quot;geometry&quot;: {&quot;coordinates&quot;: [-122.68617209622718, 45.59593049999999], &quot;type&quot;: &quot;Point&quot;}, &quot;id&quot;: &quot;836&quot;, &quot;properties&quot;: {&quot;__folium_color&quot;: &quot;#481a6c&quot;, &quot;distance&quot;: 2087.7978694353756}, &quot;type&quot;: &quot;Feature&quot;}, {&quot;bbox&quot;: [-122.70069056073918, 45.588231449999995, -122.70069056073918, 45.588231449999995], &quot;geometry&quot;: {&quot;coordinates&quot;: [-122.70069056073918, 45.588231449999995], &quot;type&quot;: &quot;Point&quot;}, &quot;id&quot;: &quot;837&quot;, &quot;properties&quot;: {&quot;__folium_color&quot;: &quot;#34618d&quot;, &quot;distance&quot;: 8549.123786862898}, &quot;type&quot;: &quot;Feature&quot;}, {&quot;bbox&quot;: [-122.69497891638342, 45.467467400000004, -122.69497891638342, 45.467467400000004], &quot;geometry&quot;: {&quot;coordinates&quot;: [-122.69497891638342, 45.467467400000004], &quot;type&quot;: &quot;Point&quot;}, &quot;id&quot;: &quot;838&quot;, &quot;properties&quot;: {&quot;__folium_color&quot;: &quot;#48186a&quot;, &quot;distance&quot;: 1965.6281693420226}, &quot;type&quot;: &quot;Feature&quot;}, {&quot;bbox&quot;: [-122.57310003030302, 45.49636769696969, -122.57310003030302, 45.49636769696969], &quot;geometry&quot;: {&quot;coordinates&quot;: [-122.57310003030302, 45.49636769696969], &quot;type&quot;: &quot;Point&quot;}, &quot;id&quot;: &quot;839&quot;, &quot;properties&quot;: {&quot;__folium_color&quot;: &quot;#34608d&quot;, &quot;distance&quot;: 8461.949345202562}, &quot;type&quot;: &quot;Feature&quot;}, {&quot;bbox&quot;: [-122.6051822114265, 45.56265826626882, -122.6051822114265, 45.56265826626882], &quot;geometry&quot;: {&quot;coordinates&quot;: [-122.6051822114265, 45.56265826626882], &quot;type&quot;: &quot;Point&quot;}, &quot;id&quot;: &quot;840&quot;, &quot;properties&quot;: {&quot;__folium_color&quot;: &quot;#453581&quot;, &quot;distance&quot;: 4359.094120717814}, &quot;type&quot;: &quot;Feature&quot;}, {&quot;bbox&quot;: [-122.62995354985325, 45.544137750000004, -122.62995354985325, 45.544137750000004], &quot;geometry&quot;: {&quot;coordinates&quot;: [-122.62995354985325, 45.544137750000004], &quot;type&quot;: &quot;Point&quot;}, &quot;id&quot;: &quot;841&quot;, &quot;properties&quot;: {&quot;__folium_color&quot;: &quot;#46307e&quot;, &quot;distance&quot;: 3993.9681301675596}, &quot;type&quot;: &quot;Feature&quot;}, {&quot;bbox&quot;: [-122.52972234775598, 45.51789065, -122.52972234775598, 45.51789065], &quot;geometry&quot;: {&quot;coordinates&quot;: [-122.52972234775598, 45.51789065], &quot;type&quot;: &quot;Point&quot;}, &quot;id&quot;: &quot;842&quot;, &quot;properties&quot;: {&quot;__folium_color&quot;: &quot;#460b5e&quot;, &quot;distance&quot;: 991.1464879300842}, &quot;type&quot;: &quot;Feature&quot;}, {&quot;bbox&quot;: [-122.65729079473556, 45.50352289999999, -122.65729079473556, 45.50352289999999], &quot;geometry&quot;: {&quot;coordinates&quot;: [-122.65729079473556, 45.50352289999999], &quot;type&quot;: &quot;Point&quot;}, &quot;id&quot;: &quot;843&quot;, &quot;properties&quot;: {&quot;__folium_color&quot;: &quot;#46307e&quot;, &quot;distance&quot;: 4015.1773865042333}, &quot;type&quot;: &quot;Feature&quot;}, {&quot;bbox&quot;: [-122.63275928571429, 45.526538, -122.63275928571429, 45.526538], &quot;geometry&quot;: {&quot;coordinates&quot;: [-122.63275928571429, 45.526538], &quot;type&quot;: &quot;Point&quot;}, &quot;id&quot;: &quot;844&quot;, &quot;properties&quot;: {&quot;__folium_color&quot;: &quot;#3a538b&quot;, &quot;distance&quot;: 7157.7184708237}, &quot;type&quot;: &quot;Feature&quot;}, {&quot;bbox&quot;: [-122.60906980933055, 45.515570749999995, -122.60906980933055, 45.515570749999995], &quot;geometry&quot;: {&quot;coordinates&quot;: [-122.60906980933055, 45.515570749999995], &quot;type&quot;: &quot;Point&quot;}, &quot;id&quot;: &quot;845&quot;, &quot;properties&quot;: {&quot;__folium_color&quot;: &quot;#3d4d8a&quot;, &quot;distance&quot;: 6512.439094460366}, &quot;type&quot;: &quot;Feature&quot;}, {&quot;bbox&quot;: [-122.7155810046039, 45.3816524, -122.7155810046039, 45.3816524], &quot;geometry&quot;: {&quot;coordinates&quot;: [-122.7155810046039, 45.3816524], &quot;type&quot;: &quot;Point&quot;}, &quot;id&quot;: &quot;846&quot;, &quot;properties&quot;: {&quot;__folium_color&quot;: &quot;#2c738e&quot;, &quot;distance&quot;: 10579.237774630901}, &quot;type&quot;: &quot;Feature&quot;}, {&quot;bbox&quot;: [-122.63981616795752, 45.54778659999999, -122.63981616795752, 45.54778659999999], &quot;geometry&quot;: {&quot;coordinates&quot;: [-122.63981616795752, 45.54778659999999], &quot;type&quot;: &quot;Point&quot;}, &quot;id&quot;: &quot;847&quot;, &quot;properties&quot;: {&quot;__folium_color&quot;: &quot;#482071&quot;, &quot;distance&quot;: 2629.5297352349457}, &quot;type&quot;: &quot;Feature&quot;}, {&quot;bbox&quot;: [-122.58645126232169, 45.53342415, -122.58645126232169, 45.53342415], &quot;geometry&quot;: {&quot;coordinates&quot;: [-122.58645126232169, 45.53342415], &quot;type&quot;: &quot;Point&quot;}, &quot;id&quot;: &quot;848&quot;, &quot;properties&quot;: {&quot;__folium_color&quot;: &quot;#297a8e&quot;, &quot;distance&quot;: 11276.452843479901}, &quot;type&quot;: &quot;Feature&quot;}, {&quot;bbox&quot;: [-122.6614201051613, 45.46597605, -122.6614201051613, 45.46597605], &quot;geometry&quot;: {&quot;coordinates&quot;: [-122.6614201051613, 45.46597605], &quot;type&quot;: &quot;Point&quot;}, &quot;id&quot;: &quot;849&quot;, &quot;properties&quot;: {&quot;__folium_color&quot;: &quot;#460b5e&quot;, &quot;distance&quot;: 1000.7150705493805}, &quot;type&quot;: &quot;Feature&quot;}, {&quot;bbox&quot;: [-122.62126387516938, 45.49183385, -122.62126387516938, 45.49183385], &quot;geometry&quot;: {&quot;coordinates&quot;: [-122.62126387516938, 45.49183385], &quot;type&quot;: &quot;Point&quot;}, &quot;id&quot;: &quot;850&quot;, &quot;properties&quot;: {&quot;__folium_color&quot;: &quot;#2f6c8e&quot;, &quot;distance&quot;: 9731.709722180187}, &quot;type&quot;: &quot;Feature&quot;}, {&quot;bbox&quot;: [-122.54463425272058, 45.538486649999996, -122.54463425272058, 45.538486649999996], &quot;geometry&quot;: {&quot;coordinates&quot;: [-122.54463425272058, 45.538486649999996], &quot;type&quot;: &quot;Point&quot;}, &quot;id&quot;: &quot;851&quot;, &quot;properties&quot;: {&quot;__folium_color&quot;: &quot;#34618d&quot;, &quot;distance&quot;: 8521.394210500168}, &quot;type&quot;: &quot;Feature&quot;}, {&quot;bbox&quot;: [-122.5817203122722, 45.559020350000004, -122.5817203122722, 45.559020350000004], &quot;geometry&quot;: {&quot;coordinates&quot;: [-122.5817203122722, 45.559020350000004], &quot;type&quot;: &quot;Point&quot;}, &quot;id&quot;: &quot;852&quot;, &quot;properties&quot;: {&quot;__folium_color&quot;: &quot;#2e6d8e&quot;, &quot;distance&quot;: 9743.095380204199}, &quot;type&quot;: &quot;Feature&quot;}, {&quot;bbox&quot;: [-122.5764993, 45.49845195, -122.5764993, 45.49845195], &quot;geometry&quot;: {&quot;coordinates&quot;: [-122.5764993, 45.49845195], &quot;type&quot;: &quot;Point&quot;}, &quot;id&quot;: &quot;853&quot;, &quot;properties&quot;: {&quot;__folium_color&quot;: &quot;#433d84&quot;, &quot;distance&quot;: 5024.646524587632}, &quot;type&quot;: &quot;Feature&quot;}, {&quot;bbox&quot;: [-122.6577188522929, 45.46261485, -122.6577188522929, 45.46261485], &quot;geometry&quot;: {&quot;coordinates&quot;: [-122.6577188522929, 45.46261485], &quot;type&quot;: &quot;Point&quot;}, &quot;id&quot;: &quot;854&quot;, &quot;properties&quot;: {&quot;__folium_color&quot;: &quot;#460b5e&quot;, &quot;distance&quot;: 969.7930998018019}, &quot;type&quot;: &quot;Feature&quot;}, {&quot;bbox&quot;: [-122.63007559623975, 45.46938725, -122.63007559623975, 45.46938725], &quot;geometry&quot;: {&quot;coordinates&quot;: [-122.63007559623975, 45.46938725], &quot;type&quot;: &quot;Point&quot;}, &quot;id&quot;: &quot;855&quot;, &quot;properties&quot;: {&quot;__folium_color&quot;: &quot;#482071&quot;, &quot;distance&quot;: 2538.99866126241}, &quot;type&quot;: &quot;Feature&quot;}, {&quot;bbox&quot;: [-122.50760659413147, 45.54340299999999, -122.50760659413147, 45.54340299999999], &quot;geometry&quot;: {&quot;coordinates&quot;: [-122.50760659413147, 45.54340299999999], &quot;type&quot;: &quot;Point&quot;}, &quot;id&quot;: &quot;856&quot;, &quot;properties&quot;: {&quot;__folium_color&quot;: &quot;#2db27d&quot;, &quot;distance&quot;: 17596.161673444618}, &quot;type&quot;: &quot;Feature&quot;}, {&quot;bbox&quot;: [-122.65359345454544, 45.502613010101, -122.65359345454544, 45.502613010101], &quot;geometry&quot;: {&quot;coordinates&quot;: [-122.65359345454544, 45.502613010101], &quot;type&quot;: &quot;Point&quot;}, &quot;id&quot;: &quot;857&quot;, &quot;properties&quot;: {&quot;__folium_color&quot;: &quot;#3e4a89&quot;, &quot;distance&quot;: 6346.13405338634}, &quot;type&quot;: &quot;Feature&quot;}, {&quot;bbox&quot;: [-122.59055419999999, 45.5895038, -122.59055419999999, 45.5895038], &quot;geometry&quot;: {&quot;coordinates&quot;: [-122.59055419999999, 45.5895038], &quot;type&quot;: &quot;Point&quot;}, &quot;id&quot;: &quot;858&quot;, &quot;properties&quot;: {&quot;__folium_color&quot;: &quot;#3f4889&quot;, &quot;distance&quot;: 6106.799313327476}, &quot;type&quot;: &quot;Feature&quot;}, {&quot;bbox&quot;: [-122.68322350051844, 45.56168780000001, -122.68322350051844, 45.56168780000001], &quot;geometry&quot;: {&quot;coordinates&quot;: [-122.68322350051844, 45.56168780000001], &quot;type&quot;: &quot;Point&quot;}, &quot;id&quot;: &quot;859&quot;, &quot;properties&quot;: {&quot;__folium_color&quot;: &quot;#482979&quot;, &quot;distance&quot;: 3377.862769015488}, &quot;type&quot;: &quot;Feature&quot;}, {&quot;bbox&quot;: [-122.67470960000001, 45.52753689999999, -122.67470960000001, 45.52753689999999], &quot;geometry&quot;: {&quot;coordinates&quot;: [-122.67470960000001, 45.52753689999999], &quot;type&quot;: &quot;Point&quot;}, &quot;id&quot;: &quot;860&quot;, &quot;properties&quot;: {&quot;__folium_color&quot;: &quot;#481769&quot;, &quot;distance&quot;: 1808.8917073502255}, &quot;type&quot;: &quot;Feature&quot;}, {&quot;bbox&quot;: [-122.69478151103213, 45.5101731, -122.69478151103213, 45.5101731], &quot;geometry&quot;: {&quot;coordinates&quot;: [-122.69478151103213, 45.5101731], &quot;type&quot;: &quot;Point&quot;}, &quot;id&quot;: &quot;861&quot;, &quot;properties&quot;: {&quot;__folium_color&quot;: &quot;#46327e&quot;, &quot;distance&quot;: 4027.4132364422553}, &quot;type&quot;: &quot;Feature&quot;}, {&quot;bbox&quot;: [-122.6514115, 45.52059455, -122.6514115, 45.52059455], &quot;geometry&quot;: {&quot;coordinates&quot;: [-122.6514115, 45.52059455], &quot;type&quot;: &quot;Point&quot;}, &quot;id&quot;: &quot;862&quot;, &quot;properties&quot;: {&quot;__folium_color&quot;: &quot;#463480&quot;, &quot;distance&quot;: 4319.237212569876}, &quot;type&quot;: &quot;Feature&quot;}, {&quot;bbox&quot;: [-122.75041506979036, 45.48737615, -122.75041506979036, 45.48737615], &quot;geometry&quot;: {&quot;coordinates&quot;: [-122.75041506979036, 45.48737615], &quot;type&quot;: &quot;Point&quot;}, &quot;id&quot;: &quot;863&quot;, &quot;properties&quot;: {&quot;__folium_color&quot;: &quot;#3e4c8a&quot;, &quot;distance&quot;: 6383.795838335974}, &quot;type&quot;: &quot;Feature&quot;}, {&quot;bbox&quot;: [-122.64900079983487, 45.56089490000001, -122.64900079983487, 45.56089490000001], &quot;geometry&quot;: {&quot;coordinates&quot;: [-122.64900079983487, 45.56089490000001], &quot;type&quot;: &quot;Point&quot;}, &quot;id&quot;: &quot;864&quot;, &quot;properties&quot;: {&quot;__folium_color&quot;: &quot;#481f70&quot;, &quot;distance&quot;: 2521.064828430057}, &quot;type&quot;: &quot;Feature&quot;}, {&quot;bbox&quot;: [-122.68826467346938, 45.51335059183673, -122.68826467346938, 45.51335059183673], &quot;geometry&quot;: {&quot;coordinates&quot;: [-122.68826467346938, 45.51335059183673], &quot;type&quot;: &quot;Point&quot;}, &quot;id&quot;: &quot;865&quot;, &quot;properties&quot;: {&quot;__folium_color&quot;: &quot;#365c8d&quot;, &quot;distance&quot;: 8023.743458311275}, &quot;type&quot;: &quot;Feature&quot;}, {&quot;bbox&quot;: [-122.72639234999997, 45.43678830000001, -122.72639234999997, 45.43678830000001], &quot;geometry&quot;: {&quot;coordinates&quot;: [-122.72639234999997, 45.43678830000001], &quot;type&quot;: &quot;Point&quot;}, &quot;id&quot;: &quot;866&quot;, &quot;properties&quot;: {&quot;__folium_color&quot;: &quot;#481668&quot;, &quot;distance&quot;: 1782.458700774872}, &quot;type&quot;: &quot;Feature&quot;}, {&quot;bbox&quot;: [-122.66546015789471, 45.58237378947368, -122.66546015789471, 45.58237378947368], &quot;geometry&quot;: {&quot;coordinates&quot;: [-122.66546015789471, 45.58237378947368], &quot;type&quot;: &quot;Point&quot;}, &quot;id&quot;: &quot;867&quot;, &quot;properties&quot;: {&quot;__folium_color&quot;: &quot;#2f6b8e&quot;, &quot;distance&quot;: 9605.760463269706}, &quot;type&quot;: &quot;Feature&quot;}, {&quot;bbox&quot;: [-122.57652404142719, 45.5389062, -122.57652404142719, 45.5389062], &quot;geometry&quot;: {&quot;coordinates&quot;: [-122.57652404142719, 45.5389062], &quot;type&quot;: &quot;Point&quot;}, &quot;id&quot;: &quot;868&quot;, &quot;properties&quot;: {&quot;__folium_color&quot;: &quot;#481a6c&quot;, &quot;distance&quot;: 2094.723755675686}, &quot;type&quot;: &quot;Feature&quot;}, {&quot;bbox&quot;: [-122.47442733864655, 45.52508029999999, -122.47442733864655, 45.52508029999999], &quot;geometry&quot;: {&quot;coordinates&quot;: [-122.47442733864655, 45.52508029999999], &quot;type&quot;: &quot;Point&quot;}, &quot;id&quot;: &quot;870&quot;, &quot;properties&quot;: {&quot;__folium_color&quot;: &quot;#3a548c&quot;, &quot;distance&quot;: 7251.649214048188}, &quot;type&quot;: &quot;Feature&quot;}, {&quot;bbox&quot;: [-122.6419001896268, 45.4860075, -122.6419001896268, 45.4860075], &quot;geometry&quot;: {&quot;coordinates&quot;: [-122.6419001896268, 45.4860075], &quot;type&quot;: &quot;Point&quot;}, &quot;id&quot;: &quot;871&quot;, &quot;properties&quot;: {&quot;__folium_color&quot;: &quot;#472c7a&quot;, &quot;distance&quot;: 3498.0048841161192}, &quot;type&quot;: &quot;Feature&quot;}, {&quot;bbox&quot;: [-122.68257161893096, 45.512853899999996, -122.68257161893096, 45.512853899999996], &quot;geometry&quot;: {&quot;coordinates&quot;: [-122.68257161893096, 45.512853899999996], &quot;type&quot;: &quot;Point&quot;}, &quot;id&quot;: &quot;872&quot;, &quot;properties&quot;: {&quot;__folium_color&quot;: &quot;#46327e&quot;, &quot;distance&quot;: 4020.447042425913}, &quot;type&quot;: &quot;Feature&quot;}, {&quot;bbox&quot;: [-122.68678803862166, 45.441992150000004, -122.68678803862166, 45.441992150000004], &quot;geometry&quot;: {&quot;coordinates&quot;: [-122.68678803862166, 45.441992150000004], &quot;type&quot;: &quot;Point&quot;}, &quot;id&quot;: &quot;873&quot;, &quot;properties&quot;: {&quot;__folium_color&quot;: &quot;#20a486&quot;, &quot;distance&quot;: 15999.501809681115}, &quot;type&quot;: &quot;Feature&quot;}, {&quot;bbox&quot;: [-122.6151508250787, 45.472337200000005, -122.6151508250787, 45.472337200000005], &quot;geometry&quot;: {&quot;coordinates&quot;: [-122.6151508250787, 45.472337200000005], &quot;type&quot;: &quot;Point&quot;}, &quot;id&quot;: &quot;874&quot;, &quot;properties&quot;: {&quot;__folium_color&quot;: &quot;#470d60&quot;, &quot;distance&quot;: 1111.4659414932776}, &quot;type&quot;: &quot;Feature&quot;}, {&quot;bbox&quot;: [-122.59285939999998, 45.3527193, -122.59285939999998, 45.3527193], &quot;geometry&quot;: {&quot;coordinates&quot;: [-122.59285939999998, 45.3527193], &quot;type&quot;: &quot;Point&quot;}, &quot;id&quot;: &quot;875&quot;, &quot;properties&quot;: {&quot;__folium_color&quot;: &quot;#7ad151&quot;, &quot;distance&quot;: 21891.728991493434}, &quot;type&quot;: &quot;Feature&quot;}, {&quot;bbox&quot;: [-122.69100962661578, 45.48347414999999, -122.69100962661578, 45.48347414999999], &quot;geometry&quot;: {&quot;coordinates&quot;: [-122.69100962661578, 45.48347414999999], &quot;type&quot;: &quot;Point&quot;}, &quot;id&quot;: &quot;876&quot;, &quot;properties&quot;: {&quot;__folium_color&quot;: &quot;#46075a&quot;, &quot;distance&quot;: 671.8606323734532}, &quot;type&quot;: &quot;Feature&quot;}, {&quot;bbox&quot;: [-122.69708315, 45.6380607, -122.69708315, 45.6380607], &quot;geometry&quot;: {&quot;coordinates&quot;: [-122.69708315, 45.6380607], &quot;type&quot;: &quot;Point&quot;}, &quot;id&quot;: &quot;877&quot;, &quot;properties&quot;: {&quot;__folium_color&quot;: &quot;#25838e&quot;, &quot;distance&quot;: 12360.235585625309}, &quot;type&quot;: &quot;Feature&quot;}, {&quot;bbox&quot;: [-122.77128639999998, 45.471681499999995, -122.77128639999998, 45.471681499999995], &quot;geometry&quot;: {&quot;coordinates&quot;: [-122.77128639999998, 45.471681499999995], &quot;type&quot;: &quot;Point&quot;}, &quot;id&quot;: &quot;878&quot;, &quot;properties&quot;: {&quot;__folium_color&quot;: &quot;#3e4a89&quot;, &quot;distance&quot;: 6337.05461618438}, &quot;type&quot;: &quot;Feature&quot;}, {&quot;bbox&quot;: [-122.61448417208788, 45.5431891, -122.61448417208788, 45.5431891], &quot;geometry&quot;: {&quot;coordinates&quot;: [-122.61448417208788, 45.5431891], &quot;type&quot;: &quot;Point&quot;}, &quot;id&quot;: &quot;879&quot;, &quot;properties&quot;: {&quot;__folium_color&quot;: &quot;#3b528b&quot;, &quot;distance&quot;: 7051.307499315961}, &quot;type&quot;: &quot;Feature&quot;}, {&quot;bbox&quot;: [-122.82015164030251, 45.560968849999995, -122.82015164030251, 45.560968849999995], &quot;geometry&quot;: {&quot;coordinates&quot;: [-122.82015164030251, 45.560968849999995], &quot;type&quot;: &quot;Point&quot;}, &quot;id&quot;: &quot;880&quot;, &quot;properties&quot;: {&quot;__folium_color&quot;: &quot;#22a785&quot;, &quot;distance&quot;: 16379.94307637556}, &quot;type&quot;: &quot;Feature&quot;}, {&quot;bbox&quot;: [-122.53323273161456, 45.5122821, -122.53323273161456, 45.5122821], &quot;geometry&quot;: {&quot;coordinates&quot;: [-122.53323273161456, 45.5122821], &quot;type&quot;: &quot;Point&quot;}, &quot;id&quot;: &quot;881&quot;, &quot;properties&quot;: {&quot;__folium_color&quot;: &quot;#460a5d&quot;, &quot;distance&quot;: 916.0968169365955}, &quot;type&quot;: &quot;Feature&quot;}, {&quot;bbox&quot;: [-122.63740413849058, 45.570161799999994, -122.63740413849058, 45.570161799999994], &quot;geometry&quot;: {&quot;coordinates&quot;: [-122.63740413849058, 45.570161799999994], &quot;type&quot;: &quot;Point&quot;}, &quot;id&quot;: &quot;882&quot;, &quot;properties&quot;: {&quot;__folium_color&quot;: &quot;#2f6c8e&quot;, &quot;distance&quot;: 9729.369338563994}, &quot;type&quot;: &quot;Feature&quot;}, {&quot;bbox&quot;: [-122.63674598039385, 45.66692717008647, -122.63674598039385, 45.66692717008647], &quot;geometry&quot;: {&quot;coordinates&quot;: [-122.63674598039385, 45.66692717008647], &quot;type&quot;: &quot;Point&quot;}, &quot;id&quot;: &quot;883&quot;, &quot;properties&quot;: {&quot;__folium_color&quot;: &quot;#1f968b&quot;, &quot;distance&quot;: 14488.475288137077}, &quot;type&quot;: &quot;Feature&quot;}, {&quot;bbox&quot;: [-122.65626165445765, 45.520519199999995, -122.65626165445765, 45.520519199999995], &quot;geometry&quot;: {&quot;coordinates&quot;: [-122.65626165445765, 45.520519199999995], &quot;type&quot;: &quot;Point&quot;}, &quot;id&quot;: &quot;884&quot;, &quot;properties&quot;: {&quot;__folium_color&quot;: &quot;#482979&quot;, &quot;distance&quot;: 3281.647270748082}, &quot;type&quot;: &quot;Feature&quot;}, {&quot;bbox&quot;: [-122.7100283, 45.4264873, -122.7100283, 45.4264873], &quot;geometry&quot;: {&quot;coordinates&quot;: [-122.7100283, 45.4264873], &quot;type&quot;: &quot;Point&quot;}, &quot;id&quot;: &quot;885&quot;, &quot;properties&quot;: {&quot;__folium_color&quot;: &quot;#33628d&quot;, &quot;distance&quot;: 8649.526992705794}, &quot;type&quot;: &quot;Feature&quot;}, {&quot;bbox&quot;: [-122.61266645017626, 45.490724699999994, -122.61266645017626, 45.490724699999994], &quot;geometry&quot;: {&quot;coordinates&quot;: [-122.61266645017626, 45.490724699999994], &quot;type&quot;: &quot;Point&quot;}, &quot;id&quot;: &quot;886&quot;, &quot;properties&quot;: {&quot;__folium_color&quot;: &quot;#39568c&quot;, &quot;distance&quot;: 7510.910691150848}, &quot;type&quot;: &quot;Feature&quot;}, {&quot;bbox&quot;: [-122.7161962, 45.6157785, -122.7161962, 45.6157785], &quot;geometry&quot;: {&quot;coordinates&quot;: [-122.7161962, 45.6157785], &quot;type&quot;: &quot;Point&quot;}, &quot;id&quot;: &quot;887&quot;, &quot;properties&quot;: {&quot;__folium_color&quot;: &quot;#414487&quot;, &quot;distance&quot;: 5642.055015520639}, &quot;type&quot;: &quot;Feature&quot;}, {&quot;bbox&quot;: [-122.56314864471501, 45.48772214999999, -122.56314864471501, 45.48772214999999], &quot;geometry&quot;: {&quot;coordinates&quot;: [-122.56314864471501, 45.48772214999999], &quot;type&quot;: &quot;Point&quot;}, &quot;id&quot;: &quot;888&quot;, &quot;properties&quot;: {&quot;__folium_color&quot;: &quot;#414487&quot;, &quot;distance&quot;: 5622.963558770938}, &quot;type&quot;: &quot;Feature&quot;}, {&quot;bbox&quot;: [-122.72823156643501, 45.448092200000005, -122.72823156643501, 45.448092200000005], &quot;geometry&quot;: {&quot;coordinates&quot;: [-122.72823156643501, 45.448092200000005], &quot;type&quot;: &quot;Point&quot;}, &quot;id&quot;: &quot;889&quot;, &quot;properties&quot;: {&quot;__folium_color&quot;: &quot;#440154&quot;, &quot;distance&quot;: 310.0498979192925}, &quot;type&quot;: &quot;Feature&quot;}, {&quot;bbox&quot;: [-122.70333739898373, 45.586916599999995, -122.70333739898373, 45.586916599999995], &quot;geometry&quot;: {&quot;coordinates&quot;: [-122.70333739898373, 45.586916599999995], &quot;type&quot;: &quot;Point&quot;}, &quot;id&quot;: &quot;891&quot;, &quot;properties&quot;: {&quot;__folium_color&quot;: &quot;#48186a&quot;, &quot;distance&quot;: 1988.9328608292976}, &quot;type&quot;: &quot;Feature&quot;}, {&quot;bbox&quot;: [-122.64797892929293, 45.527838, -122.64797892929293, 45.527838], &quot;geometry&quot;: {&quot;coordinates&quot;: [-122.64797892929293, 45.527838], &quot;type&quot;: &quot;Point&quot;}, &quot;id&quot;: &quot;892&quot;, &quot;properties&quot;: {&quot;__folium_color&quot;: &quot;#453581&quot;, &quot;distance&quot;: 4417.485383831467}, &quot;type&quot;: &quot;Feature&quot;}, {&quot;bbox&quot;: [-122.59540762475403, 45.655827650000006, -122.59540762475403, 45.655827650000006], &quot;geometry&quot;: {&quot;coordinates&quot;: [-122.59540762475403, 45.655827650000006], &quot;type&quot;: &quot;Point&quot;}, &quot;id&quot;: &quot;893&quot;, &quot;properties&quot;: {&quot;__folium_color&quot;: &quot;#27ad81&quot;, &quot;distance&quot;: 17104.85831941062}, &quot;type&quot;: &quot;Feature&quot;}, {&quot;bbox&quot;: [-122.69829401302073, 45.56946035, -122.69829401302073, 45.56946035], &quot;geometry&quot;: {&quot;coordinates&quot;: [-122.69829401302073, 45.56946035], &quot;type&quot;: &quot;Point&quot;}, &quot;id&quot;: &quot;894&quot;, &quot;properties&quot;: {&quot;__folium_color&quot;: &quot;#482878&quot;, &quot;distance&quot;: 3179.7882004952826}, &quot;type&quot;: &quot;Feature&quot;}, {&quot;bbox&quot;: [-122.4496498516765, 45.4191816, -122.4496498516765, 45.4191816], &quot;geometry&quot;: {&quot;coordinates&quot;: [-122.4496498516765, 45.4191816], &quot;type&quot;: &quot;Point&quot;}, &quot;id&quot;: &quot;895&quot;, &quot;properties&quot;: {&quot;__folium_color&quot;: &quot;#aadc32&quot;, &quot;distance&quot;: 23879.693626161952}, &quot;type&quot;: &quot;Feature&quot;}, {&quot;bbox&quot;: [-122.68913499935378, 45.52519305, -122.68913499935378, 45.52519305], &quot;geometry&quot;: {&quot;coordinates&quot;: [-122.68913499935378, 45.52519305], &quot;type&quot;: &quot;Point&quot;}, &quot;id&quot;: &quot;896&quot;, &quot;properties&quot;: {&quot;__folium_color&quot;: &quot;#3a548c&quot;, &quot;distance&quot;: 7225.419510050332}, &quot;type&quot;: &quot;Feature&quot;}, {&quot;bbox&quot;: [-122.58191356584172, 45.50379809969188, -122.58191356584172, 45.50379809969188], &quot;geometry&quot;: {&quot;coordinates&quot;: [-122.58191356584172, 45.50379809969188], &quot;type&quot;: &quot;Point&quot;}, &quot;id&quot;: &quot;897&quot;, &quot;properties&quot;: {&quot;__folium_color&quot;: &quot;#2e6d8e&quot;, &quot;distance&quot;: 9754.524284978717}, &quot;type&quot;: &quot;Feature&quot;}, {&quot;bbox&quot;: [-122.59055419999999, 45.5895038, -122.59055419999999, 45.5895038], &quot;geometry&quot;: {&quot;coordinates&quot;: [-122.59055419999999, 45.5895038], &quot;type&quot;: &quot;Point&quot;}, &quot;id&quot;: &quot;898&quot;, &quot;properties&quot;: {&quot;__folium_color&quot;: &quot;#2b758e&quot;, &quot;distance&quot;: 10729.503164634056}, &quot;type&quot;: &quot;Feature&quot;}, {&quot;bbox&quot;: [-122.69059350000002, 45.556722199999996, -122.69059350000002, 45.556722199999996], &quot;geometry&quot;: {&quot;coordinates&quot;: [-122.69059350000002, 45.556722199999996], &quot;type&quot;: &quot;Point&quot;}, &quot;id&quot;: &quot;899&quot;, &quot;properties&quot;: {&quot;__folium_color&quot;: &quot;#472c7a&quot;, &quot;distance&quot;: 3530.140371368218}, &quot;type&quot;: &quot;Feature&quot;}, {&quot;bbox&quot;: [-122.59055419999999, 45.5895038, -122.59055419999999, 45.5895038], &quot;geometry&quot;: {&quot;coordinates&quot;: [-122.59055419999999, 45.5895038], &quot;type&quot;: &quot;Point&quot;}, &quot;id&quot;: &quot;900&quot;, &quot;properties&quot;: {&quot;__folium_color&quot;: &quot;#3f4889&quot;, &quot;distance&quot;: 6106.799313327476}, &quot;type&quot;: &quot;Feature&quot;}, {&quot;bbox&quot;: [-122.61100660606061, 45.522627, -122.61100660606061, 45.522627], &quot;geometry&quot;: {&quot;coordinates&quot;: [-122.61100660606061, 45.522627], &quot;type&quot;: &quot;Point&quot;}, &quot;id&quot;: &quot;901&quot;, &quot;properties&quot;: {&quot;__folium_color&quot;: &quot;#3f4788&quot;, &quot;distance&quot;: 6023.907170366491}, &quot;type&quot;: &quot;Feature&quot;}, {&quot;bbox&quot;: [-122.67384880272358, 45.5840979, -122.67384880272358, 45.5840979], &quot;geometry&quot;: {&quot;coordinates&quot;: [-122.67384880272358, 45.5840979], &quot;type&quot;: &quot;Point&quot;}, &quot;id&quot;: &quot;902&quot;, &quot;properties&quot;: {&quot;__folium_color&quot;: &quot;#472a7a&quot;, &quot;distance&quot;: 3450.8499528190164}, &quot;type&quot;: &quot;Feature&quot;}, {&quot;bbox&quot;: [-122.66682740816329, 45.55729269387755, -122.66682740816329, 45.55729269387755], &quot;geometry&quot;: {&quot;coordinates&quot;: [-122.66682740816329, 45.55729269387755], &quot;type&quot;: &quot;Point&quot;}, &quot;id&quot;: &quot;903&quot;, &quot;properties&quot;: {&quot;__folium_color&quot;: &quot;#3e4c8a&quot;, &quot;distance&quot;: 6416.948034948891}, &quot;type&quot;: &quot;Feature&quot;}, {&quot;bbox&quot;: [-122.8256701, 45.42046929999999, -122.8256701, 45.42046929999999], &quot;geometry&quot;: {&quot;coordinates&quot;: [-122.8256701, 45.42046929999999], &quot;type&quot;: &quot;Point&quot;}, &quot;id&quot;: &quot;904&quot;, &quot;properties&quot;: {&quot;__folium_color&quot;: &quot;#26818e&quot;, &quot;distance&quot;: 11981.10211564449}, &quot;type&quot;: &quot;Feature&quot;}, {&quot;bbox&quot;: [-122.71687056484753, 45.40628804999999, -122.71687056484753, 45.40628804999999], &quot;geometry&quot;: {&quot;coordinates&quot;: [-122.71687056484753, 45.40628804999999], &quot;type&quot;: &quot;Point&quot;}, &quot;id&quot;: &quot;905&quot;, &quot;properties&quot;: {&quot;__folium_color&quot;: &quot;#3c4f8a&quot;, &quot;distance&quot;: 6685.283492301867}, &quot;type&quot;: &quot;Feature&quot;}, {&quot;bbox&quot;: [-122.57120611982177, 45.54412994999999, -122.57120611982177, 45.54412994999999], &quot;geometry&quot;: {&quot;coordinates&quot;: [-122.57120611982177, 45.54412994999999], &quot;type&quot;: &quot;Point&quot;}, &quot;id&quot;: &quot;906&quot;, &quot;properties&quot;: {&quot;__folium_color&quot;: &quot;#297a8e&quot;, &quot;distance&quot;: 11302.940735677872}, &quot;type&quot;: &quot;Feature&quot;}, {&quot;bbox&quot;: [-122.5365117044378, 45.50028444999999, -122.5365117044378, 45.50028444999999], &quot;geometry&quot;: {&quot;coordinates&quot;: [-122.5365117044378, 45.50028444999999], &quot;type&quot;: &quot;Point&quot;}, &quot;id&quot;: &quot;907&quot;, &quot;properties&quot;: {&quot;__folium_color&quot;: &quot;#424086&quot;, &quot;distance&quot;: 5310.717450854132}, &quot;type&quot;: &quot;Feature&quot;}, {&quot;bbox&quot;: [-122.62059043442669, 45.484845889266296, -122.62059043442669, 45.484845889266296], &quot;geometry&quot;: {&quot;coordinates&quot;: [-122.62059043442669, 45.484845889266296], &quot;type&quot;: &quot;Point&quot;}, &quot;id&quot;: &quot;908&quot;, &quot;properties&quot;: {&quot;__folium_color&quot;: &quot;#453581&quot;, &quot;distance&quot;: 4373.755069291476}, &quot;type&quot;: &quot;Feature&quot;}, {&quot;bbox&quot;: [-122.63517229060263, 45.538489, -122.63517229060263, 45.538489], &quot;geometry&quot;: {&quot;coordinates&quot;: [-122.63517229060263, 45.538489], &quot;type&quot;: &quot;Point&quot;}, &quot;id&quot;: &quot;909&quot;, &quot;properties&quot;: {&quot;__folium_color&quot;: &quot;#482878&quot;, &quot;distance&quot;: 3184.875805131309}, &quot;type&quot;: &quot;Feature&quot;}, {&quot;bbox&quot;: [-122.62839262479214, 45.51100075, -122.62839262479214, 45.51100075], &quot;geometry&quot;: {&quot;coordinates&quot;: [-122.62839262479214, 45.51100075], &quot;type&quot;: &quot;Point&quot;}, &quot;id&quot;: &quot;910&quot;, &quot;properties&quot;: {&quot;__folium_color&quot;: &quot;#33638d&quot;, &quot;distance&quot;: 8773.980741029984}, &quot;type&quot;: &quot;Feature&quot;}, {&quot;bbox&quot;: [-122.50596399999998, 45.55154, -122.50596399999998, 45.55154], &quot;geometry&quot;: {&quot;coordinates&quot;: [-122.50596399999998, 45.55154], &quot;type&quot;: &quot;Point&quot;}, &quot;id&quot;: &quot;911&quot;, &quot;properties&quot;: {&quot;__folium_color&quot;: &quot;#34608d&quot;, &quot;distance&quot;: 8389.023024075295}, &quot;type&quot;: &quot;Feature&quot;}, {&quot;bbox&quot;: [-122.53140527529678, 45.48082105, -122.53140527529678, 45.48082105], &quot;geometry&quot;: {&quot;coordinates&quot;: [-122.53140527529678, 45.48082105], &quot;type&quot;: &quot;Point&quot;}, &quot;id&quot;: &quot;912&quot;, &quot;properties&quot;: {&quot;__folium_color&quot;: &quot;#32658e&quot;, &quot;distance&quot;: 8988.245564123581}, &quot;type&quot;: &quot;Feature&quot;}, {&quot;bbox&quot;: [-122.58464176867932, 45.544864000000004, -122.58464176867932, 45.544864000000004], &quot;geometry&quot;: {&quot;coordinates&quot;: [-122.58464176867932, 45.544864000000004], &quot;type&quot;: &quot;Point&quot;}, &quot;id&quot;: &quot;913&quot;, &quot;properties&quot;: {&quot;__folium_color&quot;: &quot;#33628d&quot;, &quot;distance&quot;: 8634.253215375087}, &quot;type&quot;: &quot;Feature&quot;}, {&quot;bbox&quot;: [-122.70554719065632, 45.48694894999999, -122.70554719065632, 45.48694894999999], &quot;geometry&quot;: {&quot;coordinates&quot;: [-122.70554719065632, 45.48694894999999], &quot;type&quot;: &quot;Point&quot;}, &quot;id&quot;: &quot;914&quot;, &quot;properties&quot;: {&quot;__folium_color&quot;: &quot;#414287&quot;, &quot;distance&quot;: 5569.714187514154}, &quot;type&quot;: &quot;Feature&quot;}, {&quot;bbox&quot;: [-122.59055419999999, 45.5895038, -122.59055419999999, 45.5895038], &quot;geometry&quot;: {&quot;coordinates&quot;: [-122.59055419999999, 45.5895038], &quot;type&quot;: &quot;Point&quot;}, &quot;id&quot;: &quot;915&quot;, &quot;properties&quot;: {&quot;__folium_color&quot;: &quot;#3f4889&quot;, &quot;distance&quot;: 6106.799313327476}, &quot;type&quot;: &quot;Feature&quot;}, {&quot;bbox&quot;: [-122.47740764938479, 45.49735525, -122.47740764938479, 45.49735525], &quot;geometry&quot;: {&quot;coordinates&quot;: [-122.47740764938479, 45.49735525], &quot;type&quot;: &quot;Point&quot;}, &quot;id&quot;: &quot;916&quot;, &quot;properties&quot;: {&quot;__folium_color&quot;: &quot;#277e8e&quot;, &quot;distance&quot;: 11709.96385783338}, &quot;type&quot;: &quot;Feature&quot;}, {&quot;bbox&quot;: [-122.7027911636656, 45.51949265, -122.7027911636656, 45.51949265], &quot;geometry&quot;: {&quot;coordinates&quot;: [-122.7027911636656, 45.51949265], &quot;type&quot;: &quot;Point&quot;}, &quot;id&quot;: &quot;917&quot;, &quot;properties&quot;: {&quot;__folium_color&quot;: &quot;#2d718e&quot;, &quot;distance&quot;: 10227.7079862018}, &quot;type&quot;: &quot;Feature&quot;}, {&quot;bbox&quot;: [-122.7136433, 45.5882012, -122.7136433, 45.5882012], &quot;geometry&quot;: {&quot;coordinates&quot;: [-122.7136433, 45.5882012], &quot;type&quot;: &quot;Point&quot;}, &quot;id&quot;: &quot;918&quot;, &quot;properties&quot;: {&quot;__folium_color&quot;: &quot;#482677&quot;, &quot;distance&quot;: 3145.0025541322884}, &quot;type&quot;: &quot;Feature&quot;}, {&quot;bbox&quot;: [-122.61475074040133, 45.4698193, -122.61475074040133, 45.4698193], &quot;geometry&quot;: {&quot;coordinates&quot;: [-122.61475074040133, 45.4698193], &quot;type&quot;: &quot;Point&quot;}, &quot;id&quot;: &quot;919&quot;, &quot;properties&quot;: {&quot;__folium_color&quot;: &quot;#463480&quot;, &quot;distance&quot;: 4243.845147338369}, &quot;type&quot;: &quot;Feature&quot;}, {&quot;bbox&quot;: [-122.65881879984249, 45.55063534999999, -122.65881879984249, 45.55063534999999], &quot;geometry&quot;: {&quot;coordinates&quot;: [-122.65881879984249, 45.55063534999999], &quot;type&quot;: &quot;Point&quot;}, &quot;id&quot;: &quot;920&quot;, &quot;properties&quot;: {&quot;__folium_color&quot;: &quot;#3b518b&quot;, &quot;distance&quot;: 6912.233651937138}, &quot;type&quot;: &quot;Feature&quot;}, {&quot;bbox&quot;: [-122.63798343434344, 45.54219372727272, -122.63798343434344, 45.54219372727272], &quot;geometry&quot;: {&quot;coordinates&quot;: [-122.63798343434344, 45.54219372727272], &quot;type&quot;: &quot;Point&quot;}, &quot;id&quot;: &quot;921&quot;, &quot;properties&quot;: {&quot;__folium_color&quot;: &quot;#443b84&quot;, &quot;distance&quot;: 4932.549953108166}, &quot;type&quot;: &quot;Feature&quot;}, {&quot;bbox&quot;: [-122.64753152517649, 45.557, -122.64753152517649, 45.557], &quot;geometry&quot;: {&quot;coordinates&quot;: [-122.64753152517649, 45.557], &quot;type&quot;: &quot;Point&quot;}, &quot;id&quot;: &quot;922&quot;, &quot;properties&quot;: {&quot;__folium_color&quot;: &quot;#482677&quot;, &quot;distance&quot;: 3080.959033356883}, &quot;type&quot;: &quot;Feature&quot;}, {&quot;bbox&quot;: [-122.65395940432872, 45.550059299999994, -122.65395940432872, 45.550059299999994], &quot;geometry&quot;: {&quot;coordinates&quot;: [-122.65395940432872, 45.550059299999994], &quot;type&quot;: &quot;Point&quot;}, &quot;id&quot;: &quot;923&quot;, &quot;properties&quot;: {&quot;__folium_color&quot;: &quot;#3d4d8a&quot;, &quot;distance&quot;: 6534.346360040513}, &quot;type&quot;: &quot;Feature&quot;}, {&quot;bbox&quot;: [-122.73015847163968, 45.461104399999996, -122.73015847163968, 45.461104399999996], &quot;geometry&quot;: {&quot;coordinates&quot;: [-122.73015847163968, 45.461104399999996], &quot;type&quot;: &quot;Point&quot;}, &quot;id&quot;: &quot;924&quot;, &quot;properties&quot;: {&quot;__folium_color&quot;: &quot;#33638d&quot;, &quot;distance&quot;: 8679.567488241002}, &quot;type&quot;: &quot;Feature&quot;}, {&quot;bbox&quot;: [-122.57210799999997, 45.371158, -122.57210799999997, 45.371158], &quot;geometry&quot;: {&quot;coordinates&quot;: [-122.57210799999997, 45.371158], &quot;type&quot;: &quot;Point&quot;}, &quot;id&quot;: &quot;925&quot;, &quot;properties&quot;: {&quot;__folium_color&quot;: &quot;#2eb37c&quot;, &quot;distance&quot;: 17675.70703333648}, &quot;type&quot;: &quot;Feature&quot;}, {&quot;bbox&quot;: [-122.67865393750002, 45.4978979375, -122.67865393750002, 45.4978979375], &quot;geometry&quot;: {&quot;coordinates&quot;: [-122.67865393750002, 45.4978979375], &quot;type&quot;: &quot;Point&quot;}, &quot;id&quot;: &quot;926&quot;, &quot;properties&quot;: {&quot;__folium_color&quot;: &quot;#2c718e&quot;, &quot;distance&quot;: 10289.690553622579}, &quot;type&quot;: &quot;Feature&quot;}, {&quot;bbox&quot;: [-122.54534632985502, 45.54130435, -122.54534632985502, 45.54130435], &quot;geometry&quot;: {&quot;coordinates&quot;: [-122.54534632985502, 45.54130435], &quot;type&quot;: &quot;Point&quot;}, &quot;id&quot;: &quot;927&quot;, &quot;properties&quot;: {&quot;__folium_color&quot;: &quot;#34608d&quot;, &quot;distance&quot;: 8461.240214404423}, &quot;type&quot;: &quot;Feature&quot;}, {&quot;bbox&quot;: [-122.62834665, 45.499286749999996, -122.62834665, 45.499286749999996], &quot;geometry&quot;: {&quot;coordinates&quot;: [-122.62834665, 45.499286749999996], &quot;type&quot;: &quot;Point&quot;}, &quot;id&quot;: &quot;928&quot;, &quot;properties&quot;: {&quot;__folium_color&quot;: &quot;#218e8d&quot;, &quot;distance&quot;: 13532.219370617036}, &quot;type&quot;: &quot;Feature&quot;}, {&quot;bbox&quot;: [-122.74499394327934, 45.52358975, -122.74499394327934, 45.52358975], &quot;geometry&quot;: {&quot;coordinates&quot;: [-122.74499394327934, 45.52358975], &quot;type&quot;: &quot;Point&quot;}, &quot;id&quot;: &quot;929&quot;, &quot;properties&quot;: {&quot;__folium_color&quot;: &quot;#424186&quot;, &quot;distance&quot;: 5434.5157271227945}, &quot;type&quot;: &quot;Feature&quot;}, {&quot;bbox&quot;: [-122.59150019697836, 45.55449655, -122.59150019697836, 45.55449655], &quot;geometry&quot;: {&quot;coordinates&quot;: [-122.59150019697836, 45.55449655], &quot;type&quot;: &quot;Point&quot;}, &quot;id&quot;: &quot;930&quot;, &quot;properties&quot;: {&quot;__folium_color&quot;: &quot;#470e61&quot;, &quot;distance&quot;: 1219.9459445960838}, &quot;type&quot;: &quot;Feature&quot;}, {&quot;bbox&quot;: [-122.63921733854093, 45.5856432, -122.63921733854093, 45.5856432], &quot;geometry&quot;: {&quot;coordinates&quot;: [-122.63921733854093, 45.5856432], &quot;type&quot;: &quot;Point&quot;}, &quot;id&quot;: &quot;931&quot;, &quot;properties&quot;: {&quot;__folium_color&quot;: &quot;#1fa187&quot;, &quot;distance&quot;: 15677.614815634723}, &quot;type&quot;: &quot;Feature&quot;}, {&quot;bbox&quot;: [-122.70816116217225, 45.53232878013923, -122.70816116217225, 45.53232878013923], &quot;geometry&quot;: {&quot;coordinates&quot;: [-122.70816116217225, 45.53232878013923], &quot;type&quot;: &quot;Point&quot;}, &quot;id&quot;: &quot;932&quot;, &quot;properties&quot;: {&quot;__folium_color&quot;: &quot;#3e4a89&quot;, &quot;distance&quot;: 6289.590084476736}, &quot;type&quot;: &quot;Feature&quot;}, {&quot;bbox&quot;: [-122.58098145168663, 45.51205005, -122.58098145168663, 45.51205005], &quot;geometry&quot;: {&quot;coordinates&quot;: [-122.58098145168663, 45.51205005], &quot;type&quot;: &quot;Point&quot;}, &quot;id&quot;: &quot;933&quot;, &quot;properties&quot;: {&quot;__folium_color&quot;: &quot;#443983&quot;, &quot;distance&quot;: 4669.409594072824}, &quot;type&quot;: &quot;Feature&quot;}, {&quot;bbox&quot;: [-122.69483233504808, 45.56481089999999, -122.69483233504808, 45.56481089999999], &quot;geometry&quot;: {&quot;coordinates&quot;: [-122.69483233504808, 45.56481089999999], &quot;type&quot;: &quot;Point&quot;}, &quot;id&quot;: &quot;934&quot;, &quot;properties&quot;: {&quot;__folium_color&quot;: &quot;#482071&quot;, &quot;distance&quot;: 2620.0004651224344}, &quot;type&quot;: &quot;Feature&quot;}, {&quot;bbox&quot;: [-122.66979077510882, 45.56108954999999, -122.66979077510882, 45.56108954999999], &quot;geometry&quot;: {&quot;coordinates&quot;: [-122.66979077510882, 45.56108954999999], &quot;type&quot;: &quot;Point&quot;}, &quot;id&quot;: &quot;935&quot;, &quot;properties&quot;: {&quot;__folium_color&quot;: &quot;#482878&quot;, &quot;distance&quot;: 3240.79259440095}, &quot;type&quot;: &quot;Feature&quot;}, {&quot;bbox&quot;: [-122.55808163265307, 45.53962508163266, -122.55808163265307, 45.53962508163266], &quot;geometry&quot;: {&quot;coordinates&quot;: [-122.55808163265307, 45.53962508163266], &quot;type&quot;: &quot;Point&quot;}, &quot;id&quot;: &quot;936&quot;, &quot;properties&quot;: {&quot;__folium_color&quot;: &quot;#463480&quot;, &quot;distance&quot;: 4242.814825281578}, &quot;type&quot;: &quot;Feature&quot;}, {&quot;bbox&quot;: [-122.70548826028052, 45.586300349999995, -122.70548826028052, 45.586300349999995], &quot;geometry&quot;: {&quot;coordinates&quot;: [-122.70548826028052, 45.586300349999995], &quot;type&quot;: &quot;Point&quot;}, &quot;id&quot;: &quot;937&quot;, &quot;properties&quot;: {&quot;__folium_color&quot;: &quot;#424086&quot;, &quot;distance&quot;: 5353.479722249863}, &quot;type&quot;: &quot;Feature&quot;}, {&quot;bbox&quot;: [-122.82376441186979, 45.5361459, -122.82376441186979, 45.5361459], &quot;geometry&quot;: {&quot;coordinates&quot;: [-122.82376441186979, 45.5361459], &quot;type&quot;: &quot;Point&quot;}, &quot;id&quot;: &quot;938&quot;, &quot;properties&quot;: {&quot;__folium_color&quot;: &quot;#1fa188&quot;, &quot;distance&quot;: 15609.23071391095}, &quot;type&quot;: &quot;Feature&quot;}, {&quot;bbox&quot;: [-122.62685987492485, 45.508961150000005, -122.62685987492485, 45.508961150000005], &quot;geometry&quot;: {&quot;coordinates&quot;: [-122.62685987492485, 45.508961150000005], &quot;type&quot;: &quot;Point&quot;}, &quot;id&quot;: &quot;939&quot;, &quot;properties&quot;: {&quot;__folium_color&quot;: &quot;#32648e&quot;, &quot;distance&quot;: 8797.787905040246}, &quot;type&quot;: &quot;Feature&quot;}, {&quot;bbox&quot;: [-122.69610135414845, 45.52509284999999, -122.69610135414845, 45.52509284999999], &quot;geometry&quot;: {&quot;coordinates&quot;: [-122.69610135414845, 45.52509284999999], &quot;type&quot;: &quot;Point&quot;}, &quot;id&quot;: &quot;940&quot;, &quot;properties&quot;: {&quot;__folium_color&quot;: &quot;#463480&quot;, &quot;distance&quot;: 4290.715440464097}, &quot;type&quot;: &quot;Feature&quot;}, {&quot;bbox&quot;: [-122.7438226504646, 45.47673895, -122.7438226504646, 45.47673895], &quot;geometry&quot;: {&quot;coordinates&quot;: [-122.7438226504646, 45.47673895], &quot;type&quot;: &quot;Point&quot;}, &quot;id&quot;: &quot;941&quot;, &quot;properties&quot;: {&quot;__folium_color&quot;: &quot;#414287&quot;, &quot;distance&quot;: 5558.356194982096}, &quot;type&quot;: &quot;Feature&quot;}, {&quot;bbox&quot;: [-122.60982289999997, 45.51019795, -122.60982289999997, 45.51019795], &quot;geometry&quot;: {&quot;coordinates&quot;: [-122.60982289999997, 45.51019795], &quot;type&quot;: &quot;Point&quot;}, &quot;id&quot;: &quot;942&quot;, &quot;properties&quot;: {&quot;__folium_color&quot;: &quot;#34618d&quot;, &quot;distance&quot;: 8561.006724129957}, &quot;type&quot;: &quot;Feature&quot;}, {&quot;bbox&quot;: [-122.59955945000002, 45.5546355, -122.59955945000002, 45.5546355], &quot;geometry&quot;: {&quot;coordinates&quot;: [-122.59955945000002, 45.5546355], &quot;type&quot;: &quot;Point&quot;}, &quot;id&quot;: &quot;943&quot;, &quot;properties&quot;: {&quot;__folium_color&quot;: &quot;#3c4f8a&quot;, &quot;distance&quot;: 6764.997595204137}, &quot;type&quot;: &quot;Feature&quot;}, {&quot;bbox&quot;: [-122.6959036, 45.51793495, -122.6959036, 45.51793495], &quot;geometry&quot;: {&quot;coordinates&quot;: [-122.6959036, 45.51793495], &quot;type&quot;: &quot;Point&quot;}, &quot;id&quot;: &quot;944&quot;, &quot;properties&quot;: {&quot;__folium_color&quot;: &quot;#32658e&quot;, &quot;distance&quot;: 8887.947708263284}, &quot;type&quot;: &quot;Feature&quot;}, {&quot;bbox&quot;: [-122.6215131605294, 45.50582459030802, -122.6215131605294, 45.50582459030802], &quot;geometry&quot;: {&quot;coordinates&quot;: [-122.6215131605294, 45.50582459030802], &quot;type&quot;: &quot;Point&quot;}, &quot;id&quot;: &quot;945&quot;, &quot;properties&quot;: {&quot;__folium_color&quot;: &quot;#3b528b&quot;, &quot;distance&quot;: 6990.404057105774}, &quot;type&quot;: &quot;Feature&quot;}, {&quot;bbox&quot;: [-122.81316862785465, 45.5154946, -122.81316862785465, 45.5154946], &quot;geometry&quot;: {&quot;coordinates&quot;: [-122.81316862785465, 45.5154946], &quot;type&quot;: &quot;Point&quot;}, &quot;id&quot;: &quot;946&quot;, &quot;properties&quot;: {&quot;__folium_color&quot;: &quot;#238a8d&quot;, &quot;distance&quot;: 13078.75803227282}, &quot;type&quot;: &quot;Feature&quot;}, {&quot;bbox&quot;: [-122.65559609999997, 45.5307703, -122.65559609999997, 45.5307703], &quot;geometry&quot;: {&quot;coordinates&quot;: [-122.65559609999997, 45.5307703], &quot;type&quot;: &quot;Point&quot;}, &quot;id&quot;: &quot;947&quot;, &quot;properties&quot;: {&quot;__folium_color&quot;: &quot;#481a6c&quot;, &quot;distance&quot;: 2060.0880704491287}, &quot;type&quot;: &quot;Feature&quot;}, {&quot;bbox&quot;: [-122.75980663709018, 45.595534349999994, -122.75980663709018, 45.595534349999994], &quot;geometry&quot;: {&quot;coordinates&quot;: [-122.75980663709018, 45.595534349999994], &quot;type&quot;: &quot;Point&quot;}, &quot;id&quot;: &quot;949&quot;, &quot;properties&quot;: {&quot;__folium_color&quot;: &quot;#20938c&quot;, &quot;distance&quot;: 14124.908949825174}, &quot;type&quot;: &quot;Feature&quot;}, {&quot;bbox&quot;: [-122.62680560000001, 45.5187806, -122.62680560000001, 45.5187806], &quot;geometry&quot;: {&quot;coordinates&quot;: [-122.62680560000001, 45.5187806], &quot;type&quot;: &quot;Point&quot;}, &quot;id&quot;: &quot;950&quot;, &quot;properties&quot;: {&quot;__folium_color&quot;: &quot;#414287&quot;, &quot;distance&quot;: 5574.768692048529}, &quot;type&quot;: &quot;Feature&quot;}, {&quot;bbox&quot;: [-122.60784177293957, 45.50822005, -122.60784177293957, 45.50822005], &quot;geometry&quot;: {&quot;coordinates&quot;: [-122.60784177293957, 45.50822005], &quot;type&quot;: &quot;Point&quot;}, &quot;id&quot;: &quot;951&quot;, &quot;properties&quot;: {&quot;__folium_color&quot;: &quot;#32648e&quot;, &quot;distance&quot;: 8834.789116685748}, &quot;type&quot;: &quot;Feature&quot;}, {&quot;bbox&quot;: [-122.52138187470209, 45.534368750000006, -122.52138187470209, 45.534368750000006], &quot;geometry&quot;: {&quot;coordinates&quot;: [-122.52138187470209, 45.534368750000006], &quot;type&quot;: &quot;Point&quot;}, &quot;id&quot;: &quot;952&quot;, &quot;properties&quot;: {&quot;__folium_color&quot;: &quot;#277e8e&quot;, &quot;distance&quot;: 11677.295239732202}, &quot;type&quot;: &quot;Feature&quot;}, {&quot;bbox&quot;: [-122.70091937382456, 45.4928409, -122.70091937382456, 45.4928409], &quot;geometry&quot;: {&quot;coordinates&quot;: [-122.70091937382456, 45.4928409], &quot;type&quot;: &quot;Point&quot;}, &quot;id&quot;: &quot;953&quot;, &quot;properties&quot;: {&quot;__folium_color&quot;: &quot;#453781&quot;, &quot;distance&quot;: 4507.569067687273}, &quot;type&quot;: &quot;Feature&quot;}, {&quot;bbox&quot;: [-122.6750243456376, 45.56729159060402, -122.6750243456376, 45.56729159060402], &quot;geometry&quot;: {&quot;coordinates&quot;: [-122.6750243456376, 45.56729159060402], &quot;type&quot;: &quot;Point&quot;}, &quot;id&quot;: &quot;954&quot;, &quot;properties&quot;: {&quot;__folium_color&quot;: &quot;#453581&quot;, &quot;distance&quot;: 4343.90150710721}, &quot;type&quot;: &quot;Feature&quot;}, {&quot;bbox&quot;: [-122.59799600486078, 45.4825674, -122.59799600486078, 45.4825674], &quot;geometry&quot;: {&quot;coordinates&quot;: [-122.59799600486078, 45.4825674], &quot;type&quot;: &quot;Point&quot;}, &quot;id&quot;: &quot;955&quot;, &quot;properties&quot;: {&quot;__folium_color&quot;: &quot;#481b6d&quot;, &quot;distance&quot;: 2171.600629901379}, &quot;type&quot;: &quot;Feature&quot;}, {&quot;bbox&quot;: [-122.64325245300132, 45.47180289999999, -122.64325245300132, 45.47180289999999], &quot;geometry&quot;: {&quot;coordinates&quot;: [-122.64325245300132, 45.47180289999999], &quot;type&quot;: &quot;Point&quot;}, &quot;id&quot;: &quot;956&quot;, &quot;properties&quot;: {&quot;__folium_color&quot;: &quot;#297b8e&quot;, &quot;distance&quot;: 11371.494111907203}, &quot;type&quot;: &quot;Feature&quot;}, {&quot;bbox&quot;: [-122.6143563, 45.3983563, -122.6143563, 45.3983563], &quot;geometry&quot;: {&quot;coordinates&quot;: [-122.6143563, 45.3983563], &quot;type&quot;: &quot;Point&quot;}, &quot;id&quot;: &quot;957&quot;, &quot;properties&quot;: {&quot;__folium_color&quot;: &quot;#63cb5f&quot;, &quot;distance&quot;: 20745.886613000148}, &quot;type&quot;: &quot;Feature&quot;}, {&quot;bbox&quot;: [-122.56039285205962, 45.462473599999996, -122.56039285205962, 45.462473599999996], &quot;geometry&quot;: {&quot;coordinates&quot;: [-122.56039285205962, 45.462473599999996], &quot;type&quot;: &quot;Point&quot;}, &quot;id&quot;: &quot;958&quot;, &quot;properties&quot;: {&quot;__folium_color&quot;: &quot;#3e4a89&quot;, &quot;distance&quot;: 6326.641185109465}, &quot;type&quot;: &quot;Feature&quot;}, {&quot;bbox&quot;: [-122.5668060522755, 45.4597422, -122.5668060522755, 45.4597422], &quot;geometry&quot;: {&quot;coordinates&quot;: [-122.5668060522755, 45.4597422], &quot;type&quot;: &quot;Point&quot;}, &quot;id&quot;: &quot;959&quot;, &quot;properties&quot;: {&quot;__folium_color&quot;: &quot;#404688&quot;, &quot;distance&quot;: 5897.41947475576}, &quot;type&quot;: &quot;Feature&quot;}, {&quot;bbox&quot;: [-122.72688195, 45.54923089999999, -122.72688195, 45.54923089999999], &quot;geometry&quot;: {&quot;coordinates&quot;: [-122.72688195, 45.54923089999999], &quot;type&quot;: &quot;Point&quot;}, &quot;id&quot;: &quot;960&quot;, &quot;properties&quot;: {&quot;__folium_color&quot;: &quot;#3d4e8a&quot;, &quot;distance&quot;: 6628.562183863472}, &quot;type&quot;: &quot;Feature&quot;}, {&quot;bbox&quot;: [-122.57878983662344, 45.50937043654332, -122.57878983662344, 45.50937043654332], &quot;geometry&quot;: {&quot;coordinates&quot;: [-122.57878983662344, 45.50937043654332], &quot;type&quot;: &quot;Point&quot;}, &quot;id&quot;: &quot;961&quot;, &quot;properties&quot;: {&quot;__folium_color&quot;: &quot;#3f4889&quot;, &quot;distance&quot;: 6083.467712554276}, &quot;type&quot;: &quot;Feature&quot;}, {&quot;bbox&quot;: [-122.6485443, 45.57065109999999, -122.6485443, 45.57065109999999], &quot;geometry&quot;: {&quot;coordinates&quot;: [-122.6485443, 45.57065109999999], &quot;type&quot;: &quot;Point&quot;}, &quot;id&quot;: &quot;962&quot;, &quot;properties&quot;: {&quot;__folium_color&quot;: &quot;#3f4889&quot;, &quot;distance&quot;: 6070.096797987454}, &quot;type&quot;: &quot;Feature&quot;}, {&quot;bbox&quot;: [-122.6771088877551, 45.542172540816324, -122.6771088877551, 45.542172540816324], &quot;geometry&quot;: {&quot;coordinates&quot;: [-122.6771088877551, 45.542172540816324], &quot;type&quot;: &quot;Point&quot;}, &quot;id&quot;: &quot;963&quot;, &quot;properties&quot;: {&quot;__folium_color&quot;: &quot;#482677&quot;, &quot;distance&quot;: 3073.9455102943816}, &quot;type&quot;: &quot;Feature&quot;}, {&quot;bbox&quot;: [-122.59388344901353, 45.5597939, -122.59388344901353, 45.5597939], &quot;geometry&quot;: {&quot;coordinates&quot;: [-122.59388344901353, 45.5597939], &quot;type&quot;: &quot;Point&quot;}, &quot;id&quot;: &quot;965&quot;, &quot;properties&quot;: {&quot;__folium_color&quot;: &quot;#3d4e8a&quot;, &quot;distance&quot;: 6621.079871789346}, &quot;type&quot;: &quot;Feature&quot;}, {&quot;bbox&quot;: [-122.58747145, 45.48558889999999, -122.58747145, 45.48558889999999], &quot;geometry&quot;: {&quot;coordinates&quot;: [-122.58747145, 45.48558889999999], &quot;type&quot;: &quot;Point&quot;}, &quot;id&quot;: &quot;966&quot;, &quot;properties&quot;: {&quot;__folium_color&quot;: &quot;#31668e&quot;, &quot;distance&quot;: 9077.982594253519}, &quot;type&quot;: &quot;Feature&quot;}, {&quot;bbox&quot;: [-122.75700714209006, 45.54372734083842, -122.75700714209006, 45.54372734083842], &quot;geometry&quot;: {&quot;coordinates&quot;: [-122.75700714209006, 45.54372734083842], &quot;type&quot;: &quot;Point&quot;}, &quot;id&quot;: &quot;967&quot;, &quot;properties&quot;: {&quot;__folium_color&quot;: &quot;#3d4e8a&quot;, &quot;distance&quot;: 6577.8479378097245}, &quot;type&quot;: &quot;Feature&quot;}, {&quot;bbox&quot;: [-122.55787921025728, 45.5103474, -122.55787921025728, 45.5103474], &quot;geometry&quot;: {&quot;coordinates&quot;: [-122.55787921025728, 45.5103474], &quot;type&quot;: &quot;Point&quot;}, &quot;id&quot;: &quot;968&quot;, &quot;properties&quot;: {&quot;__folium_color&quot;: &quot;#375a8c&quot;, &quot;distance&quot;: 7823.951097856297}, &quot;type&quot;: &quot;Feature&quot;}, {&quot;bbox&quot;: [-122.65064192511666, 45.54971344999999, -122.65064192511666, 45.54971344999999], &quot;geometry&quot;: {&quot;coordinates&quot;: [-122.65064192511666, 45.54971344999999], &quot;type&quot;: &quot;Point&quot;}, &quot;id&quot;: &quot;969&quot;, &quot;properties&quot;: {&quot;__folium_color&quot;: &quot;#48186a&quot;, &quot;distance&quot;: 1973.7232821735893}, &quot;type&quot;: &quot;Feature&quot;}, {&quot;bbox&quot;: [-122.60148584546312, 45.419776150000004, -122.60148584546312, 45.419776150000004], &quot;geometry&quot;: {&quot;coordinates&quot;: [-122.60148584546312, 45.419776150000004], &quot;type&quot;: &quot;Point&quot;}, &quot;id&quot;: &quot;970&quot;, &quot;properties&quot;: {&quot;__folium_color&quot;: &quot;#306a8e&quot;, &quot;distance&quot;: 9498.06868869646}, &quot;type&quot;: &quot;Feature&quot;}, {&quot;bbox&quot;: [-122.59747115, 45.52847869999999, -122.59747115, 45.52847869999999], &quot;geometry&quot;: {&quot;coordinates&quot;: [-122.59747115, 45.52847869999999], &quot;type&quot;: &quot;Point&quot;}, &quot;id&quot;: &quot;971&quot;, &quot;properties&quot;: {&quot;__folium_color&quot;: &quot;#482576&quot;, &quot;distance&quot;: 3012.5300393486223}, &quot;type&quot;: &quot;Feature&quot;}, {&quot;bbox&quot;: [-122.61795885000001, 45.46551975, -122.61795885000001, 45.46551975], &quot;geometry&quot;: {&quot;coordinates&quot;: [-122.61795885000001, 45.46551975], &quot;type&quot;: &quot;Point&quot;}, &quot;id&quot;: &quot;973&quot;, &quot;properties&quot;: {&quot;__folium_color&quot;: &quot;#481c6e&quot;, &quot;distance&quot;: 2237.6394040038917}, &quot;type&quot;: &quot;Feature&quot;}, {&quot;bbox&quot;: [-122.6237252568214, 45.5561291, -122.6237252568214, 45.5561291], &quot;geometry&quot;: {&quot;coordinates&quot;: [-122.6237252568214, 45.5561291], &quot;type&quot;: &quot;Point&quot;}, &quot;id&quot;: &quot;974&quot;, &quot;properties&quot;: {&quot;__folium_color&quot;: &quot;#3d4d8a&quot;, &quot;distance&quot;: 6494.975850491947}, &quot;type&quot;: &quot;Feature&quot;}, {&quot;bbox&quot;: [-122.54255419999998, 45.50357724999999, -122.54255419999998, 45.50357724999999], &quot;geometry&quot;: {&quot;coordinates&quot;: [-122.54255419999998, 45.50357724999999], &quot;type&quot;: &quot;Point&quot;}, &quot;id&quot;: &quot;975&quot;, &quot;properties&quot;: {&quot;__folium_color&quot;: &quot;#481b6d&quot;, &quot;distance&quot;: 2138.1850392139586}, &quot;type&quot;: &quot;Feature&quot;}, {&quot;bbox&quot;: [-122.71151520280269, 45.453652950000006, -122.71151520280269, 45.453652950000006], &quot;geometry&quot;: {&quot;coordinates&quot;: [-122.71151520280269, 45.453652950000006], &quot;type&quot;: &quot;Point&quot;}, &quot;id&quot;: &quot;976&quot;, &quot;properties&quot;: {&quot;__folium_color&quot;: &quot;#3b518b&quot;, &quot;distance&quot;: 6908.098843545746}, &quot;type&quot;: &quot;Feature&quot;}, {&quot;bbox&quot;: [-122.55154751776783, 45.471060550000004, -122.55154751776783, 45.471060550000004], &quot;geometry&quot;: {&quot;coordinates&quot;: [-122.55154751776783, 45.471060550000004], &quot;type&quot;: &quot;Point&quot;}, &quot;id&quot;: &quot;977&quot;, &quot;properties&quot;: {&quot;__folium_color&quot;: &quot;#3c508b&quot;, &quot;distance&quot;: 6858.355638841123}, &quot;type&quot;: &quot;Feature&quot;}, {&quot;bbox&quot;: [-122.72433575097577, 45.57563994999999, -122.72433575097577, 45.57563994999999], &quot;geometry&quot;: {&quot;coordinates&quot;: [-122.72433575097577, 45.57563994999999], &quot;type&quot;: &quot;Point&quot;}, &quot;id&quot;: &quot;978&quot;, &quot;properties&quot;: {&quot;__folium_color&quot;: &quot;#33638d&quot;, &quot;distance&quot;: 8708.733108051663}, &quot;type&quot;: &quot;Feature&quot;}, {&quot;bbox&quot;: [-122.68140672666439, 45.59497195, -122.68140672666439, 45.59497195], &quot;geometry&quot;: {&quot;coordinates&quot;: [-122.68140672666439, 45.59497195], &quot;type&quot;: &quot;Point&quot;}, &quot;id&quot;: &quot;979&quot;, &quot;properties&quot;: {&quot;__folium_color&quot;: &quot;#481a6c&quot;, &quot;distance&quot;: 2015.244618338811}, &quot;type&quot;: &quot;Feature&quot;}, {&quot;bbox&quot;: [-122.59999499813333, 45.4960393, -122.59999499813333, 45.4960393], &quot;geometry&quot;: {&quot;coordinates&quot;: [-122.59999499813333, 45.4960393], &quot;type&quot;: &quot;Point&quot;}, &quot;id&quot;: &quot;980&quot;, &quot;properties&quot;: {&quot;__folium_color&quot;: &quot;#46307e&quot;, &quot;distance&quot;: 3962.5485478824426}, &quot;type&quot;: &quot;Feature&quot;}, {&quot;bbox&quot;: [-122.65613385000002, 45.49595485, -122.65613385000002, 45.49595485], &quot;geometry&quot;: {&quot;coordinates&quot;: [-122.65613385000002, 45.49595485], &quot;type&quot;: &quot;Point&quot;}, &quot;id&quot;: &quot;981&quot;, &quot;properties&quot;: {&quot;__folium_color&quot;: &quot;#2b758e&quot;, &quot;distance&quot;: 10705.949273835839}, &quot;type&quot;: &quot;Feature&quot;}, {&quot;bbox&quot;: [-122.67676202487128, 45.557554100000004, -122.67676202487128, 45.557554100000004], &quot;geometry&quot;: {&quot;coordinates&quot;: [-122.67676202487128, 45.557554100000004], &quot;type&quot;: &quot;Point&quot;}, &quot;id&quot;: &quot;982&quot;, &quot;properties&quot;: {&quot;__folium_color&quot;: &quot;#482374&quot;, &quot;distance&quot;: 2814.170214562089}, &quot;type&quot;: &quot;Feature&quot;}, {&quot;bbox&quot;: [-122.65842975510205, 45.53755395918367, -122.65842975510205, 45.53755395918367], &quot;geometry&quot;: {&quot;coordinates&quot;: [-122.65842975510205, 45.53755395918367], &quot;type&quot;: &quot;Point&quot;}, &quot;id&quot;: &quot;983&quot;, &quot;properties&quot;: {&quot;__folium_color&quot;: &quot;#481a6c&quot;, &quot;distance&quot;: 2024.953734818686}, &quot;type&quot;: &quot;Feature&quot;}, {&quot;bbox&quot;: [-122.59292087234877, 45.5217838, -122.59292087234877, 45.5217838], &quot;geometry&quot;: {&quot;coordinates&quot;: [-122.59292087234877, 45.5217838], &quot;type&quot;: &quot;Point&quot;}, &quot;id&quot;: &quot;984&quot;, &quot;properties&quot;: {&quot;__folium_color&quot;: &quot;#3a538b&quot;, &quot;distance&quot;: 7122.007892218344}, &quot;type&quot;: &quot;Feature&quot;}, {&quot;bbox&quot;: [-122.72626894840255, 45.46602479999999, -122.72626894840255, 45.46602479999999], &quot;geometry&quot;: {&quot;coordinates&quot;: [-122.72626894840255, 45.46602479999999], &quot;type&quot;: &quot;Point&quot;}, &quot;id&quot;: &quot;985&quot;, &quot;properties&quot;: {&quot;__folium_color&quot;: &quot;#482475&quot;, &quot;distance&quot;: 2861.4751274490345}, &quot;type&quot;: &quot;Feature&quot;}, {&quot;bbox&quot;: [-122.57094340147823, 45.56713259432599, -122.57094340147823, 45.56713259432599], &quot;geometry&quot;: {&quot;coordinates&quot;: [-122.57094340147823, 45.56713259432599], &quot;type&quot;: &quot;Point&quot;}, &quot;id&quot;: &quot;986&quot;, &quot;properties&quot;: {&quot;__folium_color&quot;: &quot;#482173&quot;, &quot;distance&quot;: 2719.4607215486767}, &quot;type&quot;: &quot;Feature&quot;}, {&quot;bbox&quot;: [-122.68032276376022, 45.491855799999996, -122.68032276376022, 45.491855799999996], &quot;geometry&quot;: {&quot;coordinates&quot;: [-122.68032276376022, 45.491855799999996], &quot;type&quot;: &quot;Point&quot;}, &quot;id&quot;: &quot;987&quot;, &quot;properties&quot;: {&quot;__folium_color&quot;: &quot;#481f70&quot;, &quot;distance&quot;: 2447.7377928571514}, &quot;type&quot;: &quot;Feature&quot;}, {&quot;bbox&quot;: [-122.5620947924346, 45.50825609999999, -122.5620947924346, 45.50825609999999], &quot;geometry&quot;: {&quot;coordinates&quot;: [-122.5620947924346, 45.50825609999999], &quot;type&quot;: &quot;Point&quot;}, &quot;id&quot;: &quot;988&quot;, &quot;properties&quot;: {&quot;__folium_color&quot;: &quot;#20928c&quot;, &quot;distance&quot;: 13865.03170727743}, &quot;type&quot;: &quot;Feature&quot;}, {&quot;bbox&quot;: [-122.72318057944345, 45.58418544999999, -122.72318057944345, 45.58418544999999], &quot;geometry&quot;: {&quot;coordinates&quot;: [-122.72318057944345, 45.58418544999999], &quot;type&quot;: &quot;Point&quot;}, &quot;id&quot;: &quot;989&quot;, &quot;properties&quot;: {&quot;__folium_color&quot;: &quot;#355e8d&quot;, &quot;distance&quot;: 8214.579276471492}, &quot;type&quot;: &quot;Feature&quot;}, {&quot;bbox&quot;: [-122.6597167242273, 45.500306249999994, -122.6597167242273, 45.500306249999994], &quot;geometry&quot;: {&quot;coordinates&quot;: [-122.6597167242273, 45.500306249999994], &quot;type&quot;: &quot;Point&quot;}, &quot;id&quot;: &quot;990&quot;, &quot;properties&quot;: {&quot;__folium_color&quot;: &quot;#3e4a89&quot;, &quot;distance&quot;: 6287.329115189145}, &quot;type&quot;: &quot;Feature&quot;}, {&quot;bbox&quot;: [-122.65231550000001, 45.51142899999999, -122.65231550000001, 45.51142899999999], &quot;geometry&quot;: {&quot;coordinates&quot;: [-122.65231550000001, 45.51142899999999], &quot;type&quot;: &quot;Point&quot;}, &quot;id&quot;: &quot;991&quot;, &quot;properties&quot;: {&quot;__folium_color&quot;: &quot;#424186&quot;, &quot;distance&quot;: 5417.155804288424}, &quot;type&quot;: &quot;Feature&quot;}, {&quot;bbox&quot;: [-122.70300965, 45.4779996, -122.70300965, 45.4779996], &quot;geometry&quot;: {&quot;coordinates&quot;: [-122.70300965, 45.4779996], &quot;type&quot;: &quot;Point&quot;}, &quot;id&quot;: &quot;992&quot;, &quot;properties&quot;: {&quot;__folium_color&quot;: &quot;#424086&quot;, &quot;distance&quot;: 5376.456218871783}, &quot;type&quot;: &quot;Feature&quot;}, {&quot;bbox&quot;: [-122.52920979352943, 45.51829425, -122.52920979352943, 45.51829425], &quot;geometry&quot;: {&quot;coordinates&quot;: [-122.52920979352943, 45.51829425], &quot;type&quot;: &quot;Point&quot;}, &quot;id&quot;: &quot;993&quot;, &quot;properties&quot;: {&quot;__folium_color&quot;: &quot;#2c728e&quot;, &quot;distance&quot;: 10415.667314508491}, &quot;type&quot;: &quot;Feature&quot;}, {&quot;bbox&quot;: [-122.77494713431099, 45.373535935172015, -122.77494713431099, 45.373535935172015], &quot;geometry&quot;: {&quot;coordinates&quot;: [-122.77494713431099, 45.373535935172015], &quot;type&quot;: &quot;Point&quot;}, &quot;id&quot;: &quot;994&quot;, &quot;properties&quot;: {&quot;__folium_color&quot;: &quot;#238a8d&quot;, &quot;distance&quot;: 13030.638646940495}, &quot;type&quot;: &quot;Feature&quot;}, {&quot;bbox&quot;: [-122.64758634965573, 45.484125, -122.64758634965573, 45.484125], &quot;geometry&quot;: {&quot;coordinates&quot;: [-122.64758634965573, 45.484125], &quot;type&quot;: &quot;Point&quot;}, &quot;id&quot;: &quot;995&quot;, &quot;properties&quot;: {&quot;__folium_color&quot;: &quot;#30698e&quot;, &quot;distance&quot;: 9357.156206715053}, &quot;type&quot;: &quot;Feature&quot;}, {&quot;bbox&quot;: [-122.73967682405915, 45.51352794999999, -122.73967682405915, 45.51352794999999], &quot;geometry&quot;: {&quot;coordinates&quot;: [-122.73967682405915, 45.51352794999999], &quot;type&quot;: &quot;Point&quot;}, &quot;id&quot;: &quot;996&quot;, &quot;properties&quot;: {&quot;__folium_color&quot;: &quot;#3f4889&quot;, &quot;distance&quot;: 6077.113717116481}, &quot;type&quot;: &quot;Feature&quot;}, {&quot;bbox&quot;: [-122.61683892513199, 45.494694499999994, -122.61683892513199, 45.494694499999994], &quot;geometry&quot;: {&quot;coordinates&quot;: [-122.61683892513199, 45.494694499999994], &quot;type&quot;: &quot;Point&quot;}, &quot;id&quot;: &quot;997&quot;, &quot;properties&quot;: {&quot;__folium_color&quot;: &quot;#2e6e8e&quot;, &quot;distance&quot;: 9875.23865786653}, &quot;type&quot;: &quot;Feature&quot;}, {&quot;bbox&quot;: [-122.65583612762805, 45.53693085, -122.65583612762805, 45.53693085], &quot;geometry&quot;: {&quot;coordinates&quot;: [-122.65583612762805, 45.53693085], &quot;type&quot;: &quot;Point&quot;}, &quot;id&quot;: &quot;998&quot;, &quot;properties&quot;: {&quot;__folium_color&quot;: &quot;#470d60&quot;, &quot;distance&quot;: 1090.1906649982407}, &quot;type&quot;: &quot;Feature&quot;}, {&quot;bbox&quot;: [-122.63393355102039, 45.52494863265306, -122.63393355102039, 45.52494863265306], &quot;geometry&quot;: {&quot;coordinates&quot;: [-122.63393355102039, 45.52494863265306], &quot;type&quot;: &quot;Point&quot;}, &quot;id&quot;: &quot;999&quot;, &quot;properties&quot;: {&quot;__folium_color&quot;: &quot;#48186a&quot;, &quot;distance&quot;: 1984.1227776959943}, &quot;type&quot;: &quot;Feature&quot;}, {&quot;bbox&quot;: [-122.68879726000966, 45.52548445, -122.68879726000966, 45.52548445], &quot;geometry&quot;: {&quot;coordinates&quot;: [-122.68879726000966, 45.52548445], &quot;type&quot;: &quot;Point&quot;}, &quot;id&quot;: &quot;1000&quot;, &quot;properties&quot;: {&quot;__folium_color&quot;: &quot;#470d60&quot;, &quot;distance&quot;: 1068.4150708307018}, &quot;type&quot;: &quot;Feature&quot;}, {&quot;bbox&quot;: [-122.62440667515276, 45.4868527, -122.62440667515276, 45.4868527], &quot;geometry&quot;: {&quot;coordinates&quot;: [-122.62440667515276, 45.4868527], &quot;type&quot;: &quot;Point&quot;}, &quot;id&quot;: &quot;1001&quot;, &quot;properties&quot;: {&quot;__folium_color&quot;: &quot;#2b748e&quot;, &quot;distance&quot;: 10678.636089126476}, &quot;type&quot;: &quot;Feature&quot;}, {&quot;bbox&quot;: [-122.70973673462782, 45.484621149999995, -122.70973673462782, 45.484621149999995], &quot;geometry&quot;: {&quot;coordinates&quot;: [-122.70973673462782, 45.484621149999995], &quot;type&quot;: &quot;Point&quot;}, &quot;id&quot;: &quot;1002&quot;, &quot;properties&quot;: {&quot;__folium_color&quot;: &quot;#481769&quot;, &quot;distance&quot;: 1900.771028113118}, &quot;type&quot;: &quot;Feature&quot;}, {&quot;bbox&quot;: [-122.56796494416565, 45.449184249999995, -122.56796494416565, 45.449184249999995], &quot;geometry&quot;: {&quot;coordinates&quot;: [-122.56796494416565, 45.449184249999995], &quot;type&quot;: &quot;Point&quot;}, &quot;id&quot;: &quot;1003&quot;, &quot;properties&quot;: {&quot;__folium_color&quot;: &quot;#297a8e&quot;, &quot;distance&quot;: 11215.79924189953}, &quot;type&quot;: &quot;Feature&quot;}, {&quot;bbox&quot;: [-122.57231747551714, 45.53225305, -122.57231747551714, 45.53225305], &quot;geometry&quot;: {&quot;coordinates&quot;: [-122.57231747551714, 45.53225305], &quot;type&quot;: &quot;Point&quot;}, &quot;id&quot;: &quot;1004&quot;, &quot;properties&quot;: {&quot;__folium_color&quot;: &quot;#482878&quot;, &quot;distance&quot;: 3241.698514887953}, &quot;type&quot;: &quot;Feature&quot;}, {&quot;bbox&quot;: [-122.67108860000002, 45.5338152, -122.67108860000002, 45.5338152], &quot;geometry&quot;: {&quot;coordinates&quot;: [-122.67108860000002, 45.5338152], &quot;type&quot;: &quot;Point&quot;}, &quot;id&quot;: &quot;1006&quot;, &quot;properties&quot;: {&quot;__folium_color&quot;: &quot;#3e4989&quot;, &quot;distance&quot;: 6142.518420229822}, &quot;type&quot;: &quot;Feature&quot;}, {&quot;bbox&quot;: [-122.69301854757092, 45.518685299999994, -122.69301854757092, 45.518685299999994], &quot;geometry&quot;: {&quot;coordinates&quot;: [-122.69301854757092, 45.518685299999994], &quot;type&quot;: &quot;Point&quot;}, &quot;id&quot;: &quot;1007&quot;, &quot;properties&quot;: {&quot;__folium_color&quot;: &quot;#46085c&quot;, &quot;distance&quot;: 821.67980484139}, &quot;type&quot;: &quot;Feature&quot;}, {&quot;bbox&quot;: [-122.68617209622718, 45.59593049999999, -122.68617209622718, 45.59593049999999], &quot;geometry&quot;: {&quot;coordinates&quot;: [-122.68617209622718, 45.59593049999999], &quot;type&quot;: &quot;Point&quot;}, &quot;id&quot;: &quot;1008&quot;, &quot;properties&quot;: {&quot;__folium_color&quot;: &quot;#2e6d8e&quot;, &quot;distance&quot;: 9742.578808876618}, &quot;type&quot;: &quot;Feature&quot;}, {&quot;bbox&quot;: [-122.73458995614685, 45.581532849999995, -122.73458995614685, 45.581532849999995], &quot;geometry&quot;: {&quot;coordinates&quot;: [-122.73458995614685, 45.581532849999995], &quot;type&quot;: &quot;Point&quot;}, &quot;id&quot;: &quot;1009&quot;, &quot;properties&quot;: {&quot;__folium_color&quot;: &quot;#424086&quot;, &quot;distance&quot;: 5361.320486536593}, &quot;type&quot;: &quot;Feature&quot;}, {&quot;bbox&quot;: [-122.52746520200208, 45.526686749999996, -122.52746520200208, 45.526686749999996], &quot;geometry&quot;: {&quot;coordinates&quot;: [-122.52746520200208, 45.526686749999996], &quot;type&quot;: &quot;Point&quot;}, &quot;id&quot;: &quot;1010&quot;, &quot;properties&quot;: {&quot;__folium_color&quot;: &quot;#48186a&quot;, &quot;distance&quot;: 2000.8791963823026}, &quot;type&quot;: &quot;Feature&quot;}, {&quot;bbox&quot;: [-122.66807742424244, 45.546543757575755, -122.66807742424244, 45.546543757575755], &quot;geometry&quot;: {&quot;coordinates&quot;: [-122.66807742424244, 45.546543757575755], &quot;type&quot;: &quot;Point&quot;}, &quot;id&quot;: &quot;1011&quot;, &quot;properties&quot;: {&quot;__folium_color&quot;: &quot;#460b5e&quot;, &quot;distance&quot;: 991.7716743711077}, &quot;type&quot;: &quot;Feature&quot;}, {&quot;bbox&quot;: [-122.6771088877551, 45.542172540816324, -122.6771088877551, 45.542172540816324], &quot;geometry&quot;: {&quot;coordinates&quot;: [-122.6771088877551, 45.542172540816324], &quot;type&quot;: &quot;Point&quot;}, &quot;id&quot;: &quot;1012&quot;, &quot;properties&quot;: {&quot;__folium_color&quot;: &quot;#482677&quot;, &quot;distance&quot;: 3073.9455102943816}, &quot;type&quot;: &quot;Feature&quot;}, {&quot;bbox&quot;: [-122.63187624983887, 45.5074982, -122.63187624983887, 45.5074982], &quot;geometry&quot;: {&quot;coordinates&quot;: [-122.63187624983887, 45.5074982], &quot;type&quot;: &quot;Point&quot;}, &quot;id&quot;: &quot;1013&quot;, &quot;properties&quot;: {&quot;__folium_color&quot;: &quot;#33638d&quot;, &quot;distance&quot;: 8696.926781639544}, &quot;type&quot;: &quot;Feature&quot;}, {&quot;bbox&quot;: [-122.63129382504839, 45.50101629999999, -122.63129382504839, 45.50101629999999], &quot;geometry&quot;: {&quot;coordinates&quot;: [-122.63129382504839, 45.50101629999999], &quot;type&quot;: &quot;Point&quot;}, &quot;id&quot;: &quot;1014&quot;, &quot;properties&quot;: {&quot;__folium_color&quot;: &quot;#46327e&quot;, &quot;distance&quot;: 4096.202097141965}, &quot;type&quot;: &quot;Feature&quot;}, {&quot;bbox&quot;: [-122.59055419999999, 45.5895038, -122.59055419999999, 45.5895038], &quot;geometry&quot;: {&quot;coordinates&quot;: [-122.59055419999999, 45.5895038], &quot;type&quot;: &quot;Point&quot;}, &quot;id&quot;: &quot;1015&quot;, &quot;properties&quot;: {&quot;__folium_color&quot;: &quot;#2e6f8e&quot;, &quot;distance&quot;: 9988.514078602602}, &quot;type&quot;: &quot;Feature&quot;}, {&quot;bbox&quot;: [-122.68297969999999, 45.524118300000005, -122.68297969999999, 45.524118300000005], &quot;geometry&quot;: {&quot;coordinates&quot;: [-122.68297969999999, 45.524118300000005], &quot;type&quot;: &quot;Point&quot;}, &quot;id&quot;: &quot;1016&quot;, &quot;properties&quot;: {&quot;__folium_color&quot;: &quot;#3a548c&quot;, &quot;distance&quot;: 7207.349642498532}, &quot;type&quot;: &quot;Feature&quot;}, {&quot;bbox&quot;: [-122.69772738775508, 45.52971765306122, -122.69772738775508, 45.52971765306122], &quot;geometry&quot;: {&quot;coordinates&quot;: [-122.69772738775508, 45.52971765306122], &quot;type&quot;: &quot;Point&quot;}, &quot;id&quot;: &quot;1017&quot;, &quot;properties&quot;: {&quot;__folium_color&quot;: &quot;#481b6d&quot;, &quot;distance&quot;: 2152.7192463146125}, &quot;type&quot;: &quot;Feature&quot;}, {&quot;bbox&quot;: [-122.6630902, 45.55227044999999, -122.6630902, 45.55227044999999], &quot;geometry&quot;: {&quot;coordinates&quot;: [-122.6630902, 45.55227044999999], &quot;type&quot;: &quot;Point&quot;}, &quot;id&quot;: &quot;1018&quot;, &quot;properties&quot;: {&quot;__folium_color&quot;: &quot;#481769&quot;, &quot;distance&quot;: 1872.9437915000021}, &quot;type&quot;: &quot;Feature&quot;}, {&quot;bbox&quot;: [-122.66593725000001, 45.542662449999995, -122.66593725000001, 45.542662449999995], &quot;geometry&quot;: {&quot;coordinates&quot;: [-122.66593725000001, 45.542662449999995], &quot;type&quot;: &quot;Point&quot;}, &quot;id&quot;: &quot;1020&quot;, &quot;properties&quot;: {&quot;__folium_color&quot;: &quot;#48186a&quot;, &quot;distance&quot;: 1928.832711057036}, &quot;type&quot;: &quot;Feature&quot;}, {&quot;bbox&quot;: [-122.66247686335106, 45.56091525, -122.66247686335106, 45.56091525], &quot;geometry&quot;: {&quot;coordinates&quot;: [-122.66247686335106, 45.56091525], &quot;type&quot;: &quot;Point&quot;}, &quot;id&quot;: &quot;1021&quot;, &quot;properties&quot;: {&quot;__folium_color&quot;: &quot;#460b5e&quot;, &quot;distance&quot;: 1038.0510284042684}, &quot;type&quot;: &quot;Feature&quot;}, {&quot;bbox&quot;: [-122.68106298311258, 45.50902264999999, -122.68106298311258, 45.50902264999999], &quot;geometry&quot;: {&quot;coordinates&quot;: [-122.68106298311258, 45.50902264999999], &quot;type&quot;: &quot;Point&quot;}, &quot;id&quot;: &quot;1022&quot;, &quot;properties&quot;: {&quot;__folium_color&quot;: &quot;#481467&quot;, &quot;distance&quot;: 1685.1332913237272}, &quot;type&quot;: &quot;Feature&quot;}, {&quot;bbox&quot;: [-122.56821666226958, 45.493470699999996, -122.56821666226958, 45.493470699999996], &quot;geometry&quot;: {&quot;coordinates&quot;: [-122.56821666226958, 45.493470699999996], &quot;type&quot;: &quot;Point&quot;}, &quot;id&quot;: &quot;1023&quot;, &quot;properties&quot;: {&quot;__folium_color&quot;: &quot;#20a486&quot;, &quot;distance&quot;: 16020.579606722684}, &quot;type&quot;: &quot;Feature&quot;}, {&quot;bbox&quot;: [-122.76235969933079, 45.502734000000004, -122.76235969933079, 45.502734000000004], &quot;geometry&quot;: {&quot;coordinates&quot;: [-122.76235969933079, 45.502734000000004], &quot;type&quot;: &quot;Point&quot;}, &quot;id&quot;: &quot;1024&quot;, &quot;properties&quot;: {&quot;__folium_color&quot;: &quot;#34608d&quot;, &quot;distance&quot;: 8425.327774594625}, &quot;type&quot;: &quot;Feature&quot;}, {&quot;bbox&quot;: [-122.75681006824041, 45.4788272, -122.75681006824041, 45.4788272], &quot;geometry&quot;: {&quot;coordinates&quot;: [-122.75681006824041, 45.4788272], &quot;type&quot;: &quot;Point&quot;}, &quot;id&quot;: &quot;1025&quot;, &quot;properties&quot;: {&quot;__folium_color&quot;: &quot;#3f4788&quot;, &quot;distance&quot;: 6010.191570852702}, &quot;type&quot;: &quot;Feature&quot;}, {&quot;bbox&quot;: [-122.60474199999997, 45.5559565, -122.60474199999997, 45.5559565], &quot;geometry&quot;: {&quot;coordinates&quot;: [-122.60474199999997, 45.5559565], &quot;type&quot;: &quot;Point&quot;}, &quot;id&quot;: &quot;1026&quot;, &quot;properties&quot;: {&quot;__folium_color&quot;: &quot;#2b758e&quot;, &quot;distance&quot;: 10742.727209765138}, &quot;type&quot;: &quot;Feature&quot;}, {&quot;bbox&quot;: [-122.70169353363275, 45.454553849999996, -122.70169353363275, 45.454553849999996], &quot;geometry&quot;: {&quot;coordinates&quot;: [-122.70169353363275, 45.454553849999996], &quot;type&quot;: &quot;Point&quot;}, &quot;id&quot;: &quot;1027&quot;, &quot;properties&quot;: {&quot;__folium_color&quot;: &quot;#46327e&quot;, &quot;distance&quot;: 4101.026952835292}, &quot;type&quot;: &quot;Feature&quot;}, {&quot;bbox&quot;: [-122.58430819849218, 45.557809299999995, -122.58430819849218, 45.557809299999995], &quot;geometry&quot;: {&quot;coordinates&quot;: [-122.58430819849218, 45.557809299999995], &quot;type&quot;: &quot;Point&quot;}, &quot;id&quot;: &quot;1028&quot;, &quot;properties&quot;: {&quot;__folium_color&quot;: &quot;#460b5e&quot;, &quot;distance&quot;: 1034.1820426950262}, &quot;type&quot;: &quot;Feature&quot;}, {&quot;bbox&quot;: [-122.71891764867699, 45.5367749573471, -122.71891764867699, 45.5367749573471], &quot;geometry&quot;: {&quot;coordinates&quot;: [-122.71891764867699, 45.5367749573471], &quot;type&quot;: &quot;Point&quot;}, &quot;id&quot;: &quot;1029&quot;, &quot;properties&quot;: {&quot;__folium_color&quot;: &quot;#481b6d&quot;, &quot;distance&quot;: 2212.972513506932}, &quot;type&quot;: &quot;Feature&quot;}, {&quot;bbox&quot;: [-122.51586301387444, 45.548354399999994, -122.51586301387444, 45.548354399999994], &quot;geometry&quot;: {&quot;coordinates&quot;: [-122.51586301387444, 45.548354399999994], &quot;type&quot;: &quot;Point&quot;}, &quot;id&quot;: &quot;1030&quot;, &quot;properties&quot;: {&quot;__folium_color&quot;: &quot;#48c16e&quot;, &quot;distance&quot;: 19465.312883296127}, &quot;type&quot;: &quot;Feature&quot;}, {&quot;bbox&quot;: [-122.67582139024192, 45.502803400000005, -122.67582139024192, 45.502803400000005], &quot;geometry&quot;: {&quot;coordinates&quot;: [-122.67582139024192, 45.502803400000005], &quot;type&quot;: &quot;Point&quot;}, &quot;id&quot;: &quot;1031&quot;, &quot;properties&quot;: {&quot;__folium_color&quot;: &quot;#482374&quot;, &quot;distance&quot;: 2815.235374081175}, &quot;type&quot;: &quot;Feature&quot;}, {&quot;bbox&quot;: [-122.67722125991409, 45.49131985, -122.67722125991409, 45.49131985], &quot;geometry&quot;: {&quot;coordinates&quot;: [-122.67722125991409, 45.49131985], &quot;type&quot;: &quot;Point&quot;}, &quot;id&quot;: &quot;1032&quot;, &quot;properties&quot;: {&quot;__folium_color&quot;: &quot;#453882&quot;, &quot;distance&quot;: 4644.046511357214}, &quot;type&quot;: &quot;Feature&quot;}, {&quot;bbox&quot;: [-122.69340123215618, 45.586518549999994, -122.69340123215618, 45.586518549999994], &quot;geometry&quot;: {&quot;coordinates&quot;: [-122.69340123215618, 45.586518549999994], &quot;type&quot;: &quot;Point&quot;}, &quot;id&quot;: &quot;1033&quot;, &quot;properties&quot;: {&quot;__folium_color&quot;: &quot;#460b5e&quot;, &quot;distance&quot;: 972.1221737222879}, &quot;type&quot;: &quot;Feature&quot;}, {&quot;bbox&quot;: [-122.66563175166444, 45.59127659999999, -122.66563175166444, 45.59127659999999], &quot;geometry&quot;: {&quot;coordinates&quot;: [-122.66563175166444, 45.59127659999999], &quot;type&quot;: &quot;Point&quot;}, &quot;id&quot;: &quot;1034&quot;, &quot;properties&quot;: {&quot;__folium_color&quot;: &quot;#2f6c8e&quot;, &quot;distance&quot;: 9645.274687477227}, &quot;type&quot;: &quot;Feature&quot;}, {&quot;bbox&quot;: [-122.5816758, 45.57154310000001, -122.5816758, 45.57154310000001], &quot;geometry&quot;: {&quot;coordinates&quot;: [-122.5816758, 45.57154310000001], &quot;type&quot;: &quot;Point&quot;}, &quot;id&quot;: &quot;1036&quot;, &quot;properties&quot;: {&quot;__folium_color&quot;: &quot;#482677&quot;, &quot;distance&quot;: 3163.3405417768904}, &quot;type&quot;: &quot;Feature&quot;}, {&quot;bbox&quot;: [-122.80082988653271, 45.514086899999995, -122.80082988653271, 45.514086899999995], &quot;geometry&quot;: {&quot;coordinates&quot;: [-122.80082988653271, 45.514086899999995], &quot;type&quot;: &quot;Point&quot;}, &quot;id&quot;: &quot;1037&quot;, &quot;properties&quot;: {&quot;__folium_color&quot;: &quot;#238a8d&quot;, &quot;distance&quot;: 13068.608946272481}, &quot;type&quot;: &quot;Feature&quot;}, {&quot;bbox&quot;: [-122.70161974106328, 45.50918865, -122.70161974106328, 45.50918865], &quot;geometry&quot;: {&quot;coordinates&quot;: [-122.70161974106328, 45.50918865], &quot;type&quot;: &quot;Point&quot;}, &quot;id&quot;: &quot;1038&quot;, &quot;properties&quot;: {&quot;__folium_color&quot;: &quot;#3d4d8a&quot;, &quot;distance&quot;: 6529.374885430191}, &quot;type&quot;: &quot;Feature&quot;}, {&quot;bbox&quot;: [-122.57413298352861, 45.547256850000004, -122.57413298352861, 45.547256850000004], &quot;geometry&quot;: {&quot;coordinates&quot;: [-122.57413298352861, 45.547256850000004], &quot;type&quot;: &quot;Point&quot;}, &quot;id&quot;: &quot;1039&quot;, &quot;properties&quot;: {&quot;__folium_color&quot;: &quot;#39568c&quot;, &quot;distance&quot;: 7419.064836355529}, &quot;type&quot;: &quot;Feature&quot;}, {&quot;bbox&quot;: [-122.75673108541926, 45.5942018, -122.75673108541926, 45.5942018], &quot;geometry&quot;: {&quot;coordinates&quot;: [-122.75673108541926, 45.5942018], &quot;type&quot;: &quot;Point&quot;}, &quot;id&quot;: &quot;1040&quot;, &quot;properties&quot;: {&quot;__folium_color&quot;: &quot;#297b8e&quot;, &quot;distance&quot;: 11344.731516618624}, &quot;type&quot;: &quot;Feature&quot;}, {&quot;bbox&quot;: [-122.60667957736365, 45.467088399999994, -122.60667957736365, 45.467088399999994], &quot;geometry&quot;: {&quot;coordinates&quot;: [-122.60667957736365, 45.467088399999994], &quot;type&quot;: &quot;Point&quot;}, &quot;id&quot;: &quot;1041&quot;, &quot;properties&quot;: {&quot;__folium_color&quot;: &quot;#48186a&quot;, &quot;distance&quot;: 1985.8378430321109}, &quot;type&quot;: &quot;Feature&quot;}, {&quot;bbox&quot;: [-122.50174677446081, 45.53219285, -122.50174677446081, 45.53219285], &quot;geometry&quot;: {&quot;coordinates&quot;: [-122.50174677446081, 45.53219285], &quot;type&quot;: &quot;Point&quot;}, &quot;id&quot;: &quot;1043&quot;, &quot;properties&quot;: {&quot;__folium_color&quot;: &quot;#25ac82&quot;, &quot;distance&quot;: 16885.669619308905}, &quot;type&quot;: &quot;Feature&quot;}, {&quot;bbox&quot;: [-122.73773375279531, 45.46237395, -122.73773375279531, 45.46237395], &quot;geometry&quot;: {&quot;coordinates&quot;: [-122.73773375279531, 45.46237395], &quot;type&quot;: &quot;Point&quot;}, &quot;id&quot;: &quot;1044&quot;, &quot;properties&quot;: {&quot;__folium_color&quot;: &quot;#25838e&quot;, &quot;distance&quot;: 12358.322135084452}, &quot;type&quot;: &quot;Feature&quot;}, {&quot;bbox&quot;: [-122.66518907396735, 45.50867971816398, -122.66518907396735, 45.50867971816398], &quot;geometry&quot;: {&quot;coordinates&quot;: [-122.66518907396735, 45.50867971816398], &quot;type&quot;: &quot;Point&quot;}, &quot;id&quot;: &quot;1045&quot;, &quot;properties&quot;: {&quot;__folium_color&quot;: &quot;#3c4f8a&quot;, &quot;distance&quot;: 6720.269880586869}, &quot;type&quot;: &quot;Feature&quot;}, {&quot;bbox&quot;: [-122.63245309999998, 45.5000274, -122.63245309999998, 45.5000274], &quot;geometry&quot;: {&quot;coordinates&quot;: [-122.63245309999998, 45.5000274], &quot;type&quot;: &quot;Point&quot;}, &quot;id&quot;: &quot;1046&quot;, &quot;properties&quot;: {&quot;__folium_color&quot;: &quot;#46327e&quot;, &quot;distance&quot;: 4034.048699916644}, &quot;type&quot;: &quot;Feature&quot;}, {&quot;bbox&quot;: [-122.70168451552213, 45.57899905, -122.70168451552213, 45.57899905], &quot;geometry&quot;: {&quot;coordinates&quot;: [-122.70168451552213, 45.57899905], &quot;type&quot;: &quot;Point&quot;}, &quot;id&quot;: &quot;1047&quot;, &quot;properties&quot;: {&quot;__folium_color&quot;: &quot;#2f6c8e&quot;, &quot;distance&quot;: 9682.707629560273}, &quot;type&quot;: &quot;Feature&quot;}, {&quot;bbox&quot;: [-122.56483179073435, 45.48920895, -122.56483179073435, 45.48920895], &quot;geometry&quot;: {&quot;coordinates&quot;: [-122.56483179073435, 45.48920895], &quot;type&quot;: &quot;Point&quot;}, &quot;id&quot;: &quot;1048&quot;, &quot;properties&quot;: {&quot;__folium_color&quot;: &quot;#38598c&quot;, &quot;distance&quot;: 7654.505694974274}, &quot;type&quot;: &quot;Feature&quot;}, {&quot;bbox&quot;: [-122.55586045, 45.55338059999999, -122.55586045, 45.55338059999999], &quot;geometry&quot;: {&quot;coordinates&quot;: [-122.55586045, 45.55338059999999], &quot;type&quot;: &quot;Point&quot;}, &quot;id&quot;: &quot;1049&quot;, &quot;properties&quot;: {&quot;__folium_color&quot;: &quot;#2f6b8e&quot;, &quot;distance&quot;: 9592.08757573193}, &quot;type&quot;: &quot;Feature&quot;}, {&quot;bbox&quot;: [-122.7137417, 45.458901800000014, -122.7137417, 45.458901800000014], &quot;geometry&quot;: {&quot;coordinates&quot;: [-122.7137417, 45.458901800000014], &quot;type&quot;: &quot;Point&quot;}, &quot;id&quot;: &quot;1050&quot;, &quot;properties&quot;: {&quot;__folium_color&quot;: &quot;#481b6d&quot;, &quot;distance&quot;: 2165.5609390257396}, &quot;type&quot;: &quot;Feature&quot;}, {&quot;bbox&quot;: [-122.68715112970656, 45.5665115, -122.68715112970656, 45.5665115], &quot;geometry&quot;: {&quot;coordinates&quot;: [-122.68715112970656, 45.5665115], &quot;type&quot;: &quot;Point&quot;}, &quot;id&quot;: &quot;1051&quot;, &quot;properties&quot;: {&quot;__folium_color&quot;: &quot;#482071&quot;, &quot;distance&quot;: 2592.711032374269}, &quot;type&quot;: &quot;Feature&quot;}, {&quot;bbox&quot;: [-122.65745376798239, 45.5728285, -122.65745376798239, 45.5728285], &quot;geometry&quot;: {&quot;coordinates&quot;: [-122.65745376798239, 45.5728285], &quot;type&quot;: &quot;Point&quot;}, &quot;id&quot;: &quot;1052&quot;, &quot;properties&quot;: {&quot;__folium_color&quot;: &quot;#433d84&quot;, &quot;distance&quot;: 5076.579371430263}, &quot;type&quot;: &quot;Feature&quot;}, {&quot;bbox&quot;: [-122.67815249999997, 45.5232118, -122.67815249999997, 45.5232118], &quot;geometry&quot;: {&quot;coordinates&quot;: [-122.67815249999997, 45.5232118], &quot;type&quot;: &quot;Point&quot;}, &quot;id&quot;: &quot;1053&quot;, &quot;properties&quot;: {&quot;__folium_color&quot;: &quot;#482576&quot;, &quot;distance&quot;: 3028.6110150889567}, &quot;type&quot;: &quot;Feature&quot;}, {&quot;bbox&quot;: [-122.74219628931637, 45.47296115, -122.74219628931637, 45.47296115], &quot;geometry&quot;: {&quot;coordinates&quot;: [-122.74219628931637, 45.47296115], &quot;type&quot;: &quot;Point&quot;}, &quot;id&quot;: &quot;1054&quot;, &quot;properties&quot;: {&quot;__folium_color&quot;: &quot;#424186&quot;, &quot;distance&quot;: 5465.559576705049}, &quot;type&quot;: &quot;Feature&quot;}, {&quot;bbox&quot;: [-122.63124359999999, 45.5184238, -122.63124359999999, 45.5184238], &quot;geometry&quot;: {&quot;coordinates&quot;: [-122.63124359999999, 45.5184238], &quot;type&quot;: &quot;Point&quot;}, &quot;id&quot;: &quot;1055&quot;, &quot;properties&quot;: {&quot;__folium_color&quot;: &quot;#470d60&quot;, &quot;distance&quot;: 1077.621508381269}, &quot;type&quot;: &quot;Feature&quot;}, {&quot;bbox&quot;: [-122.68373839760916, 45.44835154999999, -122.68373839760916, 45.44835154999999], &quot;geometry&quot;: {&quot;coordinates&quot;: [-122.68373839760916, 45.44835154999999], &quot;type&quot;: &quot;Point&quot;}, &quot;id&quot;: &quot;1056&quot;, &quot;properties&quot;: {&quot;__folium_color&quot;: &quot;#453882&quot;, &quot;distance&quot;: 4611.431794048451}, &quot;type&quot;: &quot;Feature&quot;}, {&quot;bbox&quot;: [-122.71383103581468, 45.5629818, -122.71383103581468, 45.5629818], &quot;geometry&quot;: {&quot;coordinates&quot;: [-122.71383103581468, 45.5629818], &quot;type&quot;: &quot;Point&quot;}, &quot;id&quot;: &quot;1057&quot;, &quot;properties&quot;: {&quot;__folium_color&quot;: &quot;#38598c&quot;, &quot;distance&quot;: 7642.75772179919}, &quot;type&quot;: &quot;Feature&quot;}, {&quot;bbox&quot;: [-122.73310544349314, 45.5765172, -122.73310544349314, 45.5765172], &quot;geometry&quot;: {&quot;coordinates&quot;: [-122.73310544349314, 45.5765172], &quot;type&quot;: &quot;Point&quot;}, &quot;id&quot;: &quot;1058&quot;, &quot;properties&quot;: {&quot;__folium_color&quot;: &quot;#5cc863&quot;, &quot;distance&quot;: 20433.017597839877}, &quot;type&quot;: &quot;Feature&quot;}, {&quot;bbox&quot;: [-122.59195176326156, 45.55260865, -122.59195176326156, 45.55260865], &quot;geometry&quot;: {&quot;coordinates&quot;: [-122.59195176326156, 45.55260865], &quot;type&quot;: &quot;Point&quot;}, &quot;id&quot;: &quot;1059&quot;, &quot;properties&quot;: {&quot;__folium_color&quot;: &quot;#3c508b&quot;, &quot;distance&quot;: 6849.298730623625}, &quot;type&quot;: &quot;Feature&quot;}, {&quot;bbox&quot;: [-122.62701915052546, 45.48326169999999, -122.62701915052546, 45.48326169999999], &quot;geometry&quot;: {&quot;coordinates&quot;: [-122.62701915052546, 45.48326169999999], &quot;type&quot;: &quot;Point&quot;}, &quot;id&quot;: &quot;1060&quot;, &quot;properties&quot;: {&quot;__folium_color&quot;: &quot;#2d718e&quot;, &quot;distance&quot;: 10224.139276313272}, &quot;type&quot;: &quot;Feature&quot;}, {&quot;bbox&quot;: [-122.71183099999999, 45.47373, -122.71183099999999, 45.47373], &quot;geometry&quot;: {&quot;coordinates&quot;: [-122.71183099999999, 45.47373], &quot;type&quot;: &quot;Point&quot;}, &quot;id&quot;: &quot;1061&quot;, &quot;properties&quot;: {&quot;__folium_color&quot;: &quot;#481b6d&quot;, &quot;distance&quot;: 2200.179015230254}, &quot;type&quot;: &quot;Feature&quot;}, {&quot;bbox&quot;: [-122.69802038441564, 45.557452399999995, -122.69802038441564, 45.557452399999995], &quot;geometry&quot;: {&quot;coordinates&quot;: [-122.69802038441564, 45.557452399999995], &quot;type&quot;: &quot;Point&quot;}, &quot;id&quot;: &quot;1062&quot;, &quot;properties&quot;: {&quot;__folium_color&quot;: &quot;#3e4a89&quot;, &quot;distance&quot;: 6244.21212747291}, &quot;type&quot;: &quot;Feature&quot;}, {&quot;bbox&quot;: [-122.68714595000002, 45.47616650000001, -122.68714595000002, 45.47616650000001], &quot;geometry&quot;: {&quot;coordinates&quot;: [-122.68714595000002, 45.47616650000001], &quot;type&quot;: &quot;Point&quot;}, &quot;id&quot;: &quot;1063&quot;, &quot;properties&quot;: {&quot;__folium_color&quot;: &quot;#460b5e&quot;, &quot;distance&quot;: 967.4224441819528}, &quot;type&quot;: &quot;Feature&quot;}, {&quot;bbox&quot;: [-122.60240244265371, 45.48058395, -122.60240244265371, 45.48058395], &quot;geometry&quot;: {&quot;coordinates&quot;: [-122.60240244265371, 45.48058395], &quot;type&quot;: &quot;Point&quot;}, &quot;id&quot;: &quot;1064&quot;, &quot;properties&quot;: {&quot;__folium_color&quot;: &quot;#470d60&quot;, &quot;distance&quot;: 1108.9548270206271}, &quot;type&quot;: &quot;Feature&quot;}, {&quot;bbox&quot;: [-122.68271949685939, 45.469199399999994, -122.68271949685939, 45.469199399999994], &quot;geometry&quot;: {&quot;coordinates&quot;: [-122.68271949685939, 45.469199399999994], &quot;type&quot;: &quot;Point&quot;}, &quot;id&quot;: &quot;1065&quot;, &quot;properties&quot;: {&quot;__folium_color&quot;: &quot;#365c8d&quot;, &quot;distance&quot;: 7936.977369595937}, &quot;type&quot;: &quot;Feature&quot;}, {&quot;bbox&quot;: [-122.65533299999997, 45.558078800000004, -122.65533299999997, 45.558078800000004], &quot;geometry&quot;: {&quot;coordinates&quot;: [-122.65533299999997, 45.558078800000004], &quot;type&quot;: &quot;Point&quot;}, &quot;id&quot;: &quot;1066&quot;, &quot;properties&quot;: {&quot;__folium_color&quot;: &quot;#3b528b&quot;, &quot;distance&quot;: 7050.898181365974}, &quot;type&quot;: &quot;Feature&quot;}, {&quot;bbox&quot;: [-122.59175289999999, 45.567109300000006, -122.59175289999999, 45.567109300000006], &quot;geometry&quot;: {&quot;coordinates&quot;: [-122.59175289999999, 45.567109300000006], &quot;type&quot;: &quot;Point&quot;}, &quot;id&quot;: &quot;1067&quot;, &quot;properties&quot;: {&quot;__folium_color&quot;: &quot;#482173&quot;, &quot;distance&quot;: 2718.4270486338364}, &quot;type&quot;: &quot;Feature&quot;}, {&quot;bbox&quot;: [-122.63750754769666, 45.52472849999999, -122.63750754769666, 45.52472849999999], &quot;geometry&quot;: {&quot;coordinates&quot;: [-122.63750754769666, 45.52472849999999], &quot;type&quot;: &quot;Point&quot;}, &quot;id&quot;: &quot;1069&quot;, &quot;properties&quot;: {&quot;__folium_color&quot;: &quot;#424186&quot;, &quot;distance&quot;: 5434.136858604302}, &quot;type&quot;: &quot;Feature&quot;}, {&quot;bbox&quot;: [-122.69402091952108, 45.49098535, -122.69402091952108, 45.49098535], &quot;geometry&quot;: {&quot;coordinates&quot;: [-122.69402091952108, 45.49098535], &quot;type&quot;: &quot;Point&quot;}, &quot;id&quot;: &quot;1070&quot;, &quot;properties&quot;: {&quot;__folium_color&quot;: &quot;#453882&quot;, &quot;distance&quot;: 4565.8757951246425}, &quot;type&quot;: &quot;Feature&quot;}, {&quot;bbox&quot;: [-122.59197354323027, 45.50025875, -122.59197354323027, 45.50025875], &quot;geometry&quot;: {&quot;coordinates&quot;: [-122.59197354323027, 45.50025875], &quot;type&quot;: &quot;Point&quot;}, &quot;id&quot;: &quot;1071&quot;, &quot;properties&quot;: {&quot;__folium_color&quot;: &quot;#3d4d8a&quot;, &quot;distance&quot;: 6505.267008312252}, &quot;type&quot;: &quot;Feature&quot;}, {&quot;bbox&quot;: [-122.71319814224078, 45.49709385, -122.71319814224078, 45.49709385], &quot;geometry&quot;: {&quot;coordinates&quot;: [-122.71319814224078, 45.49709385], &quot;type&quot;: &quot;Point&quot;}, &quot;id&quot;: &quot;1073&quot;, &quot;properties&quot;: {&quot;__folium_color&quot;: &quot;#297b8e&quot;, &quot;distance&quot;: 11375.165374168555}, &quot;type&quot;: &quot;Feature&quot;}, {&quot;bbox&quot;: [-122.64427819999997, 45.4551783, -122.64427819999997, 45.4551783], &quot;geometry&quot;: {&quot;coordinates&quot;: [-122.64427819999997, 45.4551783], &quot;type&quot;: &quot;Point&quot;}, &quot;id&quot;: &quot;1074&quot;, &quot;properties&quot;: {&quot;__folium_color&quot;: &quot;#481b6d&quot;, &quot;distance&quot;: 2189.771438876507}, &quot;type&quot;: &quot;Feature&quot;}, {&quot;bbox&quot;: [-122.58606090443334, 45.492553799999996, -122.58606090443334, 45.492553799999996], &quot;geometry&quot;: {&quot;coordinates&quot;: [-122.58606090443334, 45.492553799999996], &quot;type&quot;: &quot;Point&quot;}, &quot;id&quot;: &quot;1075&quot;, &quot;properties&quot;: {&quot;__folium_color&quot;: &quot;#3d4d8a&quot;, &quot;distance&quot;: 6543.06180093562}, &quot;type&quot;: &quot;Feature&quot;}, {&quot;bbox&quot;: [-122.56062805, 45.5332183, -122.56062805, 45.5332183], &quot;geometry&quot;: {&quot;coordinates&quot;: [-122.56062805, 45.5332183], &quot;type&quot;: &quot;Point&quot;}, &quot;id&quot;: &quot;1076&quot;, &quot;properties&quot;: {&quot;__folium_color&quot;: &quot;#3a538b&quot;, &quot;distance&quot;: 7189.851868508309}, &quot;type&quot;: &quot;Feature&quot;}, {&quot;bbox&quot;: [-122.70907747651006, 45.58105097986577, -122.70907747651006, 45.58105097986577], &quot;geometry&quot;: {&quot;coordinates&quot;: [-122.70907747651006, 45.58105097986577], &quot;type&quot;: &quot;Point&quot;}, &quot;id&quot;: &quot;1077&quot;, &quot;properties&quot;: {&quot;__folium_color&quot;: &quot;#443b84&quot;, &quot;distance&quot;: 4886.351526436743}, &quot;type&quot;: &quot;Feature&quot;}, {&quot;bbox&quot;: [-122.74152232215864, 45.51633887656352, -122.74152232215864, 45.51633887656352], &quot;geometry&quot;: {&quot;coordinates&quot;: [-122.74152232215864, 45.51633887656352], &quot;type&quot;: &quot;Point&quot;}, &quot;id&quot;: &quot;1078&quot;, &quot;properties&quot;: {&quot;__folium_color&quot;: &quot;#30698e&quot;, &quot;distance&quot;: 9354.282604190395}, &quot;type&quot;: &quot;Feature&quot;}, {&quot;bbox&quot;: [-122.7022952, 45.505563599999995, -122.7022952, 45.505563599999995], &quot;geometry&quot;: {&quot;coordinates&quot;: [-122.7022952, 45.505563599999995], &quot;type&quot;: &quot;Point&quot;}, &quot;id&quot;: &quot;1079&quot;, &quot;properties&quot;: {&quot;__folium_color&quot;: &quot;#2c718e&quot;, &quot;distance&quot;: 10368.260562393798}, &quot;type&quot;: &quot;Feature&quot;}, {&quot;bbox&quot;: [-122.7081153, 45.532970399999996, -122.7081153, 45.532970399999996], &quot;geometry&quot;: {&quot;coordinates&quot;: [-122.7081153, 45.532970399999996], &quot;type&quot;: &quot;Point&quot;}, &quot;id&quot;: &quot;1080&quot;, &quot;properties&quot;: {&quot;__folium_color&quot;: &quot;#482979&quot;, &quot;distance&quot;: 3329.2127133385675}, &quot;type&quot;: &quot;Feature&quot;}, {&quot;bbox&quot;: [-122.68140672666439, 45.59497195, -122.68140672666439, 45.59497195], &quot;geometry&quot;: {&quot;coordinates&quot;: [-122.68140672666439, 45.59497195], &quot;type&quot;: &quot;Point&quot;}, &quot;id&quot;: &quot;1081&quot;, &quot;properties&quot;: {&quot;__folium_color&quot;: &quot;#481a6c&quot;, &quot;distance&quot;: 2015.244618338811}, &quot;type&quot;: &quot;Feature&quot;}, {&quot;bbox&quot;: [-122.56277434082031, 45.49014805, -122.56277434082031, 45.49014805], &quot;geometry&quot;: {&quot;coordinates&quot;: [-122.56277434082031, 45.49014805], &quot;type&quot;: &quot;Point&quot;}, &quot;id&quot;: &quot;1082&quot;, &quot;properties&quot;: {&quot;__folium_color&quot;: &quot;#433d84&quot;, &quot;distance&quot;: 5014.499444243124}, &quot;type&quot;: &quot;Feature&quot;}, {&quot;bbox&quot;: [-122.60323265159536, 45.489857099999995, -122.60323265159536, 45.489857099999995], &quot;geometry&quot;: {&quot;coordinates&quot;: [-122.60323265159536, 45.489857099999995], &quot;type&quot;: &quot;Point&quot;}, &quot;id&quot;: &quot;1083&quot;, &quot;properties&quot;: {&quot;__folium_color&quot;: &quot;#2c718e&quot;, &quot;distance&quot;: 10288.449172006547}, &quot;type&quot;: &quot;Feature&quot;}, {&quot;bbox&quot;: [-122.68956379423076, 45.509261099999996, -122.68956379423076, 45.509261099999996], &quot;geometry&quot;: {&quot;coordinates&quot;: [-122.68956379423076, 45.509261099999996], &quot;type&quot;: &quot;Point&quot;}, &quot;id&quot;: &quot;1084&quot;, &quot;properties&quot;: {&quot;__folium_color&quot;: &quot;#481467&quot;, &quot;distance&quot;: 1627.345859908422}, &quot;type&quot;: &quot;Feature&quot;}, {&quot;bbox&quot;: [-122.74041996760333, 45.51438815, -122.74041996760333, 45.51438815], &quot;geometry&quot;: {&quot;coordinates&quot;: [-122.74041996760333, 45.51438815], &quot;type&quot;: &quot;Point&quot;}, &quot;id&quot;: &quot;1085&quot;, &quot;properties&quot;: {&quot;__folium_color&quot;: &quot;#30698e&quot;, &quot;distance&quot;: 9382.637714749844}, &quot;type&quot;: &quot;Feature&quot;}, {&quot;bbox&quot;: [-122.73170863626814, 45.55681757412667, -122.73170863626814, 45.55681757412667], &quot;geometry&quot;: {&quot;coordinates&quot;: [-122.73170863626814, 45.55681757412667], &quot;type&quot;: &quot;Point&quot;}, &quot;id&quot;: &quot;1086&quot;, &quot;properties&quot;: {&quot;__folium_color&quot;: &quot;#3c4f8a&quot;, &quot;distance&quot;: 6758.000985353955}, &quot;type&quot;: &quot;Feature&quot;}, {&quot;bbox&quot;: [-122.7161962, 45.6157785, -122.7161962, 45.6157785], &quot;geometry&quot;: {&quot;coordinates&quot;: [-122.7161962, 45.6157785], &quot;type&quot;: &quot;Point&quot;}, &quot;id&quot;: &quot;1087&quot;, &quot;properties&quot;: {&quot;__folium_color&quot;: &quot;#2e6d8e&quot;, &quot;distance&quot;: 9831.324164876973}, &quot;type&quot;: &quot;Feature&quot;}, {&quot;bbox&quot;: [-122.75062645291308, 45.63817715, -122.75062645291308, 45.63817715], &quot;geometry&quot;: {&quot;coordinates&quot;: [-122.75062645291308, 45.63817715], &quot;type&quot;: &quot;Point&quot;}, &quot;id&quot;: &quot;1088&quot;, &quot;properties&quot;: {&quot;__folium_color&quot;: &quot;#297b8e&quot;, &quot;distance&quot;: 11342.626076039214}, &quot;type&quot;: &quot;Feature&quot;}, {&quot;bbox&quot;: [-122.65224615015883, 45.508246, -122.65224615015883, 45.508246], &quot;geometry&quot;: {&quot;coordinates&quot;: [-122.65224615015883, 45.508246], &quot;type&quot;: &quot;Point&quot;}, &quot;id&quot;: &quot;1089&quot;, &quot;properties&quot;: {&quot;__folium_color&quot;: &quot;#404588&quot;, &quot;distance&quot;: 5810.089977627117}, &quot;type&quot;: &quot;Feature&quot;}, {&quot;bbox&quot;: [-122.67113649277503, 45.5766804, -122.67113649277503, 45.5766804], &quot;geometry&quot;: {&quot;coordinates&quot;: [-122.67113649277503, 45.5766804], &quot;type&quot;: &quot;Point&quot;}, &quot;id&quot;: &quot;1090&quot;, &quot;properties&quot;: {&quot;__folium_color&quot;: &quot;#48186a&quot;, &quot;distance&quot;: 1964.8055183747383}, &quot;type&quot;: &quot;Feature&quot;}, {&quot;bbox&quot;: [-122.66431649999998, 45.54785785, -122.66431649999998, 45.54785785], &quot;geometry&quot;: {&quot;coordinates&quot;: [-122.66431649999998, 45.54785785], &quot;type&quot;: &quot;Point&quot;}, &quot;id&quot;: &quot;1091&quot;, &quot;properties&quot;: {&quot;__folium_color&quot;: &quot;#460b5e&quot;, &quot;distance&quot;: 997.8305328384465}, &quot;type&quot;: &quot;Feature&quot;}, {&quot;bbox&quot;: [-122.66802256830212, 45.58988665, -122.66802256830212, 45.58988665], &quot;geometry&quot;: {&quot;coordinates&quot;: [-122.66802256830212, 45.58988665], &quot;type&quot;: &quot;Point&quot;}, &quot;id&quot;: &quot;1092&quot;, &quot;properties&quot;: {&quot;__folium_color&quot;: &quot;#453581&quot;, &quot;distance&quot;: 4379.560589387038}, &quot;type&quot;: &quot;Feature&quot;}, {&quot;bbox&quot;: [-122.65715649254754, 45.51323055, -122.65715649254754, 45.51323055], &quot;geometry&quot;: {&quot;coordinates&quot;: [-122.65715649254754, 45.51323055], &quot;type&quot;: &quot;Point&quot;}, &quot;id&quot;: &quot;1093&quot;, &quot;properties&quot;: {&quot;__folium_color&quot;: &quot;#472f7d&quot;, &quot;distance&quot;: 3852.011839652754}, &quot;type&quot;: &quot;Feature&quot;}, {&quot;bbox&quot;: [-122.58668766666666, 45.525802, -122.58668766666666, 45.525802], &quot;geometry&quot;: {&quot;coordinates&quot;: [-122.58668766666666, 45.525802], &quot;type&quot;: &quot;Point&quot;}, &quot;id&quot;: &quot;1094&quot;, &quot;properties&quot;: {&quot;__folium_color&quot;: &quot;#414287&quot;, &quot;distance&quot;: 5557.676493668097}, &quot;type&quot;: &quot;Feature&quot;}, {&quot;bbox&quot;: [-122.61531044983232, 45.472084050000014, -122.61531044983232, 45.472084050000014], &quot;geometry&quot;: {&quot;coordinates&quot;: [-122.61531044983232, 45.472084050000014], &quot;type&quot;: &quot;Point&quot;}, &quot;id&quot;: &quot;1095&quot;, &quot;properties&quot;: {&quot;__folium_color&quot;: &quot;#470d60&quot;, &quot;distance&quot;: 1155.1656520614265}, &quot;type&quot;: &quot;Feature&quot;}, {&quot;bbox&quot;: [-122.69658375079462, 45.43512244999999, -122.69658375079462, 45.43512244999999], &quot;geometry&quot;: {&quot;coordinates&quot;: [-122.69658375079462, 45.43512244999999], &quot;type&quot;: &quot;Point&quot;}, &quot;id&quot;: &quot;1096&quot;, &quot;properties&quot;: {&quot;__folium_color&quot;: &quot;#3a538b&quot;, &quot;distance&quot;: 7101.1651411960065}, &quot;type&quot;: &quot;Feature&quot;}, {&quot;bbox&quot;: [-122.5814050503929, 45.49447215000001, -122.5814050503929, 45.49447215000001], &quot;geometry&quot;: {&quot;coordinates&quot;: [-122.5814050503929, 45.49447215000001], &quot;type&quot;: &quot;Point&quot;}, &quot;id&quot;: &quot;1098&quot;, &quot;properties&quot;: {&quot;__folium_color&quot;: &quot;#450559&quot;, &quot;distance&quot;: 629.183488093466}, &quot;type&quot;: &quot;Feature&quot;}, {&quot;bbox&quot;: [-122.5495285799082, 45.509861799999996, -122.5495285799082, 45.509861799999996], &quot;geometry&quot;: {&quot;coordinates&quot;: [-122.5495285799082, 45.509861799999996], &quot;type&quot;: &quot;Point&quot;}, &quot;id&quot;: &quot;1099&quot;, &quot;properties&quot;: {&quot;__folium_color&quot;: &quot;#481467&quot;, &quot;distance&quot;: 1644.9079588448894}, &quot;type&quot;: &quot;Feature&quot;}, {&quot;bbox&quot;: [-122.76754, 45.5820168, -122.76754, 45.5820168], &quot;geometry&quot;: {&quot;coordinates&quot;: [-122.76754, 45.5820168], &quot;type&quot;: &quot;Point&quot;}, &quot;id&quot;: &quot;1100&quot;, &quot;properties&quot;: {&quot;__folium_color&quot;: &quot;#481c6e&quot;, &quot;distance&quot;: 2235.093439383137}, &quot;type&quot;: &quot;Feature&quot;}, {&quot;bbox&quot;: [-122.66702599999999, 45.556963, -122.66702599999999, 45.556963], &quot;geometry&quot;: {&quot;coordinates&quot;: [-122.66702599999999, 45.556963], &quot;type&quot;: &quot;Point&quot;}, &quot;id&quot;: &quot;1102&quot;, &quot;properties&quot;: {&quot;__folium_color&quot;: &quot;#460b5e&quot;, &quot;distance&quot;: 1007.8180070801205}, &quot;type&quot;: &quot;Feature&quot;}, {&quot;bbox&quot;: [-122.56266720248146, 45.52750611276275, -122.56266720248146, 45.52750611276275], &quot;geometry&quot;: {&quot;coordinates&quot;: [-122.56266720248146, 45.52750611276275], &quot;type&quot;: &quot;Point&quot;}, &quot;id&quot;: &quot;1103&quot;, &quot;properties&quot;: {&quot;__folium_color&quot;: &quot;#3c4f8a&quot;, &quot;distance&quot;: 6708.530579174297}, &quot;type&quot;: &quot;Feature&quot;}, {&quot;bbox&quot;: [-122.63274440864434, 45.4727869, -122.63274440864434, 45.4727869], &quot;geometry&quot;: {&quot;coordinates&quot;: [-122.63274440864434, 45.4727869], &quot;type&quot;: &quot;Point&quot;}, &quot;id&quot;: &quot;1104&quot;, &quot;properties&quot;: {&quot;__folium_color&quot;: &quot;#3c508b&quot;, &quot;distance&quot;: 6838.498972349224}, &quot;type&quot;: &quot;Feature&quot;}, {&quot;bbox&quot;: [-122.63830888513283, 45.52073073995921, -122.63830888513283, 45.52073073995921], &quot;geometry&quot;: {&quot;coordinates&quot;: [-122.63830888513283, 45.52073073995921], &quot;type&quot;: &quot;Point&quot;}, &quot;id&quot;: &quot;1105&quot;, &quot;properties&quot;: {&quot;__folium_color&quot;: &quot;#33628d&quot;, &quot;distance&quot;: 8584.202364476345}, &quot;type&quot;: &quot;Feature&quot;}, {&quot;bbox&quot;: [-122.52882599999998, 45.50644275, -122.52882599999998, 45.50644275], &quot;geometry&quot;: {&quot;coordinates&quot;: [-122.52882599999998, 45.50644275], &quot;type&quot;: &quot;Point&quot;}, &quot;id&quot;: &quot;1106&quot;, &quot;properties&quot;: {&quot;__folium_color&quot;: &quot;#48186a&quot;, &quot;distance&quot;: 1955.2832785296903}, &quot;type&quot;: &quot;Feature&quot;}, {&quot;bbox&quot;: [-122.70914665656562, 45.545940070707076, -122.70914665656562, 45.545940070707076], &quot;geometry&quot;: {&quot;coordinates&quot;: [-122.70914665656562, 45.545940070707076], &quot;type&quot;: &quot;Point&quot;}, &quot;id&quot;: &quot;1107&quot;, &quot;properties&quot;: {&quot;__folium_color&quot;: &quot;#3e4c8a&quot;, &quot;distance&quot;: 6445.221333996119}, &quot;type&quot;: &quot;Feature&quot;}, {&quot;bbox&quot;: [-122.6223907, 45.55880829999999, -122.6223907, 45.55880829999999], &quot;geometry&quot;: {&quot;coordinates&quot;: [-122.6223907, 45.55880829999999], &quot;type&quot;: &quot;Point&quot;}, &quot;id&quot;: &quot;1108&quot;, &quot;properties&quot;: {&quot;__folium_color&quot;: &quot;#482979&quot;, &quot;distance&quot;: 3369.6571743129466}, &quot;type&quot;: &quot;Feature&quot;}, {&quot;bbox&quot;: [-122.69498387542735, 45.4034346, -122.69498387542735, 45.4034346], &quot;geometry&quot;: {&quot;coordinates&quot;: [-122.69498387542735, 45.4034346], &quot;type&quot;: &quot;Point&quot;}, &quot;id&quot;: &quot;1109&quot;, &quot;properties&quot;: {&quot;__folium_color&quot;: &quot;#1e9c89&quot;, &quot;distance&quot;: 15128.439957259428}, &quot;type&quot;: &quot;Feature&quot;}, {&quot;bbox&quot;: [-122.64289125, 45.4765881, -122.64289125, 45.4765881], &quot;geometry&quot;: {&quot;coordinates&quot;: [-122.64289125, 45.4765881], &quot;type&quot;: &quot;Point&quot;}, &quot;id&quot;: &quot;1110&quot;, &quot;properties&quot;: {&quot;__folium_color&quot;: &quot;#481668&quot;, &quot;distance&quot;: 1795.8085432008481}, &quot;type&quot;: &quot;Feature&quot;}, {&quot;bbox&quot;: [-122.6262880249006, 45.54167329999999, -122.6262880249006, 45.54167329999999], &quot;geometry&quot;: {&quot;coordinates&quot;: [-122.6262880249006, 45.54167329999999], &quot;type&quot;: &quot;Point&quot;}, &quot;id&quot;: &quot;1111&quot;, &quot;properties&quot;: {&quot;__folium_color&quot;: &quot;#355e8d&quot;, &quot;distance&quot;: 8172.659246668106}, &quot;type&quot;: &quot;Feature&quot;}, {&quot;bbox&quot;: [-122.58831319703397, 45.49472405, -122.58831319703397, 45.49472405], &quot;geometry&quot;: {&quot;coordinates&quot;: [-122.58831319703397, 45.49472405], &quot;type&quot;: &quot;Point&quot;}, &quot;id&quot;: &quot;1112&quot;, &quot;properties&quot;: {&quot;__folium_color&quot;: &quot;#460b5e&quot;, &quot;distance&quot;: 954.5349612978418}, &quot;type&quot;: &quot;Feature&quot;}, {&quot;bbox&quot;: [-122.67978549999998, 45.520797300000005, -122.67978549999998, 45.520797300000005], &quot;geometry&quot;: {&quot;coordinates&quot;: [-122.67978549999998, 45.520797300000005], &quot;type&quot;: &quot;Point&quot;}, &quot;id&quot;: &quot;1113&quot;, &quot;properties&quot;: {&quot;__folium_color&quot;: &quot;#482677&quot;, &quot;distance&quot;: 3159.3136989786053}, &quot;type&quot;: &quot;Feature&quot;}, {&quot;bbox&quot;: [-122.65905749322975, 45.57476275, -122.65905749322975, 45.57476275], &quot;geometry&quot;: {&quot;coordinates&quot;: [-122.65905749322975, 45.57476275], &quot;type&quot;: &quot;Point&quot;}, &quot;id&quot;: &quot;1114&quot;, &quot;properties&quot;: {&quot;__folium_color&quot;: &quot;#482979&quot;, &quot;distance&quot;: 3308.1829279879994}, &quot;type&quot;: &quot;Feature&quot;}, {&quot;bbox&quot;: [-122.58258506122448, 45.559248000000004, -122.58258506122448, 45.559248000000004], &quot;geometry&quot;: {&quot;coordinates&quot;: [-122.58258506122448, 45.559248000000004], &quot;type&quot;: &quot;Point&quot;}, &quot;id&quot;: &quot;1115&quot;, &quot;properties&quot;: {&quot;__folium_color&quot;: &quot;#470e61&quot;, &quot;distance&quot;: 1216.2314288746534}, &quot;type&quot;: &quot;Feature&quot;}, {&quot;bbox&quot;: [-122.56880440454547, 45.53029159999999, -122.56880440454547, 45.53029159999999], &quot;geometry&quot;: {&quot;coordinates&quot;: [-122.56880440454547, 45.53029159999999], &quot;type&quot;: &quot;Point&quot;}, &quot;id&quot;: &quot;1116&quot;, &quot;properties&quot;: {&quot;__folium_color&quot;: &quot;#46307e&quot;, &quot;distance&quot;: 4005.6948114150096}, &quot;type&quot;: &quot;Feature&quot;}, {&quot;bbox&quot;: [-122.62779662683202, 45.5372603, -122.62779662683202, 45.5372603], &quot;geometry&quot;: {&quot;coordinates&quot;: [-122.62779662683202, 45.5372603], &quot;type&quot;: &quot;Point&quot;}, &quot;id&quot;: &quot;1117&quot;, &quot;properties&quot;: {&quot;__folium_color&quot;: &quot;#3e4a89&quot;, &quot;distance&quot;: 6305.084500770968}, &quot;type&quot;: &quot;Feature&quot;}, {&quot;bbox&quot;: [-122.56658328987245, 45.521980299999996, -122.56658328987245, 45.521980299999996], &quot;geometry&quot;: {&quot;coordinates&quot;: [-122.56658328987245, 45.521980299999996], &quot;type&quot;: &quot;Point&quot;}, &quot;id&quot;: &quot;1118&quot;, &quot;properties&quot;: {&quot;__folium_color&quot;: &quot;#423f85&quot;, &quot;distance&quot;: 5285.376799743753}, &quot;type&quot;: &quot;Feature&quot;}, {&quot;bbox&quot;: [-122.6771088877551, 45.542172540816324, -122.6771088877551, 45.542172540816324], &quot;geometry&quot;: {&quot;coordinates&quot;: [-122.6771088877551, 45.542172540816324], &quot;type&quot;: &quot;Point&quot;}, &quot;id&quot;: &quot;1119&quot;, &quot;properties&quot;: {&quot;__folium_color&quot;: &quot;#472e7c&quot;, &quot;distance&quot;: 3783.739543547456}, &quot;type&quot;: &quot;Feature&quot;}, {&quot;bbox&quot;: [-122.67044187133394, 45.568566700000005, -122.67044187133394, 45.568566700000005], &quot;geometry&quot;: {&quot;coordinates&quot;: [-122.67044187133394, 45.568566700000005], &quot;type&quot;: &quot;Point&quot;}, &quot;id&quot;: &quot;1120&quot;, &quot;properties&quot;: {&quot;__folium_color&quot;: &quot;#482475&quot;, &quot;distance&quot;: 2882.6880600225254}, &quot;type&quot;: &quot;Feature&quot;}, {&quot;bbox&quot;: [-122.64514119999997, 45.49936149999999, -122.64514119999997, 45.49936149999999], &quot;geometry&quot;: {&quot;coordinates&quot;: [-122.64514119999997, 45.49936149999999], &quot;type&quot;: &quot;Point&quot;}, &quot;id&quot;: &quot;1121&quot;, &quot;properties&quot;: {&quot;__folium_color&quot;: &quot;#2a778e&quot;, &quot;distance&quot;: 10931.31122947204}, &quot;type&quot;: &quot;Feature&quot;}, {&quot;bbox&quot;: [-122.62447331461037, 45.50000794999999, -122.62447331461037, 45.50000794999999], &quot;geometry&quot;: {&quot;coordinates&quot;: [-122.62447331461037, 45.50000794999999], &quot;type&quot;: &quot;Point&quot;}, &quot;id&quot;: &quot;1122&quot;, &quot;properties&quot;: {&quot;__folium_color&quot;: &quot;#34608d&quot;, &quot;distance&quot;: 8385.368351905512}, &quot;type&quot;: &quot;Feature&quot;}, {&quot;bbox&quot;: [-122.6700130307887, 45.53519535, -122.6700130307887, 45.53519535], &quot;geometry&quot;: {&quot;coordinates&quot;: [-122.6700130307887, 45.53519535], &quot;type&quot;: &quot;Point&quot;}, &quot;id&quot;: &quot;1123&quot;, &quot;properties&quot;: {&quot;__folium_color&quot;: &quot;#482677&quot;, &quot;distance&quot;: 3090.5643318800685}, &quot;type&quot;: &quot;Feature&quot;}, {&quot;bbox&quot;: [-122.71719385778687, 45.530287762173806, -122.71719385778687, 45.530287762173806], &quot;geometry&quot;: {&quot;coordinates&quot;: [-122.71719385778687, 45.530287762173806], &quot;type&quot;: &quot;Point&quot;}, &quot;id&quot;: &quot;1124&quot;, &quot;properties&quot;: {&quot;__folium_color&quot;: &quot;#46307e&quot;, &quot;distance&quot;: 3932.305836237173}, &quot;type&quot;: &quot;Feature&quot;}, {&quot;bbox&quot;: [-122.56709382853998, 45.5340057, -122.56709382853998, 45.5340057], &quot;geometry&quot;: {&quot;coordinates&quot;: [-122.56709382853998, 45.5340057], &quot;type&quot;: &quot;Point&quot;}, &quot;id&quot;: &quot;1125&quot;, &quot;properties&quot;: {&quot;__folium_color&quot;: &quot;#2a788e&quot;, &quot;distance&quot;: 11038.935721338152}, &quot;type&quot;: &quot;Feature&quot;}, {&quot;bbox&quot;: [-122.4940330145328, 45.53062934999999, -122.4940330145328, 45.53062934999999], &quot;geometry&quot;: {&quot;coordinates&quot;: [-122.4940330145328, 45.53062934999999], &quot;type&quot;: &quot;Point&quot;}, &quot;id&quot;: &quot;1126&quot;, &quot;properties&quot;: {&quot;__folium_color&quot;: &quot;#424186&quot;, &quot;distance&quot;: 5417.353705552439}, &quot;type&quot;: &quot;Feature&quot;}, {&quot;bbox&quot;: [-122.53308335207048, 45.48082895, -122.53308335207048, 45.48082895], &quot;geometry&quot;: {&quot;coordinates&quot;: [-122.53308335207048, 45.48082895], &quot;type&quot;: &quot;Point&quot;}, &quot;id&quot;: &quot;1128&quot;, &quot;properties&quot;: {&quot;__folium_color&quot;: &quot;#414487&quot;, &quot;distance&quot;: 5675.7884255461795}, &quot;type&quot;: &quot;Feature&quot;}, {&quot;bbox&quot;: [-122.65532529794922, 45.59196865, -122.65532529794922, 45.59196865], &quot;geometry&quot;: {&quot;coordinates&quot;: [-122.65532529794922, 45.59196865], &quot;type&quot;: &quot;Point&quot;}, &quot;id&quot;: &quot;1129&quot;, &quot;properties&quot;: {&quot;__folium_color&quot;: &quot;#2b748e&quot;, &quot;distance&quot;: 10660.764836058685}, &quot;type&quot;: &quot;Feature&quot;}, {&quot;bbox&quot;: [-122.6704252, 45.5548757, -122.6704252, 45.5548757], &quot;geometry&quot;: {&quot;coordinates&quot;: [-122.6704252, 45.5548757], &quot;type&quot;: &quot;Point&quot;}, &quot;id&quot;: &quot;1130&quot;, &quot;properties&quot;: {&quot;__folium_color&quot;: &quot;#3f4788&quot;, &quot;distance&quot;: 5928.258880215368}, &quot;type&quot;: &quot;Feature&quot;}, {&quot;bbox&quot;: [-122.81386225699849, 45.58488813915267, -122.81386225699849, 45.58488813915267], &quot;geometry&quot;: {&quot;coordinates&quot;: [-122.81386225699849, 45.58488813915267], &quot;type&quot;: &quot;Point&quot;}, &quot;id&quot;: &quot;1131&quot;, &quot;properties&quot;: {&quot;__folium_color&quot;: &quot;#34b679&quot;, &quot;distance&quot;: 18121.18151731334}, &quot;type&quot;: &quot;Feature&quot;}, {&quot;bbox&quot;: [-122.63813709090907, 45.53322799999999, -122.63813709090907, 45.53322799999999], &quot;geometry&quot;: {&quot;coordinates&quot;: [-122.63813709090907, 45.53322799999999], &quot;type&quot;: &quot;Point&quot;}, &quot;id&quot;: &quot;1132&quot;, &quot;properties&quot;: {&quot;__folium_color&quot;: &quot;#482979&quot;, &quot;distance&quot;: 3343.05638241915}, &quot;type&quot;: &quot;Feature&quot;}, {&quot;bbox&quot;: [-122.60222048421363, 45.51464365, -122.60222048421363, 45.51464365], &quot;geometry&quot;: {&quot;coordinates&quot;: [-122.60222048421363, 45.51464365], &quot;type&quot;: &quot;Point&quot;}, &quot;id&quot;: &quot;1133&quot;, &quot;properties&quot;: {&quot;__folium_color&quot;: &quot;#404588&quot;, &quot;distance&quot;: 5765.857641899442}, &quot;type&quot;: &quot;Feature&quot;}, {&quot;bbox&quot;: [-122.6464868429586, 45.59543205, -122.6464868429586, 45.59543205], &quot;geometry&quot;: {&quot;coordinates&quot;: [-122.6464868429586, 45.59543205], &quot;type&quot;: &quot;Point&quot;}, &quot;id&quot;: &quot;1134&quot;, &quot;properties&quot;: {&quot;__folium_color&quot;: &quot;#34b679&quot;, &quot;distance&quot;: 18144.393568441596}, &quot;type&quot;: &quot;Feature&quot;}, {&quot;bbox&quot;: [-122.61107349999999, 45.452972499999994, -122.61107349999999, 45.452972499999994], &quot;geometry&quot;: {&quot;coordinates&quot;: [-122.61107349999999, 45.452972499999994], &quot;type&quot;: &quot;Point&quot;}, &quot;id&quot;: &quot;1135&quot;, &quot;properties&quot;: {&quot;__folium_color&quot;: &quot;#3c508b&quot;, &quot;distance&quot;: 6777.8381558558185}, &quot;type&quot;: &quot;Feature&quot;}, {&quot;bbox&quot;: [-122.55395073737846, 45.49507855, -122.55395073737846, 45.49507855], &quot;geometry&quot;: {&quot;coordinates&quot;: [-122.55395073737846, 45.49507855], &quot;type&quot;: &quot;Point&quot;}, &quot;id&quot;: &quot;1136&quot;, &quot;properties&quot;: {&quot;__folium_color&quot;: &quot;#3b518b&quot;, &quot;distance&quot;: 6958.799133513584}, &quot;type&quot;: &quot;Feature&quot;}, {&quot;bbox&quot;: [-122.68057340746415, 45.51693315, -122.68057340746415, 45.51693315], &quot;geometry&quot;: {&quot;coordinates&quot;: [-122.68057340746415, 45.51693315], &quot;type&quot;: &quot;Point&quot;}, &quot;id&quot;: &quot;1137&quot;, &quot;properties&quot;: {&quot;__folium_color&quot;: &quot;#46075a&quot;, &quot;distance&quot;: 667.0654148024865}, &quot;type&quot;: &quot;Feature&quot;}, {&quot;bbox&quot;: [-122.48107065046631, 45.5401702, -122.48107065046631, 45.5401702], &quot;geometry&quot;: {&quot;coordinates&quot;: [-122.48107065046631, 45.5401702], &quot;type&quot;: &quot;Point&quot;}, &quot;id&quot;: &quot;1138&quot;, &quot;properties&quot;: {&quot;__folium_color&quot;: &quot;#39558c&quot;, &quot;distance&quot;: 7396.079761736743}, &quot;type&quot;: &quot;Feature&quot;}, {&quot;bbox&quot;: [-122.71263474999999, 45.47392839999999, -122.71263474999999, 45.47392839999999], &quot;geometry&quot;: {&quot;coordinates&quot;: [-122.71263474999999, 45.47392839999999], &quot;type&quot;: &quot;Point&quot;}, &quot;id&quot;: &quot;1139&quot;, &quot;properties&quot;: {&quot;__folium_color&quot;: &quot;#3c4f8a&quot;, &quot;distance&quot;: 6741.299083191387}, &quot;type&quot;: &quot;Feature&quot;}, {&quot;bbox&quot;: [-122.66361885246904, 45.5738817, -122.66361885246904, 45.5738817], &quot;geometry&quot;: {&quot;coordinates&quot;: [-122.66361885246904, 45.5738817], &quot;type&quot;: &quot;Point&quot;}, &quot;id&quot;: &quot;1140&quot;, &quot;properties&quot;: {&quot;__folium_color&quot;: &quot;#423f85&quot;, &quot;distance&quot;: 5198.91744414693}, &quot;type&quot;: &quot;Feature&quot;}, {&quot;bbox&quot;: [-122.53948142496449, 45.53775949999999, -122.53948142496449, 45.53775949999999], &quot;geometry&quot;: {&quot;coordinates&quot;: [-122.53948142496449, 45.53775949999999], &quot;type&quot;: &quot;Point&quot;}, &quot;id&quot;: &quot;1141&quot;, &quot;properties&quot;: {&quot;__folium_color&quot;: &quot;#2e6e8e&quot;, &quot;distance&quot;: 9926.827327458583}, &quot;type&quot;: &quot;Feature&quot;}, {&quot;bbox&quot;: [-122.50611569975902, 45.531579799999996, -122.50611569975902, 45.531579799999996], &quot;geometry&quot;: {&quot;coordinates&quot;: [-122.50611569975902, 45.531579799999996], &quot;type&quot;: &quot;Point&quot;}, &quot;id&quot;: &quot;1144&quot;, &quot;properties&quot;: {&quot;__folium_color&quot;: &quot;#463480&quot;, &quot;distance&quot;: 4305.765021082036}, &quot;type&quot;: &quot;Feature&quot;}, {&quot;bbox&quot;: [-122.62445585714286, 45.46954830612244, -122.62445585714286, 45.46954830612244], &quot;geometry&quot;: {&quot;coordinates&quot;: [-122.62445585714286, 45.46954830612244], &quot;type&quot;: &quot;Point&quot;}, &quot;id&quot;: &quot;1145&quot;, &quot;properties&quot;: {&quot;__folium_color&quot;: &quot;#481a6c&quot;, &quot;distance&quot;: 2035.5864747036312}, &quot;type&quot;: &quot;Feature&quot;}, {&quot;bbox&quot;: [-122.59055419999999, 45.5895038, -122.59055419999999, 45.5895038], &quot;geometry&quot;: {&quot;coordinates&quot;: [-122.59055419999999, 45.5895038], &quot;type&quot;: &quot;Point&quot;}, &quot;id&quot;: &quot;1146&quot;, &quot;properties&quot;: {&quot;__folium_color&quot;: &quot;#3f4889&quot;, &quot;distance&quot;: 6106.799313327476}, &quot;type&quot;: &quot;Feature&quot;}, {&quot;bbox&quot;: [-122.6265148, 45.472250599999995, -122.6265148, 45.472250599999995], &quot;geometry&quot;: {&quot;coordinates&quot;: [-122.6265148, 45.472250599999995], &quot;type&quot;: &quot;Point&quot;}, &quot;id&quot;: &quot;1147&quot;, &quot;properties&quot;: {&quot;__folium_color&quot;: &quot;#482576&quot;, &quot;distance&quot;: 3010.6892891221482}, &quot;type&quot;: &quot;Feature&quot;}, {&quot;bbox&quot;: [-122.60210085011063, 45.54986474999999, -122.60210085011063, 45.54986474999999], &quot;geometry&quot;: {&quot;coordinates&quot;: [-122.60210085011063, 45.54986474999999], &quot;type&quot;: &quot;Point&quot;}, &quot;id&quot;: &quot;1149&quot;, &quot;properties&quot;: {&quot;__folium_color&quot;: &quot;#481d6f&quot;, &quot;distance&quot;: 2330.2233248186008}, &quot;type&quot;: &quot;Feature&quot;}, {&quot;bbox&quot;: [-122.67966843713921, 45.506340099999996, -122.67966843713921, 45.506340099999996], &quot;geometry&quot;: {&quot;coordinates&quot;: [-122.67966843713921, 45.506340099999996], &quot;type&quot;: &quot;Point&quot;}, &quot;id&quot;: &quot;1150&quot;, &quot;properties&quot;: {&quot;__folium_color&quot;: &quot;#481b6d&quot;, &quot;distance&quot;: 2139.8432870490715}, &quot;type&quot;: &quot;Feature&quot;}, {&quot;bbox&quot;: [-122.6381507, 45.55595665, -122.6381507, 45.55595665], &quot;geometry&quot;: {&quot;coordinates&quot;: [-122.6381507, 45.55595665], &quot;type&quot;: &quot;Point&quot;}, &quot;id&quot;: &quot;1151&quot;, &quot;properties&quot;: {&quot;__folium_color&quot;: &quot;#375b8d&quot;, &quot;distance&quot;: 7888.835065664708}, &quot;type&quot;: &quot;Feature&quot;}, {&quot;bbox&quot;: [-122.63715619999998, 45.5206041, -122.63715619999998, 45.5206041], &quot;geometry&quot;: {&quot;coordinates&quot;: [-122.63715619999998, 45.5206041], &quot;type&quot;: &quot;Point&quot;}, &quot;id&quot;: &quot;1152&quot;, &quot;properties&quot;: {&quot;__folium_color&quot;: &quot;#375a8c&quot;, &quot;distance&quot;: 7764.678190415566}, &quot;type&quot;: &quot;Feature&quot;}, {&quot;bbox&quot;: [-122.65462205000001, 45.5692223, -122.65462205000001, 45.5692223], &quot;geometry&quot;: {&quot;coordinates&quot;: [-122.65462205000001, 45.5692223], &quot;type&quot;: &quot;Point&quot;}, &quot;id&quot;: &quot;1153&quot;, &quot;properties&quot;: {&quot;__folium_color&quot;: &quot;#39558c&quot;, &quot;distance&quot;: 7320.02428139184}, &quot;type&quot;: &quot;Feature&quot;}, {&quot;bbox&quot;: [-122.76584025529769, 45.601561950000004, -122.76584025529769, 45.601561950000004], &quot;geometry&quot;: {&quot;coordinates&quot;: [-122.76584025529769, 45.601561950000004], &quot;type&quot;: &quot;Point&quot;}, &quot;id&quot;: &quot;1154&quot;, &quot;properties&quot;: {&quot;__folium_color&quot;: &quot;#481f70&quot;, &quot;distance&quot;: 2464.170376170278}, &quot;type&quot;: &quot;Feature&quot;}, {&quot;bbox&quot;: [-122.72058486573592, 45.538567549999996, -122.72058486573592, 45.538567549999996], &quot;geometry&quot;: {&quot;coordinates&quot;: [-122.72058486573592, 45.538567549999996], &quot;type&quot;: &quot;Point&quot;}, &quot;id&quot;: &quot;1155&quot;, &quot;properties&quot;: {&quot;__folium_color&quot;: &quot;#481f70&quot;, &quot;distance&quot;: 2441.3503657675456}, &quot;type&quot;: &quot;Feature&quot;}, {&quot;bbox&quot;: [-122.63195388480385, 45.579759949999996, -122.63195388480385, 45.579759949999996], &quot;geometry&quot;: {&quot;coordinates&quot;: [-122.63195388480385, 45.579759949999996], &quot;type&quot;: &quot;Point&quot;}, &quot;id&quot;: &quot;1156&quot;, &quot;properties&quot;: {&quot;__folium_color&quot;: &quot;#1f968b&quot;, &quot;distance&quot;: 14445.707741593966}, &quot;type&quot;: &quot;Feature&quot;}, {&quot;bbox&quot;: [-122.62586714548877, 45.516159356731805, -122.62586714548877, 45.516159356731805], &quot;geometry&quot;: {&quot;coordinates&quot;: [-122.62586714548877, 45.516159356731805], &quot;type&quot;: &quot;Point&quot;}, &quot;id&quot;: &quot;1157&quot;, &quot;properties&quot;: {&quot;__folium_color&quot;: &quot;#3f4889&quot;, &quot;distance&quot;: 6096.243071249927}, &quot;type&quot;: &quot;Feature&quot;}, {&quot;bbox&quot;: [-122.67422171962309, 45.56528175, -122.67422171962309, 45.56528175], &quot;geometry&quot;: {&quot;coordinates&quot;: [-122.67422171962309, 45.56528175], &quot;type&quot;: &quot;Point&quot;}, &quot;id&quot;: &quot;1158&quot;, &quot;properties&quot;: {&quot;__folium_color&quot;: &quot;#39568c&quot;, &quot;distance&quot;: 7444.46337075374}, &quot;type&quot;: &quot;Feature&quot;}, {&quot;bbox&quot;: [-122.5694505417929, 45.53948964999999, -122.5694505417929, 45.53948964999999], &quot;geometry&quot;: {&quot;coordinates&quot;: [-122.5694505417929, 45.53948964999999], &quot;type&quot;: &quot;Point&quot;}, &quot;id&quot;: &quot;1159&quot;, &quot;properties&quot;: {&quot;__folium_color&quot;: &quot;#2b758e&quot;, &quot;distance&quot;: 10717.192647608417}, &quot;type&quot;: &quot;Feature&quot;}, {&quot;bbox&quot;: [-122.65121510303007, 45.570006199999995, -122.65121510303007, 45.570006199999995], &quot;geometry&quot;: {&quot;coordinates&quot;: [-122.65121510303007, 45.570006199999995], &quot;type&quot;: &quot;Point&quot;}, &quot;id&quot;: &quot;1160&quot;, &quot;properties&quot;: {&quot;__folium_color&quot;: &quot;#3e4989&quot;, &quot;distance&quot;: 6138.4006269754}, &quot;type&quot;: &quot;Feature&quot;}, {&quot;bbox&quot;: [-122.76870320255631, 45.483587799999995, -122.76870320255631, 45.483587799999995], &quot;geometry&quot;: {&quot;coordinates&quot;: [-122.76870320255631, 45.483587799999995], &quot;type&quot;: &quot;Point&quot;}, &quot;id&quot;: &quot;1161&quot;, &quot;properties&quot;: {&quot;__folium_color&quot;: &quot;#355f8d&quot;, &quot;distance&quot;: 8327.646702874623}, &quot;type&quot;: &quot;Feature&quot;}, {&quot;bbox&quot;: [-122.66413810355095, 45.57529094999999, -122.66413810355095, 45.57529094999999], &quot;geometry&quot;: {&quot;coordinates&quot;: [-122.66413810355095, 45.57529094999999], &quot;type&quot;: &quot;Point&quot;}, &quot;id&quot;: &quot;1162&quot;, &quot;properties&quot;: {&quot;__folium_color&quot;: &quot;#481b6d&quot;, &quot;distance&quot;: 2200.5062177190316}, &quot;type&quot;: &quot;Feature&quot;}, {&quot;bbox&quot;: [-122.62533782527981, 45.54446455, -122.62533782527981, 45.54446455], &quot;geometry&quot;: {&quot;coordinates&quot;: [-122.62533782527981, 45.54446455], &quot;type&quot;: &quot;Point&quot;}, &quot;id&quot;: &quot;1163&quot;, &quot;properties&quot;: {&quot;__folium_color&quot;: &quot;#355f8d&quot;, &quot;distance&quot;: 8343.2498033801}, &quot;type&quot;: &quot;Feature&quot;}, {&quot;bbox&quot;: [-122.67759965853253, 45.52162334999999, -122.67759965853253, 45.52162334999999], &quot;geometry&quot;: {&quot;coordinates&quot;: [-122.67759965853253, 45.52162334999999], &quot;type&quot;: &quot;Point&quot;}, &quot;id&quot;: &quot;1164&quot;, &quot;properties&quot;: {&quot;__folium_color&quot;: &quot;#472a7a&quot;, &quot;distance&quot;: 3480.581173712217}, &quot;type&quot;: &quot;Feature&quot;}, {&quot;bbox&quot;: [-122.6888209637577, 45.533960050000005, -122.6888209637577, 45.533960050000005], &quot;geometry&quot;: {&quot;coordinates&quot;: [-122.6888209637577, 45.533960050000005], &quot;type&quot;: &quot;Point&quot;}, &quot;id&quot;: &quot;1165&quot;, &quot;properties&quot;: {&quot;__folium_color&quot;: &quot;#470e61&quot;, &quot;distance&quot;: 1169.8400132948043}, &quot;type&quot;: &quot;Feature&quot;}, {&quot;bbox&quot;: [-122.65152132894137, 45.50784165, -122.65152132894137, 45.50784165], &quot;geometry&quot;: {&quot;coordinates&quot;: [-122.65152132894137, 45.50784165], &quot;type&quot;: &quot;Point&quot;}, &quot;id&quot;: &quot;1166&quot;, &quot;properties&quot;: {&quot;__folium_color&quot;: &quot;#46337f&quot;, &quot;distance&quot;: 4204.0536794098525}, &quot;type&quot;: &quot;Feature&quot;}, {&quot;bbox&quot;: [-122.82821642182174, 45.59487559999998, -122.82821642182174, 45.59487559999998], &quot;geometry&quot;: {&quot;coordinates&quot;: [-122.82821642182174, 45.59487559999998], &quot;type&quot;: &quot;Point&quot;}, &quot;id&quot;: &quot;1167&quot;, &quot;properties&quot;: {&quot;__folium_color&quot;: &quot;#67cc5c&quot;, &quot;distance&quot;: 20968.865934052992}, &quot;type&quot;: &quot;Feature&quot;}, {&quot;bbox&quot;: [-122.74547844550902, 45.58311009217428, -122.74547844550902, 45.58311009217428], &quot;geometry&quot;: {&quot;coordinates&quot;: [-122.74547844550902, 45.58311009217428], &quot;type&quot;: &quot;Point&quot;}, &quot;id&quot;: &quot;1168&quot;, &quot;properties&quot;: {&quot;__folium_color&quot;: &quot;#32648e&quot;, &quot;distance&quot;: 8862.052999700034}, &quot;type&quot;: &quot;Feature&quot;}, {&quot;bbox&quot;: [-122.67119511001019, 45.638356699999996, -122.67119511001019, 45.638356699999996], &quot;geometry&quot;: {&quot;coordinates&quot;: [-122.67119511001019, 45.638356699999996], &quot;type&quot;: &quot;Point&quot;}, &quot;id&quot;: &quot;1169&quot;, &quot;properties&quot;: {&quot;__folium_color&quot;: &quot;#31668e&quot;, &quot;distance&quot;: 9001.709164202517}, &quot;type&quot;: &quot;Feature&quot;}, {&quot;bbox&quot;: [-122.6674789, 45.5408331, -122.6674789, 45.5408331], &quot;geometry&quot;: {&quot;coordinates&quot;: [-122.6674789, 45.5408331], &quot;type&quot;: &quot;Point&quot;}, &quot;id&quot;: &quot;1170&quot;, &quot;properties&quot;: {&quot;__folium_color&quot;: &quot;#472a7a&quot;, &quot;distance&quot;: 3467.335161944864}, &quot;type&quot;: &quot;Feature&quot;}, {&quot;bbox&quot;: [-122.61269583911871, 45.53999799999999, -122.61269583911871, 45.53999799999999], &quot;geometry&quot;: {&quot;coordinates&quot;: [-122.61269583911871, 45.53999799999999], &quot;type&quot;: &quot;Point&quot;}, &quot;id&quot;: &quot;1171&quot;, &quot;properties&quot;: {&quot;__folium_color&quot;: &quot;#453882&quot;, &quot;distance&quot;: 4561.34510758687}, &quot;type&quot;: &quot;Feature&quot;}, {&quot;bbox&quot;: [-122.61850849983013, 45.46930700000001, -122.61850849983013, 45.46930700000001], &quot;geometry&quot;: {&quot;coordinates&quot;: [-122.61850849983013, 45.46930700000001], &quot;type&quot;: &quot;Point&quot;}, &quot;id&quot;: &quot;1172&quot;, &quot;properties&quot;: {&quot;__folium_color&quot;: &quot;#423f85&quot;, &quot;distance&quot;: 5267.842260188143}, &quot;type&quot;: &quot;Feature&quot;}, {&quot;bbox&quot;: [-122.67071524392261, 45.640472599999995, -122.67071524392261, 45.640472599999995], &quot;geometry&quot;: {&quot;coordinates&quot;: [-122.67071524392261, 45.640472599999995], &quot;type&quot;: &quot;Point&quot;}, &quot;id&quot;: &quot;1173&quot;, &quot;properties&quot;: {&quot;__folium_color&quot;: &quot;#48c16e&quot;, &quot;distance&quot;: 19369.999801217284}, &quot;type&quot;: &quot;Feature&quot;}, {&quot;bbox&quot;: [-122.7206050762712, 45.51896515, -122.7206050762712, 45.51896515], &quot;geometry&quot;: {&quot;coordinates&quot;: [-122.7206050762712, 45.51896515], &quot;type&quot;: &quot;Point&quot;}, &quot;id&quot;: &quot;1174&quot;, &quot;properties&quot;: {&quot;__folium_color&quot;: &quot;#472f7d&quot;, &quot;distance&quot;: 3889.6646578277314}, &quot;type&quot;: &quot;Feature&quot;}, {&quot;bbox&quot;: [-122.64325830612245, 45.50641622448979, -122.64325830612245, 45.50641622448979], &quot;geometry&quot;: {&quot;coordinates&quot;: [-122.64325830612245, 45.50641622448979], &quot;type&quot;: &quot;Point&quot;}, &quot;id&quot;: &quot;1175&quot;, &quot;properties&quot;: {&quot;__folium_color&quot;: &quot;#3b518b&quot;, &quot;distance&quot;: 6877.925662495955}, &quot;type&quot;: &quot;Feature&quot;}, {&quot;bbox&quot;: [-122.70177029999999, 45.52574559999999, -122.70177029999999, 45.52574559999999], &quot;geometry&quot;: {&quot;coordinates&quot;: [-122.70177029999999, 45.52574559999999], &quot;type&quot;: &quot;Point&quot;}, &quot;id&quot;: &quot;1176&quot;, &quot;properties&quot;: {&quot;__folium_color&quot;: &quot;#481a6c&quot;, &quot;distance&quot;: 2078.439565664055}, &quot;type&quot;: &quot;Feature&quot;}, {&quot;bbox&quot;: [-122.67753362253441, 45.48562615, -122.67753362253441, 45.48562615], &quot;geometry&quot;: {&quot;coordinates&quot;: [-122.67753362253441, 45.48562615], &quot;type&quot;: &quot;Point&quot;}, &quot;id&quot;: &quot;1177&quot;, &quot;properties&quot;: {&quot;__folium_color&quot;: &quot;#355f8d&quot;, &quot;distance&quot;: 8254.790064399274}, &quot;type&quot;: &quot;Feature&quot;}, {&quot;bbox&quot;: [-122.6767076324849, 45.503452149999994, -122.6767076324849, 45.503452149999994], &quot;geometry&quot;: {&quot;coordinates&quot;: [-122.6767076324849, 45.503452149999994], &quot;type&quot;: &quot;Point&quot;}, &quot;id&quot;: &quot;1178&quot;, &quot;properties&quot;: {&quot;__folium_color&quot;: &quot;#2b758e&quot;, &quot;distance&quot;: 10723.805640978331}, &quot;type&quot;: &quot;Feature&quot;}, {&quot;bbox&quot;: [-122.61438566096521, 45.53360175, -122.61438566096521, 45.53360175], &quot;geometry&quot;: {&quot;coordinates&quot;: [-122.61438566096521, 45.53360175], &quot;type&quot;: &quot;Point&quot;}, &quot;id&quot;: &quot;1179&quot;, &quot;properties&quot;: {&quot;__folium_color&quot;: &quot;#460b5e&quot;, &quot;distance&quot;: 990.0305621414209}, &quot;type&quot;: &quot;Feature&quot;}, {&quot;bbox&quot;: [-122.6771088877551, 45.542172540816324, -122.6771088877551, 45.542172540816324], &quot;geometry&quot;: {&quot;coordinates&quot;: [-122.6771088877551, 45.542172540816324], &quot;type&quot;: &quot;Point&quot;}, &quot;id&quot;: &quot;1180&quot;, &quot;properties&quot;: {&quot;__folium_color&quot;: &quot;#29798e&quot;, &quot;distance&quot;: 11210.649819529246}, &quot;type&quot;: &quot;Feature&quot;}, {&quot;bbox&quot;: [-122.6944923179766, 45.54091955164855, -122.6944923179766, 45.54091955164855], &quot;geometry&quot;: {&quot;coordinates&quot;: [-122.6944923179766, 45.54091955164855], &quot;type&quot;: &quot;Point&quot;}, &quot;id&quot;: &quot;1181&quot;, &quot;properties&quot;: {&quot;__folium_color&quot;: &quot;#460b5e&quot;, &quot;distance&quot;: 1027.4655259059173}, &quot;type&quot;: &quot;Feature&quot;}, {&quot;bbox&quot;: [-122.73552859118227, 45.50009335000001, -122.73552859118227, 45.50009335000001], &quot;geometry&quot;: {&quot;coordinates&quot;: [-122.73552859118227, 45.50009335000001], &quot;type&quot;: &quot;Point&quot;}, &quot;id&quot;: &quot;1182&quot;, &quot;properties&quot;: {&quot;__folium_color&quot;: &quot;#355f8d&quot;, &quot;distance&quot;: 8344.988018125667}, &quot;type&quot;: &quot;Feature&quot;}, {&quot;bbox&quot;: [-122.70408910728699, 45.485897400000006, -122.70408910728699, 45.485897400000006], &quot;geometry&quot;: {&quot;coordinates&quot;: [-122.70408910728699, 45.485897400000006], &quot;type&quot;: &quot;Point&quot;}, &quot;id&quot;: &quot;1183&quot;, &quot;properties&quot;: {&quot;__folium_color&quot;: &quot;#375b8d&quot;, &quot;distance&quot;: 7872.653386068657}, &quot;type&quot;: &quot;Feature&quot;}, {&quot;bbox&quot;: [-122.61368851637751, 45.490496449999995, -122.61368851637751, 45.490496449999995], &quot;geometry&quot;: {&quot;coordinates&quot;: [-122.61368851637751, 45.490496449999995], &quot;type&quot;: &quot;Point&quot;}, &quot;id&quot;: &quot;1184&quot;, &quot;properties&quot;: {&quot;__folium_color&quot;: &quot;#38588c&quot;, &quot;distance&quot;: 7533.436769116909}, &quot;type&quot;: &quot;Feature&quot;}, {&quot;bbox&quot;: [-122.60573850924774, 45.4828683, -122.60573850924774, 45.4828683], &quot;geometry&quot;: {&quot;coordinates&quot;: [-122.60573850924774, 45.4828683], &quot;type&quot;: &quot;Point&quot;}, &quot;id&quot;: &quot;1185&quot;, &quot;properties&quot;: {&quot;__folium_color&quot;: &quot;#460a5d&quot;, &quot;distance&quot;: 937.4030137049081}, &quot;type&quot;: &quot;Feature&quot;}, {&quot;bbox&quot;: [-122.56387229292929, 45.479273949494946, -122.56387229292929, 45.479273949494946], &quot;geometry&quot;: {&quot;coordinates&quot;: [-122.56387229292929, 45.479273949494946], &quot;type&quot;: &quot;Point&quot;}, &quot;id&quot;: &quot;1186&quot;, &quot;properties&quot;: {&quot;__folium_color&quot;: &quot;#424086&quot;, &quot;distance&quot;: 5369.578024484392}, &quot;type&quot;: &quot;Feature&quot;}, {&quot;bbox&quot;: [-122.58953049587139, 45.502347449999995, -122.58953049587139, 45.502347449999995], &quot;geometry&quot;: {&quot;coordinates&quot;: [-122.58953049587139, 45.502347449999995], &quot;type&quot;: &quot;Point&quot;}, &quot;id&quot;: &quot;1187&quot;, &quot;properties&quot;: {&quot;__folium_color&quot;: &quot;#481a6c&quot;, &quot;distance&quot;: 2046.5567322940256}, &quot;type&quot;: &quot;Feature&quot;}, {&quot;bbox&quot;: [-122.60858927494402, 45.46842374999999, -122.60858927494402, 45.46842374999999], &quot;geometry&quot;: {&quot;coordinates&quot;: [-122.60858927494402, 45.46842374999999], &quot;type&quot;: &quot;Point&quot;}, &quot;id&quot;: &quot;1188&quot;, &quot;properties&quot;: {&quot;__folium_color&quot;: &quot;#453882&quot;, &quot;distance&quot;: 4582.174070798064}, &quot;type&quot;: &quot;Feature&quot;}, {&quot;bbox&quot;: [-122.66715225000002, 45.55818300000001, -122.66715225000002, 45.55818300000001], &quot;geometry&quot;: {&quot;coordinates&quot;: [-122.66715225000002, 45.55818300000001], &quot;type&quot;: &quot;Point&quot;}, &quot;id&quot;: &quot;1189&quot;, &quot;properties&quot;: {&quot;__folium_color&quot;: &quot;#46085c&quot;, &quot;distance&quot;: 836.9257248552084}, &quot;type&quot;: &quot;Feature&quot;}, {&quot;bbox&quot;: [-122.47520293405911, 45.499107499999994, -122.47520293405911, 45.499107499999994], &quot;geometry&quot;: {&quot;coordinates&quot;: [-122.47520293405911, 45.499107499999994], &quot;type&quot;: &quot;Point&quot;}, &quot;id&quot;: &quot;1190&quot;, &quot;properties&quot;: {&quot;__folium_color&quot;: &quot;#24aa83&quot;, &quot;distance&quot;: 16616.023293282193}, &quot;type&quot;: &quot;Feature&quot;}, {&quot;bbox&quot;: [-122.65064664999997, 45.55094285, -122.65064664999997, 45.55094285], &quot;geometry&quot;: {&quot;coordinates&quot;: [-122.65064664999997, 45.55094285], &quot;type&quot;: &quot;Point&quot;}, &quot;id&quot;: &quot;1191&quot;, &quot;properties&quot;: {&quot;__folium_color&quot;: &quot;#481c6e&quot;, &quot;distance&quot;: 2230.0696060035866}, &quot;type&quot;: &quot;Feature&quot;}, {&quot;bbox&quot;: [-122.73372488954539, 45.43609999999999, -122.73372488954539, 45.43609999999999], &quot;geometry&quot;: {&quot;coordinates&quot;: [-122.73372488954539, 45.43609999999999], &quot;type&quot;: &quot;Point&quot;}, &quot;id&quot;: &quot;1192&quot;, &quot;properties&quot;: {&quot;__folium_color&quot;: &quot;#355e8d&quot;, &quot;distance&quot;: 8224.555104828334}, &quot;type&quot;: &quot;Feature&quot;}, {&quot;bbox&quot;: [-122.57325930116278, 45.532381, -122.57325930116278, 45.532381], &quot;geometry&quot;: {&quot;coordinates&quot;: [-122.57325930116278, 45.532381], &quot;type&quot;: &quot;Point&quot;}, &quot;id&quot;: &quot;1193&quot;, &quot;properties&quot;: {&quot;__folium_color&quot;: &quot;#424186&quot;, &quot;distance&quot;: 5398.535430189547}, &quot;type&quot;: &quot;Feature&quot;}, {&quot;bbox&quot;: [-122.57767205646161, 45.5493452, -122.57767205646161, 45.5493452], &quot;geometry&quot;: {&quot;coordinates&quot;: [-122.57767205646161, 45.5493452], &quot;type&quot;: &quot;Point&quot;}, &quot;id&quot;: &quot;1194&quot;, &quot;properties&quot;: {&quot;__folium_color&quot;: &quot;#3c508b&quot;, &quot;distance&quot;: 6775.518537014897}, &quot;type&quot;: &quot;Feature&quot;}, {&quot;bbox&quot;: [-122.72132017093418, 45.50163899999999, -122.72132017093418, 45.50163899999999], &quot;geometry&quot;: {&quot;coordinates&quot;: [-122.72132017093418, 45.50163899999999], &quot;type&quot;: &quot;Point&quot;}, &quot;id&quot;: &quot;1195&quot;, &quot;properties&quot;: {&quot;__folium_color&quot;: &quot;#32648e&quot;, &quot;distance&quot;: 8877.517505814469}, &quot;type&quot;: &quot;Feature&quot;}, {&quot;bbox&quot;: [-122.6129897, 45.5232667, -122.6129897, 45.5232667], &quot;geometry&quot;: {&quot;coordinates&quot;: [-122.6129897, 45.5232667], &quot;type&quot;: &quot;Point&quot;}, &quot;id&quot;: &quot;1196&quot;, &quot;properties&quot;: {&quot;__folium_color&quot;: &quot;#3d4d8a&quot;, &quot;distance&quot;: 6550.330553146673}, &quot;type&quot;: &quot;Feature&quot;}, {&quot;bbox&quot;: [-122.68891390806571, 45.44807515, -122.68891390806571, 45.44807515], &quot;geometry&quot;: {&quot;coordinates&quot;: [-122.68891390806571, 45.44807515], &quot;type&quot;: &quot;Point&quot;}, &quot;id&quot;: &quot;1197&quot;, &quot;properties&quot;: {&quot;__folium_color&quot;: &quot;#433d84&quot;, &quot;distance&quot;: 5073.497914483553}, &quot;type&quot;: &quot;Feature&quot;}, {&quot;bbox&quot;: [-122.66839816684157, 45.54380431873481, -122.66839816684157, 45.54380431873481], &quot;geometry&quot;: {&quot;coordinates&quot;: [-122.66839816684157, 45.54380431873481], &quot;type&quot;: &quot;Point&quot;}, &quot;id&quot;: &quot;1198&quot;, &quot;properties&quot;: {&quot;__folium_color&quot;: &quot;#3d4d8a&quot;, &quot;distance&quot;: 6519.401838940984}, &quot;type&quot;: &quot;Feature&quot;}, {&quot;bbox&quot;: [-122.52694806805293, 45.546754199999995, -122.52694806805293, 45.546754199999995], &quot;geometry&quot;: {&quot;coordinates&quot;: [-122.52694806805293, 45.546754199999995], &quot;type&quot;: &quot;Point&quot;}, &quot;id&quot;: &quot;1199&quot;, &quot;properties&quot;: {&quot;__folium_color&quot;: &quot;#3f4889&quot;, &quot;distance&quot;: 6102.869856413504}, &quot;type&quot;: &quot;Feature&quot;}, {&quot;bbox&quot;: [-122.72375046328035, 45.51527805, -122.72375046328035, 45.51527805], &quot;geometry&quot;: {&quot;coordinates&quot;: [-122.72375046328035, 45.51527805], &quot;type&quot;: &quot;Point&quot;}, &quot;id&quot;: &quot;1200&quot;, &quot;properties&quot;: {&quot;__folium_color&quot;: &quot;#46337f&quot;, &quot;distance&quot;: 4202.389177288437}, &quot;type&quot;: &quot;Feature&quot;}, {&quot;bbox&quot;: [-122.60150646159742, 45.497001, -122.60150646159742, 45.497001], &quot;geometry&quot;: {&quot;coordinates&quot;: [-122.60150646159742, 45.497001], &quot;type&quot;: &quot;Point&quot;}, &quot;id&quot;: &quot;1201&quot;, &quot;properties&quot;: {&quot;__folium_color&quot;: &quot;#482677&quot;, &quot;distance&quot;: 3091.583966271756}, &quot;type&quot;: &quot;Feature&quot;}, {&quot;bbox&quot;: [-122.65931239999999, 45.5559285, -122.65931239999999, 45.5559285], &quot;geometry&quot;: {&quot;coordinates&quot;: [-122.65931239999999, 45.5559285], &quot;type&quot;: &quot;Point&quot;}, &quot;id&quot;: &quot;1202&quot;, &quot;properties&quot;: {&quot;__folium_color&quot;: &quot;#414287&quot;, &quot;distance&quot;: 5511.35742839689}, &quot;type&quot;: &quot;Feature&quot;}, {&quot;bbox&quot;: [-122.65979590000002, 45.54364255, -122.65979590000002, 45.54364255], &quot;geometry&quot;: {&quot;coordinates&quot;: [-122.65979590000002, 45.54364255], &quot;type&quot;: &quot;Point&quot;}, &quot;id&quot;: &quot;1203&quot;, &quot;properties&quot;: {&quot;__folium_color&quot;: &quot;#453581&quot;, &quot;distance&quot;: 4404.459708713227}, &quot;type&quot;: &quot;Feature&quot;}, {&quot;bbox&quot;: [-122.6404779275527, 45.62632414319083, -122.6404779275527, 45.62632414319083], &quot;geometry&quot;: {&quot;coordinates&quot;: [-122.6404779275527, 45.62632414319083], &quot;type&quot;: &quot;Point&quot;}, &quot;id&quot;: &quot;1204&quot;, &quot;properties&quot;: {&quot;__folium_color&quot;: &quot;#2b758e&quot;, &quot;distance&quot;: 10732.437037543265}, &quot;type&quot;: &quot;Feature&quot;}, {&quot;bbox&quot;: [-122.70292238438245, 45.46537485, -122.70292238438245, 45.46537485], &quot;geometry&quot;: {&quot;coordinates&quot;: [-122.70292238438245, 45.46537485], &quot;type&quot;: &quot;Point&quot;}, &quot;id&quot;: &quot;1205&quot;, &quot;properties&quot;: {&quot;__folium_color&quot;: &quot;#472e7c&quot;, &quot;distance&quot;: 3726.7544891714497}, &quot;type&quot;: &quot;Feature&quot;}, {&quot;bbox&quot;: [-122.6314115001515, 45.544701450000005, -122.6314115001515, 45.544701450000005], &quot;geometry&quot;: {&quot;coordinates&quot;: [-122.6314115001515, 45.544701450000005], &quot;type&quot;: &quot;Point&quot;}, &quot;id&quot;: &quot;1206&quot;, &quot;properties&quot;: {&quot;__folium_color&quot;: &quot;#443a83&quot;, &quot;distance&quot;: 4777.367366457621}, &quot;type&quot;: &quot;Feature&quot;}, {&quot;bbox&quot;: [-122.5725250747595, 45.49168265, -122.5725250747595, 45.49168265], &quot;geometry&quot;: {&quot;coordinates&quot;: [-122.5725250747595, 45.49168265], &quot;type&quot;: &quot;Point&quot;}, &quot;id&quot;: &quot;1207&quot;, &quot;properties&quot;: {&quot;__folium_color&quot;: &quot;#2f6b8e&quot;, &quot;distance&quot;: 9577.805765466685}, &quot;type&quot;: &quot;Feature&quot;}, {&quot;bbox&quot;: [-122.72203483577982, 45.5787537, -122.72203483577982, 45.5787537], &quot;geometry&quot;: {&quot;coordinates&quot;: [-122.72203483577982, 45.5787537], &quot;type&quot;: &quot;Point&quot;}, &quot;id&quot;: &quot;1208&quot;, &quot;properties&quot;: {&quot;__folium_color&quot;: &quot;#31678e&quot;, &quot;distance&quot;: 9145.77139848414}, &quot;type&quot;: &quot;Feature&quot;}, {&quot;bbox&quot;: [-122.55046590148955, 45.505454449999995, -122.55046590148955, 45.505454449999995], &quot;geometry&quot;: {&quot;coordinates&quot;: [-122.55046590148955, 45.505454449999995], &quot;type&quot;: &quot;Point&quot;}, &quot;id&quot;: &quot;1209&quot;, &quot;properties&quot;: {&quot;__folium_color&quot;: &quot;#355e8d&quot;, &quot;distance&quot;: 8188.067066209601}, &quot;type&quot;: &quot;Feature&quot;}, {&quot;bbox&quot;: [-122.59364277698413, 45.409568750000005, -122.59364277698413, 45.409568750000005], &quot;geometry&quot;: {&quot;coordinates&quot;: [-122.59364277698413, 45.409568750000005], &quot;type&quot;: &quot;Point&quot;}, &quot;id&quot;: &quot;1210&quot;, &quot;properties&quot;: {&quot;__folium_color&quot;: &quot;#23898e&quot;, &quot;distance&quot;: 12912.857968623319}, &quot;type&quot;: &quot;Feature&quot;}, {&quot;bbox&quot;: [-122.61533976533815, 45.50817055, -122.61533976533815, 45.50817055], &quot;geometry&quot;: {&quot;coordinates&quot;: [-122.61533976533815, 45.50817055], &quot;type&quot;: &quot;Point&quot;}, &quot;id&quot;: &quot;1211&quot;, &quot;properties&quot;: {&quot;__folium_color&quot;: &quot;#375b8d&quot;, &quot;distance&quot;: 7878.608561813058}, &quot;type&quot;: &quot;Feature&quot;}, {&quot;bbox&quot;: [-122.69562819923732, 45.536025300000006, -122.69562819923732, 45.536025300000006], &quot;geometry&quot;: {&quot;coordinates&quot;: [-122.69562819923732, 45.536025300000006], &quot;type&quot;: &quot;Point&quot;}, &quot;id&quot;: &quot;1212&quot;, &quot;properties&quot;: {&quot;__folium_color&quot;: &quot;#482475&quot;, &quot;distance&quot;: 2903.4540096269425}, &quot;type&quot;: &quot;Feature&quot;}, {&quot;bbox&quot;: [-122.68135454782607, 45.47212097391304, -122.68135454782607, 45.47212097391304], &quot;geometry&quot;: {&quot;coordinates&quot;: [-122.68135454782607, 45.47212097391304], &quot;type&quot;: &quot;Point&quot;}, &quot;id&quot;: &quot;1213&quot;, &quot;properties&quot;: {&quot;__folium_color&quot;: &quot;#2d718e&quot;, &quot;distance&quot;: 10234.006313546419}, &quot;type&quot;: &quot;Feature&quot;}, {&quot;bbox&quot;: [-122.61700588643468, 45.52164109999999, -122.61700588643468, 45.52164109999999], &quot;geometry&quot;: {&quot;coordinates&quot;: [-122.61700588643468, 45.52164109999999], &quot;type&quot;: &quot;Point&quot;}, &quot;id&quot;: &quot;1214&quot;, &quot;properties&quot;: {&quot;__folium_color&quot;: &quot;#38598c&quot;, &quot;distance&quot;: 7654.566854582774}, &quot;type&quot;: &quot;Feature&quot;}, {&quot;bbox&quot;: [-122.71935007840139, 45.44045165, -122.71935007840139, 45.44045165], &quot;geometry&quot;: {&quot;coordinates&quot;: [-122.71935007840139, 45.44045165], &quot;type&quot;: &quot;Point&quot;}, &quot;id&quot;: &quot;1215&quot;, &quot;properties&quot;: {&quot;__folium_color&quot;: &quot;#471164&quot;, &quot;distance&quot;: 1377.1746057367113}, &quot;type&quot;: &quot;Feature&quot;}, {&quot;bbox&quot;: [-122.7109144, 45.5292075, -122.7109144, 45.5292075], &quot;geometry&quot;: {&quot;coordinates&quot;: [-122.7109144, 45.5292075], &quot;type&quot;: &quot;Point&quot;}, &quot;id&quot;: &quot;1216&quot;, &quot;properties&quot;: {&quot;__folium_color&quot;: &quot;#277e8e&quot;, &quot;distance&quot;: 11728.76944565151}, &quot;type&quot;: &quot;Feature&quot;}, {&quot;bbox&quot;: [-122.64156867490198, 45.549240299999994, -122.64156867490198, 45.549240299999994], &quot;geometry&quot;: {&quot;coordinates&quot;: [-122.64156867490198, 45.549240299999994], &quot;type&quot;: &quot;Point&quot;}, &quot;id&quot;: &quot;1217&quot;, &quot;properties&quot;: {&quot;__folium_color&quot;: &quot;#3c508b&quot;, &quot;distance&quot;: 6779.631863899913}, &quot;type&quot;: &quot;Feature&quot;}, {&quot;bbox&quot;: [-122.68617209622718, 45.59593049999999, -122.68617209622718, 45.59593049999999], &quot;geometry&quot;: {&quot;coordinates&quot;: [-122.68617209622718, 45.59593049999999], &quot;type&quot;: &quot;Point&quot;}, &quot;id&quot;: &quot;1218&quot;, &quot;properties&quot;: {&quot;__folium_color&quot;: &quot;#31668e&quot;, &quot;distance&quot;: 9063.75288826422}, &quot;type&quot;: &quot;Feature&quot;}, {&quot;bbox&quot;: [-122.6405883939394, 45.52654623232322, -122.6405883939394, 45.52654623232322], &quot;geometry&quot;: {&quot;coordinates&quot;: [-122.6405883939394, 45.52654623232322], &quot;type&quot;: &quot;Point&quot;}, &quot;id&quot;: &quot;1219&quot;, &quot;properties&quot;: {&quot;__folium_color&quot;: &quot;#33628d&quot;, &quot;distance&quot;: 8661.538066197376}, &quot;type&quot;: &quot;Feature&quot;}, {&quot;bbox&quot;: [-122.74619876860832, 45.45987759497405, -122.74619876860832, 45.45987759497405], &quot;geometry&quot;: {&quot;coordinates&quot;: [-122.74619876860832, 45.45987759497405], &quot;type&quot;: &quot;Point&quot;}, &quot;id&quot;: &quot;1220&quot;, &quot;properties&quot;: {&quot;__folium_color&quot;: &quot;#3d4e8a&quot;, &quot;distance&quot;: 6609.657313608744}, &quot;type&quot;: &quot;Feature&quot;}, {&quot;bbox&quot;: [-122.65480957484161, 45.54024615, -122.65480957484161, 45.54024615], &quot;geometry&quot;: {&quot;coordinates&quot;: [-122.65480957484161, 45.54024615], &quot;type&quot;: &quot;Point&quot;}, &quot;id&quot;: &quot;1221&quot;, &quot;properties&quot;: {&quot;__folium_color&quot;: &quot;#470e61&quot;, &quot;distance&quot;: 1227.8569112194384}, &quot;type&quot;: &quot;Feature&quot;}, {&quot;bbox&quot;: [-122.54497058091538, 45.52103329999999, -122.54497058091538, 45.52103329999999], &quot;geometry&quot;: {&quot;coordinates&quot;: [-122.54497058091538, 45.52103329999999], &quot;type&quot;: &quot;Point&quot;}, &quot;id&quot;: &quot;1222&quot;, &quot;properties&quot;: {&quot;__folium_color&quot;: &quot;#460b5e&quot;, &quot;distance&quot;: 995.501931483559}, &quot;type&quot;: &quot;Feature&quot;}, {&quot;bbox&quot;: [-122.71568186311772, 45.45482319999999, -122.71568186311772, 45.45482319999999], &quot;geometry&quot;: {&quot;coordinates&quot;: [-122.71568186311772, 45.45482319999999], &quot;type&quot;: &quot;Point&quot;}, &quot;id&quot;: &quot;1223&quot;, &quot;properties&quot;: {&quot;__folium_color&quot;: &quot;#3a548c&quot;, &quot;distance&quot;: 7294.953236590638}, &quot;type&quot;: &quot;Feature&quot;}, {&quot;bbox&quot;: [-122.63364393034298, 45.463233, -122.63364393034298, 45.463233], &quot;geometry&quot;: {&quot;coordinates&quot;: [-122.63364393034298, 45.463233], &quot;type&quot;: &quot;Point&quot;}, &quot;id&quot;: &quot;1224&quot;, &quot;properties&quot;: {&quot;__folium_color&quot;: &quot;#481c6e&quot;, &quot;distance&quot;: 2238.1134068108754}, &quot;type&quot;: &quot;Feature&quot;}, {&quot;bbox&quot;: [-122.5898655, 45.52441414999999, -122.5898655, 45.52441414999999], &quot;geometry&quot;: {&quot;coordinates&quot;: [-122.5898655, 45.52441414999999], &quot;type&quot;: &quot;Point&quot;}, &quot;id&quot;: &quot;1225&quot;, &quot;properties&quot;: {&quot;__folium_color&quot;: &quot;#33628d&quot;, &quot;distance&quot;: 8621.5913580616}, &quot;type&quot;: &quot;Feature&quot;}, {&quot;bbox&quot;: [-122.7159588426929, 45.61767309423734, -122.7159588426929, 45.61767309423734], &quot;geometry&quot;: {&quot;coordinates&quot;: [-122.7159588426929, 45.61767309423734], &quot;type&quot;: &quot;Point&quot;}, &quot;id&quot;: &quot;1226&quot;, &quot;properties&quot;: {&quot;__folium_color&quot;: &quot;#2d708e&quot;, &quot;distance&quot;: 10079.623911465993}, &quot;type&quot;: &quot;Feature&quot;}, {&quot;bbox&quot;: [-122.62829224095015, 45.52954479999999, -122.62829224095015, 45.52954479999999], &quot;geometry&quot;: {&quot;coordinates&quot;: [-122.62829224095015, 45.52954479999999], &quot;type&quot;: &quot;Point&quot;}, &quot;id&quot;: &quot;1227&quot;, &quot;properties&quot;: {&quot;__folium_color&quot;: &quot;#3e4a89&quot;, &quot;distance&quot;: 6299.162388043334}, &quot;type&quot;: &quot;Feature&quot;}, {&quot;bbox&quot;: [-122.63937722470989, 45.54741355, -122.63937722470989, 45.54741355], &quot;geometry&quot;: {&quot;coordinates&quot;: [-122.63937722470989, 45.54741355], &quot;type&quot;: &quot;Point&quot;}, &quot;id&quot;: &quot;1228&quot;, &quot;properties&quot;: {&quot;__folium_color&quot;: &quot;#3b518b&quot;, &quot;distance&quot;: 6924.659921116219}, &quot;type&quot;: &quot;Feature&quot;}, {&quot;bbox&quot;: [-122.6304018, 45.5609242, -122.6304018, 45.5609242], &quot;geometry&quot;: {&quot;coordinates&quot;: [-122.6304018, 45.5609242], &quot;type&quot;: &quot;Point&quot;}, &quot;id&quot;: &quot;1229&quot;, &quot;properties&quot;: {&quot;__folium_color&quot;: &quot;#482576&quot;, &quot;distance&quot;: 2982.2565908111997}, &quot;type&quot;: &quot;Feature&quot;}, {&quot;bbox&quot;: [-122.54138524340105, 45.566885915888435, -122.54138524340105, 45.566885915888435], &quot;geometry&quot;: {&quot;coordinates&quot;: [-122.54138524340105, 45.566885915888435], &quot;type&quot;: &quot;Point&quot;}, &quot;id&quot;: &quot;1230&quot;, &quot;properties&quot;: {&quot;__folium_color&quot;: &quot;#365c8d&quot;, &quot;distance&quot;: 7978.378551284222}, &quot;type&quot;: &quot;Feature&quot;}, {&quot;bbox&quot;: [-122.66039489999999, 45.4080097, -122.66039489999999, 45.4080097], &quot;geometry&quot;: {&quot;coordinates&quot;: [-122.66039489999999, 45.4080097], &quot;type&quot;: &quot;Point&quot;}, &quot;id&quot;: &quot;1231&quot;, &quot;properties&quot;: {&quot;__folium_color&quot;: &quot;#26818e&quot;, &quot;distance&quot;: 11997.168749144757}, &quot;type&quot;: &quot;Feature&quot;}, {&quot;bbox&quot;: [-122.71068155, 45.49691529999999, -122.71068155, 45.49691529999999], &quot;geometry&quot;: {&quot;coordinates&quot;: [-122.71068155, 45.49691529999999], &quot;type&quot;: &quot;Point&quot;}, &quot;id&quot;: &quot;1232&quot;, &quot;properties&quot;: {&quot;__folium_color&quot;: &quot;#482979&quot;, &quot;distance&quot;: 3281.7107515138728}, &quot;type&quot;: &quot;Feature&quot;}, {&quot;bbox&quot;: [-122.6983281, 45.528052, -122.6983281, 45.528052], &quot;geometry&quot;: {&quot;coordinates&quot;: [-122.6983281, 45.528052], &quot;type&quot;: &quot;Point&quot;}, &quot;id&quot;: &quot;1233&quot;, &quot;properties&quot;: {&quot;__folium_color&quot;: &quot;#287c8e&quot;, &quot;distance&quot;: 11470.160688311074}, &quot;type&quot;: &quot;Feature&quot;}, {&quot;bbox&quot;: [-122.63387759983897, 45.52452114999999, -122.63387759983897, 45.52452114999999], &quot;geometry&quot;: {&quot;coordinates&quot;: [-122.63387759983897, 45.52452114999999], &quot;type&quot;: &quot;Point&quot;}, &quot;id&quot;: &quot;1234&quot;, &quot;properties&quot;: {&quot;__folium_color&quot;: &quot;#48186a&quot;, &quot;distance&quot;: 1927.9059705579277}, &quot;type&quot;: &quot;Feature&quot;}, {&quot;bbox&quot;: [-122.54794389795917, 45.55815330612244, -122.54794389795917, 45.55815330612244], &quot;geometry&quot;: {&quot;coordinates&quot;: [-122.54794389795917, 45.55815330612244], &quot;type&quot;: &quot;Point&quot;}, &quot;id&quot;: &quot;1235&quot;, &quot;properties&quot;: {&quot;__folium_color&quot;: &quot;#297b8e&quot;, &quot;distance&quot;: 11397.280958742425}, &quot;type&quot;: &quot;Feature&quot;}, {&quot;bbox&quot;: [-122.6521692, 45.54268115000001, -122.6521692, 45.54268115000001], &quot;geometry&quot;: {&quot;coordinates&quot;: [-122.6521692, 45.54268115000001], &quot;type&quot;: &quot;Point&quot;}, &quot;id&quot;: &quot;1236&quot;, &quot;properties&quot;: {&quot;__folium_color&quot;: &quot;#471063&quot;, &quot;distance&quot;: 1286.217631482368}, &quot;type&quot;: &quot;Feature&quot;}, {&quot;bbox&quot;: [-122.73719752281549, 45.51638689999999, -122.73719752281549, 45.51638689999999], &quot;geometry&quot;: {&quot;coordinates&quot;: [-122.73719752281549, 45.51638689999999], &quot;type&quot;: &quot;Point&quot;}, &quot;id&quot;: &quot;1237&quot;, &quot;properties&quot;: {&quot;__folium_color&quot;: &quot;#404588&quot;, &quot;distance&quot;: 5753.150171806534}, &quot;type&quot;: &quot;Feature&quot;}, {&quot;bbox&quot;: [-122.68342629999998, 45.52521479999999, -122.68342629999998, 45.52521479999999], &quot;geometry&quot;: {&quot;coordinates&quot;: [-122.68342629999998, 45.52521479999999], &quot;type&quot;: &quot;Point&quot;}, &quot;id&quot;: &quot;1238&quot;, &quot;properties&quot;: {&quot;__folium_color&quot;: &quot;#482979&quot;, &quot;distance&quot;: 3368.467010200687}, &quot;type&quot;: &quot;Feature&quot;}, {&quot;bbox&quot;: [-122.68617209622718, 45.59593049999999, -122.68617209622718, 45.59593049999999], &quot;geometry&quot;: {&quot;coordinates&quot;: [-122.68617209622718, 45.59593049999999], &quot;type&quot;: &quot;Point&quot;}, &quot;id&quot;: &quot;1239&quot;, &quot;properties&quot;: {&quot;__folium_color&quot;: &quot;#3a548c&quot;, &quot;distance&quot;: 7283.099070855287}, &quot;type&quot;: &quot;Feature&quot;}, {&quot;bbox&quot;: [-122.68523875572684, 45.60710713548407, -122.68523875572684, 45.60710713548407], &quot;geometry&quot;: {&quot;coordinates&quot;: [-122.68523875572684, 45.60710713548407], &quot;type&quot;: &quot;Point&quot;}, &quot;id&quot;: &quot;1240&quot;, &quot;properties&quot;: {&quot;__folium_color&quot;: &quot;#2b758e&quot;, &quot;distance&quot;: 10759.399816931926}, &quot;type&quot;: &quot;Feature&quot;}, {&quot;bbox&quot;: [-122.52549390180911, 45.540380549999995, -122.52549390180911, 45.540380549999995], &quot;geometry&quot;: {&quot;coordinates&quot;: [-122.52549390180911, 45.540380549999995], &quot;type&quot;: &quot;Point&quot;}, &quot;id&quot;: &quot;1241&quot;, &quot;properties&quot;: {&quot;__folium_color&quot;: &quot;#2d708e&quot;, &quot;distance&quot;: 10122.242753848317}, &quot;type&quot;: &quot;Feature&quot;}, {&quot;bbox&quot;: [-122.67588515664109, 45.51658775000001, -122.67588515664109, 45.51658775000001], &quot;geometry&quot;: {&quot;coordinates&quot;: [-122.67588515664109, 45.51658775000001], &quot;type&quot;: &quot;Point&quot;}, &quot;id&quot;: &quot;1242&quot;, &quot;properties&quot;: {&quot;__folium_color&quot;: &quot;#470d60&quot;, &quot;distance&quot;: 1161.0362445351914}, &quot;type&quot;: &quot;Feature&quot;}, {&quot;bbox&quot;: [-122.65252778813293, 45.572087350119894, -122.65252778813293, 45.572087350119894], &quot;geometry&quot;: {&quot;coordinates&quot;: [-122.65252778813293, 45.572087350119894], &quot;type&quot;: &quot;Point&quot;}, &quot;id&quot;: &quot;1243&quot;, &quot;properties&quot;: {&quot;__folium_color&quot;: &quot;#297b8e&quot;, &quot;distance&quot;: 11333.188858848573}, &quot;type&quot;: &quot;Feature&quot;}, {&quot;bbox&quot;: [-122.65645190000002, 45.5553077, -122.65645190000002, 45.5553077], &quot;geometry&quot;: {&quot;coordinates&quot;: [-122.65645190000002, 45.5553077], &quot;type&quot;: &quot;Point&quot;}, &quot;id&quot;: &quot;1244&quot;, &quot;properties&quot;: {&quot;__folium_color&quot;: &quot;#481a6c&quot;, &quot;distance&quot;: 2027.9862769554024}, &quot;type&quot;: &quot;Feature&quot;}, {&quot;bbox&quot;: [-122.68197659999997, 45.5285567, -122.68197659999997, 45.5285567], &quot;geometry&quot;: {&quot;coordinates&quot;: [-122.68197659999997, 45.5285567], &quot;type&quot;: &quot;Point&quot;}, &quot;id&quot;: &quot;1245&quot;, &quot;properties&quot;: {&quot;__folium_color&quot;: &quot;#443983&quot;, &quot;distance&quot;: 4736.703520159549}, &quot;type&quot;: &quot;Feature&quot;}, {&quot;bbox&quot;: [-122.6734771285384, 45.53787196874037, -122.6734771285384, 45.53787196874037], &quot;geometry&quot;: {&quot;coordinates&quot;: [-122.6734771285384, 45.53787196874037], &quot;type&quot;: &quot;Point&quot;}, &quot;id&quot;: &quot;1246&quot;, &quot;properties&quot;: {&quot;__folium_color&quot;: &quot;#482878&quot;, &quot;distance&quot;: 3272.8409157441683}, &quot;type&quot;: &quot;Feature&quot;}, {&quot;bbox&quot;: [-122.6108422895714, 45.54125989999999, -122.6108422895714, 45.54125989999999], &quot;geometry&quot;: {&quot;coordinates&quot;: [-122.6108422895714, 45.54125989999999], &quot;type&quot;: &quot;Point&quot;}, &quot;id&quot;: &quot;1248&quot;, &quot;properties&quot;: {&quot;__folium_color&quot;: &quot;#471063&quot;, &quot;distance&quot;: 1286.8567542945937}, &quot;type&quot;: &quot;Feature&quot;}, {&quot;bbox&quot;: [-122.71202979999997, 45.561958700000005, -122.71202979999997, 45.561958700000005], &quot;geometry&quot;: {&quot;coordinates&quot;: [-122.71202979999997, 45.561958700000005], &quot;type&quot;: &quot;Point&quot;}, &quot;id&quot;: &quot;1249&quot;, &quot;properties&quot;: {&quot;__folium_color&quot;: &quot;#3e4a89&quot;, &quot;distance&quot;: 6329.8356858298885}, &quot;type&quot;: &quot;Feature&quot;}, {&quot;bbox&quot;: [-122.82785176881909, 45.57220089999999, -122.82785176881909, 45.57220089999999], &quot;geometry&quot;: {&quot;coordinates&quot;: [-122.82785176881909, 45.57220089999999], &quot;type&quot;: &quot;Point&quot;}, &quot;id&quot;: &quot;1250&quot;, &quot;properties&quot;: {&quot;__folium_color&quot;: &quot;#31b57b&quot;, &quot;distance&quot;: 17935.925631259783}, &quot;type&quot;: &quot;Feature&quot;}, {&quot;bbox&quot;: [-122.57831098722407, 45.52064214999999, -122.57831098722407, 45.52064214999999], &quot;geometry&quot;: {&quot;coordinates&quot;: [-122.57831098722407, 45.52064214999999], &quot;type&quot;: &quot;Point&quot;}, &quot;id&quot;: &quot;1251&quot;, &quot;properties&quot;: {&quot;__folium_color&quot;: &quot;#424186&quot;, &quot;distance&quot;: 5481.864337689146}, &quot;type&quot;: &quot;Feature&quot;}, {&quot;bbox&quot;: [-122.6596056256029, 45.57702329999999, -122.6596056256029, 45.57702329999999], &quot;geometry&quot;: {&quot;coordinates&quot;: [-122.6596056256029, 45.57702329999999], &quot;type&quot;: &quot;Point&quot;}, &quot;id&quot;: &quot;1252&quot;, &quot;properties&quot;: {&quot;__folium_color&quot;: &quot;#453781&quot;, &quot;distance&quot;: 4497.625778027051}, &quot;type&quot;: &quot;Feature&quot;}, {&quot;bbox&quot;: [-122.72744574852919, 45.5071091, -122.72744574852919, 45.5071091], &quot;geometry&quot;: {&quot;coordinates&quot;: [-122.72744574852919, 45.5071091], &quot;type&quot;: &quot;Point&quot;}, &quot;id&quot;: &quot;1253&quot;, &quot;properties&quot;: {&quot;__folium_color&quot;: &quot;#32658e&quot;, &quot;distance&quot;: 8941.06634636685}, &quot;type&quot;: &quot;Feature&quot;}, {&quot;bbox&quot;: [-122.66749924999998, 45.659503, -122.66749924999998, 45.659503], &quot;geometry&quot;: {&quot;coordinates&quot;: [-122.66749924999998, 45.659503], &quot;type&quot;: &quot;Point&quot;}, &quot;id&quot;: &quot;1254&quot;, &quot;properties&quot;: {&quot;__folium_color&quot;: &quot;#86d549&quot;, &quot;distance&quot;: 22421.36502935926}, &quot;type&quot;: &quot;Feature&quot;}, {&quot;bbox&quot;: [-122.67616189155517, 45.52723665000001, -122.67616189155517, 45.52723665000001], &quot;geometry&quot;: {&quot;coordinates&quot;: [-122.67616189155517, 45.52723665000001], &quot;type&quot;: &quot;Point&quot;}, &quot;id&quot;: &quot;1255&quot;, &quot;properties&quot;: {&quot;__folium_color&quot;: &quot;#482475&quot;, &quot;distance&quot;: 2863.9236232184476}, &quot;type&quot;: &quot;Feature&quot;}, {&quot;bbox&quot;: [-122.65477030000001, 45.54743045, -122.65477030000001, 45.54743045], &quot;geometry&quot;: {&quot;coordinates&quot;: [-122.65477030000001, 45.54743045], &quot;type&quot;: &quot;Point&quot;}, &quot;id&quot;: &quot;1256&quot;, &quot;properties&quot;: {&quot;__folium_color&quot;: &quot;#46327e&quot;, &quot;distance&quot;: 4051.596908819305}, &quot;type&quot;: &quot;Feature&quot;}, {&quot;bbox&quot;: [-122.64319472481324, 45.5525109, -122.64319472481324, 45.5525109], &quot;geometry&quot;: {&quot;coordinates&quot;: [-122.64319472481324, 45.5525109], &quot;type&quot;: &quot;Point&quot;}, &quot;id&quot;: &quot;1257&quot;, &quot;properties&quot;: {&quot;__folium_color&quot;: &quot;#460b5e&quot;, &quot;distance&quot;: 1049.7304249853196}, &quot;type&quot;: &quot;Feature&quot;}, {&quot;bbox&quot;: [-122.84380391928569, 45.531901, -122.84380391928569, 45.531901], &quot;geometry&quot;: {&quot;coordinates&quot;: [-122.84380391928569, 45.531901], &quot;type&quot;: &quot;Point&quot;}, &quot;id&quot;: &quot;1258&quot;, &quot;properties&quot;: {&quot;__folium_color&quot;: &quot;#4ec36b&quot;, &quot;distance&quot;: 19782.208540826607}, &quot;type&quot;: &quot;Feature&quot;}, {&quot;bbox&quot;: [-122.69336497516109, 45.58289884999999, -122.69336497516109, 45.58289884999999], &quot;geometry&quot;: {&quot;coordinates&quot;: [-122.69336497516109, 45.58289884999999], &quot;type&quot;: &quot;Point&quot;}, &quot;id&quot;: &quot;1259&quot;, &quot;properties&quot;: {&quot;__folium_color&quot;: &quot;#3a538b&quot;, &quot;distance&quot;: 7090.984490476143}, &quot;type&quot;: &quot;Feature&quot;}, {&quot;bbox&quot;: [-122.53870365149552, 45.48087945, -122.53870365149552, 45.48087945], &quot;geometry&quot;: {&quot;coordinates&quot;: [-122.53870365149552, 45.48087945], &quot;type&quot;: &quot;Point&quot;}, &quot;id&quot;: &quot;1260&quot;, &quot;properties&quot;: {&quot;__folium_color&quot;: &quot;#433d84&quot;, &quot;distance&quot;: 5074.110811987535}, &quot;type&quot;: &quot;Feature&quot;}, {&quot;bbox&quot;: [-122.69883319646969, 45.521120350000004, -122.69883319646969, 45.521120350000004], &quot;geometry&quot;: {&quot;coordinates&quot;: [-122.69883319646969, 45.521120350000004], &quot;type&quot;: &quot;Point&quot;}, &quot;id&quot;: &quot;1261&quot;, &quot;properties&quot;: {&quot;__folium_color&quot;: &quot;#25848e&quot;, &quot;distance&quot;: 12402.7550724838}, &quot;type&quot;: &quot;Feature&quot;}, {&quot;bbox&quot;: [-122.62296943190441, 45.569847550000006, -122.62296943190441, 45.569847550000006], &quot;geometry&quot;: {&quot;coordinates&quot;: [-122.62296943190441, 45.569847550000006], &quot;type&quot;: &quot;Point&quot;}, &quot;id&quot;: &quot;1262&quot;, &quot;properties&quot;: {&quot;__folium_color&quot;: &quot;#39558c&quot;, &quot;distance&quot;: 7362.439136822439}, &quot;type&quot;: &quot;Feature&quot;}, {&quot;bbox&quot;: [-122.71459244784079, 45.588830144776225, -122.71459244784079, 45.588830144776225], &quot;geometry&quot;: {&quot;coordinates&quot;: [-122.71459244784079, 45.588830144776225], &quot;type&quot;: &quot;Point&quot;}, &quot;id&quot;: &quot;1263&quot;, &quot;properties&quot;: {&quot;__folium_color&quot;: &quot;#31688e&quot;, &quot;distance&quot;: 9271.125565128334}, &quot;type&quot;: &quot;Feature&quot;}, {&quot;bbox&quot;: [-122.65043907819148, 45.5743129, -122.65043907819148, 45.5743129], &quot;geometry&quot;: {&quot;coordinates&quot;: [-122.65043907819148, 45.5743129], &quot;type&quot;: &quot;Point&quot;}, &quot;id&quot;: &quot;1264&quot;, &quot;properties&quot;: {&quot;__folium_color&quot;: &quot;#482576&quot;, &quot;distance&quot;: 3011.543744976366}, &quot;type&quot;: &quot;Feature&quot;}, {&quot;bbox&quot;: [-122.79630403667679, 45.46161195, -122.79630403667679, 45.46161195], &quot;geometry&quot;: {&quot;coordinates&quot;: [-122.79630403667679, 45.46161195], &quot;type&quot;: &quot;Point&quot;}, &quot;id&quot;: &quot;1265&quot;, &quot;properties&quot;: {&quot;__folium_color&quot;: &quot;#355e8d&quot;, &quot;distance&quot;: 8177.831581221209}, &quot;type&quot;: &quot;Feature&quot;}, {&quot;bbox&quot;: [-122.68658399999998, 45.530635, -122.68658399999998, 45.530635], &quot;geometry&quot;: {&quot;coordinates&quot;: [-122.68658399999998, 45.530635], &quot;type&quot;: &quot;Point&quot;}, &quot;id&quot;: &quot;1266&quot;, &quot;properties&quot;: {&quot;__folium_color&quot;: &quot;#482475&quot;, &quot;distance&quot;: 2914.1577134713643}, &quot;type&quot;: &quot;Feature&quot;}, {&quot;bbox&quot;: [-122.64601321340363, 45.56255615, -122.64601321340363, 45.56255615], &quot;geometry&quot;: {&quot;coordinates&quot;: [-122.64601321340363, 45.56255615], &quot;type&quot;: &quot;Point&quot;}, &quot;id&quot;: &quot;1267&quot;, &quot;properties&quot;: {&quot;__folium_color&quot;: &quot;#58c765&quot;, &quot;distance&quot;: 20230.153766990075}, &quot;type&quot;: &quot;Feature&quot;}, {&quot;bbox&quot;: [-122.70400231395183, 45.64334355, -122.70400231395183, 45.64334355], &quot;geometry&quot;: {&quot;coordinates&quot;: [-122.70400231395183, 45.64334355], &quot;type&quot;: &quot;Point&quot;}, &quot;id&quot;: &quot;1268&quot;, &quot;properties&quot;: {&quot;__folium_color&quot;: &quot;#50c46a&quot;, &quot;distance&quot;: 19860.470726055522}, &quot;type&quot;: &quot;Feature&quot;}, {&quot;bbox&quot;: [-122.65738240013687, 45.55492674999999, -122.65738240013687, 45.55492674999999], &quot;geometry&quot;: {&quot;coordinates&quot;: [-122.65738240013687, 45.55492674999999], &quot;type&quot;: &quot;Point&quot;}, &quot;id&quot;: &quot;1269&quot;, &quot;properties&quot;: {&quot;__folium_color&quot;: &quot;#277f8e&quot;, &quot;distance&quot;: 11828.047880799613}, &quot;type&quot;: &quot;Feature&quot;}, {&quot;bbox&quot;: [-122.64055321098195, 45.494537599999994, -122.64055321098195, 45.494537599999994], &quot;geometry&quot;: {&quot;coordinates&quot;: [-122.64055321098195, 45.494537599999994], &quot;type&quot;: &quot;Point&quot;}, &quot;id&quot;: &quot;1270&quot;, &quot;properties&quot;: {&quot;__folium_color&quot;: &quot;#472f7d&quot;, &quot;distance&quot;: 3847.2649828915646}, &quot;type&quot;: &quot;Feature&quot;}, {&quot;bbox&quot;: [-122.62050745338982, 45.574139042372884, -122.62050745338982, 45.574139042372884], &quot;geometry&quot;: {&quot;coordinates&quot;: [-122.62050745338982, 45.574139042372884], &quot;type&quot;: &quot;Point&quot;}, &quot;id&quot;: &quot;1271&quot;, &quot;properties&quot;: {&quot;__folium_color&quot;: &quot;#404588&quot;, &quot;distance&quot;: 5805.136552750703}, &quot;type&quot;: &quot;Feature&quot;}, {&quot;bbox&quot;: [-122.66883940000001, 45.57690939999999, -122.66883940000001, 45.57690939999999], &quot;geometry&quot;: {&quot;coordinates&quot;: [-122.66883940000001, 45.57690939999999], &quot;type&quot;: &quot;Point&quot;}, &quot;id&quot;: &quot;1272&quot;, &quot;properties&quot;: {&quot;__folium_color&quot;: &quot;#30698e&quot;, &quot;distance&quot;: 9387.09139007672}, &quot;type&quot;: &quot;Feature&quot;}, {&quot;bbox&quot;: [-122.63409895083664, 45.51589490000001, -122.63409895083664, 45.51589490000001], &quot;geometry&quot;: {&quot;coordinates&quot;: [-122.63409895083664, 45.51589490000001], &quot;type&quot;: &quot;Point&quot;}, &quot;id&quot;: &quot;1273&quot;, &quot;properties&quot;: {&quot;__folium_color&quot;: &quot;#471063&quot;, &quot;distance&quot;: 1275.5589809142052}, &quot;type&quot;: &quot;Feature&quot;}, {&quot;bbox&quot;: [-122.56508657699816, 45.65403299999999, -122.56508657699816, 45.65403299999999], &quot;geometry&quot;: {&quot;coordinates&quot;: [-122.56508657699816, 45.65403299999999], &quot;type&quot;: &quot;Point&quot;}, &quot;id&quot;: &quot;1274&quot;, &quot;properties&quot;: {&quot;__folium_color&quot;: &quot;#22a785&quot;, &quot;distance&quot;: 16390.56529234092}, &quot;type&quot;: &quot;Feature&quot;}, {&quot;bbox&quot;: [-122.70052416070985, 45.5786636, -122.70052416070985, 45.5786636], &quot;geometry&quot;: {&quot;coordinates&quot;: [-122.70052416070985, 45.5786636], &quot;type&quot;: &quot;Point&quot;}, &quot;id&quot;: &quot;1275&quot;, &quot;properties&quot;: {&quot;__folium_color&quot;: &quot;#481668&quot;, &quot;distance&quot;: 1698.392236993083}, &quot;type&quot;: &quot;Feature&quot;}, {&quot;bbox&quot;: [-122.59553341110568, 45.33884335, -122.59553341110568, 45.33884335], &quot;geometry&quot;: {&quot;coordinates&quot;: [-122.59553341110568, 45.33884335], &quot;type&quot;: &quot;Point&quot;}, &quot;id&quot;: &quot;1276&quot;, &quot;properties&quot;: {&quot;__folium_color&quot;: &quot;#70cf57&quot;, &quot;distance&quot;: 21389.492000709382}, &quot;type&quot;: &quot;Feature&quot;}, {&quot;bbox&quot;: [-122.70830445695931, 45.524794150000005, -122.70830445695931, 45.524794150000005], &quot;geometry&quot;: {&quot;coordinates&quot;: [-122.70830445695931, 45.524794150000005], &quot;type&quot;: &quot;Point&quot;}, &quot;id&quot;: &quot;1277&quot;, &quot;properties&quot;: {&quot;__folium_color&quot;: &quot;#482173&quot;, &quot;distance&quot;: 2676.226406493876}, &quot;type&quot;: &quot;Feature&quot;}, {&quot;bbox&quot;: [-122.61865212529024, 45.4921217, -122.61865212529024, 45.4921217], &quot;geometry&quot;: {&quot;coordinates&quot;: [-122.61865212529024, 45.4921217], &quot;type&quot;: &quot;Point&quot;}, &quot;id&quot;: &quot;1280&quot;, &quot;properties&quot;: {&quot;__folium_color&quot;: &quot;#481b6d&quot;, &quot;distance&quot;: 2206.459416556245}, &quot;type&quot;: &quot;Feature&quot;}, {&quot;bbox&quot;: [-122.53375530162424, 45.43788864999999, -122.53375530162424, 45.43788864999999], &quot;geometry&quot;: {&quot;coordinates&quot;: [-122.53375530162424, 45.43788864999999], &quot;type&quot;: &quot;Point&quot;}, &quot;id&quot;: &quot;1281&quot;, &quot;properties&quot;: {&quot;__folium_color&quot;: &quot;#2e6e8e&quot;, &quot;distance&quot;: 9943.472222243283}, &quot;type&quot;: &quot;Feature&quot;}, {&quot;bbox&quot;: [-122.62828300000001, 45.63755866666666, -122.62828300000001, 45.63755866666666], &quot;geometry&quot;: {&quot;coordinates&quot;: [-122.62828300000001, 45.63755866666666], &quot;type&quot;: &quot;Point&quot;}, &quot;id&quot;: &quot;1282&quot;, &quot;properties&quot;: {&quot;__folium_color&quot;: &quot;#1f988b&quot;, &quot;distance&quot;: 14632.91220012134}, &quot;type&quot;: &quot;Feature&quot;}, {&quot;bbox&quot;: [-122.70668047877753, 45.49098835, -122.70668047877753, 45.49098835], &quot;geometry&quot;: {&quot;coordinates&quot;: [-122.70668047877753, 45.49098835], &quot;type&quot;: &quot;Point&quot;}, &quot;id&quot;: &quot;1283&quot;, &quot;properties&quot;: {&quot;__folium_color&quot;: &quot;#31688e&quot;, &quot;distance&quot;: 9253.966581200391}, &quot;type&quot;: &quot;Feature&quot;}, {&quot;bbox&quot;: [-122.70002009475542, 45.484593649999994, -122.70002009475542, 45.484593649999994], &quot;geometry&quot;: {&quot;coordinates&quot;: [-122.70002009475542, 45.484593649999994], &quot;type&quot;: &quot;Point&quot;}, &quot;id&quot;: &quot;1284&quot;, &quot;properties&quot;: {&quot;__folium_color&quot;: &quot;#460b5e&quot;, &quot;distance&quot;: 1003.7111823085294}, &quot;type&quot;: &quot;Feature&quot;}, {&quot;bbox&quot;: [-122.70302830965895, 45.53157745, -122.70302830965895, 45.53157745], &quot;geometry&quot;: {&quot;coordinates&quot;: [-122.70302830965895, 45.53157745], &quot;type&quot;: &quot;Point&quot;}, &quot;id&quot;: &quot;1285&quot;, &quot;properties&quot;: {&quot;__folium_color&quot;: &quot;#482374&quot;, &quot;distance&quot;: 2764.020079167688}, &quot;type&quot;: &quot;Feature&quot;}, {&quot;bbox&quot;: [-122.72867924210537, 45.458554, -122.72867924210537, 45.458554], &quot;geometry&quot;: {&quot;coordinates&quot;: [-122.72867924210537, 45.458554], &quot;type&quot;: &quot;Point&quot;}, &quot;id&quot;: &quot;1286&quot;, &quot;properties&quot;: {&quot;__folium_color&quot;: &quot;#481668&quot;, &quot;distance&quot;: 1712.4637656835798}, &quot;type&quot;: &quot;Feature&quot;}, {&quot;bbox&quot;: [-122.71211746251677, 45.42120645, -122.71211746251677, 45.42120645], &quot;geometry&quot;: {&quot;coordinates&quot;: [-122.71211746251677, 45.42120645], &quot;type&quot;: &quot;Point&quot;}, &quot;id&quot;: &quot;1287&quot;, &quot;properties&quot;: {&quot;__folium_color&quot;: &quot;#453781&quot;, &quot;distance&quot;: 4502.594976711282}, &quot;type&quot;: &quot;Feature&quot;}, {&quot;bbox&quot;: [-122.70409338911576, 45.508911149999996, -122.70409338911576, 45.508911149999996], &quot;geometry&quot;: {&quot;coordinates&quot;: [-122.70409338911576, 45.508911149999996], &quot;type&quot;: &quot;Point&quot;}, &quot;id&quot;: &quot;1289&quot;, &quot;properties&quot;: {&quot;__folium_color&quot;: &quot;#31678e&quot;, &quot;distance&quot;: 9119.458145423354}, &quot;type&quot;: &quot;Feature&quot;}, {&quot;bbox&quot;: [-122.72166928627048, 45.42052723829978, -122.72166928627048, 45.42052723829978], &quot;geometry&quot;: {&quot;coordinates&quot;: [-122.72166928627048, 45.42052723829978], &quot;type&quot;: &quot;Point&quot;}, &quot;id&quot;: &quot;1290&quot;, &quot;properties&quot;: {&quot;__folium_color&quot;: &quot;#453581&quot;, &quot;distance&quot;: 4378.968351525817}, &quot;type&quot;: &quot;Feature&quot;}, {&quot;bbox&quot;: [-122.62642609999997, 45.51804620000001, -122.62642609999997, 45.51804620000001], &quot;geometry&quot;: {&quot;coordinates&quot;: [-122.62642609999997, 45.51804620000001], &quot;type&quot;: &quot;Point&quot;}, &quot;id&quot;: &quot;1291&quot;, &quot;properties&quot;: {&quot;__folium_color&quot;: &quot;#2f6c8e&quot;, &quot;distance&quot;: 9672.688095941534}, &quot;type&quot;: &quot;Feature&quot;}, {&quot;bbox&quot;: [-122.65375764999999, 45.54450579999998, -122.65375764999999, 45.54450579999998], &quot;geometry&quot;: {&quot;coordinates&quot;: [-122.65375764999999, 45.54450579999998], &quot;type&quot;: &quot;Point&quot;}, &quot;id&quot;: &quot;1292&quot;, &quot;properties&quot;: {&quot;__folium_color&quot;: &quot;#46085c&quot;, &quot;distance&quot;: 807.0218799115527}, &quot;type&quot;: &quot;Feature&quot;}, {&quot;bbox&quot;: [-122.70571354775454, 45.5309246, -122.70571354775454, 45.5309246], &quot;geometry&quot;: {&quot;coordinates&quot;: [-122.70571354775454, 45.5309246], &quot;type&quot;: &quot;Point&quot;}, &quot;id&quot;: &quot;1293&quot;, &quot;properties&quot;: {&quot;__folium_color&quot;: &quot;#482475&quot;, &quot;distance&quot;: 2912.8374469350138}, &quot;type&quot;: &quot;Feature&quot;}, {&quot;bbox&quot;: [-122.7048092998159, 45.49997805, -122.7048092998159, 45.49997805], &quot;geometry&quot;: {&quot;coordinates&quot;: [-122.7048092998159, 45.49997805], &quot;type&quot;: &quot;Point&quot;}, &quot;id&quot;: &quot;1294&quot;, &quot;properties&quot;: {&quot;__folium_color&quot;: &quot;#375a8c&quot;, &quot;distance&quot;: 7743.80277531657}, &quot;type&quot;: &quot;Feature&quot;}, {&quot;bbox&quot;: [-122.76733698014463, 45.49644985, -122.76733698014463, 45.49644985], &quot;geometry&quot;: {&quot;coordinates&quot;: [-122.76733698014463, 45.49644985], &quot;type&quot;: &quot;Point&quot;}, &quot;id&quot;: &quot;1295&quot;, &quot;properties&quot;: {&quot;__folium_color&quot;: &quot;#31668e&quot;, &quot;distance&quot;: 8993.755006946287}, &quot;type&quot;: &quot;Feature&quot;}, {&quot;bbox&quot;: [-122.57827363828122, 45.520312000000004, -122.57827363828122, 45.520312000000004], &quot;geometry&quot;: {&quot;coordinates&quot;: [-122.57827363828122, 45.520312000000004], &quot;type&quot;: &quot;Point&quot;}, &quot;id&quot;: &quot;1296&quot;, &quot;properties&quot;: {&quot;__folium_color&quot;: &quot;#433d84&quot;, &quot;distance&quot;: 5007.361788927653}, &quot;type&quot;: &quot;Feature&quot;}, {&quot;bbox&quot;: [-122.6540423871456, 45.5935231, -122.6540423871456, 45.5935231], &quot;geometry&quot;: {&quot;coordinates&quot;: [-122.6540423871456, 45.5935231], &quot;type&quot;: &quot;Point&quot;}, &quot;id&quot;: &quot;1297&quot;, &quot;properties&quot;: {&quot;__folium_color&quot;: &quot;#355f8d&quot;, &quot;distance&quot;: 8349.076258754723}, &quot;type&quot;: &quot;Feature&quot;}, {&quot;bbox&quot;: [-122.681019, 45.512218, -122.681019, 45.512218], &quot;geometry&quot;: {&quot;coordinates&quot;: [-122.681019, 45.512218], &quot;type&quot;: &quot;Point&quot;}, &quot;id&quot;: &quot;1298&quot;, &quot;properties&quot;: {&quot;__folium_color&quot;: &quot;#375a8c&quot;, &quot;distance&quot;: 7789.843613217955}, &quot;type&quot;: &quot;Feature&quot;}, {&quot;bbox&quot;: [-122.77793251597198, 45.58829393763048, -122.77793251597198, 45.58829393763048], &quot;geometry&quot;: {&quot;coordinates&quot;: [-122.77793251597198, 45.58829393763048], &quot;type&quot;: &quot;Point&quot;}, &quot;id&quot;: &quot;1299&quot;, &quot;properties&quot;: {&quot;__folium_color&quot;: &quot;#482576&quot;, &quot;distance&quot;: 3005.048014059113}, &quot;type&quot;: &quot;Feature&quot;}, {&quot;bbox&quot;: [-122.62134130312896, 45.5124744, -122.62134130312896, 45.5124744], &quot;geometry&quot;: {&quot;coordinates&quot;: [-122.62134130312896, 45.5124744], &quot;type&quot;: &quot;Point&quot;}, &quot;id&quot;: &quot;1300&quot;, &quot;properties&quot;: {&quot;__folium_color&quot;: &quot;#46307e&quot;, &quot;distance&quot;: 3996.597055087185}, &quot;type&quot;: &quot;Feature&quot;}, {&quot;bbox&quot;: [-122.6995932, 45.37628209999999, -122.6995932, 45.37628209999999], &quot;geometry&quot;: {&quot;coordinates&quot;: [-122.6995932, 45.37628209999999], &quot;type&quot;: &quot;Point&quot;}, &quot;id&quot;: &quot;1301&quot;, &quot;properties&quot;: {&quot;__folium_color&quot;: &quot;#ece51b&quot;, &quot;distance&quot;: 26515.502724100323}, &quot;type&quot;: &quot;Feature&quot;}, {&quot;bbox&quot;: [-122.51763649816007, 45.442431150000004, -122.51763649816007, 45.442431150000004], &quot;geometry&quot;: {&quot;coordinates&quot;: [-122.51763649816007, 45.442431150000004], &quot;type&quot;: &quot;Point&quot;}, &quot;id&quot;: &quot;1302&quot;, &quot;properties&quot;: {&quot;__folium_color&quot;: &quot;#26818e&quot;, &quot;distance&quot;: 12011.991644947047}, &quot;type&quot;: &quot;Feature&quot;}, {&quot;bbox&quot;: [-122.69963614442268, 45.589021200000005, -122.69963614442268, 45.589021200000005], &quot;geometry&quot;: {&quot;coordinates&quot;: [-122.69963614442268, 45.589021200000005], &quot;type&quot;: &quot;Point&quot;}, &quot;id&quot;: &quot;1303&quot;, &quot;properties&quot;: {&quot;__folium_color&quot;: &quot;#355f8d&quot;, &quot;distance&quot;: 8284.459536264761}, &quot;type&quot;: &quot;Feature&quot;}, {&quot;bbox&quot;: [-122.55054397493168, 45.53271775000001, -122.55054397493168, 45.53271775000001], &quot;geometry&quot;: {&quot;coordinates&quot;: [-122.55054397493168, 45.53271775000001], &quot;type&quot;: &quot;Point&quot;}, &quot;id&quot;: &quot;1304&quot;, &quot;properties&quot;: {&quot;__folium_color&quot;: &quot;#482475&quot;, &quot;distance&quot;: 2873.9607744477794}, &quot;type&quot;: &quot;Feature&quot;}, {&quot;bbox&quot;: [-122.58681911297043, 45.46111787979021, -122.58681911297043, 45.46111787979021], &quot;geometry&quot;: {&quot;coordinates&quot;: [-122.58681911297043, 45.46111787979021], &quot;type&quot;: &quot;Point&quot;}, &quot;id&quot;: &quot;1305&quot;, &quot;properties&quot;: {&quot;__folium_color&quot;: &quot;#443983&quot;, &quot;distance&quot;: 4700.420955261284}, &quot;type&quot;: &quot;Feature&quot;}, {&quot;bbox&quot;: [-122.60179719999998, 45.533496, -122.60179719999998, 45.533496], &quot;geometry&quot;: {&quot;coordinates&quot;: [-122.60179719999998, 45.533496], &quot;type&quot;: &quot;Point&quot;}, &quot;id&quot;: &quot;1307&quot;, &quot;properties&quot;: {&quot;__folium_color&quot;: &quot;#481c6e&quot;, &quot;distance&quot;: 2254.646012365174}, &quot;type&quot;: &quot;Feature&quot;}, {&quot;bbox&quot;: [-122.64971522448981, 45.483766122448976, -122.64971522448981, 45.483766122448976], &quot;geometry&quot;: {&quot;coordinates&quot;: [-122.64971522448981, 45.483766122448976], &quot;type&quot;: &quot;Point&quot;}, &quot;id&quot;: &quot;1308&quot;, &quot;properties&quot;: {&quot;__folium_color&quot;: &quot;#404688&quot;, &quot;distance&quot;: 5838.655804986546}, &quot;type&quot;: &quot;Feature&quot;}, {&quot;bbox&quot;: [-122.70165208239875, 45.532490224347306, -122.70165208239875, 45.532490224347306], &quot;geometry&quot;: {&quot;coordinates&quot;: [-122.70165208239875, 45.532490224347306], &quot;type&quot;: &quot;Point&quot;}, &quot;id&quot;: &quot;1309&quot;, &quot;properties&quot;: {&quot;__folium_color&quot;: &quot;#453781&quot;, &quot;distance&quot;: 4463.553306750087}, &quot;type&quot;: &quot;Feature&quot;}, {&quot;bbox&quot;: [-122.68357707523971, 45.55482365, -122.68357707523971, 45.55482365], &quot;geometry&quot;: {&quot;coordinates&quot;: [-122.68357707523971, 45.55482365], &quot;type&quot;: &quot;Point&quot;}, &quot;id&quot;: &quot;1310&quot;, &quot;properties&quot;: {&quot;__folium_color&quot;: &quot;#481769&quot;, &quot;distance&quot;: 1808.246705743534}, &quot;type&quot;: &quot;Feature&quot;}, {&quot;bbox&quot;: [-122.60147704063125, 45.52666685, -122.60147704063125, 45.52666685], &quot;geometry&quot;: {&quot;coordinates&quot;: [-122.60147704063125, 45.52666685], &quot;type&quot;: &quot;Point&quot;}, &quot;id&quot;: &quot;1311&quot;, &quot;properties&quot;: {&quot;__folium_color&quot;: &quot;#3a538b&quot;, &quot;distance&quot;: 7189.35415738166}, &quot;type&quot;: &quot;Feature&quot;}, {&quot;bbox&quot;: [-122.64075142494804, 45.46103784999999, -122.64075142494804, 45.46103784999999], &quot;geometry&quot;: {&quot;coordinates&quot;: [-122.64075142494804, 45.46103784999999], &quot;type&quot;: &quot;Point&quot;}, &quot;id&quot;: &quot;1312&quot;, &quot;properties&quot;: {&quot;__folium_color&quot;: &quot;#463480&quot;, &quot;distance&quot;: 4278.118156538122}, &quot;type&quot;: &quot;Feature&quot;}, {&quot;bbox&quot;: [-122.71781363265305, 45.5778686122449, -122.71781363265305, 45.5778686122449], &quot;geometry&quot;: {&quot;coordinates&quot;: [-122.71781363265305, 45.5778686122449], &quot;type&quot;: &quot;Point&quot;}, &quot;id&quot;: &quot;1313&quot;, &quot;properties&quot;: {&quot;__folium_color&quot;: &quot;#355e8d&quot;, &quot;distance&quot;: 8177.40576138257}, &quot;type&quot;: &quot;Feature&quot;}, {&quot;bbox&quot;: [-122.68624508171956, 45.5785982, -122.68624508171956, 45.5785982], &quot;geometry&quot;: {&quot;coordinates&quot;: [-122.68624508171956, 45.5785982], &quot;type&quot;: &quot;Point&quot;}, &quot;id&quot;: &quot;1314&quot;, &quot;properties&quot;: {&quot;__folium_color&quot;: &quot;#3e4a89&quot;, &quot;distance&quot;: 6305.6493428393105}, &quot;type&quot;: &quot;Feature&quot;}, {&quot;bbox&quot;: [-122.6892493119211, 45.533872599999995, -122.6892493119211, 45.533872599999995], &quot;geometry&quot;: {&quot;coordinates&quot;: [-122.6892493119211, 45.533872599999995], &quot;type&quot;: &quot;Point&quot;}, &quot;id&quot;: &quot;1315&quot;, &quot;properties&quot;: {&quot;__folium_color&quot;: &quot;#470d60&quot;, &quot;distance&quot;: 1125.8205922037125}, &quot;type&quot;: &quot;Feature&quot;}, {&quot;bbox&quot;: [-122.64263465, 45.474494099999994, -122.64263465, 45.474494099999994], &quot;geometry&quot;: {&quot;coordinates&quot;: [-122.64263465, 45.474494099999994], &quot;type&quot;: &quot;Point&quot;}, &quot;id&quot;: &quot;1316&quot;, &quot;properties&quot;: {&quot;__folium_color&quot;: &quot;#472a7a&quot;, &quot;distance&quot;: 3473.0137389450765}, &quot;type&quot;: &quot;Feature&quot;}, {&quot;bbox&quot;: [-122.6215131605294, 45.50582459030802, -122.6215131605294, 45.50582459030802], &quot;geometry&quot;: {&quot;coordinates&quot;: [-122.6215131605294, 45.50582459030802], &quot;type&quot;: &quot;Point&quot;}, &quot;id&quot;: &quot;1317&quot;, &quot;properties&quot;: {&quot;__folium_color&quot;: &quot;#3b528b&quot;, &quot;distance&quot;: 6990.404057105774}, &quot;type&quot;: &quot;Feature&quot;}, {&quot;bbox&quot;: [-122.62412877551021, 45.518657795918365, -122.62412877551021, 45.518657795918365], &quot;geometry&quot;: {&quot;coordinates&quot;: [-122.62412877551021, 45.518657795918365], &quot;type&quot;: &quot;Point&quot;}, &quot;id&quot;: &quot;1318&quot;, &quot;properties&quot;: {&quot;__folium_color&quot;: &quot;#3e4c8a&quot;, &quot;distance&quot;: 6438.213589471066}, &quot;type&quot;: &quot;Feature&quot;}, {&quot;bbox&quot;: [-122.62328807494644, 45.51697675, -122.62328807494644, 45.51697675], &quot;geometry&quot;: {&quot;coordinates&quot;: [-122.62328807494644, 45.51697675], &quot;type&quot;: &quot;Point&quot;}, &quot;id&quot;: &quot;1319&quot;, &quot;properties&quot;: {&quot;__folium_color&quot;: &quot;#31668e&quot;, &quot;distance&quot;: 9005.648865998983}, &quot;type&quot;: &quot;Feature&quot;}, {&quot;bbox&quot;: [-122.58962876578497, 45.63360835000001, -122.58962876578497, 45.63360835000001], &quot;geometry&quot;: {&quot;coordinates&quot;: [-122.58962876578497, 45.63360835000001], &quot;type&quot;: &quot;Point&quot;}, &quot;id&quot;: &quot;1320&quot;, &quot;properties&quot;: {&quot;__folium_color&quot;: &quot;#1e9c89&quot;, &quot;distance&quot;: 15071.707458523451}, &quot;type&quot;: &quot;Feature&quot;}, {&quot;bbox&quot;: [-122.65077369999999, 45.5067259, -122.65077369999999, 45.5067259], &quot;geometry&quot;: {&quot;coordinates&quot;: [-122.65077369999999, 45.5067259], &quot;type&quot;: &quot;Point&quot;}, &quot;id&quot;: &quot;1321&quot;, &quot;properties&quot;: {&quot;__folium_color&quot;: &quot;#31678e&quot;, &quot;distance&quot;: 9153.658758320305}, &quot;type&quot;: &quot;Feature&quot;}, {&quot;bbox&quot;: [-122.71651654081634, 45.57309528571429, -122.71651654081634, 45.57309528571429], &quot;geometry&quot;: {&quot;coordinates&quot;: [-122.71651654081634, 45.57309528571429], &quot;type&quot;: &quot;Point&quot;}, &quot;id&quot;: &quot;1322&quot;, &quot;properties&quot;: {&quot;__folium_color&quot;: &quot;#443983&quot;, &quot;distance&quot;: 4694.759940098054}, &quot;type&quot;: &quot;Feature&quot;}, {&quot;bbox&quot;: [-122.6403167, 45.46201449999999, -122.6403167, 45.46201449999999], &quot;geometry&quot;: {&quot;coordinates&quot;: [-122.6403167, 45.46201449999999], &quot;type&quot;: &quot;Point&quot;}, &quot;id&quot;: &quot;1323&quot;, &quot;properties&quot;: {&quot;__folium_color&quot;: &quot;#481467&quot;, &quot;distance&quot;: 1645.993323893994}, &quot;type&quot;: &quot;Feature&quot;}, {&quot;bbox&quot;: [-122.68028617881912, 45.475010749999996, -122.68028617881912, 45.475010749999996], &quot;geometry&quot;: {&quot;coordinates&quot;: [-122.68028617881912, 45.475010749999996], &quot;type&quot;: &quot;Point&quot;}, &quot;id&quot;: &quot;1324&quot;, &quot;properties&quot;: {&quot;__folium_color&quot;: &quot;#482979&quot;, &quot;distance&quot;: 3281.917635164933}, &quot;type&quot;: &quot;Feature&quot;}, {&quot;bbox&quot;: [-122.661764, 45.534473, -122.661764, 45.534473], &quot;geometry&quot;: {&quot;coordinates&quot;: [-122.661764, 45.534473], &quot;type&quot;: &quot;Point&quot;}, &quot;id&quot;: &quot;1325&quot;, &quot;properties&quot;: {&quot;__folium_color&quot;: &quot;#472d7b&quot;, &quot;distance&quot;: 3608.8950535578597}, &quot;type&quot;: &quot;Feature&quot;}, {&quot;bbox&quot;: [-122.6572413498608, 45.542840350000006, -122.6572413498608, 45.542840350000006], &quot;geometry&quot;: {&quot;coordinates&quot;: [-122.6572413498608, 45.542840350000006], &quot;type&quot;: &quot;Point&quot;}, &quot;id&quot;: &quot;1326&quot;, &quot;properties&quot;: {&quot;__folium_color&quot;: &quot;#3a538b&quot;, &quot;distance&quot;: 7138.907707967693}, &quot;type&quot;: &quot;Feature&quot;}, {&quot;bbox&quot;: [-122.52090022756617, 45.4771827, -122.52090022756617, 45.4771827], &quot;geometry&quot;: {&quot;coordinates&quot;: [-122.52090022756617, 45.4771827], &quot;type&quot;: &quot;Point&quot;}, &quot;id&quot;: &quot;1327&quot;, &quot;properties&quot;: {&quot;__folium_color&quot;: &quot;#3d4e8a&quot;, &quot;distance&quot;: 6578.118228305801}, &quot;type&quot;: &quot;Feature&quot;}, {&quot;bbox&quot;: [-122.62039785714288, 45.508288836734685, -122.62039785714288, 45.508288836734685], &quot;geometry&quot;: {&quot;coordinates&quot;: [-122.62039785714288, 45.508288836734685], &quot;type&quot;: &quot;Point&quot;}, &quot;id&quot;: &quot;1328&quot;, &quot;properties&quot;: {&quot;__folium_color&quot;: &quot;#2e6d8e&quot;, &quot;distance&quot;: 9762.717561281317}, &quot;type&quot;: &quot;Feature&quot;}, {&quot;bbox&quot;: [-122.61938117485715, 45.52157515, -122.61938117485715, 45.52157515], &quot;geometry&quot;: {&quot;coordinates&quot;: [-122.61938117485715, 45.52157515], &quot;type&quot;: &quot;Point&quot;}, &quot;id&quot;: &quot;1329&quot;, &quot;properties&quot;: {&quot;__folium_color&quot;: &quot;#470d60&quot;, &quot;distance&quot;: 1067.2092792484098}, &quot;type&quot;: &quot;Feature&quot;}, {&quot;bbox&quot;: [-122.6888118, 45.55996424999999, -122.6888118, 45.55996424999999], &quot;geometry&quot;: {&quot;coordinates&quot;: [-122.6888118, 45.55996424999999], &quot;type&quot;: &quot;Point&quot;}, &quot;id&quot;: &quot;1330&quot;, &quot;properties&quot;: {&quot;__folium_color&quot;: &quot;#472d7b&quot;, &quot;distance&quot;: 3641.9919319532896}, &quot;type&quot;: &quot;Feature&quot;}, {&quot;bbox&quot;: [-122.75062645291308, 45.63817715, -122.75062645291308, 45.63817715], &quot;geometry&quot;: {&quot;coordinates&quot;: [-122.75062645291308, 45.63817715], &quot;type&quot;: &quot;Point&quot;}, &quot;id&quot;: &quot;1331&quot;, &quot;properties&quot;: {&quot;__folium_color&quot;: &quot;#32b67a&quot;, &quot;distance&quot;: 18034.629978695222}, &quot;type&quot;: &quot;Feature&quot;}, {&quot;bbox&quot;: [-122.5804029, 45.47624029999999, -122.5804029, 45.47624029999999], &quot;geometry&quot;: {&quot;coordinates&quot;: [-122.5804029, 45.47624029999999], &quot;type&quot;: &quot;Point&quot;}, &quot;id&quot;: &quot;1332&quot;, &quot;properties&quot;: {&quot;__folium_color&quot;: &quot;#472c7a&quot;, &quot;distance&quot;: 3556.419340439286}, &quot;type&quot;: &quot;Feature&quot;}, {&quot;bbox&quot;: [-122.67470898580416, 45.47322045, -122.67470898580416, 45.47322045], &quot;geometry&quot;: {&quot;coordinates&quot;: [-122.67470898580416, 45.47322045], &quot;type&quot;: &quot;Point&quot;}, &quot;id&quot;: &quot;1333&quot;, &quot;properties&quot;: {&quot;__folium_color&quot;: &quot;#482071&quot;, &quot;distance&quot;: 2600.890923187944}, &quot;type&quot;: &quot;Feature&quot;}, {&quot;bbox&quot;: [-122.56834230303032, 45.56382259090908, -122.56834230303032, 45.56382259090908], &quot;geometry&quot;: {&quot;coordinates&quot;: [-122.56834230303032, 45.56382259090908], &quot;type&quot;: &quot;Point&quot;}, &quot;id&quot;: &quot;1334&quot;, &quot;properties&quot;: {&quot;__folium_color&quot;: &quot;#287c8e&quot;, &quot;distance&quot;: 11489.682595342083}, &quot;type&quot;: &quot;Feature&quot;}, {&quot;bbox&quot;: [-122.71039329354943, 45.5350972, -122.71039329354943, 45.5350972], &quot;geometry&quot;: {&quot;coordinates&quot;: [-122.71039329354943, 45.5350972], &quot;type&quot;: &quot;Point&quot;}, &quot;id&quot;: &quot;1336&quot;, &quot;properties&quot;: {&quot;__folium_color&quot;: &quot;#470e61&quot;, &quot;distance&quot;: 1252.7719524352306}, &quot;type&quot;: &quot;Feature&quot;}, {&quot;bbox&quot;: [-122.73512170877879, 45.43524759999999, -122.73512170877879, 45.43524759999999], &quot;geometry&quot;: {&quot;coordinates&quot;: [-122.73512170877879, 45.43524759999999], &quot;type&quot;: &quot;Point&quot;}, &quot;id&quot;: &quot;1337&quot;, &quot;properties&quot;: {&quot;__folium_color&quot;: &quot;#1f968b&quot;, &quot;distance&quot;: 14409.891029352824}, &quot;type&quot;: &quot;Feature&quot;}, {&quot;bbox&quot;: [-122.637750969697, 45.49573811111111, -122.637750969697, 45.49573811111111], &quot;geometry&quot;: {&quot;coordinates&quot;: [-122.637750969697, 45.49573811111111], &quot;type&quot;: &quot;Point&quot;}, &quot;id&quot;: &quot;1338&quot;, &quot;properties&quot;: {&quot;__folium_color&quot;: &quot;#3d4d8a&quot;, &quot;distance&quot;: 6501.819721624282}, &quot;type&quot;: &quot;Feature&quot;}, {&quot;bbox&quot;: [-122.69764311196529, 45.501129750000004, -122.69764311196529, 45.501129750000004], &quot;geometry&quot;: {&quot;coordinates&quot;: [-122.69764311196529, 45.501129750000004], &quot;type&quot;: &quot;Point&quot;}, &quot;id&quot;: &quot;1339&quot;, &quot;properties&quot;: {&quot;__folium_color&quot;: &quot;#33628d&quot;, &quot;distance&quot;: 8642.203009889545}, &quot;type&quot;: &quot;Feature&quot;}, {&quot;bbox&quot;: [-122.62986100000002, 45.516560899999995, -122.62986100000002, 45.516560899999995], &quot;geometry&quot;: {&quot;coordinates&quot;: [-122.62986100000002, 45.516560899999995], &quot;type&quot;: &quot;Point&quot;}, &quot;id&quot;: &quot;1340&quot;, &quot;properties&quot;: {&quot;__folium_color&quot;: &quot;#472a7a&quot;, &quot;distance&quot;: 3484.2662432269663}, &quot;type&quot;: &quot;Feature&quot;}, {&quot;bbox&quot;: [-122.64601675664399, 45.53984965, -122.64601675664399, 45.53984965], &quot;geometry&quot;: {&quot;coordinates&quot;: [-122.64601675664399, 45.53984965], &quot;type&quot;: &quot;Point&quot;}, &quot;id&quot;: &quot;1341&quot;, &quot;properties&quot;: {&quot;__folium_color&quot;: &quot;#453882&quot;, &quot;distance&quot;: 4581.313282945096}, &quot;type&quot;: &quot;Feature&quot;}, {&quot;bbox&quot;: [-122.55518033868, 45.5352195, -122.55518033868, 45.5352195], &quot;geometry&quot;: {&quot;coordinates&quot;: [-122.55518033868, 45.5352195], &quot;type&quot;: &quot;Point&quot;}, &quot;id&quot;: &quot;1342&quot;, &quot;properties&quot;: {&quot;__folium_color&quot;: &quot;#472a7a&quot;, &quot;distance&quot;: 3477.262710659963}, &quot;type&quot;: &quot;Feature&quot;}, {&quot;bbox&quot;: [-122.61577145000001, 45.48383315, -122.61577145000001, 45.48383315], &quot;geometry&quot;: {&quot;coordinates&quot;: [-122.61577145000001, 45.48383315], &quot;type&quot;: &quot;Point&quot;}, &quot;id&quot;: &quot;1343&quot;, &quot;properties&quot;: {&quot;__folium_color&quot;: &quot;#443a83&quot;, &quot;distance&quot;: 4853.533599964281}, &quot;type&quot;: &quot;Feature&quot;}, {&quot;bbox&quot;: [-122.74739239662583, 45.49749655000001, -122.74739239662583, 45.49749655000001], &quot;geometry&quot;: {&quot;coordinates&quot;: [-122.74739239662583, 45.49749655000001], &quot;type&quot;: &quot;Point&quot;}, &quot;id&quot;: &quot;1344&quot;, &quot;properties&quot;: {&quot;__folium_color&quot;: &quot;#365d8d&quot;, &quot;distance&quot;: 8061.295175538053}, &quot;type&quot;: &quot;Feature&quot;}, {&quot;bbox&quot;: [-122.69167690909092, 45.536415272727275, -122.69167690909092, 45.536415272727275], &quot;geometry&quot;: {&quot;coordinates&quot;: [-122.69167690909092, 45.536415272727275], &quot;type&quot;: &quot;Point&quot;}, &quot;id&quot;: &quot;1345&quot;, &quot;properties&quot;: {&quot;__folium_color&quot;: &quot;#482878&quot;, &quot;distance&quot;: 3224.278976507987}, &quot;type&quot;: &quot;Feature&quot;}, {&quot;bbox&quot;: [-122.67343268395904, 45.53876865622039, -122.67343268395904, 45.53876865622039], &quot;geometry&quot;: {&quot;coordinates&quot;: [-122.67343268395904, 45.53876865622039], &quot;type&quot;: &quot;Point&quot;}, &quot;id&quot;: &quot;1346&quot;, &quot;properties&quot;: {&quot;__folium_color&quot;: &quot;#482576&quot;, &quot;distance&quot;: 2966.558816522106}, &quot;type&quot;: &quot;Feature&quot;}, {&quot;bbox&quot;: [-122.65493599999998, 45.516328699999995, -122.65493599999998, 45.516328699999995], &quot;geometry&quot;: {&quot;coordinates&quot;: [-122.65493599999998, 45.516328699999995], &quot;type&quot;: &quot;Point&quot;}, &quot;id&quot;: &quot;1347&quot;, &quot;properties&quot;: {&quot;__folium_color&quot;: &quot;#46337f&quot;, &quot;distance&quot;: 4196.959238896919}, &quot;type&quot;: &quot;Feature&quot;}, {&quot;bbox&quot;: [-122.6990406184146, 45.602099900000006, -122.6990406184146, 45.602099900000006], &quot;geometry&quot;: {&quot;coordinates&quot;: [-122.6990406184146, 45.602099900000006], &quot;type&quot;: &quot;Point&quot;}, &quot;id&quot;: &quot;1348&quot;, &quot;properties&quot;: {&quot;__folium_color&quot;: &quot;#3b528b&quot;, &quot;distance&quot;: 7009.119283385306}, &quot;type&quot;: &quot;Feature&quot;}, {&quot;bbox&quot;: [-122.6507356119942, 45.45961295, -122.6507356119942, 45.45961295], &quot;geometry&quot;: {&quot;coordinates&quot;: [-122.6507356119942, 45.45961295], &quot;type&quot;: &quot;Point&quot;}, &quot;id&quot;: &quot;1349&quot;, &quot;properties&quot;: {&quot;__folium_color&quot;: &quot;#471063&quot;, &quot;distance&quot;: 1292.2388953139134}, &quot;type&quot;: &quot;Feature&quot;}, {&quot;bbox&quot;: [-122.69678950455841, 45.51041184999999, -122.69678950455841, 45.51041184999999], &quot;geometry&quot;: {&quot;coordinates&quot;: [-122.69678950455841, 45.51041184999999], &quot;type&quot;: &quot;Point&quot;}, &quot;id&quot;: &quot;1350&quot;, &quot;properties&quot;: {&quot;__folium_color&quot;: &quot;#481769&quot;, &quot;distance&quot;: 1857.7391539452622}, &quot;type&quot;: &quot;Feature&quot;}, {&quot;bbox&quot;: [-122.74283206432087, 45.43201745, -122.74283206432087, 45.43201745], &quot;geometry&quot;: {&quot;coordinates&quot;: [-122.74283206432087, 45.43201745], &quot;type&quot;: &quot;Point&quot;}, &quot;id&quot;: &quot;1351&quot;, &quot;properties&quot;: {&quot;__folium_color&quot;: &quot;#482878&quot;, &quot;distance&quot;: 3190.095151448738}, &quot;type&quot;: &quot;Feature&quot;}, {&quot;bbox&quot;: [-122.68031112775495, 45.54551228951336, -122.68031112775495, 45.54551228951336], &quot;geometry&quot;: {&quot;coordinates&quot;: [-122.68031112775495, 45.54551228951336], &quot;type&quot;: &quot;Point&quot;}, &quot;id&quot;: &quot;1352&quot;, &quot;properties&quot;: {&quot;__folium_color&quot;: &quot;#3f4788&quot;, &quot;distance&quot;: 5969.438400105267}, &quot;type&quot;: &quot;Feature&quot;}, {&quot;bbox&quot;: [-122.48865714844811, 45.511410149999996, -122.48865714844811, 45.511410149999996], &quot;geometry&quot;: {&quot;coordinates&quot;: [-122.48865714844811, 45.511410149999996], &quot;type&quot;: &quot;Point&quot;}, &quot;id&quot;: &quot;1353&quot;, &quot;properties&quot;: {&quot;__folium_color&quot;: &quot;#414487&quot;, &quot;distance&quot;: 5609.225482117312}, &quot;type&quot;: &quot;Feature&quot;}, {&quot;bbox&quot;: [-122.72889280910664, 45.47777524999999, -122.72889280910664, 45.47777524999999], &quot;geometry&quot;: {&quot;coordinates&quot;: [-122.72889280910664, 45.47777524999999], &quot;type&quot;: &quot;Point&quot;}, &quot;id&quot;: &quot;1354&quot;, &quot;properties&quot;: {&quot;__folium_color&quot;: &quot;#443983&quot;, &quot;distance&quot;: 4740.837220412693}, &quot;type&quot;: &quot;Feature&quot;}, {&quot;bbox&quot;: [-122.63402049999999, 45.544695, -122.63402049999999, 45.544695], &quot;geometry&quot;: {&quot;coordinates&quot;: [-122.63402049999999, 45.544695], &quot;type&quot;: &quot;Point&quot;}, &quot;id&quot;: &quot;1355&quot;, &quot;properties&quot;: {&quot;__folium_color&quot;: &quot;#34608d&quot;, &quot;distance&quot;: 8414.47336865885}, &quot;type&quot;: &quot;Feature&quot;}, {&quot;bbox&quot;: [-122.64698440017219, 45.55518669999999, -122.64698440017219, 45.55518669999999], &quot;geometry&quot;: {&quot;coordinates&quot;: [-122.64698440017219, 45.55518669999999], &quot;type&quot;: &quot;Point&quot;}, &quot;id&quot;: &quot;1356&quot;, &quot;properties&quot;: {&quot;__folium_color&quot;: &quot;#460b5e&quot;, &quot;distance&quot;: 1056.9984476362756}, &quot;type&quot;: &quot;Feature&quot;}, {&quot;bbox&quot;: [-122.6706289285714, 45.49633907142857, -122.6706289285714, 45.49633907142857], &quot;geometry&quot;: {&quot;coordinates&quot;: [-122.6706289285714, 45.49633907142857], &quot;type&quot;: &quot;Point&quot;}, &quot;id&quot;: &quot;1357&quot;, &quot;properties&quot;: {&quot;__folium_color&quot;: &quot;#46307e&quot;, &quot;distance&quot;: 3988.1341030865456}, &quot;type&quot;: &quot;Feature&quot;}, {&quot;bbox&quot;: [-122.72448617864497, 45.485231000000006, -122.72448617864497, 45.485231000000006], &quot;geometry&quot;: {&quot;coordinates&quot;: [-122.72448617864497, 45.485231000000006], &quot;type&quot;: &quot;Point&quot;}, &quot;id&quot;: &quot;1358&quot;, &quot;properties&quot;: {&quot;__folium_color&quot;: &quot;#472c7a&quot;, &quot;distance&quot;: 3490.8875019016964}, &quot;type&quot;: &quot;Feature&quot;}, {&quot;bbox&quot;: [-122.72381800000001, 45.57636539999999, -122.72381800000001, 45.57636539999999], &quot;geometry&quot;: {&quot;coordinates&quot;: [-122.72381800000001, 45.57636539999999], &quot;type&quot;: &quot;Point&quot;}, &quot;id&quot;: &quot;1359&quot;, &quot;properties&quot;: {&quot;__folium_color&quot;: &quot;#31678e&quot;, &quot;distance&quot;: 9131.966088823181}, &quot;type&quot;: &quot;Feature&quot;}, {&quot;bbox&quot;: [-122.6996118364745, 45.5744932, -122.6996118364745, 45.5744932], &quot;geometry&quot;: {&quot;coordinates&quot;: [-122.6996118364745, 45.5744932], &quot;type&quot;: &quot;Point&quot;}, &quot;id&quot;: &quot;1360&quot;, &quot;properties&quot;: {&quot;__folium_color&quot;: &quot;#48186a&quot;, &quot;distance&quot;: 1972.5798805091595}, &quot;type&quot;: &quot;Feature&quot;}, {&quot;bbox&quot;: [-122.67990939999997, 45.526696599999994, -122.67990939999997, 45.526696599999994], &quot;geometry&quot;: {&quot;coordinates&quot;: [-122.67990939999997, 45.526696599999994], &quot;type&quot;: &quot;Point&quot;}, &quot;id&quot;: &quot;1361&quot;, &quot;properties&quot;: {&quot;__folium_color&quot;: &quot;#443a83&quot;, &quot;distance&quot;: 4792.000334605246}, &quot;type&quot;: &quot;Feature&quot;}, {&quot;bbox&quot;: [-122.81766476246683, 45.44334254999999, -122.81766476246683, 45.44334254999999], &quot;geometry&quot;: {&quot;coordinates&quot;: [-122.81766476246683, 45.44334254999999], &quot;type&quot;: &quot;Point&quot;}, &quot;id&quot;: &quot;1362&quot;, &quot;properties&quot;: {&quot;__folium_color&quot;: &quot;#2c718e&quot;, &quot;distance&quot;: 10291.989365838663}, &quot;type&quot;: &quot;Feature&quot;}, {&quot;bbox&quot;: [-122.69968095199407, 45.43428654999999, -122.69968095199407, 45.43428654999999], &quot;geometry&quot;: {&quot;coordinates&quot;: [-122.69968095199407, 45.43428654999999], &quot;type&quot;: &quot;Point&quot;}, &quot;id&quot;: &quot;1363&quot;, &quot;properties&quot;: {&quot;__folium_color&quot;: &quot;#3a548c&quot;, &quot;distance&quot;: 7255.136634226358}, &quot;type&quot;: &quot;Feature&quot;}, {&quot;bbox&quot;: [-122.68617209622718, 45.59593049999999, -122.68617209622718, 45.59593049999999], &quot;geometry&quot;: {&quot;coordinates&quot;: [-122.68617209622718, 45.59593049999999], &quot;type&quot;: &quot;Point&quot;}, &quot;id&quot;: &quot;1364&quot;, &quot;properties&quot;: {&quot;__folium_color&quot;: &quot;#414287&quot;, &quot;distance&quot;: 5567.2229881996955}, &quot;type&quot;: &quot;Feature&quot;}, {&quot;bbox&quot;: [-122.658747, 45.5766752, -122.658747, 45.5766752], &quot;geometry&quot;: {&quot;coordinates&quot;: [-122.658747, 45.5766752], &quot;type&quot;: &quot;Point&quot;}, &quot;id&quot;: &quot;1365&quot;, &quot;properties&quot;: {&quot;__folium_color&quot;: &quot;#453581&quot;, &quot;distance&quot;: 4424.877269402588}, &quot;type&quot;: &quot;Feature&quot;}, {&quot;bbox&quot;: [-122.65413716458956, 45.5251941, -122.65413716458956, 45.5251941], &quot;geometry&quot;: {&quot;coordinates&quot;: [-122.65413716458956, 45.5251941], &quot;type&quot;: &quot;Point&quot;}, &quot;id&quot;: &quot;1366&quot;, &quot;properties&quot;: {&quot;__folium_color&quot;: &quot;#472f7d&quot;, &quot;distance&quot;: 3845.699110774016}, &quot;type&quot;: &quot;Feature&quot;}, {&quot;bbox&quot;: [-122.63145269533764, 45.56958495, -122.63145269533764, 45.56958495], &quot;geometry&quot;: {&quot;coordinates&quot;: [-122.63145269533764, 45.56958495], &quot;type&quot;: &quot;Point&quot;}, &quot;id&quot;: &quot;1367&quot;, &quot;properties&quot;: {&quot;__folium_color&quot;: &quot;#3e4a89&quot;, &quot;distance&quot;: 6266.766739201713}, &quot;type&quot;: &quot;Feature&quot;}, {&quot;bbox&quot;: [-122.59055419999999, 45.5895038, -122.59055419999999, 45.5895038], &quot;geometry&quot;: {&quot;coordinates&quot;: [-122.59055419999999, 45.5895038], &quot;type&quot;: &quot;Point&quot;}, &quot;id&quot;: &quot;1368&quot;, &quot;properties&quot;: {&quot;__folium_color&quot;: &quot;#30698e&quot;, &quot;distance&quot;: 9315.93555677196}, &quot;type&quot;: &quot;Feature&quot;}, {&quot;bbox&quot;: [-122.63812167530621, 45.55951159999999, -122.63812167530621, 45.55951159999999], &quot;geometry&quot;: {&quot;coordinates&quot;: [-122.63812167530621, 45.55951159999999], &quot;type&quot;: &quot;Point&quot;}, &quot;id&quot;: &quot;1369&quot;, &quot;properties&quot;: {&quot;__folium_color&quot;: &quot;#472e7c&quot;, &quot;distance&quot;: 3749.228594379008}, &quot;type&quot;: &quot;Feature&quot;}, {&quot;bbox&quot;: [-122.55124465020658, 45.540339149999994, -122.55124465020658, 45.540339149999994], &quot;geometry&quot;: {&quot;coordinates&quot;: [-122.55124465020658, 45.540339149999994], &quot;type&quot;: &quot;Point&quot;}, &quot;id&quot;: &quot;1370&quot;, &quot;properties&quot;: {&quot;__folium_color&quot;: &quot;#22a884&quot;, &quot;distance&quot;: 16497.526246460733}, &quot;type&quot;: &quot;Feature&quot;}, {&quot;bbox&quot;: [-122.7161962, 45.6157785, -122.7161962, 45.6157785], &quot;geometry&quot;: {&quot;coordinates&quot;: [-122.7161962, 45.6157785], &quot;type&quot;: &quot;Point&quot;}, &quot;id&quot;: &quot;1371&quot;, &quot;properties&quot;: {&quot;__folium_color&quot;: &quot;#3e4989&quot;, &quot;distance&quot;: 6202.714331949169}, &quot;type&quot;: &quot;Feature&quot;}, {&quot;bbox&quot;: [-122.68617209622718, 45.59593049999999, -122.68617209622718, 45.59593049999999], &quot;geometry&quot;: {&quot;coordinates&quot;: [-122.68617209622718, 45.59593049999999], &quot;type&quot;: &quot;Point&quot;}, &quot;id&quot;: &quot;1372&quot;, &quot;properties&quot;: {&quot;__folium_color&quot;: &quot;#481a6c&quot;, &quot;distance&quot;: 2087.7978694353756}, &quot;type&quot;: &quot;Feature&quot;}, {&quot;bbox&quot;: [-122.67285410151823, 45.47850675, -122.67285410151823, 45.47850675], &quot;geometry&quot;: {&quot;coordinates&quot;: [-122.67285410151823, 45.47850675], &quot;type&quot;: &quot;Point&quot;}, &quot;id&quot;: &quot;1373&quot;, &quot;properties&quot;: {&quot;__folium_color&quot;: &quot;#365d8d&quot;, &quot;distance&quot;: 8079.833010217552}, &quot;type&quot;: &quot;Feature&quot;}, {&quot;bbox&quot;: [-122.54189519859088, 45.54021744999999, -122.54189519859088, 45.54021744999999], &quot;geometry&quot;: {&quot;coordinates&quot;: [-122.54189519859088, 45.54021744999999], &quot;type&quot;: &quot;Point&quot;}, &quot;id&quot;: &quot;1374&quot;, &quot;properties&quot;: {&quot;__folium_color&quot;: &quot;#32648e&quot;, &quot;distance&quot;: 8834.806973415094}, &quot;type&quot;: &quot;Feature&quot;}, {&quot;bbox&quot;: [-122.6193457627418, 45.473268486675764, -122.6193457627418, 45.473268486675764], &quot;geometry&quot;: {&quot;coordinates&quot;: [-122.6193457627418, 45.473268486675764], &quot;type&quot;: &quot;Point&quot;}, &quot;id&quot;: &quot;1375&quot;, &quot;properties&quot;: {&quot;__folium_color&quot;: &quot;#472f7d&quot;, &quot;distance&quot;: 3824.251775048574}, &quot;type&quot;: &quot;Feature&quot;}, {&quot;bbox&quot;: [-122.5760209847762, 45.50056750874326, -122.5760209847762, 45.50056750874326], &quot;geometry&quot;: {&quot;coordinates&quot;: [-122.5760209847762, 45.50056750874326], &quot;type&quot;: &quot;Point&quot;}, &quot;id&quot;: &quot;1376&quot;, &quot;properties&quot;: {&quot;__folium_color&quot;: &quot;#481668&quot;, &quot;distance&quot;: 1731.8021579348156}, &quot;type&quot;: &quot;Feature&quot;}, {&quot;bbox&quot;: [-122.6638531, 45.535914999999996, -122.6638531, 45.535914999999996], &quot;geometry&quot;: {&quot;coordinates&quot;: [-122.6638531, 45.535914999999996], &quot;type&quot;: &quot;Point&quot;}, &quot;id&quot;: &quot;1377&quot;, &quot;properties&quot;: {&quot;__folium_color&quot;: &quot;#472d7b&quot;, &quot;distance&quot;: 3606.977157318686}, &quot;type&quot;: &quot;Feature&quot;}, {&quot;bbox&quot;: [-122.48124889933747, 45.53028104999999, -122.48124889933747, 45.53028104999999], &quot;geometry&quot;: {&quot;coordinates&quot;: [-122.48124889933747, 45.53028104999999], &quot;type&quot;: &quot;Point&quot;}, &quot;id&quot;: &quot;1378&quot;, &quot;properties&quot;: {&quot;__folium_color&quot;: &quot;#3c4f8a&quot;, &quot;distance&quot;: 6723.932400879263}, &quot;type&quot;: &quot;Feature&quot;}, {&quot;bbox&quot;: [-122.560131, 45.518248, -122.560131, 45.518248], &quot;geometry&quot;: {&quot;coordinates&quot;: [-122.560131, 45.518248], &quot;type&quot;: &quot;Point&quot;}, &quot;id&quot;: &quot;1379&quot;, &quot;properties&quot;: {&quot;__folium_color&quot;: &quot;#433d84&quot;, &quot;distance&quot;: 5036.900936299915}, &quot;type&quot;: &quot;Feature&quot;}, {&quot;bbox&quot;: [-122.7359432407434, 45.59125375, -122.7359432407434, 45.59125375], &quot;geometry&quot;: {&quot;coordinates&quot;: [-122.7359432407434, 45.59125375], &quot;type&quot;: &quot;Point&quot;}, &quot;id&quot;: &quot;1380&quot;, &quot;properties&quot;: {&quot;__folium_color&quot;: &quot;#2e6d8e&quot;, &quot;distance&quot;: 9789.257710231217}, &quot;type&quot;: &quot;Feature&quot;}, {&quot;bbox&quot;: [-122.68761046852163, 45.6614555, -122.68761046852163, 45.6614555], &quot;geometry&quot;: {&quot;coordinates&quot;: [-122.68761046852163, 45.6614555], &quot;type&quot;: &quot;Point&quot;}, &quot;id&quot;: &quot;1381&quot;, &quot;properties&quot;: {&quot;__folium_color&quot;: &quot;#25858e&quot;, &quot;distance&quot;: 12518.849482130014}, &quot;type&quot;: &quot;Feature&quot;}, {&quot;bbox&quot;: [-122.5641761171345, 45.56748048875414, -122.5641761171345, 45.56748048875414], &quot;geometry&quot;: {&quot;coordinates&quot;: [-122.5641761171345, 45.56748048875414], &quot;type&quot;: &quot;Point&quot;}, &quot;id&quot;: &quot;1382&quot;, &quot;properties&quot;: {&quot;__folium_color&quot;: &quot;#482677&quot;, &quot;distance&quot;: 3159.0176891160627}, &quot;type&quot;: &quot;Feature&quot;}, {&quot;bbox&quot;: [-122.6813033232323, 45.51665168686869, -122.6813033232323, 45.51665168686869], &quot;geometry&quot;: {&quot;coordinates&quot;: [-122.6813033232323, 45.51665168686869], &quot;type&quot;: &quot;Point&quot;}, &quot;id&quot;: &quot;1383&quot;, &quot;properties&quot;: {&quot;__folium_color&quot;: &quot;#450559&quot;, &quot;distance&quot;: 626.5655862044151}, &quot;type&quot;: &quot;Feature&quot;}, {&quot;bbox&quot;: [-122.66328157506979, 45.54262395, -122.66328157506979, 45.54262395], &quot;geometry&quot;: {&quot;coordinates&quot;: [-122.66328157506979, 45.54262395], &quot;type&quot;: &quot;Point&quot;}, &quot;id&quot;: &quot;1384&quot;, &quot;properties&quot;: {&quot;__folium_color&quot;: &quot;#453781&quot;, &quot;distance&quot;: 4488.712072603718}, &quot;type&quot;: &quot;Feature&quot;}, {&quot;bbox&quot;: [-122.7161962, 45.6157785, -122.7161962, 45.6157785], &quot;geometry&quot;: {&quot;coordinates&quot;: [-122.7161962, 45.6157785], &quot;type&quot;: &quot;Point&quot;}, &quot;id&quot;: &quot;1385&quot;, &quot;properties&quot;: {&quot;__folium_color&quot;: &quot;#2e6d8e&quot;, &quot;distance&quot;: 9831.324164876973}, &quot;type&quot;: &quot;Feature&quot;}, {&quot;bbox&quot;: [-122.71191733364408, 45.465894799999994, -122.71191733364408, 45.465894799999994], &quot;geometry&quot;: {&quot;coordinates&quot;: [-122.71191733364408, 45.465894799999994], &quot;type&quot;: &quot;Point&quot;}, &quot;id&quot;: &quot;1386&quot;, &quot;properties&quot;: {&quot;__folium_color&quot;: &quot;#482576&quot;, &quot;distance&quot;: 2972.5524717949247}, &quot;type&quot;: &quot;Feature&quot;}, {&quot;bbox&quot;: [-122.56329850000002, 45.608847, -122.56329850000002, 45.608847], &quot;geometry&quot;: {&quot;coordinates&quot;: [-122.56329850000002, 45.608847], &quot;type&quot;: &quot;Point&quot;}, &quot;id&quot;: &quot;1387&quot;, &quot;properties&quot;: {&quot;__folium_color&quot;: &quot;#21a685&quot;, &quot;distance&quot;: 16281.064649095406}, &quot;type&quot;: &quot;Feature&quot;}, {&quot;bbox&quot;: [-122.63097859999999, 45.5557434, -122.63097859999999, 45.5557434], &quot;geometry&quot;: {&quot;coordinates&quot;: [-122.63097859999999, 45.5557434], &quot;type&quot;: &quot;Point&quot;}, &quot;id&quot;: &quot;1388&quot;, &quot;properties&quot;: {&quot;__folium_color&quot;: &quot;#453781&quot;, &quot;distance&quot;: 4463.173371603248}, &quot;type&quot;: &quot;Feature&quot;}, {&quot;bbox&quot;: [-122.60744265916725, 45.575678999999994, -122.60744265916725, 45.575678999999994], &quot;geometry&quot;: {&quot;coordinates&quot;: [-122.60744265916725, 45.575678999999994], &quot;type&quot;: &quot;Point&quot;}, &quot;id&quot;: &quot;1389&quot;, &quot;properties&quot;: {&quot;__folium_color&quot;: &quot;#32648e&quot;, &quot;distance&quot;: 8869.246362220862}, &quot;type&quot;: &quot;Feature&quot;}, {&quot;bbox&quot;: [-122.63361318181818, 45.509886343434346, -122.63361318181818, 45.509886343434346], &quot;geometry&quot;: {&quot;coordinates&quot;: [-122.63361318181818, 45.509886343434346], &quot;type&quot;: &quot;Point&quot;}, &quot;id&quot;: &quot;1390&quot;, &quot;properties&quot;: {&quot;__folium_color&quot;: &quot;#32648e&quot;, &quot;distance&quot;: 8827.464301440581}, &quot;type&quot;: &quot;Feature&quot;}, {&quot;bbox&quot;: [-122.61837189811615, 45.492137400000004, -122.61837189811615, 45.492137400000004], &quot;geometry&quot;: {&quot;coordinates&quot;: [-122.61837189811615, 45.492137400000004], &quot;type&quot;: &quot;Point&quot;}, &quot;id&quot;: &quot;1391&quot;, &quot;properties&quot;: {&quot;__folium_color&quot;: &quot;#481b6d&quot;, &quot;distance&quot;: 2198.7193808000407}, &quot;type&quot;: &quot;Feature&quot;}, {&quot;bbox&quot;: [-122.54721279292932, 45.55789895, -122.54721279292932, 45.55789895], &quot;geometry&quot;: {&quot;coordinates&quot;: [-122.54721279292932, 45.55789895], &quot;type&quot;: &quot;Point&quot;}, &quot;id&quot;: &quot;1392&quot;, &quot;properties&quot;: {&quot;__folium_color&quot;: &quot;#46307e&quot;, &quot;distance&quot;: 3925.0584585189545}, &quot;type&quot;: &quot;Feature&quot;}, {&quot;bbox&quot;: [-122.699106661554, 45.513908650000005, -122.699106661554, 45.513908650000005], &quot;geometry&quot;: {&quot;coordinates&quot;: [-122.699106661554, 45.513908650000005], &quot;type&quot;: &quot;Point&quot;}, &quot;id&quot;: &quot;1393&quot;, &quot;properties&quot;: {&quot;__folium_color&quot;: &quot;#472a7a&quot;, &quot;distance&quot;: 3404.608700428718}, &quot;type&quot;: &quot;Feature&quot;}, {&quot;bbox&quot;: [-122.48693649986443, 45.46352204999999, -122.48693649986443, 45.46352204999999], &quot;geometry&quot;: {&quot;coordinates&quot;: [-122.48693649986443, 45.46352204999999], &quot;type&quot;: &quot;Point&quot;}, &quot;id&quot;: &quot;1394&quot;, &quot;properties&quot;: {&quot;__folium_color&quot;: &quot;#2d718e&quot;, &quot;distance&quot;: 10212.590037927268}, &quot;type&quot;: &quot;Feature&quot;}, {&quot;bbox&quot;: [-122.52219616964544, 45.548812850000004, -122.52219616964544, 45.548812850000004], &quot;geometry&quot;: {&quot;coordinates&quot;: [-122.52219616964544, 45.548812850000004], &quot;type&quot;: &quot;Point&quot;}, &quot;id&quot;: &quot;1395&quot;, &quot;properties&quot;: {&quot;__folium_color&quot;: &quot;#29798e&quot;, &quot;distance&quot;: 11160.618782779173}, &quot;type&quot;: &quot;Feature&quot;}, {&quot;bbox&quot;: [-122.57376627488803, 45.48370705, -122.57376627488803, 45.48370705], &quot;geometry&quot;: {&quot;coordinates&quot;: [-122.57376627488803, 45.48370705], &quot;type&quot;: &quot;Point&quot;}, &quot;id&quot;: &quot;1396&quot;, &quot;properties&quot;: {&quot;__folium_color&quot;: &quot;#3d4d8a&quot;, &quot;distance&quot;: 6553.273821783788}, &quot;type&quot;: &quot;Feature&quot;}, {&quot;bbox&quot;: [-122.74449147785383, 45.48001634999999, -122.74449147785383, 45.48001634999999], &quot;geometry&quot;: {&quot;coordinates&quot;: [-122.74449147785383, 45.48001634999999], &quot;type&quot;: &quot;Point&quot;}, &quot;id&quot;: &quot;1397&quot;, &quot;properties&quot;: {&quot;__folium_color&quot;: &quot;#414487&quot;, &quot;distance&quot;: 5611.127122491094}, &quot;type&quot;: &quot;Feature&quot;}, {&quot;bbox&quot;: [-122.59881084642858, 45.5447242, -122.59881084642858, 45.5447242], &quot;geometry&quot;: {&quot;coordinates&quot;: [-122.59881084642858, 45.5447242], &quot;type&quot;: &quot;Point&quot;}, &quot;id&quot;: &quot;1398&quot;, &quot;properties&quot;: {&quot;__folium_color&quot;: &quot;#32648e&quot;, &quot;distance&quot;: 8805.114583675433}, &quot;type&quot;: &quot;Feature&quot;}, {&quot;bbox&quot;: [-122.72502315276631, 45.50481645, -122.72502315276631, 45.50481645], &quot;geometry&quot;: {&quot;coordinates&quot;: [-122.72502315276631, 45.50481645], &quot;type&quot;: &quot;Point&quot;}, &quot;id&quot;: &quot;1399&quot;, &quot;properties&quot;: {&quot;__folium_color&quot;: &quot;#443b84&quot;, &quot;distance&quot;: 4936.141991805173}, &quot;type&quot;: &quot;Feature&quot;}, {&quot;bbox&quot;: [-122.6290102575455, 45.57275605000001, -122.6290102575455, 45.57275605000001], &quot;geometry&quot;: {&quot;coordinates&quot;: [-122.6290102575455, 45.57275605000001], &quot;type&quot;: &quot;Point&quot;}, &quot;id&quot;: &quot;1400&quot;, &quot;properties&quot;: {&quot;__folium_color&quot;: &quot;#3e4a89&quot;, &quot;distance&quot;: 6280.302923045295}, &quot;type&quot;: &quot;Feature&quot;}, {&quot;bbox&quot;: [-122.56790182921821, 45.50287585, -122.56790182921821, 45.50287585], &quot;geometry&quot;: {&quot;coordinates&quot;: [-122.56790182921821, 45.50287585], &quot;type&quot;: &quot;Point&quot;}, &quot;id&quot;: &quot;1401&quot;, &quot;properties&quot;: {&quot;__folium_color&quot;: &quot;#481f70&quot;, &quot;distance&quot;: 2520.1131244092135}, &quot;type&quot;: &quot;Feature&quot;}, {&quot;bbox&quot;: [-122.68334173901734, 45.55101705, -122.68334173901734, 45.55101705], &quot;geometry&quot;: {&quot;coordinates&quot;: [-122.68334173901734, 45.55101705], &quot;type&quot;: &quot;Point&quot;}, &quot;id&quot;: &quot;1402&quot;, &quot;properties&quot;: {&quot;__folium_color&quot;: &quot;#433d84&quot;, &quot;distance&quot;: 5073.24016037175}, &quot;type&quot;: &quot;Feature&quot;}, {&quot;bbox&quot;: [-122.585667485645, 45.54539839999999, -122.585667485645, 45.54539839999999], &quot;geometry&quot;: {&quot;coordinates&quot;: [-122.585667485645, 45.54539839999999], &quot;type&quot;: &quot;Point&quot;}, &quot;id&quot;: &quot;1403&quot;, &quot;properties&quot;: {&quot;__folium_color&quot;: &quot;#470d60&quot;, &quot;distance&quot;: 1104.9813958389655}, &quot;type&quot;: &quot;Feature&quot;}, {&quot;bbox&quot;: [-122.69285024812851, 45.540022349999994, -122.69285024812851, 45.540022349999994], &quot;geometry&quot;: {&quot;coordinates&quot;: [-122.69285024812851, 45.540022349999994], &quot;type&quot;: &quot;Point&quot;}, &quot;id&quot;: &quot;1404&quot;, &quot;properties&quot;: {&quot;__folium_color&quot;: &quot;#365c8d&quot;, &quot;distance&quot;: 7988.106957995048}, &quot;type&quot;: &quot;Feature&quot;}, {&quot;bbox&quot;: [-122.72498900000001, 45.44084485714286, -122.72498900000001, 45.44084485714286], &quot;geometry&quot;: {&quot;coordinates&quot;: [-122.72498900000001, 45.44084485714286], &quot;type&quot;: &quot;Point&quot;}, &quot;id&quot;: &quot;1405&quot;, &quot;properties&quot;: {&quot;__folium_color&quot;: &quot;#470d60&quot;, &quot;distance&quot;: 1136.949244809883}, &quot;type&quot;: &quot;Feature&quot;}, {&quot;bbox&quot;: [-122.66431649999998, 45.54785785, -122.66431649999998, 45.54785785], &quot;geometry&quot;: {&quot;coordinates&quot;: [-122.66431649999998, 45.54785785], &quot;type&quot;: &quot;Point&quot;}, &quot;id&quot;: &quot;1406&quot;, &quot;properties&quot;: {&quot;__folium_color&quot;: &quot;#460b5e&quot;, &quot;distance&quot;: 997.8305328384465}, &quot;type&quot;: &quot;Feature&quot;}, {&quot;bbox&quot;: [-122.45545110545454, 45.52047534999999, -122.45545110545454, 45.52047534999999], &quot;geometry&quot;: {&quot;coordinates&quot;: [-122.45545110545454, 45.52047534999999], &quot;type&quot;: &quot;Point&quot;}, &quot;id&quot;: &quot;1407&quot;, &quot;properties&quot;: {&quot;__folium_color&quot;: &quot;#1f9a8a&quot;, &quot;distance&quot;: 14883.789289572553}, &quot;type&quot;: &quot;Feature&quot;}, {&quot;bbox&quot;: [-122.66432380355948, 45.557108799999995, -122.66432380355948, 45.557108799999995], &quot;geometry&quot;: {&quot;coordinates&quot;: [-122.66432380355948, 45.557108799999995], &quot;type&quot;: &quot;Point&quot;}, &quot;id&quot;: &quot;1408&quot;, &quot;properties&quot;: {&quot;__folium_color&quot;: &quot;#481f70&quot;, &quot;distance&quot;: 2461.7208082467837}, &quot;type&quot;: &quot;Feature&quot;}, {&quot;bbox&quot;: [-122.72229441819766, 45.446850850000004, -122.72229441819766, 45.446850850000004], &quot;geometry&quot;: {&quot;coordinates&quot;: [-122.72229441819766, 45.446850850000004], &quot;type&quot;: &quot;Point&quot;}, &quot;id&quot;: &quot;1409&quot;, &quot;properties&quot;: {&quot;__folium_color&quot;: &quot;#34608d&quot;, &quot;distance&quot;: 8415.244552997121}, &quot;type&quot;: &quot;Feature&quot;}, {&quot;bbox&quot;: [-122.68800635353534, 45.58389600000001, -122.68800635353534, 45.58389600000001], &quot;geometry&quot;: {&quot;coordinates&quot;: [-122.68800635353534, 45.58389600000001], &quot;type&quot;: &quot;Point&quot;}, &quot;id&quot;: &quot;1410&quot;, &quot;properties&quot;: {&quot;__folium_color&quot;: &quot;#3b528b&quot;, &quot;distance&quot;: 7085.926629047614}, &quot;type&quot;: &quot;Feature&quot;}, {&quot;bbox&quot;: [-122.66621, 45.517343999999994, -122.66621, 45.517343999999994], &quot;geometry&quot;: {&quot;coordinates&quot;: [-122.66621, 45.517343999999994], &quot;type&quot;: &quot;Point&quot;}, &quot;id&quot;: &quot;1411&quot;, &quot;properties&quot;: {&quot;__folium_color&quot;: &quot;#3f4788&quot;, &quot;distance&quot;: 5960.042655626464}, &quot;type&quot;: &quot;Feature&quot;}, {&quot;bbox&quot;: [-122.50094684098961, 45.5296284, -122.50094684098961, 45.5296284], &quot;geometry&quot;: {&quot;coordinates&quot;: [-122.50094684098961, 45.5296284], &quot;type&quot;: &quot;Point&quot;}, &quot;id&quot;: &quot;1412&quot;, &quot;properties&quot;: {&quot;__folium_color&quot;: &quot;#84d44b&quot;, &quot;distance&quot;: 22315.096450934172}, &quot;type&quot;: &quot;Feature&quot;}, {&quot;bbox&quot;: [-122.74263064780959, 45.59505079999999, -122.74263064780959, 45.59505079999999], &quot;geometry&quot;: {&quot;coordinates&quot;: [-122.74263064780959, 45.59505079999999], &quot;type&quot;: &quot;Point&quot;}, &quot;id&quot;: &quot;1413&quot;, &quot;properties&quot;: {&quot;__folium_color&quot;: &quot;#3d4d8a&quot;, &quot;distance&quot;: 6548.876352911211}, &quot;type&quot;: &quot;Feature&quot;}, {&quot;bbox&quot;: [-122.52561100098987, 45.472802099999996, -122.52561100098987, 45.472802099999996], &quot;geometry&quot;: {&quot;coordinates&quot;: [-122.52561100098987, 45.472802099999996], &quot;type&quot;: &quot;Point&quot;}, &quot;id&quot;: &quot;1414&quot;, &quot;properties&quot;: {&quot;__folium_color&quot;: &quot;#3a538b&quot;, &quot;distance&quot;: 7121.395027728929}, &quot;type&quot;: &quot;Feature&quot;}, {&quot;bbox&quot;: [-122.53358776086957, 45.4945394347826, -122.53358776086957, 45.4945394347826], &quot;geometry&quot;: {&quot;coordinates&quot;: [-122.53358776086957, 45.4945394347826], &quot;type&quot;: &quot;Point&quot;}, &quot;id&quot;: &quot;1415&quot;, &quot;properties&quot;: {&quot;__folium_color&quot;: &quot;#424186&quot;, &quot;distance&quot;: 5443.0619839791225}, &quot;type&quot;: &quot;Feature&quot;}, {&quot;bbox&quot;: [-122.69559784999998, 45.525786449999984, -122.69559784999998, 45.525786449999984], &quot;geometry&quot;: {&quot;coordinates&quot;: [-122.69559784999998, 45.525786449999984], &quot;type&quot;: &quot;Point&quot;}, &quot;id&quot;: &quot;1416&quot;, &quot;properties&quot;: {&quot;__folium_color&quot;: &quot;#471365&quot;, &quot;distance&quot;: 1528.6417280108292}, &quot;type&quot;: &quot;Feature&quot;}, {&quot;bbox&quot;: [-122.64335550564307, 45.505310699999995, -122.64335550564307, 45.505310699999995], &quot;geometry&quot;: {&quot;coordinates&quot;: [-122.64335550564307, 45.505310699999995], &quot;type&quot;: &quot;Point&quot;}, &quot;id&quot;: &quot;1417&quot;, &quot;properties&quot;: {&quot;__folium_color&quot;: &quot;#2d708e&quot;, &quot;distance&quot;: 10094.595871887506}, &quot;type&quot;: &quot;Feature&quot;}, {&quot;bbox&quot;: [-122.84924507422858, 45.4574754, -122.84924507422858, 45.4574754], &quot;geometry&quot;: {&quot;coordinates&quot;: [-122.84924507422858, 45.4574754], &quot;type&quot;: &quot;Point&quot;}, &quot;id&quot;: &quot;1418&quot;, &quot;properties&quot;: {&quot;__folium_color&quot;: &quot;#60ca60&quot;, &quot;distance&quot;: 20674.46559667592}, &quot;type&quot;: &quot;Feature&quot;}, {&quot;bbox&quot;: [-122.68660672486308, 45.61091580431078, -122.68660672486308, 45.61091580431078], &quot;geometry&quot;: {&quot;coordinates&quot;: [-122.68660672486308, 45.61091580431078], &quot;type&quot;: &quot;Point&quot;}, &quot;id&quot;: &quot;1419&quot;, &quot;properties&quot;: {&quot;__folium_color&quot;: &quot;#2c738e&quot;, &quot;distance&quot;: 10549.69475040941}, &quot;type&quot;: &quot;Feature&quot;}, {&quot;bbox&quot;: [-122.6447715469026, 45.57430635, -122.6447715469026, 45.57430635], &quot;geometry&quot;: {&quot;coordinates&quot;: [-122.6447715469026, 45.57430635], &quot;type&quot;: &quot;Point&quot;}, &quot;id&quot;: &quot;1420&quot;, &quot;properties&quot;: {&quot;__folium_color&quot;: &quot;#375b8d&quot;, &quot;distance&quot;: 7928.676986383653}, &quot;type&quot;: &quot;Feature&quot;}, {&quot;bbox&quot;: [-122.63926430207374, 45.4751207, -122.63926430207374, 45.4751207], &quot;geometry&quot;: {&quot;coordinates&quot;: [-122.63926430207374, 45.4751207], &quot;type&quot;: &quot;Point&quot;}, &quot;id&quot;: &quot;1421&quot;, &quot;properties&quot;: {&quot;__folium_color&quot;: &quot;#482677&quot;, &quot;distance&quot;: 3085.444367337404}, &quot;type&quot;: &quot;Feature&quot;}, {&quot;bbox&quot;: [-122.7161962, 45.6157785, -122.7161962, 45.6157785], &quot;geometry&quot;: {&quot;coordinates&quot;: [-122.7161962, 45.6157785], &quot;type&quot;: &quot;Point&quot;}, &quot;id&quot;: &quot;1422&quot;, &quot;properties&quot;: {&quot;__folium_color&quot;: &quot;#414487&quot;, &quot;distance&quot;: 5642.055015520639}, &quot;type&quot;: &quot;Feature&quot;}, {&quot;bbox&quot;: [-122.67295326752304, 45.578764750000005, -122.67295326752304, 45.578764750000005], &quot;geometry&quot;: {&quot;coordinates&quot;: [-122.67295326752304, 45.578764750000005], &quot;type&quot;: &quot;Point&quot;}, &quot;id&quot;: &quot;1423&quot;, &quot;properties&quot;: {&quot;__folium_color&quot;: &quot;#482071&quot;, &quot;distance&quot;: 2597.78314370193}, &quot;type&quot;: &quot;Feature&quot;}, {&quot;bbox&quot;: [-122.66777279999998, 45.543430699999995, -122.66777279999998, 45.543430699999995], &quot;geometry&quot;: {&quot;coordinates&quot;: [-122.66777279999998, 45.543430699999995], &quot;type&quot;: &quot;Point&quot;}, &quot;id&quot;: &quot;1424&quot;, &quot;properties&quot;: {&quot;__folium_color&quot;: &quot;#481a6c&quot;, &quot;distance&quot;: 2043.9544707769078}, &quot;type&quot;: &quot;Feature&quot;}, {&quot;bbox&quot;: [-122.59497110089846, 45.35263464999999, -122.59497110089846, 45.35263464999999], &quot;geometry&quot;: {&quot;coordinates&quot;: [-122.59497110089846, 45.35263464999999], &quot;type&quot;: &quot;Point&quot;}, &quot;id&quot;: &quot;1425&quot;, &quot;properties&quot;: {&quot;__folium_color&quot;: &quot;#56c667&quot;, &quot;distance&quot;: 20130.990009787947}, &quot;type&quot;: &quot;Feature&quot;}, {&quot;bbox&quot;: [-122.6725682428453, 45.48782415, -122.6725682428453, 45.48782415], &quot;geometry&quot;: {&quot;coordinates&quot;: [-122.6725682428453, 45.48782415], &quot;type&quot;: &quot;Point&quot;}, &quot;id&quot;: &quot;1426&quot;, &quot;properties&quot;: {&quot;__folium_color&quot;: &quot;#33628d&quot;, &quot;distance&quot;: 8637.457057978423}, &quot;type&quot;: &quot;Feature&quot;}, {&quot;bbox&quot;: [-122.66679211527706, 45.43621509999999, -122.66679211527706, 45.43621509999999], &quot;geometry&quot;: {&quot;coordinates&quot;: [-122.66679211527706, 45.43621509999999], &quot;type&quot;: &quot;Point&quot;}, &quot;id&quot;: &quot;1427&quot;, &quot;properties&quot;: {&quot;__folium_color&quot;: &quot;#38588c&quot;, &quot;distance&quot;: 7559.875100759649}, &quot;type&quot;: &quot;Feature&quot;}, {&quot;bbox&quot;: [-122.59055419999999, 45.5895038, -122.59055419999999, 45.5895038], &quot;geometry&quot;: {&quot;coordinates&quot;: [-122.59055419999999, 45.5895038], &quot;type&quot;: &quot;Point&quot;}, &quot;id&quot;: &quot;1428&quot;, &quot;properties&quot;: {&quot;__folium_color&quot;: &quot;#2b758e&quot;, &quot;distance&quot;: 10729.503164634056}, &quot;type&quot;: &quot;Feature&quot;}, {&quot;bbox&quot;: [-122.66455528317184, 45.4471361, -122.66455528317184, 45.4471361], &quot;geometry&quot;: {&quot;coordinates&quot;: [-122.66455528317184, 45.4471361], &quot;type&quot;: &quot;Point&quot;}, &quot;id&quot;: &quot;1429&quot;, &quot;properties&quot;: {&quot;__folium_color&quot;: &quot;#3c508b&quot;, &quot;distance&quot;: 6780.079052026446}, &quot;type&quot;: &quot;Feature&quot;}, {&quot;bbox&quot;: [-122.71474394999998, 45.530066000000005, -122.71474394999998, 45.530066000000005], &quot;geometry&quot;: {&quot;coordinates&quot;: [-122.71474394999998, 45.530066000000005], &quot;type&quot;: &quot;Point&quot;}, &quot;id&quot;: &quot;1430&quot;, &quot;properties&quot;: {&quot;__folium_color&quot;: &quot;#472d7b&quot;, &quot;distance&quot;: 3674.1329598793377}, &quot;type&quot;: &quot;Feature&quot;}, {&quot;bbox&quot;: [-122.67430426530612, 45.5567933877551, -122.67430426530612, 45.5567933877551], &quot;geometry&quot;: {&quot;coordinates&quot;: [-122.67430426530612, 45.5567933877551], &quot;type&quot;: &quot;Point&quot;}, &quot;id&quot;: &quot;1431&quot;, &quot;properties&quot;: {&quot;__folium_color&quot;: &quot;#2e6f8e&quot;, &quot;distance&quot;: 10046.930815429572}, &quot;type&quot;: &quot;Feature&quot;}, {&quot;bbox&quot;: [-122.61370087068967, 45.54117215, -122.61370087068967, 45.54117215], &quot;geometry&quot;: {&quot;coordinates&quot;: [-122.61370087068967, 45.54117215], &quot;type&quot;: &quot;Point&quot;}, &quot;id&quot;: &quot;1432&quot;, &quot;properties&quot;: {&quot;__folium_color&quot;: &quot;#46307e&quot;, &quot;distance&quot;: 3970.3323036786473}, &quot;type&quot;: &quot;Feature&quot;}, {&quot;bbox&quot;: [-122.66752407976689, 45.6021046, -122.66752407976689, 45.6021046], &quot;geometry&quot;: {&quot;coordinates&quot;: [-122.66752407976689, 45.6021046], &quot;type&quot;: &quot;Point&quot;}, &quot;id&quot;: &quot;1433&quot;, &quot;properties&quot;: {&quot;__folium_color&quot;: &quot;#3e4a89&quot;, &quot;distance&quot;: 6321.644274846902}, &quot;type&quot;: &quot;Feature&quot;}, {&quot;bbox&quot;: [-122.68649918224385, 45.51760995, -122.68649918224385, 45.51760995], &quot;geometry&quot;: {&quot;coordinates&quot;: [-122.68649918224385, 45.51760995], &quot;type&quot;: &quot;Point&quot;}, &quot;id&quot;: &quot;1434&quot;, &quot;properties&quot;: {&quot;__folium_color&quot;: &quot;#3a538b&quot;, &quot;distance&quot;: 7114.562614628029}, &quot;type&quot;: &quot;Feature&quot;}, {&quot;bbox&quot;: [-122.54952579980188, 45.55283015, -122.54952579980188, 45.55283015], &quot;geometry&quot;: {&quot;coordinates&quot;: [-122.54952579980188, 45.55283015], &quot;type&quot;: &quot;Point&quot;}, &quot;id&quot;: &quot;1435&quot;, &quot;properties&quot;: {&quot;__folium_color&quot;: &quot;#404688&quot;, &quot;distance&quot;: 5867.555408565502}, &quot;type&quot;: &quot;Feature&quot;}, {&quot;bbox&quot;: [-122.60771322488729, 45.554076099999996, -122.60771322488729, 45.554076099999996], &quot;geometry&quot;: {&quot;coordinates&quot;: [-122.60771322488729, 45.554076099999996], &quot;type&quot;: &quot;Point&quot;}, &quot;id&quot;: &quot;1436&quot;, &quot;properties&quot;: {&quot;__folium_color&quot;: &quot;#443b84&quot;, &quot;distance&quot;: 4927.097823477412}, &quot;type&quot;: &quot;Feature&quot;}, {&quot;bbox&quot;: [-122.51499823369299, 45.54782005, -122.51499823369299, 45.54782005], &quot;geometry&quot;: {&quot;coordinates&quot;: [-122.51499823369299, 45.54782005], &quot;type&quot;: &quot;Point&quot;}, &quot;id&quot;: &quot;1437&quot;, &quot;properties&quot;: {&quot;__folium_color&quot;: &quot;#238a8d&quot;, &quot;distance&quot;: 13055.211312645532}, &quot;type&quot;: &quot;Feature&quot;}, {&quot;bbox&quot;: [-122.5683254038071, 45.50343209999999, -122.5683254038071, 45.50343209999999], &quot;geometry&quot;: {&quot;coordinates&quot;: [-122.5683254038071, 45.50343209999999], &quot;type&quot;: &quot;Point&quot;}, &quot;id&quot;: &quot;1438&quot;, &quot;properties&quot;: {&quot;__folium_color&quot;: &quot;#482071&quot;, &quot;distance&quot;: 2560.7531207891125}, &quot;type&quot;: &quot;Feature&quot;}, {&quot;bbox&quot;: [-122.55972018617476, 45.475825399919934, -122.55972018617476, 45.475825399919934], &quot;geometry&quot;: {&quot;coordinates&quot;: [-122.55972018617476, 45.475825399919934], &quot;type&quot;: &quot;Point&quot;}, &quot;id&quot;: &quot;1439&quot;, &quot;properties&quot;: {&quot;__folium_color&quot;: &quot;#472a7a&quot;, &quot;distance&quot;: 3419.9923792372824}, &quot;type&quot;: &quot;Feature&quot;}, {&quot;bbox&quot;: [-122.6990406184146, 45.602099900000006, -122.6990406184146, 45.602099900000006], &quot;geometry&quot;: {&quot;coordinates&quot;: [-122.6990406184146, 45.602099900000006], &quot;type&quot;: &quot;Point&quot;}, &quot;id&quot;: &quot;1440&quot;, &quot;properties&quot;: {&quot;__folium_color&quot;: &quot;#3f4889&quot;, &quot;distance&quot;: 6099.776689312324}, &quot;type&quot;: &quot;Feature&quot;}, {&quot;bbox&quot;: [-122.63717179237675, 45.55688194999999, -122.63717179237675, 45.55688194999999], &quot;geometry&quot;: {&quot;coordinates&quot;: [-122.63717179237675, 45.55688194999999], &quot;type&quot;: &quot;Point&quot;}, &quot;id&quot;: &quot;1441&quot;, &quot;properties&quot;: {&quot;__folium_color&quot;: &quot;#48186a&quot;, &quot;distance&quot;: 1992.940374425013}, &quot;type&quot;: &quot;Feature&quot;}, {&quot;bbox&quot;: [-122.5063032348057, 45.54468755, -122.5063032348057, 45.54468755], &quot;geometry&quot;: {&quot;coordinates&quot;: [-122.5063032348057, 45.54468755], &quot;type&quot;: &quot;Point&quot;}, &quot;id&quot;: &quot;1442&quot;, &quot;properties&quot;: {&quot;__folium_color&quot;: &quot;#34608d&quot;, &quot;distance&quot;: 8424.23258158501}, &quot;type&quot;: &quot;Feature&quot;}, {&quot;bbox&quot;: [-122.637196695244, 45.53251084261731, -122.637196695244, 45.53251084261731], &quot;geometry&quot;: {&quot;coordinates&quot;: [-122.637196695244, 45.53251084261731], &quot;type&quot;: &quot;Point&quot;}, &quot;id&quot;: &quot;1444&quot;, &quot;properties&quot;: {&quot;__folium_color&quot;: &quot;#482677&quot;, &quot;distance&quot;: 3107.042941681625}, &quot;type&quot;: &quot;Feature&quot;}, {&quot;bbox&quot;: [-122.564047, 45.514078999999995, -122.564047, 45.514078999999995], &quot;geometry&quot;: {&quot;coordinates&quot;: [-122.564047, 45.514078999999995], &quot;type&quot;: &quot;Point&quot;}, &quot;id&quot;: &quot;1445&quot;, &quot;properties&quot;: {&quot;__folium_color&quot;: &quot;#25838e&quot;, &quot;distance&quot;: 12324.555915142602}, &quot;type&quot;: &quot;Feature&quot;}, {&quot;bbox&quot;: [-122.69850815605102, 45.42102445, -122.69850815605102, 45.42102445], &quot;geometry&quot;: {&quot;coordinates&quot;: [-122.69850815605102, 45.42102445], &quot;type&quot;: &quot;Point&quot;}, &quot;id&quot;: &quot;1446&quot;, &quot;properties&quot;: {&quot;__folium_color&quot;: &quot;#32658e&quot;, &quot;distance&quot;: 8979.743275892226}, &quot;type&quot;: &quot;Feature&quot;}, {&quot;bbox&quot;: [-122.7161962, 45.6157785, -122.7161962, 45.6157785], &quot;geometry&quot;: {&quot;coordinates&quot;: [-122.7161962, 45.6157785], &quot;type&quot;: &quot;Point&quot;}, &quot;id&quot;: &quot;1447&quot;, &quot;properties&quot;: {&quot;__folium_color&quot;: &quot;#414487&quot;, &quot;distance&quot;: 5642.055015520639}, &quot;type&quot;: &quot;Feature&quot;}, {&quot;bbox&quot;: [-122.63201939999996, 45.5561557, -122.63201939999996, 45.5561557], &quot;geometry&quot;: {&quot;coordinates&quot;: [-122.63201939999996, 45.5561557], &quot;type&quot;: &quot;Point&quot;}, &quot;id&quot;: &quot;1448&quot;, &quot;properties&quot;: {&quot;__folium_color&quot;: &quot;#453581&quot;, &quot;distance&quot;: 4397.363429992985}, &quot;type&quot;: &quot;Feature&quot;}, {&quot;bbox&quot;: [-122.63964595, 45.566588599999996, -122.63964595, 45.566588599999996], &quot;geometry&quot;: {&quot;coordinates&quot;: [-122.63964595, 45.566588599999996], &quot;type&quot;: &quot;Point&quot;}, &quot;id&quot;: &quot;1449&quot;, &quot;properties&quot;: {&quot;__folium_color&quot;: &quot;#31678e&quot;, &quot;distance&quot;: 9118.464997584404}, &quot;type&quot;: &quot;Feature&quot;}, {&quot;bbox&quot;: [-122.57986811396232, 45.4934438535707, -122.57986811396232, 45.4934438535707], &quot;geometry&quot;: {&quot;coordinates&quot;: [-122.57986811396232, 45.4934438535707], &quot;type&quot;: &quot;Point&quot;}, &quot;id&quot;: &quot;1450&quot;, &quot;properties&quot;: {&quot;__folium_color&quot;: &quot;#450457&quot;, &quot;distance&quot;: 525.8397472234891}, &quot;type&quot;: &quot;Feature&quot;}, {&quot;bbox&quot;: [-122.58491557513848, 45.4711676, -122.58491557513848, 45.4711676], &quot;geometry&quot;: {&quot;coordinates&quot;: [-122.58491557513848, 45.4711676], &quot;type&quot;: &quot;Point&quot;}, &quot;id&quot;: &quot;1451&quot;, &quot;properties&quot;: {&quot;__folium_color&quot;: &quot;#482677&quot;, &quot;distance&quot;: 3091.808382513038}, &quot;type&quot;: &quot;Feature&quot;}, {&quot;bbox&quot;: [-122.60240975, 45.48227889999999, -122.60240975, 45.48227889999999], &quot;geometry&quot;: {&quot;coordinates&quot;: [-122.60240975, 45.48227889999999], &quot;type&quot;: &quot;Point&quot;}, &quot;id&quot;: &quot;1452&quot;, &quot;properties&quot;: {&quot;__folium_color&quot;: &quot;#32658e&quot;, &quot;distance&quot;: 8977.688255232648}, &quot;type&quot;: &quot;Feature&quot;}, {&quot;bbox&quot;: [-122.6252951, 45.51910775, -122.6252951, 45.51910775], &quot;geometry&quot;: {&quot;coordinates&quot;: [-122.6252951, 45.51910775], &quot;type&quot;: &quot;Point&quot;}, &quot;id&quot;: &quot;1453&quot;, &quot;properties&quot;: {&quot;__folium_color&quot;: &quot;#414487&quot;, &quot;distance&quot;: 5614.901479491226}, &quot;type&quot;: &quot;Feature&quot;}, {&quot;bbox&quot;: [-122.58964769999997, 45.463116099999986, -122.58964769999997, 45.463116099999986], &quot;geometry&quot;: {&quot;coordinates&quot;: [-122.58964769999997, 45.463116099999986], &quot;type&quot;: &quot;Point&quot;}, &quot;id&quot;: &quot;1454&quot;, &quot;properties&quot;: {&quot;__folium_color&quot;: &quot;#1f9e89&quot;, &quot;distance&quot;: 15323.556326761398}, &quot;type&quot;: &quot;Feature&quot;}, {&quot;bbox&quot;: [-122.69692482096755, 45.554204643802855, -122.69692482096755, 45.554204643802855], &quot;geometry&quot;: {&quot;coordinates&quot;: [-122.69692482096755, 45.554204643802855], &quot;type&quot;: &quot;Point&quot;}, &quot;id&quot;: &quot;1455&quot;, &quot;properties&quot;: {&quot;__folium_color&quot;: &quot;#443983&quot;, &quot;distance&quot;: 4695.009797354703}, &quot;type&quot;: &quot;Feature&quot;}, {&quot;bbox&quot;: [-122.7161962, 45.6157785, -122.7161962, 45.6157785], &quot;geometry&quot;: {&quot;coordinates&quot;: [-122.7161962, 45.6157785], &quot;type&quot;: &quot;Point&quot;}, &quot;id&quot;: &quot;1456&quot;, &quot;properties&quot;: {&quot;__folium_color&quot;: &quot;#414487&quot;, &quot;distance&quot;: 5642.055015520639}, &quot;type&quot;: &quot;Feature&quot;}, {&quot;bbox&quot;: [-122.67567115143146, 45.56700495, -122.67567115143146, 45.56700495], &quot;geometry&quot;: {&quot;coordinates&quot;: [-122.67567115143146, 45.56700495], &quot;type&quot;: &quot;Point&quot;}, &quot;id&quot;: &quot;1457&quot;, &quot;properties&quot;: {&quot;__folium_color&quot;: &quot;#463480&quot;, &quot;distance&quot;: 4322.351055964608}, &quot;type&quot;: &quot;Feature&quot;}, {&quot;bbox&quot;: [-122.49774756710515, 45.53983764999999, -122.49774756710515, 45.53983764999999], &quot;geometry&quot;: {&quot;coordinates&quot;: [-122.49774756710515, 45.53983764999999], &quot;type&quot;: &quot;Point&quot;}, &quot;id&quot;: &quot;1458&quot;, &quot;properties&quot;: {&quot;__folium_color&quot;: &quot;#404688&quot;, &quot;distance&quot;: 5833.7743345407025}, &quot;type&quot;: &quot;Feature&quot;}, {&quot;bbox&quot;: [-122.64148087384984, 45.537068899999994, -122.64148087384984, 45.537068899999994], &quot;geometry&quot;: {&quot;coordinates&quot;: [-122.64148087384984, 45.537068899999994], &quot;type&quot;: &quot;Point&quot;}, &quot;id&quot;: &quot;1459&quot;, &quot;properties&quot;: {&quot;__folium_color&quot;: &quot;#414487&quot;, &quot;distance&quot;: 5685.355365426997}, &quot;type&quot;: &quot;Feature&quot;}, {&quot;bbox&quot;: [-122.62563469770471, 45.5153135, -122.62563469770471, 45.5153135], &quot;geometry&quot;: {&quot;coordinates&quot;: [-122.62563469770471, 45.5153135], &quot;type&quot;: &quot;Point&quot;}, &quot;id&quot;: &quot;1460&quot;, &quot;properties&quot;: {&quot;__folium_color&quot;: &quot;#3f4889&quot;, &quot;distance&quot;: 6112.490098405521}, &quot;type&quot;: &quot;Feature&quot;}, {&quot;bbox&quot;: [-122.6294594520884, 45.630410999999995, -122.6294594520884, 45.630410999999995], &quot;geometry&quot;: {&quot;coordinates&quot;: [-122.6294594520884, 45.630410999999995], &quot;type&quot;: &quot;Point&quot;}, &quot;id&quot;: &quot;1461&quot;, &quot;properties&quot;: {&quot;__folium_color&quot;: &quot;#2e6e8e&quot;, &quot;distance&quot;: 9881.527513124034}, &quot;type&quot;: &quot;Feature&quot;}, {&quot;bbox&quot;: [-122.76046381036885, 45.59047399999999, -122.76046381036885, 45.59047399999999], &quot;geometry&quot;: {&quot;coordinates&quot;: [-122.76046381036885, 45.59047399999999], &quot;type&quot;: &quot;Point&quot;}, &quot;id&quot;: &quot;1462&quot;, &quot;properties&quot;: {&quot;__folium_color&quot;: &quot;#460b5e&quot;, &quot;distance&quot;: 1049.9478135085792}, &quot;type&quot;: &quot;Feature&quot;}, {&quot;bbox&quot;: [-122.69831684121377, 45.514348299999995, -122.69831684121377, 45.514348299999995], &quot;geometry&quot;: {&quot;coordinates&quot;: [-122.69831684121377, 45.514348299999995], &quot;type&quot;: &quot;Point&quot;}, &quot;id&quot;: &quot;1463&quot;, &quot;properties&quot;: {&quot;__folium_color&quot;: &quot;#481467&quot;, &quot;distance&quot;: 1600.1394538809288}, &quot;type&quot;: &quot;Feature&quot;}, {&quot;bbox&quot;: [-122.66839662122494, 45.5822831, -122.66839662122494, 45.5822831], &quot;geometry&quot;: {&quot;coordinates&quot;: [-122.66839662122494, 45.5822831], &quot;type&quot;: &quot;Point&quot;}, &quot;id&quot;: &quot;1464&quot;, &quot;properties&quot;: {&quot;__folium_color&quot;: &quot;#481a6c&quot;, &quot;distance&quot;: 2012.8501005177561}, &quot;type&quot;: &quot;Feature&quot;}, {&quot;bbox&quot;: [-122.6630902, 45.55227044999999, -122.6630902, 45.55227044999999], &quot;geometry&quot;: {&quot;coordinates&quot;: [-122.6630902, 45.55227044999999], &quot;type&quot;: &quot;Point&quot;}, &quot;id&quot;: &quot;1465&quot;, &quot;properties&quot;: {&quot;__folium_color&quot;: &quot;#481769&quot;, &quot;distance&quot;: 1872.9437915000021}, &quot;type&quot;: &quot;Feature&quot;}, {&quot;bbox&quot;: [-122.61236949999997, 45.50144579999999, -122.61236949999997, 45.50144579999999], &quot;geometry&quot;: {&quot;coordinates&quot;: [-122.61236949999997, 45.50144579999999], &quot;type&quot;: &quot;Point&quot;}, &quot;id&quot;: &quot;1466&quot;, &quot;properties&quot;: {&quot;__folium_color&quot;: &quot;#404688&quot;, &quot;distance&quot;: 5831.295558206972}, &quot;type&quot;: &quot;Feature&quot;}, {&quot;bbox&quot;: [-122.69046285714285, 45.53224236734694, -122.69046285714285, 45.53224236734694], &quot;geometry&quot;: {&quot;coordinates&quot;: [-122.69046285714285, 45.53224236734694], &quot;type&quot;: &quot;Point&quot;}, &quot;id&quot;: &quot;1467&quot;, &quot;properties&quot;: {&quot;__folium_color&quot;: &quot;#470d60&quot;, &quot;distance&quot;: 1084.3044423007223}, &quot;type&quot;: &quot;Feature&quot;}, {&quot;bbox&quot;: [-122.71179142844441, 45.50230539999999, -122.71179142844441, 45.50230539999999], &quot;geometry&quot;: {&quot;coordinates&quot;: [-122.71179142844441, 45.50230539999999], &quot;type&quot;: &quot;Point&quot;}, &quot;id&quot;: &quot;1468&quot;, &quot;properties&quot;: {&quot;__folium_color&quot;: &quot;#2d708e&quot;, &quot;distance&quot;: 10131.736446795372}, &quot;type&quot;: &quot;Feature&quot;}, {&quot;bbox&quot;: [-122.6046056951857, 45.4876604, -122.6046056951857, 45.4876604], &quot;geometry&quot;: {&quot;coordinates&quot;: [-122.6046056951857, 45.4876604], &quot;type&quot;: &quot;Point&quot;}, &quot;id&quot;: &quot;1469&quot;, &quot;properties&quot;: {&quot;__folium_color&quot;: &quot;#482071&quot;, &quot;distance&quot;: 2541.3218818976984}, &quot;type&quot;: &quot;Feature&quot;}, {&quot;bbox&quot;: [-122.69756710184737, 45.51487094094479, -122.69756710184737, 45.51487094094479], &quot;geometry&quot;: {&quot;coordinates&quot;: [-122.69756710184737, 45.51487094094479], &quot;type&quot;: &quot;Point&quot;}, &quot;id&quot;: &quot;1470&quot;, &quot;properties&quot;: {&quot;__folium_color&quot;: &quot;#471365&quot;, &quot;distance&quot;: 1487.141191591214}, &quot;type&quot;: &quot;Feature&quot;}, {&quot;bbox&quot;: [-122.57266279999999, 45.50066064999999, -122.57266279999999, 45.50066064999999], &quot;geometry&quot;: {&quot;coordinates&quot;: [-122.57266279999999, 45.50066064999999], &quot;type&quot;: &quot;Point&quot;}, &quot;id&quot;: &quot;1471&quot;, &quot;properties&quot;: {&quot;__folium_color&quot;: &quot;#3f4889&quot;, &quot;distance&quot;: 6031.478526786197}, &quot;type&quot;: &quot;Feature&quot;}, {&quot;bbox&quot;: [-122.69687047042126, 45.5825388, -122.69687047042126, 45.5825388], &quot;geometry&quot;: {&quot;coordinates&quot;: [-122.69687047042126, 45.5825388], &quot;type&quot;: &quot;Point&quot;}, &quot;id&quot;: &quot;1472&quot;, &quot;properties&quot;: {&quot;__folium_color&quot;: &quot;#470d60&quot;, &quot;distance&quot;: 1159.3599336420034}, &quot;type&quot;: &quot;Feature&quot;}, {&quot;bbox&quot;: [-122.66913116572785, 45.581701800000005, -122.66913116572785, 45.581701800000005], &quot;geometry&quot;: {&quot;coordinates&quot;: [-122.66913116572785, 45.581701800000005], &quot;type&quot;: &quot;Point&quot;}, &quot;id&quot;: &quot;1473&quot;, &quot;properties&quot;: {&quot;__folium_color&quot;: &quot;#365d8d&quot;, &quot;distance&quot;: 8093.376973263043}, &quot;type&quot;: &quot;Feature&quot;}, {&quot;bbox&quot;: [-122.64226539393941, 45.465818313131315, -122.64226539393941, 45.465818313131315], &quot;geometry&quot;: {&quot;coordinates&quot;: [-122.64226539393941, 45.465818313131315], &quot;type&quot;: &quot;Point&quot;}, &quot;id&quot;: &quot;1475&quot;, &quot;properties&quot;: {&quot;__folium_color&quot;: &quot;#470e61&quot;, &quot;distance&quot;: 1201.6739375977488}, &quot;type&quot;: &quot;Feature&quot;}, {&quot;bbox&quot;: [-122.77466633070102, 45.4701884, -122.77466633070102, 45.4701884], &quot;geometry&quot;: {&quot;coordinates&quot;: [-122.77466633070102, 45.4701884], &quot;type&quot;: &quot;Point&quot;}, &quot;id&quot;: &quot;1476&quot;, &quot;properties&quot;: {&quot;__folium_color&quot;: &quot;#3d4d8a&quot;, &quot;distance&quot;: 6512.629639769232}, &quot;type&quot;: &quot;Feature&quot;}, {&quot;bbox&quot;: [-122.69377061847733, 45.56907325, -122.69377061847733, 45.56907325], &quot;geometry&quot;: {&quot;coordinates&quot;: [-122.69377061847733, 45.56907325], &quot;type&quot;: &quot;Point&quot;}, &quot;id&quot;: &quot;1477&quot;, &quot;properties&quot;: {&quot;__folium_color&quot;: &quot;#414287&quot;, &quot;distance&quot;: 5567.774854189042}, &quot;type&quot;: &quot;Feature&quot;}, {&quot;bbox&quot;: [-122.55265471528016, 45.44820975000001, -122.55265471528016, 45.44820975000001], &quot;geometry&quot;: {&quot;coordinates&quot;: [-122.55265471528016, 45.44820975000001], &quot;type&quot;: &quot;Point&quot;}, &quot;id&quot;: &quot;1478&quot;, &quot;properties&quot;: {&quot;__folium_color&quot;: &quot;#355e8d&quot;, &quot;distance&quot;: 8227.417587245262}, &quot;type&quot;: &quot;Feature&quot;}, {&quot;bbox&quot;: [-122.71696044999997, 45.48170545, -122.71696044999997, 45.48170545], &quot;geometry&quot;: {&quot;coordinates&quot;: [-122.71696044999997, 45.48170545], &quot;type&quot;: &quot;Point&quot;}, &quot;id&quot;: &quot;1479&quot;, &quot;properties&quot;: {&quot;__folium_color&quot;: &quot;#424186&quot;, &quot;distance&quot;: 5432.113822712026}, &quot;type&quot;: &quot;Feature&quot;}, {&quot;bbox&quot;: [-122.63580325063629, 45.531257049999994, -122.63580325063629, 45.531257049999994], &quot;geometry&quot;: {&quot;coordinates&quot;: [-122.63580325063629, 45.531257049999994], &quot;type&quot;: &quot;Point&quot;}, &quot;id&quot;: &quot;1481&quot;, &quot;properties&quot;: {&quot;__folium_color&quot;: &quot;#3e4c8a&quot;, &quot;distance&quot;: 6357.812046041431}, &quot;type&quot;: &quot;Feature&quot;}, {&quot;bbox&quot;: [-122.68374154229977, 45.5549009, -122.68374154229977, 45.5549009], &quot;geometry&quot;: {&quot;coordinates&quot;: [-122.68374154229977, 45.5549009], &quot;type&quot;: &quot;Point&quot;}, &quot;id&quot;: &quot;1482&quot;, &quot;properties&quot;: {&quot;__folium_color&quot;: &quot;#453781&quot;, &quot;distance&quot;: 4447.9113002602835}, &quot;type&quot;: &quot;Feature&quot;}, {&quot;bbox&quot;: [-122.6442562121212, 45.50547657575758, -122.6442562121212, 45.50547657575758], &quot;geometry&quot;: {&quot;coordinates&quot;: [-122.6442562121212, 45.50547657575758], &quot;type&quot;: &quot;Point&quot;}, &quot;id&quot;: &quot;1483&quot;, &quot;properties&quot;: {&quot;__folium_color&quot;: &quot;#404588&quot;, &quot;distance&quot;: 5718.017612348228}, &quot;type&quot;: &quot;Feature&quot;}, {&quot;bbox&quot;: [-122.70250163602304, 45.51677900803699, -122.70250163602304, 45.51677900803699], &quot;geometry&quot;: {&quot;coordinates&quot;: [-122.70250163602304, 45.51677900803699], &quot;type&quot;: &quot;Point&quot;}, &quot;id&quot;: &quot;1484&quot;, &quot;properties&quot;: {&quot;__folium_color&quot;: &quot;#365c8d&quot;, &quot;distance&quot;: 8036.750459839367}, &quot;type&quot;: &quot;Feature&quot;}, {&quot;bbox&quot;: [-122.64075142494804, 45.46103784999999, -122.64075142494804, 45.46103784999999], &quot;geometry&quot;: {&quot;coordinates&quot;: [-122.64075142494804, 45.46103784999999], &quot;type&quot;: &quot;Point&quot;}, &quot;id&quot;: &quot;1485&quot;, &quot;properties&quot;: {&quot;__folium_color&quot;: &quot;#54c568&quot;, &quot;distance&quot;: 20005.166191604458}, &quot;type&quot;: &quot;Feature&quot;}, {&quot;bbox&quot;: [-122.698617, 45.498497, -122.698617, 45.498497], &quot;geometry&quot;: {&quot;coordinates&quot;: [-122.698617, 45.498497], &quot;type&quot;: &quot;Point&quot;}, &quot;id&quot;: &quot;1486&quot;, &quot;properties&quot;: {&quot;__folium_color&quot;: &quot;#1fa088&quot;, &quot;distance&quot;: 15550.277828774817}, &quot;type&quot;: &quot;Feature&quot;}, {&quot;bbox&quot;: [-122.63855134857833, 45.662288000000004, -122.63855134857833, 45.662288000000004], &quot;geometry&quot;: {&quot;coordinates&quot;: [-122.63855134857833, 45.662288000000004], &quot;type&quot;: &quot;Point&quot;}, &quot;id&quot;: &quot;1487&quot;, &quot;properties&quot;: {&quot;__folium_color&quot;: &quot;#32b67a&quot;, &quot;distance&quot;: 18033.029571485476}, &quot;type&quot;: &quot;Feature&quot;}, {&quot;bbox&quot;: [-122.67964275097128, 45.52195885, -122.67964275097128, 45.52195885], &quot;geometry&quot;: {&quot;coordinates&quot;: [-122.67964275097128, 45.52195885], &quot;type&quot;: &quot;Point&quot;}, &quot;id&quot;: &quot;1488&quot;, &quot;properties&quot;: {&quot;__folium_color&quot;: &quot;#3e4c8a&quot;, &quot;distance&quot;: 6430.069118023289}, &quot;type&quot;: &quot;Feature&quot;}, {&quot;bbox&quot;: [-122.77864889999998, 45.4603564, -122.77864889999998, 45.4603564], &quot;geometry&quot;: {&quot;coordinates&quot;: [-122.77864889999998, 45.4603564], &quot;type&quot;: &quot;Point&quot;}, &quot;id&quot;: &quot;1489&quot;, &quot;properties&quot;: {&quot;__folium_color&quot;: &quot;#2e6e8e&quot;, &quot;distance&quot;: 9908.173177438839}, &quot;type&quot;: &quot;Feature&quot;}, {&quot;bbox&quot;: [-122.58999584044979, 45.482658099999995, -122.58999584044979, 45.482658099999995], &quot;geometry&quot;: {&quot;coordinates&quot;: [-122.58999584044979, 45.482658099999995], &quot;type&quot;: &quot;Point&quot;}, &quot;id&quot;: &quot;1490&quot;, &quot;properties&quot;: {&quot;__folium_color&quot;: &quot;#30698e&quot;, &quot;distance&quot;: 9396.287790850249}, &quot;type&quot;: &quot;Feature&quot;}, {&quot;bbox&quot;: [-122.63657099999999, 45.533671999999996, -122.63657099999999, 45.533671999999996], &quot;geometry&quot;: {&quot;coordinates&quot;: [-122.63657099999999, 45.533671999999996], &quot;type&quot;: &quot;Point&quot;}, &quot;id&quot;: &quot;1492&quot;, &quot;properties&quot;: {&quot;__folium_color&quot;: &quot;#482878&quot;, &quot;distance&quot;: 3228.925482006291}, &quot;type&quot;: &quot;Feature&quot;}, {&quot;bbox&quot;: [-122.7161962, 45.6157785, -122.7161962, 45.6157785], &quot;geometry&quot;: {&quot;coordinates&quot;: [-122.7161962, 45.6157785], &quot;type&quot;: &quot;Point&quot;}, &quot;id&quot;: &quot;1493&quot;, &quot;properties&quot;: {&quot;__folium_color&quot;: &quot;#414487&quot;, &quot;distance&quot;: 5642.055015520639}, &quot;type&quot;: &quot;Feature&quot;}, {&quot;bbox&quot;: [-122.54178475751843, 45.4411276, -122.54178475751843, 45.4411276], &quot;geometry&quot;: {&quot;coordinates&quot;: [-122.54178475751843, 45.4411276], &quot;type&quot;: &quot;Point&quot;}, &quot;id&quot;: &quot;1494&quot;, &quot;properties&quot;: {&quot;__folium_color&quot;: &quot;#31668e&quot;, &quot;distance&quot;: 9039.666224148565}, &quot;type&quot;: &quot;Feature&quot;}, {&quot;bbox&quot;: [-122.53742723030037, 45.44958615, -122.53742723030037, 45.44958615], &quot;geometry&quot;: {&quot;coordinates&quot;: [-122.53742723030037, 45.44958615], &quot;type&quot;: &quot;Point&quot;}, &quot;id&quot;: &quot;1495&quot;, &quot;properties&quot;: {&quot;__folium_color&quot;: &quot;#355e8d&quot;, &quot;distance&quot;: 8188.855030855981}, &quot;type&quot;: &quot;Feature&quot;}, {&quot;bbox&quot;: [-122.69333618633958, 45.51343255, -122.69333618633958, 45.51343255], &quot;geometry&quot;: {&quot;coordinates&quot;: [-122.69333618633958, 45.51343255], &quot;type&quot;: &quot;Point&quot;}, &quot;id&quot;: &quot;1496&quot;, &quot;properties&quot;: {&quot;__folium_color&quot;: &quot;#32658e&quot;, &quot;distance&quot;: 8905.620023299609}, &quot;type&quot;: &quot;Feature&quot;}, {&quot;bbox&quot;: [-122.68952235947987, 45.47046500450465, -122.68952235947987, 45.47046500450465], &quot;geometry&quot;: {&quot;coordinates&quot;: [-122.68952235947987, 45.47046500450465], &quot;type&quot;: &quot;Point&quot;}, &quot;id&quot;: &quot;1497&quot;, &quot;properties&quot;: {&quot;__folium_color&quot;: &quot;#375a8c&quot;, &quot;distance&quot;: 7739.990233439453}, &quot;type&quot;: &quot;Feature&quot;}, {&quot;bbox&quot;: [-122.63461603665252, 45.5133961, -122.63461603665252, 45.5133961], &quot;geometry&quot;: {&quot;coordinates&quot;: [-122.63461603665252, 45.5133961], &quot;type&quot;: &quot;Point&quot;}, &quot;id&quot;: &quot;1498&quot;, &quot;properties&quot;: {&quot;__folium_color&quot;: &quot;#404588&quot;, &quot;distance&quot;: 5756.536511361658}, &quot;type&quot;: &quot;Feature&quot;}, {&quot;bbox&quot;: [-122.71820009999998, 45.451260000000005, -122.71820009999998, 45.451260000000005], &quot;geometry&quot;: {&quot;coordinates&quot;: [-122.71820009999998, 45.451260000000005], &quot;type&quot;: &quot;Point&quot;}, &quot;id&quot;: &quot;1499&quot;, &quot;properties&quot;: {&quot;__folium_color&quot;: &quot;#460b5e&quot;, &quot;distance&quot;: 958.254731243252}, &quot;type&quot;: &quot;Feature&quot;}, {&quot;bbox&quot;: [-122.58943266421745, 45.380193750000004, -122.58943266421745, 45.380193750000004], &quot;geometry&quot;: {&quot;coordinates&quot;: [-122.58943266421745, 45.380193750000004], &quot;type&quot;: &quot;Point&quot;}, &quot;id&quot;: &quot;1500&quot;, &quot;properties&quot;: {&quot;__folium_color&quot;: &quot;#20a386&quot;, &quot;distance&quot;: 15875.712843420652}, &quot;type&quot;: &quot;Feature&quot;}, {&quot;bbox&quot;: [-122.76980185523138, 45.51326414999999, -122.76980185523138, 45.51326414999999], &quot;geometry&quot;: {&quot;coordinates&quot;: [-122.76980185523138, 45.51326414999999], &quot;type&quot;: &quot;Point&quot;}, &quot;id&quot;: &quot;1501&quot;, &quot;properties&quot;: {&quot;__folium_color&quot;: &quot;#33628d&quot;, &quot;distance&quot;: 8611.940534136129}, &quot;type&quot;: &quot;Feature&quot;}, {&quot;bbox&quot;: [-122.5899835781075, 45.51465825, -122.5899835781075, 45.51465825], &quot;geometry&quot;: {&quot;coordinates&quot;: [-122.5899835781075, 45.51465825], &quot;type&quot;: &quot;Point&quot;}, &quot;id&quot;: &quot;1502&quot;, &quot;properties&quot;: {&quot;__folium_color&quot;: &quot;#472d7b&quot;, &quot;distance&quot;: 3640.534192191945}, &quot;type&quot;: &quot;Feature&quot;}, {&quot;bbox&quot;: [-122.60052433333333, 45.55553112121212, -122.60052433333333, 45.55553112121212], &quot;geometry&quot;: {&quot;coordinates&quot;: [-122.60052433333333, 45.55553112121212], &quot;type&quot;: &quot;Point&quot;}, &quot;id&quot;: &quot;1503&quot;, &quot;properties&quot;: {&quot;__folium_color&quot;: &quot;#481c6e&quot;, &quot;distance&quot;: 2224.724184771873}, &quot;type&quot;: &quot;Feature&quot;}, {&quot;bbox&quot;: [-122.6320124461185, 45.522296, -122.6320124461185, 45.522296], &quot;geometry&quot;: {&quot;coordinates&quot;: [-122.6320124461185, 45.522296], &quot;type&quot;: &quot;Point&quot;}, &quot;id&quot;: &quot;1504&quot;, &quot;properties&quot;: {&quot;__folium_color&quot;: &quot;#375a8c&quot;, &quot;distance&quot;: 7752.965621217243}, &quot;type&quot;: &quot;Feature&quot;}, {&quot;bbox&quot;: [-122.59428325835736, 45.41565015, -122.59428325835736, 45.41565015], &quot;geometry&quot;: {&quot;coordinates&quot;: [-122.59428325835736, 45.41565015], &quot;type&quot;: &quot;Point&quot;}, &quot;id&quot;: &quot;1505&quot;, &quot;properties&quot;: {&quot;__folium_color&quot;: &quot;#2c738e&quot;, &quot;distance&quot;: 10505.781620138503}, &quot;type&quot;: &quot;Feature&quot;}, {&quot;bbox&quot;: [-122.61718628756041, 45.56415655, -122.61718628756041, 45.56415655], &quot;geometry&quot;: {&quot;coordinates&quot;: [-122.61718628756041, 45.56415655], &quot;type&quot;: &quot;Point&quot;}, &quot;id&quot;: &quot;1506&quot;, &quot;properties&quot;: {&quot;__folium_color&quot;: &quot;#375a8c&quot;, &quot;distance&quot;: 7794.210643535892}, &quot;type&quot;: &quot;Feature&quot;}, {&quot;bbox&quot;: [-122.54718087460209, 45.49863440000001, -122.54718087460209, 45.49863440000001], &quot;geometry&quot;: {&quot;coordinates&quot;: [-122.54718087460209, 45.49863440000001], &quot;type&quot;: &quot;Point&quot;}, &quot;id&quot;: &quot;1507&quot;, &quot;properties&quot;: {&quot;__folium_color&quot;: &quot;#375b8d&quot;, &quot;distance&quot;: 7870.955159259219}, &quot;type&quot;: &quot;Feature&quot;}], &quot;type&quot;: &quot;FeatureCollection&quot;});\n",
       "\n",
       "        \n",
       "    \n",
       "    geo_json_dc34b5064fa02539a4e30dfd5b07438d.bindTooltip(\n",
       "    function(layer){\n",
       "    let div = L.DomUtil.create(&#x27;div&#x27;);\n",
       "    \n",
       "    let handleObject = feature=&gt;typeof(feature)==&#x27;object&#x27; ? JSON.stringify(feature) : feature;\n",
       "    let fields = [&quot;distance&quot;];\n",
       "    let aliases = [&quot;distance&quot;];\n",
       "    let table = &#x27;&lt;table&gt;&#x27; +\n",
       "        String(\n",
       "        fields.map(\n",
       "        (v,i)=&gt;\n",
       "        `&lt;tr&gt;\n",
       "            &lt;th&gt;${aliases[i]}&lt;/th&gt;\n",
       "            \n",
       "            &lt;td&gt;${handleObject(layer.feature.properties[v])}&lt;/td&gt;\n",
       "        &lt;/tr&gt;`).join(&#x27;&#x27;))\n",
       "    +&#x27;&lt;/table&gt;&#x27;;\n",
       "    div.innerHTML=table;\n",
       "    \n",
       "    return div\n",
       "    }\n",
       "    ,{&quot;className&quot;: &quot;foliumtooltip&quot;, &quot;sticky&quot;: true});\n",
       "                     \n",
       "    \n",
       "            geo_json_dc34b5064fa02539a4e30dfd5b07438d.addTo(map_091474cff4df3420104e75ff6f17445b);\n",
       "        \n",
       "    \n",
       "    var color_map_e82c5ddb5c903d8da6eddbfc47c29b92 = {};\n",
       "\n",
       "    \n",
       "    color_map_e82c5ddb5c903d8da6eddbfc47c29b92.color = d3.scale.threshold()\n",
       "              .domain([210.70914605598537, 264.99240533035675, 319.27566460472815, 373.55892387909955, 427.84218315347096, 482.12544242784236, 536.4087017022138, 590.6919609765852, 644.9752202509566, 699.258479525328, 753.5417387996993, 807.8249980740707, 862.1082573484421, 916.3915166228136, 970.6747758971849, 1024.9580351715563, 1079.2412944459277, 1133.524553720299, 1187.8078129946705, 1242.091072269042, 1296.3743315434133, 1350.657590817785, 1404.940850092156, 1459.2241093665275, 1513.507368640899, 1567.7906279152703, 1622.073887189642, 1676.357146464013, 1730.6404057383845, 1784.923665012756, 1839.2069242871273, 1893.4901835614987, 1947.7734428358701, 2002.0567021102413, 2056.3399613846127, 2110.6232206589843, 2164.9064799333555, 2219.189739207727, 2273.4729984820983, 2327.75625775647, 2382.039517030841, 2436.3227763052123, 2490.6060355795844, 2544.8892948539556, 2599.1725541283267, 2653.4558134026984, 2707.7390726770695, 2762.022331951441, 2816.3055912258123, 2870.588850500184, 2924.872109774555, 2979.1553690489263, 3033.4386283232984, 3087.7218875976696, 3142.0051468720408, 3196.288406146412, 3250.5716654207836, 3304.854924695155, 3359.1381839695264, 3413.421443243898, 3467.704702518269, 3521.9879617926404, 3576.271221067012, 3630.5544803413836, 3684.837739615755, 3739.120998890126, 3793.404258164497, 3847.6875174388692, 3901.9707767132404, 3956.2540359876116, 4010.537295261983, 4064.8205545363544, 4119.103813810726, 4173.387073085097, 4227.670332359468, 4281.95359163384, 4336.236850908211, 4390.520110182582, 4444.803369456954, 4499.086628731326, 4553.369888005696, 4607.653147280068, 4661.936406554439, 4716.219665828811, 4770.502925103183, 4824.786184377554, 4879.069443651925, 4933.352702926296, 4987.635962200668, 5041.919221475039, 5096.202480749411, 5150.4857400237825, 5204.768999298153, 5259.052258572525, 5313.335517846896, 5367.618777121267, 5421.902036395639, 5476.18529567001, 5530.468554944382, 5584.751814218754, 5639.035073493124, 5693.318332767496, 5747.601592041867, 5801.884851316238, 5856.168110590611, 5910.451369864982, 5964.734629139353, 6019.017888413724, 6073.301147688096, 6127.584406962467, 6181.867666236838, 6236.1509255112105, 6290.434184785581, 6344.717444059953, 6399.0007033343245, 6453.283962608695, 6507.567221883067, 6561.850481157438, 6616.13374043181, 6670.416999706182, 6724.7002589805525, 6778.983518254924, 6833.266777529295, 6887.550036803666, 6941.833296078038, 6996.116555352409, 7050.399814626781, 7104.683073901152, 7158.966333175524, 7213.249592449895, 7267.532851724266, 7321.816110998638, 7376.099370273008, 7430.382629547381, 7484.665888821753, 7538.949148096123, 7593.232407370495, 7647.515666644866, 7701.798925919237, 7756.082185193609, 7810.3654444679805, 7864.648703742352, 7918.931963016723, 7973.2152222910945, 8027.498481565466, 8081.781740839837, 8136.0650001142085, 8190.34825938858, 8244.631518662953, 8298.914777937323, 8353.198037211694, 8407.481296486067, 8461.764555760437, 8516.04781503481, 8570.33107430918, 8624.614333583553, 8678.897592857924, 8733.180852132295, 8787.464111406667, 8841.747370681038, 8896.030629955409, 8950.31388922978, 9004.597148504152, 9058.880407778523, 9113.163667052893, 9167.446926327268, 9221.730185601638, 9276.013444876009, 9330.296704150382, 9384.579963424752, 9438.863222699123, 9493.146481973494, 9547.429741247866, 9601.713000522237, 9655.996259796608, 9710.27951907098, 9764.562778345351, 9818.846037619722, 9873.129296894094, 9927.412556168467, 9981.695815442838, 10035.979074717208, 10090.26233399158, 10144.545593265952, 10198.828852540322, 10253.112111814695, 10307.395371089066, 10361.678630363436, 10415.961889637809, 10470.24514891218, 10524.52840818655, 10578.811667460921, 10633.094926735293, 10687.378186009666, 10741.661445284037, 10795.94470455841, 10850.22796383278, 10904.51122310715, 10958.794482381523, 11013.077741655894, 11067.361000930265, 11121.644260204635, 11175.927519479008, 11230.210778753379, 11284.49403802775, 11338.777297302122, 11393.060556576493, 11447.343815850863, 11501.627075125238, 11555.910334399608, 11610.19359367398, 11664.47685294835, 11718.760112222722, 11773.043371497093, 11827.326630771464, 11881.609890045836, 11935.893149320207, 11990.176408594578, 12044.45966786895, 12098.742927143321, 12153.026186417692, 12207.309445692063, 12261.592704966437, 12315.875964240808, 12370.159223515178, 12424.442482789551, 12478.725742063922, 12533.009001338292, 12587.292260612665, 12641.575519887036, 12695.858779161406, 12750.142038435777, 12804.42529771015, 12858.70855698452, 12912.991816258891, 12967.275075533264, 13021.558334807636, 13075.841594082007, 13130.12485335638, 13184.40811263075, 13238.69137190512, 13292.974631179492, 13347.257890453864, 13401.541149728235, 13455.824409002606, 13510.107668276978, 13564.390927551349, 13618.67418682572, 13672.957446100092, 13727.240705374463, 13781.523964648833, 13835.807223923206, 13890.090483197579, 13944.37374247195, 13998.65700174632, 14052.940261020693, 14107.223520295063, 14161.506779569434, 14215.790038843807, 14270.073298118177, 14324.356557392548, 14378.63981666692, 14432.923075941291, 14487.206335215662, 14541.489594490033, 14595.772853764407, 14650.056113038778, 14704.339372313148, 14758.622631587521, 14812.905890861892, 14867.189150136262, 14921.472409410635, 14975.755668685006, 15030.038927959376, 15084.322187233747, 15138.60544650812, 15192.88870578249, 15247.171965056861, 15301.455224331234, 15355.738483605606, 15410.021742879977, 15464.30500215435, 15518.58826142872, 15572.871520703091, 15627.154779977462, 15681.438039251834, 15735.721298526205, 15790.004557800576, 15844.287817074948, 15898.571076349319, 15952.85433562369, 16007.137594898062, 16061.420854172433, 16115.704113446804, 16169.987372721176, 16224.270631995549, 16278.55389126992, 16332.83715054429, 16387.12040981866, 16441.403669093033, 16495.686928367402, 16549.970187641775, 16604.253446916147, 16658.53670619052, 16712.81996546489, 16767.10322473926, 16821.386484013634, 16875.669743288003, 16929.953002562375, 16984.236261836748, 17038.51952111112, 17092.80278038549, 17147.086039659862, 17201.36929893423, 17255.652558208603, 17309.935817482976, 17364.21907675735, 17418.50233603172, 17472.78559530609, 17527.068854580462, 17581.35211385483, 17635.635373129204, 17689.918632403573, 17744.20189167795, 17798.485150952318, 17852.76841022669, 17907.05166950106, 17961.33492877543, 18015.6181880498, 18069.901447324173, 18124.18470659855, 18178.46796587292, 18232.75122514729, 18287.03448442166, 18341.317743696032, 18395.6010029704, 18449.884262244777, 18504.167521519146, 18558.45078079352, 18612.734040067888, 18667.01729934226, 18721.30055861663, 18775.583817891, 18829.867077165378, 18884.150336439747, 18938.43359571412, 18992.71685498849, 19047.00011426286, 19101.28337353723, 19155.566632811602, 19209.849892085975, 19264.133151360347, 19318.416410634716, 19372.69966990909, 19426.982929183458, 19481.26618845783, 19535.549447732203, 19589.832707006575, 19644.115966280948, 19698.399225555317, 19752.68248482969, 19806.965744104058, 19861.24900337843, 19915.532262652803, 19969.815521927176, 20024.098781201545, 20078.382040475917, 20132.665299750286, 20186.94855902466, 20241.231818299028, 20295.515077573404, 20349.798336847773, 20404.081596122145, 20458.364855396518, 20512.648114670887, 20566.93137394526, 20621.21463321963, 20675.497892494004, 20729.781151768373, 20784.064411042746, 20838.347670317115, 20892.630929591487, 20946.914188865856, 21001.197448140232, 21055.4807074146, 21109.763966688974, 21164.047225963346, 21218.330485237715, 21272.613744512088, 21326.89700378646, 21381.180263060833, 21435.4635223352, 21489.746781609574, 21544.030040883943, 21598.313300158316, 21652.596559432684, 21706.87981870706, 21761.16307798143, 21815.446337255802, 21869.72959653017, 21924.012855804544, 21978.296115078916, 22032.579374353285, 22086.86263362766, 22141.14589290203, 22195.429152176403, 22249.71241145077, 22303.995670725144, 22358.278929999513, 22412.56218927389, 22466.845448548258, 22521.12870782263, 22575.411967097, 22629.695226371372, 22683.97848564574, 22738.261744920113, 22792.54500419449, 22846.82826346886, 22901.11152274323, 22955.3947820176, 23009.678041291972, 23063.96130056634, 23118.244559840714, 23172.527819115086, 23226.81107838946, 23281.094337663828, 23335.3775969382, 23389.66085621257, 23443.944115486942, 23498.227374761318, 23552.510634035687, 23606.79389331006, 23661.07715258443, 23715.3604118588, 23769.64367113317, 23823.926930407542, 23878.210189681915, 23932.493448956287, 23986.776708230656, 24041.05996750503, 24095.343226779398, 24149.62648605377, 24203.90974532814, 24258.193004602515, 24312.476263876888, 24366.759523151257, 24421.04278242563, 24475.3260417, 24529.60930097437, 24583.892560248743, 24638.175819523116, 24692.459078797485, 24746.742338071857, 24801.025597346226, 24855.3088566206, 24909.592115894968, 24963.875375169344, 25018.158634443713, 25072.441893718085, 25126.725152992458, 25181.008412266827, 25235.2916715412, 25289.57493081557, 25343.858190089944, 25398.141449364313, 25452.424708638686, 25506.707967913055, 25560.991227187427, 25615.274486461796, 25669.557745736172, 25723.84100501054, 25778.124264284914, 25832.407523559286, 25886.690782833655, 25940.974042108028, 25995.257301382397, 26049.540560656773, 26103.82381993114, 26158.107079205514, 26212.390338479883, 26266.673597754256, 26320.956857028625, 26375.240116302997, 26429.52337557737, 26483.806634851742, 26538.08989412611, 26592.373153400484, 26646.656412674856, 26700.939671949225, 26755.2229312236, 26809.50619049797, 26863.789449772343, 26918.07270904671, 26972.355968321084, 27026.639227595453, 27080.922486869826, 27135.2057461442, 27189.48900541857, 27243.77226469294, 27298.055523967312])\n",
       "              .range([&#x27;#440154ff&#x27;, &#x27;#440155ff&#x27;, &#x27;#440256ff&#x27;, &#x27;#440356ff&#x27;, &#x27;#450457ff&#x27;, &#x27;#450458ff&#x27;, &#x27;#450559ff&#x27;, &#x27;#450659ff&#x27;, &#x27;#46075aff&#x27;, &#x27;#46075bff&#x27;, &#x27;#46085cff&#x27;, &#x27;#46095cff&#x27;, &#x27;#460a5dff&#x27;, &#x27;#460a5eff&#x27;, &#x27;#460b5eff&#x27;, &#x27;#460c5fff&#x27;, &#x27;#470d60ff&#x27;, &#x27;#470d61ff&#x27;, &#x27;#470e61ff&#x27;, &#x27;#470f62ff&#x27;, &#x27;#471063ff&#x27;, &#x27;#471064ff&#x27;, &#x27;#471164ff&#x27;, &#x27;#471265ff&#x27;, &#x27;#471365ff&#x27;, &#x27;#481366ff&#x27;, &#x27;#481467ff&#x27;, &#x27;#481568ff&#x27;, &#x27;#481668ff&#x27;, &#x27;#481669ff&#x27;, &#x27;#481769ff&#x27;, &#x27;#48176aff&#x27;, &#x27;#48186bff&#x27;, &#x27;#48196cff&#x27;, &#x27;#481a6cff&#x27;, &#x27;#481a6dff&#x27;, &#x27;#481b6dff&#x27;, &#x27;#481c6eff&#x27;, &#x27;#481c6eff&#x27;, &#x27;#481d6fff&#x27;, &#x27;#481d6fff&#x27;, &#x27;#481f70ff&#x27;, &#x27;#481f70ff&#x27;, &#x27;#482071ff&#x27;, &#x27;#482072ff&#x27;, &#x27;#482173ff&#x27;, &#x27;#482273ff&#x27;, &#x27;#482374ff&#x27;, &#x27;#482374ff&#x27;, &#x27;#482475ff&#x27;, &#x27;#482476ff&#x27;, &#x27;#482576ff&#x27;, &#x27;#482577ff&#x27;, &#x27;#482677ff&#x27;, &#x27;#482778ff&#x27;, &#x27;#482878ff&#x27;, &#x27;#482879ff&#x27;, &#x27;#482979ff&#x27;, &#x27;#47297aff&#x27;, &#x27;#472a7aff&#x27;, &#x27;#472b7aff&#x27;, &#x27;#472c7aff&#x27;, &#x27;#472c7bff&#x27;, &#x27;#472d7bff&#x27;, &#x27;#472d7cff&#x27;, &#x27;#472e7cff&#x27;, &#x27;#472e7dff&#x27;, &#x27;#472f7dff&#x27;, &#x27;#462f7eff&#x27;, &#x27;#46307eff&#x27;, &#x27;#46317eff&#x27;, &#x27;#46327eff&#x27;, &#x27;#46327fff&#x27;, &#x27;#46337fff&#x27;, &#x27;#463480ff&#x27;, &#x27;#453480ff&#x27;, &#x27;#453581ff&#x27;, &#x27;#453581ff&#x27;, &#x27;#453681ff&#x27;, &#x27;#453781ff&#x27;, &#x27;#453882ff&#x27;, &#x27;#443882ff&#x27;, &#x27;#443983ff&#x27;, &#x27;#443983ff&#x27;, &#x27;#443a83ff&#x27;, &#x27;#443a83ff&#x27;, &#x27;#443b84ff&#x27;, &#x27;#433c84ff&#x27;, &#x27;#433d84ff&#x27;, &#x27;#433d85ff&#x27;, &#x27;#433e85ff&#x27;, &#x27;#423e85ff&#x27;, &#x27;#423f85ff&#x27;, &#x27;#423f86ff&#x27;, &#x27;#424086ff&#x27;, &#x27;#424086ff&#x27;, &#x27;#424186ff&#x27;, &#x27;#414187ff&#x27;, &#x27;#414287ff&#x27;, &#x27;#414387ff&#x27;, &#x27;#414487ff&#x27;, &#x27;#404488ff&#x27;, &#x27;#404588ff&#x27;, &#x27;#404588ff&#x27;, &#x27;#404688ff&#x27;, &#x27;#3f4688ff&#x27;, &#x27;#3f4788ff&#x27;, &#x27;#3f4789ff&#x27;, &#x27;#3f4889ff&#x27;, &#x27;#3e4889ff&#x27;, &#x27;#3e4989ff&#x27;, &#x27;#3e4a89ff&#x27;, &#x27;#3e4a89ff&#x27;, &#x27;#3e4b8aff&#x27;, &#x27;#3d4c8aff&#x27;, &#x27;#3d4d8aff&#x27;, &#x27;#3d4d8aff&#x27;, &#x27;#3d4e8aff&#x27;, &#x27;#3c4e8aff&#x27;, &#x27;#3c4f8aff&#x27;, &#x27;#3c4f8aff&#x27;, &#x27;#3c508bff&#x27;, &#x27;#3b508bff&#x27;, &#x27;#3b518bff&#x27;, &#x27;#3b518bff&#x27;, &#x27;#3b528bff&#x27;, &#x27;#3a528bff&#x27;, &#x27;#3a538bff&#x27;, &#x27;#3a538bff&#x27;, &#x27;#3a548cff&#x27;, &#x27;#39548cff&#x27;, &#x27;#39558cff&#x27;, &#x27;#39558cff&#x27;, &#x27;#39568cff&#x27;, &#x27;#38578cff&#x27;, &#x27;#38588cff&#x27;, &#x27;#38588cff&#x27;, &#x27;#38598cff&#x27;, &#x27;#37598cff&#x27;, &#x27;#375a8cff&#x27;, &#x27;#375a8dff&#x27;, &#x27;#375b8dff&#x27;, &#x27;#365b8dff&#x27;, &#x27;#365c8dff&#x27;, &#x27;#365c8dff&#x27;, &#x27;#365d8dff&#x27;, &#x27;#355d8dff&#x27;, &#x27;#355e8dff&#x27;, &#x27;#355f8dff&#x27;, &#x27;#355f8dff&#x27;, &#x27;#34608dff&#x27;, &#x27;#34608dff&#x27;, &#x27;#34618dff&#x27;, &#x27;#34618dff&#x27;, &#x27;#33628dff&#x27;, &#x27;#33628dff&#x27;, &#x27;#33638dff&#x27;, &#x27;#32638dff&#x27;, &#x27;#32648eff&#x27;, &#x27;#32648eff&#x27;, &#x27;#32658eff&#x27;, &#x27;#31658eff&#x27;, &#x27;#31668eff&#x27;, &#x27;#31668eff&#x27;, &#x27;#31678eff&#x27;, &#x27;#31678eff&#x27;, &#x27;#31688eff&#x27;, &#x27;#30688eff&#x27;, &#x27;#30698eff&#x27;, &#x27;#30698eff&#x27;, &#x27;#306a8eff&#x27;, &#x27;#2f6a8eff&#x27;, &#x27;#2f6b8eff&#x27;, &#x27;#2f6b8eff&#x27;, &#x27;#2f6c8eff&#x27;, &#x27;#2e6c8eff&#x27;, &#x27;#2e6d8eff&#x27;, &#x27;#2e6d8eff&#x27;, &#x27;#2e6e8eff&#x27;, &#x27;#2e6e8eff&#x27;, &#x27;#2e6f8eff&#x27;, &#x27;#2d6f8eff&#x27;, &#x27;#2d708eff&#x27;, &#x27;#2d708eff&#x27;, &#x27;#2d718eff&#x27;, &#x27;#2c718eff&#x27;, &#x27;#2c718eff&#x27;, &#x27;#2c728eff&#x27;, &#x27;#2c728eff&#x27;, &#x27;#2c738eff&#x27;, &#x27;#2c738eff&#x27;, &#x27;#2b748eff&#x27;, &#x27;#2b748eff&#x27;, &#x27;#2b758eff&#x27;, &#x27;#2b758eff&#x27;, &#x27;#2a768eff&#x27;, &#x27;#2a768eff&#x27;, &#x27;#2a778eff&#x27;, &#x27;#2a778eff&#x27;, &#x27;#2a788eff&#x27;, &#x27;#29788eff&#x27;, &#x27;#29798eff&#x27;, &#x27;#29798eff&#x27;, &#x27;#297a8eff&#x27;, &#x27;#297a8eff&#x27;, &#x27;#297b8eff&#x27;, &#x27;#287b8eff&#x27;, &#x27;#287c8eff&#x27;, &#x27;#287c8eff&#x27;, &#x27;#287d8eff&#x27;, &#x27;#277d8eff&#x27;, &#x27;#277e8eff&#x27;, &#x27;#277e8eff&#x27;, &#x27;#277f8eff&#x27;, &#x27;#277f8eff&#x27;, &#x27;#27808eff&#x27;, &#x27;#26808eff&#x27;, &#x27;#26818eff&#x27;, &#x27;#26818eff&#x27;, &#x27;#26828eff&#x27;, &#x27;#26828eff&#x27;, &#x27;#26828eff&#x27;, &#x27;#25828eff&#x27;, &#x27;#25838eff&#x27;, &#x27;#25838eff&#x27;, &#x27;#25848eff&#x27;, &#x27;#25858eff&#x27;, &#x27;#25858eff&#x27;, &#x27;#24868eff&#x27;, &#x27;#24868eff&#x27;, &#x27;#24878eff&#x27;, &#x27;#24878eff&#x27;, &#x27;#23888eff&#x27;, &#x27;#23888eff&#x27;, &#x27;#23898eff&#x27;, &#x27;#23898eff&#x27;, &#x27;#238a8dff&#x27;, &#x27;#238a8dff&#x27;, &#x27;#228b8dff&#x27;, &#x27;#228b8dff&#x27;, &#x27;#228c8dff&#x27;, &#x27;#228c8dff&#x27;, &#x27;#228d8dff&#x27;, &#x27;#218d8dff&#x27;, &#x27;#218e8dff&#x27;, &#x27;#218e8dff&#x27;, &#x27;#218f8dff&#x27;, &#x27;#218f8dff&#x27;, &#x27;#21908dff&#x27;, &#x27;#21908dff&#x27;, &#x27;#21918cff&#x27;, &#x27;#20918cff&#x27;, &#x27;#20928cff&#x27;, &#x27;#20928cff&#x27;, &#x27;#20928cff&#x27;, &#x27;#20928cff&#x27;, &#x27;#20938cff&#x27;, &#x27;#1f938cff&#x27;, &#x27;#1f948cff&#x27;, &#x27;#1f948cff&#x27;, &#x27;#1f958bff&#x27;, &#x27;#1f958bff&#x27;, &#x27;#1f968bff&#x27;, &#x27;#1f968bff&#x27;, &#x27;#1f978bff&#x27;, &#x27;#1f988bff&#x27;, &#x27;#1f988bff&#x27;, &#x27;#1f998bff&#x27;, &#x27;#1f998aff&#x27;, &#x27;#1f9a8aff&#x27;, &#x27;#1f9a8aff&#x27;, &#x27;#1e9b8aff&#x27;, &#x27;#1e9b8aff&#x27;, &#x27;#1e9c8aff&#x27;, &#x27;#1e9c89ff&#x27;, &#x27;#1e9d89ff&#x27;, &#x27;#1e9d89ff&#x27;, &#x27;#1e9e89ff&#x27;, &#x27;#1f9e89ff&#x27;, &#x27;#1f9f88ff&#x27;, &#x27;#1f9f88ff&#x27;, &#x27;#1fa088ff&#x27;, &#x27;#1fa088ff&#x27;, &#x27;#1fa188ff&#x27;, &#x27;#1fa188ff&#x27;, &#x27;#1fa187ff&#x27;, &#x27;#1fa187ff&#x27;, &#x27;#1fa287ff&#x27;, &#x27;#1fa287ff&#x27;, &#x27;#1fa386ff&#x27;, &#x27;#20a386ff&#x27;, &#x27;#20a486ff&#x27;, &#x27;#20a486ff&#x27;, &#x27;#20a585ff&#x27;, &#x27;#21a585ff&#x27;, &#x27;#21a685ff&#x27;, &#x27;#21a685ff&#x27;, &#x27;#21a785ff&#x27;, &#x27;#22a785ff&#x27;, &#x27;#22a884ff&#x27;, &#x27;#22a884ff&#x27;, &#x27;#22a983ff&#x27;, &#x27;#23a983ff&#x27;, &#x27;#23aa83ff&#x27;, &#x27;#24ab83ff&#x27;, &#x27;#25ab82ff&#x27;, &#x27;#25ac82ff&#x27;, &#x27;#25ac82ff&#x27;, &#x27;#25ad82ff&#x27;, &#x27;#26ad81ff&#x27;, &#x27;#26ad81ff&#x27;, &#x27;#27ad81ff&#x27;, &#x27;#27ae81ff&#x27;, &#x27;#28ae80ff&#x27;, &#x27;#28af80ff&#x27;, &#x27;#29af7fff&#x27;, &#x27;#29b07fff&#x27;, &#x27;#2ab07fff&#x27;, &#x27;#2bb17eff&#x27;, &#x27;#2cb17eff&#x27;, &#x27;#2cb27dff&#x27;, &#x27;#2db27dff&#x27;, &#x27;#2db37cff&#x27;, &#x27;#2eb37cff&#x27;, &#x27;#2eb47cff&#x27;, &#x27;#2fb47cff&#x27;, &#x27;#30b57bff&#x27;, &#x27;#31b57bff&#x27;, &#x27;#31b67aff&#x27;, &#x27;#32b67aff&#x27;, &#x27;#33b679ff&#x27;, &#x27;#34b679ff&#x27;, &#x27;#34b779ff&#x27;, &#x27;#35b779ff&#x27;, &#x27;#36b878ff&#x27;, &#x27;#37b878ff&#x27;, &#x27;#37b977ff&#x27;, &#x27;#38b977ff&#x27;, &#x27;#39ba76ff&#x27;, &#x27;#3aba76ff&#x27;, &#x27;#3abb75ff&#x27;, &#x27;#3bbb75ff&#x27;, &#x27;#3cbc74ff&#x27;, &#x27;#3dbc74ff&#x27;, &#x27;#3ebc73ff&#x27;, &#x27;#3fbd73ff&#x27;, &#x27;#40bd72ff&#x27;, &#x27;#40be72ff&#x27;, &#x27;#41be71ff&#x27;, &#x27;#42bf71ff&#x27;, &#x27;#43bf70ff&#x27;, &#x27;#45c070ff&#x27;, &#x27;#46c06fff&#x27;, &#x27;#47c16fff&#x27;, &#x27;#48c16eff&#x27;, &#x27;#49c16eff&#x27;, &#x27;#4ac16dff&#x27;, &#x27;#4bc26cff&#x27;, &#x27;#4cc26cff&#x27;, &#x27;#4dc36bff&#x27;, &#x27;#4ec36bff&#x27;, &#x27;#4fc46aff&#x27;, &#x27;#50c46aff&#x27;, &#x27;#51c569ff&#x27;, &#x27;#52c569ff&#x27;, &#x27;#53c568ff&#x27;, &#x27;#54c568ff&#x27;, &#x27;#55c667ff&#x27;, &#x27;#56c667ff&#x27;, &#x27;#57c766ff&#x27;, &#x27;#58c765ff&#x27;, &#x27;#59c864ff&#x27;, &#x27;#5ac864ff&#x27;, &#x27;#5bc863ff&#x27;, &#x27;#5cc863ff&#x27;, &#x27;#5dc962ff&#x27;, &#x27;#5ec962ff&#x27;, &#x27;#5fca61ff&#x27;, &#x27;#60ca60ff&#x27;, &#x27;#62cb5fff&#x27;, &#x27;#63cb5fff&#x27;, &#x27;#64cb5eff&#x27;, &#x27;#65cc5dff&#x27;, &#x27;#66cc5cff&#x27;, &#x27;#67cd5cff&#x27;, &#x27;#68cd5bff&#x27;, &#x27;#6acd5bff&#x27;, &#x27;#6bcd5aff&#x27;, &#x27;#6cce59ff&#x27;, &#x27;#6ece58ff&#x27;, &#x27;#6fcf58ff&#x27;, &#x27;#70cf57ff&#x27;, &#x27;#71d057ff&#x27;, &#x27;#72d056ff&#x27;, &#x27;#74d055ff&#x27;, &#x27;#75d054ff&#x27;, &#x27;#76d153ff&#x27;, &#x27;#77d153ff&#x27;, &#x27;#78d152ff&#x27;, &#x27;#7ad151ff&#x27;, &#x27;#7bd250ff&#x27;, &#x27;#7cd250ff&#x27;, &#x27;#7dd34fff&#x27;, &#x27;#7fd34eff&#x27;, &#x27;#80d34dff&#x27;, &#x27;#81d34dff&#x27;, &#x27;#82d44cff&#x27;, &#x27;#84d44bff&#x27;, &#x27;#85d54aff&#x27;, &#x27;#86d549ff&#x27;, &#x27;#88d548ff&#x27;, &#x27;#89d548ff&#x27;, &#x27;#8ad647ff&#x27;, &#x27;#8bd646ff&#x27;, &#x27;#8dd645ff&#x27;, &#x27;#8ed645ff&#x27;, &#x27;#8fd744ff&#x27;, &#x27;#90d743ff&#x27;, &#x27;#92d742ff&#x27;, &#x27;#93d741ff&#x27;, &#x27;#94d840ff&#x27;, &#x27;#96d83fff&#x27;, &#x27;#97d83eff&#x27;, &#x27;#99d93dff&#x27;, &#x27;#9ad93cff&#x27;, &#x27;#9bd93cff&#x27;, &#x27;#9dd93bff&#x27;, &#x27;#9eda3aff&#x27;, &#x27;#9fda39ff&#x27;, &#x27;#a1da38ff&#x27;, &#x27;#a2da37ff&#x27;, &#x27;#a3db36ff&#x27;, &#x27;#a4db36ff&#x27;, &#x27;#a6db35ff&#x27;, &#x27;#a8db34ff&#x27;, &#x27;#a9dc33ff&#x27;, &#x27;#aadc32ff&#x27;, &#x27;#abdc31ff&#x27;, &#x27;#addc30ff&#x27;, &#x27;#aedd2fff&#x27;, &#x27;#b0dd2fff&#x27;, &#x27;#b1dd2eff&#x27;, &#x27;#b2dd2dff&#x27;, &#x27;#b3de2cff&#x27;, &#x27;#b5de2bff&#x27;, &#x27;#b6de2aff&#x27;, &#x27;#b8de29ff&#x27;, &#x27;#b9de28ff&#x27;, &#x27;#bade28ff&#x27;, &#x27;#bcdf27ff&#x27;, &#x27;#bddf26ff&#x27;, &#x27;#bfdf25ff&#x27;, &#x27;#c0df25ff&#x27;, &#x27;#c1df24ff&#x27;, &#x27;#c2df23ff&#x27;, &#x27;#c4e022ff&#x27;, &#x27;#c5e021ff&#x27;, &#x27;#c7e020ff&#x27;, &#x27;#c8e020ff&#x27;, &#x27;#c9e11fff&#x27;, &#x27;#cbe11eff&#x27;, &#x27;#cce11dff&#x27;, &#x27;#cee11dff&#x27;, &#x27;#cfe11cff&#x27;, &#x27;#d1e11bff&#x27;, &#x27;#d2e21bff&#x27;, &#x27;#d3e21aff&#x27;, &#x27;#d4e21aff&#x27;, &#x27;#d6e219ff&#x27;, &#x27;#d7e219ff&#x27;, &#x27;#d9e319ff&#x27;, &#x27;#dae319ff&#x27;, &#x27;#dbe318ff&#x27;, &#x27;#dde318ff&#x27;, &#x27;#dee318ff&#x27;, &#x27;#dfe318ff&#x27;, &#x27;#e0e418ff&#x27;, &#x27;#e2e418ff&#x27;, &#x27;#e3e418ff&#x27;, &#x27;#e5e418ff&#x27;, &#x27;#e6e419ff&#x27;, &#x27;#e7e419ff&#x27;, &#x27;#e8e519ff&#x27;, &#x27;#eae519ff&#x27;, &#x27;#ebe51aff&#x27;, &#x27;#ece51aff&#x27;, &#x27;#ede51bff&#x27;, &#x27;#efe51bff&#x27;, &#x27;#f0e51cff&#x27;, &#x27;#f1e51dff&#x27;, &#x27;#f3e61dff&#x27;, &#x27;#f4e61eff&#x27;, &#x27;#f5e61eff&#x27;, &#x27;#f6e61fff&#x27;, &#x27;#f7e620ff&#x27;, &#x27;#f8e621ff&#x27;, &#x27;#fae722ff&#x27;, &#x27;#fbe723ff&#x27;, &#x27;#fce724ff&#x27;, &#x27;#fde725ff&#x27;]);\n",
       "    \n",
       "\n",
       "    color_map_e82c5ddb5c903d8da6eddbfc47c29b92.x = d3.scale.linear()\n",
       "              .domain([210.70914605598537, 27298.055523967312])\n",
       "              .range([0, 450 - 50]);\n",
       "\n",
       "    color_map_e82c5ddb5c903d8da6eddbfc47c29b92.legend = L.control({position: &#x27;topright&#x27;});\n",
       "    color_map_e82c5ddb5c903d8da6eddbfc47c29b92.legend.onAdd = function (map) {var div = L.DomUtil.create(&#x27;div&#x27;, &#x27;legend&#x27;); return div};\n",
       "    color_map_e82c5ddb5c903d8da6eddbfc47c29b92.legend.addTo(map_091474cff4df3420104e75ff6f17445b);\n",
       "\n",
       "    color_map_e82c5ddb5c903d8da6eddbfc47c29b92.xAxis = d3.svg.axis()\n",
       "        .scale(color_map_e82c5ddb5c903d8da6eddbfc47c29b92.x)\n",
       "        .orient(&quot;top&quot;)\n",
       "        .tickSize(1)\n",
       "        .tickValues([210.70914605598537, &#x27;&#x27;, &#x27;&#x27;, &#x27;&#x27;, &#x27;&#x27;, &#x27;&#x27;, &#x27;&#x27;, &#x27;&#x27;, &#x27;&#x27;, &#x27;&#x27;, &#x27;&#x27;, &#x27;&#x27;, &#x27;&#x27;, &#x27;&#x27;, &#x27;&#x27;, &#x27;&#x27;, &#x27;&#x27;, &#x27;&#x27;, &#x27;&#x27;, &#x27;&#x27;, &#x27;&#x27;, &#x27;&#x27;, &#x27;&#x27;, &#x27;&#x27;, &#x27;&#x27;, &#x27;&#x27;, 2972.5562277253757, &#x27;&#x27;, &#x27;&#x27;, &#x27;&#x27;, &#x27;&#x27;, &#x27;&#x27;, &#x27;&#x27;, &#x27;&#x27;, &#x27;&#x27;, &#x27;&#x27;, &#x27;&#x27;, &#x27;&#x27;, &#x27;&#x27;, &#x27;&#x27;, &#x27;&#x27;, &#x27;&#x27;, &#x27;&#x27;, &#x27;&#x27;, &#x27;&#x27;, &#x27;&#x27;, &#x27;&#x27;, &#x27;&#x27;, &#x27;&#x27;, &#x27;&#x27;, &#x27;&#x27;, &#x27;&#x27;, 5734.4033093947655, &#x27;&#x27;, &#x27;&#x27;, &#x27;&#x27;, &#x27;&#x27;, &#x27;&#x27;, &#x27;&#x27;, &#x27;&#x27;, &#x27;&#x27;, &#x27;&#x27;, &#x27;&#x27;, &#x27;&#x27;, &#x27;&#x27;, &#x27;&#x27;, &#x27;&#x27;, &#x27;&#x27;, &#x27;&#x27;, &#x27;&#x27;, &#x27;&#x27;, &#x27;&#x27;, &#x27;&#x27;, &#x27;&#x27;, &#x27;&#x27;, &#x27;&#x27;, &#x27;&#x27;, &#x27;&#x27;, 8496.250391064157, &#x27;&#x27;, &#x27;&#x27;, &#x27;&#x27;, &#x27;&#x27;, &#x27;&#x27;, &#x27;&#x27;, &#x27;&#x27;, &#x27;&#x27;, &#x27;&#x27;, &#x27;&#x27;, &#x27;&#x27;, &#x27;&#x27;, &#x27;&#x27;, &#x27;&#x27;, &#x27;&#x27;, &#x27;&#x27;, &#x27;&#x27;, &#x27;&#x27;, &#x27;&#x27;, &#x27;&#x27;, &#x27;&#x27;, &#x27;&#x27;, &#x27;&#x27;, &#x27;&#x27;, &#x27;&#x27;, 11258.097472733547, &#x27;&#x27;, &#x27;&#x27;, &#x27;&#x27;, &#x27;&#x27;, &#x27;&#x27;, &#x27;&#x27;, &#x27;&#x27;, &#x27;&#x27;, &#x27;&#x27;, &#x27;&#x27;, &#x27;&#x27;, &#x27;&#x27;, &#x27;&#x27;, &#x27;&#x27;, &#x27;&#x27;, &#x27;&#x27;, &#x27;&#x27;, &#x27;&#x27;, &#x27;&#x27;, &#x27;&#x27;, &#x27;&#x27;, &#x27;&#x27;, &#x27;&#x27;, &#x27;&#x27;, &#x27;&#x27;, 14019.944554402937, &#x27;&#x27;, &#x27;&#x27;, &#x27;&#x27;, &#x27;&#x27;, &#x27;&#x27;, &#x27;&#x27;, &#x27;&#x27;, &#x27;&#x27;, &#x27;&#x27;, &#x27;&#x27;, &#x27;&#x27;, &#x27;&#x27;, &#x27;&#x27;, &#x27;&#x27;, &#x27;&#x27;, &#x27;&#x27;, &#x27;&#x27;, &#x27;&#x27;, &#x27;&#x27;, &#x27;&#x27;, &#x27;&#x27;, &#x27;&#x27;, &#x27;&#x27;, &#x27;&#x27;, &#x27;&#x27;, 16781.79163607233, &#x27;&#x27;, &#x27;&#x27;, &#x27;&#x27;, &#x27;&#x27;, &#x27;&#x27;, &#x27;&#x27;, &#x27;&#x27;, &#x27;&#x27;, &#x27;&#x27;, &#x27;&#x27;, &#x27;&#x27;, &#x27;&#x27;, &#x27;&#x27;, &#x27;&#x27;, &#x27;&#x27;, &#x27;&#x27;, &#x27;&#x27;, &#x27;&#x27;, &#x27;&#x27;, &#x27;&#x27;, &#x27;&#x27;, &#x27;&#x27;, &#x27;&#x27;, &#x27;&#x27;, &#x27;&#x27;, 19543.638717741716, &#x27;&#x27;, &#x27;&#x27;, &#x27;&#x27;, &#x27;&#x27;, &#x27;&#x27;, &#x27;&#x27;, &#x27;&#x27;, &#x27;&#x27;, &#x27;&#x27;, &#x27;&#x27;, &#x27;&#x27;, &#x27;&#x27;, &#x27;&#x27;, &#x27;&#x27;, &#x27;&#x27;, &#x27;&#x27;, &#x27;&#x27;, &#x27;&#x27;, &#x27;&#x27;, &#x27;&#x27;, &#x27;&#x27;, &#x27;&#x27;, &#x27;&#x27;, &#x27;&#x27;, &#x27;&#x27;, 22305.485799411108, &#x27;&#x27;, &#x27;&#x27;, &#x27;&#x27;, &#x27;&#x27;, &#x27;&#x27;, &#x27;&#x27;, &#x27;&#x27;, &#x27;&#x27;, &#x27;&#x27;, &#x27;&#x27;, &#x27;&#x27;, &#x27;&#x27;, &#x27;&#x27;, &#x27;&#x27;, &#x27;&#x27;, &#x27;&#x27;, &#x27;&#x27;, &#x27;&#x27;, &#x27;&#x27;, &#x27;&#x27;, &#x27;&#x27;, &#x27;&#x27;, &#x27;&#x27;, &#x27;&#x27;, &#x27;&#x27;, 25067.332881080496, &#x27;&#x27;, &#x27;&#x27;, &#x27;&#x27;, &#x27;&#x27;, &#x27;&#x27;, &#x27;&#x27;, &#x27;&#x27;, &#x27;&#x27;, &#x27;&#x27;, &#x27;&#x27;, &#x27;&#x27;, &#x27;&#x27;, &#x27;&#x27;, &#x27;&#x27;, &#x27;&#x27;, &#x27;&#x27;, &#x27;&#x27;, &#x27;&#x27;, &#x27;&#x27;, &#x27;&#x27;, &#x27;&#x27;, &#x27;&#x27;, &#x27;&#x27;, &#x27;&#x27;, &#x27;&#x27;]);\n",
       "\n",
       "    color_map_e82c5ddb5c903d8da6eddbfc47c29b92.svg = d3.select(&quot;.legend.leaflet-control&quot;).append(&quot;svg&quot;)\n",
       "        .attr(&quot;id&quot;, &#x27;legend&#x27;)\n",
       "        .attr(&quot;width&quot;, 450)\n",
       "        .attr(&quot;height&quot;, 40);\n",
       "\n",
       "    color_map_e82c5ddb5c903d8da6eddbfc47c29b92.g = color_map_e82c5ddb5c903d8da6eddbfc47c29b92.svg.append(&quot;g&quot;)\n",
       "        .attr(&quot;class&quot;, &quot;key&quot;)\n",
       "        .attr(&quot;transform&quot;, &quot;translate(25,16)&quot;);\n",
       "\n",
       "    color_map_e82c5ddb5c903d8da6eddbfc47c29b92.g.selectAll(&quot;rect&quot;)\n",
       "        .data(color_map_e82c5ddb5c903d8da6eddbfc47c29b92.color.range().map(function(d, i) {\n",
       "          return {\n",
       "            x0: i ? color_map_e82c5ddb5c903d8da6eddbfc47c29b92.x(color_map_e82c5ddb5c903d8da6eddbfc47c29b92.color.domain()[i - 1]) : color_map_e82c5ddb5c903d8da6eddbfc47c29b92.x.range()[0],\n",
       "            x1: i &lt; color_map_e82c5ddb5c903d8da6eddbfc47c29b92.color.domain().length ? color_map_e82c5ddb5c903d8da6eddbfc47c29b92.x(color_map_e82c5ddb5c903d8da6eddbfc47c29b92.color.domain()[i]) : color_map_e82c5ddb5c903d8da6eddbfc47c29b92.x.range()[1],\n",
       "            z: d\n",
       "          };\n",
       "        }))\n",
       "      .enter().append(&quot;rect&quot;)\n",
       "        .attr(&quot;height&quot;, 40 - 30)\n",
       "        .attr(&quot;x&quot;, function(d) { return d.x0; })\n",
       "        .attr(&quot;width&quot;, function(d) { return d.x1 - d.x0; })\n",
       "        .style(&quot;fill&quot;, function(d) { return d.z; });\n",
       "\n",
       "    color_map_e82c5ddb5c903d8da6eddbfc47c29b92.g.call(color_map_e82c5ddb5c903d8da6eddbfc47c29b92.xAxis).append(&quot;text&quot;)\n",
       "        .attr(&quot;class&quot;, &quot;caption&quot;)\n",
       "        .attr(&quot;y&quot;, 21)\n",
       "        .text(&quot;distance&quot;);\n",
       "&lt;/script&gt;\n",
       "&lt;/html&gt;\" style=\"position:absolute;width:100%;height:100%;left:0;top:0;border:none !important;\" allowfullscreen webkitallowfullscreen mozallowfullscreen></iframe></div></div>"
      ],
      "text/plain": [
       "<folium.folium.Map at 0x7fc816e96190>"
      ]
     },
     "execution_count": 1187,
     "metadata": {},
     "output_type": "execute_result"
    }
   ],
   "source": [
    "merged_df[['customer_geometry', \"distance\"]].explore(\"distance\")"
   ]
  },
  {
   "cell_type": "code",
   "execution_count": 1189,
   "id": "47313f28-d0d9-46da-a44e-1e562b9e836e",
   "metadata": {},
   "outputs": [
    {
     "data": {
      "text/html": [
       "<div>\n",
       "<style scoped>\n",
       "    .dataframe tbody tr th:only-of-type {\n",
       "        vertical-align: middle;\n",
       "    }\n",
       "\n",
       "    .dataframe tbody tr th {\n",
       "        vertical-align: top;\n",
       "    }\n",
       "\n",
       "    .dataframe thead th {\n",
       "        text-align: right;\n",
       "    }\n",
       "</style>\n",
       "<table border=\"1\" class=\"dataframe\">\n",
       "  <thead>\n",
       "    <tr style=\"text-align: right;\">\n",
       "      <th></th>\n",
       "      <th>book_id</th>\n",
       "      <th>book_title</th>\n",
       "      <th>book_authors</th>\n",
       "      <th>book_publisher</th>\n",
       "      <th>book_publishedDate</th>\n",
       "      <th>book_categories</th>\n",
       "      <th>book_price</th>\n",
       "      <th>book_pages</th>\n",
       "      <th>book_published_year</th>\n",
       "    </tr>\n",
       "  </thead>\n",
       "  <tbody>\n",
       "    <tr>\n",
       "      <th>0</th>\n",
       "      <td>hVFwAAAAQBAJ</td>\n",
       "      <td>Ogilvy on Advertising</td>\n",
       "      <td>['David Ogilvy']</td>\n",
       "      <td>Vintage</td>\n",
       "      <td>2013-09-11</td>\n",
       "      <td>['Social Science']</td>\n",
       "      <td>72.99</td>\n",
       "      <td>320</td>\n",
       "      <td>2013</td>\n",
       "    </tr>\n",
       "    <tr>\n",
       "      <th>1</th>\n",
       "      <td>bRY9AAAAYAAJ</td>\n",
       "      <td>Foreign Publications for Advertising American ...</td>\n",
       "      <td>['United States. Bureau of Foreign and Domesti...</td>\n",
       "      <td>['NO_PUBLISHER']</td>\n",
       "      <td>1913-01-01</td>\n",
       "      <td>['Advertising']</td>\n",
       "      <td>469.99</td>\n",
       "      <td>654</td>\n",
       "      <td>1913</td>\n",
       "    </tr>\n",
       "  </tbody>\n",
       "</table>\n",
       "</div>"
      ],
      "text/plain": [
       "        book_id                                         book_title  \\\n",
       "0  hVFwAAAAQBAJ                              Ogilvy on Advertising   \n",
       "1  bRY9AAAAYAAJ  Foreign Publications for Advertising American ...   \n",
       "\n",
       "                                        book_authors    book_publisher  \\\n",
       "0                                   ['David Ogilvy']           Vintage   \n",
       "1  ['United States. Bureau of Foreign and Domesti...  ['NO_PUBLISHER']   \n",
       "\n",
       "  book_publishedDate     book_categories  book_price  book_pages  \\\n",
       "0         2013-09-11  ['Social Science']       72.99         320   \n",
       "1         1913-01-01     ['Advertising']      469.99         654   \n",
       "\n",
       "   book_published_year  \n",
       "0                 2013  \n",
       "1                 1913  "
      ]
     },
     "execution_count": 1189,
     "metadata": {},
     "output_type": "execute_result"
    }
   ],
   "source": [
    "books_df.head(2)"
   ]
  },
  {
   "cell_type": "code",
   "execution_count": 1190,
   "id": "db591d86-c7ba-4984-9d83-b908305ad76c",
   "metadata": {},
   "outputs": [
    {
     "data": {
      "text/html": [
       "<div>\n",
       "<style scoped>\n",
       "    .dataframe tbody tr th:only-of-type {\n",
       "        vertical-align: middle;\n",
       "    }\n",
       "\n",
       "    .dataframe tbody tr th {\n",
       "        vertical-align: top;\n",
       "    }\n",
       "\n",
       "    .dataframe thead th {\n",
       "        text-align: right;\n",
       "    }\n",
       "</style>\n",
       "<table border=\"1\" class=\"dataframe\">\n",
       "  <thead>\n",
       "    <tr style=\"text-align: right;\">\n",
       "      <th></th>\n",
       "      <th>book_id</th>\n",
       "      <th>book_title</th>\n",
       "      <th>book_authors</th>\n",
       "      <th>book_publisher</th>\n",
       "      <th>book_publishedDate</th>\n",
       "      <th>book_categories</th>\n",
       "      <th>book_price</th>\n",
       "      <th>book_pages</th>\n",
       "      <th>book_published_year</th>\n",
       "    </tr>\n",
       "  </thead>\n",
       "  <tbody>\n",
       "    <tr>\n",
       "      <th>36</th>\n",
       "      <td>TQpFnkku2poC</td>\n",
       "      <td>Advertising Management</td>\n",
       "      <td>['C. L. Tyagi', 'Arun Kumar']</td>\n",
       "      <td>Atlantic Publishers &amp; Dist</td>\n",
       "      <td>2004-01-01</td>\n",
       "      <td>['Advertising']</td>\n",
       "      <td>217.0</td>\n",
       "      <td>790</td>\n",
       "      <td>2004</td>\n",
       "    </tr>\n",
       "  </tbody>\n",
       "</table>\n",
       "</div>"
      ],
      "text/plain": [
       "         book_id              book_title                   book_authors  \\\n",
       "36  TQpFnkku2poC  Advertising Management  ['C. L. Tyagi', 'Arun Kumar']   \n",
       "\n",
       "                book_publisher book_publishedDate  book_categories  \\\n",
       "36  Atlantic Publishers & Dist         2004-01-01  ['Advertising']   \n",
       "\n",
       "    book_price  book_pages  book_published_year  \n",
       "36       217.0         790                 2004  "
      ]
     },
     "execution_count": 1190,
     "metadata": {},
     "output_type": "execute_result"
    }
   ],
   "source": [
    "books_df[books_df.book_id=='TQpFnkku2poC']"
   ]
  },
  {
   "cell_type": "code",
   "execution_count": 1191,
   "id": "abd043d9-30cd-42b0-9d32-217fc1133156",
   "metadata": {},
   "outputs": [
    {
     "data": {
      "text/html": [
       "<div>\n",
       "<style scoped>\n",
       "    .dataframe tbody tr th:only-of-type {\n",
       "        vertical-align: middle;\n",
       "    }\n",
       "\n",
       "    .dataframe tbody tr th {\n",
       "        vertical-align: top;\n",
       "    }\n",
       "\n",
       "    .dataframe thead th {\n",
       "        text-align: right;\n",
       "    }\n",
       "</style>\n",
       "<table border=\"1\" class=\"dataframe\">\n",
       "  <thead>\n",
       "    <tr style=\"text-align: right;\">\n",
       "      <th></th>\n",
       "      <th>id</th>\n",
       "      <th>patron_id</th>\n",
       "      <th>library_id</th>\n",
       "      <th>date_checkout</th>\n",
       "      <th>date_returned</th>\n",
       "      <th>length</th>\n",
       "      <th>customer_name</th>\n",
       "      <th>customer_street_address</th>\n",
       "      <th>customer_city</th>\n",
       "      <th>customer_state</th>\n",
       "      <th>...</th>\n",
       "      <th>library_name</th>\n",
       "      <th>library_street_address</th>\n",
       "      <th>library_city</th>\n",
       "      <th>library_region</th>\n",
       "      <th>library_postal_code</th>\n",
       "      <th>library_address</th>\n",
       "      <th>library_geometry</th>\n",
       "      <th>library_longitude</th>\n",
       "      <th>library_latitude</th>\n",
       "      <th>distance</th>\n",
       "    </tr>\n",
       "  </thead>\n",
       "  <tbody>\n",
       "    <tr>\n",
       "      <th>0</th>\n",
       "      <td>HUX-y4oXl04C</td>\n",
       "      <td>8d3f63e1deed89d7ba1bf6a4eb101373</td>\n",
       "      <td>223-222@5xc-jxr-tgk</td>\n",
       "      <td>2018-05-29</td>\n",
       "      <td>2018-06-12</td>\n",
       "      <td>14</td>\n",
       "      <td>Jeanette Nelms</td>\n",
       "      <td>4942 SE 28TH AVE</td>\n",
       "      <td>PORTLAND</td>\n",
       "      <td>OREGON</td>\n",
       "      <td>...</td>\n",
       "      <td>MULTNOMAH COUNTY LIBRARY WOODSTOCK</td>\n",
       "      <td>6008 SE 49TH AVE</td>\n",
       "      <td>PORTLAND</td>\n",
       "      <td>OR</td>\n",
       "      <td>97206</td>\n",
       "      <td>6008 SE 49TH AVE, PORTLAND, OR</td>\n",
       "      <td>POINT (-13649117.262 5697248.904)</td>\n",
       "      <td>-122.61210650846269</td>\n",
       "      <td>45.47900505</td>\n",
       "      <td>3066.751994</td>\n",
       "    </tr>\n",
       "    <tr>\n",
       "      <th>1</th>\n",
       "      <td>TQpFnkku2poC</td>\n",
       "      <td>4ae202f8de762591734705e0079d76df</td>\n",
       "      <td>228-222@5xc-jtz-hwk</td>\n",
       "      <td>2018-11-23</td>\n",
       "      <td>2019-01-24</td>\n",
       "      <td>62</td>\n",
       "      <td>Melvin Jackson</td>\n",
       "      <td>2821 NE KLICKITAT ST</td>\n",
       "      <td>PORTLAND</td>\n",
       "      <td>OREGON</td>\n",
       "      <td>...</td>\n",
       "      <td>MULTNOMAH  COUNTY LIBRARY</td>\n",
       "      <td>205 NE   RUSSELL  ST</td>\n",
       "      <td>PORTLAND</td>\n",
       "      <td>OR</td>\n",
       "      <td>97212</td>\n",
       "      <td>205 NE   RUSSELL  ST, PORTLAND, OR</td>\n",
       "      <td>POINT (-13654840.942 5707125.540)</td>\n",
       "      <td>-122.6635232</td>\n",
       "      <td>45.5411809</td>\n",
       "      <td>3130.805100</td>\n",
       "    </tr>\n",
       "  </tbody>\n",
       "</table>\n",
       "<p>2 rows × 30 columns</p>\n",
       "</div>"
      ],
      "text/plain": [
       "             id                         patron_id           library_id  \\\n",
       "0  HUX-y4oXl04C  8d3f63e1deed89d7ba1bf6a4eb101373  223-222@5xc-jxr-tgk   \n",
       "1  TQpFnkku2poC  4ae202f8de762591734705e0079d76df  228-222@5xc-jtz-hwk   \n",
       "\n",
       "  date_checkout date_returned  length   customer_name customer_street_address  \\\n",
       "0    2018-05-29    2018-06-12      14  Jeanette Nelms        4942 SE 28TH AVE   \n",
       "1    2018-11-23    2019-01-24      62  Melvin Jackson    2821 NE KLICKITAT ST   \n",
       "\n",
       "  customer_city customer_state  ...                        library_name  \\\n",
       "0      PORTLAND         OREGON  ...  MULTNOMAH COUNTY LIBRARY WOODSTOCK   \n",
       "1      PORTLAND         OREGON  ...           MULTNOMAH  COUNTY LIBRARY   \n",
       "\n",
       "  library_street_address library_city library_region library_postal_code  \\\n",
       "0       6008 SE 49TH AVE     PORTLAND             OR               97206   \n",
       "1   205 NE   RUSSELL  ST     PORTLAND             OR               97212   \n",
       "\n",
       "                      library_address                   library_geometry  \\\n",
       "0      6008 SE 49TH AVE, PORTLAND, OR  POINT (-13649117.262 5697248.904)   \n",
       "1  205 NE   RUSSELL  ST, PORTLAND, OR  POINT (-13654840.942 5707125.540)   \n",
       "\n",
       "     library_longitude library_latitude     distance  \n",
       "0  -122.61210650846269      45.47900505  3066.751994  \n",
       "1         -122.6635232       45.5411809  3130.805100  \n",
       "\n",
       "[2 rows x 30 columns]"
      ]
     },
     "execution_count": 1191,
     "metadata": {},
     "output_type": "execute_result"
    }
   ],
   "source": [
    "merged_df.head(2)"
   ]
  },
  {
   "cell_type": "code",
   "execution_count": 1192,
   "id": "62edb566-def5-438a-a26a-b3c39bc2d8ec",
   "metadata": {},
   "outputs": [],
   "source": [
    "merged_df = merged_df.rename(columns={\n",
    "    'id': 'book_id'\n",
    "})"
   ]
  },
  {
   "cell_type": "code",
   "execution_count": 1193,
   "id": "23eb42de-8a61-4050-9652-d30bf59a4e4c",
   "metadata": {},
   "outputs": [],
   "source": [
    "merged_df = merged_df.merge(books_df, on='book_id', how='left')"
   ]
  },
  {
   "cell_type": "code",
   "execution_count": 1197,
   "id": "62f5dfbd-ff72-40e0-9017-f3768d1eb89b",
   "metadata": {},
   "outputs": [
    {
     "data": {
      "text/html": [
       "<div>\n",
       "<style scoped>\n",
       "    .dataframe tbody tr th:only-of-type {\n",
       "        vertical-align: middle;\n",
       "    }\n",
       "\n",
       "    .dataframe tbody tr th {\n",
       "        vertical-align: top;\n",
       "    }\n",
       "\n",
       "    .dataframe thead th {\n",
       "        text-align: right;\n",
       "    }\n",
       "</style>\n",
       "<table border=\"1\" class=\"dataframe\">\n",
       "  <thead>\n",
       "    <tr style=\"text-align: right;\">\n",
       "      <th></th>\n",
       "      <th>book_id</th>\n",
       "      <th>patron_id</th>\n",
       "      <th>library_id</th>\n",
       "      <th>date_checkout</th>\n",
       "      <th>date_returned</th>\n",
       "      <th>length</th>\n",
       "      <th>customer_name</th>\n",
       "      <th>customer_street_address</th>\n",
       "      <th>customer_city</th>\n",
       "      <th>customer_state</th>\n",
       "      <th>...</th>\n",
       "      <th>library_latitude</th>\n",
       "      <th>distance</th>\n",
       "      <th>book_title</th>\n",
       "      <th>book_authors</th>\n",
       "      <th>book_publisher</th>\n",
       "      <th>book_publishedDate</th>\n",
       "      <th>book_categories</th>\n",
       "      <th>book_price</th>\n",
       "      <th>book_pages</th>\n",
       "      <th>book_published_year</th>\n",
       "    </tr>\n",
       "  </thead>\n",
       "  <tbody>\n",
       "    <tr>\n",
       "      <th>0</th>\n",
       "      <td>HUX-y4oXl04C</td>\n",
       "      <td>8d3f63e1deed89d7ba1bf6a4eb101373</td>\n",
       "      <td>223-222@5xc-jxr-tgk</td>\n",
       "      <td>2018-05-29</td>\n",
       "      <td>2018-06-12</td>\n",
       "      <td>14</td>\n",
       "      <td>Jeanette Nelms</td>\n",
       "      <td>4942 SE 28TH AVE</td>\n",
       "      <td>PORTLAND</td>\n",
       "      <td>OREGON</td>\n",
       "      <td>...</td>\n",
       "      <td>45.47900505</td>\n",
       "      <td>3066.751994</td>\n",
       "      <td>Indian Financial System 5E</td>\n",
       "      <td>['Khan']</td>\n",
       "      <td>Tata McGraw-Hill Education</td>\n",
       "      <td>2006-06-01</td>\n",
       "      <td>['NO_CATEGORY']</td>\n",
       "      <td>416.99</td>\n",
       "      <td>752</td>\n",
       "      <td>2006</td>\n",
       "    </tr>\n",
       "    <tr>\n",
       "      <th>1</th>\n",
       "      <td>TQpFnkku2poC</td>\n",
       "      <td>4ae202f8de762591734705e0079d76df</td>\n",
       "      <td>228-222@5xc-jtz-hwk</td>\n",
       "      <td>2018-11-23</td>\n",
       "      <td>2019-01-24</td>\n",
       "      <td>62</td>\n",
       "      <td>Melvin Jackson</td>\n",
       "      <td>2821 NE KLICKITAT ST</td>\n",
       "      <td>PORTLAND</td>\n",
       "      <td>OREGON</td>\n",
       "      <td>...</td>\n",
       "      <td>45.5411809</td>\n",
       "      <td>3130.805100</td>\n",
       "      <td>Advertising Management</td>\n",
       "      <td>['C. L. Tyagi', 'Arun Kumar']</td>\n",
       "      <td>Atlantic Publishers &amp; Dist</td>\n",
       "      <td>2004-01-01</td>\n",
       "      <td>['Advertising']</td>\n",
       "      <td>217.00</td>\n",
       "      <td>790</td>\n",
       "      <td>2004</td>\n",
       "    </tr>\n",
       "  </tbody>\n",
       "</table>\n",
       "<p>2 rows × 38 columns</p>\n",
       "</div>"
      ],
      "text/plain": [
       "        book_id                         patron_id           library_id  \\\n",
       "0  HUX-y4oXl04C  8d3f63e1deed89d7ba1bf6a4eb101373  223-222@5xc-jxr-tgk   \n",
       "1  TQpFnkku2poC  4ae202f8de762591734705e0079d76df  228-222@5xc-jtz-hwk   \n",
       "\n",
       "  date_checkout date_returned  length   customer_name customer_street_address  \\\n",
       "0    2018-05-29    2018-06-12      14  Jeanette Nelms        4942 SE 28TH AVE   \n",
       "1    2018-11-23    2019-01-24      62  Melvin Jackson    2821 NE KLICKITAT ST   \n",
       "\n",
       "  customer_city customer_state  ...  library_latitude     distance  \\\n",
       "0      PORTLAND         OREGON  ...       45.47900505  3066.751994   \n",
       "1      PORTLAND         OREGON  ...        45.5411809  3130.805100   \n",
       "\n",
       "                   book_title                   book_authors  \\\n",
       "0  Indian Financial System 5E                       ['Khan']   \n",
       "1      Advertising Management  ['C. L. Tyagi', 'Arun Kumar']   \n",
       "\n",
       "               book_publisher  book_publishedDate  book_categories book_price  \\\n",
       "0  Tata McGraw-Hill Education          2006-06-01  ['NO_CATEGORY']     416.99   \n",
       "1  Atlantic Publishers & Dist          2004-01-01  ['Advertising']     217.00   \n",
       "\n",
       "  book_pages book_published_year  \n",
       "0        752                2006  \n",
       "1        790                2004  \n",
       "\n",
       "[2 rows x 38 columns]"
      ]
     },
     "execution_count": 1197,
     "metadata": {},
     "output_type": "execute_result"
    }
   ],
   "source": [
    "merged_df.head(2)"
   ]
  },
  {
   "cell_type": "code",
   "execution_count": 1196,
   "id": "77837d85-b140-4ae3-9bae-ca97502c00e7",
   "metadata": {},
   "outputs": [],
   "source": [
    "merged_df.to_pickle('data/merged_df.pickle')\n",
    "merged_df.to_csv('data/merged_df.csv')"
   ]
  },
  {
   "cell_type": "code",
   "execution_count": null,
   "id": "31e6f946-b662-45a1-b453-81d391b09e12",
   "metadata": {},
   "outputs": [],
   "source": []
  }
 ],
 "metadata": {
  "kernelspec": {
   "display_name": "Python 3 (ipykernel)",
   "language": "python",
   "name": "python3"
  },
  "language_info": {
   "codemirror_mode": {
    "name": "ipython",
    "version": 3
   },
   "file_extension": ".py",
   "mimetype": "text/x-python",
   "name": "python",
   "nbconvert_exporter": "python",
   "pygments_lexer": "ipython3",
   "version": "3.11.9"
  }
 },
 "nbformat": 4,
 "nbformat_minor": 5
}
