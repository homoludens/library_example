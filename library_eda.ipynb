{
 "cells": [
  {
   "cell_type": "code",
   "execution_count": null,
   "id": "9a057535-a189-4623-a391-6534cd1a2286",
   "metadata": {},
   "outputs": [],
   "source": [
    "# "
   ]
  },
  {
   "cell_type": "code",
   "execution_count": null,
   "id": "c419a070-cdc6-482f-91e5-964fd5b20dc1",
   "metadata": {},
   "outputs": [],
   "source": []
  },
  {
   "cell_type": "code",
   "execution_count": null,
   "id": "6eb770f6-8ff2-4718-bc06-b08011b8fb30",
   "metadata": {},
   "outputs": [],
   "source": []
  },
  {
   "cell_type": "code",
   "execution_count": 304,
   "id": "d7a2d989-f585-4bab-9a99-f2d4f97d522d",
   "metadata": {},
   "outputs": [],
   "source": [
    "import pandas as pd\n",
    "from pathlib import Path\n",
    "import sqlite3\n",
    "from datetime import datetime\n",
    "import traceback\n",
    "import dtale\n",
    "import re"
   ]
  },
  {
   "cell_type": "markdown",
   "id": "40733359-5607-43f6-89f5-b12d384146b9",
   "metadata": {},
   "source": [
    "# Move data to sql database for easier querying and connectecting"
   ]
  },
  {
   "cell_type": "code",
   "execution_count": 23,
   "id": "11093964-7db7-4f92-84e9-d28253ca03cb",
   "metadata": {},
   "outputs": [
    {
     "data": {
      "text/plain": [
       "[PosixPath('data/books.csv'),\n",
       " PosixPath('data/libraries.csv'),\n",
       " PosixPath('data/checkouts.csv'),\n",
       " PosixPath('data/customers.csv')]"
      ]
     },
     "execution_count": 23,
     "metadata": {},
     "output_type": "execute_result"
    }
   ],
   "source": [
    "list(Path('data').glob('*.csv'))"
   ]
  },
  {
   "cell_type": "code",
   "execution_count": 18,
   "id": "e54aa1f8-74cc-446f-84b3-a4b2fc9fe832",
   "metadata": {},
   "outputs": [],
   "source": []
  },
  {
   "cell_type": "code",
   "execution_count": 19,
   "id": "c5c49423-7b90-4de7-ab46-5391f09407ef",
   "metadata": {},
   "outputs": [],
   "source": [
    "# str(a)"
   ]
  },
  {
   "cell_type": "code",
   "execution_count": null,
   "id": "f314599e-1be6-4e07-9ff0-f07ed7b564ca",
   "metadata": {},
   "outputs": [],
   "source": []
  },
  {
   "cell_type": "code",
   "execution_count": 22,
   "id": "d797b917-038b-4dae-bb23-b35fdcc6bf2a",
   "metadata": {},
   "outputs": [],
   "source": [
    "conn = sqlite3.connect(\"data/library_example.db\")  # This will create 'example.db' in the current directory\n",
    "\n",
    "# conn.close()"
   ]
  },
  {
   "cell_type": "code",
   "execution_count": 21,
   "id": "c3416f30-14aa-4583-b6be-24d0c9328b76",
   "metadata": {},
   "outputs": [
    {
     "name": "stdout",
     "output_type": "stream",
     "text": [
      "books\n",
      "libraries\n",
      "checkouts\n",
      "customers\n"
     ]
    }
   ],
   "source": [
    "for csv_path in Path('data').glob('*.csv'):\n",
    "    table_name = csv_path.stem\n",
    "    print(table_name)\n",
    "    temp_df = pd.read_csv(csv_path)\n",
    "    temp_df.to_sql(name=table_name, con=conn, if_exists=\"replace\", index=False)\n",
    "\n",
    "conn.close()"
   ]
  },
  {
   "cell_type": "code",
   "execution_count": 131,
   "id": "9972f935-d15e-4eba-ae06-ad443c0fec76",
   "metadata": {},
   "outputs": [],
   "source": [
    "checkouts_df = pd.read_csv('data/checkouts.csv')"
   ]
  },
  {
   "cell_type": "code",
   "execution_count": 103,
   "id": "85cdea96-b340-48d9-b879-3dd35ef8acdc",
   "metadata": {},
   "outputs": [
    {
     "data": {
      "text/html": [
       "<div>\n",
       "<style scoped>\n",
       "    .dataframe tbody tr th:only-of-type {\n",
       "        vertical-align: middle;\n",
       "    }\n",
       "\n",
       "    .dataframe tbody tr th {\n",
       "        vertical-align: top;\n",
       "    }\n",
       "\n",
       "    .dataframe thead th {\n",
       "        text-align: right;\n",
       "    }\n",
       "</style>\n",
       "<table border=\"1\" class=\"dataframe\">\n",
       "  <thead>\n",
       "    <tr style=\"text-align: right;\">\n",
       "      <th></th>\n",
       "      <th>id</th>\n",
       "      <th>patron_id</th>\n",
       "      <th>library_id</th>\n",
       "      <th>date_checkout</th>\n",
       "      <th>date_returned</th>\n",
       "    </tr>\n",
       "  </thead>\n",
       "  <tbody>\n",
       "    <tr>\n",
       "      <th>0</th>\n",
       "      <td>-xFj0vTLbRIC</td>\n",
       "      <td>b071c9c68228a2b1d00e6f53677e16da</td>\n",
       "      <td>225-222@5xc-jtz-hkf</td>\n",
       "      <td>2019-01-28</td>\n",
       "      <td>2018-11-13</td>\n",
       "    </tr>\n",
       "    <tr>\n",
       "      <th>1</th>\n",
       "      <td>HUX-y4oXl04C</td>\n",
       "      <td>8d3f63e1deed89d7ba1bf6a4eb101373</td>\n",
       "      <td>223-222@5xc-jxr-tgk</td>\n",
       "      <td>2018-05-29</td>\n",
       "      <td>2018-06-12</td>\n",
       "    </tr>\n",
       "  </tbody>\n",
       "</table>\n",
       "</div>"
      ],
      "text/plain": [
       "             id                         patron_id           library_id  \\\n",
       "0  -xFj0vTLbRIC  b071c9c68228a2b1d00e6f53677e16da  225-222@5xc-jtz-hkf   \n",
       "1  HUX-y4oXl04C  8d3f63e1deed89d7ba1bf6a4eb101373  223-222@5xc-jxr-tgk   \n",
       "\n",
       "  date_checkout date_returned  \n",
       "0    2019-01-28    2018-11-13  \n",
       "1    2018-05-29    2018-06-12  "
      ]
     },
     "execution_count": 103,
     "metadata": {},
     "output_type": "execute_result"
    }
   ],
   "source": [
    "checkouts_df.head(2)"
   ]
  },
  {
   "cell_type": "code",
   "execution_count": 104,
   "id": "759ed0e3-5b50-4d47-8b13-702e060948ee",
   "metadata": {},
   "outputs": [
    {
     "name": "stdout",
     "output_type": "stream",
     "text": [
      "<class 'pandas.core.frame.DataFrame'>\n",
      "RangeIndex: 2000 entries, 0 to 1999\n",
      "Data columns (total 5 columns):\n",
      " #   Column         Non-Null Count  Dtype \n",
      "---  ------         --------------  ----- \n",
      " 0   id             2000 non-null   object\n",
      " 1   patron_id      2000 non-null   object\n",
      " 2   library_id     2000 non-null   object\n",
      " 3   date_checkout  1935 non-null   object\n",
      " 4   date_returned  1942 non-null   object\n",
      "dtypes: object(5)\n",
      "memory usage: 78.3+ KB\n"
     ]
    }
   ],
   "source": [
    "checkouts_df.info()"
   ]
  },
  {
   "cell_type": "code",
   "execution_count": 105,
   "id": "e3ab44ac-8e9e-4742-b92b-c9a7c5577daa",
   "metadata": {},
   "outputs": [],
   "source": [
    "# checkouts_df['date_checkout'] = pd.to_datetime(checkouts_df['date_checkout'], format='mixed')\n",
    "# checkouts_df['date_returned'] = pd.to_datetime(checkouts_df['date_returned'], format='mixed')"
   ]
  },
  {
   "cell_type": "code",
   "execution_count": 106,
   "id": "94ce787c-bbfd-4606-81a8-d7673ae60c65",
   "metadata": {},
   "outputs": [],
   "source": [
    "# date_str"
   ]
  },
  {
   "cell_type": "markdown",
   "id": "21635b80-5d3b-4a33-a452-cd081e78707d",
   "metadata": {},
   "source": [
    "Since PDF with assigments has been created 2021-04-09, and dataset has not 2021 and 2017 in it, I will use those as cutoff dates."
   ]
  },
  {
   "cell_type": "code",
   "execution_count": 135,
   "id": "c348d025-9c47-470a-a3b3-41cba2a55712",
   "metadata": {},
   "outputs": [
    {
     "data": {
      "text/html": [
       "<div>\n",
       "<style scoped>\n",
       "    .dataframe tbody tr th:only-of-type {\n",
       "        vertical-align: middle;\n",
       "    }\n",
       "\n",
       "    .dataframe tbody tr th {\n",
       "        vertical-align: top;\n",
       "    }\n",
       "\n",
       "    .dataframe thead th {\n",
       "        text-align: right;\n",
       "    }\n",
       "</style>\n",
       "<table border=\"1\" class=\"dataframe\">\n",
       "  <thead>\n",
       "    <tr style=\"text-align: right;\">\n",
       "      <th></th>\n",
       "      <th>id</th>\n",
       "      <th>patron_id</th>\n",
       "      <th>library_id</th>\n",
       "      <th>date_checkout</th>\n",
       "      <th>date_returned</th>\n",
       "    </tr>\n",
       "  </thead>\n",
       "  <tbody>\n",
       "  </tbody>\n",
       "</table>\n",
       "</div>"
      ],
      "text/plain": [
       "Empty DataFrame\n",
       "Columns: [id, patron_id, library_id, date_checkout, date_returned]\n",
       "Index: []"
      ]
     },
     "execution_count": 135,
     "metadata": {},
     "output_type": "execute_result"
    }
   ],
   "source": [
    "checkouts_df[\"date_returned\"] = checkouts_df[\"date_returned\"].fillna('')\n",
    "checkouts_df[checkouts_df[\"date_returned\"].str.contains('2021')]\n"
   ]
  },
  {
   "cell_type": "code",
   "execution_count": 136,
   "id": "1c768351-e509-42f9-9248-7feaf0262d84",
   "metadata": {},
   "outputs": [
    {
     "data": {
      "text/html": [
       "<div>\n",
       "<style scoped>\n",
       "    .dataframe tbody tr th:only-of-type {\n",
       "        vertical-align: middle;\n",
       "    }\n",
       "\n",
       "    .dataframe tbody tr th {\n",
       "        vertical-align: top;\n",
       "    }\n",
       "\n",
       "    .dataframe thead th {\n",
       "        text-align: right;\n",
       "    }\n",
       "</style>\n",
       "<table border=\"1\" class=\"dataframe\">\n",
       "  <thead>\n",
       "    <tr style=\"text-align: right;\">\n",
       "      <th></th>\n",
       "      <th>id</th>\n",
       "      <th>patron_id</th>\n",
       "      <th>library_id</th>\n",
       "      <th>date_checkout</th>\n",
       "      <th>date_returned</th>\n",
       "    </tr>\n",
       "  </thead>\n",
       "  <tbody>\n",
       "  </tbody>\n",
       "</table>\n",
       "</div>"
      ],
      "text/plain": [
       "Empty DataFrame\n",
       "Columns: [id, patron_id, library_id, date_checkout, date_returned]\n",
       "Index: []"
      ]
     },
     "execution_count": 136,
     "metadata": {},
     "output_type": "execute_result"
    }
   ],
   "source": [
    "checkouts_df[\"date_checkout\"] = checkouts_df[\"date_checkout\"].fillna('')\n",
    "checkouts_df[checkouts_df[\"date_checkout\"].str.contains('2021')]"
   ]
  },
  {
   "cell_type": "code",
   "execution_count": 235,
   "id": "ddcb3122-c98c-4766-b1ff-e3c8ff6fa3f7",
   "metadata": {},
   "outputs": [],
   "source": [
    "checkouts_df = pd.read_csv('data/checkouts.csv')"
   ]
  },
  {
   "cell_type": "code",
   "execution_count": 236,
   "id": "a0270a15-8b99-47a3-9f93-ba3b199a13b5",
   "metadata": {},
   "outputs": [],
   "source": [
    "checkouts_df[\"date_checkout\"] = checkouts_df[\"date_checkout\"].fillna('2017-12-31') # this is bad data\n",
    "checkouts_df[\"date_returned\"] = checkouts_df[\"date_returned\"].fillna('2021-04-09') # not yet returned"
   ]
  },
  {
   "cell_type": "markdown",
   "id": "099b37de-0da9-4f4e-9b25-f28661d9fe6a",
   "metadata": {},
   "source": [
    "We have many different date formats, dates in the past, dates in the future. This would prompt me to get in touch with aplicaiton developers to implement data verification on data entry form. This is not only affecting our analisys, but work of the libraries.  "
   ]
  },
  {
   "cell_type": "code",
   "execution_count": 237,
   "id": "01ca2b27-104c-4f40-a2eb-2176534855ea",
   "metadata": {},
   "outputs": [],
   "source": [
    "date_formats = [\"%Y-%m-%d\", \"%Y/%m/%d\" , \"%Y%m%d\", \"%Y|%m|%d\", \"%Y %m %d\", \"%Y\", \"%Y-%m\"]\n",
    "\n",
    "# Function to check if a date matches any of the specified formats\n",
    "def is_valid_date(date_str, formats):\n",
    "    date_str = date_str.replace('%', '')\n",
    "    date_str = date_str.strip()\n",
    "\n",
    "    for fmt in formats:\n",
    "        try:\n",
    "            # Try to parse the date with the current format\n",
    "            return datetime.strptime(date_str, fmt)\n",
    "        except Exception as e:\n",
    "\n",
    "            continue\n",
    "    print(date_str)\n",
    "    return None  # Return None if no format matches\n",
    "\n",
    "\n",
    "# Apply the function to check validity of each date\n",
    "checkouts_df[\"date_checkout\"] = checkouts_df[\"date_checkout\"].apply(lambda x: is_valid_date(x, date_formats))\n",
    "checkouts_df[\"date_returned\"] = checkouts_df[\"date_returned\"].apply(lambda x: is_valid_date(x, date_formats))"
   ]
  },
  {
   "cell_type": "code",
   "execution_count": null,
   "id": "f970fc24-3763-492e-a137-2e1049a66973",
   "metadata": {},
   "outputs": [],
   "source": []
  },
  {
   "cell_type": "code",
   "execution_count": 238,
   "id": "6afec950-b02d-43a1-81eb-14fc741ff1dd",
   "metadata": {},
   "outputs": [],
   "source": [
    "checkouts_df['length'] = checkouts_df.date_returned - checkouts_df.date_checkout\n",
    "checkouts_df['length'] = checkouts_df.length.dt.days"
   ]
  },
  {
   "cell_type": "code",
   "execution_count": null,
   "id": "6fceeb50-bee2-4990-94de-44024488fd2a",
   "metadata": {},
   "outputs": [],
   "source": []
  },
  {
   "cell_type": "code",
   "execution_count": 239,
   "id": "3e5b2698-1d86-4109-b1f7-a7aaabc148b8",
   "metadata": {},
   "outputs": [
    {
     "data": {
      "text/plain": [
       "(155, 6)"
      ]
     },
     "execution_count": 239,
     "metadata": {},
     "output_type": "execute_result"
    }
   ],
   "source": [
    "# date_checkout before 2018-01-01 are all 1800 and invalid, including 2017-12-31 which is NA\n",
    "checkouts_df[checkouts_df.date_checkout<='2017-12-31'].shape "
   ]
  },
  {
   "cell_type": "code",
   "execution_count": 240,
   "id": "bdb0f09e-8d1b-478f-aa0c-e62fb7953d87",
   "metadata": {},
   "outputs": [],
   "source": [
    "checkouts_df = checkouts_df[checkouts_df.date_checkout>'2017-12-31']"
   ]
  },
  {
   "cell_type": "markdown",
   "id": "2cc6e82c-abd0-4396-8880-e919fdda8049",
   "metadata": {},
   "source": [
    "loans retruned after 2021-04-09 are illegal dates, not contributing to our analisys"
   ]
  },
  {
   "cell_type": "code",
   "execution_count": 241,
   "id": "1dbbeb1a-cb59-4184-9786-7348825d48c8",
   "metadata": {},
   "outputs": [
    {
     "data": {
      "text/plain": [
       "(95, 6)"
      ]
     },
     "execution_count": 241,
     "metadata": {},
     "output_type": "execute_result"
    }
   ],
   "source": [
    "checkouts_df[checkouts_df.date_returned>'2021-04-09'].shape"
   ]
  },
  {
   "cell_type": "code",
   "execution_count": 242,
   "id": "ada8858c-24aa-4a05-b976-c53773130875",
   "metadata": {},
   "outputs": [
    {
     "data": {
      "text/plain": [
       "(58, 6)"
      ]
     },
     "execution_count": 242,
     "metadata": {},
     "output_type": "execute_result"
    }
   ],
   "source": [
    "checkouts_df[checkouts_df.date_returned=='2021-04-09'].shape"
   ]
  },
  {
   "cell_type": "code",
   "execution_count": 243,
   "id": "45d664ce-50e1-4646-bdf8-4d205b0c3e20",
   "metadata": {},
   "outputs": [],
   "source": [
    "checkouts_df = checkouts_df[checkouts_df.date_returned<='2021-04-09']"
   ]
  },
  {
   "cell_type": "code",
   "execution_count": 244,
   "id": "a7437216-bc4a-49f2-9885-d394b7251745",
   "metadata": {},
   "outputs": [
    {
     "data": {
      "text/plain": [
       "(241, 6)"
      ]
     },
     "execution_count": 244,
     "metadata": {},
     "output_type": "execute_result"
    }
   ],
   "source": [
    "checkouts_df[checkouts_df.length<0].shape"
   ]
  },
  {
   "cell_type": "code",
   "execution_count": 245,
   "id": "389f5461-6e0e-4b05-9d4b-137167d52443",
   "metadata": {},
   "outputs": [],
   "source": [
    "checkouts_df = checkouts_df[~checkouts_df.length<0]"
   ]
  },
  {
   "cell_type": "code",
   "execution_count": 246,
   "id": "bbfe8c30-64b2-4ee2-ae9e-912400b565bc",
   "metadata": {},
   "outputs": [
    {
     "data": {
      "text/plain": [
       "(1319, 6)"
      ]
     },
     "execution_count": 246,
     "metadata": {},
     "output_type": "execute_result"
    }
   ],
   "source": [
    "checkouts_df[checkouts_df.length<=28].shape"
   ]
  },
  {
   "cell_type": "code",
   "execution_count": 247,
   "id": "f19587d3-d836-4ac9-a395-eb17371ff79e",
   "metadata": {},
   "outputs": [
    {
     "data": {
      "text/plain": [
       "<Axes: >"
      ]
     },
     "execution_count": 247,
     "metadata": {},
     "output_type": "execute_result"
    },
    {
     "data": {
      "image/png": "[encoded data removed]",
      "text/plain": [
       "<Figure size 640x480 with 1 Axes>"
      ]
     },
     "metadata": {},
     "output_type": "display_data"
    }
   ],
   "source": [
    "checkouts_df[checkouts_df.length<=28].length.hist()"
   ]
  },
  {
   "cell_type": "code",
   "execution_count": null,
   "id": "256e2442-18d5-4f26-a4d0-cf5df4978fbf",
   "metadata": {},
   "outputs": [],
   "source": []
  },
  {
   "cell_type": "markdown",
   "id": "ebe8b69a-04a6-4a3d-828e-1e171c451859",
   "metadata": {},
   "source": [
    "Data looks sythetic, I would expect  Poisson Probability Distribution here, while this is more uniform, let's see further. Maybe 28 day cutoff is affecting distribution."
   ]
  },
  {
   "cell_type": "code",
   "execution_count": 248,
   "id": "d775b73c-4db4-476b-8229-f17fc639e175",
   "metadata": {},
   "outputs": [
    {
     "data": {
      "text/plain": [
       "(190, 6)"
      ]
     },
     "execution_count": 248,
     "metadata": {},
     "output_type": "execute_result"
    }
   ],
   "source": [
    "checkouts_df[checkouts_df.length>28].shape"
   ]
  },
  {
   "cell_type": "code",
   "execution_count": 249,
   "id": "ecc57052-4068-47e0-ba9c-5aa270c8d2a3",
   "metadata": {},
   "outputs": [
    {
     "data": {
      "text/plain": [
       "<Axes: >"
      ]
     },
     "execution_count": 249,
     "metadata": {},
     "output_type": "execute_result"
    },
    {
     "data": {
      "image/png": "[encoded data removed]",
      "text/plain": [
       "<Figure size 640x480 with 1 Axes>"
      ]
     },
     "metadata": {},
     "output_type": "display_data"
    }
   ],
   "source": [
    "checkouts_df[checkouts_df.length>28].length.hist()"
   ]
  },
  {
   "cell_type": "code",
   "execution_count": 250,
   "id": "d39e0a1e-571d-43ff-ae36-e86bb34870e1",
   "metadata": {},
   "outputs": [
    {
     "data": {
      "text/html": [
       "\n",
       "        <iframe\n",
       "            width=\"100%\"\n",
       "            height=\"475\"\n",
       "            src=\"http://hlu:40000/dtale/iframe/7\"\n",
       "            frameborder=\"0\"\n",
       "            allowfullscreen\n",
       "            \n",
       "        ></iframe>\n",
       "        "
      ],
      "text/plain": [
       "<IPython.lib.display.IFrame at 0x7fc84fdd65d0>"
      ]
     },
     "metadata": {},
     "output_type": "display_data"
    },
    {
     "data": {
      "text/plain": []
     },
     "execution_count": 250,
     "metadata": {},
     "output_type": "execute_result"
    }
   ],
   "source": [
    "dtale.show(checkouts_df.sort_values(by='date_checkout'))"
   ]
  },
  {
   "cell_type": "code",
   "execution_count": 251,
   "id": "6b73a9dc-062d-4bd4-8884-45c70a548d0d",
   "metadata": {},
   "outputs": [],
   "source": [
    "checkouts_df.to_csv('checkouts_df_clean.csv')"
   ]
  },
  {
   "cell_type": "code",
   "execution_count": 252,
   "id": "9875575f-7387-49eb-b834-b2793a49d5e9",
   "metadata": {},
   "outputs": [
    {
     "data": {
      "text/html": [
       "<div>\n",
       "<style scoped>\n",
       "    .dataframe tbody tr th:only-of-type {\n",
       "        vertical-align: middle;\n",
       "    }\n",
       "\n",
       "    .dataframe tbody tr th {\n",
       "        vertical-align: top;\n",
       "    }\n",
       "\n",
       "    .dataframe thead th {\n",
       "        text-align: right;\n",
       "    }\n",
       "</style>\n",
       "<table border=\"1\" class=\"dataframe\">\n",
       "  <thead>\n",
       "    <tr style=\"text-align: right;\">\n",
       "      <th></th>\n",
       "      <th>id</th>\n",
       "      <th>patron_id</th>\n",
       "      <th>library_id</th>\n",
       "      <th>date_checkout</th>\n",
       "      <th>date_returned</th>\n",
       "      <th>length</th>\n",
       "    </tr>\n",
       "  </thead>\n",
       "  <tbody>\n",
       "    <tr>\n",
       "      <th>1</th>\n",
       "      <td>HUX-y4oXl04C</td>\n",
       "      <td>8d3f63e1deed89d7ba1bf6a4eb101373</td>\n",
       "      <td>223-222@5xc-jxr-tgk</td>\n",
       "      <td>2018-05-29</td>\n",
       "      <td>2018-06-12</td>\n",
       "      <td>14</td>\n",
       "    </tr>\n",
       "    <tr>\n",
       "      <th>2</th>\n",
       "      <td>TQpFnkku2poC</td>\n",
       "      <td>4ae202f8de762591734705e0079d76df</td>\n",
       "      <td>228-222@5xc-jtz-hwk</td>\n",
       "      <td>2018-11-23</td>\n",
       "      <td>2019-01-24</td>\n",
       "      <td>62</td>\n",
       "    </tr>\n",
       "    <tr>\n",
       "      <th>3</th>\n",
       "      <td>OQ6sDwAAQBAJ</td>\n",
       "      <td>f9372de3c8ea501601aa3fb59ec0f524</td>\n",
       "      <td>23v-222@5xc-jv7-v4v</td>\n",
       "      <td>2018-01-15</td>\n",
       "      <td>2018-04-25</td>\n",
       "      <td>100</td>\n",
       "    </tr>\n",
       "    <tr>\n",
       "      <th>6</th>\n",
       "      <td>CW-7tHAaVR0C</td>\n",
       "      <td>dd9f34e9d65126a2b02003d8ac60aaa4</td>\n",
       "      <td>22c-222@5xc-jwj-pvz</td>\n",
       "      <td>2018-01-10</td>\n",
       "      <td>2018-02-04</td>\n",
       "      <td>25</td>\n",
       "    </tr>\n",
       "    <tr>\n",
       "      <th>8</th>\n",
       "      <td>t1e3BWziAc8C</td>\n",
       "      <td>3b85b2c7b424618f533329018e9a11d5</td>\n",
       "      <td>222-222@5xc-jv5-nt9</td>\n",
       "      <td>2018-06-23</td>\n",
       "      <td>2018-07-14</td>\n",
       "      <td>21</td>\n",
       "    </tr>\n",
       "    <tr>\n",
       "      <th>...</th>\n",
       "      <td>...</td>\n",
       "      <td>...</td>\n",
       "      <td>...</td>\n",
       "      <td>...</td>\n",
       "      <td>...</td>\n",
       "      <td>...</td>\n",
       "    </tr>\n",
       "    <tr>\n",
       "      <th>1995</th>\n",
       "      <td>rNbuDwAAQBAJ</td>\n",
       "      <td>91871955f3641857832766ac3f5a0b95</td>\n",
       "      <td>222-222@5xc-jv5-nt9</td>\n",
       "      <td>2018-07-19</td>\n",
       "      <td>2018-08-12</td>\n",
       "      <td>24</td>\n",
       "    </tr>\n",
       "    <tr>\n",
       "      <th>1996</th>\n",
       "      <td>rcrCAgAAQBAJ</td>\n",
       "      <td>ad08956eb20efb746af650f906d439cf</td>\n",
       "      <td>22d-222@5xc-kcy-8sq</td>\n",
       "      <td>2018-03-07</td>\n",
       "      <td>2018-03-13</td>\n",
       "      <td>6</td>\n",
       "    </tr>\n",
       "    <tr>\n",
       "      <th>1997</th>\n",
       "      <td>F44fAQAAMAAJ</td>\n",
       "      <td>026262cc3454149303074c4113b5f118</td>\n",
       "      <td>226-222@5xc-jxj-7yv</td>\n",
       "      <td>2018-06-17</td>\n",
       "      <td>2018-06-27</td>\n",
       "      <td>10</td>\n",
       "    </tr>\n",
       "    <tr>\n",
       "      <th>1998</th>\n",
       "      <td>Ci1HAQAAMAAJ</td>\n",
       "      <td>08b29865e58e9b2aabff9684a703acf0</td>\n",
       "      <td>223-222@5xc-jxr-tgk</td>\n",
       "      <td>2018-12-10</td>\n",
       "      <td>2018-12-29</td>\n",
       "      <td>19</td>\n",
       "    </tr>\n",
       "    <tr>\n",
       "      <th>1999</th>\n",
       "      <td>TUAyAQAAMAAJ</td>\n",
       "      <td>ac0bb7b22b4df999a0b1216ded727f8e</td>\n",
       "      <td>228-222@5xc-jtz-hwk</td>\n",
       "      <td>2018-10-10</td>\n",
       "      <td>2018-11-01</td>\n",
       "      <td>22</td>\n",
       "    </tr>\n",
       "  </tbody>\n",
       "</table>\n",
       "<p>1509 rows × 6 columns</p>\n",
       "</div>"
      ],
      "text/plain": [
       "                id                         patron_id           library_id  \\\n",
       "1     HUX-y4oXl04C  8d3f63e1deed89d7ba1bf6a4eb101373  223-222@5xc-jxr-tgk   \n",
       "2     TQpFnkku2poC  4ae202f8de762591734705e0079d76df  228-222@5xc-jtz-hwk   \n",
       "3     OQ6sDwAAQBAJ  f9372de3c8ea501601aa3fb59ec0f524  23v-222@5xc-jv7-v4v   \n",
       "6     CW-7tHAaVR0C  dd9f34e9d65126a2b02003d8ac60aaa4  22c-222@5xc-jwj-pvz   \n",
       "8     t1e3BWziAc8C  3b85b2c7b424618f533329018e9a11d5  222-222@5xc-jv5-nt9   \n",
       "...            ...                               ...                  ...   \n",
       "1995  rNbuDwAAQBAJ  91871955f3641857832766ac3f5a0b95  222-222@5xc-jv5-nt9   \n",
       "1996  rcrCAgAAQBAJ  ad08956eb20efb746af650f906d439cf  22d-222@5xc-kcy-8sq   \n",
       "1997  F44fAQAAMAAJ  026262cc3454149303074c4113b5f118  226-222@5xc-jxj-7yv   \n",
       "1998  Ci1HAQAAMAAJ  08b29865e58e9b2aabff9684a703acf0  223-222@5xc-jxr-tgk   \n",
       "1999  TUAyAQAAMAAJ  ac0bb7b22b4df999a0b1216ded727f8e  228-222@5xc-jtz-hwk   \n",
       "\n",
       "     date_checkout date_returned  length  \n",
       "1       2018-05-29    2018-06-12      14  \n",
       "2       2018-11-23    2019-01-24      62  \n",
       "3       2018-01-15    2018-04-25     100  \n",
       "6       2018-01-10    2018-02-04      25  \n",
       "8       2018-06-23    2018-07-14      21  \n",
       "...            ...           ...     ...  \n",
       "1995    2018-07-19    2018-08-12      24  \n",
       "1996    2018-03-07    2018-03-13       6  \n",
       "1997    2018-06-17    2018-06-27      10  \n",
       "1998    2018-12-10    2018-12-29      19  \n",
       "1999    2018-10-10    2018-11-01      22  \n",
       "\n",
       "[1509 rows x 6 columns]"
      ]
     },
     "execution_count": 252,
     "metadata": {},
     "output_type": "execute_result"
    }
   ],
   "source": [
    "checkouts_df"
   ]
  },
  {
   "cell_type": "markdown",
   "id": "300d23ed-6c36-48a3-a97c-4f11bbe63e68",
   "metadata": {},
   "source": [
    "# Books"
   ]
  },
  {
   "cell_type": "code",
   "execution_count": null,
   "id": "effcbac9-8f82-4ba5-af7b-f991df48ff5a",
   "metadata": {},
   "outputs": [],
   "source": []
  },
  {
   "cell_type": "code",
   "execution_count": 335,
   "id": "eb5e7aa3-a4b0-4b7a-bc3c-b2d159fa2abf",
   "metadata": {},
   "outputs": [],
   "source": [
    "books_df = pd.read_csv('data/books.csv').add_prefix('book_')"
   ]
  },
  {
   "cell_type": "code",
   "execution_count": 336,
   "id": "ed4091d9-b41e-4b44-ac0f-a8382ec83887",
   "metadata": {},
   "outputs": [
    {
     "data": {
      "text/plain": [
       "Index(['book_id', 'book_title', 'book_authors', 'book_publisher',\n",
       "       'book_publishedDate', 'book_categories', 'book_price', 'book_pages'],\n",
       "      dtype='object')"
      ]
     },
     "execution_count": 336,
     "metadata": {},
     "output_type": "execute_result"
    }
   ],
   "source": [
    "books_df.columns"
   ]
  },
  {
   "cell_type": "code",
   "execution_count": 337,
   "id": "a4135877-e628-4a26-ab25-866b220f11c7",
   "metadata": {},
   "outputs": [],
   "source": [
    "def clean_price(price):\n",
    "    # Keep only valid float characters (digits, '.', '-', optional ',' for formatting)\n",
    "    cleaned = re.sub(r\"[^\\d\\.-]\", \"\", price)\n",
    "    # Ensure valid float format by checking if it can be converted\n",
    "    try:\n",
    "        return float(cleaned)\n",
    "    except ValueError:\n",
    "        return None  # Return None for invalid prices\\\n",
    "\n",
    "\n",
    "def clean_page_count(page_count):\n",
    "    # Keep only digits\n",
    "    cleaned = re.sub(r\"[^\\d]\", \"\", page_count)\n",
    "    # Ensure valid integer format by checking if it's non-empty\n",
    "    try:\n",
    "        return int(cleaned) if cleaned else None\n",
    "    except ValueError:\n",
    "        return None  # Return None for invalid page counts"
   ]
  },
  {
   "cell_type": "code",
   "execution_count": 338,
   "id": "8110a5f5-b8e9-4356-9eb0-c3416065eba7",
   "metadata": {},
   "outputs": [],
   "source": [
    "books_df['book_authors'] = books_df['book_authors'].fillna(\"['NO_AUTHOR']\")\n",
    "books_df['book_publisher'] = books_df['book_publisher'].fillna(\"['NO_PUBLISHER']\")\n",
    "books_df['book_publishedDate'] = books_df['book_publishedDate'].fillna('2021-04-09')\n",
    "\n",
    "date_formats = [\"%Y-%m-%d\", \"%Y\", \"%Y-%m\"] #\"%Y/%m/%d\" , \"%Y%m%d\", \"%Y|%m|%d\", \"%Y %m %d\", \n",
    "books_df['book_publishedDate'] = books_df['book_publishedDate'].apply(lambda x: is_valid_date(x, date_formats))\n",
    "books_df['book_published_year'] = books_df.book_publishedDate.dt.year\n",
    "\n",
    "books_df['book_categories'] = books_df['book_categories'].fillna(\"['NO_CATEGORY']\")\n",
    "\n",
    "books_df[\"book_price\"] = books_df[\"book_price\"].fillna(\"0.0\")\n",
    "books_df[\"book_price\"] = books_df.book_price.apply(lambda x: clean_price(x))\n",
    "\n",
    "books_df[\"book_pages\"] = books_df.book_pages.apply(lambda x: clean_page_count(x))"
   ]
  },
  {
   "cell_type": "code",
   "execution_count": null,
   "id": "d300871a-fc3e-480f-ac02-cbe17a7d2cc1",
   "metadata": {},
   "outputs": [],
   "source": []
  },
  {
   "cell_type": "code",
   "execution_count": 334,
   "id": "993268f1-71ec-4d0a-89ce-4d3eeb9fa45a",
   "metadata": {},
   "outputs": [],
   "source": []
  },
  {
   "cell_type": "markdown",
   "id": "a08ad75e-6699-4265-bc2d-1918b7c6b79b",
   "metadata": {},
   "source": [
    "# Customers"
   ]
  },
  {
   "cell_type": "code",
   "execution_count": 340,
   "id": "e2c6dc33-ecb0-4a2a-9493-14e5fa1482fd",
   "metadata": {},
   "outputs": [],
   "source": [
    "customers_df = pd.read_csv('data/customers.csv').add_prefix('customer_')\n",
    "\n",
    "libraries_df = pd.read_csv('data/libraries.csv').add_prefix('library_')"
   ]
  },
  {
   "cell_type": "code",
   "execution_count": 341,
   "id": "a2008303-fe4c-41ea-8df9-66d8cce2e14f",
   "metadata": {},
   "outputs": [
    {
     "data": {
      "text/plain": [
       "Index(['customer_id', 'customer_name', 'customer_street_address',\n",
       "       'customer_city', 'customer_state', 'customer_zipcode',\n",
       "       'customer_birth_date', 'customer_gender', 'customer_education',\n",
       "       'customer_occupation'],\n",
       "      dtype='object')"
      ]
     },
     "execution_count": 341,
     "metadata": {},
     "output_type": "execute_result"
    }
   ],
   "source": [
    "customers_df.columns"
   ]
  },
  {
   "cell_type": "code",
   "execution_count": 348,
   "id": "7827e9fc-1e49-4641-833b-36004260e8eb",
   "metadata": {},
   "outputs": [
    {
     "data": {
      "text/html": [
       "<div>\n",
       "<style scoped>\n",
       "    .dataframe tbody tr th:only-of-type {\n",
       "        vertical-align: middle;\n",
       "    }\n",
       "\n",
       "    .dataframe tbody tr th {\n",
       "        vertical-align: top;\n",
       "    }\n",
       "\n",
       "    .dataframe thead th {\n",
       "        text-align: right;\n",
       "    }\n",
       "</style>\n",
       "<table border=\"1\" class=\"dataframe\">\n",
       "  <thead>\n",
       "    <tr style=\"text-align: right;\">\n",
       "      <th></th>\n",
       "      <th>customer_city</th>\n",
       "      <th>customer_state</th>\n",
       "    </tr>\n",
       "  </thead>\n",
       "  <tbody>\n",
       "    <tr>\n",
       "      <th>4</th>\n",
       "      <td>NaN</td>\n",
       "      <td>Oregon</td>\n",
       "    </tr>\n",
       "    <tr>\n",
       "      <th>31</th>\n",
       "      <td>NaN</td>\n",
       "      <td>Oregon</td>\n",
       "    </tr>\n",
       "    <tr>\n",
       "      <th>203</th>\n",
       "      <td>NaN</td>\n",
       "      <td>NaN</td>\n",
       "    </tr>\n",
       "    <tr>\n",
       "      <th>241</th>\n",
       "      <td>NaN</td>\n",
       "      <td>OREGON</td>\n",
       "    </tr>\n",
       "    <tr>\n",
       "      <th>557</th>\n",
       "      <td>NaN</td>\n",
       "      <td>Washington</td>\n",
       "    </tr>\n",
       "    <tr>\n",
       "      <th>558</th>\n",
       "      <td>NaN</td>\n",
       "      <td>oregon</td>\n",
       "    </tr>\n",
       "    <tr>\n",
       "      <th>567</th>\n",
       "      <td>NaN</td>\n",
       "      <td>Oregon</td>\n",
       "    </tr>\n",
       "  </tbody>\n",
       "</table>\n",
       "</div>"
      ],
      "text/plain": [
       "    customer_city customer_state\n",
       "4             NaN         Oregon\n",
       "31            NaN         Oregon\n",
       "203           NaN            NaN\n",
       "241           NaN         OREGON\n",
       "557           NaN     Washington\n",
       "558           NaN         oregon\n",
       "567           NaN        Oregon "
      ]
     },
     "execution_count": 348,
     "metadata": {},
     "output_type": "execute_result"
    }
   ],
   "source": [
    "customers_df[customers_df.customer_city.isna()][['customer_city', 'customer_state']].drop_duplicates()"
   ]
  },
  {
   "cell_type": "code",
   "execution_count": 350,
   "id": "db682154-039d-4c05-a3e8-889c85f63fe1",
   "metadata": {},
   "outputs": [
    {
     "data": {
      "text/plain": [
       "array(['Portland ', ' Portland', 'Portland', nan, 'Happy Valley',\n",
       "       'Lake Oswego', 'Vancouver', 'Beaverton', 'PORTLAND', 'Gresham',\n",
       "       'West Linn', 'Vancouver ', 'Tualatin', 'Oregon City', 'Damascus',\n",
       "       'portland', 'Clackamas', ' Vancouver', 'Hillsboro', 'Lake  Oswego',\n",
       "       'Lake OSWEGO', 'Happy  Valley', 'Lake   Oswego', 'VANCOUVER',\n",
       "       'vancouver', 'Gladstone', 'BEAVERTON', 'HAPPY Valley', 'CLACKAMAS',\n",
       "       'LAKE OSWEGO', 'Happy  Valley ', ' Beaverton', 'Happy Valley '],\n",
       "      dtype=object)"
      ]
     },
     "execution_count": 350,
     "metadata": {},
     "output_type": "execute_result"
    },
    {
     "name": "stderr",
     "output_type": "stream",
     "text": [
      "2025-01-02 17:10:12,966 - INFO     - Executing shutdown due to inactivity...\n",
      "2025-01-02 17:10:12,975 - INFO     - Executing shutdown...\n",
      "2025-01-02 17:10:12,976 - INFO     - Not running with the Werkzeug Server, exiting by searching gc for BaseWSGIServer\n"
     ]
    }
   ],
   "source": [
    "customers_df.customer_city.unique()"
   ]
  },
  {
   "cell_type": "code",
   "execution_count": 349,
   "id": "9c833f56-264c-479c-9d5c-e15c319923cf",
   "metadata": {},
   "outputs": [
    {
     "data": {
      "text/plain": [
       "array(['Oregon', 'OREGON', 'Washington', nan, 'Oregon ', ' Oregon',\n",
       "       ' Washington', 'oregon', 'Washington ', 'washington'], dtype=object)"
      ]
     },
     "execution_count": 349,
     "metadata": {},
     "output_type": "execute_result"
    }
   ],
   "source": [
    "customers_df.customer_state.unique()"
   ]
  },
  {
   "cell_type": "code",
   "execution_count": 347,
   "id": "0d0e270b-32f5-4a46-90a1-b5e75d8384df",
   "metadata": {},
   "outputs": [
    {
     "data": {
      "text/html": [
       "<div>\n",
       "<style scoped>\n",
       "    .dataframe tbody tr th:only-of-type {\n",
       "        vertical-align: middle;\n",
       "    }\n",
       "\n",
       "    .dataframe tbody tr th {\n",
       "        vertical-align: top;\n",
       "    }\n",
       "\n",
       "    .dataframe thead th {\n",
       "        text-align: right;\n",
       "    }\n",
       "</style>\n",
       "<table border=\"1\" class=\"dataframe\">\n",
       "  <thead>\n",
       "    <tr style=\"text-align: right;\">\n",
       "      <th></th>\n",
       "      <th>customer_city</th>\n",
       "      <th>customer_state</th>\n",
       "    </tr>\n",
       "  </thead>\n",
       "  <tbody>\n",
       "    <tr>\n",
       "      <th>0</th>\n",
       "      <td>Portland</td>\n",
       "      <td>Oregon</td>\n",
       "    </tr>\n",
       "    <tr>\n",
       "      <th>1</th>\n",
       "      <td>Portland</td>\n",
       "      <td>Oregon</td>\n",
       "    </tr>\n",
       "    <tr>\n",
       "      <th>2</th>\n",
       "      <td>Portland</td>\n",
       "      <td>Oregon</td>\n",
       "    </tr>\n",
       "    <tr>\n",
       "      <th>4</th>\n",
       "      <td>NaN</td>\n",
       "      <td>Oregon</td>\n",
       "    </tr>\n",
       "    <tr>\n",
       "      <th>7</th>\n",
       "      <td>Happy Valley</td>\n",
       "      <td>Oregon</td>\n",
       "    </tr>\n",
       "    <tr>\n",
       "      <th>...</th>\n",
       "      <td>...</td>\n",
       "      <td>...</td>\n",
       "    </tr>\n",
       "    <tr>\n",
       "      <th>1802</th>\n",
       "      <td>Happy  Valley</td>\n",
       "      <td>Oregon</td>\n",
       "    </tr>\n",
       "    <tr>\n",
       "      <th>1805</th>\n",
       "      <td>Portland</td>\n",
       "      <td>oregon</td>\n",
       "    </tr>\n",
       "    <tr>\n",
       "      <th>1936</th>\n",
       "      <td>Beaverton</td>\n",
       "      <td>Oregon</td>\n",
       "    </tr>\n",
       "    <tr>\n",
       "      <th>1956</th>\n",
       "      <td>Happy Valley</td>\n",
       "      <td>Oregon</td>\n",
       "    </tr>\n",
       "    <tr>\n",
       "      <th>1996</th>\n",
       "      <td>Vancouver</td>\n",
       "      <td>washington</td>\n",
       "    </tr>\n",
       "  </tbody>\n",
       "</table>\n",
       "<p>70 rows × 2 columns</p>\n",
       "</div>"
      ],
      "text/plain": [
       "       customer_city customer_state\n",
       "0          Portland          Oregon\n",
       "1           Portland         Oregon\n",
       "2           Portland         Oregon\n",
       "4                NaN         Oregon\n",
       "7       Happy Valley         Oregon\n",
       "...              ...            ...\n",
       "1802  Happy  Valley          Oregon\n",
       "1805        Portland         oregon\n",
       "1936       Beaverton         Oregon\n",
       "1956   Happy Valley          Oregon\n",
       "1996       Vancouver     washington\n",
       "\n",
       "[70 rows x 2 columns]"
      ]
     },
     "execution_count": 347,
     "metadata": {},
     "output_type": "execute_result"
    }
   ],
   "source": [
    "customers_df[['customer_city', 'customer_state']].drop_duplicates()"
   ]
  },
  {
   "cell_type": "code",
   "execution_count": 344,
   "id": "62cb4d4a-5443-4040-a748-df489aa9c9c1",
   "metadata": {},
   "outputs": [
    {
     "data": {
      "text/html": [
       "\n",
       "        <iframe\n",
       "            width=\"100%\"\n",
       "            height=\"475\"\n",
       "            src=\"http://hlu:40000/dtale/iframe/21\"\n",
       "            frameborder=\"0\"\n",
       "            allowfullscreen\n",
       "            \n",
       "        ></iframe>\n",
       "        "
      ],
      "text/plain": [
       "<IPython.lib.display.IFrame at 0x7fc84fc77b50>"
      ]
     },
     "metadata": {},
     "output_type": "display_data"
    },
    {
     "data": {
      "text/plain": []
     },
     "execution_count": 344,
     "metadata": {},
     "output_type": "execute_result"
    }
   ],
   "source": [
    "dtale.show(customers_df[['customer_city']])"
   ]
  },
  {
   "cell_type": "code",
   "execution_count": 255,
   "id": "5f454b84-0a9b-4164-b6cf-53acc1feef00",
   "metadata": {},
   "outputs": [
    {
     "data": {
      "text/html": [
       "<div>\n",
       "<style scoped>\n",
       "    .dataframe tbody tr th:only-of-type {\n",
       "        vertical-align: middle;\n",
       "    }\n",
       "\n",
       "    .dataframe tbody tr th {\n",
       "        vertical-align: top;\n",
       "    }\n",
       "\n",
       "    .dataframe thead th {\n",
       "        text-align: right;\n",
       "    }\n",
       "</style>\n",
       "<table border=\"1\" class=\"dataframe\">\n",
       "  <thead>\n",
       "    <tr style=\"text-align: right;\">\n",
       "      <th></th>\n",
       "      <th>id</th>\n",
       "      <th>name</th>\n",
       "      <th>street_address</th>\n",
       "      <th>city</th>\n",
       "      <th>state</th>\n",
       "      <th>zipcode</th>\n",
       "      <th>birth_date</th>\n",
       "      <th>gender</th>\n",
       "      <th>education</th>\n",
       "      <th>occupation</th>\n",
       "    </tr>\n",
       "  </thead>\n",
       "  <tbody>\n",
       "    <tr>\n",
       "      <th>0</th>\n",
       "      <td>df83ec2d0d409395c0d8c2690cfa8b67</td>\n",
       "      <td>Cynthia Barnfield</td>\n",
       "      <td>44 NE Meikle Pl</td>\n",
       "      <td>Portland</td>\n",
       "      <td>Oregon</td>\n",
       "      <td>97213.0</td>\n",
       "      <td>2009-09-10</td>\n",
       "      <td>female</td>\n",
       "      <td>High School</td>\n",
       "      <td>NaN</td>\n",
       "    </tr>\n",
       "    <tr>\n",
       "      <th>1</th>\n",
       "      <td>6aec7ab2ea0d67161dac39e5dcabd857</td>\n",
       "      <td>Elizabeth Smith</td>\n",
       "      <td>7511 SE Harrison St</td>\n",
       "      <td>Portland</td>\n",
       "      <td>Oregon</td>\n",
       "      <td>97215.0</td>\n",
       "      <td>1956-12-15</td>\n",
       "      <td>female</td>\n",
       "      <td>College</td>\n",
       "      <td>Blue Collar</td>\n",
       "    </tr>\n",
       "    <tr>\n",
       "      <th>2</th>\n",
       "      <td>0c54340672f510fdb9d2f30595c1ab53</td>\n",
       "      <td>Richard Pabla</td>\n",
       "      <td>1404 SE Pine St</td>\n",
       "      <td>Portland</td>\n",
       "      <td>Oregon</td>\n",
       "      <td>97214.0</td>\n",
       "      <td>1960-12-18</td>\n",
       "      <td>male</td>\n",
       "      <td>College</td>\n",
       "      <td>Education &amp; Health</td>\n",
       "    </tr>\n",
       "  </tbody>\n",
       "</table>\n",
       "</div>"
      ],
      "text/plain": [
       "                                 id               name       street_address  \\\n",
       "0  df83ec2d0d409395c0d8c2690cfa8b67  Cynthia Barnfield      44 NE Meikle Pl   \n",
       "1  6aec7ab2ea0d67161dac39e5dcabd857    Elizabeth Smith  7511 SE Harrison St   \n",
       "2  0c54340672f510fdb9d2f30595c1ab53      Richard Pabla      1404 SE Pine St   \n",
       "\n",
       "        city   state  zipcode  birth_date   gender    education  \\\n",
       "0  Portland   Oregon  97213.0  2009-09-10   female  High School   \n",
       "1   Portland  Oregon  97215.0  1956-12-15   female      College   \n",
       "2   Portland  Oregon  97214.0  1960-12-18     male      College   \n",
       "\n",
       "           occupation  \n",
       "0                 NaN  \n",
       "1         Blue Collar  \n",
       "2  Education & Health  "
      ]
     },
     "execution_count": 255,
     "metadata": {},
     "output_type": "execute_result"
    }
   ],
   "source": [
    "customers_df.head(3)"
   ]
  },
  {
   "cell_type": "code",
   "execution_count": 256,
   "id": "4a5763a0-af70-4c8d-91e9-651c0aa18c93",
   "metadata": {},
   "outputs": [
    {
     "data": {
      "text/html": [
       "<div>\n",
       "<style scoped>\n",
       "    .dataframe tbody tr th:only-of-type {\n",
       "        vertical-align: middle;\n",
       "    }\n",
       "\n",
       "    .dataframe tbody tr th {\n",
       "        vertical-align: top;\n",
       "    }\n",
       "\n",
       "    .dataframe thead th {\n",
       "        text-align: right;\n",
       "    }\n",
       "</style>\n",
       "<table border=\"1\" class=\"dataframe\">\n",
       "  <thead>\n",
       "    <tr style=\"text-align: right;\">\n",
       "      <th></th>\n",
       "      <th>id</th>\n",
       "      <th>name</th>\n",
       "      <th>street_address</th>\n",
       "      <th>city</th>\n",
       "      <th>region</th>\n",
       "      <th>postal_code</th>\n",
       "    </tr>\n",
       "  </thead>\n",
       "  <tbody>\n",
       "    <tr>\n",
       "      <th>0</th>\n",
       "      <td>226-222@5xc-kc4-fpv</td>\n",
       "      <td>Multnomah   County   Library Capitol Hill</td>\n",
       "      <td>10723 SW capitol Hwy</td>\n",
       "      <td>Portland</td>\n",
       "      <td>OR</td>\n",
       "      <td>97219</td>\n",
       "    </tr>\n",
       "    <tr>\n",
       "      <th>1</th>\n",
       "      <td>23v-222@5xc-jv7-v4v</td>\n",
       "      <td>Multnomah County Library Northwest</td>\n",
       "      <td>2300 NW Thurman  St</td>\n",
       "      <td>NaN</td>\n",
       "      <td>or</td>\n",
       "      <td>NaN</td>\n",
       "    </tr>\n",
       "    <tr>\n",
       "      <th>2</th>\n",
       "      <td>222-222@5xc-jvf-skf</td>\n",
       "      <td>Multnomah County Library St Johns</td>\n",
       "      <td>7510 N Charleston Ave</td>\n",
       "      <td>portland</td>\n",
       "      <td>or</td>\n",
       "      <td>97203</td>\n",
       "    </tr>\n",
       "  </tbody>\n",
       "</table>\n",
       "</div>"
      ],
      "text/plain": [
       "                    id                                       name  \\\n",
       "0  226-222@5xc-kc4-fpv  Multnomah   County   Library Capitol Hill   \n",
       "1  23v-222@5xc-jv7-v4v         Multnomah County Library Northwest   \n",
       "2  222-222@5xc-jvf-skf          Multnomah County Library St Johns   \n",
       "\n",
       "          street_address       city region postal_code  \n",
       "0   10723 SW capitol Hwy  Portland     OR        97219  \n",
       "1    2300 NW Thurman  St        NaN     or         NaN  \n",
       "2  7510 N Charleston Ave   portland     or       97203  "
      ]
     },
     "execution_count": 256,
     "metadata": {},
     "output_type": "execute_result"
    }
   ],
   "source": [
    "libraries_df.head(3)"
   ]
  },
  {
   "cell_type": "code",
   "execution_count": 257,
   "id": "d95a4749-12c4-4bc5-af97-de89aed84f83",
   "metadata": {},
   "outputs": [],
   "source": [
    "checkouts_df = checkouts_df.merge(libraries_df, left_on='library_id', right_on='id', suffixes=('', '_library' ))"
   ]
  }
 ],
 "metadata": {
  "kernelspec": {
   "display_name": "Python 3 (ipykernel)",
   "language": "python",
   "name": "python3"
  },
  "language_info": {
   "codemirror_mode": {
    "name": "ipython",
    "version": 3
   },
   "file_extension": ".py",
   "mimetype": "text/x-python",
   "name": "python",
   "nbconvert_exporter": "python",
   "pygments_lexer": "ipython3",
   "version": "3.11.9"
  }
 },
 "nbformat": 4,
 "nbformat_minor": 5
}
