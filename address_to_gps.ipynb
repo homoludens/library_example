{
 "cells": [
  {
   "cell_type": "markdown",
   "id": "d999558b-f04c-4cef-a4a8-bce6236dd825",
   "metadata": {},
   "source": [
    "I didn't have time to clean this notebook. Trying to not overuse free service pushed me to some unnecesary repeating after cleaning iteratitions.\n",
    "\n",
    "Basicaly it is very simple:\n",
    "- load custormer and libraries addreses\n",
    "- filter out duplicates\n",
    "- query the service\n",
    "- save resultes in csv file as cache\n",
    "- use csv file in other notebook"
   ]
  },
  {
   "cell_type": "code",
   "execution_count": 38,
   "id": "dad511f4-c1a0-41c8-a22c-47ab3a019290",
   "metadata": {},
   "outputs": [],
   "source": [
    "from geopy.geocoders import Nominatim\n",
    "import time\n",
    "from shapely import Point\n",
    "import pandas as pd\n",
    "import geopandas as gpd\n",
    "import datetime \n",
    "\n",
    "geolocator = Nominatim(user_agent=\"marko@droopia.net\")\n",
    "\n",
    "def get_gps_coordinates(address):\n",
    "    \"\"\"\n",
    "    Transform address to GPS coordinates.\n",
    "\n",
    "    Example usage\n",
    "    get_gps_coordinates('6008 SE 49TH AVE, PORTLAND, OR')\n",
    "    \"\"\"\n",
    "    time.sleep(1.4)\n",
    "    location = geolocator.geocode(address)\n",
    "    if location:\n",
    "        return location.longitude, location.latitude\n",
    "    else:\n",
    "        return None\n",
    "\n",
    "\n",
    "def split_point(point_str):\n",
    "    \"\"\"\n",
    "    # Remove the \"POINT (\" and \")\" part from the string\n",
    "    # Example usage\n",
    "    point = \"POINT (-122.6187 45.5234)\"\n",
    "    longitude, latitude = split_point(point)\n",
    "    \"\"\"\n",
    "\n",
    "    point_str = point_str.replace(\"POINT (\", \"\").replace(\")\", \"\")\n",
    "    longitude, latitude = point_str.split()\n",
    "\n",
    "    return longitude, latitude\n",
    "\n"
   ]
  },
  {
   "cell_type": "code",
   "execution_count": null,
   "id": "959f8798-5133-4583-9102-b3a26e68488d",
   "metadata": {},
   "outputs": [],
   "source": []
  },
  {
   "cell_type": "code",
   "execution_count": 5,
   "id": "976273d6-a695-4123-b53f-84a175afa20f",
   "metadata": {},
   "outputs": [],
   "source": [
    "customers_df = pd.read_pickle('data/customers_df.pickle')"
   ]
  },
  {
   "cell_type": "code",
   "execution_count": 6,
   "id": "10dc84f8-810a-4723-9a8d-17be8fa1ac02",
   "metadata": {},
   "outputs": [],
   "source": [
    "libraries_df = pd.read_pickle('data/libraries_df.pickle')"
   ]
  },
  {
   "cell_type": "code",
   "execution_count": 9,
   "id": "d86ab72a-eb18-42cc-bbe2-c301aeb5c3ed",
   "metadata": {},
   "outputs": [
    {
     "data": {
      "text/html": [
       "<div>\n",
       "<style scoped>\n",
       "    .dataframe tbody tr th:only-of-type {\n",
       "        vertical-align: middle;\n",
       "    }\n",
       "\n",
       "    .dataframe tbody tr th {\n",
       "        vertical-align: top;\n",
       "    }\n",
       "\n",
       "    .dataframe thead th {\n",
       "        text-align: right;\n",
       "    }\n",
       "</style>\n",
       "<table border=\"1\" class=\"dataframe\">\n",
       "  <thead>\n",
       "    <tr style=\"text-align: right;\">\n",
       "      <th></th>\n",
       "      <th>patron_id</th>\n",
       "      <th>customer_name</th>\n",
       "      <th>customer_street_address</th>\n",
       "      <th>customer_city</th>\n",
       "      <th>customer_state</th>\n",
       "      <th>customer_zipcode</th>\n",
       "      <th>customer_birth_date</th>\n",
       "      <th>customer_gender</th>\n",
       "      <th>customer_education</th>\n",
       "      <th>customer_occupation</th>\n",
       "      <th>customer_years_old</th>\n",
       "      <th>customer_address</th>\n",
       "      <th>geometry</th>\n",
       "      <th>longitude</th>\n",
       "      <th>latitude</th>\n",
       "    </tr>\n",
       "  </thead>\n",
       "  <tbody>\n",
       "    <tr>\n",
       "      <th>0</th>\n",
       "      <td>df83ec2d0d409395c0d8c2690cfa8b67</td>\n",
       "      <td>Cynthia Barnfield</td>\n",
       "      <td>44 NE MEIKLE PL</td>\n",
       "      <td>PORTLAND</td>\n",
       "      <td>OREGON</td>\n",
       "      <td>97213</td>\n",
       "      <td>2009-09-10</td>\n",
       "      <td>FEMALE</td>\n",
       "      <td>HIGHSCHOOL</td>\n",
       "      <td>NA</td>\n",
       "      <td>11</td>\n",
       "      <td>44 NE MEIKLE PL, PORTLAND, OREGON</td>\n",
       "      <td>POINT (-122.61875 45.52349)</td>\n",
       "      <td>-122.61875283330345</td>\n",
       "      <td>45.52348805</td>\n",
       "    </tr>\n",
       "    <tr>\n",
       "      <th>1</th>\n",
       "      <td>6aec7ab2ea0d67161dac39e5dcabd857</td>\n",
       "      <td>Elizabeth Smith</td>\n",
       "      <td>7511 SE HARRISON ST</td>\n",
       "      <td>PORTLAND</td>\n",
       "      <td>OREGON</td>\n",
       "      <td>97215</td>\n",
       "      <td>1956-12-15</td>\n",
       "      <td>FEMALE</td>\n",
       "      <td>COLLEGE</td>\n",
       "      <td>BLUECOLLAR</td>\n",
       "      <td>64</td>\n",
       "      <td>7511 SE HARRISON ST, PORTLAND, OREGON</td>\n",
       "      <td>POINT (-122.58601 45.50912)</td>\n",
       "      <td>-122.58601213138911</td>\n",
       "      <td>45.509121</td>\n",
       "    </tr>\n",
       "  </tbody>\n",
       "</table>\n",
       "</div>"
      ],
      "text/plain": [
       "                          patron_id      customer_name  \\\n",
       "0  df83ec2d0d409395c0d8c2690cfa8b67  Cynthia Barnfield   \n",
       "1  6aec7ab2ea0d67161dac39e5dcabd857    Elizabeth Smith   \n",
       "\n",
       "  customer_street_address customer_city customer_state  customer_zipcode  \\\n",
       "0         44 NE MEIKLE PL      PORTLAND         OREGON             97213   \n",
       "1     7511 SE HARRISON ST      PORTLAND         OREGON             97215   \n",
       "\n",
       "  customer_birth_date customer_gender customer_education customer_occupation  \\\n",
       "0          2009-09-10          FEMALE         HIGHSCHOOL                  NA   \n",
       "1          1956-12-15          FEMALE            COLLEGE          BLUECOLLAR   \n",
       "\n",
       "   customer_years_old                       customer_address  \\\n",
       "0                  11      44 NE MEIKLE PL, PORTLAND, OREGON   \n",
       "1                  64  7511 SE HARRISON ST, PORTLAND, OREGON   \n",
       "\n",
       "                      geometry            longitude     latitude  \n",
       "0  POINT (-122.61875 45.52349)  -122.61875283330345  45.52348805  \n",
       "1  POINT (-122.58601 45.50912)  -122.58601213138911    45.509121  "
      ]
     },
     "execution_count": 9,
     "metadata": {},
     "output_type": "execute_result"
    }
   ],
   "source": [
    "customers_df.head(2)"
   ]
  },
  {
   "cell_type": "code",
   "execution_count": 10,
   "id": "41fa555f-534a-4762-8777-cab61ec0d33f",
   "metadata": {},
   "outputs": [],
   "source": [
    "address_list = customers_df['customer_address'].drop_duplicates().to_list() + libraries_df['address'].drop_duplicates().to_list()"
   ]
  },
  {
   "cell_type": "code",
   "execution_count": 26,
   "id": "52659f07-7889-48d2-af6d-4b927ce49fcc",
   "metadata": {},
   "outputs": [],
   "source": []
  },
  {
   "cell_type": "markdown",
   "id": "31661e70-a6e1-401e-ac35-c063bb833b13",
   "metadata": {},
   "source": [
    "Load cached coordinates:"
   ]
  },
  {
   "cell_type": "code",
   "execution_count": 11,
   "id": "33aed13e-4e41-4a8e-84d8-579f34f319e3",
   "metadata": {},
   "outputs": [],
   "source": [
    "coordinates_list_df = pd.read_pickle('data/coordinates_list_gdf.pickle')"
   ]
  },
  {
   "cell_type": "code",
   "execution_count": 252,
   "id": "6ba06a80-ee3a-44e1-a796-c295e0ad6867",
   "metadata": {},
   "outputs": [],
   "source": [
    "# coordinates_list_df = gpd.GeoDataFrame()\n",
    "# coordinates_list_df = pd.concat([coordinates_list_df, pd.read_csv('data/coordinates_list_1293.csv').drop('Unnamed: 0', axis=1)])\n",
    "# coordinates_list_df = pd.concat([coordinates_list_df, pd.read_csv('data/coordinates_list_1915.csv').drop('Unnamed: 0', axis=1)])\n",
    "# coordinates_list_df = pd.concat([coordinates_list_df, pd.read_csv('data/coordinates_list_3.csv').drop('Unnamed: 0', axis=1)])\n",
    "# coordinates_list_df = pd.concat([coordinates_list_df, pd.read_csv('data/coordinates_list_4.csv').drop('Unnamed: 0', axis=1)])\n",
    "# coordinates_list_df = pd.concat([coordinates_list_df, pd.read_csv('data/coordinates_list_NEW5.csv').drop('Unnamed: 0', axis=1)])\n",
    "\n",
    "# # pd.read_csv('data/coordinates_list_1915.csv').drop('Unnamed: 0', axis=1)\n",
    "# coordinates_list_df = coordinates_list_df.drop('Unnamed: 3', axis=1)"
   ]
  },
  {
   "cell_type": "code",
   "execution_count": 12,
   "id": "e9813f5b-9958-40a8-85d5-40fa0afd6b3e",
   "metadata": {},
   "outputs": [],
   "source": [
    "# coordinates_list_df.to_csv('data/coordinates_list.csv')"
   ]
  },
  {
   "cell_type": "code",
   "execution_count": 13,
   "id": "8686bd4e-e599-49dc-be2f-9ecd2c465ead",
   "metadata": {},
   "outputs": [
    {
     "data": {
      "text/html": [
       "<div>\n",
       "<style scoped>\n",
       "    .dataframe tbody tr th:only-of-type {\n",
       "        vertical-align: middle;\n",
       "    }\n",
       "\n",
       "    .dataframe tbody tr th {\n",
       "        vertical-align: top;\n",
       "    }\n",
       "\n",
       "    .dataframe thead th {\n",
       "        text-align: right;\n",
       "    }\n",
       "</style>\n",
       "<table border=\"1\" class=\"dataframe\">\n",
       "  <thead>\n",
       "    <tr style=\"text-align: right;\">\n",
       "      <th></th>\n",
       "      <th>address</th>\n",
       "      <th>geometry</th>\n",
       "      <th>longitude</th>\n",
       "      <th>latitude</th>\n",
       "    </tr>\n",
       "  </thead>\n",
       "  <tbody>\n",
       "    <tr>\n",
       "      <th>0</th>\n",
       "      <td>44 NE MEIKLE PL, PORTLAND, OREGON</td>\n",
       "      <td>POINT (-122.61875 45.52349)</td>\n",
       "      <td>-122.61875283330345</td>\n",
       "      <td>45.52348805</td>\n",
       "    </tr>\n",
       "    <tr>\n",
       "      <th>1</th>\n",
       "      <td>7511 SE HARRISON ST, PORTLAND, OREGON</td>\n",
       "      <td>POINT (-122.58601 45.50912)</td>\n",
       "      <td>-122.58601213138911</td>\n",
       "      <td>45.509121</td>\n",
       "    </tr>\n",
       "  </tbody>\n",
       "</table>\n",
       "</div>"
      ],
      "text/plain": [
       "                                 address                     geometry  \\\n",
       "0      44 NE MEIKLE PL, PORTLAND, OREGON  POINT (-122.61875 45.52349)   \n",
       "1  7511 SE HARRISON ST, PORTLAND, OREGON  POINT (-122.58601 45.50912)   \n",
       "\n",
       "             longitude     latitude  \n",
       "0  -122.61875283330345  45.52348805  \n",
       "1  -122.58601213138911    45.509121  "
      ]
     },
     "execution_count": 13,
     "metadata": {},
     "output_type": "execute_result"
    }
   ],
   "source": [
    "coordinates_list_df.head(2)"
   ]
  },
  {
   "cell_type": "code",
   "execution_count": 269,
   "id": "09e26409-2f78-47cc-bac3-33a1bdaf32cf",
   "metadata": {},
   "outputs": [],
   "source": []
  },
  {
   "cell_type": "code",
   "execution_count": 268,
   "id": "b51f84e3-adca-45eb-b052-b9c8606e0f9f",
   "metadata": {},
   "outputs": [],
   "source": []
  },
  {
   "cell_type": "code",
   "execution_count": 2,
   "id": "3f718f83-7d61-43be-a8b2-8e653cd25946",
   "metadata": {},
   "outputs": [],
   "source": [
    "# coordinates_list_df.head(5)"
   ]
  },
  {
   "cell_type": "code",
   "execution_count": 151,
   "id": "e161566c-534c-4713-9e77-1eee79956e64",
   "metadata": {},
   "outputs": [],
   "source": [
    "# coordinates_list_gdf[coordinates_list_gdf.address.str.contains('N/A')]"
   ]
  },
  {
   "cell_type": "code",
   "execution_count": 14,
   "id": "59a17b0d-8aa3-412b-b2b3-ce8054cc3895",
   "metadata": {},
   "outputs": [
    {
     "data": {
      "text/html": [
       "<div>\n",
       "<style scoped>\n",
       "    .dataframe tbody tr th:only-of-type {\n",
       "        vertical-align: middle;\n",
       "    }\n",
       "\n",
       "    .dataframe tbody tr th {\n",
       "        vertical-align: top;\n",
       "    }\n",
       "\n",
       "    .dataframe thead th {\n",
       "        text-align: right;\n",
       "    }\n",
       "</style>\n",
       "<table border=\"1\" class=\"dataframe\">\n",
       "  <thead>\n",
       "    <tr style=\"text-align: right;\">\n",
       "      <th></th>\n",
       "      <th>address</th>\n",
       "      <th>geometry</th>\n",
       "      <th>longitude</th>\n",
       "      <th>latitude</th>\n",
       "    </tr>\n",
       "  </thead>\n",
       "  <tbody>\n",
       "  </tbody>\n",
       "</table>\n",
       "</div>"
      ],
      "text/plain": [
       "Empty GeoDataFrame\n",
       "Columns: [address, geometry, longitude, latitude]\n",
       "Index: []"
      ]
     },
     "execution_count": 14,
     "metadata": {},
     "output_type": "execute_result"
    }
   ],
   "source": [
    "coordinates_list_df[coordinates_list_df.geometry.isna()]"
   ]
  },
  {
   "cell_type": "code",
   "execution_count": 15,
   "id": "03583e3e-25e9-4c72-904b-292e978f1aa2",
   "metadata": {},
   "outputs": [],
   "source": [
    "coordinates_list_df = coordinates_list_df[~coordinates_list_df.geometry.isna()].copy()"
   ]
  },
  {
   "cell_type": "code",
   "execution_count": 18,
   "id": "ddacb3a7-dfe9-438d-bfa1-db59835ca4c6",
   "metadata": {},
   "outputs": [],
   "source": [
    "coordinates_list_df[['longitude', 'latitude']] = coordinates_list_df.geometry.apply(lambda x: pd.Series(split_point(str(x))))"
   ]
  },
  {
   "cell_type": "code",
   "execution_count": 19,
   "id": "2783079c-ca7b-4373-b503-c0fcceed8e08",
   "metadata": {},
   "outputs": [
    {
     "data": {
      "text/html": [
       "<div>\n",
       "<style scoped>\n",
       "    .dataframe tbody tr th:only-of-type {\n",
       "        vertical-align: middle;\n",
       "    }\n",
       "\n",
       "    .dataframe tbody tr th {\n",
       "        vertical-align: top;\n",
       "    }\n",
       "\n",
       "    .dataframe thead th {\n",
       "        text-align: right;\n",
       "    }\n",
       "</style>\n",
       "<table border=\"1\" class=\"dataframe\">\n",
       "  <thead>\n",
       "    <tr style=\"text-align: right;\">\n",
       "      <th></th>\n",
       "      <th>address</th>\n",
       "      <th>geometry</th>\n",
       "      <th>longitude</th>\n",
       "      <th>latitude</th>\n",
       "    </tr>\n",
       "  </thead>\n",
       "  <tbody>\n",
       "    <tr>\n",
       "      <th>0</th>\n",
       "      <td>44 NE MEIKLE PL, PORTLAND, OREGON</td>\n",
       "      <td>POINT (-122.61875 45.52349)</td>\n",
       "      <td>-122.61875283330345</td>\n",
       "      <td>45.52348805</td>\n",
       "    </tr>\n",
       "    <tr>\n",
       "      <th>1</th>\n",
       "      <td>7511 SE HARRISON ST, PORTLAND, OREGON</td>\n",
       "      <td>POINT (-122.58601 45.50912)</td>\n",
       "      <td>-122.58601213138911</td>\n",
       "      <td>45.509121</td>\n",
       "    </tr>\n",
       "  </tbody>\n",
       "</table>\n",
       "</div>"
      ],
      "text/plain": [
       "                                 address                     geometry  \\\n",
       "0      44 NE MEIKLE PL, PORTLAND, OREGON  POINT (-122.61875 45.52349)   \n",
       "1  7511 SE HARRISON ST, PORTLAND, OREGON  POINT (-122.58601 45.50912)   \n",
       "\n",
       "             longitude     latitude  \n",
       "0  -122.61875283330345  45.52348805  \n",
       "1  -122.58601213138911    45.509121  "
      ]
     },
     "execution_count": 19,
     "metadata": {},
     "output_type": "execute_result"
    }
   ],
   "source": [
    "coordinates_list_df.head(2)"
   ]
  },
  {
   "cell_type": "code",
   "execution_count": 20,
   "id": "8ddd44e8-7d95-4bc5-b6d6-dd22907e2a81",
   "metadata": {},
   "outputs": [],
   "source": [
    "coordinates_list_df['longitude'] = coordinates_list_df.apply(lambda x: x.longitude.replace('(','').replace(',',''), axis=1) "
   ]
  },
  {
   "cell_type": "code",
   "execution_count": 21,
   "id": "624074e2-8b17-4cab-b6da-10600d5bc5d6",
   "metadata": {},
   "outputs": [],
   "source": [
    "coordinates_list_df['geometry'] = coordinates_list_df.apply(lambda x: Point(x.longitude.replace('(','').replace(',',''), x.latitude) , axis=1) "
   ]
  },
  {
   "cell_type": "code",
   "execution_count": 22,
   "id": "0f9a1372-d8e7-467c-a240-087d1d30d32f",
   "metadata": {},
   "outputs": [
    {
     "data": {
      "text/html": [
       "<div>\n",
       "<style scoped>\n",
       "    .dataframe tbody tr th:only-of-type {\n",
       "        vertical-align: middle;\n",
       "    }\n",
       "\n",
       "    .dataframe tbody tr th {\n",
       "        vertical-align: top;\n",
       "    }\n",
       "\n",
       "    .dataframe thead th {\n",
       "        text-align: right;\n",
       "    }\n",
       "</style>\n",
       "<table border=\"1\" class=\"dataframe\">\n",
       "  <thead>\n",
       "    <tr style=\"text-align: right;\">\n",
       "      <th></th>\n",
       "      <th>address</th>\n",
       "      <th>geometry</th>\n",
       "      <th>longitude</th>\n",
       "      <th>latitude</th>\n",
       "    </tr>\n",
       "  </thead>\n",
       "  <tbody>\n",
       "    <tr>\n",
       "      <th>0</th>\n",
       "      <td>44 NE MEIKLE PL, PORTLAND, OREGON</td>\n",
       "      <td>POINT (-122.61875 45.52349)</td>\n",
       "      <td>-122.61875283330345</td>\n",
       "      <td>45.52348805</td>\n",
       "    </tr>\n",
       "    <tr>\n",
       "      <th>1</th>\n",
       "      <td>7511 SE HARRISON ST, PORTLAND, OREGON</td>\n",
       "      <td>POINT (-122.58601 45.50912)</td>\n",
       "      <td>-122.58601213138911</td>\n",
       "      <td>45.509121</td>\n",
       "    </tr>\n",
       "  </tbody>\n",
       "</table>\n",
       "</div>"
      ],
      "text/plain": [
       "                                 address                     geometry  \\\n",
       "0      44 NE MEIKLE PL, PORTLAND, OREGON  POINT (-122.61875 45.52349)   \n",
       "1  7511 SE HARRISON ST, PORTLAND, OREGON  POINT (-122.58601 45.50912)   \n",
       "\n",
       "             longitude     latitude  \n",
       "0  -122.61875283330345  45.52348805  \n",
       "1  -122.58601213138911    45.509121  "
      ]
     },
     "execution_count": 22,
     "metadata": {},
     "output_type": "execute_result"
    }
   ],
   "source": [
    "coordinates_list_df.head(2)"
   ]
  },
  {
   "cell_type": "code",
   "execution_count": 23,
   "id": "5252b07a-3c8f-4f91-a235-29697f8a813e",
   "metadata": {},
   "outputs": [],
   "source": [
    "coordinates_list_gdf = gpd.GeoDataFrame(coordinates_list_df, geometry='geometry', crs='EPSG:4326')"
   ]
  },
  {
   "cell_type": "code",
   "execution_count": 24,
   "id": "a78d6a7d-8646-4292-8a09-43958c7d8b6b",
   "metadata": {},
   "outputs": [
    {
     "data": {
      "text/html": [
       "<div>\n",
       "<style scoped>\n",
       "    .dataframe tbody tr th:only-of-type {\n",
       "        vertical-align: middle;\n",
       "    }\n",
       "\n",
       "    .dataframe tbody tr th {\n",
       "        vertical-align: top;\n",
       "    }\n",
       "\n",
       "    .dataframe thead th {\n",
       "        text-align: right;\n",
       "    }\n",
       "</style>\n",
       "<table border=\"1\" class=\"dataframe\">\n",
       "  <thead>\n",
       "    <tr style=\"text-align: right;\">\n",
       "      <th></th>\n",
       "      <th>address</th>\n",
       "      <th>geometry</th>\n",
       "      <th>longitude</th>\n",
       "      <th>latitude</th>\n",
       "    </tr>\n",
       "  </thead>\n",
       "  <tbody>\n",
       "    <tr>\n",
       "      <th>0</th>\n",
       "      <td>44 NE MEIKLE PL, PORTLAND, OREGON</td>\n",
       "      <td>POINT (-122.61875 45.52349)</td>\n",
       "      <td>-122.61875283330345</td>\n",
       "      <td>45.52348805</td>\n",
       "    </tr>\n",
       "    <tr>\n",
       "      <th>1</th>\n",
       "      <td>7511 SE HARRISON ST, PORTLAND, OREGON</td>\n",
       "      <td>POINT (-122.58601 45.50912)</td>\n",
       "      <td>-122.58601213138911</td>\n",
       "      <td>45.509121</td>\n",
       "    </tr>\n",
       "  </tbody>\n",
       "</table>\n",
       "</div>"
      ],
      "text/plain": [
       "                                 address                     geometry  \\\n",
       "0      44 NE MEIKLE PL, PORTLAND, OREGON  POINT (-122.61875 45.52349)   \n",
       "1  7511 SE HARRISON ST, PORTLAND, OREGON  POINT (-122.58601 45.50912)   \n",
       "\n",
       "             longitude     latitude  \n",
       "0  -122.61875283330345  45.52348805  \n",
       "1  -122.58601213138911    45.509121  "
      ]
     },
     "execution_count": 24,
     "metadata": {},
     "output_type": "execute_result"
    }
   ],
   "source": [
    "coordinates_list_gdf.head(2)"
   ]
  },
  {
   "cell_type": "code",
   "execution_count": 25,
   "id": "530248d0-0817-49da-8e03-c5186958f2f9",
   "metadata": {},
   "outputs": [],
   "source": [
    "coordinates_list_gdf = coordinates_list_gdf[~coordinates_list_gdf.address.str.contains('N/A')]"
   ]
  },
  {
   "cell_type": "code",
   "execution_count": null,
   "id": "2b9611e6-e87e-48d6-96fa-19c407e8a6f1",
   "metadata": {},
   "outputs": [],
   "source": []
  },
  {
   "cell_type": "markdown",
   "id": "7ec0ebe8-ddb1-48af-b49d-2334460cd575",
   "metadata": {},
   "source": [
    "Test service and our data"
   ]
  },
  {
   "cell_type": "code",
   "execution_count": 27,
   "id": "3f82086f-63b7-4696-86ad-36511a656674",
   "metadata": {},
   "outputs": [
    {
     "data": {
      "text/plain": [
       "(-122.61210650846269, 45.47900505)"
      ]
     },
     "execution_count": 27,
     "metadata": {},
     "output_type": "execute_result"
    }
   ],
   "source": [
    "get_gps_coordinates('6008 SE 49TH AVE, PORTLAND, OR')"
   ]
  },
  {
   "cell_type": "code",
   "execution_count": 28,
   "id": "d7d0168a-8087-4187-9c44-2af798dcfbd3",
   "metadata": {},
   "outputs": [
    {
     "data": {
      "text/html": [
       "<div>\n",
       "<style scoped>\n",
       "    .dataframe tbody tr th:only-of-type {\n",
       "        vertical-align: middle;\n",
       "    }\n",
       "\n",
       "    .dataframe tbody tr th {\n",
       "        vertical-align: top;\n",
       "    }\n",
       "\n",
       "    .dataframe thead th {\n",
       "        text-align: right;\n",
       "    }\n",
       "</style>\n",
       "<table border=\"1\" class=\"dataframe\">\n",
       "  <thead>\n",
       "    <tr style=\"text-align: right;\">\n",
       "      <th></th>\n",
       "      <th>address</th>\n",
       "      <th>geometry</th>\n",
       "      <th>longitude</th>\n",
       "      <th>latitude</th>\n",
       "    </tr>\n",
       "  </thead>\n",
       "  <tbody>\n",
       "    <tr>\n",
       "      <th>5</th>\n",
       "      <td>6008 SE 49TH AVE, PORTLAND, OR</td>\n",
       "      <td>POINT (-122.61211 45.47901)</td>\n",
       "      <td>-122.61210650846269</td>\n",
       "      <td>45.47900505</td>\n",
       "    </tr>\n",
       "  </tbody>\n",
       "</table>\n",
       "</div>"
      ],
      "text/plain": [
       "                          address                     geometry  \\\n",
       "5  6008 SE 49TH AVE, PORTLAND, OR  POINT (-122.61211 45.47901)   \n",
       "\n",
       "             longitude     latitude  \n",
       "5  -122.61210650846269  45.47900505  "
      ]
     },
     "execution_count": 28,
     "metadata": {},
     "output_type": "execute_result"
    }
   ],
   "source": [
    "coordinates_list_df[coordinates_list_df.address=='6008 SE 49TH AVE, PORTLAND, OR']"
   ]
  },
  {
   "cell_type": "code",
   "execution_count": 29,
   "id": "b817df48-91fe-46f2-8d8e-1f8fdd11d047",
   "metadata": {},
   "outputs": [],
   "source": [
    "# address_list_2 = []\n",
    "# for a in address_list:\n",
    "#     if ('N/A' in a):\n",
    "#         print(a)\n",
    "#     else: \n",
    "#         address_list_2.append(a)"
   ]
  },
  {
   "cell_type": "code",
   "execution_count": 30,
   "id": "49a00123-414e-410b-89e1-3f5916baa71b",
   "metadata": {},
   "outputs": [],
   "source": [
    "# len(address_list_2)\n",
    "\n",
    "# address_list_3 = []\n",
    "# for a in address_list_2:\n",
    "#     if ('NA' in a):\n",
    "#         print(a)\n",
    "#     # else: \n",
    "#     #     address_list_3.append(a)"
   ]
  },
  {
   "cell_type": "code",
   "execution_count": 31,
   "id": "05a77ce3-5f4f-41be-ae3f-587d1b336c9a",
   "metadata": {},
   "outputs": [],
   "source": [
    "# coordinates_list_df"
   ]
  },
  {
   "cell_type": "code",
   "execution_count": 32,
   "id": "7f5ecfc6-15e1-4503-9c25-f439d9b67262",
   "metadata": {},
   "outputs": [],
   "source": [
    "# address_list_3 = pd.read_csv('data/customer_new5.csv').customer_address.to_list()"
   ]
  },
  {
   "cell_type": "code",
   "execution_count": 33,
   "id": "f00424c7-f42e-4295-adce-84ff58a34262",
   "metadata": {},
   "outputs": [],
   "source": [
    "\n"
   ]
  },
  {
   "cell_type": "markdown",
   "id": "6d77528c-35d5-45b0-9068-bfe629ec9931",
   "metadata": {},
   "source": [
    "Query only coordinates we don't have in our cache"
   ]
  },
  {
   "cell_type": "code",
   "execution_count": 267,
   "id": "a5cebd6e-1f58-4bbd-890c-99d9975d20bf",
   "metadata": {},
   "outputs": [],
   "source": [
    "coordinates_list = []\n",
    "i = 0\n",
    "\n",
    "for address in address_list:\n",
    "    i = i + 1\n",
    "    if (coordinates_list_df[coordinates_list_df.address==address].shape[0] == 0):\n",
    "        print(i, address)\n",
    "        coordinates_list.append({\n",
    "            'address': address,\n",
    "            'geometry': get_gps_coordinates(address)\n",
    "        })\n",
    "        # print(i, address)\n",
    "    gpd.GeoDataFrame(coordinates_list).to_csv('data/coordinates_list_NEW5.csv')\n"
   ]
  },
  {
   "cell_type": "code",
   "execution_count": 250,
   "id": "2b013208-86fe-4ec7-b8c9-1e4de2519f9b",
   "metadata": {},
   "outputs": [
    {
     "data": {
      "text/html": [
       "<div>\n",
       "<style scoped>\n",
       "    .dataframe tbody tr th:only-of-type {\n",
       "        vertical-align: middle;\n",
       "    }\n",
       "\n",
       "    .dataframe tbody tr th {\n",
       "        vertical-align: top;\n",
       "    }\n",
       "\n",
       "    .dataframe thead th {\n",
       "        text-align: right;\n",
       "    }\n",
       "</style>\n",
       "<table border=\"1\" class=\"dataframe\">\n",
       "  <thead>\n",
       "    <tr style=\"text-align: right;\">\n",
       "      <th></th>\n",
       "      <th>address</th>\n",
       "      <th>geometry</th>\n",
       "    </tr>\n",
       "  </thead>\n",
       "  <tbody>\n",
       "    <tr>\n",
       "      <th>0</th>\n",
       "      <td>4960 SW 31ST DR, PORTLAND, OREGON</td>\n",
       "      <td>(-122.709383, 45.486966249999995)</td>\n",
       "    </tr>\n",
       "    <tr>\n",
       "      <th>1</th>\n",
       "      <td>14230 SW ALPINE CREST WAY, PORTLAND, OREGON</td>\n",
       "      <td>None</td>\n",
       "    </tr>\n",
       "    <tr>\n",
       "      <th>2</th>\n",
       "      <td>3624 N LEVERMAN ST, PORTLAND, OREGON</td>\n",
       "      <td>(-122.7051396122449, 45.569292469387754)</td>\n",
       "    </tr>\n",
       "    <tr>\n",
       "      <th>3</th>\n",
       "      <td>1920 NW 18TH AVE, PORTLAND, OREGON</td>\n",
       "      <td>(-122.68961548979591, 45.53659271428571)</td>\n",
       "    </tr>\n",
       "    <tr>\n",
       "      <th>4</th>\n",
       "      <td>1201 SE GIDEON ST, PORTLAND, OREGON</td>\n",
       "      <td>(-122.6540210909091, 45.50285397979798)</td>\n",
       "    </tr>\n",
       "    <tr>\n",
       "      <th>...</th>\n",
       "      <td>...</td>\n",
       "      <td>...</td>\n",
       "    </tr>\n",
       "    <tr>\n",
       "      <th>194</th>\n",
       "      <td>10477 SE WAVERLY CT, PORTLAND, OREGON</td>\n",
       "      <td>None</td>\n",
       "    </tr>\n",
       "    <tr>\n",
       "      <th>195</th>\n",
       "      <td>5516 NE ST JAMES RD, VANCOUVER, WASHINGTON</td>\n",
       "      <td>(-122.63855134857835, 45.662288000000004)</td>\n",
       "    </tr>\n",
       "    <tr>\n",
       "      <th>196</th>\n",
       "      <td>7011 SE NORBERT DR, PORTLAND, OREGON</td>\n",
       "      <td>None</td>\n",
       "    </tr>\n",
       "    <tr>\n",
       "      <th>197</th>\n",
       "      <td>6025 NE PRESCOTT ST, PORTLAND, OREGON</td>\n",
       "      <td>(-122.60052433333333, 45.55553112121212)</td>\n",
       "    </tr>\n",
       "    <tr>\n",
       "      <th>198</th>\n",
       "      <td>424 NE BROADWAY ST, PORTLAND, OREGON</td>\n",
       "      <td>None</td>\n",
       "    </tr>\n",
       "  </tbody>\n",
       "</table>\n",
       "<p>199 rows × 2 columns</p>\n",
       "</div>"
      ],
      "text/plain": [
       "                                         address  \\\n",
       "0              4960 SW 31ST DR, PORTLAND, OREGON   \n",
       "1    14230 SW ALPINE CREST WAY, PORTLAND, OREGON   \n",
       "2           3624 N LEVERMAN ST, PORTLAND, OREGON   \n",
       "3             1920 NW 18TH AVE, PORTLAND, OREGON   \n",
       "4            1201 SE GIDEON ST, PORTLAND, OREGON   \n",
       "..                                           ...   \n",
       "194        10477 SE WAVERLY CT, PORTLAND, OREGON   \n",
       "195   5516 NE ST JAMES RD, VANCOUVER, WASHINGTON   \n",
       "196         7011 SE NORBERT DR, PORTLAND, OREGON   \n",
       "197        6025 NE PRESCOTT ST, PORTLAND, OREGON   \n",
       "198         424 NE BROADWAY ST, PORTLAND, OREGON   \n",
       "\n",
       "                                      geometry  \n",
       "0            (-122.709383, 45.486966249999995)  \n",
       "1                                         None  \n",
       "2     (-122.7051396122449, 45.569292469387754)  \n",
       "3     (-122.68961548979591, 45.53659271428571)  \n",
       "4      (-122.6540210909091, 45.50285397979798)  \n",
       "..                                         ...  \n",
       "194                                       None  \n",
       "195  (-122.63855134857835, 45.662288000000004)  \n",
       "196                                       None  \n",
       "197   (-122.60052433333333, 45.55553112121212)  \n",
       "198                                       None  \n",
       "\n",
       "[199 rows x 2 columns]"
      ]
     },
     "execution_count": 250,
     "metadata": {},
     "output_type": "execute_result"
    }
   ],
   "source": [
    "gpd.GeoDataFrame(coordinates_list)"
   ]
  },
  {
   "cell_type": "code",
   "execution_count": 225,
   "id": "84ed6278-1fbe-409d-9f79-15a222dc07e0",
   "metadata": {},
   "outputs": [],
   "source": [
    "coordinates_list_df = gpd.GeoDataFrame(coordinates_list)"
   ]
  },
  {
   "cell_type": "code",
   "execution_count": null,
   "id": "b897be2a-86d4-49db-ac57-8700c35fccf7",
   "metadata": {},
   "outputs": [],
   "source": [
    "coordinates_list_gdf = gpd.GeoDataFrame(coordinates_list_df, geometry='geometry', crs='EPSG:4326')\n",
    "\n",
    "coordinates_list_df.to_pickle('data/coordinates_list_df.pickle')\n",
    "coordinates_list_gdf.to_pickle('data/coordinates_list_gdf.pickle')"
   ]
  },
  {
   "cell_type": "code",
   "execution_count": null,
   "id": "5cd7cb16-d6ae-409e-8d21-78d08c63bb58",
   "metadata": {},
   "outputs": [],
   "source": []
  }
 ],
 "metadata": {
  "kernelspec": {
   "display_name": "Python 3 (ipykernel)",
   "language": "python",
   "name": "python3"
  },
  "language_info": {
   "codemirror_mode": {
    "name": "ipython",
    "version": 3
   },
   "file_extension": ".py",
   "mimetype": "text/x-python",
   "name": "python",
   "nbconvert_exporter": "python",
   "pygments_lexer": "ipython3",
   "version": "3.11.9"
  }
 },
 "nbformat": 4,
 "nbformat_minor": 5
}
